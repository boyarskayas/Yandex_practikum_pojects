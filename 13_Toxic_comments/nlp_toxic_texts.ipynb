{
 "cells": [
  {
   "cell_type": "markdown",
   "metadata": {
    "toc": true
   },
   "source": [
    "<h1>Содержание<span class=\"tocSkip\"></span></h1>\n",
    "<div class=\"toc\"><ul class=\"toc-item\"><li><span><a href=\"#Подготовка\" data-toc-modified-id=\"Подготовка-1\"><span class=\"toc-item-num\">1&nbsp;&nbsp;</span>Подготовка</a></span><ul class=\"toc-item\"><li><span><a href=\"#Импорт-библиотек\" data-toc-modified-id=\"Импорт-библиотек-1.1\"><span class=\"toc-item-num\">1.1&nbsp;&nbsp;</span>Импорт библиотек</a></span></li><li><span><a href=\"#Загрузка-и-изучение-данных\" data-toc-modified-id=\"Загрузка-и-изучение-данных-1.2\"><span class=\"toc-item-num\">1.2&nbsp;&nbsp;</span>Загрузка и изучение данных</a></span></li><li><span><a href=\"#Подготовка-данных\" data-toc-modified-id=\"Подготовка-данных-1.3\"><span class=\"toc-item-num\">1.3&nbsp;&nbsp;</span>Подготовка данных</a></span></li></ul></li><li><span><a href=\"#Обучение\" data-toc-modified-id=\"Обучение-2\"><span class=\"toc-item-num\">2&nbsp;&nbsp;</span>Обучение</a></span><ul class=\"toc-item\"><li><span><a href=\"#LogisticRegression\" data-toc-modified-id=\"LogisticRegression-2.1\"><span class=\"toc-item-num\">2.1&nbsp;&nbsp;</span>LogisticRegression</a></span></li><li><span><a href=\"#RandomForestClassifier\" data-toc-modified-id=\"RandomForestClassifier-2.2\"><span class=\"toc-item-num\">2.2&nbsp;&nbsp;</span>RandomForestClassifier</a></span></li><li><span><a href=\"#CatBoostClassifier\" data-toc-modified-id=\"CatBoostClassifier-2.3\"><span class=\"toc-item-num\">2.3&nbsp;&nbsp;</span>CatBoostClassifier</a></span></li></ul></li><li><span><a href=\"#Выводы\" data-toc-modified-id=\"Выводы-3\"><span class=\"toc-item-num\">3&nbsp;&nbsp;</span>Выводы</a></span></li></ul></div>"
   ]
  },
  {
   "cell_type": "markdown",
   "metadata": {},
   "source": [
    "# Проект для «Викишоп»"
   ]
  },
  {
   "cell_type": "markdown",
   "metadata": {},
   "source": [
    "**Цель исследования:**  \n",
    "\n",
    "Интернет-магазин «Викишоп» запускает новый сервис. Теперь пользователи могут редактировать и дополнять описания товаров, как в вики-сообществах. То есть клиенты предлагают свои правки и комментируют изменения других. Магазину нужен инструмент, который будет искать токсичные комментарии и отправлять их на модерацию. \n",
    "\n",
    "**Задача:**  \n",
    "\n",
    "Обучить модель классифицировать комментарии на позитивные и негативные. В нашем распоряжении набор данных с разметкой о токсичности правок. Значение метрики качества *F1* должно быть не меньше 0.75\n",
    "\n",
    "**Описание данных:**\n",
    "\n",
    "Данные находятся в файле `toxic_comments.csv`.  \n",
    "Столбец `text` в нём содержит текст комментария, а `toxic` — целевой признак."
   ]
  },
  {
   "cell_type": "markdown",
   "metadata": {},
   "source": [
    "## Подготовка"
   ]
  },
  {
   "cell_type": "markdown",
   "metadata": {},
   "source": [
    "### Импорт библиотек"
   ]
  },
  {
   "cell_type": "code",
   "execution_count": 1,
   "metadata": {},
   "outputs": [],
   "source": [
    "import pandas as pd \n",
    "import numpy as np \n",
    "import seaborn as sn \n",
    "import matplotlib.pyplot as plt \n",
    "\n",
    "import random\n",
    "from numpy.random import RandomState\n",
    "import warnings\n",
    "warnings.filterwarnings('ignore')\n",
    "import sklearn\n",
    "import time\n",
    "\n",
    "from sklearn.pipeline import Pipeline\n",
    "from sklearn.model_selection import cross_val_score, train_test_split, GridSearchCV\n",
    "from sklearn.utils import shuffle\n",
    "\n",
    "from sklearn.metrics import f1_score\n",
    "from sklearn.linear_model import LogisticRegression\n",
    "from sklearn.ensemble import RandomForestClassifier\n",
    "from catboost import CatBoostClassifier \n",
    "from sklearn.dummy import DummyClassifier\n",
    "\n",
    "import spacy\n",
    "import string\n",
    "import torch\n",
    "from tqdm import tqdm\n",
    "tqdm.pandas()\n",
    "import re\n",
    "import nltk\n",
    "from nltk.corpus import stopwords\n",
    "from sklearn.feature_extraction.text import TfidfVectorizer, CountVectorizer, TfidfTransformer\n",
    "\n",
    "RND = 12345"
   ]
  },
  {
   "cell_type": "code",
   "execution_count": 2,
   "metadata": {},
   "outputs": [
    {
     "name": "stderr",
     "output_type": "stream",
     "text": [
      "[nltk_data] Downloading package stopwords to /home/jovyan/nltk_data...\n",
      "[nltk_data]   Package stopwords is already up-to-date!\n",
      "[nltk_data] Downloading package wordnet to /home/jovyan/nltk_data...\n",
      "[nltk_data]   Package wordnet is already up-to-date!\n",
      "[nltk_data] Downloading package punkt to /home/jovyan/nltk_data...\n",
      "[nltk_data]   Package punkt is already up-to-date!\n",
      "[nltk_data] Downloading package averaged_perceptron_tagger to\n",
      "[nltk_data]     /home/jovyan/nltk_data...\n",
      "[nltk_data]   Package averaged_perceptron_tagger is already up-to-\n",
      "[nltk_data]       date!\n"
     ]
    },
    {
     "data": {
      "text/plain": [
       "True"
      ]
     },
     "execution_count": 2,
     "metadata": {},
     "output_type": "execute_result"
    }
   ],
   "source": [
    "nltk.download('stopwords')\n",
    "nltk.download('wordnet')\n",
    "nltk.download('punkt')\n",
    "nltk.download('averaged_perceptron_tagger')"
   ]
  },
  {
   "cell_type": "markdown",
   "metadata": {},
   "source": [
    "### Загрузка и изучение данных"
   ]
  },
  {
   "cell_type": "code",
   "execution_count": 3,
   "metadata": {},
   "outputs": [],
   "source": [
    "try:\n",
    "    df = pd.read_csv('/Users/galina/Desktop/учёба/спринт 13. Машиное обучение для текстов/toxic_comments.csv') \n",
    "except:\n",
    "    df = pd.read_csv('/datasets/toxic_comments.csv')"
   ]
  },
  {
   "cell_type": "code",
   "execution_count": 4,
   "metadata": {},
   "outputs": [
    {
     "name": "stdout",
     "output_type": "stream",
     "text": [
      "<class 'pandas.core.frame.DataFrame'>\n",
      "RangeIndex: 159292 entries, 0 to 159291\n",
      "Data columns (total 3 columns):\n",
      " #   Column      Non-Null Count   Dtype \n",
      "---  ------      --------------   ----- \n",
      " 0   Unnamed: 0  159292 non-null  int64 \n",
      " 1   text        159292 non-null  object\n",
      " 2   toxic       159292 non-null  int64 \n",
      "dtypes: int64(2), object(1)\n",
      "memory usage: 3.6+ MB\n"
     ]
    }
   ],
   "source": [
    "df.info()"
   ]
  },
  {
   "cell_type": "code",
   "execution_count": 5,
   "metadata": {},
   "outputs": [
    {
     "data": {
      "text/html": [
       "<div>\n",
       "<style scoped>\n",
       "    .dataframe tbody tr th:only-of-type {\n",
       "        vertical-align: middle;\n",
       "    }\n",
       "\n",
       "    .dataframe tbody tr th {\n",
       "        vertical-align: top;\n",
       "    }\n",
       "\n",
       "    .dataframe thead th {\n",
       "        text-align: right;\n",
       "    }\n",
       "</style>\n",
       "<table border=\"1\" class=\"dataframe\">\n",
       "  <thead>\n",
       "    <tr style=\"text-align: right;\">\n",
       "      <th></th>\n",
       "      <th>Unnamed: 0</th>\n",
       "      <th>text</th>\n",
       "      <th>toxic</th>\n",
       "    </tr>\n",
       "  </thead>\n",
       "  <tbody>\n",
       "    <tr>\n",
       "      <th>0</th>\n",
       "      <td>0</td>\n",
       "      <td>Explanation\\nWhy the edits made under my usern...</td>\n",
       "      <td>0</td>\n",
       "    </tr>\n",
       "    <tr>\n",
       "      <th>1</th>\n",
       "      <td>1</td>\n",
       "      <td>D'aww! He matches this background colour I'm s...</td>\n",
       "      <td>0</td>\n",
       "    </tr>\n",
       "    <tr>\n",
       "      <th>2</th>\n",
       "      <td>2</td>\n",
       "      <td>Hey man, I'm really not trying to edit war. It...</td>\n",
       "      <td>0</td>\n",
       "    </tr>\n",
       "    <tr>\n",
       "      <th>3</th>\n",
       "      <td>3</td>\n",
       "      <td>\"\\nMore\\nI can't make any real suggestions on ...</td>\n",
       "      <td>0</td>\n",
       "    </tr>\n",
       "    <tr>\n",
       "      <th>4</th>\n",
       "      <td>4</td>\n",
       "      <td>You, sir, are my hero. Any chance you remember...</td>\n",
       "      <td>0</td>\n",
       "    </tr>\n",
       "  </tbody>\n",
       "</table>\n",
       "</div>"
      ],
      "text/plain": [
       "   Unnamed: 0                                               text  toxic\n",
       "0           0  Explanation\\nWhy the edits made under my usern...      0\n",
       "1           1  D'aww! He matches this background colour I'm s...      0\n",
       "2           2  Hey man, I'm really not trying to edit war. It...      0\n",
       "3           3  \"\\nMore\\nI can't make any real suggestions on ...      0\n",
       "4           4  You, sir, are my hero. Any chance you remember...      0"
      ]
     },
     "execution_count": 5,
     "metadata": {},
     "output_type": "execute_result"
    }
   ],
   "source": [
    "df.head()"
   ]
  },
  {
   "cell_type": "code",
   "execution_count": 6,
   "metadata": {},
   "outputs": [
    {
     "data": {
      "image/png": "[encoded data removed]",
      "text/plain": [
       "<Figure size 720x360 with 1 Axes>"
      ]
     },
     "metadata": {
      "needs_background": "light"
     },
     "output_type": "display_data"
    }
   ],
   "source": [
    "# посмотрим, сколько в выбрке токсичных/нектоксичных текстов\n",
    "df['toxic'].value_counts().plot.bar(figsize=(10, 5))\n",
    "plt.show()"
   ]
  },
  {
   "cell_type": "code",
   "execution_count": 7,
   "metadata": {},
   "outputs": [
    {
     "data": {
      "text/plain": [
       "0"
      ]
     },
     "execution_count": 7,
     "metadata": {},
     "output_type": "execute_result"
    }
   ],
   "source": [
    "# Проверим наличие дубликатов\n",
    "df.duplicated().sum()"
   ]
  },
  {
   "cell_type": "code",
   "execution_count": 8,
   "metadata": {},
   "outputs": [
    {
     "data": {
      "text/plain": [
       "Unnamed: 0    0\n",
       "text          0\n",
       "toxic         0\n",
       "dtype: int64"
      ]
     },
     "execution_count": 8,
     "metadata": {},
     "output_type": "execute_result"
    }
   ],
   "source": [
    "# Проверим наличие пропусков\n",
    "df.isna().sum()"
   ]
  },
  {
   "cell_type": "markdown",
   "metadata": {},
   "source": [
    "*Первичный анализ:*\n",
    "\n",
    "- В данных 159292 строки\n",
    "- В столбце text содержатся тексты твитов на английском, есть лишние знаки типа \"\\nMore\\n\n",
    "- В столбе toxic булевые значения, является ли данный твит токсичным или нет\n",
    "- 90% твитов отрицательного класса, необходимо учесть дисбаланс при обучении моделей\n",
    "- Необходимо избавиться от столбца Unnamed, так как он фактически дублирует индексы\n",
    "- Явных дубликатов и пропусков нет"
   ]
  },
  {
   "cell_type": "markdown",
   "metadata": {},
   "source": [
    "### Подготовка данных"
   ]
  },
  {
   "cell_type": "markdown",
   "metadata": {},
   "source": [
    "Удаляем столбец Unnamed: 0"
   ]
  },
  {
   "cell_type": "code",
   "execution_count": 9,
   "metadata": {},
   "outputs": [],
   "source": [
    "df = df.drop(['Unnamed: 0'], axis=1)"
   ]
  },
  {
   "cell_type": "markdown",
   "metadata": {},
   "source": [
    "Функция очистки текста (приводим текст к нижнему регистру, оставляем буквы, кавычки и пробелы)"
   ]
  },
  {
   "cell_type": "code",
   "execution_count": 10,
   "metadata": {},
   "outputs": [],
   "source": [
    "def clear_text(text):\n",
    "    clear_text = text.lower()\n",
    "    clear_text = re.sub(r'[^a-zA-Z]', ' ', clear_text)   \n",
    "    clear_text = ' '.join(clear_text.split())\n",
    "    return clear_text"
   ]
  },
  {
   "cell_type": "markdown",
   "metadata": {},
   "source": [
    "Для лемматизации используем  библиотеку SpaCy "
   ]
  },
  {
   "cell_type": "code",
   "execution_count": 11,
   "metadata": {},
   "outputs": [],
   "source": [
    "def lemmatize_spacy(text, lemmatizer):\n",
    "    doc = lemmatizer(text)\n",
    "    lemm_text = \" \".join([token.lemma_ for token in doc])\n",
    "        \n",
    "    return lemm_text"
   ]
  },
  {
   "cell_type": "markdown",
   "metadata": {},
   "source": [
    "Очищаем текст от лишних символов"
   ]
  },
  {
   "cell_type": "code",
   "execution_count": 12,
   "metadata": {},
   "outputs": [
    {
     "name": "stderr",
     "output_type": "stream",
     "text": [
      "100%|██████████| 159292/159292 [00:04<00:00, 32564.90it/s]\n"
     ]
    },
    {
     "data": {
      "text/html": [
       "<div>\n",
       "<style scoped>\n",
       "    .dataframe tbody tr th:only-of-type {\n",
       "        vertical-align: middle;\n",
       "    }\n",
       "\n",
       "    .dataframe tbody tr th {\n",
       "        vertical-align: top;\n",
       "    }\n",
       "\n",
       "    .dataframe thead th {\n",
       "        text-align: right;\n",
       "    }\n",
       "</style>\n",
       "<table border=\"1\" class=\"dataframe\">\n",
       "  <thead>\n",
       "    <tr style=\"text-align: right;\">\n",
       "      <th></th>\n",
       "      <th>text</th>\n",
       "      <th>toxic</th>\n",
       "    </tr>\n",
       "  </thead>\n",
       "  <tbody>\n",
       "    <tr>\n",
       "      <th>0</th>\n",
       "      <td>explanation why the edits made under my userna...</td>\n",
       "      <td>0</td>\n",
       "    </tr>\n",
       "    <tr>\n",
       "      <th>1</th>\n",
       "      <td>d aww he matches this background colour i m se...</td>\n",
       "      <td>0</td>\n",
       "    </tr>\n",
       "    <tr>\n",
       "      <th>2</th>\n",
       "      <td>hey man i m really not trying to edit war it s...</td>\n",
       "      <td>0</td>\n",
       "    </tr>\n",
       "    <tr>\n",
       "      <th>3</th>\n",
       "      <td>more i can t make any real suggestions on impr...</td>\n",
       "      <td>0</td>\n",
       "    </tr>\n",
       "    <tr>\n",
       "      <th>4</th>\n",
       "      <td>you sir are my hero any chance you remember wh...</td>\n",
       "      <td>0</td>\n",
       "    </tr>\n",
       "  </tbody>\n",
       "</table>\n",
       "</div>"
      ],
      "text/plain": [
       "                                                text  toxic\n",
       "0  explanation why the edits made under my userna...      0\n",
       "1  d aww he matches this background colour i m se...      0\n",
       "2  hey man i m really not trying to edit war it s...      0\n",
       "3  more i can t make any real suggestions on impr...      0\n",
       "4  you sir are my hero any chance you remember wh...      0"
      ]
     },
     "execution_count": 12,
     "metadata": {},
     "output_type": "execute_result"
    }
   ],
   "source": [
    "tqdm.pandas()\n",
    "df['text'] = df['text'].progress_apply(clear_text)\n",
    "df.head()"
   ]
  },
  {
   "cell_type": "markdown",
   "metadata": {},
   "source": [
    " Лемматизируем текст"
   ]
  },
  {
   "cell_type": "code",
   "execution_count": 13,
   "metadata": {},
   "outputs": [
    {
     "name": "stderr",
     "output_type": "stream",
     "text": [
      "100%|██████████| 159292/159292 [17:56<00:00, 148.00it/s]\n"
     ]
    }
   ],
   "source": [
    "tqdm.pandas()\n",
    "\n",
    "sp = spacy.load('en_core_web_sm', disable=['parser', 'ner'])\n",
    "\n",
    "df['text'] = df['text'].progress_apply(lemmatize_spacy, lemmatizer=sp)"
   ]
  },
  {
   "cell_type": "code",
   "execution_count": 14,
   "metadata": {},
   "outputs": [
    {
     "data": {
      "text/html": [
       "<div>\n",
       "<style scoped>\n",
       "    .dataframe tbody tr th:only-of-type {\n",
       "        vertical-align: middle;\n",
       "    }\n",
       "\n",
       "    .dataframe tbody tr th {\n",
       "        vertical-align: top;\n",
       "    }\n",
       "\n",
       "    .dataframe thead th {\n",
       "        text-align: right;\n",
       "    }\n",
       "</style>\n",
       "<table border=\"1\" class=\"dataframe\">\n",
       "  <thead>\n",
       "    <tr style=\"text-align: right;\">\n",
       "      <th></th>\n",
       "      <th>text</th>\n",
       "      <th>toxic</th>\n",
       "    </tr>\n",
       "  </thead>\n",
       "  <tbody>\n",
       "    <tr>\n",
       "      <th>38940</th>\n",
       "      <td>linear b write pelasgian language if linear b ...</td>\n",
       "      <td>0</td>\n",
       "    </tr>\n",
       "    <tr>\n",
       "      <th>73723</th>\n",
       "      <td>I agree with csloat except that if palin have ...</td>\n",
       "      <td>0</td>\n",
       "    </tr>\n",
       "    <tr>\n",
       "      <th>42127</th>\n",
       "      <td>a ha you re a virgin aren t you that s get to ...</td>\n",
       "      <td>0</td>\n",
       "    </tr>\n",
       "    <tr>\n",
       "      <th>19957</th>\n",
       "      <td>hi thank for email I delete your article becau...</td>\n",
       "      <td>0</td>\n",
       "    </tr>\n",
       "    <tr>\n",
       "      <th>110264</th>\n",
       "      <td>race of final fantasy have actually be split b...</td>\n",
       "      <td>0</td>\n",
       "    </tr>\n",
       "  </tbody>\n",
       "</table>\n",
       "</div>"
      ],
      "text/plain": [
       "                                                     text  toxic\n",
       "38940   linear b write pelasgian language if linear b ...      0\n",
       "73723   I agree with csloat except that if palin have ...      0\n",
       "42127   a ha you re a virgin aren t you that s get to ...      0\n",
       "19957   hi thank for email I delete your article becau...      0\n",
       "110264  race of final fantasy have actually be split b...      0"
      ]
     },
     "execution_count": 14,
     "metadata": {},
     "output_type": "execute_result"
    }
   ],
   "source": [
    "df.sample(5)"
   ]
  },
  {
   "cell_type": "markdown",
   "metadata": {},
   "source": [
    "Разделим датасет на выборки в соотношении 90/10 в соответствии с дисбалансом классов"
   ]
  },
  {
   "cell_type": "code",
   "execution_count": 15,
   "metadata": {},
   "outputs": [],
   "source": [
    "features = df.drop(['toxic'], axis=1) \n",
    "target = df['toxic']\n",
    "\n",
    "features_train, features_test, target_train, target_test = train_test_split(features, \n",
    "                                                                              target, \n",
    "                                                                              test_size=.1, \n",
    "                                                                              random_state=RND,\n",
    "                                                                            stratify=target)\n"
   ]
  },
  {
   "cell_type": "code",
   "execution_count": 16,
   "metadata": {},
   "outputs": [
    {
     "name": "stdout",
     "output_type": "stream",
     "text": [
      "(143362, 1)\n",
      "(143362,)\n",
      "\n",
      "(15930, 1)\n",
      "(15930,)\n"
     ]
    }
   ],
   "source": [
    "print(features_train.shape)\n",
    "print(target_train.shape)\n",
    "print()\n",
    "\n",
    "print(features_test.shape)\n",
    "print(target_test.shape)"
   ]
  },
  {
   "cell_type": "code",
   "execution_count": 17,
   "metadata": {},
   "outputs": [],
   "source": [
    "features_train = features_train.text"
   ]
  },
  {
   "cell_type": "markdown",
   "metadata": {},
   "source": [
    "**ВЫВОД**\n",
    "\n",
    "В процессе подготовки данных мы:\n",
    "- удалили не информативный столбец\n",
    "- привели к нижнему регистру\n",
    "- очистили данные от лишних символов, оставили только буквы, кавычки и пробелы\n",
    "- лемматизировали текст, используя библиотеку SpaCy. Техника POS-tag (part-of-speech) в spacy используется по умолчанию."
   ]
  },
  {
   "cell_type": "markdown",
   "metadata": {},
   "source": [
    "## Обучение"
   ]
  },
  {
   "cell_type": "markdown",
   "metadata": {},
   "source": [
    "### LogisticRegression"
   ]
  },
  {
   "cell_type": "code",
   "execution_count": 18,
   "metadata": {},
   "outputs": [
    {
     "name": "stdout",
     "output_type": "stream",
     "text": [
      "F1 логистической регрессии = 0.77\n",
      "при параметрах {'lr__C': 10, 'lr__class_weight': 'balanced', 'lr__max_iter': 200, 'lr__random_state': 12345, 'lr__solver': 'liblinear'}\n",
      "CPU times: user 15min 12s, sys: 11min 27s, total: 26min 40s\n",
      "Wall time: 26min 42s\n"
     ]
    }
   ],
   "source": [
    "%%time\n",
    "\n",
    "#обучение:\n",
    "pipeline = Pipeline([(\"vect\", TfidfVectorizer(stop_words='english', sublinear_tf=True)), \n",
    "                     (\"lr\", LogisticRegression())])\n",
    "    \n",
    "parameters = {'lr__solver': ('liblinear', 'saga','newton-cg', 'lbfgs'),\n",
    "              'lr__C': (.1, 1, 5, 10),\n",
    "              'lr__random_state': ([12345]),\n",
    "              'lr__max_iter': ([200]),\n",
    "              'lr__class_weight': (['balanced'])} \n",
    "\n",
    "lr_gscv = GridSearchCV(pipeline, parameters, scoring='f1', cv=3, n_jobs=-1)\n",
    "\n",
    "lr_gscv.fit(features_train, target_train)\n",
    "\n",
    "mts = lr_gscv.cv_results_['mean_test_score']\n",
    "lr_train_f1 = max(mts)\n",
    "\n",
    "print('F1 логистической регрессии =', round(lr_train_f1,2))\n",
    "print('при параметрах', lr_gscv.best_params_)\n"
   ]
  },
  {
   "cell_type": "markdown",
   "metadata": {},
   "source": [
    "### RandomForestClassifier"
   ]
  },
  {
   "cell_type": "code",
   "execution_count": 19,
   "metadata": {},
   "outputs": [
    {
     "name": "stdout",
     "output_type": "stream",
     "text": [
      "F1 случайного леса = 0.36\n",
      "при параметрах {'rf__class_weight': 'balanced', 'rf__criterion': 'entropy', 'rf__max_depth': 9, 'rf__n_estimators': 12, 'rf__random_state': 12345}\n",
      "CPU times: user 59min 54s, sys: 0 ns, total: 59min 54s\n",
      "Wall time: 59min 55s\n"
     ]
    }
   ],
   "source": [
    "%%time\n",
    "\n",
    "#обучение:\n",
    "pipeline = Pipeline([(\"vect\", TfidfVectorizer(stop_words='english')), \n",
    "                     (\"rf\", RandomForestClassifier())])\n",
    "    \n",
    "parameters = {'rf__n_estimators': ([x for x in range(10, 30)]),\n",
    "              'rf__random_state': ([12345]),\n",
    "              'rf__max_depth': ([x for x in range(1, 10)]),\n",
    "              'rf__criterion': (['entropy']),\n",
    "              'rf__class_weight': (['balanced'])}\n",
    "\n",
    "rf_gscv = GridSearchCV(pipeline, parameters, scoring='f1', cv=3, n_jobs=-1)\n",
    "\n",
    "rf_gscv.fit(features_train, target_train)\n",
    "\n",
    "mts = rf_gscv.cv_results_['mean_test_score']\n",
    "rf_train_f1 = max(mts)\n",
    "\n",
    "print('F1 случайного леса =', round(rf_train_f1,2))\n",
    "print('при параметрах', rf_gscv.best_params_)"
   ]
  },
  {
   "cell_type": "markdown",
   "metadata": {},
   "source": [
    "### CatBoostClassifier\t"
   ]
  },
  {
   "cell_type": "code",
   "execution_count": 20,
   "metadata": {},
   "outputs": [
    {
     "name": "stdout",
     "output_type": "stream",
     "text": [
      "F1 CatBoostClassifier = 0.75\n",
      "при параметрах {'cbc__class_weights': (1, 1), 'cbc__iterations': 200, 'cbc__verbose': False}\n",
      "CPU times: user 44min 40s, sys: 7.57 s, total: 44min 48s\n",
      "Wall time: 44min 53s\n"
     ]
    }
   ],
   "source": [
    "%%time\n",
    "\n",
    "#обучение:\n",
    "pipeline = Pipeline([(\"vect\", TfidfVectorizer(stop_words='english')), \n",
    "                     (\"cbc\", CatBoostClassifier())])\n",
    "    \n",
    "parameters = {'cbc__verbose': ([False]),\n",
    "              'cbc__iterations': ([200]),\n",
    "              'cbc__class_weights':([(1, 1), (1, 11)])} \n",
    "\n",
    "cbc_gscv = GridSearchCV(pipeline, parameters, scoring='f1', cv=3, n_jobs=-1)\n",
    "\n",
    "cbc_gscv.fit(features_train, target_train)\n",
    "\n",
    "mts = cbc_gscv.cv_results_['mean_test_score']\n",
    "cbc_train_f1 = max(mts)\n",
    "\n",
    "print('F1 CatBoostClassifier =', round(cbc_train_f1,2))\n",
    "print('при параметрах', cbc_gscv.best_params_)"
   ]
  },
  {
   "cell_type": "markdown",
   "metadata": {},
   "source": [
    "Создадим таблицу из полученных результатов"
   ]
  },
  {
   "cell_type": "code",
   "execution_count": 27,
   "metadata": {},
   "outputs": [
    {
     "data": {
      "text/html": [
       "<div>\n",
       "<style scoped>\n",
       "    .dataframe tbody tr th:only-of-type {\n",
       "        vertical-align: middle;\n",
       "    }\n",
       "\n",
       "    .dataframe tbody tr th {\n",
       "        vertical-align: top;\n",
       "    }\n",
       "\n",
       "    .dataframe thead th {\n",
       "        text-align: right;\n",
       "    }\n",
       "</style>\n",
       "<table border=\"1\" class=\"dataframe\">\n",
       "  <thead>\n",
       "    <tr style=\"text-align: right;\">\n",
       "      <th></th>\n",
       "      <th>Model</th>\n",
       "      <th>F1</th>\n",
       "    </tr>\n",
       "  </thead>\n",
       "  <tbody>\n",
       "    <tr>\n",
       "      <th>0</th>\n",
       "      <td>LogisticRegression</td>\n",
       "      <td>0.77</td>\n",
       "    </tr>\n",
       "    <tr>\n",
       "      <th>1</th>\n",
       "      <td>RandomForestRegressor</td>\n",
       "      <td>0.36</td>\n",
       "    </tr>\n",
       "    <tr>\n",
       "      <th>2</th>\n",
       "      <td>CatBoostRegressor</td>\n",
       "      <td>0.75</td>\n",
       "    </tr>\n",
       "  </tbody>\n",
       "</table>\n",
       "</div>"
      ],
      "text/plain": [
       "                   Model    F1\n",
       "0     LogisticRegression  0.77\n",
       "1  RandomForestRegressor  0.36\n",
       "2      CatBoostRegressor  0.75"
      ]
     },
     "metadata": {},
     "output_type": "display_data"
    }
   ],
   "source": [
    "results = {\n",
    "    'Model' : ['LogisticRegression', 'RandomForestRegressor', 'CatBoostRegressor'],\n",
    "    'F1': pd.Series([0.77, 0.36, 0.75]),\n",
    "    }\n",
    "\n",
    "display(pd.DataFrame(results))"
   ]
  },
  {
   "cell_type": "markdown",
   "metadata": {},
   "source": [
    "## Выводы"
   ]
  },
  {
   "cell_type": "markdown",
   "metadata": {},
   "source": [
    "По качеству предсказания лидирует модель LogisticRegression.\n",
    "Значние показателя F1 нав валидационной выборке составляет 0,77. Наименьший результат у RandomForestClassifier."
   ]
  },
  {
   "cell_type": "markdown",
   "metadata": {},
   "source": [
    "Посмотрим результаты на тестовой выборке"
   ]
  },
  {
   "cell_type": "code",
   "execution_count": 28,
   "metadata": {},
   "outputs": [
    {
     "name": "stdout",
     "output_type": "stream",
     "text": [
      "финальный F1 логистической регрессии = 0.78\n"
     ]
    }
   ],
   "source": [
    "model = lr_gscv.best_estimator_\n",
    "predictions_test = lr_gscv.predict(features_test.text)\n",
    "lr_test_f1 = f1_score(target_test, predictions_test)\n",
    "print('финальный F1 логистической регрессии =', round(lr_test_f1,2))"
   ]
  },
  {
   "cell_type": "markdown",
   "metadata": {},
   "source": [
    "Проверим модель на адекватность"
   ]
  },
  {
   "cell_type": "code",
   "execution_count": 26,
   "metadata": {},
   "outputs": [
    {
     "name": "stdout",
     "output_type": "stream",
     "text": [
      "F1 на DummyClassifier равен: 0.18451193800216537\n"
     ]
    }
   ],
   "source": [
    "dummy_clf = DummyClassifier(strategy=\"constant\", constant=1)\n",
    "dummy_clf.fit(features_train, target_train)\n",
    "DummyClassifier(strategy=\"constant\", constant=1)\n",
    "test_model_prediction = dummy_clf.predict(features_test.text)\n",
    "f1 = f1_score(target_test, test_model_prediction)\n",
    "print('F1 на DummyClassifier равен:', f1)"
   ]
  },
  {
   "cell_type": "markdown",
   "metadata": {},
   "source": [
    "**ВЫВОД:** \n",
    "\n",
    "Наилучшей моделью стала LogisticRegression, которая на тестировании показала F1 = 0.78. Поскольку нашей целью было найти модель классификации комментариев на позитивные и негативные со значением метрики качества F1 >= 0.75, рекомендовать могу LogisticRegression"
   ]
  }
 ],
 "metadata": {
  "ExecuteTimeLog": [
   {
    "duration": 3030,
    "start_time": "2023-01-13T14:02:25.728Z"
   },
   {
    "duration": 265,
    "start_time": "2023-01-13T14:04:04.280Z"
   },
   {
    "duration": 2283,
    "start_time": "2023-01-13T14:05:22.180Z"
   },
   {
    "duration": 41,
    "start_time": "2023-01-13T14:06:33.495Z"
   },
   {
    "duration": 6,
    "start_time": "2023-01-13T14:09:40.630Z"
   },
   {
    "duration": 775,
    "start_time": "2023-01-13T14:11:08.370Z"
   },
   {
    "duration": 33,
    "start_time": "2023-01-13T14:11:11.863Z"
   },
   {
    "duration": 166,
    "start_time": "2023-01-13T14:14:15.846Z"
   },
   {
    "duration": 14,
    "start_time": "2023-01-13T14:14:36.633Z"
   },
   {
    "duration": 132,
    "start_time": "2023-01-13T14:16:45.396Z"
   },
   {
    "duration": 207,
    "start_time": "2023-01-13T14:16:58.278Z"
   },
   {
    "duration": 2842,
    "start_time": "2023-01-13T15:07:58.146Z"
   },
   {
    "duration": 709,
    "start_time": "2023-01-13T15:08:00.990Z"
   },
   {
    "duration": 32,
    "start_time": "2023-01-13T15:08:01.701Z"
   },
   {
    "duration": 13,
    "start_time": "2023-01-13T15:08:01.735Z"
   },
   {
    "duration": 128,
    "start_time": "2023-01-13T15:08:01.750Z"
   },
   {
    "duration": 164,
    "start_time": "2023-01-13T15:12:58.224Z"
   },
   {
    "duration": 30,
    "start_time": "2023-01-13T15:13:10.487Z"
   },
   {
    "duration": 214,
    "start_time": "2023-01-13T15:23:15.902Z"
   },
   {
    "duration": 5742,
    "start_time": "2023-01-16T11:07:13.502Z"
   },
   {
    "duration": 416,
    "start_time": "2023-01-16T11:11:27.945Z"
   },
   {
    "duration": 5032,
    "start_time": "2023-01-16T11:11:38.582Z"
   },
   {
    "duration": 3415,
    "start_time": "2023-01-16T11:11:43.616Z"
   },
   {
    "duration": 31,
    "start_time": "2023-01-16T11:11:47.033Z"
   },
   {
    "duration": 11,
    "start_time": "2023-01-16T11:11:47.066Z"
   },
   {
    "duration": 137,
    "start_time": "2023-01-16T11:11:47.079Z"
   },
   {
    "duration": 251,
    "start_time": "2023-01-16T11:11:47.218Z"
   },
   {
    "duration": 26,
    "start_time": "2023-01-16T11:12:26.246Z"
   },
   {
    "duration": 10,
    "start_time": "2023-01-16T11:13:29.823Z"
   },
   {
    "duration": 3,
    "start_time": "2023-01-16T11:17:03.178Z"
   },
   {
    "duration": 4,
    "start_time": "2023-01-16T11:21:08.733Z"
   },
   {
    "duration": 96,
    "start_time": "2023-01-16T11:22:34.018Z"
   },
   {
    "duration": 73,
    "start_time": "2023-01-16T11:23:03.596Z"
   },
   {
    "duration": 74,
    "start_time": "2023-01-16T11:23:46.659Z"
   },
   {
    "duration": 5179,
    "start_time": "2023-01-16T11:24:13.107Z"
   },
   {
    "duration": 840,
    "start_time": "2023-01-16T11:24:18.289Z"
   },
   {
    "duration": 35,
    "start_time": "2023-01-16T11:24:19.132Z"
   },
   {
    "duration": 37,
    "start_time": "2023-01-16T11:24:19.168Z"
   },
   {
    "duration": 178,
    "start_time": "2023-01-16T11:24:19.208Z"
   },
   {
    "duration": 225,
    "start_time": "2023-01-16T11:24:19.388Z"
   },
   {
    "duration": 25,
    "start_time": "2023-01-16T11:24:19.615Z"
   },
   {
    "duration": 18,
    "start_time": "2023-01-16T11:24:19.642Z"
   },
   {
    "duration": 6,
    "start_time": "2023-01-16T11:24:19.662Z"
   },
   {
    "duration": 67,
    "start_time": "2023-01-16T11:24:19.669Z"
   },
   {
    "duration": 5,
    "start_time": "2023-01-16T11:29:07.720Z"
   },
   {
    "duration": 364,
    "start_time": "2023-01-16T11:30:18.836Z"
   },
   {
    "duration": 5,
    "start_time": "2023-01-16T12:24:18.222Z"
   },
   {
    "duration": 1240,
    "start_time": "2023-01-16T12:33:03.522Z"
   },
   {
    "duration": 6306,
    "start_time": "2023-01-16T12:35:50.079Z"
   },
   {
    "duration": 242,
    "start_time": "2023-01-16T12:35:56.387Z"
   },
   {
    "duration": 879,
    "start_time": "2023-01-16T12:35:56.630Z"
   },
   {
    "duration": 44,
    "start_time": "2023-01-16T12:35:57.511Z"
   },
   {
    "duration": 37,
    "start_time": "2023-01-16T12:35:57.558Z"
   },
   {
    "duration": 187,
    "start_time": "2023-01-16T12:35:57.597Z"
   },
   {
    "duration": 284,
    "start_time": "2023-01-16T12:35:57.786Z"
   },
   {
    "duration": 35,
    "start_time": "2023-01-16T12:35:58.072Z"
   },
   {
    "duration": 27,
    "start_time": "2023-01-16T12:35:58.110Z"
   },
   {
    "duration": 31,
    "start_time": "2023-01-16T12:35:58.139Z"
   },
   {
    "duration": 50,
    "start_time": "2023-01-16T12:35:58.172Z"
   },
   {
    "duration": 1266656,
    "start_time": "2023-01-16T12:35:58.225Z"
   },
   {
    "duration": 3663,
    "start_time": "2023-01-16T12:57:09.893Z"
   },
   {
    "duration": 6770,
    "start_time": "2023-01-16T13:08:03.999Z"
   },
   {
    "duration": 260,
    "start_time": "2023-01-16T13:08:10.771Z"
   },
   {
    "duration": 946,
    "start_time": "2023-01-16T13:08:11.033Z"
   },
   {
    "duration": 45,
    "start_time": "2023-01-16T13:08:11.982Z"
   },
   {
    "duration": 11,
    "start_time": "2023-01-16T13:08:12.029Z"
   },
   {
    "duration": 164,
    "start_time": "2023-01-16T13:08:12.041Z"
   },
   {
    "duration": 270,
    "start_time": "2023-01-16T13:08:12.208Z"
   },
   {
    "duration": 40,
    "start_time": "2023-01-16T13:08:12.481Z"
   },
   {
    "duration": 14,
    "start_time": "2023-01-16T13:08:12.524Z"
   },
   {
    "duration": 7,
    "start_time": "2023-01-16T13:08:12.540Z"
   },
   {
    "duration": 17,
    "start_time": "2023-01-16T13:08:12.549Z"
   },
   {
    "duration": 1235207,
    "start_time": "2023-01-16T13:08:12.568Z"
   },
   {
    "duration": 4511,
    "start_time": "2023-01-16T13:28:47.777Z"
   },
   {
    "duration": 1578,
    "start_time": "2023-01-16T13:46:14.986Z"
   },
   {
    "duration": 4245,
    "start_time": "2023-01-16T13:51:50.296Z"
   },
   {
    "duration": 11,
    "start_time": "2023-01-16T13:53:20.092Z"
   },
   {
    "duration": 6216,
    "start_time": "2023-01-16T13:53:35.171Z"
   },
   {
    "duration": 273,
    "start_time": "2023-01-16T13:53:41.390Z"
   },
   {
    "duration": 1142,
    "start_time": "2023-01-16T13:53:41.666Z"
   },
   {
    "duration": 40,
    "start_time": "2023-01-16T13:53:42.811Z"
   },
   {
    "duration": 15,
    "start_time": "2023-01-16T13:53:42.853Z"
   },
   {
    "duration": 164,
    "start_time": "2023-01-16T13:53:42.870Z"
   },
   {
    "duration": 259,
    "start_time": "2023-01-16T13:53:43.036Z"
   },
   {
    "duration": 36,
    "start_time": "2023-01-16T13:53:43.297Z"
   },
   {
    "duration": 18,
    "start_time": "2023-01-16T13:53:43.335Z"
   },
   {
    "duration": 25,
    "start_time": "2023-01-16T13:53:43.356Z"
   },
   {
    "duration": 16,
    "start_time": "2023-01-16T13:53:43.383Z"
   },
   {
    "duration": 5723,
    "start_time": "2023-01-16T13:53:43.401Z"
   },
   {
    "duration": 1129057,
    "start_time": "2023-01-16T13:53:49.126Z"
   },
   {
    "duration": 4,
    "start_time": "2023-01-16T14:12:38.186Z"
   },
   {
    "duration": 32,
    "start_time": "2023-01-16T14:12:38.192Z"
   },
   {
    "duration": 11,
    "start_time": "2023-01-16T14:39:40.306Z"
   },
   {
    "duration": 50,
    "start_time": "2023-01-18T13:24:23.058Z"
   },
   {
    "duration": 5426,
    "start_time": "2023-01-18T13:24:48.164Z"
   },
   {
    "duration": 884,
    "start_time": "2023-01-18T13:24:53.593Z"
   },
   {
    "duration": 2626,
    "start_time": "2023-01-18T13:24:54.478Z"
   },
   {
    "duration": 30,
    "start_time": "2023-01-18T13:24:57.106Z"
   },
   {
    "duration": 18,
    "start_time": "2023-01-18T13:24:57.138Z"
   },
   {
    "duration": 129,
    "start_time": "2023-01-18T13:24:57.158Z"
   },
   {
    "duration": 243,
    "start_time": "2023-01-18T13:24:57.288Z"
   },
   {
    "duration": 35,
    "start_time": "2023-01-18T13:24:57.533Z"
   },
   {
    "duration": 11,
    "start_time": "2023-01-18T13:24:57.570Z"
   },
   {
    "duration": 9,
    "start_time": "2023-01-18T13:24:57.582Z"
   },
   {
    "duration": 9,
    "start_time": "2023-01-18T13:24:57.593Z"
   },
   {
    "duration": 4243,
    "start_time": "2023-01-18T13:24:57.604Z"
   },
   {
    "duration": 912238,
    "start_time": "2023-01-18T13:25:01.849Z"
   },
   {
    "duration": 10,
    "start_time": "2023-01-18T13:40:14.090Z"
   },
   {
    "duration": 1966,
    "start_time": "2023-01-18T13:40:14.102Z"
   },
   {
    "duration": 9,
    "start_time": "2023-01-18T13:40:16.069Z"
   },
   {
    "duration": 16,
    "start_time": "2023-01-18T13:40:16.079Z"
   },
   {
    "duration": 7,
    "start_time": "2023-01-18T13:40:16.096Z"
   },
   {
    "duration": 411,
    "start_time": "2023-01-18T14:19:45.090Z"
   },
   {
    "duration": 77,
    "start_time": "2023-01-18T14:20:22.741Z"
   },
   {
    "duration": 88,
    "start_time": "2023-01-18T14:30:10.586Z"
   },
   {
    "duration": 56,
    "start_time": "2023-01-18T14:30:27.489Z"
   },
   {
    "duration": 5,
    "start_time": "2023-01-18T14:38:24.882Z"
   },
   {
    "duration": 55,
    "start_time": "2023-01-18T14:40:19.405Z"
   },
   {
    "duration": 104,
    "start_time": "2023-01-18T14:41:18.591Z"
   },
   {
    "duration": 50,
    "start_time": "2023-01-19T13:12:01.309Z"
   },
   {
    "duration": 6731,
    "start_time": "2023-01-19T13:12:19.520Z"
   },
   {
    "duration": 646,
    "start_time": "2023-01-19T13:12:26.255Z"
   },
   {
    "duration": 2247,
    "start_time": "2023-01-19T13:12:26.903Z"
   },
   {
    "duration": 35,
    "start_time": "2023-01-19T13:12:29.153Z"
   },
   {
    "duration": 33,
    "start_time": "2023-01-19T13:12:29.190Z"
   },
   {
    "duration": 144,
    "start_time": "2023-01-19T13:12:29.224Z"
   },
   {
    "duration": 242,
    "start_time": "2023-01-19T13:12:29.379Z"
   },
   {
    "duration": 26,
    "start_time": "2023-01-19T13:12:29.623Z"
   },
   {
    "duration": 18,
    "start_time": "2023-01-19T13:12:29.651Z"
   },
   {
    "duration": 29,
    "start_time": "2023-01-19T13:12:29.672Z"
   },
   {
    "duration": 40,
    "start_time": "2023-01-19T13:12:29.702Z"
   },
   {
    "duration": 3982,
    "start_time": "2023-01-19T13:12:29.743Z"
   },
   {
    "duration": 986282,
    "start_time": "2023-01-19T13:12:33.727Z"
   },
   {
    "duration": 12,
    "start_time": "2023-01-19T13:29:00.011Z"
   },
   {
    "duration": 14,
    "start_time": "2023-01-19T13:29:00.024Z"
   },
   {
    "duration": 6,
    "start_time": "2023-01-19T13:29:00.040Z"
   },
   {
    "duration": 10,
    "start_time": "2023-01-19T13:29:00.048Z"
   },
   {
    "duration": 86,
    "start_time": "2023-01-19T13:29:00.059Z"
   },
   {
    "duration": 54,
    "start_time": "2023-01-19T13:29:00.147Z"
   },
   {
    "duration": 116,
    "start_time": "2023-01-19T13:29:00.203Z"
   },
   {
    "duration": 2815,
    "start_time": "2023-01-19T13:29:00.321Z"
   },
   {
    "duration": 51,
    "start_time": "2023-01-19T13:29:24.486Z"
   },
   {
    "duration": 5,
    "start_time": "2023-01-19T13:30:29.953Z"
   },
   {
    "duration": 3,
    "start_time": "2023-01-19T13:31:00.172Z"
   },
   {
    "duration": 72,
    "start_time": "2023-01-19T13:33:11.378Z"
   },
   {
    "duration": 1400125,
    "start_time": "2023-01-19T13:33:30.601Z"
   },
   {
    "duration": 7558,
    "start_time": "2023-01-19T13:57:23.240Z"
   },
   {
    "duration": 312,
    "start_time": "2023-01-19T13:57:30.800Z"
   },
   {
    "duration": 1255,
    "start_time": "2023-01-19T13:57:31.117Z"
   },
   {
    "duration": 35,
    "start_time": "2023-01-19T13:57:32.374Z"
   },
   {
    "duration": 25,
    "start_time": "2023-01-19T13:57:32.411Z"
   },
   {
    "duration": 151,
    "start_time": "2023-01-19T13:57:32.438Z"
   },
   {
    "duration": 264,
    "start_time": "2023-01-19T13:57:32.591Z"
   },
   {
    "duration": 31,
    "start_time": "2023-01-19T13:57:32.857Z"
   },
   {
    "duration": 13,
    "start_time": "2023-01-19T13:57:32.890Z"
   },
   {
    "duration": 7,
    "start_time": "2023-01-19T13:57:32.905Z"
   },
   {
    "duration": 5,
    "start_time": "2023-01-19T13:57:32.914Z"
   },
   {
    "duration": 4257,
    "start_time": "2023-01-19T13:57:32.921Z"
   },
   {
    "duration": 1033629,
    "start_time": "2023-01-19T13:57:37.180Z"
   },
   {
    "duration": 11,
    "start_time": "2023-01-19T14:14:50.811Z"
   },
   {
    "duration": 62,
    "start_time": "2023-01-19T14:14:50.824Z"
   },
   {
    "duration": 5,
    "start_time": "2023-01-19T14:14:50.888Z"
   },
   {
    "duration": 16,
    "start_time": "2023-01-19T14:14:50.895Z"
   },
   {
    "duration": 132,
    "start_time": "2023-01-19T20:27:18.339Z"
   },
   {
    "duration": 4914,
    "start_time": "2023-01-19T20:27:31.726Z"
   },
   {
    "duration": 840,
    "start_time": "2023-01-19T20:27:36.642Z"
   },
   {
    "duration": 3386,
    "start_time": "2023-01-19T20:27:37.483Z"
   },
   {
    "duration": 30,
    "start_time": "2023-01-19T20:27:40.871Z"
   },
   {
    "duration": 21,
    "start_time": "2023-01-19T20:27:40.902Z"
   },
   {
    "duration": 121,
    "start_time": "2023-01-19T20:27:40.925Z"
   },
   {
    "duration": 222,
    "start_time": "2023-01-19T20:27:41.048Z"
   },
   {
    "duration": 29,
    "start_time": "2023-01-19T20:27:41.271Z"
   },
   {
    "duration": 20,
    "start_time": "2023-01-19T20:27:41.302Z"
   },
   {
    "duration": 23,
    "start_time": "2023-01-19T20:27:41.324Z"
   },
   {
    "duration": 13,
    "start_time": "2023-01-19T20:27:41.349Z"
   },
   {
    "duration": 4038,
    "start_time": "2023-01-19T20:27:41.364Z"
   },
   {
    "duration": 918798,
    "start_time": "2023-01-19T20:27:45.404Z"
   },
   {
    "duration": 15,
    "start_time": "2023-01-19T20:43:04.205Z"
   },
   {
    "duration": 68,
    "start_time": "2023-01-19T20:43:04.222Z"
   },
   {
    "duration": 11,
    "start_time": "2023-01-19T20:43:04.292Z"
   },
   {
    "duration": 11,
    "start_time": "2023-01-19T20:43:04.305Z"
   },
   {
    "duration": 4673,
    "start_time": "2023-01-19T20:44:14.052Z"
   },
   {
    "duration": 286,
    "start_time": "2023-01-19T20:44:18.727Z"
   },
   {
    "duration": 784,
    "start_time": "2023-01-19T20:44:19.014Z"
   },
   {
    "duration": 33,
    "start_time": "2023-01-19T20:44:19.800Z"
   },
   {
    "duration": 11,
    "start_time": "2023-01-19T20:44:19.835Z"
   },
   {
    "duration": 136,
    "start_time": "2023-01-19T20:44:19.848Z"
   },
   {
    "duration": 225,
    "start_time": "2023-01-19T20:44:19.986Z"
   },
   {
    "duration": 25,
    "start_time": "2023-01-19T20:44:20.213Z"
   },
   {
    "duration": 11,
    "start_time": "2023-01-19T20:44:20.240Z"
   },
   {
    "duration": 4,
    "start_time": "2023-01-19T20:44:20.253Z"
   },
   {
    "duration": 4,
    "start_time": "2023-01-19T20:44:20.258Z"
   },
   {
    "duration": 4109,
    "start_time": "2023-01-19T20:44:20.264Z"
   },
   {
    "duration": 928596,
    "start_time": "2023-01-19T20:44:24.374Z"
   },
   {
    "duration": 10,
    "start_time": "2023-01-19T20:59:52.972Z"
   },
   {
    "duration": 41,
    "start_time": "2023-01-19T20:59:52.984Z"
   },
   {
    "duration": 4,
    "start_time": "2023-01-19T20:59:53.027Z"
   },
   {
    "duration": 7,
    "start_time": "2023-01-19T20:59:53.032Z"
   },
   {
    "duration": 1492565,
    "start_time": "2023-01-19T20:59:53.040Z"
   },
   {
    "duration": 415,
    "start_time": "2023-01-19T21:24:45.607Z"
   },
   {
    "duration": 81,
    "start_time": "2023-01-19T21:24:46.024Z"
   },
   {
    "duration": 67,
    "start_time": "2023-01-19T21:24:46.107Z"
   },
   {
    "duration": 3121232,
    "start_time": "2023-01-19T21:35:51.799Z"
   },
   {
    "duration": 4813,
    "start_time": "2023-01-20T11:00:07.816Z"
   },
   {
    "duration": 1013,
    "start_time": "2023-01-20T11:00:12.631Z"
   },
   {
    "duration": 3310,
    "start_time": "2023-01-20T11:00:13.646Z"
   },
   {
    "duration": 31,
    "start_time": "2023-01-20T11:00:16.958Z"
   },
   {
    "duration": 8,
    "start_time": "2023-01-20T11:00:16.991Z"
   },
   {
    "duration": 125,
    "start_time": "2023-01-20T11:00:17.001Z"
   },
   {
    "duration": 221,
    "start_time": "2023-01-20T11:00:17.128Z"
   },
   {
    "duration": 27,
    "start_time": "2023-01-20T11:00:17.350Z"
   },
   {
    "duration": 12,
    "start_time": "2023-01-20T11:00:17.386Z"
   },
   {
    "duration": 10,
    "start_time": "2023-01-20T11:00:17.401Z"
   },
   {
    "duration": 12,
    "start_time": "2023-01-20T11:00:17.413Z"
   },
   {
    "duration": 3696,
    "start_time": "2023-01-20T11:00:17.426Z"
   },
   {
    "duration": 4461,
    "start_time": "2023-01-20T11:07:46.694Z"
   },
   {
    "duration": 269,
    "start_time": "2023-01-20T11:07:51.156Z"
   },
   {
    "duration": 689,
    "start_time": "2023-01-20T11:07:51.426Z"
   },
   {
    "duration": 30,
    "start_time": "2023-01-20T11:07:52.117Z"
   },
   {
    "duration": 12,
    "start_time": "2023-01-20T11:07:52.148Z"
   },
   {
    "duration": 127,
    "start_time": "2023-01-20T11:07:52.162Z"
   },
   {
    "duration": 219,
    "start_time": "2023-01-20T11:07:52.290Z"
   },
   {
    "duration": 25,
    "start_time": "2023-01-20T11:07:52.511Z"
   },
   {
    "duration": 15,
    "start_time": "2023-01-20T11:07:52.537Z"
   },
   {
    "duration": 9,
    "start_time": "2023-01-20T11:07:52.554Z"
   },
   {
    "duration": 13,
    "start_time": "2023-01-20T11:07:52.565Z"
   },
   {
    "duration": 3709,
    "start_time": "2023-01-20T11:07:52.579Z"
   },
   {
    "duration": 4530,
    "start_time": "2023-01-20T11:16:44.790Z"
   },
   {
    "duration": 272,
    "start_time": "2023-01-20T11:16:49.322Z"
   },
   {
    "duration": 667,
    "start_time": "2023-01-20T11:16:49.596Z"
   },
   {
    "duration": 31,
    "start_time": "2023-01-20T11:16:50.265Z"
   },
   {
    "duration": 9,
    "start_time": "2023-01-20T11:16:50.297Z"
   },
   {
    "duration": 139,
    "start_time": "2023-01-20T11:16:50.307Z"
   },
   {
    "duration": 223,
    "start_time": "2023-01-20T11:16:50.448Z"
   },
   {
    "duration": 27,
    "start_time": "2023-01-20T11:16:50.673Z"
   },
   {
    "duration": 10,
    "start_time": "2023-01-20T11:16:50.701Z"
   },
   {
    "duration": 6,
    "start_time": "2023-01-20T11:16:50.713Z"
   },
   {
    "duration": 5,
    "start_time": "2023-01-20T11:16:50.720Z"
   },
   {
    "duration": 3683,
    "start_time": "2023-01-20T11:16:50.727Z"
   },
   {
    "duration": 892239,
    "start_time": "2023-01-20T11:16:54.412Z"
   },
   {
    "duration": 10,
    "start_time": "2023-01-20T11:31:46.652Z"
   },
   {
    "duration": 48,
    "start_time": "2023-01-20T11:31:46.664Z"
   },
   {
    "duration": 4,
    "start_time": "2023-01-20T11:31:46.713Z"
   },
   {
    "duration": 17,
    "start_time": "2023-01-20T11:31:46.718Z"
   },
   {
    "duration": 16,
    "start_time": "2023-01-20T11:31:46.736Z"
   },
   {
    "duration": 8,
    "start_time": "2023-01-20T11:31:46.754Z"
   },
   {
    "duration": 8600,
    "start_time": "2023-01-20T12:20:35.521Z"
   },
   {
    "duration": 287,
    "start_time": "2023-01-20T12:20:44.122Z"
   },
   {
    "duration": 1419,
    "start_time": "2023-01-20T12:20:44.410Z"
   },
   {
    "duration": 85,
    "start_time": "2023-01-20T12:20:45.831Z"
   },
   {
    "duration": 9,
    "start_time": "2023-01-20T12:20:45.918Z"
   },
   {
    "duration": 228,
    "start_time": "2023-01-20T12:20:45.986Z"
   },
   {
    "duration": 419,
    "start_time": "2023-01-20T12:20:46.216Z"
   },
   {
    "duration": 30,
    "start_time": "2023-01-20T12:20:46.686Z"
   },
   {
    "duration": 76,
    "start_time": "2023-01-20T12:20:46.717Z"
   },
   {
    "duration": 9,
    "start_time": "2023-01-20T12:20:46.795Z"
   },
   {
    "duration": 10,
    "start_time": "2023-01-20T12:20:46.806Z"
   },
   {
    "duration": 7517,
    "start_time": "2023-01-20T12:20:46.819Z"
   },
   {
    "duration": 1420471,
    "start_time": "2023-01-20T12:20:54.387Z"
   },
   {
    "duration": 11,
    "start_time": "2023-01-20T12:44:34.861Z"
   },
   {
    "duration": 54,
    "start_time": "2023-01-20T12:44:34.874Z"
   },
   {
    "duration": 5,
    "start_time": "2023-01-20T12:44:34.929Z"
   },
   {
    "duration": 7,
    "start_time": "2023-01-20T12:44:34.936Z"
   },
   {
    "duration": 8,
    "start_time": "2023-01-20T12:44:34.944Z"
   },
   {
    "duration": 6,
    "start_time": "2023-01-20T12:44:34.954Z"
   },
   {
    "duration": 8519,
    "start_time": "2023-01-20T13:27:18.599Z"
   },
   {
    "duration": 370,
    "start_time": "2023-01-20T13:27:27.120Z"
   },
   {
    "duration": 1423,
    "start_time": "2023-01-20T13:27:27.492Z"
   },
   {
    "duration": 86,
    "start_time": "2023-01-20T13:27:28.917Z"
   },
   {
    "duration": 31,
    "start_time": "2023-01-20T13:27:29.004Z"
   },
   {
    "duration": 234,
    "start_time": "2023-01-20T13:27:29.087Z"
   },
   {
    "duration": 478,
    "start_time": "2023-01-20T13:27:29.323Z"
   },
   {
    "duration": 26,
    "start_time": "2023-01-20T13:27:29.803Z"
   },
   {
    "duration": 73,
    "start_time": "2023-01-20T13:27:29.831Z"
   },
   {
    "duration": 6,
    "start_time": "2023-01-20T13:27:29.907Z"
   },
   {
    "duration": 10,
    "start_time": "2023-01-20T13:27:29.914Z"
   },
   {
    "duration": 7785,
    "start_time": "2023-01-20T13:27:29.925Z"
   },
   {
    "duration": 1882219,
    "start_time": "2023-01-20T13:27:37.712Z"
   },
   {
    "duration": 12,
    "start_time": "2023-01-20T13:58:59.933Z"
   },
   {
    "duration": 54,
    "start_time": "2023-01-20T13:58:59.946Z"
   },
   {
    "duration": 5,
    "start_time": "2023-01-20T13:59:00.001Z"
   },
   {
    "duration": 44,
    "start_time": "2023-01-20T13:59:00.008Z"
   },
   {
    "duration": 18,
    "start_time": "2023-01-20T13:59:00.053Z"
   },
   {
    "duration": 34,
    "start_time": "2023-01-20T13:59:00.073Z"
   },
   {
    "duration": 3823892,
    "start_time": "2023-01-20T13:59:00.109Z"
   },
   {
    "duration": 3,
    "start_time": "2023-01-20T15:02:44.003Z"
   },
   {
    "duration": 9,
    "start_time": "2023-01-20T15:02:44.007Z"
   },
   {
    "duration": 4833,
    "start_time": "2023-01-20T15:11:18.666Z"
   },
   {
    "duration": 608,
    "start_time": "2023-01-20T15:11:23.501Z"
   },
   {
    "duration": 3302,
    "start_time": "2023-01-20T15:11:24.111Z"
   },
   {
    "duration": 33,
    "start_time": "2023-01-20T15:11:27.415Z"
   },
   {
    "duration": 8,
    "start_time": "2023-01-20T15:11:27.450Z"
   },
   {
    "duration": 122,
    "start_time": "2023-01-20T15:11:27.460Z"
   },
   {
    "duration": 232,
    "start_time": "2023-01-20T15:11:27.586Z"
   },
   {
    "duration": 27,
    "start_time": "2023-01-20T15:11:27.820Z"
   },
   {
    "duration": 13,
    "start_time": "2023-01-20T15:11:27.849Z"
   },
   {
    "duration": 7,
    "start_time": "2023-01-20T15:11:27.864Z"
   },
   {
    "duration": 14,
    "start_time": "2023-01-20T15:11:27.873Z"
   },
   {
    "duration": 3756,
    "start_time": "2023-01-20T15:11:27.889Z"
   },
   {
    "duration": 925874,
    "start_time": "2023-01-20T15:11:31.646Z"
   },
   {
    "duration": 9,
    "start_time": "2023-01-20T15:26:57.522Z"
   },
   {
    "duration": 42,
    "start_time": "2023-01-20T15:26:57.533Z"
   },
   {
    "duration": 10,
    "start_time": "2023-01-20T15:26:57.577Z"
   },
   {
    "duration": 6,
    "start_time": "2023-01-20T15:26:57.589Z"
   },
   {
    "duration": 65,
    "start_time": "2023-01-20T15:26:57.596Z"
   },
   {
    "duration": 0,
    "start_time": "2023-01-20T15:26:57.663Z"
   },
   {
    "duration": 0,
    "start_time": "2023-01-20T15:26:57.664Z"
   },
   {
    "duration": 0,
    "start_time": "2023-01-20T15:26:57.664Z"
   },
   {
    "duration": 4407,
    "start_time": "2023-01-20T19:09:43.720Z"
   },
   {
    "duration": 283,
    "start_time": "2023-01-20T19:09:48.129Z"
   },
   {
    "duration": 716,
    "start_time": "2023-01-20T19:09:48.413Z"
   },
   {
    "duration": 30,
    "start_time": "2023-01-20T19:09:49.130Z"
   },
   {
    "duration": 8,
    "start_time": "2023-01-20T19:09:49.162Z"
   },
   {
    "duration": 123,
    "start_time": "2023-01-20T19:09:49.172Z"
   },
   {
    "duration": 221,
    "start_time": "2023-01-20T19:09:49.297Z"
   },
   {
    "duration": 26,
    "start_time": "2023-01-20T19:09:49.520Z"
   },
   {
    "duration": 11,
    "start_time": "2023-01-20T19:09:49.547Z"
   },
   {
    "duration": 14,
    "start_time": "2023-01-20T19:09:49.561Z"
   },
   {
    "duration": 10,
    "start_time": "2023-01-20T19:09:49.576Z"
   },
   {
    "duration": 3598,
    "start_time": "2023-01-20T19:09:49.588Z"
   },
   {
    "duration": 853892,
    "start_time": "2023-01-20T19:09:53.188Z"
   },
   {
    "duration": 12,
    "start_time": "2023-01-20T19:24:07.082Z"
   },
   {
    "duration": 41,
    "start_time": "2023-01-20T19:24:07.096Z"
   },
   {
    "duration": 5,
    "start_time": "2023-01-20T19:24:07.138Z"
   },
   {
    "duration": 5,
    "start_time": "2023-01-20T19:24:07.145Z"
   },
   {
    "duration": 1256661,
    "start_time": "2023-01-20T19:24:07.152Z"
   },
   {
    "duration": 2743428,
    "start_time": "2023-01-20T19:45:03.815Z"
   },
   {
    "duration": 2865266,
    "start_time": "2023-01-20T20:30:47.244Z"
   },
   {
    "duration": 78,
    "start_time": "2023-01-20T21:18:32.512Z"
   },
   {
    "duration": 108,
    "start_time": "2023-01-21T06:40:49.518Z"
   },
   {
    "duration": 8,
    "start_time": "2023-01-21T11:55:28.157Z"
   },
   {
    "duration": 7,
    "start_time": "2023-01-21T11:55:59.301Z"
   },
   {
    "duration": 5820,
    "start_time": "2023-01-21T12:30:09.684Z"
   },
   {
    "duration": 1456,
    "start_time": "2023-01-21T12:30:15.506Z"
   },
   {
    "duration": 3000,
    "start_time": "2023-01-21T12:30:16.963Z"
   },
   {
    "duration": 34,
    "start_time": "2023-01-21T12:30:19.967Z"
   },
   {
    "duration": 11,
    "start_time": "2023-01-21T12:30:20.003Z"
   },
   {
    "duration": 166,
    "start_time": "2023-01-21T12:30:20.015Z"
   },
   {
    "duration": 262,
    "start_time": "2023-01-21T12:30:20.183Z"
   },
   {
    "duration": 39,
    "start_time": "2023-01-21T12:30:20.450Z"
   },
   {
    "duration": 17,
    "start_time": "2023-01-21T12:30:20.492Z"
   },
   {
    "duration": 9,
    "start_time": "2023-01-21T12:30:20.513Z"
   },
   {
    "duration": 51,
    "start_time": "2023-01-21T12:30:20.524Z"
   },
   {
    "duration": 5280,
    "start_time": "2023-01-21T12:30:20.577Z"
   },
   {
    "duration": 1125638,
    "start_time": "2023-01-21T12:30:25.859Z"
   },
   {
    "duration": 11,
    "start_time": "2023-01-21T12:49:11.499Z"
   },
   {
    "duration": 85,
    "start_time": "2023-01-21T12:49:11.511Z"
   },
   {
    "duration": 4,
    "start_time": "2023-01-21T12:49:11.598Z"
   },
   {
    "duration": 22,
    "start_time": "2023-01-21T12:49:11.603Z"
   },
   {
    "duration": 33,
    "start_time": "2023-01-21T12:49:11.626Z"
   },
   {
    "duration": 1543976,
    "start_time": "2023-01-21T12:49:11.661Z"
   },
   {
    "duration": 3,
    "start_time": "2023-01-21T13:14:55.639Z"
   },
   {
    "duration": 7744,
    "start_time": "2023-01-21T20:49:59.615Z"
   },
   {
    "duration": 798,
    "start_time": "2023-01-21T20:50:07.361Z"
   },
   {
    "duration": 2285,
    "start_time": "2023-01-21T20:50:08.161Z"
   },
   {
    "duration": 27,
    "start_time": "2023-01-21T20:50:10.447Z"
   },
   {
    "duration": 10,
    "start_time": "2023-01-21T20:50:10.476Z"
   },
   {
    "duration": 147,
    "start_time": "2023-01-21T20:50:10.487Z"
   },
   {
    "duration": 231,
    "start_time": "2023-01-21T20:50:10.636Z"
   },
   {
    "duration": 25,
    "start_time": "2023-01-21T20:50:10.869Z"
   },
   {
    "duration": 11,
    "start_time": "2023-01-21T20:50:10.896Z"
   },
   {
    "duration": 7,
    "start_time": "2023-01-21T20:50:10.909Z"
   },
   {
    "duration": 4,
    "start_time": "2023-01-21T20:50:10.918Z"
   },
   {
    "duration": 4072,
    "start_time": "2023-01-21T20:50:10.923Z"
   },
   {
    "duration": 914029,
    "start_time": "2023-01-21T20:50:14.997Z"
   },
   {
    "duration": 22,
    "start_time": "2023-01-21T21:05:29.030Z"
   },
   {
    "duration": 54,
    "start_time": "2023-01-21T21:05:29.054Z"
   },
   {
    "duration": 5,
    "start_time": "2023-01-21T21:05:29.110Z"
   },
   {
    "duration": 10,
    "start_time": "2023-01-21T21:05:29.116Z"
   },
   {
    "duration": 21,
    "start_time": "2023-01-21T21:05:29.128Z"
   },
   {
    "duration": 1474920,
    "start_time": "2023-01-21T21:05:29.150Z"
   },
   {
    "duration": 3,
    "start_time": "2023-01-21T21:30:04.072Z"
   },
   {
    "duration": 3045406,
    "start_time": "2023-01-21T21:30:04.076Z"
   },
   {
    "duration": 3,
    "start_time": "2023-01-21T22:20:49.484Z"
   },
   {
    "duration": 2995468,
    "start_time": "2023-01-21T22:20:49.489Z"
   },
   {
    "duration": 3,
    "start_time": "2023-01-21T23:10:44.958Z"
   },
   {
    "duration": 8,
    "start_time": "2023-01-21T23:10:44.963Z"
   },
   {
    "duration": 6,
    "start_time": "2023-01-21T23:10:44.973Z"
   },
   {
    "duration": 337,
    "start_time": "2023-01-21T23:10:44.981Z"
   },
   {
    "duration": 0,
    "start_time": "2023-01-21T23:10:45.320Z"
   },
   {
    "duration": 0,
    "start_time": "2023-01-21T23:10:45.321Z"
   },
   {
    "duration": 11532,
    "start_time": "2023-01-22T12:20:24.794Z"
   },
   {
    "duration": 692,
    "start_time": "2023-01-22T12:20:36.328Z"
   },
   {
    "duration": 2918,
    "start_time": "2023-01-22T12:20:37.022Z"
   },
   {
    "duration": 41,
    "start_time": "2023-01-22T12:20:39.942Z"
   },
   {
    "duration": 11,
    "start_time": "2023-01-22T12:20:39.986Z"
   },
   {
    "duration": 149,
    "start_time": "2023-01-22T12:20:39.998Z"
   },
   {
    "duration": 252,
    "start_time": "2023-01-22T12:20:40.152Z"
   },
   {
    "duration": 26,
    "start_time": "2023-01-22T12:20:40.406Z"
   },
   {
    "duration": 23,
    "start_time": "2023-01-22T12:20:40.434Z"
   },
   {
    "duration": 34,
    "start_time": "2023-01-22T12:20:40.459Z"
   },
   {
    "duration": 11,
    "start_time": "2023-01-22T12:20:40.495Z"
   },
   {
    "duration": 4721,
    "start_time": "2023-01-22T12:20:40.508Z"
   },
   {
    "duration": 1086730,
    "start_time": "2023-01-22T12:20:45.231Z"
   },
   {
    "duration": 17,
    "start_time": "2023-01-22T12:38:51.964Z"
   },
   {
    "duration": 47,
    "start_time": "2023-01-22T12:38:51.983Z"
   },
   {
    "duration": 7,
    "start_time": "2023-01-22T12:38:52.032Z"
   },
   {
    "duration": 46,
    "start_time": "2023-01-22T12:38:52.041Z"
   },
   {
    "duration": 5,
    "start_time": "2023-01-22T12:38:52.089Z"
   },
   {
    "duration": 1582043,
    "start_time": "2023-01-22T12:38:52.096Z"
   },
   {
    "duration": 22,
    "start_time": "2023-01-22T13:05:14.141Z"
   },
   {
    "duration": 15,
    "start_time": "2023-01-22T13:05:14.168Z"
   },
   {
    "duration": 7,
    "start_time": "2023-01-22T13:05:14.184Z"
   },
   {
    "duration": 4,
    "start_time": "2023-01-22T13:05:14.193Z"
   },
   {
    "duration": 4,
    "start_time": "2023-01-22T13:05:14.199Z"
   },
   {
    "duration": 13,
    "start_time": "2023-01-22T13:05:14.204Z"
   },
   {
    "duration": 5,
    "start_time": "2023-01-22T13:05:14.218Z"
   },
   {
    "duration": 4,
    "start_time": "2023-01-22T13:05:14.224Z"
   },
   {
    "duration": 9,
    "start_time": "2023-01-22T13:05:14.230Z"
   },
   {
    "duration": 31223,
    "start_time": "2023-01-22T13:05:14.240Z"
   },
   {
    "duration": 0,
    "start_time": "2023-01-22T13:05:45.474Z"
   },
   {
    "duration": 758,
    "start_time": "2023-01-22T13:27:10.575Z"
   },
   {
    "duration": 13,
    "start_time": "2023-01-22T13:27:49.180Z"
   },
   {
    "duration": 3,
    "start_time": "2023-01-22T13:33:21.989Z"
   },
   {
    "duration": 35,
    "start_time": "2023-01-22T13:33:47.107Z"
   },
   {
    "duration": 12,
    "start_time": "2023-01-22T13:36:09.623Z"
   },
   {
    "duration": 19,
    "start_time": "2023-01-22T13:37:33.458Z"
   },
   {
    "duration": 6,
    "start_time": "2023-01-22T13:37:35.469Z"
   },
   {
    "duration": 11,
    "start_time": "2023-01-22T13:39:25.909Z"
   },
   {
    "duration": 3,
    "start_time": "2023-01-22T13:39:28.605Z"
   },
   {
    "duration": 13,
    "start_time": "2023-01-22T13:39:41.419Z"
   },
   {
    "duration": 21,
    "start_time": "2023-01-22T13:41:19.081Z"
   },
   {
    "duration": 9,
    "start_time": "2023-01-22T13:47:42.897Z"
   },
   {
    "duration": 12412,
    "start_time": "2023-01-22T14:08:03.833Z"
   },
   {
    "duration": 591,
    "start_time": "2023-01-22T14:08:16.247Z"
   },
   {
    "duration": 931,
    "start_time": "2023-01-22T14:08:16.840Z"
   },
   {
    "duration": 35,
    "start_time": "2023-01-22T14:08:17.780Z"
   },
   {
    "duration": 8,
    "start_time": "2023-01-22T14:08:17.817Z"
   },
   {
    "duration": 170,
    "start_time": "2023-01-22T14:08:17.827Z"
   },
   {
    "duration": 264,
    "start_time": "2023-01-22T14:08:18.000Z"
   },
   {
    "duration": 33,
    "start_time": "2023-01-22T14:08:18.266Z"
   },
   {
    "duration": 11,
    "start_time": "2023-01-22T14:08:18.301Z"
   },
   {
    "duration": 6,
    "start_time": "2023-01-22T14:08:18.315Z"
   },
   {
    "duration": 7,
    "start_time": "2023-01-22T14:08:18.323Z"
   },
   {
    "duration": 5502,
    "start_time": "2023-01-22T14:08:18.331Z"
   },
   {
    "duration": 1194902,
    "start_time": "2023-01-22T14:08:23.834Z"
   },
   {
    "duration": 23,
    "start_time": "2023-01-22T14:28:18.738Z"
   },
   {
    "duration": 80,
    "start_time": "2023-01-22T14:28:18.764Z"
   },
   {
    "duration": 5,
    "start_time": "2023-01-22T14:28:18.845Z"
   },
   {
    "duration": 39,
    "start_time": "2023-01-22T14:28:18.852Z"
   },
   {
    "duration": 8,
    "start_time": "2023-01-22T14:28:18.893Z"
   },
   {
    "duration": 8,
    "start_time": "2023-01-22T19:36:42.846Z"
   },
   {
    "duration": 111,
    "start_time": "2023-01-22T19:36:51.440Z"
   },
   {
    "duration": 5105,
    "start_time": "2023-01-22T19:39:37.478Z"
   },
   {
    "duration": 1000,
    "start_time": "2023-01-22T19:39:42.585Z"
   },
   {
    "duration": 3532,
    "start_time": "2023-01-22T19:39:43.587Z"
   },
   {
    "duration": 41,
    "start_time": "2023-01-22T19:39:47.122Z"
   },
   {
    "duration": 11,
    "start_time": "2023-01-22T19:39:47.164Z"
   },
   {
    "duration": 161,
    "start_time": "2023-01-22T19:39:47.177Z"
   },
   {
    "duration": 251,
    "start_time": "2023-01-22T19:39:47.341Z"
   },
   {
    "duration": 28,
    "start_time": "2023-01-22T19:39:47.594Z"
   },
   {
    "duration": 18,
    "start_time": "2023-01-22T19:39:47.623Z"
   },
   {
    "duration": 5,
    "start_time": "2023-01-22T19:39:47.644Z"
   },
   {
    "duration": 7,
    "start_time": "2023-01-22T19:39:47.650Z"
   },
   {
    "duration": 4612,
    "start_time": "2023-01-22T19:41:06.501Z"
   },
   {
    "duration": 289,
    "start_time": "2023-01-22T19:41:11.115Z"
   },
   {
    "duration": 813,
    "start_time": "2023-01-22T19:41:11.406Z"
   },
   {
    "duration": 36,
    "start_time": "2023-01-22T19:41:12.221Z"
   },
   {
    "duration": 9,
    "start_time": "2023-01-22T19:41:12.259Z"
   },
   {
    "duration": 137,
    "start_time": "2023-01-22T19:41:12.269Z"
   },
   {
    "duration": 258,
    "start_time": "2023-01-22T19:41:12.408Z"
   },
   {
    "duration": 26,
    "start_time": "2023-01-22T19:41:12.668Z"
   },
   {
    "duration": 10,
    "start_time": "2023-01-22T19:41:12.695Z"
   },
   {
    "duration": 276,
    "start_time": "2023-01-22T19:41:12.707Z"
   },
   {
    "duration": 3,
    "start_time": "2023-01-22T19:41:12.985Z"
   },
   {
    "duration": 7,
    "start_time": "2023-01-22T19:41:12.990Z"
   },
   {
    "duration": 4323,
    "start_time": "2023-01-22T19:41:12.999Z"
   },
   {
    "duration": 4467,
    "start_time": "2023-01-22T19:49:08.045Z"
   },
   {
    "duration": 231,
    "start_time": "2023-01-22T19:49:12.514Z"
   },
   {
    "duration": 820,
    "start_time": "2023-01-22T19:49:12.747Z"
   },
   {
    "duration": 31,
    "start_time": "2023-01-22T19:49:13.569Z"
   },
   {
    "duration": 8,
    "start_time": "2023-01-22T19:49:13.602Z"
   },
   {
    "duration": 157,
    "start_time": "2023-01-22T19:49:13.612Z"
   },
   {
    "duration": 241,
    "start_time": "2023-01-22T19:49:13.770Z"
   },
   {
    "duration": 33,
    "start_time": "2023-01-22T19:49:14.013Z"
   },
   {
    "duration": 10,
    "start_time": "2023-01-22T19:49:14.048Z"
   },
   {
    "duration": 284,
    "start_time": "2023-01-22T19:49:14.060Z"
   },
   {
    "duration": 3,
    "start_time": "2023-01-22T19:49:14.345Z"
   },
   {
    "duration": 6,
    "start_time": "2023-01-22T19:49:14.350Z"
   },
   {
    "duration": 4284,
    "start_time": "2023-01-22T19:49:14.357Z"
   },
   {
    "duration": 4475,
    "start_time": "2023-01-22T19:51:17.064Z"
   },
   {
    "duration": 220,
    "start_time": "2023-01-22T19:51:21.541Z"
   },
   {
    "duration": 789,
    "start_time": "2023-01-22T19:51:21.762Z"
   },
   {
    "duration": 33,
    "start_time": "2023-01-22T19:51:22.553Z"
   },
   {
    "duration": 11,
    "start_time": "2023-01-22T19:51:22.588Z"
   },
   {
    "duration": 177,
    "start_time": "2023-01-22T19:51:22.601Z"
   },
   {
    "duration": 258,
    "start_time": "2023-01-22T19:51:22.780Z"
   },
   {
    "duration": 26,
    "start_time": "2023-01-22T19:51:23.041Z"
   },
   {
    "duration": 11,
    "start_time": "2023-01-22T19:51:23.068Z"
   },
   {
    "duration": 303,
    "start_time": "2023-01-22T19:51:23.082Z"
   },
   {
    "duration": 3,
    "start_time": "2023-01-22T19:51:23.387Z"
   },
   {
    "duration": 11,
    "start_time": "2023-01-22T19:51:23.392Z"
   },
   {
    "duration": 791,
    "start_time": "2023-01-22T19:51:23.404Z"
   },
   {
    "duration": 4495,
    "start_time": "2023-01-22T19:58:32.748Z"
   },
   {
    "duration": 238,
    "start_time": "2023-01-22T19:58:37.245Z"
   },
   {
    "duration": 825,
    "start_time": "2023-01-22T19:58:37.485Z"
   },
   {
    "duration": 42,
    "start_time": "2023-01-22T19:58:38.312Z"
   },
   {
    "duration": 10,
    "start_time": "2023-01-22T19:58:38.355Z"
   },
   {
    "duration": 141,
    "start_time": "2023-01-22T19:58:38.366Z"
   },
   {
    "duration": 273,
    "start_time": "2023-01-22T19:58:38.509Z"
   },
   {
    "duration": 27,
    "start_time": "2023-01-22T19:58:38.784Z"
   },
   {
    "duration": 12,
    "start_time": "2023-01-22T19:58:38.813Z"
   },
   {
    "duration": 291,
    "start_time": "2023-01-22T19:58:38.827Z"
   },
   {
    "duration": 2,
    "start_time": "2023-01-22T19:58:39.120Z"
   },
   {
    "duration": 18,
    "start_time": "2023-01-22T19:58:39.124Z"
   },
   {
    "duration": 4328,
    "start_time": "2023-01-22T19:58:39.144Z"
   },
   {
    "duration": 4481,
    "start_time": "2023-01-22T20:06:33.671Z"
   },
   {
    "duration": 242,
    "start_time": "2023-01-22T20:06:38.154Z"
   },
   {
    "duration": 846,
    "start_time": "2023-01-22T20:06:38.398Z"
   },
   {
    "duration": 32,
    "start_time": "2023-01-22T20:06:39.246Z"
   },
   {
    "duration": 9,
    "start_time": "2023-01-22T20:06:39.280Z"
   },
   {
    "duration": 150,
    "start_time": "2023-01-22T20:06:39.290Z"
   },
   {
    "duration": 261,
    "start_time": "2023-01-22T20:06:39.442Z"
   },
   {
    "duration": 38,
    "start_time": "2023-01-22T20:06:39.705Z"
   },
   {
    "duration": 12,
    "start_time": "2023-01-22T20:06:39.745Z"
   },
   {
    "duration": 288,
    "start_time": "2023-01-22T20:06:39.760Z"
   },
   {
    "duration": 3,
    "start_time": "2023-01-22T20:06:40.050Z"
   },
   {
    "duration": 5,
    "start_time": "2023-01-22T20:06:40.055Z"
   },
   {
    "duration": 4274,
    "start_time": "2023-01-22T20:06:40.061Z"
   },
   {
    "duration": 4565,
    "start_time": "2023-01-22T20:09:16.782Z"
   },
   {
    "duration": 213,
    "start_time": "2023-01-22T20:09:21.349Z"
   },
   {
    "duration": 839,
    "start_time": "2023-01-22T20:09:21.563Z"
   },
   {
    "duration": 43,
    "start_time": "2023-01-22T20:09:22.405Z"
   },
   {
    "duration": 9,
    "start_time": "2023-01-22T20:09:22.450Z"
   },
   {
    "duration": 150,
    "start_time": "2023-01-22T20:09:22.460Z"
   },
   {
    "duration": 272,
    "start_time": "2023-01-22T20:09:22.613Z"
   },
   {
    "duration": 28,
    "start_time": "2023-01-22T20:09:22.887Z"
   },
   {
    "duration": 27,
    "start_time": "2023-01-22T20:09:22.917Z"
   },
   {
    "duration": 293,
    "start_time": "2023-01-22T20:09:22.947Z"
   },
   {
    "duration": 3,
    "start_time": "2023-01-22T20:09:23.242Z"
   },
   {
    "duration": 19,
    "start_time": "2023-01-22T20:09:23.247Z"
   },
   {
    "duration": 4426,
    "start_time": "2023-01-22T20:09:23.268Z"
   },
   {
    "duration": 4534,
    "start_time": "2023-01-22T20:21:44.820Z"
   },
   {
    "duration": 229,
    "start_time": "2023-01-22T20:21:49.356Z"
   },
   {
    "duration": 835,
    "start_time": "2023-01-22T20:21:49.587Z"
   },
   {
    "duration": 47,
    "start_time": "2023-01-22T20:21:50.426Z"
   },
   {
    "duration": 13,
    "start_time": "2023-01-22T20:21:50.475Z"
   },
   {
    "duration": 186,
    "start_time": "2023-01-22T20:21:50.490Z"
   },
   {
    "duration": 273,
    "start_time": "2023-01-22T20:21:50.678Z"
   },
   {
    "duration": 29,
    "start_time": "2023-01-22T20:21:50.952Z"
   },
   {
    "duration": 11,
    "start_time": "2023-01-22T20:21:50.983Z"
   },
   {
    "duration": 304,
    "start_time": "2023-01-22T20:21:50.997Z"
   },
   {
    "duration": 3,
    "start_time": "2023-01-22T20:21:51.303Z"
   },
   {
    "duration": 9,
    "start_time": "2023-01-22T20:21:51.307Z"
   },
   {
    "duration": 4248,
    "start_time": "2023-01-22T20:21:51.318Z"
   },
   {
    "duration": 1124640,
    "start_time": "2023-01-22T20:21:55.568Z"
   },
   {
    "duration": 20,
    "start_time": "2023-01-22T20:40:40.209Z"
   },
   {
    "duration": 153,
    "start_time": "2023-01-22T20:40:40.234Z"
   },
   {
    "duration": 0,
    "start_time": "2023-01-22T20:40:40.390Z"
   },
   {
    "duration": 0,
    "start_time": "2023-01-22T20:40:40.392Z"
   },
   {
    "duration": 0,
    "start_time": "2023-01-22T20:40:40.393Z"
   },
   {
    "duration": 0,
    "start_time": "2023-01-22T20:40:40.395Z"
   },
   {
    "duration": 0,
    "start_time": "2023-01-22T20:40:40.396Z"
   },
   {
    "duration": 0,
    "start_time": "2023-01-22T20:40:40.398Z"
   },
   {
    "duration": 0,
    "start_time": "2023-01-22T20:40:40.400Z"
   },
   {
    "duration": 0,
    "start_time": "2023-01-22T20:40:40.402Z"
   },
   {
    "duration": 0,
    "start_time": "2023-01-22T20:40:40.403Z"
   },
   {
    "duration": 0,
    "start_time": "2023-01-22T20:40:40.406Z"
   },
   {
    "duration": 0,
    "start_time": "2023-01-22T20:40:40.407Z"
   },
   {
    "duration": 4381,
    "start_time": "2023-01-23T12:26:23.987Z"
   },
   {
    "duration": 611,
    "start_time": "2023-01-23T12:26:28.370Z"
   },
   {
    "duration": 2373,
    "start_time": "2023-01-23T12:26:28.983Z"
   },
   {
    "duration": 29,
    "start_time": "2023-01-23T12:26:31.358Z"
   },
   {
    "duration": 17,
    "start_time": "2023-01-23T12:26:31.389Z"
   },
   {
    "duration": 123,
    "start_time": "2023-01-23T12:26:31.408Z"
   },
   {
    "duration": 243,
    "start_time": "2023-01-23T12:26:31.533Z"
   },
   {
    "duration": 32,
    "start_time": "2023-01-23T12:26:31.777Z"
   },
   {
    "duration": 12,
    "start_time": "2023-01-23T12:26:31.811Z"
   },
   {
    "duration": 262,
    "start_time": "2023-01-23T12:26:31.826Z"
   },
   {
    "duration": 3,
    "start_time": "2023-01-23T12:26:32.090Z"
   },
   {
    "duration": 8,
    "start_time": "2023-01-23T12:26:32.095Z"
   },
   {
    "duration": 4188,
    "start_time": "2023-01-23T12:26:32.105Z"
   },
   {
    "duration": 935379,
    "start_time": "2023-01-23T12:26:36.297Z"
   },
   {
    "duration": 11,
    "start_time": "2023-01-23T12:42:11.678Z"
   },
   {
    "duration": 37,
    "start_time": "2023-01-23T12:42:11.691Z"
   },
   {
    "duration": 4,
    "start_time": "2023-01-23T12:42:11.730Z"
   },
   {
    "duration": 5,
    "start_time": "2023-01-23T12:42:11.736Z"
   },
   {
    "duration": 8,
    "start_time": "2023-01-23T12:42:11.742Z"
   },
   {
    "duration": 1443119,
    "start_time": "2023-01-23T12:42:11.752Z"
   },
   {
    "duration": 2,
    "start_time": "2023-01-23T13:06:14.873Z"
   },
   {
    "duration": 8,
    "start_time": "2023-01-23T13:06:14.877Z"
   },
   {
    "duration": 7,
    "start_time": "2023-01-23T13:06:14.886Z"
   },
   {
    "duration": 5,
    "start_time": "2023-01-23T13:06:14.895Z"
   },
   {
    "duration": 5,
    "start_time": "2023-01-23T13:06:14.902Z"
   },
   {
    "duration": 1216,
    "start_time": "2023-01-23T13:06:14.908Z"
   },
   {
    "duration": 2,
    "start_time": "2023-01-23T13:06:16.126Z"
   },
   {
    "duration": 106,
    "start_time": "2023-01-23T13:47:49.795Z"
   },
   {
    "duration": 4770,
    "start_time": "2023-01-23T13:48:00.088Z"
   },
   {
    "duration": 1029,
    "start_time": "2023-01-23T13:48:04.860Z"
   },
   {
    "duration": 2617,
    "start_time": "2023-01-23T13:48:05.891Z"
   },
   {
    "duration": 47,
    "start_time": "2023-01-23T13:48:08.514Z"
   },
   {
    "duration": 31,
    "start_time": "2023-01-23T13:48:08.565Z"
   },
   {
    "duration": 172,
    "start_time": "2023-01-23T13:48:08.598Z"
   },
   {
    "duration": 271,
    "start_time": "2023-01-23T13:48:08.771Z"
   },
   {
    "duration": 32,
    "start_time": "2023-01-23T13:48:09.043Z"
   },
   {
    "duration": 11,
    "start_time": "2023-01-23T13:48:09.077Z"
   },
   {
    "duration": 341,
    "start_time": "2023-01-23T13:48:09.091Z"
   },
   {
    "duration": 15,
    "start_time": "2023-01-23T13:48:09.434Z"
   },
   {
    "duration": 30,
    "start_time": "2023-01-23T13:48:09.451Z"
   },
   {
    "duration": 4606,
    "start_time": "2023-01-23T13:48:09.482Z"
   },
   {
    "duration": 1125166,
    "start_time": "2023-01-23T13:48:14.090Z"
   },
   {
    "duration": 4,
    "start_time": "2023-01-23T14:06:59.259Z"
   },
   {
    "duration": 22,
    "start_time": "2023-01-23T14:06:59.265Z"
   },
   {
    "duration": 80,
    "start_time": "2023-01-23T14:06:59.289Z"
   },
   {
    "duration": 11,
    "start_time": "2023-01-23T14:06:59.372Z"
   },
   {
    "duration": 20,
    "start_time": "2023-01-23T14:06:59.385Z"
   },
   {
    "duration": 6,
    "start_time": "2023-01-23T14:06:59.407Z"
   },
   {
    "duration": 8,
    "start_time": "2023-01-23T14:06:59.415Z"
   },
   {
    "duration": 20,
    "start_time": "2023-01-23T14:06:59.425Z"
   },
   {
    "duration": 3908060,
    "start_time": "2023-01-23T14:06:59.454Z"
   },
   {
    "duration": 2,
    "start_time": "2023-01-23T15:12:07.516Z"
   },
   {
    "duration": 10,
    "start_time": "2023-01-23T15:12:07.519Z"
   },
   {
    "duration": 9,
    "start_time": "2023-01-23T15:12:07.531Z"
   },
   {
    "duration": 381,
    "start_time": "2023-01-23T15:12:07.541Z"
   },
   {
    "duration": 0,
    "start_time": "2023-01-23T15:12:07.924Z"
   },
   {
    "duration": 4508,
    "start_time": "2023-01-23T15:41:38.880Z"
   },
   {
    "duration": 196,
    "start_time": "2023-01-23T15:41:43.390Z"
   },
   {
    "duration": 829,
    "start_time": "2023-01-23T15:41:43.588Z"
   },
   {
    "duration": 46,
    "start_time": "2023-01-23T15:41:44.419Z"
   },
   {
    "duration": 14,
    "start_time": "2023-01-23T15:41:44.467Z"
   },
   {
    "duration": 187,
    "start_time": "2023-01-23T15:41:44.482Z"
   },
   {
    "duration": 294,
    "start_time": "2023-01-23T15:41:44.671Z"
   },
   {
    "duration": 33,
    "start_time": "2023-01-23T15:41:44.967Z"
   },
   {
    "duration": 37,
    "start_time": "2023-01-23T15:41:45.001Z"
   },
   {
    "duration": 317,
    "start_time": "2023-01-23T15:41:45.041Z"
   },
   {
    "duration": 4,
    "start_time": "2023-01-23T15:41:45.360Z"
   },
   {
    "duration": 18,
    "start_time": "2023-01-23T15:41:45.366Z"
   },
   {
    "duration": 4523,
    "start_time": "2023-01-23T15:41:45.386Z"
   },
   {
    "duration": 1031690,
    "start_time": "2023-01-23T15:41:49.911Z"
   },
   {
    "duration": 2,
    "start_time": "2023-01-23T15:59:01.603Z"
   },
   {
    "duration": 44,
    "start_time": "2023-01-23T15:59:01.606Z"
   },
   {
    "duration": 81,
    "start_time": "2023-01-23T15:59:01.652Z"
   },
   {
    "duration": 35,
    "start_time": "2023-01-23T15:59:01.735Z"
   },
   {
    "duration": 31,
    "start_time": "2023-01-23T15:59:01.771Z"
   },
   {
    "duration": 29,
    "start_time": "2023-01-23T15:59:01.804Z"
   },
   {
    "duration": 44,
    "start_time": "2023-01-23T19:47:46.135Z"
   },
   {
    "duration": 4206,
    "start_time": "2023-01-23T19:47:54.365Z"
   },
   {
    "duration": 1005,
    "start_time": "2023-01-23T19:47:58.575Z"
   },
   {
    "duration": 3110,
    "start_time": "2023-01-23T19:47:59.581Z"
   },
   {
    "duration": 32,
    "start_time": "2023-01-23T19:48:02.693Z"
   },
   {
    "duration": 8,
    "start_time": "2023-01-23T19:48:02.728Z"
   },
   {
    "duration": 131,
    "start_time": "2023-01-23T19:48:02.738Z"
   },
   {
    "duration": 228,
    "start_time": "2023-01-23T19:48:02.871Z"
   },
   {
    "duration": 26,
    "start_time": "2023-01-23T19:48:03.103Z"
   },
   {
    "duration": 12,
    "start_time": "2023-01-23T19:48:03.131Z"
   },
   {
    "duration": 20,
    "start_time": "2023-01-23T19:48:03.145Z"
   },
   {
    "duration": 13,
    "start_time": "2023-01-23T19:48:03.166Z"
   },
   {
    "duration": 29,
    "start_time": "2023-01-23T19:48:03.180Z"
   },
   {
    "duration": 3870,
    "start_time": "2023-01-23T19:48:03.211Z"
   },
   {
    "duration": 3958,
    "start_time": "2023-01-23T19:49:39.142Z"
   },
   {
    "duration": 207,
    "start_time": "2023-01-23T19:49:43.102Z"
   },
   {
    "duration": 707,
    "start_time": "2023-01-23T19:49:43.310Z"
   },
   {
    "duration": 38,
    "start_time": "2023-01-23T19:49:44.020Z"
   },
   {
    "duration": 14,
    "start_time": "2023-01-23T19:49:44.060Z"
   },
   {
    "duration": 170,
    "start_time": "2023-01-23T19:49:44.076Z"
   },
   {
    "duration": 227,
    "start_time": "2023-01-23T19:49:44.248Z"
   },
   {
    "duration": 31,
    "start_time": "2023-01-23T19:49:44.476Z"
   },
   {
    "duration": 11,
    "start_time": "2023-01-23T19:49:44.508Z"
   },
   {
    "duration": 5,
    "start_time": "2023-01-23T19:49:44.521Z"
   },
   {
    "duration": 9,
    "start_time": "2023-01-23T19:49:44.528Z"
   },
   {
    "duration": 6,
    "start_time": "2023-01-23T19:49:44.538Z"
   },
   {
    "duration": 3757,
    "start_time": "2023-01-23T19:49:44.546Z"
   },
   {
    "duration": 3987,
    "start_time": "2023-01-23T19:57:05.948Z"
   },
   {
    "duration": 225,
    "start_time": "2023-01-23T19:57:09.937Z"
   },
   {
    "duration": 690,
    "start_time": "2023-01-23T19:57:10.164Z"
   },
   {
    "duration": 32,
    "start_time": "2023-01-23T19:57:10.856Z"
   },
   {
    "duration": 20,
    "start_time": "2023-01-23T19:57:10.890Z"
   },
   {
    "duration": 131,
    "start_time": "2023-01-23T19:57:10.912Z"
   },
   {
    "duration": 233,
    "start_time": "2023-01-23T19:57:11.044Z"
   },
   {
    "duration": 29,
    "start_time": "2023-01-23T19:57:11.278Z"
   },
   {
    "duration": 9,
    "start_time": "2023-01-23T19:57:11.309Z"
   },
   {
    "duration": 4,
    "start_time": "2023-01-23T19:57:11.321Z"
   },
   {
    "duration": 6,
    "start_time": "2023-01-23T19:57:11.326Z"
   },
   {
    "duration": 7,
    "start_time": "2023-01-23T19:57:11.333Z"
   },
   {
    "duration": 3779,
    "start_time": "2023-01-23T19:57:11.341Z"
   },
   {
    "duration": 939257,
    "start_time": "2023-01-23T19:57:15.121Z"
   },
   {
    "duration": 2,
    "start_time": "2023-01-23T20:12:54.380Z"
   },
   {
    "duration": 22,
    "start_time": "2023-01-23T20:12:54.383Z"
   },
   {
    "duration": 66,
    "start_time": "2023-01-23T20:12:54.407Z"
   },
   {
    "duration": 4,
    "start_time": "2023-01-23T20:12:54.474Z"
   },
   {
    "duration": 6,
    "start_time": "2023-01-23T20:12:54.480Z"
   },
   {
    "duration": 2,
    "start_time": "2023-01-23T20:12:54.504Z"
   },
   {
    "duration": 1518427,
    "start_time": "2023-01-23T20:12:54.507Z"
   },
   {
    "duration": 3,
    "start_time": "2023-01-23T20:38:12.937Z"
   },
   {
    "duration": 3372310,
    "start_time": "2023-01-23T20:38:12.942Z"
   },
   {
    "duration": 2,
    "start_time": "2023-01-23T21:34:25.254Z"
   },
   {
    "duration": 2533079,
    "start_time": "2023-01-23T21:34:25.258Z"
   },
   {
    "duration": 9,
    "start_time": "2023-01-23T22:16:38.338Z"
   },
   {
    "duration": 626,
    "start_time": "2023-01-23T22:16:38.349Z"
   },
   {
    "duration": 13,
    "start_time": "2023-01-23T22:16:38.979Z"
   },
   {
    "duration": 44,
    "start_time": "2023-01-24T20:54:25.772Z"
   },
   {
    "duration": 100,
    "start_time": "2023-01-27T12:10:38.868Z"
   },
   {
    "duration": 87,
    "start_time": "2023-01-27T12:11:25.133Z"
   },
   {
    "duration": 4520,
    "start_time": "2023-01-27T12:11:39.677Z"
   },
   {
    "duration": 851,
    "start_time": "2023-01-27T12:11:44.201Z"
   },
   {
    "duration": 2478,
    "start_time": "2023-01-27T12:11:45.054Z"
   },
   {
    "duration": 34,
    "start_time": "2023-01-27T12:11:47.535Z"
   },
   {
    "duration": 10,
    "start_time": "2023-01-27T12:11:47.570Z"
   },
   {
    "duration": 140,
    "start_time": "2023-01-27T12:11:47.582Z"
   },
   {
    "duration": 226,
    "start_time": "2023-01-27T12:11:47.723Z"
   },
   {
    "duration": 24,
    "start_time": "2023-01-27T12:11:47.951Z"
   },
   {
    "duration": 27,
    "start_time": "2023-01-27T12:11:47.977Z"
   },
   {
    "duration": 3,
    "start_time": "2023-01-27T12:11:48.008Z"
   },
   {
    "duration": 422,
    "start_time": "2023-01-27T12:11:48.013Z"
   },
   {
    "duration": 4171,
    "start_time": "2023-01-27T12:11:48.436Z"
   },
   {
    "duration": 599,
    "start_time": "2023-01-27T12:11:52.608Z"
   },
   {
    "duration": 12,
    "start_time": "2023-01-27T12:11:53.208Z"
   },
   {
    "duration": 82,
    "start_time": "2023-01-27T12:11:53.222Z"
   },
   {
    "duration": 4,
    "start_time": "2023-01-27T12:11:53.306Z"
   },
   {
    "duration": 5,
    "start_time": "2023-01-27T12:11:53.312Z"
   },
   {
    "duration": 22,
    "start_time": "2023-01-27T12:11:53.319Z"
   },
   {
    "duration": 4856,
    "start_time": "2023-04-13T15:53:30.863Z"
   },
   {
    "duration": 690,
    "start_time": "2023-04-13T15:53:35.721Z"
   },
   {
    "duration": 3084,
    "start_time": "2023-04-13T15:53:36.413Z"
   },
   {
    "duration": 33,
    "start_time": "2023-04-13T15:53:39.499Z"
   },
   {
    "duration": 24,
    "start_time": "2023-04-13T15:53:39.534Z"
   },
   {
    "duration": 140,
    "start_time": "2023-04-13T15:53:39.560Z"
   },
   {
    "duration": 245,
    "start_time": "2023-04-13T15:53:39.702Z"
   },
   {
    "duration": 26,
    "start_time": "2023-04-13T15:53:39.949Z"
   },
   {
    "duration": 21,
    "start_time": "2023-04-13T15:53:39.977Z"
   },
   {
    "duration": 41,
    "start_time": "2023-04-13T15:53:40.001Z"
   },
   {
    "duration": 495,
    "start_time": "2023-04-13T15:53:40.044Z"
   },
   {
    "duration": 4091,
    "start_time": "2023-04-13T15:53:40.541Z"
   },
   {
    "duration": 586,
    "start_time": "2023-04-13T15:53:44.634Z"
   },
   {
    "duration": 11,
    "start_time": "2023-04-13T15:53:45.222Z"
   },
   {
    "duration": 78,
    "start_time": "2023-04-13T15:53:45.235Z"
   },
   {
    "duration": 4,
    "start_time": "2023-04-13T15:53:45.315Z"
   },
   {
    "duration": 12,
    "start_time": "2023-04-13T15:53:45.320Z"
   },
   {
    "duration": 12,
    "start_time": "2023-04-13T15:53:45.333Z"
   },
   {
    "duration": 4291,
    "start_time": "2023-04-13T15:54:58.197Z"
   },
   {
    "duration": 234,
    "start_time": "2023-04-13T15:55:02.490Z"
   },
   {
    "duration": 760,
    "start_time": "2023-04-13T15:55:02.726Z"
   },
   {
    "duration": 32,
    "start_time": "2023-04-13T15:55:03.488Z"
   },
   {
    "duration": 11,
    "start_time": "2023-04-13T15:55:03.523Z"
   },
   {
    "duration": 171,
    "start_time": "2023-04-13T15:55:03.536Z"
   },
   {
    "duration": 228,
    "start_time": "2023-04-13T15:55:03.708Z"
   },
   {
    "duration": 27,
    "start_time": "2023-04-13T15:55:03.938Z"
   },
   {
    "duration": 29,
    "start_time": "2023-04-13T15:55:03.967Z"
   },
   {
    "duration": 13,
    "start_time": "2023-04-13T15:55:03.998Z"
   },
   {
    "duration": 408,
    "start_time": "2023-04-13T15:55:04.013Z"
   },
   {
    "duration": 3930,
    "start_time": "2023-04-13T15:55:04.423Z"
   },
   {
    "duration": 572,
    "start_time": "2023-04-13T15:55:08.355Z"
   },
   {
    "duration": 10,
    "start_time": "2023-04-13T15:55:08.930Z"
   },
   {
    "duration": 62,
    "start_time": "2023-04-13T15:55:08.942Z"
   },
   {
    "duration": 4,
    "start_time": "2023-04-13T15:55:09.005Z"
   },
   {
    "duration": 10,
    "start_time": "2023-04-13T15:55:09.011Z"
   },
   {
    "duration": 13,
    "start_time": "2023-04-13T15:55:09.022Z"
   },
   {
    "duration": 1589753,
    "start_time": "2023-04-13T15:55:09.037Z"
   },
   {
    "duration": 3,
    "start_time": "2023-04-13T16:21:38.793Z"
   },
   {
    "duration": 3802289,
    "start_time": "2023-04-13T16:21:38.798Z"
   },
   {
    "duration": 3,
    "start_time": "2023-04-13T17:25:01.089Z"
   },
   {
    "duration": 3121878,
    "start_time": "2023-04-13T17:25:01.094Z"
   },
   {
    "duration": 37,
    "start_time": "2023-04-13T18:17:02.974Z"
   },
   {
    "duration": 805,
    "start_time": "2023-04-13T18:17:03.016Z"
   },
   {
    "duration": 13,
    "start_time": "2023-04-13T18:17:03.823Z"
   },
   {
    "duration": 767,
    "start_time": "2023-04-13T18:17:03.839Z"
   },
   {
    "duration": 122,
    "start_time": "2023-04-13T19:36:59.424Z"
   },
   {
    "duration": 4695,
    "start_time": "2023-04-13T19:37:11.746Z"
   },
   {
    "duration": 357,
    "start_time": "2023-04-13T19:37:16.443Z"
   },
   {
    "duration": 818,
    "start_time": "2023-04-13T19:37:16.802Z"
   },
   {
    "duration": 33,
    "start_time": "2023-04-13T19:37:17.622Z"
   },
   {
    "duration": 9,
    "start_time": "2023-04-13T19:37:17.658Z"
   },
   {
    "duration": 164,
    "start_time": "2023-04-13T19:37:17.669Z"
   },
   {
    "duration": 259,
    "start_time": "2023-04-13T19:37:17.835Z"
   },
   {
    "duration": 28,
    "start_time": "2023-04-13T19:37:18.097Z"
   },
   {
    "duration": 12,
    "start_time": "2023-04-13T19:37:18.127Z"
   },
   {
    "duration": 3,
    "start_time": "2023-04-13T19:37:18.141Z"
   },
   {
    "duration": 427,
    "start_time": "2023-04-13T19:37:18.146Z"
   },
   {
    "duration": 4404,
    "start_time": "2023-04-13T19:37:18.575Z"
   },
   {
    "duration": 654,
    "start_time": "2023-04-13T19:37:22.981Z"
   },
   {
    "duration": 12,
    "start_time": "2023-04-13T19:37:23.637Z"
   },
   {
    "duration": 81,
    "start_time": "2023-04-13T19:37:23.650Z"
   },
   {
    "duration": 4,
    "start_time": "2023-04-13T19:37:23.733Z"
   },
   {
    "duration": 17,
    "start_time": "2023-04-13T19:37:23.738Z"
   },
   {
    "duration": 17,
    "start_time": "2023-04-13T19:37:23.756Z"
   },
   {
    "duration": 1700143,
    "start_time": "2023-04-13T19:37:23.775Z"
   },
   {
    "duration": 72,
    "start_time": "2023-04-13T20:05:43.921Z"
   },
   {
    "duration": 4793,
    "start_time": "2023-04-13T20:33:47.340Z"
   },
   {
    "duration": 293,
    "start_time": "2023-04-13T20:33:52.136Z"
   },
   {
    "duration": 826,
    "start_time": "2023-04-13T20:33:52.431Z"
   },
   {
    "duration": 38,
    "start_time": "2023-04-13T20:33:53.259Z"
   },
   {
    "duration": 22,
    "start_time": "2023-04-13T20:33:53.301Z"
   },
   {
    "duration": 153,
    "start_time": "2023-04-13T20:33:53.325Z"
   },
   {
    "duration": 262,
    "start_time": "2023-04-13T20:33:53.480Z"
   },
   {
    "duration": 27,
    "start_time": "2023-04-13T20:33:53.743Z"
   },
   {
    "duration": 34,
    "start_time": "2023-04-13T20:33:53.772Z"
   },
   {
    "duration": 4,
    "start_time": "2023-04-13T20:33:53.810Z"
   },
   {
    "duration": 8,
    "start_time": "2023-04-13T20:33:53.816Z"
   },
   {
    "duration": 0,
    "start_time": "2023-04-13T20:33:53.833Z"
   },
   {
    "duration": 0,
    "start_time": "2023-04-13T20:33:53.834Z"
   },
   {
    "duration": 0,
    "start_time": "2023-04-13T20:33:53.835Z"
   },
   {
    "duration": 0,
    "start_time": "2023-04-13T20:33:53.837Z"
   },
   {
    "duration": 0,
    "start_time": "2023-04-13T20:33:53.839Z"
   },
   {
    "duration": 0,
    "start_time": "2023-04-13T20:33:53.840Z"
   },
   {
    "duration": 0,
    "start_time": "2023-04-13T20:33:53.841Z"
   },
   {
    "duration": 0,
    "start_time": "2023-04-13T20:33:53.842Z"
   },
   {
    "duration": 0,
    "start_time": "2023-04-13T20:33:53.844Z"
   },
   {
    "duration": 0,
    "start_time": "2023-04-13T20:33:53.845Z"
   },
   {
    "duration": 0,
    "start_time": "2023-04-13T20:33:53.846Z"
   },
   {
    "duration": 1,
    "start_time": "2023-04-13T20:33:53.847Z"
   },
   {
    "duration": 4,
    "start_time": "2023-04-13T20:37:26.621Z"
   },
   {
    "duration": 6,
    "start_time": "2023-04-13T20:37:55.786Z"
   },
   {
    "duration": 4770,
    "start_time": "2023-04-13T20:40:22.084Z"
   },
   {
    "duration": 1139829,
    "start_time": "2023-04-13T20:41:02.531Z"
   },
   {
    "duration": 345,
    "start_time": "2023-04-13T21:07:05.079Z"
   },
   {
    "duration": 65,
    "start_time": "2023-04-13T21:07:15.242Z"
   },
   {
    "duration": 4,
    "start_time": "2023-04-13T21:07:25.631Z"
   },
   {
    "duration": 5,
    "start_time": "2023-04-13T21:07:31.410Z"
   },
   {
    "duration": 4605,
    "start_time": "2023-04-13T21:24:16.298Z"
   },
   {
    "duration": 272,
    "start_time": "2023-04-13T21:24:20.908Z"
   },
   {
    "duration": 858,
    "start_time": "2023-04-13T21:24:21.182Z"
   },
   {
    "duration": 34,
    "start_time": "2023-04-13T21:24:22.043Z"
   },
   {
    "duration": 28,
    "start_time": "2023-04-13T21:24:22.078Z"
   },
   {
    "duration": 151,
    "start_time": "2023-04-13T21:24:22.107Z"
   },
   {
    "duration": 266,
    "start_time": "2023-04-13T21:24:22.260Z"
   },
   {
    "duration": 28,
    "start_time": "2023-04-13T21:24:22.527Z"
   },
   {
    "duration": 20,
    "start_time": "2023-04-13T21:24:22.557Z"
   },
   {
    "duration": 22,
    "start_time": "2023-04-13T21:24:22.579Z"
   },
   {
    "duration": 9,
    "start_time": "2023-04-13T21:24:22.602Z"
   },
   {
    "duration": 4919,
    "start_time": "2023-04-13T21:24:22.612Z"
   },
   {
    "duration": 1076900,
    "start_time": "2023-04-13T21:24:27.533Z"
   },
   {
    "duration": 12,
    "start_time": "2023-04-13T21:42:24.434Z"
   },
   {
    "duration": 85,
    "start_time": "2023-04-13T21:42:24.448Z"
   },
   {
    "duration": 4,
    "start_time": "2023-04-13T21:42:24.534Z"
   },
   {
    "duration": 5,
    "start_time": "2023-04-13T21:42:24.539Z"
   },
   {
    "duration": 1602170,
    "start_time": "2023-04-13T21:42:24.546Z"
   },
   {
    "duration": 3595339,
    "start_time": "2023-04-13T22:09:06.718Z"
   },
   {
    "duration": 2693618,
    "start_time": "2023-04-13T23:09:02.059Z"
   },
   {
    "duration": 11,
    "start_time": "2023-04-13T23:53:55.679Z"
   },
   {
    "duration": 2,
    "start_time": "2023-04-13T23:53:55.693Z"
   },
   {
    "duration": 5,
    "start_time": "2023-04-13T23:53:55.697Z"
   },
   {
    "duration": 617,
    "start_time": "2023-04-14T06:18:07.039Z"
   },
   {
    "duration": 678,
    "start_time": "2023-04-14T06:18:36.376Z"
   },
   {
    "duration": 14,
    "start_time": "2023-04-14T06:18:41.214Z"
   },
   {
    "duration": 9,
    "start_time": "2023-04-14T06:20:36.775Z"
   },
   {
    "duration": 693,
    "start_time": "2023-04-14T06:21:12.641Z"
   }
  ],
  "kernelspec": {
   "display_name": "Python 3 (ipykernel)",
   "language": "python",
   "name": "python3"
  },
  "language_info": {
   "codemirror_mode": {
    "name": "ipython",
    "version": 3
   },
   "file_extension": ".py",
   "mimetype": "text/x-python",
   "name": "python",
   "nbconvert_exporter": "python",
   "pygments_lexer": "ipython3",
   "version": "3.9.5"
  },
  "toc": {
   "base_numbering": 1,
   "nav_menu": {},
   "number_sections": true,
   "sideBar": true,
   "skip_h1_title": true,
   "title_cell": "Содержание",
   "title_sidebar": "Contents",
   "toc_cell": true,
   "toc_position": {
    "height": "calc(100% - 180px)",
    "left": "10px",
    "top": "150px",
    "width": "302.391px"
   },
   "toc_section_display": true,
   "toc_window_display": true
  }
 },
 "nbformat": 4,
 "nbformat_minor": 2
}
