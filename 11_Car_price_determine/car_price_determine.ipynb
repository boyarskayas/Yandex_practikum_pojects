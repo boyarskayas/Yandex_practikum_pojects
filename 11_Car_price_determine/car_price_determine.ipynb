{
 "cells": [
  {
   "cell_type": "markdown",
   "metadata": {},
   "source": [
    "# Определение стоимости автомобилей"
   ]
  },
  {
   "cell_type": "markdown",
   "metadata": {},
   "source": [
    "**Цель исследования:** \n",
    "Построить модeль для определения стоимости автомобиля с пробегом для сервиса по продаже автомобилей с пробегом. Сервис разрабатывает приложение для привлечения новых клиентов для быстрой оценки рыночной стоимости своего автомобиля.  \n",
    "\n",
    "В нашем распоряжении исторические данные: технические характеристики, комплектации и цены автомобилей. \n",
    "\n",
    "Заказчику важны:\n",
    "\n",
    "- качество предсказания;\n",
    "- скорость предсказания;\n",
    "- время обучения."
   ]
  },
  {
   "cell_type": "markdown",
   "metadata": {},
   "source": [
    "# Описание данных"
   ]
  },
  {
   "cell_type": "markdown",
   "metadata": {},
   "source": [
    "**Признаки**   \n",
    "\n",
    "-\tDateCrawled — дата скачивания анкеты из базы\n",
    "-\tVehicleType — тип автомобильного кузова\n",
    "-\tRegistrationYear — год регистрации автомобиля\n",
    "-\tGearbox — тип коробки передач\n",
    "-\tPower — мощность (л. с.)\n",
    "-\tModel — модель автомобиля\n",
    "-\tKilometer — пробег (км)\n",
    "-\tRegistrationMonth — месяц регистрации автомобиля\n",
    "-\tFuelType — тип топлива\n",
    "-\tBrand — марка автомобиля\n",
    "-\tRepaired — была машина в ремонте или нет\n",
    "-\tDateCreated — дата создания анкеты\n",
    "-\tNumberOfPictures — количество фотографий автомобиля\n",
    "-\tPostalCode — почтовый индекс владельца анкеты (пользователя)\n",
    "-\tLastSeen — дата последней активности пользователя\n",
    "\n",
    "**Целевой признак**. \n",
    "\n",
    "- Price — цена (евро)\n"
   ]
  },
  {
   "cell_type": "markdown",
   "metadata": {},
   "source": [
    "## Подготовка данных"
   ]
  },
  {
   "cell_type": "markdown",
   "metadata": {},
   "source": [
    " #### Импорт библиотек"
   ]
  },
  {
   "cell_type": "code",
   "execution_count": 1,
   "metadata": {},
   "outputs": [],
   "source": [
    "import pandas as pd\n",
    "import seaborn as sns\n",
    "import numpy as np\n",
    "import matplotlib.pyplot as plt\n",
    "from numpy.random import RandomState\n",
    "\n",
    "from sklearn.metrics import make_scorer, mean_squared_error\n",
    "from sklearn.linear_model import LinearRegression\n",
    "from sklearn.tree import DecisionTreeRegressor\n",
    "from sklearn.ensemble import RandomForestRegressor\n",
    "from sklearn.dummy import DummyRegressor\n",
    "\n",
    "from sklearn.model_selection import train_test_split, cross_val_score, GridSearchCV, RandomizedSearchCV\n",
    "from sklearn.preprocessing import StandardScaler, OrdinalEncoder, OneHotEncoder\n",
    "from sklearn.pipeline import Pipeline\n",
    "from sklearn.pipeline import make_pipeline\n",
    "from sklearn.compose import ColumnTransformer\n",
    "\n",
    "import random\n",
    "import warnings\n",
    "import time\n",
    "warnings.filterwarnings('ignore')\n",
    "pd.set_option(\"display.max_columns\", None)\n",
    "\n",
    "from catboost import CatBoostRegressor\n",
    "from lightgbm import LGBMRegressor\n",
    "import lightgbm as lgb\n",
    "\n",
    "\n",
    "STATE = RandomState(12345)"
   ]
  },
  {
   "cell_type": "markdown",
   "metadata": {},
   "source": [
    "#### Изучение данных "
   ]
  },
  {
   "cell_type": "code",
   "execution_count": 2,
   "metadata": {},
   "outputs": [],
   "source": [
    "df = pd.read_csv('/datasets/autos.csv')"
   ]
  },
  {
   "cell_type": "code",
   "execution_count": 3,
   "metadata": {},
   "outputs": [
    {
     "data": {
      "text/html": [
       "<div>\n",
       "<style scoped>\n",
       "    .dataframe tbody tr th:only-of-type {\n",
       "        vertical-align: middle;\n",
       "    }\n",
       "\n",
       "    .dataframe tbody tr th {\n",
       "        vertical-align: top;\n",
       "    }\n",
       "\n",
       "    .dataframe thead th {\n",
       "        text-align: right;\n",
       "    }\n",
       "</style>\n",
       "<table border=\"1\" class=\"dataframe\">\n",
       "  <thead>\n",
       "    <tr style=\"text-align: right;\">\n",
       "      <th></th>\n",
       "      <th>DateCrawled</th>\n",
       "      <th>Price</th>\n",
       "      <th>VehicleType</th>\n",
       "      <th>RegistrationYear</th>\n",
       "      <th>Gearbox</th>\n",
       "      <th>Power</th>\n",
       "      <th>Model</th>\n",
       "      <th>Kilometer</th>\n",
       "      <th>RegistrationMonth</th>\n",
       "      <th>FuelType</th>\n",
       "      <th>Brand</th>\n",
       "      <th>Repaired</th>\n",
       "      <th>DateCreated</th>\n",
       "      <th>NumberOfPictures</th>\n",
       "      <th>PostalCode</th>\n",
       "      <th>LastSeen</th>\n",
       "    </tr>\n",
       "  </thead>\n",
       "  <tbody>\n",
       "    <tr>\n",
       "      <th>0</th>\n",
       "      <td>2016-03-24 11:52:17</td>\n",
       "      <td>480</td>\n",
       "      <td>NaN</td>\n",
       "      <td>1993</td>\n",
       "      <td>manual</td>\n",
       "      <td>0</td>\n",
       "      <td>golf</td>\n",
       "      <td>150000</td>\n",
       "      <td>0</td>\n",
       "      <td>petrol</td>\n",
       "      <td>volkswagen</td>\n",
       "      <td>NaN</td>\n",
       "      <td>2016-03-24 00:00:00</td>\n",
       "      <td>0</td>\n",
       "      <td>70435</td>\n",
       "      <td>2016-04-07 03:16:57</td>\n",
       "    </tr>\n",
       "    <tr>\n",
       "      <th>1</th>\n",
       "      <td>2016-03-24 10:58:45</td>\n",
       "      <td>18300</td>\n",
       "      <td>coupe</td>\n",
       "      <td>2011</td>\n",
       "      <td>manual</td>\n",
       "      <td>190</td>\n",
       "      <td>NaN</td>\n",
       "      <td>125000</td>\n",
       "      <td>5</td>\n",
       "      <td>gasoline</td>\n",
       "      <td>audi</td>\n",
       "      <td>yes</td>\n",
       "      <td>2016-03-24 00:00:00</td>\n",
       "      <td>0</td>\n",
       "      <td>66954</td>\n",
       "      <td>2016-04-07 01:46:50</td>\n",
       "    </tr>\n",
       "    <tr>\n",
       "      <th>2</th>\n",
       "      <td>2016-03-14 12:52:21</td>\n",
       "      <td>9800</td>\n",
       "      <td>suv</td>\n",
       "      <td>2004</td>\n",
       "      <td>auto</td>\n",
       "      <td>163</td>\n",
       "      <td>grand</td>\n",
       "      <td>125000</td>\n",
       "      <td>8</td>\n",
       "      <td>gasoline</td>\n",
       "      <td>jeep</td>\n",
       "      <td>NaN</td>\n",
       "      <td>2016-03-14 00:00:00</td>\n",
       "      <td>0</td>\n",
       "      <td>90480</td>\n",
       "      <td>2016-04-05 12:47:46</td>\n",
       "    </tr>\n",
       "    <tr>\n",
       "      <th>3</th>\n",
       "      <td>2016-03-17 16:54:04</td>\n",
       "      <td>1500</td>\n",
       "      <td>small</td>\n",
       "      <td>2001</td>\n",
       "      <td>manual</td>\n",
       "      <td>75</td>\n",
       "      <td>golf</td>\n",
       "      <td>150000</td>\n",
       "      <td>6</td>\n",
       "      <td>petrol</td>\n",
       "      <td>volkswagen</td>\n",
       "      <td>no</td>\n",
       "      <td>2016-03-17 00:00:00</td>\n",
       "      <td>0</td>\n",
       "      <td>91074</td>\n",
       "      <td>2016-03-17 17:40:17</td>\n",
       "    </tr>\n",
       "    <tr>\n",
       "      <th>4</th>\n",
       "      <td>2016-03-31 17:25:20</td>\n",
       "      <td>3600</td>\n",
       "      <td>small</td>\n",
       "      <td>2008</td>\n",
       "      <td>manual</td>\n",
       "      <td>69</td>\n",
       "      <td>fabia</td>\n",
       "      <td>90000</td>\n",
       "      <td>7</td>\n",
       "      <td>gasoline</td>\n",
       "      <td>skoda</td>\n",
       "      <td>no</td>\n",
       "      <td>2016-03-31 00:00:00</td>\n",
       "      <td>0</td>\n",
       "      <td>60437</td>\n",
       "      <td>2016-04-06 10:17:21</td>\n",
       "    </tr>\n",
       "  </tbody>\n",
       "</table>\n",
       "</div>"
      ],
      "text/plain": [
       "           DateCrawled  Price VehicleType  RegistrationYear Gearbox  Power  \\\n",
       "0  2016-03-24 11:52:17    480         NaN              1993  manual      0   \n",
       "1  2016-03-24 10:58:45  18300       coupe              2011  manual    190   \n",
       "2  2016-03-14 12:52:21   9800         suv              2004    auto    163   \n",
       "3  2016-03-17 16:54:04   1500       small              2001  manual     75   \n",
       "4  2016-03-31 17:25:20   3600       small              2008  manual     69   \n",
       "\n",
       "   Model  Kilometer  RegistrationMonth  FuelType       Brand Repaired  \\\n",
       "0   golf     150000                  0    petrol  volkswagen      NaN   \n",
       "1    NaN     125000                  5  gasoline        audi      yes   \n",
       "2  grand     125000                  8  gasoline        jeep      NaN   \n",
       "3   golf     150000                  6    petrol  volkswagen       no   \n",
       "4  fabia      90000                  7  gasoline       skoda       no   \n",
       "\n",
       "           DateCreated  NumberOfPictures  PostalCode             LastSeen  \n",
       "0  2016-03-24 00:00:00                 0       70435  2016-04-07 03:16:57  \n",
       "1  2016-03-24 00:00:00                 0       66954  2016-04-07 01:46:50  \n",
       "2  2016-03-14 00:00:00                 0       90480  2016-04-05 12:47:46  \n",
       "3  2016-03-17 00:00:00                 0       91074  2016-03-17 17:40:17  \n",
       "4  2016-03-31 00:00:00                 0       60437  2016-04-06 10:17:21  "
      ]
     },
     "execution_count": 3,
     "metadata": {},
     "output_type": "execute_result"
    }
   ],
   "source": [
    "df.head()"
   ]
  },
  {
   "cell_type": "code",
   "execution_count": 4,
   "metadata": {},
   "outputs": [
    {
     "name": "stdout",
     "output_type": "stream",
     "text": [
      "<class 'pandas.core.frame.DataFrame'>\n",
      "RangeIndex: 354369 entries, 0 to 354368\n",
      "Data columns (total 16 columns):\n",
      " #   Column             Non-Null Count   Dtype \n",
      "---  ------             --------------   ----- \n",
      " 0   DateCrawled        354369 non-null  object\n",
      " 1   Price              354369 non-null  int64 \n",
      " 2   VehicleType        316879 non-null  object\n",
      " 3   RegistrationYear   354369 non-null  int64 \n",
      " 4   Gearbox            334536 non-null  object\n",
      " 5   Power              354369 non-null  int64 \n",
      " 6   Model              334664 non-null  object\n",
      " 7   Kilometer          354369 non-null  int64 \n",
      " 8   RegistrationMonth  354369 non-null  int64 \n",
      " 9   FuelType           321474 non-null  object\n",
      " 10  Brand              354369 non-null  object\n",
      " 11  Repaired           283215 non-null  object\n",
      " 12  DateCreated        354369 non-null  object\n",
      " 13  NumberOfPictures   354369 non-null  int64 \n",
      " 14  PostalCode         354369 non-null  int64 \n",
      " 15  LastSeen           354369 non-null  object\n",
      "dtypes: int64(7), object(9)\n",
      "memory usage: 43.3+ MB\n"
     ]
    }
   ],
   "source": [
    "df.info()"
   ]
  },
  {
   "cell_type": "code",
   "execution_count": 5,
   "metadata": {},
   "outputs": [
    {
     "data": {
      "text/html": [
       "<div>\n",
       "<style scoped>\n",
       "    .dataframe tbody tr th:only-of-type {\n",
       "        vertical-align: middle;\n",
       "    }\n",
       "\n",
       "    .dataframe tbody tr th {\n",
       "        vertical-align: top;\n",
       "    }\n",
       "\n",
       "    .dataframe thead th {\n",
       "        text-align: right;\n",
       "    }\n",
       "</style>\n",
       "<table border=\"1\" class=\"dataframe\">\n",
       "  <thead>\n",
       "    <tr style=\"text-align: right;\">\n",
       "      <th></th>\n",
       "      <th>Price</th>\n",
       "      <th>RegistrationYear</th>\n",
       "      <th>Power</th>\n",
       "      <th>Kilometer</th>\n",
       "      <th>RegistrationMonth</th>\n",
       "      <th>NumberOfPictures</th>\n",
       "      <th>PostalCode</th>\n",
       "    </tr>\n",
       "  </thead>\n",
       "  <tbody>\n",
       "    <tr>\n",
       "      <th>count</th>\n",
       "      <td>354369.000000</td>\n",
       "      <td>354369.000000</td>\n",
       "      <td>354369.000000</td>\n",
       "      <td>354369.000000</td>\n",
       "      <td>354369.000000</td>\n",
       "      <td>354369.0</td>\n",
       "      <td>354369.000000</td>\n",
       "    </tr>\n",
       "    <tr>\n",
       "      <th>mean</th>\n",
       "      <td>4416.656776</td>\n",
       "      <td>2004.234448</td>\n",
       "      <td>110.094337</td>\n",
       "      <td>128211.172535</td>\n",
       "      <td>5.714645</td>\n",
       "      <td>0.0</td>\n",
       "      <td>50508.689087</td>\n",
       "    </tr>\n",
       "    <tr>\n",
       "      <th>std</th>\n",
       "      <td>4514.158514</td>\n",
       "      <td>90.227958</td>\n",
       "      <td>189.850405</td>\n",
       "      <td>37905.341530</td>\n",
       "      <td>3.726421</td>\n",
       "      <td>0.0</td>\n",
       "      <td>25783.096248</td>\n",
       "    </tr>\n",
       "    <tr>\n",
       "      <th>min</th>\n",
       "      <td>0.000000</td>\n",
       "      <td>1000.000000</td>\n",
       "      <td>0.000000</td>\n",
       "      <td>5000.000000</td>\n",
       "      <td>0.000000</td>\n",
       "      <td>0.0</td>\n",
       "      <td>1067.000000</td>\n",
       "    </tr>\n",
       "    <tr>\n",
       "      <th>25%</th>\n",
       "      <td>1050.000000</td>\n",
       "      <td>1999.000000</td>\n",
       "      <td>69.000000</td>\n",
       "      <td>125000.000000</td>\n",
       "      <td>3.000000</td>\n",
       "      <td>0.0</td>\n",
       "      <td>30165.000000</td>\n",
       "    </tr>\n",
       "    <tr>\n",
       "      <th>50%</th>\n",
       "      <td>2700.000000</td>\n",
       "      <td>2003.000000</td>\n",
       "      <td>105.000000</td>\n",
       "      <td>150000.000000</td>\n",
       "      <td>6.000000</td>\n",
       "      <td>0.0</td>\n",
       "      <td>49413.000000</td>\n",
       "    </tr>\n",
       "    <tr>\n",
       "      <th>75%</th>\n",
       "      <td>6400.000000</td>\n",
       "      <td>2008.000000</td>\n",
       "      <td>143.000000</td>\n",
       "      <td>150000.000000</td>\n",
       "      <td>9.000000</td>\n",
       "      <td>0.0</td>\n",
       "      <td>71083.000000</td>\n",
       "    </tr>\n",
       "    <tr>\n",
       "      <th>max</th>\n",
       "      <td>20000.000000</td>\n",
       "      <td>9999.000000</td>\n",
       "      <td>20000.000000</td>\n",
       "      <td>150000.000000</td>\n",
       "      <td>12.000000</td>\n",
       "      <td>0.0</td>\n",
       "      <td>99998.000000</td>\n",
       "    </tr>\n",
       "  </tbody>\n",
       "</table>\n",
       "</div>"
      ],
      "text/plain": [
       "               Price  RegistrationYear          Power      Kilometer  \\\n",
       "count  354369.000000     354369.000000  354369.000000  354369.000000   \n",
       "mean     4416.656776       2004.234448     110.094337  128211.172535   \n",
       "std      4514.158514         90.227958     189.850405   37905.341530   \n",
       "min         0.000000       1000.000000       0.000000    5000.000000   \n",
       "25%      1050.000000       1999.000000      69.000000  125000.000000   \n",
       "50%      2700.000000       2003.000000     105.000000  150000.000000   \n",
       "75%      6400.000000       2008.000000     143.000000  150000.000000   \n",
       "max     20000.000000       9999.000000   20000.000000  150000.000000   \n",
       "\n",
       "       RegistrationMonth  NumberOfPictures     PostalCode  \n",
       "count      354369.000000          354369.0  354369.000000  \n",
       "mean            5.714645               0.0   50508.689087  \n",
       "std             3.726421               0.0   25783.096248  \n",
       "min             0.000000               0.0    1067.000000  \n",
       "25%             3.000000               0.0   30165.000000  \n",
       "50%             6.000000               0.0   49413.000000  \n",
       "75%             9.000000               0.0   71083.000000  \n",
       "max            12.000000               0.0   99998.000000  "
      ]
     },
     "execution_count": 5,
     "metadata": {},
     "output_type": "execute_result"
    }
   ],
   "source": [
    "df.describe()"
   ]
  },
  {
   "cell_type": "code",
   "execution_count": 6,
   "metadata": {},
   "outputs": [
    {
     "name": "stdout",
     "output_type": "stream",
     "text": [
      "Количество пропусков DateCrawled              0\n",
      "Price                    0\n",
      "VehicleType          37490\n",
      "RegistrationYear         0\n",
      "Gearbox              19833\n",
      "Power                    0\n",
      "Model                19705\n",
      "Kilometer                0\n",
      "RegistrationMonth        0\n",
      "FuelType             32895\n",
      "Brand                    0\n",
      "Repaired             71154\n",
      "DateCreated              0\n",
      "NumberOfPictures         0\n",
      "PostalCode               0\n",
      "LastSeen                 0\n",
      "dtype: int64\n"
     ]
    }
   ],
   "source": [
    "print('Количество пропусков', df.isna().sum())"
   ]
  },
  {
   "cell_type": "code",
   "execution_count": 7,
   "metadata": {},
   "outputs": [
    {
     "name": "stdout",
     "output_type": "stream",
     "text": [
      "Количество дубликатов: 4\n"
     ]
    }
   ],
   "source": [
    "print('Количество дубликатов:', df.duplicated().sum())"
   ]
  },
  {
   "cell_type": "code",
   "execution_count": 8,
   "metadata": {},
   "outputs": [
    {
     "data": {
      "text/plain": [
       "0"
      ]
     },
     "execution_count": 8,
     "metadata": {},
     "output_type": "execute_result"
    }
   ],
   "source": [
    "# Избавимся от дубликатов\n",
    "df = df.drop_duplicates()\n",
    "df.duplicated().sum()"
   ]
  },
  {
   "cell_type": "markdown",
   "metadata": {},
   "source": [
    "**Первичный анализ:**\n",
    "\n",
    "- В данных 354365 строк и 16 столбцов.\n",
    "- Сразу видно, что присутствуют неинформативные для нашей цели призаки (определение стоимости автомобиля), которые не могут влиять на рыночную стоимость. Например, дата создания объявления или наличие фотографий не могут влиять на скорость продажи машины.\n",
    "- Присутствуют пропуски и аномальные значения:\n",
    "    - В столбце Price минимальное значение 0\n",
    "    - В столбце RegistrationYear есть некорректные значения года регистрации\n",
    "    - В столбце Power есть некорректные значения мощности двигателя\n",
    "    - В столбце RegistrationMonth отсутсвует месяц регистрации\n",
    "    - В столбце Kilometer более 50% с пробегом 150 000    \n",
    "- с типами данных все в порядке"
   ]
  },
  {
   "cell_type": "markdown",
   "metadata": {},
   "source": [
    "#### Предобработка"
   ]
  },
  {
   "cell_type": "markdown",
   "metadata": {},
   "source": [
    "**Перечислим призаки, которые будем считать информативными (влияющими на стоимость автомобиля и соотвественно значимыми для модели:**\n",
    "\n",
    "- VehicleType. Тип машины определяет ее функционал.\n",
    "\n",
    "- RegistrationYear. Год регистрации определяет \"свежесть\" машины. \n",
    "\n",
    "- Gearbox. Наличие автоматической коробки передач в подавляющем большинстве повышает стоимость машины и в любом случе влияет на стоимость.\n",
    "\n",
    "- Power. Мощность в лошадиных силах напрямую влияет на стоимость.\n",
    "\n",
    "- Model. Влияет на стоимость.\n",
    "\n",
    "- Kilometer. При прочих равных, чем больше пробег, тем меньше стоимость.\n",
    "\n",
    "- FuelType. Тип топлива определяет конструкцию двигателя.\n",
    "\n",
    "- Brand. Указание компании-производителя непосредественно влияет на стоимость.\n",
    "\n",
    "- NotRepaired. Если машина побывала в ДТП, то ее стоимость понижается."
   ]
  },
  {
   "cell_type": "code",
   "execution_count": 9,
   "metadata": {},
   "outputs": [],
   "source": [
    "# Удалим призаки, которые считаем не информативными.\n",
    "del df['DateCrawled'], df['DateCreated'], df['NumberOfPictures'], df['PostalCode'], df['LastSeen']"
   ]
  },
  {
   "cell_type": "code",
   "execution_count": 10,
   "metadata": {},
   "outputs": [
    {
     "data": {
      "text/html": [
       "<div>\n",
       "<style scoped>\n",
       "    .dataframe tbody tr th:only-of-type {\n",
       "        vertical-align: middle;\n",
       "    }\n",
       "\n",
       "    .dataframe tbody tr th {\n",
       "        vertical-align: top;\n",
       "    }\n",
       "\n",
       "    .dataframe thead th {\n",
       "        text-align: right;\n",
       "    }\n",
       "</style>\n",
       "<table border=\"1\" class=\"dataframe\">\n",
       "  <thead>\n",
       "    <tr style=\"text-align: right;\">\n",
       "      <th></th>\n",
       "      <th>Price</th>\n",
       "      <th>VehicleType</th>\n",
       "      <th>RegistrationYear</th>\n",
       "      <th>Gearbox</th>\n",
       "      <th>Power</th>\n",
       "      <th>Model</th>\n",
       "      <th>Kilometer</th>\n",
       "      <th>RegistrationMonth</th>\n",
       "      <th>FuelType</th>\n",
       "      <th>Brand</th>\n",
       "      <th>Repaired</th>\n",
       "    </tr>\n",
       "  </thead>\n",
       "  <tbody>\n",
       "    <tr>\n",
       "      <th>0</th>\n",
       "      <td>480</td>\n",
       "      <td>NaN</td>\n",
       "      <td>1993</td>\n",
       "      <td>manual</td>\n",
       "      <td>0</td>\n",
       "      <td>golf</td>\n",
       "      <td>150000</td>\n",
       "      <td>0</td>\n",
       "      <td>petrol</td>\n",
       "      <td>volkswagen</td>\n",
       "      <td>NaN</td>\n",
       "    </tr>\n",
       "    <tr>\n",
       "      <th>1</th>\n",
       "      <td>18300</td>\n",
       "      <td>coupe</td>\n",
       "      <td>2011</td>\n",
       "      <td>manual</td>\n",
       "      <td>190</td>\n",
       "      <td>NaN</td>\n",
       "      <td>125000</td>\n",
       "      <td>5</td>\n",
       "      <td>gasoline</td>\n",
       "      <td>audi</td>\n",
       "      <td>yes</td>\n",
       "    </tr>\n",
       "    <tr>\n",
       "      <th>2</th>\n",
       "      <td>9800</td>\n",
       "      <td>suv</td>\n",
       "      <td>2004</td>\n",
       "      <td>auto</td>\n",
       "      <td>163</td>\n",
       "      <td>grand</td>\n",
       "      <td>125000</td>\n",
       "      <td>8</td>\n",
       "      <td>gasoline</td>\n",
       "      <td>jeep</td>\n",
       "      <td>NaN</td>\n",
       "    </tr>\n",
       "    <tr>\n",
       "      <th>3</th>\n",
       "      <td>1500</td>\n",
       "      <td>small</td>\n",
       "      <td>2001</td>\n",
       "      <td>manual</td>\n",
       "      <td>75</td>\n",
       "      <td>golf</td>\n",
       "      <td>150000</td>\n",
       "      <td>6</td>\n",
       "      <td>petrol</td>\n",
       "      <td>volkswagen</td>\n",
       "      <td>no</td>\n",
       "    </tr>\n",
       "    <tr>\n",
       "      <th>4</th>\n",
       "      <td>3600</td>\n",
       "      <td>small</td>\n",
       "      <td>2008</td>\n",
       "      <td>manual</td>\n",
       "      <td>69</td>\n",
       "      <td>fabia</td>\n",
       "      <td>90000</td>\n",
       "      <td>7</td>\n",
       "      <td>gasoline</td>\n",
       "      <td>skoda</td>\n",
       "      <td>no</td>\n",
       "    </tr>\n",
       "  </tbody>\n",
       "</table>\n",
       "</div>"
      ],
      "text/plain": [
       "   Price VehicleType  RegistrationYear Gearbox  Power  Model  Kilometer  \\\n",
       "0    480         NaN              1993  manual      0   golf     150000   \n",
       "1  18300       coupe              2011  manual    190    NaN     125000   \n",
       "2   9800         suv              2004    auto    163  grand     125000   \n",
       "3   1500       small              2001  manual     75   golf     150000   \n",
       "4   3600       small              2008  manual     69  fabia      90000   \n",
       "\n",
       "   RegistrationMonth  FuelType       Brand Repaired  \n",
       "0                  0    petrol  volkswagen      NaN  \n",
       "1                  5  gasoline        audi      yes  \n",
       "2                  8  gasoline        jeep      NaN  \n",
       "3                  6    petrol  volkswagen       no  \n",
       "4                  7  gasoline       skoda       no  "
      ]
     },
     "execution_count": 10,
     "metadata": {},
     "output_type": "execute_result"
    }
   ],
   "source": [
    "df.head()"
   ]
  },
  {
   "cell_type": "code",
   "execution_count": 11,
   "metadata": {},
   "outputs": [
    {
     "name": "stdout",
     "output_type": "stream",
     "text": [
      "<class 'pandas.core.frame.DataFrame'>\n",
      "Int64Index: 354365 entries, 0 to 354368\n",
      "Data columns (total 11 columns):\n",
      " #   Column             Non-Null Count   Dtype \n",
      "---  ------             --------------   ----- \n",
      " 0   Price              354365 non-null  int64 \n",
      " 1   VehicleType        316875 non-null  object\n",
      " 2   RegistrationYear   354365 non-null  int64 \n",
      " 3   Gearbox            334532 non-null  object\n",
      " 4   Power              354365 non-null  int64 \n",
      " 5   Model              334660 non-null  object\n",
      " 6   Kilometer          354365 non-null  int64 \n",
      " 7   RegistrationMonth  354365 non-null  int64 \n",
      " 8   FuelType           321470 non-null  object\n",
      " 9   Brand              354365 non-null  object\n",
      " 10  Repaired           283211 non-null  object\n",
      "dtypes: int64(5), object(6)\n",
      "memory usage: 32.4+ MB\n"
     ]
    }
   ],
   "source": [
    "# Посмотрим на интересующие нас данные\n",
    "df.info()"
   ]
  },
  {
   "cell_type": "code",
   "execution_count": 12,
   "metadata": {},
   "outputs": [],
   "source": [
    "# Приведем названия столбцов к нижнему регистру\n",
    "df.columns = df.columns.str.lower()"
   ]
  },
  {
   "cell_type": "code",
   "execution_count": 13,
   "metadata": {},
   "outputs": [],
   "source": [
    "# Сделаем названия столбцов более читаемыми\n",
    "df = df.rename(columns = {'vehicletype': 'vehicle_type',\n",
    "                     'registrationyear': 'registration_year', \n",
    "                     'registrationmonth': 'registration_month', \n",
    "                     'gearbox': 'gear_box', \n",
    "                     'fueltype': 'fuel_type'\n",
    "                    })"
   ]
  },
  {
   "cell_type": "code",
   "execution_count": 14,
   "metadata": {},
   "outputs": [
    {
     "data": {
      "text/html": [
       "<div>\n",
       "<style scoped>\n",
       "    .dataframe tbody tr th:only-of-type {\n",
       "        vertical-align: middle;\n",
       "    }\n",
       "\n",
       "    .dataframe tbody tr th {\n",
       "        vertical-align: top;\n",
       "    }\n",
       "\n",
       "    .dataframe thead th {\n",
       "        text-align: right;\n",
       "    }\n",
       "</style>\n",
       "<table border=\"1\" class=\"dataframe\">\n",
       "  <thead>\n",
       "    <tr style=\"text-align: right;\">\n",
       "      <th></th>\n",
       "      <th>price</th>\n",
       "      <th>vehicle_type</th>\n",
       "      <th>registration_year</th>\n",
       "      <th>gear_box</th>\n",
       "      <th>power</th>\n",
       "      <th>model</th>\n",
       "      <th>kilometer</th>\n",
       "      <th>registration_month</th>\n",
       "      <th>fuel_type</th>\n",
       "      <th>brand</th>\n",
       "      <th>repaired</th>\n",
       "    </tr>\n",
       "  </thead>\n",
       "  <tbody>\n",
       "    <tr>\n",
       "      <th>0</th>\n",
       "      <td>480</td>\n",
       "      <td>NaN</td>\n",
       "      <td>1993</td>\n",
       "      <td>manual</td>\n",
       "      <td>0</td>\n",
       "      <td>golf</td>\n",
       "      <td>150000</td>\n",
       "      <td>0</td>\n",
       "      <td>petrol</td>\n",
       "      <td>volkswagen</td>\n",
       "      <td>NaN</td>\n",
       "    </tr>\n",
       "    <tr>\n",
       "      <th>1</th>\n",
       "      <td>18300</td>\n",
       "      <td>coupe</td>\n",
       "      <td>2011</td>\n",
       "      <td>manual</td>\n",
       "      <td>190</td>\n",
       "      <td>NaN</td>\n",
       "      <td>125000</td>\n",
       "      <td>5</td>\n",
       "      <td>gasoline</td>\n",
       "      <td>audi</td>\n",
       "      <td>yes</td>\n",
       "    </tr>\n",
       "  </tbody>\n",
       "</table>\n",
       "</div>"
      ],
      "text/plain": [
       "   price vehicle_type  registration_year gear_box  power model  kilometer  \\\n",
       "0    480          NaN               1993   manual      0  golf     150000   \n",
       "1  18300        coupe               2011   manual    190   NaN     125000   \n",
       "\n",
       "   registration_month fuel_type       brand repaired  \n",
       "0                   0    petrol  volkswagen      NaN  \n",
       "1                   5  gasoline        audi      yes  "
      ]
     },
     "execution_count": 14,
     "metadata": {},
     "output_type": "execute_result"
    }
   ],
   "source": [
    "df.head(2)"
   ]
  },
  {
   "cell_type": "markdown",
   "metadata": {},
   "source": [
    "Поработаем с пропусками"
   ]
  },
  {
   "cell_type": "code",
   "execution_count": 15,
   "metadata": {},
   "outputs": [
    {
     "data": {
      "image/png": "[encoded data removed]",
      "text/plain": [
       "<Figure size 432x288 with 1 Axes>"
      ]
     },
     "metadata": {
      "needs_background": "light"
     },
     "output_type": "display_data"
    }
   ],
   "source": [
    "(df.isna().sum().sort_values(ascending=False) / df.shape[0] * 100).plot(kind='bar', title = 'Процент пропусков')\n",
    "plt.show()"
   ]
  },
  {
   "cell_type": "markdown",
   "metadata": {},
   "source": [
    "Объем пропущенных значений:\n",
    "\n",
    "- 20% в столбце repaired. Возможно, здесь пропуски из-за человеческого фактора, автомобиль не был в ремонте и владельцы пропустили это значение. Либо решили скрыть факт повреждения.\n",
    "- 11% в столбце vehicle_type.\t\n",
    "- 10% в cтолбце fuel_type.\n",
    "- 6% в столбце model\n",
    "- 6% в столбце gear_box\n",
    "\n",
    "Природа пропусков в остальных столбцах не известна, вероятно, это человеческий фактор или проблемы с выгрузкой данных. "
   ]
  },
  {
   "cell_type": "code",
   "execution_count": 16,
   "metadata": {},
   "outputs": [],
   "source": [
    "# Будем считать, что пропуски в столбце repaired говорят о том, что автомобиль в ремонте не был\n",
    "df['repaired'] = df['repaired'].fillna('no')"
   ]
  },
  {
   "cell_type": "markdown",
   "metadata": {},
   "source": [
    "Рассмотрим столбцы vehicle_type, gear_box, model, fuel_typе.  \n",
    "\n",
    "- Во всех из них есть пропуски, но мы не можем восстановить по какому-либо похожему признаку, потому что в разные годы (и в течении одного года выпуска) автомобили одной марки могли выпускаться с разными типами кузова, с разными типами коробки передач, с разными двигателями и типом топлива. Заменим пропущенные значения на 'unknown'.  "
   ]
  },
  {
   "cell_type": "code",
   "execution_count": 17,
   "metadata": {},
   "outputs": [],
   "source": [
    "df['vehicle_type'].fillna('unknown', inplace = True)\n",
    "df['gear_box'].fillna('unknown', inplace = True)\n",
    "df['model'].fillna('unknown', inplace = True)\n",
    "\n",
    "# В столбце fuel_type и gazoline, и petrol обозначают бензин, использованы разные названия. \n",
    "# Заменим устаревшее название petrol на более современное\n",
    "df['fuel_type'] = df['fuel_type'].replace({'petrol' : 'gasoline'})\n",
    "df['fuel_type'].fillna('unknown', inplace = True)"
   ]
  },
  {
   "cell_type": "code",
   "execution_count": 18,
   "metadata": {},
   "outputs": [],
   "source": [
    "def make_plot(index, title):\n",
    "    pivot = pd.DataFrame(df.pivot_table(index=index, aggfunc=\"size\").sort_values(ascending=False)).head(10)\n",
    "    pivot.columns = ['count']\n",
    "    plt.figure(figsize=(16,8))\n",
    "    plt.title(title)\n",
    "    colors = sns.color_palette('bright')[ 0:5 ]\n",
    "    plt.pie(data=pivot, labels=pivot.index, x='count', colors = colors, rotatelabels=True, autopct='%.0f%%')\n",
    "    plt.show() "
   ]
  },
  {
   "cell_type": "code",
   "execution_count": 19,
   "metadata": {},
   "outputs": [
    {
     "data": {
      "image/png": "[encoded data removed]",
      "text/plain": [
       "<Figure size 1152x576 with 1 Axes>"
      ]
     },
     "metadata": {},
     "output_type": "display_data"
    }
   ],
   "source": [
    "make_plot('model', '10 популярных моделей авто')"
   ]
  },
  {
   "cell_type": "markdown",
   "metadata": {},
   "source": [
    "Самая популярная модель - Golf"
   ]
  },
  {
   "cell_type": "code",
   "execution_count": 20,
   "metadata": {},
   "outputs": [
    {
     "data": {
      "image/png": "[encoded data removed]",
      "text/plain": [
       "<Figure size 1152x576 with 1 Axes>"
      ]
     },
     "metadata": {},
     "output_type": "display_data"
    }
   ],
   "source": [
    "make_plot('vehicle_type', 'Типы автомобильного кузова')"
   ]
  },
  {
   "cell_type": "markdown",
   "metadata": {},
   "source": [
    "Самый распространенный тип кузова - Седан"
   ]
  },
  {
   "cell_type": "code",
   "execution_count": 21,
   "metadata": {},
   "outputs": [
    {
     "data": {
      "image/png": "[encoded data removed]",
      "text/plain": [
       "<Figure size 1152x576 with 1 Axes>"
      ]
     },
     "metadata": {},
     "output_type": "display_data"
    }
   ],
   "source": [
    "make_plot('gear_box', 'Типы коробки передач')"
   ]
  },
  {
   "cell_type": "markdown",
   "metadata": {},
   "source": [
    "Большинство машин с ручной коробкой передач"
   ]
  },
  {
   "cell_type": "code",
   "execution_count": 22,
   "metadata": {},
   "outputs": [
    {
     "data": {
      "image/png": "[encoded data removed]",
      "text/plain": [
       "<Figure size 1152x576 with 1 Axes>"
      ]
     },
     "metadata": {},
     "output_type": "display_data"
    }
   ],
   "source": [
    "make_plot('brand', '10 популярных автомобильных брендов')"
   ]
  },
  {
   "cell_type": "markdown",
   "metadata": {},
   "source": [
    "Среди брендов лидирует Volkswagen"
   ]
  },
  {
   "cell_type": "code",
   "execution_count": 23,
   "metadata": {},
   "outputs": [
    {
     "data": {
      "image/png": "[encoded data removed]",
      "text/plain": [
       "<Figure size 1152x576 with 1 Axes>"
      ]
     },
     "metadata": {},
     "output_type": "display_data"
    }
   ],
   "source": [
    "make_plot('fuel_type', 'Тип топлива')"
   ]
  },
  {
   "cell_type": "markdown",
   "metadata": {},
   "source": [
    "Подавляющее большинство автомобилей используют в качестве топлива бензин"
   ]
  },
  {
   "cell_type": "markdown",
   "metadata": {},
   "source": [
    "Посмотрим на распределение целевого признака price"
   ]
  },
  {
   "cell_type": "code",
   "execution_count": 24,
   "metadata": {},
   "outputs": [
    {
     "data": {
      "image/png": "[encoded data removed]",
      "text/plain": [
       "<Figure size 864x576 with 1 Axes>"
      ]
     },
     "metadata": {
      "needs_background": "light"
     },
     "output_type": "display_data"
    }
   ],
   "source": [
    "fig, ax = plt.subplots(figsize=(12, 8))\n",
    "sns.histplot(data=df['price'], kde = True)\n",
    "plt.show()"
   ]
  },
  {
   "cell_type": "code",
   "execution_count": 25,
   "metadata": {},
   "outputs": [
    {
     "data": {
      "text/plain": [
       "(12028, 11)"
      ]
     },
     "execution_count": 25,
     "metadata": {},
     "output_type": "execute_result"
    }
   ],
   "source": [
    "cars_price_abnormal = df.query('price < 10')\n",
    "cars_price_abnormal.shape"
   ]
  },
  {
   "cell_type": "markdown",
   "metadata": {},
   "source": [
    "Стоимость более 12 тыс. автомобилей ниже 10€. Владельцы а/м могут указывать такую цену только за разбитый а/м под восставновление, либо с расчётом на равноценный обмен.\n",
    "Удалим данные стоимости автомобилей ниже 10€, т.к. такие значения нам не интересны. "
   ]
  },
  {
   "cell_type": "code",
   "execution_count": 26,
   "metadata": {},
   "outputs": [],
   "source": [
    "df = df.query('price > 10')"
   ]
  },
  {
   "cell_type": "code",
   "execution_count": 27,
   "metadata": {},
   "outputs": [
    {
     "data": {
      "image/png": "[encoded data removed]",
      "text/plain": [
       "<Figure size 864x576 with 1 Axes>"
      ]
     },
     "metadata": {
      "needs_background": "light"
     },
     "output_type": "display_data"
    }
   ],
   "source": [
    "# Проверим, как изменилось распределение\n",
    "fig, ax = plt.subplots(figsize=(12, 8))\n",
    "sns.histplot(data=df['price'], kde = True)\n",
    "plt.show()"
   ]
  },
  {
   "cell_type": "markdown",
   "metadata": {},
   "source": [
    "Посмотрим на значения в столбце power (мощность)"
   ]
  },
  {
   "cell_type": "code",
   "execution_count": 28,
   "metadata": {},
   "outputs": [
    {
     "data": {
      "text/plain": [
       "count    342253.000000\n",
       "mean        111.124943\n",
       "std         188.194985\n",
       "min           0.000000\n",
       "25%          69.000000\n",
       "50%         105.000000\n",
       "75%         143.000000\n",
       "max       20000.000000\n",
       "Name: power, dtype: float64"
      ]
     },
     "execution_count": 28,
     "metadata": {},
     "output_type": "execute_result"
    }
   ],
   "source": [
    "df['power'].describe()"
   ]
  },
  {
   "cell_type": "markdown",
   "metadata": {},
   "source": [
    "В данных много выбросов. Мощность автомобиля не может быть равна нулю. Согласно справочной информации, мощность серийных автомобилей не менее 50 л.с. и редко превышает 400 л.с. Посмотрим на распределение данных по квантилям от показателей столбца для графика."
   ]
  },
  {
   "cell_type": "code",
   "execution_count": 29,
   "metadata": {},
   "outputs": [
    {
     "data": {
      "text/plain": [
       "Text(0, 0.5, 'Количество')"
      ]
     },
     "execution_count": 29,
     "metadata": {},
     "output_type": "execute_result"
    },
    {
     "data": {
      "image/png": "[encoded data removed]",
      "text/plain": [
       "<Figure size 864x432 with 1 Axes>"
      ]
     },
     "metadata": {
      "needs_background": "light"
     },
     "output_type": "display_data"
    }
   ],
   "source": [
    "Q1 = df['power'].quantile(0.25)\n",
    "Q3 = df['power'].quantile(0.75)\n",
    "IQR = Q3 - Q1\n",
    "fig, ax = plt.subplots()\n",
    "df['power'].plot(kind = 'hist', bins = 100, grid = True, range = (Q1 - IQR, Q3 + 3*IQR), figsize = (12, 6))\n",
    "ax.set_xlabel('Лошадиные силы')\n",
    "ax.set_ylabel('Количество')"
   ]
  },
  {
   "cell_type": "markdown",
   "metadata": {},
   "source": [
    "Согласно графику большинство автомобилей с мощностью до 350 лс. Примем это значение как максимум диапазона. Нулевые значения удалим."
   ]
  },
  {
   "cell_type": "code",
   "execution_count": 30,
   "metadata": {},
   "outputs": [],
   "source": [
    "df = df.query('0 < power < 350')"
   ]
  },
  {
   "cell_type": "code",
   "execution_count": 31,
   "metadata": {},
   "outputs": [
    {
     "data": {
      "image/png": "[encoded data removed]",
      "text/plain": [
       "<Figure size 864x432 with 1 Axes>"
      ]
     },
     "metadata": {
      "needs_background": "light"
     },
     "output_type": "display_data"
    }
   ],
   "source": [
    "fig, ax = plt.subplots(figsize=(12, 6))\n",
    "ax.set_title('Мощность')\n",
    "sns.distplot(df['power'], kde=False, bins=50, ax = ax)\n",
    "ax.set_ylabel('Количество')          \n",
    "plt.show()"
   ]
  },
  {
   "cell_type": "markdown",
   "metadata": {},
   "source": [
    "Посмотрим на данные в столбце registration_year"
   ]
  },
  {
   "cell_type": "code",
   "execution_count": 32,
   "metadata": {},
   "outputs": [
    {
     "data": {
      "text/plain": [
       "count    305299.000000\n",
       "mean       2003.482458\n",
       "std          29.172007\n",
       "min        1000.000000\n",
       "25%        1999.000000\n",
       "50%        2003.000000\n",
       "75%        2008.000000\n",
       "max        9999.000000\n",
       "Name: registration_year, dtype: float64"
      ]
     },
     "execution_count": 32,
     "metadata": {},
     "output_type": "execute_result"
    }
   ],
   "source": [
    "df['registration_year'].describe()"
   ]
  },
  {
   "cell_type": "markdown",
   "metadata": {},
   "source": [
    "В данных есть выбросы. Годы выпуска 1000 и 9999 не могут соответствовать действительнсти. Посмотрим на распределение"
   ]
  },
  {
   "cell_type": "code",
   "execution_count": 33,
   "metadata": {},
   "outputs": [
    {
     "data": {
      "text/plain": [
       "count    305299.000000\n",
       "mean       2003.482458\n",
       "std          29.172007\n",
       "min        1000.000000\n",
       "5%         1993.000000\n",
       "25%        1999.000000\n",
       "50%        2003.000000\n",
       "75%        2008.000000\n",
       "95%        2016.000000\n",
       "99%        2017.000000\n",
       "max        9999.000000\n",
       "Name: registration_year, dtype: float64"
      ]
     },
     "execution_count": 33,
     "metadata": {},
     "output_type": "execute_result"
    }
   ],
   "source": [
    "df['registration_year'].describe(percentiles=[0.05, 1/4, 1/2, 3/4, 0.95, 0.99])"
   ]
  },
  {
   "cell_type": "markdown",
   "metadata": {},
   "source": [
    "Возьмем возьмем диапазон областей от 5% до 95% в столбце года регистрации."
   ]
  },
  {
   "cell_type": "code",
   "execution_count": 34,
   "metadata": {},
   "outputs": [],
   "source": [
    "df = df.query('registration_year >= 1993 and registration_year <= 2016')"
   ]
  },
  {
   "cell_type": "code",
   "execution_count": 35,
   "metadata": {
    "scrolled": true
   },
   "outputs": [
    {
     "data": {
      "image/png": "[encoded data removed]",
      "text/plain": [
       "<Figure size 864x432 with 1 Axes>"
      ]
     },
     "metadata": {
      "needs_background": "light"
     },
     "output_type": "display_data"
    }
   ],
   "source": [
    "fig, ax = plt.subplots(figsize=(12, 6))\n",
    "ax.set_title('Год регистрации')\n",
    "sns.distplot(df['registration_year'], kde=False, bins=50, ax = ax)\n",
    "ax.set_ylabel('Количество')          \n",
    "plt.show()"
   ]
  },
  {
   "cell_type": "markdown",
   "metadata": {},
   "source": [
    "Посмотрим на значения в столбце месяц регистрации (registration_month)"
   ]
  },
  {
   "cell_type": "code",
   "execution_count": 36,
   "metadata": {},
   "outputs": [
    {
     "data": {
      "text/plain": [
       "array([ 5,  8,  6,  7, 10,  0, 12, 11,  2,  3,  1,  4,  9])"
      ]
     },
     "execution_count": 36,
     "metadata": {},
     "output_type": "execute_result"
    }
   ],
   "source": [
    "df['registration_month'].unique()"
   ]
  },
  {
   "cell_type": "code",
   "execution_count": 37,
   "metadata": {},
   "outputs": [
    {
     "data": {
      "text/plain": [
       "3     28932\n",
       "6     26211\n",
       "4     24461\n",
       "5     24406\n",
       "7     22338\n",
       "10    22133\n",
       "12    20359\n",
       "11    20210\n",
       "9     20134\n",
       "1     19123\n",
       "8     18966\n",
       "2     17990\n",
       "0     16212\n",
       "Name: registration_month, dtype: int64"
      ]
     },
     "execution_count": 37,
     "metadata": {},
     "output_type": "execute_result"
    }
   ],
   "source": [
    "df['registration_month'].value_counts()"
   ]
  },
  {
   "cell_type": "markdown",
   "metadata": {},
   "source": [
    "В столбце появился 13-й месяц 0. Поскольку у нас 16212 нулевых значений, удалять их не будем. Этот параметр особого значения на ценообразование не имеет, заменим нулевые значения рандомными."
   ]
  },
  {
   "cell_type": "code",
   "execution_count": 38,
   "metadata": {},
   "outputs": [],
   "source": [
    "z = df['registration_month'].value_counts(normalize=True).drop(0)\n",
    "\n",
    "df.loc[df[\"registration_month\"] == 0, 'registration_month'] =  random.choices(\n",
    "    z.index, weights=z, k=df.loc[df[\"registration_month\"] == 0]['registration_month'].count())"
   ]
  },
  {
   "cell_type": "code",
   "execution_count": 39,
   "metadata": {},
   "outputs": [
    {
     "data": {
      "text/plain": [
       "3     30765\n",
       "6     27791\n",
       "4     25973\n",
       "5     25899\n",
       "7     23665\n",
       "10    23490\n",
       "12    21612\n",
       "11    21429\n",
       "9     21397\n",
       "1     20303\n",
       "8     20110\n",
       "2     19041\n",
       "Name: registration_month, dtype: int64"
      ]
     },
     "execution_count": 39,
     "metadata": {},
     "output_type": "execute_result"
    }
   ],
   "source": [
    "# Проверим, что получилось\n",
    "df['registration_month'].value_counts()"
   ]
  },
  {
   "cell_type": "markdown",
   "metadata": {},
   "source": [
    "Посмотрим, как изменились данные"
   ]
  },
  {
   "cell_type": "code",
   "execution_count": 40,
   "metadata": {
    "scrolled": true
   },
   "outputs": [
    {
     "name": "stdout",
     "output_type": "stream",
     "text": [
      "<class 'pandas.core.frame.DataFrame'>\n",
      "Int64Index: 281475 entries, 1 to 354368\n",
      "Data columns (total 11 columns):\n",
      " #   Column              Non-Null Count   Dtype \n",
      "---  ------              --------------   ----- \n",
      " 0   price               281475 non-null  int64 \n",
      " 1   vehicle_type        281475 non-null  object\n",
      " 2   registration_year   281475 non-null  int64 \n",
      " 3   gear_box            281475 non-null  object\n",
      " 4   power               281475 non-null  int64 \n",
      " 5   model               281475 non-null  object\n",
      " 6   kilometer           281475 non-null  int64 \n",
      " 7   registration_month  281475 non-null  int64 \n",
      " 8   fuel_type           281475 non-null  object\n",
      " 9   brand               281475 non-null  object\n",
      " 10  repaired            281475 non-null  object\n",
      "dtypes: int64(5), object(6)\n",
      "memory usage: 25.8+ MB\n"
     ]
    }
   ],
   "source": [
    "df.info()"
   ]
  },
  {
   "cell_type": "code",
   "execution_count": 41,
   "metadata": {},
   "outputs": [
    {
     "data": {
      "text/plain": [
       "(281475, 11)"
      ]
     },
     "execution_count": 41,
     "metadata": {},
     "output_type": "execute_result"
    }
   ],
   "source": [
    "df.shape"
   ]
  },
  {
   "cell_type": "code",
   "execution_count": 42,
   "metadata": {},
   "outputs": [
    {
     "data": {
      "text/html": [
       "<div>\n",
       "<style scoped>\n",
       "    .dataframe tbody tr th:only-of-type {\n",
       "        vertical-align: middle;\n",
       "    }\n",
       "\n",
       "    .dataframe tbody tr th {\n",
       "        vertical-align: top;\n",
       "    }\n",
       "\n",
       "    .dataframe thead th {\n",
       "        text-align: right;\n",
       "    }\n",
       "</style>\n",
       "<table border=\"1\" class=\"dataframe\">\n",
       "  <thead>\n",
       "    <tr style=\"text-align: right;\">\n",
       "      <th></th>\n",
       "      <th>price</th>\n",
       "      <th>vehicle_type</th>\n",
       "      <th>registration_year</th>\n",
       "      <th>gear_box</th>\n",
       "      <th>power</th>\n",
       "      <th>model</th>\n",
       "      <th>kilometer</th>\n",
       "      <th>registration_month</th>\n",
       "      <th>fuel_type</th>\n",
       "      <th>brand</th>\n",
       "      <th>repaired</th>\n",
       "    </tr>\n",
       "  </thead>\n",
       "  <tbody>\n",
       "    <tr>\n",
       "      <th>1</th>\n",
       "      <td>18300</td>\n",
       "      <td>coupe</td>\n",
       "      <td>2011</td>\n",
       "      <td>manual</td>\n",
       "      <td>190</td>\n",
       "      <td>unknown</td>\n",
       "      <td>125000</td>\n",
       "      <td>5</td>\n",
       "      <td>gasoline</td>\n",
       "      <td>audi</td>\n",
       "      <td>yes</td>\n",
       "    </tr>\n",
       "    <tr>\n",
       "      <th>2</th>\n",
       "      <td>9800</td>\n",
       "      <td>suv</td>\n",
       "      <td>2004</td>\n",
       "      <td>auto</td>\n",
       "      <td>163</td>\n",
       "      <td>grand</td>\n",
       "      <td>125000</td>\n",
       "      <td>8</td>\n",
       "      <td>gasoline</td>\n",
       "      <td>jeep</td>\n",
       "      <td>no</td>\n",
       "    </tr>\n",
       "    <tr>\n",
       "      <th>3</th>\n",
       "      <td>1500</td>\n",
       "      <td>small</td>\n",
       "      <td>2001</td>\n",
       "      <td>manual</td>\n",
       "      <td>75</td>\n",
       "      <td>golf</td>\n",
       "      <td>150000</td>\n",
       "      <td>6</td>\n",
       "      <td>gasoline</td>\n",
       "      <td>volkswagen</td>\n",
       "      <td>no</td>\n",
       "    </tr>\n",
       "    <tr>\n",
       "      <th>4</th>\n",
       "      <td>3600</td>\n",
       "      <td>small</td>\n",
       "      <td>2008</td>\n",
       "      <td>manual</td>\n",
       "      <td>69</td>\n",
       "      <td>fabia</td>\n",
       "      <td>90000</td>\n",
       "      <td>7</td>\n",
       "      <td>gasoline</td>\n",
       "      <td>skoda</td>\n",
       "      <td>no</td>\n",
       "    </tr>\n",
       "    <tr>\n",
       "      <th>5</th>\n",
       "      <td>650</td>\n",
       "      <td>sedan</td>\n",
       "      <td>1995</td>\n",
       "      <td>manual</td>\n",
       "      <td>102</td>\n",
       "      <td>3er</td>\n",
       "      <td>150000</td>\n",
       "      <td>10</td>\n",
       "      <td>gasoline</td>\n",
       "      <td>bmw</td>\n",
       "      <td>yes</td>\n",
       "    </tr>\n",
       "  </tbody>\n",
       "</table>\n",
       "</div>"
      ],
      "text/plain": [
       "   price vehicle_type  registration_year gear_box  power    model  kilometer  \\\n",
       "1  18300        coupe               2011   manual    190  unknown     125000   \n",
       "2   9800          suv               2004     auto    163    grand     125000   \n",
       "3   1500        small               2001   manual     75     golf     150000   \n",
       "4   3600        small               2008   manual     69    fabia      90000   \n",
       "5    650        sedan               1995   manual    102      3er     150000   \n",
       "\n",
       "   registration_month fuel_type       brand repaired  \n",
       "1                   5  gasoline        audi      yes  \n",
       "2                   8  gasoline        jeep       no  \n",
       "3                   6  gasoline  volkswagen       no  \n",
       "4                   7  gasoline       skoda       no  \n",
       "5                  10  gasoline         bmw      yes  "
      ]
     },
     "execution_count": 42,
     "metadata": {},
     "output_type": "execute_result"
    }
   ],
   "source": [
    "df.head()"
   ]
  },
  {
   "cell_type": "markdown",
   "metadata": {},
   "source": [
    "**ВЫВОД**\n",
    "\n",
    "В результате предобработки данных:\n",
    "- Мы потеряли около 20% данных, являющихся выбросами. Выбросы по каждому столбцы были проработаны и удалены. Причина такого количества выбросов, вероятнее всего, в человеческом факторе.\n",
    "- Привели заголовки столбцов к змеиному регистру. \n",
    "- Пропуски заменили на unknown, дубликаты удалили.\n",
    "- Удалили не информативные признаки, которые будут мешать обучению моделей и выполнению поставленной задачи."
   ]
  },
  {
   "cell_type": "markdown",
   "metadata": {},
   "source": [
    "## Обучение моделей"
   ]
  },
  {
   "cell_type": "markdown",
   "metadata": {},
   "source": [
    "#### Подготовка к обучению"
   ]
  },
  {
   "cell_type": "markdown",
   "metadata": {},
   "source": [
    "Выберем следующие регрессоры для обучения:\n",
    "\n",
    "- LinearRegression\n",
    "- DecisionTreeRegressor  \n",
    "- RandomForestRegressor\n",
    "- LGBMRegressor\n",
    "- CatBoostRegressor\n",
    "\n",
    "В качестве метрики для всех моделей будем использовать RMSE. "
   ]
  },
  {
   "cell_type": "markdown",
   "metadata": {},
   "source": [
    "Изменим тип данных object на category"
   ]
  },
  {
   "cell_type": "code",
   "execution_count": 43,
   "metadata": {},
   "outputs": [],
   "source": [
    "for col in df.columns:\n",
    "    if df[col].dtypes == 'object':\n",
    "        df[col] = df[col].astype('category')"
   ]
  },
  {
   "cell_type": "markdown",
   "metadata": {},
   "source": [
    "Подготовим данные для обучения, выделим целевой признак, разделим выборки на обучающую, вылидационную и тестовую  в соотношении 3:1:1 "
   ]
  },
  {
   "cell_type": "code",
   "execution_count": 44,
   "metadata": {},
   "outputs": [],
   "source": [
    "features = df.drop(['price'], axis=1)\n",
    "target = df['price']\n",
    "\n",
    "X_train, X, y_train, y = train_test_split(features, target, \n",
    "                                            test_size=0.4, random_state=STATE)\n",
    "\n",
    "X_test, X_valid, y_test, y_valid = train_test_split(X, y, \n",
    "                                           test_size=0.5, random_state=STATE)"
   ]
  },
  {
   "cell_type": "code",
   "execution_count": 45,
   "metadata": {},
   "outputs": [
    {
     "data": {
      "text/plain": [
       "((168885, 10), (56295, 10), (56295, 10), (168885,), (56295,), (56295,))"
      ]
     },
     "execution_count": 45,
     "metadata": {},
     "output_type": "execute_result"
    }
   ],
   "source": [
    "# Проверим результат\n",
    "X_train.shape, X_test.shape, X_valid.shape, y_train.shape, y_valid.shape, y_test.shape"
   ]
  },
  {
   "cell_type": "markdown",
   "metadata": {},
   "source": [
    "Подготовим списки с категориальными и числовыми значениями"
   ]
  },
  {
   "cell_type": "code",
   "execution_count": 46,
   "metadata": {},
   "outputs": [],
   "source": [
    "cat = []\n",
    "numeric = []\n",
    "for col in features.columns:\n",
    "    if features[col].dtypes == 'category':\n",
    "        cat.append(col)\n",
    "    else:\n",
    "        numeric.append(col)"
   ]
  },
  {
   "cell_type": "markdown",
   "metadata": {},
   "source": [
    "Для того, чтобы избежать появления значений Nan при использовании OrdinalEncoder, перезапишем индексы. "
   ]
  },
  {
   "cell_type": "code",
   "execution_count": 48,
   "metadata": {},
   "outputs": [],
   "source": [
    "X_train = X_train.reset_index(drop=True)\n",
    "y_train = y_train.reset_index(drop=True)\n",
    "X_test = X_test.reset_index(drop=True)\n",
    "y_test = y_test.reset_index(drop=True)\n",
    "X_valid = X_valid.reset_index(drop=True)\n",
    "y_valid = y_valid.reset_index(drop=True)"
   ]
  },
  {
   "cell_type": "markdown",
   "metadata": {},
   "source": [
    "Создадим словари гиперпараметров для моделей "
   ]
  },
  {
   "cell_type": "code",
   "execution_count": 74,
   "metadata": {},
   "outputs": [],
   "source": [
    "dt_params = {\n",
    "    'max_depth': range(1, 15)\n",
    "}\n",
    "rf_params = {\n",
    "    'n_estimators': range(10, 50, 5),\n",
    "    'max_depth': range(5, 15, 3)\n",
    "}\n",
    "gbm_params = {\n",
    "    'learning_rate': [0.2, 0.5],\n",
    "    'n_estimators': range(20, 61, 20),\n",
    "    'max_depth': range(10, 16, 5)\n",
    "}\n",
    "сbr_params = {\n",
    "    'max_depth': range(10, 16, 5),\n",
    "    'learning_rate': [0.2, 0.5],\n",
    "    'iterations': [55, 60]\n",
    "}"
   ]
  },
  {
   "cell_type": "markdown",
   "metadata": {},
   "source": [
    "Напишем функцию для GridSearch"
   ]
  },
  {
   "cell_type": "code",
   "execution_count": 50,
   "metadata": {},
   "outputs": [],
   "source": [
    "def Gsearch(model, params): \n",
    "    mod = GridSearchCV(\n",
    "        model,\n",
    "        param_grid = params,\n",
    "        #scoring='neg_mean_squared_error',\n",
    "        verbose=10,\n",
    "        cv=5,\n",
    "        n_jobs=-1, \n",
    "    )\n",
    "    return mod"
   ]
  },
  {
   "cell_type": "markdown",
   "metadata": {},
   "source": [
    "Определим функцию для подсчета RMSE"
   ]
  },
  {
   "cell_type": "code",
   "execution_count": 51,
   "metadata": {},
   "outputs": [],
   "source": [
    "def rmse(target, predicted):\n",
    "    rmse = mean_squared_error(target, predicted)**0.5\n",
    "    return rmse"
   ]
  },
  {
   "cell_type": "markdown",
   "metadata": {},
   "source": [
    "Построим препроцессинг для Pipeline"
   ]
  },
  {
   "cell_type": "code",
   "execution_count": 52,
   "metadata": {},
   "outputs": [],
   "source": [
    "# Будем использовать технику OheНоtEncoder для модели линейной регрессии и OrdinalEncoder для \"деревянных\" моделей \n",
    "\n",
    "ohe = OneHotEncoder(handle_unknown='ignore')\n",
    "oe = OrdinalEncoder(handle_unknown='use_encoded_value', unknown_value=-1) \n",
    "ss = StandardScaler()"
   ]
  },
  {
   "cell_type": "code",
   "execution_count": 53,
   "metadata": {},
   "outputs": [],
   "source": [
    "ohe_cat_pipe = Pipeline([\n",
    "    ('ohe', ohe)\n",
    "])\n",
    "oe_cat_pipe = Pipeline([('oe', oe)\n",
    "])\n",
    "num_pipe = Pipeline([\n",
    "    ('ss', ss)\n",
    "    \n",
    "])"
   ]
  },
  {
   "cell_type": "code",
   "execution_count": 54,
   "metadata": {},
   "outputs": [],
   "source": [
    "ohe_preprocessor = ColumnTransformer([\n",
    "    ('cat', ohe_cat_pipe, cat),\n",
    "    ('numeric', num_pipe, numeric)\n",
    "])    \n",
    "oe_preprocessor = ColumnTransformer([\n",
    "    ('cat', oe_cat_pipe, cat),\n",
    "    ('numeric', num_pipe, numeric)\n",
    "])  "
   ]
  },
  {
   "cell_type": "markdown",
   "metadata": {},
   "source": [
    "#### Линейная регрессия"
   ]
  },
  {
   "cell_type": "code",
   "execution_count": 55,
   "metadata": {},
   "outputs": [],
   "source": [
    "pipe = Pipeline([\n",
    "    ('preprocessor', ohe_preprocessor),\n",
    "    ('model', LinearRegression())\n",
    "])\n",
    "\n",
    "start = time.time()\n",
    "pipe.fit(X_train, y_train)\n",
    "end = time.time()\n",
    "time_fit_lr = end - start\n",
    "\n",
    "start = time.time()\n",
    "y_train_pred = pipe.predict(X_valid)\n",
    "end = time.time()\n",
    "time_pred_lr = end - start\n",
    "\n",
    "RMSE = rmse(y_valid, y_train_pred)\n",
    "\n",
    "print('RMSE для линейной регресии равен:', RMSE)\n",
    "print('Время обучения линейной регрессии:', time_fit_lr)\n",
    "print('Время предсказания линейной регрессии:', time_pred_lr)"
   ]
  },
  {
   "cell_type": "markdown",
   "metadata": {},
   "source": [
    "#### Дерево решений"
   ]
  },
  {
   "cell_type": "code",
   "execution_count": 56,
   "metadata": {},
   "outputs": [],
   "source": [
    "pipe = Pipeline([\n",
    "    ('preprocessor', oe_preprocessor),\n",
    "    ('model', Gsearch(DecisionTreeRegressor(random_state=STATE), dt_params))\n",
    "])\n",
    "\n",
    "start = time.time()\n",
    "pipe.fit(X_train, y_train)\n",
    "end = time.time()\n",
    "time_fit_dt = end - start\n",
    "\n",
    "start = time.time()\n",
    "y_train_pred = pipe.predict(X_valid)\n",
    "end = time.time()\n",
    "time_pred_dt = end - start\n",
    "\n",
    "RMSE = rmse(y_valid, y_train_pred)\n",
    "\n",
    "print('RMSE для дерева решений равен:', RMSE)\n",
    "print('Время обучения дерева решений:', time_fit_dt)\n",
    "print('Время предсказания дерева решений:', time_pred_dt)"
   ]
  },
  {
   "cell_type": "markdown",
   "metadata": {},
   "source": [
    "#### Случайный лес"
   ]
  },
  {
   "cell_type": "code",
   "execution_count": 57,
   "metadata": {},
   "outputs": [],
   "source": [
    "pipe = Pipeline([\n",
    "    ('preprocessor', oe_preprocessor),\n",
    "    ('model', Gsearch(RandomForestRegressor(random_state=STATE), rf_params))\n",
    "])\n",
    "\n",
    "start = time.time()\n",
    "pipe.fit(X_train, y_train)\n",
    "end = time.time()\n",
    "time_fit_rf = end - start\n",
    "\n",
    "start = time.time()\n",
    "y_train_pred = pipe.predict(X_valid)\n",
    "end = time.time()\n",
    "time_pred_rf = end - start\n",
    "\n",
    "RMSE = rmse(y_valid, y_train_pred)\n",
    "\n",
    "\n",
    "print('RMSE для случайного леса равен:', RMSE)\n",
    "print('Время обучения случайного леса:', time_fit_rf)\n",
    "print('Время предсказания случайного леса:', time_pred_rf)"
   ]
  },
  {
   "cell_type": "markdown",
   "metadata": {},
   "source": [
    "#### Библиотеки для градиентного бустинга\n"
   ]
  },
  {
   "cell_type": "markdown",
   "metadata": {},
   "source": [
    "**LightGBM**"
   ]
  },
  {
   "cell_type": "code",
   "execution_count": 58,
   "metadata": {},
   "outputs": [],
   "source": [
    "pipe = Pipeline([\n",
    "    ('preprocessor', oe_preprocessor),\n",
    "    ('model', Gsearch(LGBMRegressor(random_state=STATE), gbm_params))\n",
    "])\n",
    "\n",
    "start = time.time()\n",
    "pipe.fit(X_train, y_train)\n",
    "end = time.time()\n",
    "time_fit_gbm = end - start\n",
    "\n",
    "start = time.time()\n",
    "y_train_pred = pipe.predict(X_valid)\n",
    "end = time.time()\n",
    "time_pred_gbm = end - start\n",
    "\n",
    "RMSE = rmse(y_valid, y_train_pred)\n",
    "\n",
    "print('RMSE для LightGBM:', RMSE)\n",
    "print('Время обучения LightGBM:', time_fit_gbm)\n",
    "print('Время предсказания LightGBM:', time_pred_gbm)"
   ]
  },
  {
   "cell_type": "markdown",
   "metadata": {},
   "source": [
    "**CatBoostRegressor**"
   ]
  },
  {
   "cell_type": "markdown",
   "metadata": {},
   "source": [
    "Для библиотеки CatBoostRegressor использованы два метода, с пайплайном и Гридсерч. Оба дали абсолютно одинаковые результаты по предсказаниям. Однако с пайплайном модель дольше обучалась, но чуть быстрее предсказывала (на 0,01 с). Для анализа модели взяты результаты Гридсерч"
   ]
  },
  {
   "cell_type": "code",
   "execution_count": 66,
   "metadata": {},
   "outputs": [
    {
     "name": "stdout",
     "output_type": "stream",
     "text": [
      "Fitting 5 folds for each of 8 candidates, totalling 40 fits\n",
      "[CV 1/5; 1/8] START iterations=55, learning_rate=0.2, max_depth=10..............\n",
      "0:\tlearn: 3916.1435767\ttotal: 81.2ms\tremaining: 4.39s\n",
      "1:\tlearn: 3402.3108503\ttotal: 167ms\tremaining: 4.42s\n",
      "2:\tlearn: 3009.3373218\ttotal: 237ms\tremaining: 4.1s\n",
      "3:\tlearn: 2710.8645054\ttotal: 317ms\tremaining: 4.04s\n",
      "4:\tlearn: 2491.2303714\ttotal: 394ms\tremaining: 3.94s\n",
      "5:\tlearn: 2295.7528312\ttotal: 474ms\tremaining: 3.87s\n",
      "6:\tlearn: 2155.8369507\ttotal: 566ms\tremaining: 3.88s\n",
      "7:\tlearn: 2058.0452113\ttotal: 657ms\tremaining: 3.86s\n",
      "8:\tlearn: 1968.8681308\ttotal: 740ms\tremaining: 3.78s\n",
      "9:\tlearn: 1901.5810298\ttotal: 820ms\tremaining: 3.69s\n",
      "10:\tlearn: 1851.3863992\ttotal: 897ms\tremaining: 3.59s\n",
      "11:\tlearn: 1816.0872065\ttotal: 980ms\tremaining: 3.51s\n",
      "12:\tlearn: 1785.4490377\ttotal: 1.06s\tremaining: 3.43s\n",
      "13:\tlearn: 1757.0290860\ttotal: 1.14s\tremaining: 3.33s\n",
      "14:\tlearn: 1729.1018251\ttotal: 1.21s\tremaining: 3.23s\n",
      "15:\tlearn: 1711.1092290\ttotal: 1.29s\tremaining: 3.15s\n",
      "16:\tlearn: 1695.3252506\ttotal: 1.38s\tremaining: 3.1s\n",
      "17:\tlearn: 1679.9575885\ttotal: 1.48s\tremaining: 3.04s\n",
      "18:\tlearn: 1668.5024824\ttotal: 1.57s\tremaining: 2.97s\n",
      "19:\tlearn: 1659.2010943\ttotal: 1.64s\tremaining: 2.87s\n",
      "20:\tlearn: 1646.9998069\ttotal: 1.72s\tremaining: 2.78s\n",
      "21:\tlearn: 1641.5748317\ttotal: 1.79s\tremaining: 2.69s\n",
      "22:\tlearn: 1635.1207523\ttotal: 1.87s\tremaining: 2.6s\n",
      "23:\tlearn: 1630.0674678\ttotal: 1.94s\tremaining: 2.51s\n",
      "24:\tlearn: 1624.8391817\ttotal: 2.01s\tremaining: 2.42s\n",
      "25:\tlearn: 1621.0698308\ttotal: 2.09s\tremaining: 2.33s\n",
      "26:\tlearn: 1615.7682589\ttotal: 2.16s\tremaining: 2.24s\n",
      "27:\tlearn: 1611.6150603\ttotal: 2.24s\tremaining: 2.16s\n",
      "28:\tlearn: 1608.1370532\ttotal: 2.31s\tremaining: 2.07s\n",
      "29:\tlearn: 1602.6541038\ttotal: 2.39s\tremaining: 1.99s\n",
      "30:\tlearn: 1598.9335855\ttotal: 2.47s\tremaining: 1.91s\n",
      "31:\tlearn: 1595.4612517\ttotal: 2.55s\tremaining: 1.83s\n",
      "32:\tlearn: 1591.7971366\ttotal: 2.63s\tremaining: 1.75s\n",
      "33:\tlearn: 1587.4654338\ttotal: 2.7s\tremaining: 1.67s\n",
      "34:\tlearn: 1584.4578747\ttotal: 2.78s\tremaining: 1.59s\n",
      "35:\tlearn: 1581.2799354\ttotal: 2.85s\tremaining: 1.5s\n",
      "36:\tlearn: 1576.0703226\ttotal: 2.93s\tremaining: 1.42s\n",
      "37:\tlearn: 1572.3693708\ttotal: 3.01s\tremaining: 1.34s\n",
      "38:\tlearn: 1567.9149882\ttotal: 3.09s\tremaining: 1.27s\n",
      "39:\tlearn: 1565.2252235\ttotal: 3.18s\tremaining: 1.19s\n",
      "40:\tlearn: 1559.1172154\ttotal: 3.26s\tremaining: 1.11s\n",
      "41:\tlearn: 1554.6961695\ttotal: 3.33s\tremaining: 1.03s\n",
      "42:\tlearn: 1551.2633836\ttotal: 3.41s\tremaining: 952ms\n",
      "43:\tlearn: 1546.7235249\ttotal: 3.49s\tremaining: 873ms\n",
      "44:\tlearn: 1545.1179955\ttotal: 3.58s\tremaining: 796ms\n",
      "45:\tlearn: 1542.2385333\ttotal: 3.65s\tremaining: 715ms\n",
      "46:\tlearn: 1542.2383520\ttotal: 3.68s\tremaining: 627ms\n",
      "47:\tlearn: 1537.7035009\ttotal: 3.76s\tremaining: 548ms\n",
      "48:\tlearn: 1535.2472699\ttotal: 3.83s\tremaining: 469ms\n",
      "49:\tlearn: 1531.9864134\ttotal: 3.9s\tremaining: 390ms\n",
      "50:\tlearn: 1529.2050673\ttotal: 3.98s\tremaining: 312ms\n",
      "51:\tlearn: 1527.8580486\ttotal: 4.06s\tremaining: 234ms\n",
      "52:\tlearn: 1525.4229091\ttotal: 4.14s\tremaining: 156ms\n",
      "53:\tlearn: 1522.0126776\ttotal: 4.22s\tremaining: 78.1ms\n",
      "54:\tlearn: 1520.5182175\ttotal: 4.3s\tremaining: 0us\n",
      "[CV 1/5; 1/8] END iterations=55, learning_rate=0.2, max_depth=10; total time=   5.1s\n",
      "[CV 2/5; 1/8] START iterations=55, learning_rate=0.2, max_depth=10..............\n",
      "0:\tlearn: 3920.3497738\ttotal: 78.2ms\tremaining: 4.22s\n",
      "1:\tlearn: 3405.9643448\ttotal: 162ms\tremaining: 4.29s\n",
      "2:\tlearn: 3014.0589811\ttotal: 230ms\tremaining: 3.99s\n",
      "3:\tlearn: 2717.3864327\ttotal: 305ms\tremaining: 3.89s\n",
      "4:\tlearn: 2491.4094267\ttotal: 385ms\tremaining: 3.85s\n",
      "5:\tlearn: 2294.2401470\ttotal: 467ms\tremaining: 3.81s\n",
      "6:\tlearn: 2159.1835551\ttotal: 539ms\tremaining: 3.69s\n",
      "7:\tlearn: 2059.0779833\ttotal: 614ms\tremaining: 3.61s\n",
      "8:\tlearn: 1969.0575903\ttotal: 685ms\tremaining: 3.5s\n",
      "9:\tlearn: 1894.4918704\ttotal: 756ms\tremaining: 3.4s\n",
      "10:\tlearn: 1845.3762984\ttotal: 827ms\tremaining: 3.31s\n",
      "11:\tlearn: 1809.3082506\ttotal: 907ms\tremaining: 3.25s\n",
      "12:\tlearn: 1780.2650195\ttotal: 995ms\tremaining: 3.21s\n",
      "13:\tlearn: 1756.0907263\ttotal: 1.07s\tremaining: 3.13s\n",
      "14:\tlearn: 1730.1375801\ttotal: 1.14s\tremaining: 3.04s\n",
      "15:\tlearn: 1707.6910725\ttotal: 1.22s\tremaining: 2.96s\n",
      "16:\tlearn: 1693.3655961\ttotal: 1.3s\tremaining: 2.9s\n",
      "17:\tlearn: 1680.1687198\ttotal: 1.37s\tremaining: 2.83s\n",
      "18:\tlearn: 1667.9656232\ttotal: 1.45s\tremaining: 2.74s\n",
      "19:\tlearn: 1656.9692665\ttotal: 1.52s\tremaining: 2.67s\n",
      "20:\tlearn: 1647.1391059\ttotal: 1.6s\tremaining: 2.6s\n",
      "21:\tlearn: 1638.3929347\ttotal: 1.69s\tremaining: 2.53s\n",
      "22:\tlearn: 1631.4003861\ttotal: 1.77s\tremaining: 2.46s\n",
      "23:\tlearn: 1624.9177341\ttotal: 1.85s\tremaining: 2.39s\n",
      "24:\tlearn: 1619.4727862\ttotal: 1.92s\tremaining: 2.31s\n",
      "25:\tlearn: 1613.7234923\ttotal: 2s\tremaining: 2.23s\n",
      "26:\tlearn: 1608.1252833\ttotal: 2.08s\tremaining: 2.16s\n",
      "27:\tlearn: 1603.2082600\ttotal: 2.17s\tremaining: 2.09s\n",
      "28:\tlearn: 1597.8017078\ttotal: 2.25s\tremaining: 2.02s\n",
      "29:\tlearn: 1593.1190110\ttotal: 2.33s\tremaining: 1.94s\n",
      "30:\tlearn: 1588.4928196\ttotal: 2.41s\tremaining: 1.86s\n",
      "31:\tlearn: 1585.5927349\ttotal: 2.49s\tremaining: 1.79s\n",
      "32:\tlearn: 1581.8036947\ttotal: 2.56s\tremaining: 1.71s\n",
      "33:\tlearn: 1578.2980742\ttotal: 2.65s\tremaining: 1.64s\n",
      "34:\tlearn: 1575.2788221\ttotal: 2.73s\tremaining: 1.56s\n",
      "35:\tlearn: 1573.2313928\ttotal: 2.82s\tremaining: 1.49s\n",
      "36:\tlearn: 1569.1951087\ttotal: 2.9s\tremaining: 1.41s\n",
      "37:\tlearn: 1564.7061280\ttotal: 2.98s\tremaining: 1.33s\n",
      "38:\tlearn: 1562.7794508\ttotal: 3.06s\tremaining: 1.25s\n",
      "39:\tlearn: 1560.6400508\ttotal: 3.13s\tremaining: 1.18s\n",
      "40:\tlearn: 1556.7365284\ttotal: 3.22s\tremaining: 1.1s\n",
      "41:\tlearn: 1552.5960450\ttotal: 3.31s\tremaining: 1.02s\n",
      "42:\tlearn: 1550.8496645\ttotal: 3.42s\tremaining: 955ms\n",
      "43:\tlearn: 1547.7454051\ttotal: 3.51s\tremaining: 877ms\n",
      "44:\tlearn: 1544.5483338\ttotal: 3.6s\tremaining: 799ms\n",
      "45:\tlearn: 1541.1425015\ttotal: 3.68s\tremaining: 720ms\n",
      "46:\tlearn: 1539.1885726\ttotal: 3.77s\tremaining: 641ms\n",
      "47:\tlearn: 1536.7663062\ttotal: 3.94s\tremaining: 575ms\n",
      "48:\tlearn: 1533.8145913\ttotal: 4.04s\tremaining: 495ms\n",
      "49:\tlearn: 1532.4270444\ttotal: 4.16s\tremaining: 416ms\n",
      "50:\tlearn: 1530.3290400\ttotal: 4.25s\tremaining: 333ms\n",
      "51:\tlearn: 1528.4368158\ttotal: 4.32s\tremaining: 249ms\n",
      "52:\tlearn: 1524.3738928\ttotal: 4.4s\tremaining: 166ms\n",
      "53:\tlearn: 1522.1171115\ttotal: 4.49s\tremaining: 83.1ms\n",
      "54:\tlearn: 1518.7468042\ttotal: 4.56s\tremaining: 0us\n",
      "[CV 2/5; 1/8] END iterations=55, learning_rate=0.2, max_depth=10; total time=   5.3s\n",
      "[CV 3/5; 1/8] START iterations=55, learning_rate=0.2, max_depth=10..............\n",
      "0:\tlearn: 3920.2368698\ttotal: 76.5ms\tremaining: 4.13s\n",
      "1:\tlearn: 3403.1862528\ttotal: 155ms\tremaining: 4.09s\n",
      "2:\tlearn: 3004.1524308\ttotal: 228ms\tremaining: 3.95s\n",
      "3:\tlearn: 2719.0316064\ttotal: 302ms\tremaining: 3.85s\n",
      "4:\tlearn: 2493.0584630\ttotal: 401ms\tremaining: 4s\n",
      "5:\tlearn: 2297.1789382\ttotal: 479ms\tremaining: 3.91s\n",
      "6:\tlearn: 2156.8462192\ttotal: 558ms\tremaining: 3.83s\n",
      "7:\tlearn: 2053.3579315\ttotal: 634ms\tremaining: 3.73s\n",
      "8:\tlearn: 1967.1918845\ttotal: 713ms\tremaining: 3.64s\n",
      "9:\tlearn: 1901.0504231\ttotal: 789ms\tremaining: 3.55s\n",
      "10:\tlearn: 1844.7908306\ttotal: 868ms\tremaining: 3.47s\n",
      "11:\tlearn: 1808.0144525\ttotal: 988ms\tremaining: 3.54s\n",
      "12:\tlearn: 1773.8169490\ttotal: 1.08s\tremaining: 3.48s\n",
      "13:\tlearn: 1743.4446546\ttotal: 1.15s\tremaining: 3.36s\n",
      "14:\tlearn: 1718.1461887\ttotal: 1.22s\tremaining: 3.25s\n",
      "15:\tlearn: 1700.7991815\ttotal: 1.29s\tremaining: 3.15s\n",
      "16:\tlearn: 1688.0655095\ttotal: 1.36s\tremaining: 3.04s\n",
      "17:\tlearn: 1674.3618825\ttotal: 1.44s\tremaining: 2.95s\n",
      "18:\tlearn: 1664.7303877\ttotal: 1.51s\tremaining: 2.87s\n",
      "19:\tlearn: 1655.7787107\ttotal: 1.58s\tremaining: 2.77s\n",
      "20:\tlearn: 1647.7765349\ttotal: 1.66s\tremaining: 2.69s\n",
      "21:\tlearn: 1641.8925415\ttotal: 1.74s\tremaining: 2.62s\n",
      "22:\tlearn: 1634.6863870\ttotal: 1.82s\tremaining: 2.54s\n",
      "23:\tlearn: 1629.7360367\ttotal: 1.92s\tremaining: 2.47s\n",
      "24:\tlearn: 1623.2713527\ttotal: 1.99s\tremaining: 2.39s\n",
      "25:\tlearn: 1617.2693269\ttotal: 2.06s\tremaining: 2.3s\n",
      "26:\tlearn: 1609.9204939\ttotal: 2.13s\tremaining: 2.21s\n",
      "27:\tlearn: 1606.0234093\ttotal: 2.21s\tremaining: 2.14s\n",
      "28:\tlearn: 1602.0789165\ttotal: 2.29s\tremaining: 2.05s\n",
      "29:\tlearn: 1599.7196508\ttotal: 2.36s\tremaining: 1.97s\n",
      "30:\tlearn: 1594.0421441\ttotal: 2.44s\tremaining: 1.89s\n",
      "31:\tlearn: 1589.3173344\ttotal: 2.51s\tremaining: 1.81s\n",
      "32:\tlearn: 1584.8295978\ttotal: 2.59s\tremaining: 1.73s\n",
      "33:\tlearn: 1581.7872832\ttotal: 2.69s\tremaining: 1.66s\n",
      "34:\tlearn: 1579.1097730\ttotal: 2.76s\tremaining: 1.58s\n",
      "35:\tlearn: 1573.2034573\ttotal: 2.83s\tremaining: 1.5s\n",
      "36:\tlearn: 1570.5508154\ttotal: 2.94s\tremaining: 1.43s\n",
      "37:\tlearn: 1568.2799087\ttotal: 3.02s\tremaining: 1.35s\n",
      "38:\tlearn: 1565.8123644\ttotal: 3.1s\tremaining: 1.27s\n",
      "39:\tlearn: 1564.0111630\ttotal: 3.18s\tremaining: 1.19s\n",
      "40:\tlearn: 1560.3753079\ttotal: 3.28s\tremaining: 1.12s\n",
      "41:\tlearn: 1557.9837854\ttotal: 3.38s\tremaining: 1.05s\n",
      "42:\tlearn: 1555.1891271\ttotal: 3.47s\tremaining: 967ms\n",
      "43:\tlearn: 1553.4712155\ttotal: 3.55s\tremaining: 888ms\n",
      "44:\tlearn: 1550.3918594\ttotal: 3.64s\tremaining: 809ms\n",
      "45:\tlearn: 1549.1097190\ttotal: 3.72s\tremaining: 727ms\n",
      "46:\tlearn: 1545.5536113\ttotal: 3.79s\tremaining: 645ms\n",
      "47:\tlearn: 1542.9978847\ttotal: 3.88s\tremaining: 566ms\n",
      "48:\tlearn: 1539.4518718\ttotal: 3.96s\tremaining: 485ms\n",
      "49:\tlearn: 1537.4324245\ttotal: 4.04s\tremaining: 404ms\n",
      "50:\tlearn: 1535.2592153\ttotal: 4.12s\tremaining: 323ms\n",
      "51:\tlearn: 1531.7921446\ttotal: 4.2s\tremaining: 242ms\n",
      "52:\tlearn: 1528.8009361\ttotal: 4.28s\tremaining: 162ms\n",
      "53:\tlearn: 1524.7487488\ttotal: 4.37s\tremaining: 81ms\n",
      "54:\tlearn: 1523.1008492\ttotal: 4.45s\tremaining: 0us\n",
      "[CV 3/5; 1/8] END iterations=55, learning_rate=0.2, max_depth=10; total time=   5.2s\n",
      "[CV 4/5; 1/8] START iterations=55, learning_rate=0.2, max_depth=10..............\n",
      "0:\tlearn: 3923.8119489\ttotal: 77.8ms\tremaining: 4.2s\n",
      "1:\tlearn: 3407.3223620\ttotal: 156ms\tremaining: 4.13s\n",
      "2:\tlearn: 3011.1615078\ttotal: 227ms\tremaining: 3.93s\n",
      "3:\tlearn: 2707.9939995\ttotal: 303ms\tremaining: 3.87s\n",
      "4:\tlearn: 2490.1354698\ttotal: 377ms\tremaining: 3.77s\n",
      "5:\tlearn: 2300.8744279\ttotal: 451ms\tremaining: 3.68s\n",
      "6:\tlearn: 2157.8437783\ttotal: 520ms\tremaining: 3.57s\n",
      "7:\tlearn: 2055.7015299\ttotal: 594ms\tremaining: 3.49s\n",
      "8:\tlearn: 1964.5803554\ttotal: 672ms\tremaining: 3.43s\n",
      "9:\tlearn: 1900.4414262\ttotal: 750ms\tremaining: 3.38s\n",
      "10:\tlearn: 1850.6978760\ttotal: 829ms\tremaining: 3.31s\n",
      "11:\tlearn: 1814.1241291\ttotal: 904ms\tremaining: 3.24s\n",
      "12:\tlearn: 1786.3421336\ttotal: 986ms\tremaining: 3.19s\n",
      "13:\tlearn: 1756.8740044\ttotal: 1.06s\tremaining: 3.11s\n",
      "14:\tlearn: 1734.9509459\ttotal: 1.14s\tremaining: 3.03s\n",
      "15:\tlearn: 1715.7248879\ttotal: 1.22s\tremaining: 2.96s\n",
      "16:\tlearn: 1698.8811299\ttotal: 1.29s\tremaining: 2.89s\n",
      "17:\tlearn: 1682.8102913\ttotal: 1.36s\tremaining: 2.81s\n",
      "18:\tlearn: 1672.8273811\ttotal: 1.44s\tremaining: 2.73s\n",
      "19:\tlearn: 1662.9904863\ttotal: 1.52s\tremaining: 2.65s\n",
      "20:\tlearn: 1655.2172606\ttotal: 1.59s\tremaining: 2.57s\n",
      "21:\tlearn: 1646.8273710\ttotal: 1.67s\tremaining: 2.5s\n",
      "22:\tlearn: 1641.3525303\ttotal: 1.76s\tremaining: 2.45s\n",
      "23:\tlearn: 1635.4426829\ttotal: 1.84s\tremaining: 2.38s\n",
      "24:\tlearn: 1631.3250451\ttotal: 1.93s\tremaining: 2.31s\n",
      "25:\tlearn: 1625.2941850\ttotal: 2.02s\tremaining: 2.25s\n",
      "26:\tlearn: 1622.8001132\ttotal: 2.1s\tremaining: 2.17s\n",
      "27:\tlearn: 1617.5417661\ttotal: 2.17s\tremaining: 2.1s\n",
      "28:\tlearn: 1611.0001619\ttotal: 2.26s\tremaining: 2.02s\n",
      "29:\tlearn: 1605.2650670\ttotal: 2.33s\tremaining: 1.95s\n",
      "30:\tlearn: 1601.5011994\ttotal: 2.41s\tremaining: 1.87s\n",
      "31:\tlearn: 1597.9669798\ttotal: 2.5s\tremaining: 1.79s\n",
      "32:\tlearn: 1590.9788182\ttotal: 2.57s\tremaining: 1.72s\n",
      "33:\tlearn: 1586.1976184\ttotal: 2.65s\tremaining: 1.64s\n",
      "34:\tlearn: 1582.8975999\ttotal: 2.75s\tremaining: 1.57s\n",
      "35:\tlearn: 1579.3088114\ttotal: 2.83s\tremaining: 1.49s\n",
      "36:\tlearn: 1576.0150405\ttotal: 2.91s\tremaining: 1.41s\n",
      "37:\tlearn: 1573.4594959\ttotal: 2.98s\tremaining: 1.33s\n",
      "38:\tlearn: 1569.5327879\ttotal: 3.06s\tremaining: 1.25s\n",
      "39:\tlearn: 1565.3839407\ttotal: 3.14s\tremaining: 1.18s\n",
      "40:\tlearn: 1562.3118763\ttotal: 3.21s\tremaining: 1.1s\n",
      "41:\tlearn: 1560.5749592\ttotal: 3.29s\tremaining: 1.02s\n",
      "42:\tlearn: 1559.3045650\ttotal: 3.37s\tremaining: 942ms\n",
      "43:\tlearn: 1555.2836815\ttotal: 3.45s\tremaining: 862ms\n",
      "44:\tlearn: 1552.6964929\ttotal: 3.53s\tremaining: 784ms\n",
      "45:\tlearn: 1549.1883162\ttotal: 3.6s\tremaining: 704ms\n",
      "46:\tlearn: 1546.4281528\ttotal: 3.68s\tremaining: 626ms\n",
      "47:\tlearn: 1544.2377197\ttotal: 3.76s\tremaining: 548ms\n",
      "48:\tlearn: 1539.3594843\ttotal: 3.84s\tremaining: 471ms\n",
      "49:\tlearn: 1537.4893123\ttotal: 3.94s\tremaining: 394ms\n",
      "50:\tlearn: 1535.2991218\ttotal: 4.02s\tremaining: 316ms\n",
      "51:\tlearn: 1534.0652259\ttotal: 4.12s\tremaining: 237ms\n",
      "52:\tlearn: 1532.0670195\ttotal: 4.2s\tremaining: 159ms\n",
      "53:\tlearn: 1529.1721693\ttotal: 4.28s\tremaining: 79.3ms\n",
      "54:\tlearn: 1525.5072372\ttotal: 4.37s\tremaining: 0us\n",
      "[CV 4/5; 1/8] END iterations=55, learning_rate=0.2, max_depth=10; total time=   5.1s\n",
      "[CV 5/5; 1/8] START iterations=55, learning_rate=0.2, max_depth=10..............\n",
      "0:\tlearn: 3915.7027226\ttotal: 82.8ms\tremaining: 4.47s\n",
      "1:\tlearn: 3399.3882038\ttotal: 169ms\tremaining: 4.48s\n",
      "2:\tlearn: 3004.7789561\ttotal: 249ms\tremaining: 4.31s\n",
      "3:\tlearn: 2708.0670557\ttotal: 338ms\tremaining: 4.31s\n",
      "4:\tlearn: 2485.8653983\ttotal: 422ms\tremaining: 4.22s\n",
      "5:\tlearn: 2295.4485088\ttotal: 508ms\tremaining: 4.14s\n",
      "6:\tlearn: 2151.4743748\ttotal: 609ms\tremaining: 4.18s\n",
      "7:\tlearn: 2048.9659968\ttotal: 720ms\tremaining: 4.23s\n",
      "8:\tlearn: 1972.4271869\ttotal: 835ms\tremaining: 4.27s\n",
      "9:\tlearn: 1903.4724832\ttotal: 931ms\tremaining: 4.19s\n",
      "10:\tlearn: 1852.5403616\ttotal: 1.01s\tremaining: 4.05s\n",
      "11:\tlearn: 1816.1299499\ttotal: 1.09s\tremaining: 3.92s\n",
      "12:\tlearn: 1786.4813837\ttotal: 1.18s\tremaining: 3.82s\n",
      "13:\tlearn: 1753.2115599\ttotal: 1.27s\tremaining: 3.73s\n",
      "14:\tlearn: 1729.6005992\ttotal: 1.36s\tremaining: 3.63s\n",
      "15:\tlearn: 1710.5372639\ttotal: 1.45s\tremaining: 3.53s\n",
      "16:\tlearn: 1698.2762757\ttotal: 1.54s\tremaining: 3.43s\n",
      "17:\tlearn: 1686.4968580\ttotal: 1.64s\tremaining: 3.38s\n",
      "18:\tlearn: 1671.7701606\ttotal: 1.74s\tremaining: 3.3s\n",
      "19:\tlearn: 1663.4456417\ttotal: 1.82s\tremaining: 3.19s\n",
      "20:\tlearn: 1653.6410584\ttotal: 1.91s\tremaining: 3.08s\n",
      "21:\tlearn: 1644.3761527\ttotal: 1.99s\tremaining: 2.99s\n",
      "22:\tlearn: 1637.9938510\ttotal: 2.08s\tremaining: 2.89s\n",
      "23:\tlearn: 1633.7346071\ttotal: 2.17s\tremaining: 2.81s\n",
      "24:\tlearn: 1629.2363563\ttotal: 2.25s\tremaining: 2.71s\n",
      "25:\tlearn: 1624.4870483\ttotal: 2.35s\tremaining: 2.62s\n",
      "26:\tlearn: 1620.2108175\ttotal: 2.44s\tremaining: 2.54s\n",
      "27:\tlearn: 1614.1048117\ttotal: 2.52s\tremaining: 2.44s\n",
      "28:\tlearn: 1609.6364546\ttotal: 2.61s\tremaining: 2.34s\n",
      "29:\tlearn: 1605.3661997\ttotal: 2.7s\tremaining: 2.25s\n",
      "30:\tlearn: 1600.4713943\ttotal: 2.79s\tremaining: 2.16s\n",
      "31:\tlearn: 1597.3036495\ttotal: 2.87s\tremaining: 2.06s\n",
      "32:\tlearn: 1592.5677687\ttotal: 2.96s\tremaining: 1.97s\n",
      "33:\tlearn: 1588.6543958\ttotal: 3.04s\tremaining: 1.88s\n",
      "34:\tlearn: 1584.3159786\ttotal: 3.12s\tremaining: 1.78s\n",
      "35:\tlearn: 1582.6262753\ttotal: 3.2s\tremaining: 1.69s\n",
      "36:\tlearn: 1579.9830886\ttotal: 3.28s\tremaining: 1.6s\n",
      "37:\tlearn: 1575.9935585\ttotal: 3.37s\tremaining: 1.51s\n",
      "38:\tlearn: 1573.9585085\ttotal: 3.45s\tremaining: 1.42s\n",
      "39:\tlearn: 1571.8797496\ttotal: 3.53s\tremaining: 1.32s\n",
      "40:\tlearn: 1569.2340236\ttotal: 3.62s\tremaining: 1.24s\n",
      "41:\tlearn: 1567.0944452\ttotal: 3.7s\tremaining: 1.15s\n",
      "42:\tlearn: 1564.4903308\ttotal: 3.78s\tremaining: 1.05s\n",
      "43:\tlearn: 1560.2268342\ttotal: 3.85s\tremaining: 963ms\n",
      "44:\tlearn: 1553.4670444\ttotal: 3.92s\tremaining: 872ms\n",
      "45:\tlearn: 1550.9692360\ttotal: 3.99s\tremaining: 781ms\n",
      "46:\tlearn: 1546.1048762\ttotal: 4.07s\tremaining: 693ms\n",
      "47:\tlearn: 1540.4611557\ttotal: 4.15s\tremaining: 605ms\n",
      "48:\tlearn: 1538.5218162\ttotal: 4.23s\tremaining: 517ms\n",
      "49:\tlearn: 1535.5762625\ttotal: 4.31s\tremaining: 431ms\n",
      "50:\tlearn: 1532.2740307\ttotal: 4.39s\tremaining: 344ms\n",
      "51:\tlearn: 1529.2166435\ttotal: 4.48s\tremaining: 258ms\n",
      "52:\tlearn: 1524.9935980\ttotal: 4.56s\tremaining: 172ms\n",
      "53:\tlearn: 1522.0994652\ttotal: 4.64s\tremaining: 85.9ms\n",
      "54:\tlearn: 1517.6269036\ttotal: 4.71s\tremaining: 0us\n",
      "[CV 5/5; 1/8] END iterations=55, learning_rate=0.2, max_depth=10; total time=   5.5s\n",
      "[CV 1/5; 2/8] START iterations=55, learning_rate=0.2, max_depth=15..............\n",
      "0:\tlearn: 3909.0729876\ttotal: 572ms\tremaining: 30.9s\n",
      "1:\tlearn: 3385.3790313\ttotal: 1.14s\tremaining: 30.3s\n",
      "2:\tlearn: 2982.3480562\ttotal: 1.69s\tremaining: 29.2s\n",
      "3:\tlearn: 2678.8881833\ttotal: 2.2s\tremaining: 28.1s\n",
      "4:\tlearn: 2451.5139792\ttotal: 2.39s\tremaining: 23.9s\n",
      "5:\tlearn: 2239.7184474\ttotal: 2.95s\tremaining: 24.1s\n",
      "6:\tlearn: 2086.7221029\ttotal: 3.48s\tremaining: 23.9s\n",
      "7:\tlearn: 1970.5727584\ttotal: 4.01s\tremaining: 23.6s\n",
      "8:\tlearn: 1884.0266751\ttotal: 4.55s\tremaining: 23.3s\n",
      "9:\tlearn: 1809.0534781\ttotal: 5.11s\tremaining: 23s\n",
      "10:\tlearn: 1753.2424522\ttotal: 5.74s\tremaining: 23s\n",
      "11:\tlearn: 1707.4096377\ttotal: 6.36s\tremaining: 22.8s\n",
      "12:\tlearn: 1670.9553802\ttotal: 6.98s\tremaining: 22.5s\n",
      "13:\tlearn: 1644.2317102\ttotal: 7.54s\tremaining: 22.1s\n",
      "14:\tlearn: 1609.4465704\ttotal: 8.06s\tremaining: 21.5s\n",
      "15:\tlearn: 1585.7074601\ttotal: 8.6s\tremaining: 21s\n",
      "16:\tlearn: 1559.5251462\ttotal: 9.14s\tremaining: 20.4s\n",
      "17:\tlearn: 1539.7893581\ttotal: 9.67s\tremaining: 19.9s\n",
      "18:\tlearn: 1525.1154111\ttotal: 10.2s\tremaining: 19.3s\n",
      "19:\tlearn: 1513.3279358\ttotal: 10.8s\tremaining: 18.8s\n",
      "20:\tlearn: 1504.7938673\ttotal: 11.3s\tremaining: 18.3s\n",
      "21:\tlearn: 1494.4718435\ttotal: 11.8s\tremaining: 17.8s\n",
      "22:\tlearn: 1483.4780591\ttotal: 12.4s\tremaining: 17.2s\n",
      "23:\tlearn: 1476.8992495\ttotal: 12.9s\tremaining: 16.7s\n",
      "24:\tlearn: 1468.9370901\ttotal: 13.5s\tremaining: 16.2s\n",
      "25:\tlearn: 1460.3974499\ttotal: 14.1s\tremaining: 15.7s\n",
      "26:\tlearn: 1452.3737250\ttotal: 14.6s\tremaining: 15.1s\n",
      "27:\tlearn: 1447.1764232\ttotal: 15.2s\tremaining: 14.6s\n",
      "28:\tlearn: 1442.0669221\ttotal: 15.8s\tremaining: 14.2s\n",
      "29:\tlearn: 1438.0223186\ttotal: 16.3s\tremaining: 13.6s\n",
      "30:\tlearn: 1433.9622571\ttotal: 16.9s\tremaining: 13.1s\n",
      "31:\tlearn: 1429.4958901\ttotal: 17.4s\tremaining: 12.5s\n",
      "32:\tlearn: 1424.8077640\ttotal: 18s\tremaining: 12s\n",
      "33:\tlearn: 1419.3703893\ttotal: 18.5s\tremaining: 11.4s\n",
      "34:\tlearn: 1411.9478821\ttotal: 19.1s\tremaining: 10.9s\n",
      "35:\tlearn: 1405.0652004\ttotal: 19.7s\tremaining: 10.4s\n",
      "36:\tlearn: 1396.4391805\ttotal: 20.2s\tremaining: 9.85s\n",
      "37:\tlearn: 1390.6274371\ttotal: 20.8s\tremaining: 9.3s\n",
      "38:\tlearn: 1386.3246161\ttotal: 21.4s\tremaining: 8.77s\n",
      "39:\tlearn: 1381.0353566\ttotal: 22s\tremaining: 8.23s\n",
      "40:\tlearn: 1377.3966164\ttotal: 22.5s\tremaining: 7.69s\n",
      "41:\tlearn: 1372.2599186\ttotal: 23.1s\tremaining: 7.15s\n",
      "42:\tlearn: 1367.4873373\ttotal: 23.7s\tremaining: 6.62s\n",
      "43:\tlearn: 1365.0858826\ttotal: 24.3s\tremaining: 6.08s\n",
      "44:\tlearn: 1362.5835070\ttotal: 24.9s\tremaining: 5.53s\n",
      "45:\tlearn: 1357.9994252\ttotal: 25.5s\tremaining: 4.99s\n",
      "46:\tlearn: 1352.2804894\ttotal: 26.1s\tremaining: 4.44s\n",
      "47:\tlearn: 1348.2984622\ttotal: 26.7s\tremaining: 3.89s\n",
      "48:\tlearn: 1344.8947604\ttotal: 27.2s\tremaining: 3.33s\n",
      "49:\tlearn: 1343.0415063\ttotal: 27.8s\tremaining: 2.78s\n",
      "50:\tlearn: 1343.0405390\ttotal: 27.8s\tremaining: 2.18s\n",
      "51:\tlearn: 1339.4542874\ttotal: 28.4s\tremaining: 1.64s\n",
      "52:\tlearn: 1333.4437915\ttotal: 28.9s\tremaining: 1.09s\n",
      "53:\tlearn: 1330.7872129\ttotal: 29.5s\tremaining: 547ms\n",
      "54:\tlearn: 1326.8745466\ttotal: 30.1s\tremaining: 0us\n",
      "[CV 1/5; 2/8] END iterations=55, learning_rate=0.2, max_depth=15; total time=  31.0s\n",
      "[CV 2/5; 2/8] START iterations=55, learning_rate=0.2, max_depth=15..............\n",
      "0:\tlearn: 3920.3510570\ttotal: 109ms\tremaining: 5.89s\n",
      "1:\tlearn: 3391.3345690\ttotal: 606ms\tremaining: 16.1s\n",
      "2:\tlearn: 2993.4391014\ttotal: 1.16s\tremaining: 20.1s\n",
      "3:\tlearn: 2680.1634537\ttotal: 1.69s\tremaining: 21.6s\n",
      "4:\tlearn: 2450.8404600\ttotal: 2.21s\tremaining: 22.1s\n",
      "5:\tlearn: 2236.6342045\ttotal: 2.75s\tremaining: 22.5s\n",
      "6:\tlearn: 2076.6708363\ttotal: 3.3s\tremaining: 22.6s\n",
      "7:\tlearn: 1963.0812231\ttotal: 3.88s\tremaining: 22.8s\n",
      "8:\tlearn: 1877.2872457\ttotal: 4.47s\tremaining: 22.9s\n",
      "9:\tlearn: 1799.6583070\ttotal: 5.06s\tremaining: 22.8s\n",
      "10:\tlearn: 1741.1423592\ttotal: 5.63s\tremaining: 22.5s\n",
      "11:\tlearn: 1701.6985616\ttotal: 6.21s\tremaining: 22.3s\n",
      "12:\tlearn: 1669.3788113\ttotal: 6.74s\tremaining: 21.8s\n",
      "13:\tlearn: 1640.1026405\ttotal: 7.26s\tremaining: 21.3s\n",
      "14:\tlearn: 1604.4279934\ttotal: 7.8s\tremaining: 20.8s\n",
      "15:\tlearn: 1576.8064973\ttotal: 8.32s\tremaining: 20.3s\n",
      "16:\tlearn: 1558.1008372\ttotal: 8.85s\tremaining: 19.8s\n",
      "17:\tlearn: 1540.8848717\ttotal: 9.38s\tremaining: 19.3s\n",
      "18:\tlearn: 1526.2074715\ttotal: 9.9s\tremaining: 18.8s\n",
      "19:\tlearn: 1514.8250911\ttotal: 10.4s\tremaining: 18.2s\n",
      "20:\tlearn: 1503.9940300\ttotal: 10.9s\tremaining: 17.7s\n",
      "21:\tlearn: 1492.2395055\ttotal: 11.5s\tremaining: 17.3s\n",
      "22:\tlearn: 1482.6238943\ttotal: 12s\tremaining: 16.8s\n",
      "23:\tlearn: 1474.1658310\ttotal: 12.6s\tremaining: 16.3s\n",
      "24:\tlearn: 1468.7637436\ttotal: 13.2s\tremaining: 15.8s\n",
      "25:\tlearn: 1461.9619457\ttotal: 13.7s\tremaining: 15.3s\n",
      "26:\tlearn: 1456.3097898\ttotal: 14.3s\tremaining: 14.9s\n",
      "27:\tlearn: 1451.0326490\ttotal: 14.9s\tremaining: 14.3s\n",
      "28:\tlearn: 1445.5610375\ttotal: 15.4s\tremaining: 13.8s\n",
      "29:\tlearn: 1437.2761208\ttotal: 16s\tremaining: 13.3s\n",
      "30:\tlearn: 1430.9907736\ttotal: 16.5s\tremaining: 12.8s\n",
      "31:\tlearn: 1425.3323380\ttotal: 17.1s\tremaining: 12.3s\n",
      "32:\tlearn: 1418.8621288\ttotal: 17.7s\tremaining: 11.8s\n",
      "33:\tlearn: 1411.8499559\ttotal: 18.3s\tremaining: 11.3s\n",
      "34:\tlearn: 1405.5591189\ttotal: 18.9s\tremaining: 10.8s\n",
      "35:\tlearn: 1401.6730753\ttotal: 19.5s\tremaining: 10.3s\n",
      "36:\tlearn: 1396.4822854\ttotal: 20s\tremaining: 9.74s\n",
      "37:\tlearn: 1392.0159706\ttotal: 20.6s\tremaining: 9.21s\n",
      "38:\tlearn: 1389.7152476\ttotal: 21.1s\tremaining: 8.66s\n",
      "39:\tlearn: 1386.0262227\ttotal: 21.7s\tremaining: 8.12s\n",
      "40:\tlearn: 1383.8190207\ttotal: 22.2s\tremaining: 7.58s\n",
      "41:\tlearn: 1381.3242885\ttotal: 22.8s\tremaining: 7.05s\n",
      "42:\tlearn: 1378.0800958\ttotal: 23.4s\tremaining: 6.53s\n",
      "43:\tlearn: 1373.9967827\ttotal: 24s\tremaining: 6s\n",
      "44:\tlearn: 1369.0622040\ttotal: 24.6s\tremaining: 5.47s\n",
      "45:\tlearn: 1366.1174654\ttotal: 25.3s\tremaining: 4.94s\n",
      "46:\tlearn: 1357.8179767\ttotal: 25.9s\tremaining: 4.4s\n",
      "47:\tlearn: 1352.1325342\ttotal: 26.5s\tremaining: 3.86s\n",
      "48:\tlearn: 1345.0732566\ttotal: 27.1s\tremaining: 3.31s\n",
      "49:\tlearn: 1340.3669814\ttotal: 27.6s\tremaining: 2.76s\n",
      "50:\tlearn: 1333.6788555\ttotal: 28.2s\tremaining: 2.21s\n",
      "51:\tlearn: 1329.5722979\ttotal: 28.8s\tremaining: 1.66s\n",
      "52:\tlearn: 1325.7173669\ttotal: 29.4s\tremaining: 1.11s\n",
      "53:\tlearn: 1317.6944386\ttotal: 29.9s\tremaining: 554ms\n",
      "54:\tlearn: 1314.3489261\ttotal: 30.5s\tremaining: 0us\n",
      "[CV 2/5; 2/8] END iterations=55, learning_rate=0.2, max_depth=15; total time=  31.5s\n",
      "[CV 3/5; 2/8] START iterations=55, learning_rate=0.2, max_depth=15..............\n",
      "0:\tlearn: 3902.8155623\ttotal: 535ms\tremaining: 28.9s\n",
      "1:\tlearn: 3373.5489213\ttotal: 1.08s\tremaining: 28.7s\n",
      "2:\tlearn: 2961.4232485\ttotal: 1.63s\tremaining: 28.2s\n",
      "3:\tlearn: 2657.3224743\ttotal: 2.15s\tremaining: 27.5s\n",
      "4:\tlearn: 2425.5437124\ttotal: 2.76s\tremaining: 27.6s\n",
      "5:\tlearn: 2220.3993637\ttotal: 3.32s\tremaining: 27.1s\n",
      "6:\tlearn: 2061.4511864\ttotal: 3.86s\tremaining: 26.5s\n",
      "7:\tlearn: 1947.6048751\ttotal: 4.39s\tremaining: 25.8s\n",
      "8:\tlearn: 1862.8478043\ttotal: 4.92s\tremaining: 25.1s\n",
      "9:\tlearn: 1791.8065546\ttotal: 5.45s\tremaining: 24.5s\n",
      "10:\tlearn: 1732.2643086\ttotal: 5.98s\tremaining: 23.9s\n",
      "11:\tlearn: 1690.6673542\ttotal: 6.55s\tremaining: 23.5s\n",
      "12:\tlearn: 1659.5797748\ttotal: 7.11s\tremaining: 23s\n",
      "13:\tlearn: 1625.4202647\ttotal: 7.65s\tremaining: 22.4s\n",
      "14:\tlearn: 1593.4712423\ttotal: 8.2s\tremaining: 21.9s\n",
      "15:\tlearn: 1567.8277413\ttotal: 8.75s\tremaining: 21.3s\n",
      "16:\tlearn: 1545.2158119\ttotal: 9.28s\tremaining: 20.8s\n",
      "17:\tlearn: 1530.0653057\ttotal: 9.84s\tremaining: 20.2s\n",
      "18:\tlearn: 1516.2698048\ttotal: 10.4s\tremaining: 19.6s\n",
      "19:\tlearn: 1502.9221719\ttotal: 10.9s\tremaining: 19.1s\n",
      "20:\tlearn: 1493.2247953\ttotal: 11.5s\tremaining: 18.5s\n",
      "21:\tlearn: 1481.4821165\ttotal: 12s\tremaining: 18s\n",
      "22:\tlearn: 1474.3516467\ttotal: 12.5s\tremaining: 17.4s\n",
      "23:\tlearn: 1464.6845698\ttotal: 13.1s\tremaining: 16.9s\n",
      "24:\tlearn: 1457.2746141\ttotal: 13.7s\tremaining: 16.4s\n",
      "25:\tlearn: 1453.4183674\ttotal: 14.2s\tremaining: 15.8s\n",
      "26:\tlearn: 1447.2842287\ttotal: 14.8s\tremaining: 15.3s\n",
      "27:\tlearn: 1437.5644641\ttotal: 15.3s\tremaining: 14.8s\n",
      "28:\tlearn: 1433.2768849\ttotal: 15.9s\tremaining: 14.2s\n",
      "29:\tlearn: 1427.9155408\ttotal: 16.4s\tremaining: 13.7s\n",
      "30:\tlearn: 1421.5279652\ttotal: 17s\tremaining: 13.2s\n",
      "31:\tlearn: 1418.6634774\ttotal: 17.6s\tremaining: 12.6s\n",
      "32:\tlearn: 1415.5375179\ttotal: 18.2s\tremaining: 12.1s\n",
      "33:\tlearn: 1411.6972337\ttotal: 18.7s\tremaining: 11.6s\n",
      "34:\tlearn: 1406.2139550\ttotal: 19.3s\tremaining: 11.1s\n",
      "35:\tlearn: 1402.0820856\ttotal: 20s\tremaining: 10.5s\n",
      "36:\tlearn: 1398.7176019\ttotal: 20.5s\tremaining: 9.99s\n",
      "37:\tlearn: 1394.4512381\ttotal: 21.1s\tremaining: 9.44s\n",
      "38:\tlearn: 1382.2662323\ttotal: 21.7s\tremaining: 8.89s\n",
      "39:\tlearn: 1377.1104386\ttotal: 22.2s\tremaining: 8.33s\n",
      "40:\tlearn: 1371.7874232\ttotal: 22.8s\tremaining: 7.79s\n",
      "41:\tlearn: 1364.5114813\ttotal: 23.4s\tremaining: 7.24s\n",
      "42:\tlearn: 1358.3061281\ttotal: 23.9s\tremaining: 6.68s\n",
      "43:\tlearn: 1353.4479606\ttotal: 24.5s\tremaining: 6.13s\n",
      "44:\tlearn: 1348.2522723\ttotal: 25.1s\tremaining: 5.58s\n",
      "45:\tlearn: 1341.7693794\ttotal: 25.6s\tremaining: 5.02s\n",
      "46:\tlearn: 1339.6825909\ttotal: 26.2s\tremaining: 4.45s\n",
      "47:\tlearn: 1335.2810497\ttotal: 26.7s\tremaining: 3.89s\n",
      "48:\tlearn: 1333.6287817\ttotal: 27.2s\tremaining: 3.33s\n",
      "49:\tlearn: 1330.0090898\ttotal: 27.7s\tremaining: 2.77s\n",
      "50:\tlearn: 1326.0818563\ttotal: 28.2s\tremaining: 2.21s\n",
      "51:\tlearn: 1324.5280558\ttotal: 28.7s\tremaining: 1.66s\n",
      "52:\tlearn: 1319.8637361\ttotal: 29.3s\tremaining: 1.1s\n",
      "53:\tlearn: 1316.3639261\ttotal: 29.8s\tremaining: 552ms\n",
      "54:\tlearn: 1310.9518381\ttotal: 30.4s\tremaining: 0us\n",
      "[CV 3/5; 2/8] END iterations=55, learning_rate=0.2, max_depth=15; total time=  31.3s\n",
      "[CV 4/5; 2/8] START iterations=55, learning_rate=0.2, max_depth=15..............\n",
      "0:\tlearn: 3916.0040063\ttotal: 540ms\tremaining: 29.1s\n",
      "1:\tlearn: 3384.9467774\ttotal: 1.1s\tremaining: 29.2s\n",
      "2:\tlearn: 2964.9214755\ttotal: 1.67s\tremaining: 28.9s\n",
      "3:\tlearn: 2660.3753439\ttotal: 2.19s\tremaining: 27.9s\n",
      "4:\tlearn: 2431.6807248\ttotal: 2.72s\tremaining: 27.2s\n",
      "5:\tlearn: 2267.2827679\ttotal: 3.24s\tremaining: 26.5s\n",
      "6:\tlearn: 2100.6252834\ttotal: 3.76s\tremaining: 25.8s\n",
      "7:\tlearn: 1974.9755991\ttotal: 4.27s\tremaining: 25.1s\n",
      "8:\tlearn: 1889.5452562\ttotal: 4.79s\tremaining: 24.5s\n",
      "9:\tlearn: 1809.6189951\ttotal: 5.3s\tremaining: 23.9s\n",
      "10:\tlearn: 1751.7133079\ttotal: 5.81s\tremaining: 23.2s\n",
      "11:\tlearn: 1710.7113263\ttotal: 6.32s\tremaining: 22.6s\n",
      "12:\tlearn: 1675.7446369\ttotal: 6.84s\tremaining: 22.1s\n",
      "13:\tlearn: 1635.5264096\ttotal: 7.37s\tremaining: 21.6s\n",
      "14:\tlearn: 1602.1221603\ttotal: 7.9s\tremaining: 21.1s\n",
      "15:\tlearn: 1578.4394550\ttotal: 8.43s\tremaining: 20.6s\n",
      "16:\tlearn: 1557.4500091\ttotal: 8.96s\tremaining: 20s\n",
      "17:\tlearn: 1539.9448512\ttotal: 9.48s\tremaining: 19.5s\n",
      "18:\tlearn: 1526.9506851\ttotal: 10s\tremaining: 18.9s\n",
      "19:\tlearn: 1513.8718123\ttotal: 10.5s\tremaining: 18.4s\n",
      "20:\tlearn: 1501.1510391\ttotal: 11.1s\tremaining: 17.9s\n",
      "21:\tlearn: 1493.5126093\ttotal: 11.6s\tremaining: 17.4s\n",
      "22:\tlearn: 1485.7803018\ttotal: 12.1s\tremaining: 16.9s\n",
      "23:\tlearn: 1475.7237996\ttotal: 12.7s\tremaining: 16.4s\n",
      "24:\tlearn: 1470.0465346\ttotal: 13.2s\tremaining: 15.8s\n",
      "25:\tlearn: 1464.8836755\ttotal: 13.7s\tremaining: 15.3s\n",
      "26:\tlearn: 1458.2476119\ttotal: 14.2s\tremaining: 14.8s\n",
      "27:\tlearn: 1451.4563448\ttotal: 14.8s\tremaining: 14.2s\n",
      "28:\tlearn: 1445.7805380\ttotal: 15.3s\tremaining: 13.7s\n",
      "29:\tlearn: 1437.8622559\ttotal: 15.8s\tremaining: 13.2s\n",
      "30:\tlearn: 1432.9758875\ttotal: 16.3s\tremaining: 12.7s\n",
      "31:\tlearn: 1426.0628518\ttotal: 16.9s\tremaining: 12.1s\n",
      "32:\tlearn: 1423.8567235\ttotal: 17.4s\tremaining: 11.6s\n",
      "33:\tlearn: 1420.2265647\ttotal: 17.9s\tremaining: 11.1s\n",
      "34:\tlearn: 1414.4294507\ttotal: 18.5s\tremaining: 10.6s\n",
      "35:\tlearn: 1409.8487208\ttotal: 19s\tremaining: 10s\n",
      "36:\tlearn: 1406.7101650\ttotal: 19.6s\tremaining: 9.51s\n",
      "37:\tlearn: 1404.6360038\ttotal: 20.1s\tremaining: 9s\n",
      "38:\tlearn: 1401.4104841\ttotal: 20.7s\tremaining: 8.48s\n",
      "39:\tlearn: 1398.3835821\ttotal: 21.2s\tremaining: 7.96s\n",
      "40:\tlearn: 1395.1843934\ttotal: 21.9s\tremaining: 7.46s\n",
      "41:\tlearn: 1389.2264896\ttotal: 22.5s\tremaining: 6.96s\n",
      "42:\tlearn: 1385.7032834\ttotal: 23.1s\tremaining: 6.44s\n",
      "43:\tlearn: 1382.2912911\ttotal: 23.7s\tremaining: 5.92s\n",
      "44:\tlearn: 1377.8270495\ttotal: 24.2s\tremaining: 5.38s\n",
      "45:\tlearn: 1373.2298484\ttotal: 24.8s\tremaining: 4.85s\n",
      "46:\tlearn: 1369.8983564\ttotal: 25.3s\tremaining: 4.31s\n",
      "47:\tlearn: 1362.8625099\ttotal: 25.9s\tremaining: 3.77s\n",
      "48:\tlearn: 1357.3354511\ttotal: 26.4s\tremaining: 3.23s\n",
      "49:\tlearn: 1353.8857218\ttotal: 27s\tremaining: 2.69s\n",
      "50:\tlearn: 1349.6083426\ttotal: 27.5s\tremaining: 2.15s\n",
      "51:\tlearn: 1344.2025817\ttotal: 28s\tremaining: 1.61s\n",
      "52:\tlearn: 1339.4128451\ttotal: 28.5s\tremaining: 1.08s\n",
      "53:\tlearn: 1337.2173077\ttotal: 29s\tremaining: 538ms\n",
      "54:\tlearn: 1334.7632472\ttotal: 29.6s\tremaining: 0us\n",
      "[CV 4/5; 2/8] END iterations=55, learning_rate=0.2, max_depth=15; total time=  30.4s\n",
      "[CV 5/5; 2/8] START iterations=55, learning_rate=0.2, max_depth=15..............\n",
      "0:\tlearn: 3908.3603794\ttotal: 535ms\tremaining: 28.9s\n",
      "1:\tlearn: 3378.2650348\ttotal: 1.08s\tremaining: 28.7s\n",
      "2:\tlearn: 2958.4804304\ttotal: 1.61s\tremaining: 27.9s\n",
      "3:\tlearn: 2648.4080557\ttotal: 2.12s\tremaining: 27.1s\n",
      "4:\tlearn: 2422.8829476\ttotal: 2.63s\tremaining: 26.3s\n",
      "5:\tlearn: 2216.8559233\ttotal: 3.18s\tremaining: 26s\n",
      "6:\tlearn: 2071.5594808\ttotal: 3.68s\tremaining: 25.2s\n",
      "7:\tlearn: 1961.5272408\ttotal: 4.2s\tremaining: 24.6s\n",
      "8:\tlearn: 1880.6428841\ttotal: 4.7s\tremaining: 24s\n",
      "9:\tlearn: 1809.3985058\ttotal: 5.2s\tremaining: 23.4s\n",
      "10:\tlearn: 1754.8162168\ttotal: 5.72s\tremaining: 22.9s\n",
      "11:\tlearn: 1709.6161656\ttotal: 6.24s\tremaining: 22.4s\n",
      "12:\tlearn: 1676.1808122\ttotal: 6.77s\tremaining: 21.9s\n",
      "13:\tlearn: 1650.1505079\ttotal: 7.29s\tremaining: 21.3s\n",
      "14:\tlearn: 1617.6486169\ttotal: 7.81s\tremaining: 20.8s\n",
      "15:\tlearn: 1587.9693274\ttotal: 8.34s\tremaining: 20.3s\n",
      "16:\tlearn: 1567.5814028\ttotal: 8.86s\tremaining: 19.8s\n",
      "17:\tlearn: 1549.5493732\ttotal: 9.37s\tremaining: 19.3s\n",
      "18:\tlearn: 1534.0928864\ttotal: 9.9s\tremaining: 18.8s\n",
      "19:\tlearn: 1521.3637285\ttotal: 10.4s\tremaining: 18.2s\n",
      "20:\tlearn: 1509.4653595\ttotal: 10.9s\tremaining: 17.7s\n",
      "21:\tlearn: 1499.6447980\ttotal: 11.5s\tremaining: 17.3s\n",
      "22:\tlearn: 1487.9235995\ttotal: 12s\tremaining: 16.7s\n",
      "23:\tlearn: 1478.8608612\ttotal: 12.6s\tremaining: 16.2s\n",
      "24:\tlearn: 1471.3892552\ttotal: 13.1s\tremaining: 15.8s\n",
      "25:\tlearn: 1463.1523438\ttotal: 13.7s\tremaining: 15.2s\n",
      "26:\tlearn: 1457.0457300\ttotal: 14.2s\tremaining: 14.7s\n",
      "27:\tlearn: 1456.7984320\ttotal: 14.2s\tremaining: 13.7s\n",
      "28:\tlearn: 1449.6373903\ttotal: 14.7s\tremaining: 13.2s\n",
      "29:\tlearn: 1442.8433746\ttotal: 15.2s\tremaining: 12.7s\n",
      "30:\tlearn: 1437.2586397\ttotal: 15.8s\tremaining: 12.2s\n",
      "31:\tlearn: 1433.6149208\ttotal: 16.3s\tremaining: 11.7s\n",
      "32:\tlearn: 1425.9827134\ttotal: 16.9s\tremaining: 11.2s\n",
      "33:\tlearn: 1420.1115302\ttotal: 17.4s\tremaining: 10.8s\n",
      "34:\tlearn: 1414.5452218\ttotal: 18s\tremaining: 10.3s\n",
      "35:\tlearn: 1409.8548296\ttotal: 18.6s\tremaining: 9.8s\n",
      "36:\tlearn: 1405.6300974\ttotal: 19.2s\tremaining: 9.32s\n",
      "37:\tlearn: 1400.4275402\ttotal: 19.7s\tremaining: 8.83s\n",
      "38:\tlearn: 1395.4675953\ttotal: 20.3s\tremaining: 8.33s\n",
      "39:\tlearn: 1391.2981945\ttotal: 20.8s\tremaining: 7.81s\n",
      "40:\tlearn: 1387.7824266\ttotal: 21.4s\tremaining: 7.31s\n",
      "41:\tlearn: 1385.3793362\ttotal: 21.9s\tremaining: 6.78s\n",
      "42:\tlearn: 1381.7030216\ttotal: 22.5s\tremaining: 6.27s\n",
      "43:\tlearn: 1378.7428461\ttotal: 23s\tremaining: 5.76s\n",
      "44:\tlearn: 1375.6311563\ttotal: 23.6s\tremaining: 5.25s\n",
      "45:\tlearn: 1370.1597864\ttotal: 24.2s\tremaining: 4.73s\n",
      "46:\tlearn: 1362.6312917\ttotal: 24.7s\tremaining: 4.21s\n",
      "47:\tlearn: 1359.4111633\ttotal: 25.3s\tremaining: 3.68s\n",
      "48:\tlearn: 1351.6003349\ttotal: 25.8s\tremaining: 3.16s\n",
      "49:\tlearn: 1345.0948356\ttotal: 26.3s\tremaining: 2.63s\n",
      "50:\tlearn: 1341.1951720\ttotal: 26.8s\tremaining: 2.1s\n",
      "51:\tlearn: 1334.9980082\ttotal: 27.4s\tremaining: 1.58s\n",
      "52:\tlearn: 1330.6599720\ttotal: 27.9s\tremaining: 1.05s\n",
      "53:\tlearn: 1327.7598818\ttotal: 28.5s\tremaining: 527ms\n",
      "54:\tlearn: 1324.0977258\ttotal: 29s\tremaining: 0us\n",
      "[CV 5/5; 2/8] END iterations=55, learning_rate=0.2, max_depth=15; total time=  29.9s\n",
      "[CV 1/5; 3/8] START iterations=55, learning_rate=0.5, max_depth=10..............\n",
      "0:\tlearn: 3021.3789698\ttotal: 83.5ms\tremaining: 4.51s\n",
      "1:\tlearn: 2346.2729804\ttotal: 167ms\tremaining: 4.41s\n",
      "2:\tlearn: 2029.6947294\ttotal: 266ms\tremaining: 4.62s\n",
      "3:\tlearn: 1861.9892095\ttotal: 351ms\tremaining: 4.47s\n",
      "4:\tlearn: 1781.0774252\ttotal: 437ms\tremaining: 4.37s\n",
      "5:\tlearn: 1731.5072880\ttotal: 518ms\tremaining: 4.23s\n",
      "6:\tlearn: 1701.8149201\ttotal: 599ms\tremaining: 4.11s\n",
      "7:\tlearn: 1688.4221947\ttotal: 685ms\tremaining: 4.02s\n",
      "8:\tlearn: 1673.2184047\ttotal: 768ms\tremaining: 3.93s\n",
      "9:\tlearn: 1656.9905716\ttotal: 848ms\tremaining: 3.81s\n",
      "10:\tlearn: 1649.4741510\ttotal: 926ms\tremaining: 3.7s\n",
      "11:\tlearn: 1629.7623016\ttotal: 1.01s\tremaining: 3.63s\n",
      "12:\tlearn: 1621.7724635\ttotal: 1.1s\tremaining: 3.56s\n",
      "13:\tlearn: 1611.2114678\ttotal: 1.19s\tremaining: 3.48s\n",
      "14:\tlearn: 1599.3245580\ttotal: 1.26s\tremaining: 3.36s\n",
      "15:\tlearn: 1591.0503314\ttotal: 1.34s\tremaining: 3.26s\n",
      "16:\tlearn: 1580.8771576\ttotal: 1.41s\tremaining: 3.15s\n",
      "17:\tlearn: 1576.5522725\ttotal: 1.48s\tremaining: 3.04s\n",
      "18:\tlearn: 1571.2710757\ttotal: 1.55s\tremaining: 2.94s\n",
      "19:\tlearn: 1564.7401436\ttotal: 1.63s\tremaining: 2.85s\n",
      "20:\tlearn: 1551.9417113\ttotal: 1.71s\tremaining: 2.76s\n",
      "21:\tlearn: 1547.9854578\ttotal: 1.78s\tremaining: 2.67s\n",
      "22:\tlearn: 1541.2340829\ttotal: 1.85s\tremaining: 2.58s\n",
      "23:\tlearn: 1535.8690286\ttotal: 1.93s\tremaining: 2.49s\n",
      "24:\tlearn: 1528.5302530\ttotal: 2.02s\tremaining: 2.42s\n",
      "25:\tlearn: 1522.6386241\ttotal: 2.09s\tremaining: 2.33s\n",
      "26:\tlearn: 1517.1459493\ttotal: 2.17s\tremaining: 2.25s\n",
      "27:\tlearn: 1517.1457287\ttotal: 2.2s\tremaining: 2.12s\n",
      "28:\tlearn: 1509.3796086\ttotal: 2.27s\tremaining: 2.04s\n",
      "29:\tlearn: 1501.1359215\ttotal: 2.34s\tremaining: 1.95s\n",
      "30:\tlearn: 1494.9744897\ttotal: 2.42s\tremaining: 1.87s\n",
      "31:\tlearn: 1491.3019724\ttotal: 2.49s\tremaining: 1.79s\n",
      "32:\tlearn: 1487.1638697\ttotal: 2.57s\tremaining: 1.71s\n",
      "33:\tlearn: 1482.6305696\ttotal: 2.64s\tremaining: 1.63s\n",
      "34:\tlearn: 1475.6965321\ttotal: 2.73s\tremaining: 1.56s\n",
      "35:\tlearn: 1470.3587262\ttotal: 2.81s\tremaining: 1.48s\n",
      "36:\tlearn: 1468.1911856\ttotal: 2.88s\tremaining: 1.4s\n",
      "37:\tlearn: 1463.8421985\ttotal: 2.95s\tremaining: 1.32s\n",
      "38:\tlearn: 1461.9841337\ttotal: 3.03s\tremaining: 1.24s\n",
      "39:\tlearn: 1461.0666589\ttotal: 3.1s\tremaining: 1.16s\n",
      "40:\tlearn: 1456.9798680\ttotal: 3.17s\tremaining: 1.08s\n",
      "41:\tlearn: 1451.5343014\ttotal: 3.26s\tremaining: 1.01s\n",
      "42:\tlearn: 1446.0732362\ttotal: 3.33s\tremaining: 929ms\n",
      "43:\tlearn: 1442.8160285\ttotal: 3.41s\tremaining: 852ms\n",
      "44:\tlearn: 1439.7319073\ttotal: 3.48s\tremaining: 774ms\n",
      "45:\tlearn: 1438.0060215\ttotal: 3.55s\tremaining: 695ms\n",
      "46:\tlearn: 1435.4202476\ttotal: 3.62s\tremaining: 617ms\n",
      "47:\tlearn: 1432.4497008\ttotal: 3.71s\tremaining: 541ms\n",
      "48:\tlearn: 1429.8223816\ttotal: 3.78s\tremaining: 463ms\n",
      "49:\tlearn: 1425.6341294\ttotal: 3.85s\tremaining: 385ms\n",
      "50:\tlearn: 1423.0767999\ttotal: 3.94s\tremaining: 309ms\n",
      "51:\tlearn: 1420.9366069\ttotal: 4.01s\tremaining: 232ms\n",
      "52:\tlearn: 1418.5454916\ttotal: 4.09s\tremaining: 154ms\n",
      "53:\tlearn: 1417.3132176\ttotal: 4.17s\tremaining: 77.2ms\n",
      "54:\tlearn: 1416.5205893\ttotal: 4.24s\tremaining: 0us\n",
      "[CV 1/5; 3/8] END iterations=55, learning_rate=0.5, max_depth=10; total time=   5.0s\n",
      "[CV 2/5; 3/8] START iterations=55, learning_rate=0.5, max_depth=10..............\n",
      "0:\tlearn: 3025.2903557\ttotal: 75.6ms\tremaining: 4.08s\n",
      "1:\tlearn: 2360.7266397\ttotal: 157ms\tremaining: 4.16s\n",
      "2:\tlearn: 2028.2266451\ttotal: 236ms\tremaining: 4.08s\n",
      "3:\tlearn: 1874.3078951\ttotal: 313ms\tremaining: 3.98s\n",
      "4:\tlearn: 1795.3928167\ttotal: 395ms\tremaining: 3.95s\n",
      "5:\tlearn: 1735.4587740\ttotal: 469ms\tremaining: 3.83s\n",
      "6:\tlearn: 1708.7003890\ttotal: 541ms\tremaining: 3.71s\n",
      "7:\tlearn: 1691.4579774\ttotal: 614ms\tremaining: 3.61s\n",
      "8:\tlearn: 1668.6404876\ttotal: 685ms\tremaining: 3.5s\n",
      "9:\tlearn: 1653.5488530\ttotal: 758ms\tremaining: 3.41s\n",
      "10:\tlearn: 1640.3276710\ttotal: 847ms\tremaining: 3.39s\n",
      "11:\tlearn: 1623.8387055\ttotal: 923ms\tremaining: 3.31s\n",
      "12:\tlearn: 1615.3389996\ttotal: 996ms\tremaining: 3.22s\n",
      "13:\tlearn: 1599.9300529\ttotal: 1.08s\tremaining: 3.16s\n",
      "14:\tlearn: 1593.1720681\ttotal: 1.15s\tremaining: 3.07s\n",
      "15:\tlearn: 1585.3694951\ttotal: 1.23s\tremaining: 2.99s\n",
      "16:\tlearn: 1579.5470404\ttotal: 1.3s\tremaining: 2.91s\n",
      "17:\tlearn: 1575.9747358\ttotal: 1.37s\tremaining: 2.82s\n",
      "18:\tlearn: 1569.3297089\ttotal: 1.44s\tremaining: 2.73s\n",
      "19:\tlearn: 1561.9683452\ttotal: 1.52s\tremaining: 2.66s\n",
      "20:\tlearn: 1553.1569035\ttotal: 1.59s\tremaining: 2.58s\n",
      "21:\tlearn: 1547.9240729\ttotal: 1.67s\tremaining: 2.5s\n",
      "22:\tlearn: 1541.6755468\ttotal: 1.74s\tremaining: 2.42s\n",
      "23:\tlearn: 1534.5754361\ttotal: 1.81s\tremaining: 2.34s\n",
      "24:\tlearn: 1529.0601300\ttotal: 1.9s\tremaining: 2.27s\n",
      "25:\tlearn: 1525.0794169\ttotal: 1.97s\tremaining: 2.2s\n",
      "26:\tlearn: 1516.1233461\ttotal: 2.05s\tremaining: 2.13s\n",
      "27:\tlearn: 1512.6576305\ttotal: 2.13s\tremaining: 2.05s\n",
      "28:\tlearn: 1509.5194981\ttotal: 2.2s\tremaining: 1.97s\n",
      "29:\tlearn: 1506.4350431\ttotal: 2.27s\tremaining: 1.89s\n",
      "30:\tlearn: 1504.0358819\ttotal: 2.35s\tremaining: 1.82s\n",
      "31:\tlearn: 1500.2051639\ttotal: 2.43s\tremaining: 1.74s\n",
      "32:\tlearn: 1494.7381289\ttotal: 2.5s\tremaining: 1.67s\n",
      "33:\tlearn: 1488.5707361\ttotal: 2.57s\tremaining: 1.59s\n",
      "34:\tlearn: 1480.8872634\ttotal: 2.65s\tremaining: 1.51s\n",
      "35:\tlearn: 1478.1261097\ttotal: 2.72s\tremaining: 1.44s\n",
      "36:\tlearn: 1477.3954328\ttotal: 2.79s\tremaining: 1.36s\n",
      "37:\tlearn: 1475.7058394\ttotal: 2.87s\tremaining: 1.28s\n",
      "38:\tlearn: 1471.5506701\ttotal: 2.94s\tremaining: 1.21s\n",
      "39:\tlearn: 1461.0681581\ttotal: 3.02s\tremaining: 1.13s\n",
      "40:\tlearn: 1456.7982052\ttotal: 3.11s\tremaining: 1.06s\n",
      "41:\tlearn: 1449.7504534\ttotal: 3.18s\tremaining: 985ms\n",
      "42:\tlearn: 1445.7892476\ttotal: 3.26s\tremaining: 909ms\n",
      "43:\tlearn: 1443.1544511\ttotal: 3.33s\tremaining: 831ms\n",
      "44:\tlearn: 1440.0338444\ttotal: 3.4s\tremaining: 756ms\n",
      "45:\tlearn: 1435.1411576\ttotal: 3.48s\tremaining: 681ms\n",
      "46:\tlearn: 1430.7942074\ttotal: 3.55s\tremaining: 605ms\n",
      "47:\tlearn: 1430.4705399\ttotal: 3.63s\tremaining: 529ms\n",
      "48:\tlearn: 1427.9811830\ttotal: 3.7s\tremaining: 453ms\n",
      "49:\tlearn: 1425.5271601\ttotal: 3.77s\tremaining: 377ms\n",
      "50:\tlearn: 1423.2403647\ttotal: 3.85s\tremaining: 302ms\n",
      "51:\tlearn: 1420.5497410\ttotal: 3.93s\tremaining: 227ms\n",
      "52:\tlearn: 1415.5795850\ttotal: 4.01s\tremaining: 151ms\n",
      "53:\tlearn: 1413.8214530\ttotal: 4.09s\tremaining: 75.7ms\n",
      "54:\tlearn: 1410.4432403\ttotal: 4.18s\tremaining: 0us\n",
      "[CV 2/5; 3/8] END iterations=55, learning_rate=0.5, max_depth=10; total time=   4.9s\n",
      "[CV 3/5; 3/8] START iterations=55, learning_rate=0.5, max_depth=10..............\n",
      "0:\tlearn: 3021.4829219\ttotal: 82.9ms\tremaining: 4.47s\n",
      "1:\tlearn: 2340.3124634\ttotal: 180ms\tremaining: 4.78s\n",
      "2:\tlearn: 2019.3928912\ttotal: 254ms\tremaining: 4.4s\n",
      "3:\tlearn: 1864.1959020\ttotal: 328ms\tremaining: 4.18s\n",
      "4:\tlearn: 1787.8395859\ttotal: 403ms\tremaining: 4.03s\n",
      "5:\tlearn: 1745.8438749\ttotal: 491ms\tremaining: 4.01s\n",
      "6:\tlearn: 1703.3282190\ttotal: 566ms\tremaining: 3.88s\n",
      "7:\tlearn: 1679.9814767\ttotal: 638ms\tremaining: 3.75s\n",
      "8:\tlearn: 1662.5926106\ttotal: 709ms\tremaining: 3.62s\n",
      "9:\tlearn: 1649.7804697\ttotal: 787ms\tremaining: 3.54s\n",
      "10:\tlearn: 1635.5841631\ttotal: 864ms\tremaining: 3.45s\n",
      "11:\tlearn: 1625.5721994\ttotal: 938ms\tremaining: 3.36s\n",
      "12:\tlearn: 1615.9863470\ttotal: 1.01s\tremaining: 3.28s\n",
      "13:\tlearn: 1605.8478024\ttotal: 1.11s\tremaining: 3.25s\n",
      "14:\tlearn: 1598.1696352\ttotal: 1.2s\tremaining: 3.2s\n",
      "15:\tlearn: 1590.4417956\ttotal: 1.29s\tremaining: 3.13s\n",
      "16:\tlearn: 1579.2254297\ttotal: 1.36s\tremaining: 3.04s\n",
      "17:\tlearn: 1572.7314711\ttotal: 1.43s\tremaining: 2.94s\n",
      "18:\tlearn: 1564.2062665\ttotal: 1.51s\tremaining: 2.85s\n",
      "19:\tlearn: 1554.3437201\ttotal: 1.58s\tremaining: 2.76s\n",
      "20:\tlearn: 1550.7352138\ttotal: 1.65s\tremaining: 2.67s\n",
      "21:\tlearn: 1544.0745529\ttotal: 1.72s\tremaining: 2.58s\n",
      "22:\tlearn: 1539.7111672\ttotal: 1.81s\tremaining: 2.51s\n",
      "23:\tlearn: 1532.8687370\ttotal: 1.88s\tremaining: 2.42s\n",
      "24:\tlearn: 1526.4433396\ttotal: 1.95s\tremaining: 2.34s\n",
      "25:\tlearn: 1516.7850471\ttotal: 2.02s\tremaining: 2.25s\n",
      "26:\tlearn: 1512.5989887\ttotal: 2.12s\tremaining: 2.2s\n",
      "27:\tlearn: 1507.6188678\ttotal: 2.2s\tremaining: 2.12s\n",
      "28:\tlearn: 1499.2456055\ttotal: 2.27s\tremaining: 2.03s\n",
      "29:\tlearn: 1495.7931215\ttotal: 2.34s\tremaining: 1.95s\n",
      "30:\tlearn: 1485.8638093\ttotal: 2.42s\tremaining: 1.87s\n",
      "31:\tlearn: 1478.7466706\ttotal: 2.49s\tremaining: 1.79s\n",
      "32:\tlearn: 1474.6793180\ttotal: 2.56s\tremaining: 1.71s\n",
      "33:\tlearn: 1469.5835585\ttotal: 2.63s\tremaining: 1.62s\n",
      "34:\tlearn: 1465.1888510\ttotal: 2.7s\tremaining: 1.54s\n",
      "35:\tlearn: 1461.2336068\ttotal: 2.78s\tremaining: 1.47s\n",
      "36:\tlearn: 1457.3499841\ttotal: 2.86s\tremaining: 1.39s\n",
      "37:\tlearn: 1453.2562115\ttotal: 2.94s\tremaining: 1.32s\n",
      "38:\tlearn: 1451.0624712\ttotal: 3.01s\tremaining: 1.24s\n",
      "39:\tlearn: 1448.0054267\ttotal: 3.09s\tremaining: 1.16s\n",
      "40:\tlearn: 1443.1538108\ttotal: 3.16s\tremaining: 1.08s\n",
      "41:\tlearn: 1441.1738640\ttotal: 3.23s\tremaining: 1s\n",
      "42:\tlearn: 1438.4017428\ttotal: 3.31s\tremaining: 925ms\n",
      "43:\tlearn: 1436.7237236\ttotal: 3.39s\tremaining: 848ms\n",
      "44:\tlearn: 1431.9529382\ttotal: 3.46s\tremaining: 769ms\n",
      "45:\tlearn: 1427.8598554\ttotal: 3.55s\tremaining: 694ms\n",
      "46:\tlearn: 1426.7400496\ttotal: 3.63s\tremaining: 618ms\n",
      "47:\tlearn: 1424.0951214\ttotal: 3.7s\tremaining: 540ms\n",
      "48:\tlearn: 1420.5116194\ttotal: 3.78s\tremaining: 463ms\n",
      "49:\tlearn: 1418.5250978\ttotal: 3.86s\tremaining: 386ms\n",
      "50:\tlearn: 1417.2877070\ttotal: 3.93s\tremaining: 308ms\n",
      "51:\tlearn: 1414.1376033\ttotal: 4s\tremaining: 231ms\n",
      "52:\tlearn: 1410.1870678\ttotal: 4.09s\tremaining: 154ms\n",
      "53:\tlearn: 1406.9617662\ttotal: 4.17s\tremaining: 77.2ms\n",
      "54:\tlearn: 1405.8924896\ttotal: 4.26s\tremaining: 0us\n",
      "[CV 3/5; 3/8] END iterations=55, learning_rate=0.5, max_depth=10; total time=   5.0s\n",
      "[CV 4/5; 3/8] START iterations=55, learning_rate=0.5, max_depth=10..............\n",
      "0:\tlearn: 3025.5752717\ttotal: 77ms\tremaining: 4.16s\n",
      "1:\tlearn: 2351.2534391\ttotal: 163ms\tremaining: 4.32s\n",
      "2:\tlearn: 2031.7059832\ttotal: 236ms\tremaining: 4.1s\n",
      "3:\tlearn: 1872.9197126\ttotal: 307ms\tremaining: 3.92s\n",
      "4:\tlearn: 1786.8390593\ttotal: 380ms\tremaining: 3.8s\n",
      "5:\tlearn: 1741.3157484\ttotal: 450ms\tremaining: 3.67s\n",
      "6:\tlearn: 1718.1135507\ttotal: 523ms\tremaining: 3.58s\n",
      "7:\tlearn: 1700.2731414\ttotal: 596ms\tremaining: 3.5s\n",
      "8:\tlearn: 1684.1384971\ttotal: 667ms\tremaining: 3.41s\n",
      "9:\tlearn: 1672.9990545\ttotal: 741ms\tremaining: 3.33s\n",
      "10:\tlearn: 1655.1295747\ttotal: 814ms\tremaining: 3.25s\n",
      "11:\tlearn: 1636.4251403\ttotal: 886ms\tremaining: 3.17s\n",
      "12:\tlearn: 1623.5044017\ttotal: 957ms\tremaining: 3.09s\n",
      "13:\tlearn: 1613.6891371\ttotal: 1.03s\tremaining: 3.03s\n",
      "14:\tlearn: 1603.6112502\ttotal: 1.11s\tremaining: 2.96s\n",
      "15:\tlearn: 1595.0641799\ttotal: 1.21s\tremaining: 2.94s\n",
      "16:\tlearn: 1587.7948164\ttotal: 1.29s\tremaining: 2.88s\n",
      "17:\tlearn: 1579.9498917\ttotal: 1.37s\tremaining: 2.81s\n",
      "18:\tlearn: 1571.1977942\ttotal: 1.44s\tremaining: 2.74s\n",
      "19:\tlearn: 1561.3361815\ttotal: 1.52s\tremaining: 2.66s\n",
      "20:\tlearn: 1557.9561073\ttotal: 1.6s\tremaining: 2.59s\n",
      "21:\tlearn: 1554.5610445\ttotal: 1.67s\tremaining: 2.51s\n",
      "22:\tlearn: 1548.2032757\ttotal: 1.75s\tremaining: 2.44s\n",
      "23:\tlearn: 1544.4940116\ttotal: 1.83s\tremaining: 2.36s\n",
      "24:\tlearn: 1537.7592201\ttotal: 1.9s\tremaining: 2.28s\n",
      "25:\tlearn: 1530.1202174\ttotal: 1.98s\tremaining: 2.2s\n",
      "26:\tlearn: 1527.6246515\ttotal: 2.05s\tremaining: 2.13s\n",
      "27:\tlearn: 1521.6926995\ttotal: 2.13s\tremaining: 2.05s\n",
      "28:\tlearn: 1515.3630425\ttotal: 2.21s\tremaining: 1.98s\n",
      "29:\tlearn: 1512.1084277\ttotal: 2.28s\tremaining: 1.9s\n",
      "30:\tlearn: 1505.6185210\ttotal: 2.38s\tremaining: 1.84s\n",
      "31:\tlearn: 1501.7341231\ttotal: 2.45s\tremaining: 1.76s\n",
      "32:\tlearn: 1495.0802514\ttotal: 2.52s\tremaining: 1.68s\n",
      "33:\tlearn: 1488.4373631\ttotal: 2.6s\tremaining: 1.6s\n",
      "34:\tlearn: 1478.1105469\ttotal: 2.67s\tremaining: 1.52s\n",
      "35:\tlearn: 1474.0971349\ttotal: 2.75s\tremaining: 1.45s\n",
      "36:\tlearn: 1466.2334255\ttotal: 2.82s\tremaining: 1.37s\n",
      "37:\tlearn: 1463.0926056\ttotal: 2.9s\tremaining: 1.29s\n",
      "38:\tlearn: 1461.7224201\ttotal: 2.97s\tremaining: 1.22s\n",
      "39:\tlearn: 1459.3906514\ttotal: 3.04s\tremaining: 1.14s\n",
      "40:\tlearn: 1455.8842470\ttotal: 3.12s\tremaining: 1.06s\n",
      "41:\tlearn: 1451.6565520\ttotal: 3.19s\tremaining: 989ms\n",
      "42:\tlearn: 1448.3449936\ttotal: 3.28s\tremaining: 915ms\n",
      "43:\tlearn: 1445.0155130\ttotal: 3.35s\tremaining: 838ms\n",
      "44:\tlearn: 1442.9398817\ttotal: 3.42s\tremaining: 761ms\n",
      "45:\tlearn: 1441.1234614\ttotal: 3.5s\tremaining: 685ms\n",
      "46:\tlearn: 1436.9749952\ttotal: 3.58s\tremaining: 609ms\n",
      "47:\tlearn: 1433.0585043\ttotal: 3.65s\tremaining: 533ms\n",
      "48:\tlearn: 1431.1802996\ttotal: 3.73s\tremaining: 457ms\n",
      "49:\tlearn: 1425.9819114\ttotal: 3.81s\tremaining: 381ms\n",
      "50:\tlearn: 1423.7813519\ttotal: 3.88s\tremaining: 305ms\n",
      "51:\tlearn: 1421.8709136\ttotal: 3.96s\tremaining: 228ms\n",
      "52:\tlearn: 1418.7319958\ttotal: 4.03s\tremaining: 152ms\n",
      "53:\tlearn: 1415.6933532\ttotal: 4.11s\tremaining: 76.1ms\n",
      "54:\tlearn: 1414.2952356\ttotal: 4.2s\tremaining: 0us\n",
      "[CV 4/5; 3/8] END iterations=55, learning_rate=0.5, max_depth=10; total time=   5.0s\n",
      "[CV 5/5; 3/8] START iterations=55, learning_rate=0.5, max_depth=10..............\n",
      "0:\tlearn: 3020.9882651\ttotal: 90.7ms\tremaining: 4.9s\n",
      "1:\tlearn: 2340.7094255\ttotal: 185ms\tremaining: 4.9s\n",
      "2:\tlearn: 2022.9139992\ttotal: 293ms\tremaining: 5.08s\n",
      "3:\tlearn: 1870.9836424\ttotal: 377ms\tremaining: 4.81s\n",
      "4:\tlearn: 1799.8800730\ttotal: 462ms\tremaining: 4.62s\n",
      "5:\tlearn: 1751.9413686\ttotal: 543ms\tremaining: 4.43s\n",
      "6:\tlearn: 1725.2821142\ttotal: 621ms\tremaining: 4.26s\n",
      "7:\tlearn: 1703.9490821\ttotal: 707ms\tremaining: 4.15s\n",
      "8:\tlearn: 1688.8307446\ttotal: 790ms\tremaining: 4.04s\n",
      "9:\tlearn: 1670.4728516\ttotal: 875ms\tremaining: 3.94s\n",
      "10:\tlearn: 1655.7910586\ttotal: 979ms\tremaining: 3.92s\n",
      "11:\tlearn: 1643.6965190\ttotal: 1.08s\tremaining: 3.88s\n",
      "12:\tlearn: 1632.9692480\ttotal: 1.18s\tremaining: 3.82s\n",
      "13:\tlearn: 1620.7546590\ttotal: 1.27s\tremaining: 3.71s\n",
      "14:\tlearn: 1616.4612815\ttotal: 1.36s\tremaining: 3.63s\n",
      "15:\tlearn: 1609.6513482\ttotal: 1.44s\tremaining: 3.52s\n",
      "16:\tlearn: 1602.8543993\ttotal: 1.53s\tremaining: 3.41s\n",
      "17:\tlearn: 1591.2275165\ttotal: 1.61s\tremaining: 3.3s\n",
      "18:\tlearn: 1585.3056000\ttotal: 1.69s\tremaining: 3.2s\n",
      "19:\tlearn: 1574.9729062\ttotal: 1.79s\tremaining: 3.13s\n",
      "20:\tlearn: 1564.2718205\ttotal: 1.89s\tremaining: 3.06s\n",
      "21:\tlearn: 1556.5540624\ttotal: 2s\tremaining: 3s\n",
      "22:\tlearn: 1552.3006092\ttotal: 2.11s\tremaining: 2.93s\n",
      "23:\tlearn: 1546.3565211\ttotal: 2.2s\tremaining: 2.85s\n",
      "24:\tlearn: 1539.2545731\ttotal: 2.29s\tremaining: 2.75s\n",
      "25:\tlearn: 1531.8608734\ttotal: 2.38s\tremaining: 2.65s\n",
      "26:\tlearn: 1525.0688069\ttotal: 2.47s\tremaining: 2.56s\n",
      "27:\tlearn: 1520.2547341\ttotal: 2.55s\tremaining: 2.46s\n",
      "28:\tlearn: 1510.9770930\ttotal: 2.66s\tremaining: 2.38s\n",
      "29:\tlearn: 1506.4874082\ttotal: 2.75s\tremaining: 2.29s\n",
      "30:\tlearn: 1502.2411330\ttotal: 2.84s\tremaining: 2.2s\n",
      "31:\tlearn: 1499.4456608\ttotal: 2.93s\tremaining: 2.1s\n",
      "32:\tlearn: 1493.2903595\ttotal: 3.01s\tremaining: 2s\n",
      "33:\tlearn: 1489.4543570\ttotal: 3.09s\tremaining: 1.91s\n",
      "34:\tlearn: 1483.8574299\ttotal: 3.18s\tremaining: 1.81s\n",
      "35:\tlearn: 1478.6084499\ttotal: 3.26s\tremaining: 1.72s\n",
      "36:\tlearn: 1474.6641981\ttotal: 3.35s\tremaining: 1.63s\n",
      "37:\tlearn: 1467.9097321\ttotal: 3.44s\tremaining: 1.54s\n",
      "38:\tlearn: 1463.6689617\ttotal: 3.53s\tremaining: 1.45s\n",
      "39:\tlearn: 1461.0350509\ttotal: 3.61s\tremaining: 1.35s\n",
      "40:\tlearn: 1457.4694627\ttotal: 3.7s\tremaining: 1.26s\n",
      "41:\tlearn: 1451.2575559\ttotal: 3.79s\tremaining: 1.17s\n",
      "42:\tlearn: 1447.7725468\ttotal: 3.87s\tremaining: 1.08s\n",
      "43:\tlearn: 1444.6963708\ttotal: 3.94s\tremaining: 986ms\n",
      "44:\tlearn: 1443.1504327\ttotal: 4.03s\tremaining: 895ms\n",
      "45:\tlearn: 1439.0180018\ttotal: 4.1s\tremaining: 802ms\n",
      "46:\tlearn: 1434.3927090\ttotal: 4.17s\tremaining: 710ms\n",
      "47:\tlearn: 1431.2353760\ttotal: 4.25s\tremaining: 619ms\n",
      "48:\tlearn: 1429.8730431\ttotal: 4.32s\tremaining: 529ms\n",
      "49:\tlearn: 1428.0441754\ttotal: 4.4s\tremaining: 440ms\n",
      "50:\tlearn: 1425.6272492\ttotal: 4.49s\tremaining: 353ms\n",
      "51:\tlearn: 1423.7663848\ttotal: 4.58s\tremaining: 264ms\n",
      "52:\tlearn: 1421.6971091\ttotal: 4.66s\tremaining: 176ms\n",
      "53:\tlearn: 1420.0082162\ttotal: 4.75s\tremaining: 88ms\n",
      "54:\tlearn: 1417.3779891\ttotal: 4.84s\tremaining: 0us\n",
      "[CV 5/5; 3/8] END iterations=55, learning_rate=0.5, max_depth=10; total time=   5.7s\n",
      "[CV 1/5; 4/8] START iterations=55, learning_rate=0.5, max_depth=15..............\n",
      "0:\tlearn: 2998.8906850\ttotal: 514ms\tremaining: 27.8s\n",
      "1:\tlearn: 2306.5677721\ttotal: 1.05s\tremaining: 27.8s\n",
      "2:\tlearn: 1942.1611282\ttotal: 1.55s\tremaining: 26.9s\n",
      "3:\tlearn: 1757.4947755\ttotal: 2.08s\tremaining: 26.5s\n",
      "4:\tlearn: 1677.5920368\ttotal: 2.65s\tremaining: 26.6s\n",
      "5:\tlearn: 1603.9102570\ttotal: 3.35s\tremaining: 27.4s\n",
      "6:\tlearn: 1566.8163828\ttotal: 3.89s\tremaining: 26.7s\n",
      "7:\tlearn: 1534.0533651\ttotal: 4.43s\tremaining: 26s\n",
      "8:\tlearn: 1512.5036963\ttotal: 4.97s\tremaining: 25.4s\n",
      "9:\tlearn: 1496.5886789\ttotal: 5.5s\tremaining: 24.7s\n",
      "10:\tlearn: 1482.1399807\ttotal: 6.04s\tremaining: 24.1s\n",
      "11:\tlearn: 1467.1659722\ttotal: 6.54s\tremaining: 23.4s\n",
      "12:\tlearn: 1450.1913681\ttotal: 7.07s\tremaining: 22.8s\n",
      "13:\tlearn: 1428.3753931\ttotal: 7.61s\tremaining: 22.3s\n",
      "14:\tlearn: 1419.0140135\ttotal: 8.13s\tremaining: 21.7s\n",
      "15:\tlearn: 1411.4227666\ttotal: 8.65s\tremaining: 21.1s\n",
      "16:\tlearn: 1396.5873268\ttotal: 9.17s\tremaining: 20.5s\n",
      "17:\tlearn: 1383.7525746\ttotal: 9.72s\tremaining: 20s\n",
      "18:\tlearn: 1383.7496905\ttotal: 9.75s\tremaining: 18.5s\n",
      "19:\tlearn: 1366.5482468\ttotal: 10.3s\tremaining: 18s\n",
      "20:\tlearn: 1355.5036240\ttotal: 10.8s\tremaining: 17.5s\n",
      "21:\tlearn: 1339.0734746\ttotal: 11.4s\tremaining: 17s\n",
      "22:\tlearn: 1322.9719298\ttotal: 11.9s\tremaining: 16.5s\n",
      "23:\tlearn: 1312.0912462\ttotal: 12.4s\tremaining: 16s\n",
      "24:\tlearn: 1303.2760556\ttotal: 12.9s\tremaining: 15.5s\n",
      "25:\tlearn: 1293.3136731\ttotal: 13.5s\tremaining: 15s\n",
      "26:\tlearn: 1288.9604154\ttotal: 14s\tremaining: 14.5s\n",
      "27:\tlearn: 1278.7196635\ttotal: 14.5s\tremaining: 14s\n",
      "28:\tlearn: 1270.9495735\ttotal: 15s\tremaining: 13.5s\n",
      "29:\tlearn: 1259.8663253\ttotal: 15.6s\tremaining: 13s\n",
      "30:\tlearn: 1251.0447193\ttotal: 16.1s\tremaining: 12.5s\n",
      "31:\tlearn: 1247.3815778\ttotal: 16.7s\tremaining: 12s\n",
      "32:\tlearn: 1237.8586221\ttotal: 17.2s\tremaining: 11.5s\n",
      "33:\tlearn: 1233.3511361\ttotal: 17.7s\tremaining: 10.9s\n",
      "34:\tlearn: 1229.8942162\ttotal: 18.2s\tremaining: 10.4s\n",
      "35:\tlearn: 1219.4244506\ttotal: 18.8s\tremaining: 9.9s\n",
      "36:\tlearn: 1212.6041794\ttotal: 19.3s\tremaining: 9.39s\n",
      "37:\tlearn: 1204.9354825\ttotal: 19.8s\tremaining: 8.88s\n",
      "38:\tlearn: 1198.6180555\ttotal: 20.4s\tremaining: 8.36s\n",
      "39:\tlearn: 1193.7001675\ttotal: 21s\tremaining: 7.86s\n",
      "40:\tlearn: 1185.4897688\ttotal: 21.5s\tremaining: 7.34s\n",
      "41:\tlearn: 1181.8259120\ttotal: 22.1s\tremaining: 6.83s\n",
      "42:\tlearn: 1175.6507715\ttotal: 22.7s\tremaining: 6.32s\n",
      "43:\tlearn: 1170.3601100\ttotal: 23.2s\tremaining: 5.81s\n",
      "44:\tlearn: 1170.3474148\ttotal: 23.3s\tremaining: 5.18s\n",
      "45:\tlearn: 1166.6872361\ttotal: 23.9s\tremaining: 4.67s\n",
      "46:\tlearn: 1160.4475521\ttotal: 24.4s\tremaining: 4.16s\n",
      "47:\tlearn: 1154.8819525\ttotal: 25s\tremaining: 3.64s\n",
      "48:\tlearn: 1151.4956940\ttotal: 25.6s\tremaining: 3.13s\n",
      "49:\tlearn: 1146.4691341\ttotal: 26.1s\tremaining: 2.61s\n",
      "50:\tlearn: 1141.4745627\ttotal: 26.7s\tremaining: 2.09s\n",
      "51:\tlearn: 1138.9358868\ttotal: 27.2s\tremaining: 1.57s\n",
      "52:\tlearn: 1136.9764995\ttotal: 27.8s\tremaining: 1.05s\n",
      "53:\tlearn: 1133.1566648\ttotal: 28.4s\tremaining: 525ms\n",
      "54:\tlearn: 1128.2240234\ttotal: 28.9s\tremaining: 0us\n",
      "[CV 1/5; 4/8] END iterations=55, learning_rate=0.5, max_depth=15; total time=  29.7s\n",
      "[CV 2/5; 4/8] START iterations=55, learning_rate=0.5, max_depth=15..............\n",
      "0:\tlearn: 3025.2304074\ttotal: 116ms\tremaining: 6.24s\n",
      "1:\tlearn: 2323.0966303\ttotal: 634ms\tremaining: 16.8s\n",
      "2:\tlearn: 1972.2994291\ttotal: 1.16s\tremaining: 20.2s\n",
      "3:\tlearn: 1797.9123369\ttotal: 1.7s\tremaining: 21.6s\n",
      "4:\tlearn: 1709.5874946\ttotal: 2.21s\tremaining: 22.1s\n",
      "5:\tlearn: 1636.7644192\ttotal: 2.74s\tremaining: 22.4s\n",
      "6:\tlearn: 1594.8383668\ttotal: 3.27s\tremaining: 22.5s\n",
      "7:\tlearn: 1570.2231814\ttotal: 3.8s\tremaining: 22.3s\n",
      "8:\tlearn: 1539.2255837\ttotal: 4.33s\tremaining: 22.1s\n",
      "9:\tlearn: 1524.8596480\ttotal: 4.88s\tremaining: 21.9s\n",
      "10:\tlearn: 1506.7806556\ttotal: 5.46s\tremaining: 21.8s\n",
      "11:\tlearn: 1493.5889430\ttotal: 6.06s\tremaining: 21.7s\n",
      "12:\tlearn: 1476.7256460\ttotal: 6.63s\tremaining: 21.4s\n",
      "13:\tlearn: 1461.8934088\ttotal: 7.17s\tremaining: 21s\n",
      "14:\tlearn: 1440.0163793\ttotal: 7.73s\tremaining: 20.6s\n",
      "15:\tlearn: 1419.1204524\ttotal: 8.28s\tremaining: 20.2s\n",
      "16:\tlearn: 1409.8599715\ttotal: 8.83s\tremaining: 19.7s\n",
      "17:\tlearn: 1401.7901666\ttotal: 9.37s\tremaining: 19.3s\n",
      "18:\tlearn: 1394.3258951\ttotal: 9.91s\tremaining: 18.8s\n",
      "19:\tlearn: 1384.8632718\ttotal: 10.5s\tremaining: 18.3s\n",
      "20:\tlearn: 1376.9469088\ttotal: 11s\tremaining: 17.9s\n",
      "21:\tlearn: 1366.7354565\ttotal: 11.6s\tremaining: 17.3s\n",
      "22:\tlearn: 1352.7332347\ttotal: 12.1s\tremaining: 16.8s\n",
      "23:\tlearn: 1335.5388437\ttotal: 12.6s\tremaining: 16.3s\n",
      "24:\tlearn: 1321.3293665\ttotal: 13.2s\tremaining: 15.8s\n",
      "25:\tlearn: 1310.9561522\ttotal: 13.7s\tremaining: 15.3s\n",
      "26:\tlearn: 1298.8705683\ttotal: 14.2s\tremaining: 14.8s\n",
      "27:\tlearn: 1290.0278227\ttotal: 14.8s\tremaining: 14.2s\n",
      "28:\tlearn: 1281.9228906\ttotal: 15.3s\tremaining: 13.7s\n",
      "29:\tlearn: 1268.5860520\ttotal: 15.8s\tremaining: 13.2s\n",
      "30:\tlearn: 1260.2331304\ttotal: 16.4s\tremaining: 12.7s\n",
      "31:\tlearn: 1251.0255270\ttotal: 16.9s\tremaining: 12.2s\n",
      "32:\tlearn: 1243.6531161\ttotal: 17.5s\tremaining: 11.7s\n",
      "33:\tlearn: 1236.4637443\ttotal: 18s\tremaining: 11.1s\n",
      "34:\tlearn: 1228.7465728\ttotal: 18.5s\tremaining: 10.6s\n",
      "35:\tlearn: 1228.0219802\ttotal: 18.6s\tremaining: 9.82s\n",
      "36:\tlearn: 1222.2075192\ttotal: 19.1s\tremaining: 9.31s\n",
      "37:\tlearn: 1216.5957871\ttotal: 19.7s\tremaining: 8.79s\n",
      "38:\tlearn: 1205.2334480\ttotal: 20.2s\tremaining: 8.28s\n",
      "39:\tlearn: 1194.0820838\ttotal: 20.7s\tremaining: 7.77s\n",
      "40:\tlearn: 1182.9104353\ttotal: 21.3s\tremaining: 7.27s\n",
      "41:\tlearn: 1175.3205610\ttotal: 21.8s\tremaining: 6.76s\n",
      "42:\tlearn: 1170.3033655\ttotal: 22.4s\tremaining: 6.24s\n",
      "43:\tlearn: 1166.7472373\ttotal: 22.9s\tremaining: 5.73s\n",
      "44:\tlearn: 1160.9545426\ttotal: 23.5s\tremaining: 5.21s\n",
      "45:\tlearn: 1159.0668216\ttotal: 24s\tremaining: 4.7s\n",
      "46:\tlearn: 1154.8206810\ttotal: 24.6s\tremaining: 4.19s\n",
      "47:\tlearn: 1152.4079661\ttotal: 25.2s\tremaining: 3.67s\n",
      "48:\tlearn: 1149.0937905\ttotal: 25.8s\tremaining: 3.16s\n",
      "49:\tlearn: 1141.9324938\ttotal: 26.4s\tremaining: 2.64s\n",
      "50:\tlearn: 1138.2403699\ttotal: 27s\tremaining: 2.12s\n",
      "51:\tlearn: 1133.9158133\ttotal: 27.6s\tremaining: 1.59s\n",
      "52:\tlearn: 1133.7818120\ttotal: 27.7s\tremaining: 1.04s\n",
      "53:\tlearn: 1131.4880675\ttotal: 28.3s\tremaining: 524ms\n",
      "54:\tlearn: 1127.2685183\ttotal: 28.8s\tremaining: 0us\n",
      "[CV 2/5; 4/8] END iterations=55, learning_rate=0.5, max_depth=15; total time=  29.7s\n",
      "[CV 3/5; 4/8] START iterations=55, learning_rate=0.5, max_depth=15..............\n",
      "0:\tlearn: 2970.3575904\ttotal: 535ms\tremaining: 28.9s\n",
      "1:\tlearn: 2277.6583392\ttotal: 1.1s\tremaining: 29.3s\n",
      "2:\tlearn: 1913.1901236\ttotal: 1.64s\tremaining: 28.5s\n",
      "3:\tlearn: 1757.7123569\ttotal: 2.15s\tremaining: 27.4s\n",
      "4:\tlearn: 1677.2773458\ttotal: 2.68s\tremaining: 26.8s\n",
      "5:\tlearn: 1597.9297579\ttotal: 3.21s\tremaining: 26.2s\n",
      "6:\tlearn: 1557.1593061\ttotal: 3.73s\tremaining: 25.6s\n",
      "7:\tlearn: 1524.2821727\ttotal: 4.27s\tremaining: 25.1s\n",
      "8:\tlearn: 1507.9938954\ttotal: 4.8s\tremaining: 24.5s\n",
      "9:\tlearn: 1492.8138435\ttotal: 5.32s\tremaining: 23.9s\n",
      "10:\tlearn: 1480.5414345\ttotal: 5.86s\tremaining: 23.4s\n",
      "11:\tlearn: 1465.7721979\ttotal: 6.44s\tremaining: 23.1s\n",
      "12:\tlearn: 1444.2173299\ttotal: 6.97s\tremaining: 22.5s\n",
      "13:\tlearn: 1436.5613659\ttotal: 7.49s\tremaining: 21.9s\n",
      "14:\tlearn: 1423.9311810\ttotal: 8.01s\tremaining: 21.4s\n",
      "15:\tlearn: 1411.8959491\ttotal: 8.53s\tremaining: 20.8s\n",
      "16:\tlearn: 1400.6885040\ttotal: 9.07s\tremaining: 20.3s\n",
      "17:\tlearn: 1389.4051012\ttotal: 9.6s\tremaining: 19.7s\n",
      "18:\tlearn: 1375.5631618\ttotal: 10.1s\tremaining: 19.2s\n",
      "19:\tlearn: 1362.7131352\ttotal: 10.6s\tremaining: 18.6s\n",
      "20:\tlearn: 1353.4780727\ttotal: 11.2s\tremaining: 18.1s\n",
      "21:\tlearn: 1340.0383687\ttotal: 11.7s\tremaining: 17.6s\n",
      "22:\tlearn: 1329.8817471\ttotal: 12.3s\tremaining: 17.1s\n",
      "23:\tlearn: 1318.4858535\ttotal: 12.8s\tremaining: 16.5s\n",
      "24:\tlearn: 1300.0882749\ttotal: 13.4s\tremaining: 16s\n",
      "25:\tlearn: 1289.0084208\ttotal: 13.9s\tremaining: 15.5s\n",
      "26:\tlearn: 1278.8338389\ttotal: 14.4s\tremaining: 14.9s\n",
      "27:\tlearn: 1271.7437873\ttotal: 14.9s\tremaining: 14.4s\n",
      "28:\tlearn: 1261.9134775\ttotal: 15.5s\tremaining: 13.9s\n",
      "29:\tlearn: 1249.0691541\ttotal: 16.1s\tremaining: 13.4s\n",
      "30:\tlearn: 1241.4208752\ttotal: 16.7s\tremaining: 12.9s\n",
      "31:\tlearn: 1236.6207579\ttotal: 17.2s\tremaining: 12.3s\n",
      "32:\tlearn: 1228.0083723\ttotal: 17.7s\tremaining: 11.8s\n",
      "33:\tlearn: 1221.8821168\ttotal: 18.3s\tremaining: 11.3s\n",
      "34:\tlearn: 1218.3232709\ttotal: 18.8s\tremaining: 10.7s\n",
      "35:\tlearn: 1212.4568876\ttotal: 19.3s\tremaining: 10.2s\n",
      "36:\tlearn: 1206.0561983\ttotal: 19.8s\tremaining: 9.65s\n",
      "37:\tlearn: 1201.9597836\ttotal: 20.4s\tremaining: 9.11s\n",
      "38:\tlearn: 1197.1416569\ttotal: 20.9s\tremaining: 8.57s\n",
      "39:\tlearn: 1193.5162659\ttotal: 21.5s\tremaining: 8.05s\n",
      "40:\tlearn: 1185.3973176\ttotal: 22s\tremaining: 7.51s\n",
      "41:\tlearn: 1175.5325568\ttotal: 22.6s\tremaining: 7s\n",
      "42:\tlearn: 1169.8493618\ttotal: 23.2s\tremaining: 6.48s\n",
      "43:\tlearn: 1164.2598859\ttotal: 23.8s\tremaining: 5.95s\n",
      "44:\tlearn: 1159.8855907\ttotal: 24.4s\tremaining: 5.42s\n",
      "45:\tlearn: 1153.9683204\ttotal: 25s\tremaining: 4.89s\n",
      "46:\tlearn: 1150.1514109\ttotal: 25.5s\tremaining: 4.35s\n",
      "47:\tlearn: 1146.8785570\ttotal: 26.1s\tremaining: 3.81s\n",
      "48:\tlearn: 1141.6440327\ttotal: 26.7s\tremaining: 3.27s\n",
      "49:\tlearn: 1134.3222956\ttotal: 27.3s\tremaining: 2.73s\n",
      "50:\tlearn: 1129.0724753\ttotal: 27.8s\tremaining: 2.18s\n",
      "51:\tlearn: 1125.4913807\ttotal: 28.3s\tremaining: 1.64s\n",
      "52:\tlearn: 1115.1810806\ttotal: 28.9s\tremaining: 1.09s\n",
      "53:\tlearn: 1113.4210598\ttotal: 29.4s\tremaining: 545ms\n",
      "54:\tlearn: 1107.7145396\ttotal: 30s\tremaining: 0us\n",
      "[CV 3/5; 4/8] END iterations=55, learning_rate=0.5, max_depth=15; total time=  30.8s\n",
      "[CV 4/5; 4/8] START iterations=55, learning_rate=0.5, max_depth=15..............\n",
      "0:\tlearn: 3001.0921581\ttotal: 513ms\tremaining: 27.7s\n",
      "1:\tlearn: 2299.5414842\ttotal: 1.04s\tremaining: 27.6s\n",
      "2:\tlearn: 1944.1203753\ttotal: 1.59s\tremaining: 27.5s\n",
      "3:\tlearn: 1765.5126132\ttotal: 2.12s\tremaining: 27.1s\n",
      "4:\tlearn: 1661.6437440\ttotal: 2.67s\tremaining: 26.7s\n",
      "5:\tlearn: 1601.6232312\ttotal: 3.18s\tremaining: 26s\n",
      "6:\tlearn: 1566.6345195\ttotal: 3.7s\tremaining: 25.4s\n",
      "7:\tlearn: 1533.7821593\ttotal: 4.24s\tremaining: 24.9s\n",
      "8:\tlearn: 1516.5207710\ttotal: 4.81s\tremaining: 24.6s\n",
      "9:\tlearn: 1500.8914828\ttotal: 5.4s\tremaining: 24.3s\n",
      "10:\tlearn: 1487.2684891\ttotal: 5.92s\tremaining: 23.7s\n",
      "11:\tlearn: 1462.4480678\ttotal: 6.45s\tremaining: 23.1s\n",
      "12:\tlearn: 1446.2998187\ttotal: 7s\tremaining: 22.6s\n",
      "13:\tlearn: 1436.5672277\ttotal: 7.51s\tremaining: 22s\n",
      "14:\tlearn: 1423.1218227\ttotal: 8.02s\tremaining: 21.4s\n",
      "15:\tlearn: 1410.2721630\ttotal: 8.57s\tremaining: 20.9s\n",
      "16:\tlearn: 1399.2367083\ttotal: 9.1s\tremaining: 20.3s\n",
      "17:\tlearn: 1391.4342840\ttotal: 9.61s\tremaining: 19.8s\n",
      "18:\tlearn: 1384.3576167\ttotal: 10.1s\tremaining: 19.2s\n",
      "19:\tlearn: 1377.5696702\ttotal: 10.7s\tremaining: 18.7s\n",
      "20:\tlearn: 1362.0484823\ttotal: 11.2s\tremaining: 18.2s\n",
      "21:\tlearn: 1351.9940680\ttotal: 11.8s\tremaining: 17.6s\n",
      "22:\tlearn: 1343.5189913\ttotal: 12.3s\tremaining: 17.1s\n",
      "23:\tlearn: 1337.3616481\ttotal: 12.8s\tremaining: 16.6s\n",
      "24:\tlearn: 1332.2609484\ttotal: 13.4s\tremaining: 16s\n",
      "25:\tlearn: 1323.7164179\ttotal: 13.9s\tremaining: 15.5s\n",
      "26:\tlearn: 1316.3067396\ttotal: 14.4s\tremaining: 15s\n",
      "27:\tlearn: 1305.4340229\ttotal: 14.9s\tremaining: 14.4s\n",
      "28:\tlearn: 1294.3438073\ttotal: 15.5s\tremaining: 13.9s\n",
      "29:\tlearn: 1282.2972264\ttotal: 16.1s\tremaining: 13.4s\n",
      "30:\tlearn: 1276.9195547\ttotal: 16.6s\tremaining: 12.8s\n",
      "31:\tlearn: 1270.2866520\ttotal: 17.1s\tremaining: 12.3s\n",
      "32:\tlearn: 1252.5501058\ttotal: 17.7s\tremaining: 11.8s\n",
      "33:\tlearn: 1245.2478348\ttotal: 18.2s\tremaining: 11.3s\n",
      "34:\tlearn: 1237.1662755\ttotal: 18.7s\tremaining: 10.7s\n",
      "35:\tlearn: 1227.2413127\ttotal: 19.3s\tremaining: 10.2s\n",
      "36:\tlearn: 1219.9412334\ttotal: 19.8s\tremaining: 9.64s\n",
      "37:\tlearn: 1210.1208035\ttotal: 20.4s\tremaining: 9.12s\n",
      "38:\tlearn: 1206.4206683\ttotal: 20.9s\tremaining: 8.57s\n",
      "39:\tlearn: 1201.6103679\ttotal: 21.4s\tremaining: 8.04s\n",
      "40:\tlearn: 1195.2134413\ttotal: 22s\tremaining: 7.5s\n",
      "41:\tlearn: 1188.1871956\ttotal: 22.5s\tremaining: 6.98s\n",
      "42:\tlearn: 1182.7328781\ttotal: 23.1s\tremaining: 6.45s\n",
      "43:\tlearn: 1174.8384895\ttotal: 23.7s\tremaining: 5.92s\n",
      "44:\tlearn: 1169.0493501\ttotal: 24.3s\tremaining: 5.4s\n",
      "45:\tlearn: 1164.4169127\ttotal: 24.9s\tremaining: 4.86s\n",
      "46:\tlearn: 1153.3199303\ttotal: 25.5s\tremaining: 4.34s\n",
      "47:\tlearn: 1149.5023932\ttotal: 26.1s\tremaining: 3.8s\n",
      "48:\tlearn: 1144.1631244\ttotal: 26.7s\tremaining: 3.27s\n",
      "49:\tlearn: 1141.0208628\ttotal: 27.3s\tremaining: 2.73s\n",
      "50:\tlearn: 1135.7619044\ttotal: 27.8s\tremaining: 2.18s\n",
      "51:\tlearn: 1129.5316187\ttotal: 28.4s\tremaining: 1.64s\n",
      "52:\tlearn: 1123.2403990\ttotal: 28.9s\tremaining: 1.09s\n",
      "53:\tlearn: 1121.2673636\ttotal: 29.4s\tremaining: 545ms\n",
      "54:\tlearn: 1119.0162505\ttotal: 30s\tremaining: 0us\n",
      "[CV 4/5; 4/8] END iterations=55, learning_rate=0.5, max_depth=15; total time=  30.8s\n",
      "[CV 5/5; 4/8] START iterations=55, learning_rate=0.5, max_depth=15..............\n",
      "0:\tlearn: 2997.7637066\ttotal: 517ms\tremaining: 27.9s\n",
      "1:\tlearn: 2296.6356212\ttotal: 1.12s\tremaining: 29.7s\n",
      "2:\tlearn: 1942.6699977\ttotal: 1.69s\tremaining: 29.3s\n",
      "3:\tlearn: 1761.0865809\ttotal: 2.27s\tremaining: 28.9s\n",
      "4:\tlearn: 1679.8681235\ttotal: 2.87s\tremaining: 28.7s\n",
      "5:\tlearn: 1615.8005073\ttotal: 3.38s\tremaining: 27.6s\n",
      "6:\tlearn: 1572.0880611\ttotal: 3.91s\tremaining: 26.8s\n",
      "7:\tlearn: 1548.5407829\ttotal: 4.47s\tremaining: 26.3s\n",
      "8:\tlearn: 1526.4721097\ttotal: 5.03s\tremaining: 25.7s\n",
      "9:\tlearn: 1509.6154034\ttotal: 5.56s\tremaining: 25s\n",
      "10:\tlearn: 1485.4791853\ttotal: 6.11s\tremaining: 24.4s\n",
      "11:\tlearn: 1466.0921027\ttotal: 6.65s\tremaining: 23.8s\n",
      "12:\tlearn: 1454.3865413\ttotal: 7.2s\tremaining: 23.3s\n",
      "13:\tlearn: 1441.0243272\ttotal: 7.75s\tremaining: 22.7s\n",
      "14:\tlearn: 1424.4665738\ttotal: 8.28s\tremaining: 22.1s\n",
      "15:\tlearn: 1422.9179760\ttotal: 8.33s\tremaining: 20.3s\n",
      "16:\tlearn: 1414.7109049\ttotal: 8.87s\tremaining: 19.8s\n",
      "17:\tlearn: 1404.1020669\ttotal: 9.4s\tremaining: 19.3s\n",
      "18:\tlearn: 1386.2494948\ttotal: 9.95s\tremaining: 18.8s\n",
      "19:\tlearn: 1371.4034846\ttotal: 10.5s\tremaining: 18.3s\n",
      "20:\tlearn: 1361.9569159\ttotal: 11s\tremaining: 17.8s\n",
      "21:\tlearn: 1348.9440446\ttotal: 11.6s\tremaining: 17.3s\n",
      "22:\tlearn: 1335.1311550\ttotal: 12.1s\tremaining: 16.8s\n",
      "23:\tlearn: 1326.5670447\ttotal: 12.6s\tremaining: 16.3s\n",
      "24:\tlearn: 1322.0354339\ttotal: 13.2s\tremaining: 15.8s\n",
      "25:\tlearn: 1309.0500210\ttotal: 13.7s\tremaining: 15.3s\n",
      "26:\tlearn: 1302.0336396\ttotal: 14.2s\tremaining: 14.7s\n",
      "27:\tlearn: 1292.9888808\ttotal: 14.8s\tremaining: 14.3s\n",
      "28:\tlearn: 1288.8402107\ttotal: 15.3s\tremaining: 13.7s\n",
      "29:\tlearn: 1276.6757817\ttotal: 15.8s\tremaining: 13.2s\n",
      "30:\tlearn: 1268.3513905\ttotal: 16.4s\tremaining: 12.7s\n",
      "31:\tlearn: 1263.5237061\ttotal: 16.9s\tremaining: 12.2s\n",
      "32:\tlearn: 1257.8410497\ttotal: 17.4s\tremaining: 11.6s\n",
      "33:\tlearn: 1251.3295848\ttotal: 18s\tremaining: 11.1s\n",
      "34:\tlearn: 1240.3838800\ttotal: 18.5s\tremaining: 10.6s\n",
      "35:\tlearn: 1232.0733963\ttotal: 19s\tremaining: 10s\n",
      "36:\tlearn: 1225.9992829\ttotal: 19.6s\tremaining: 9.52s\n",
      "37:\tlearn: 1217.8006078\ttotal: 20.1s\tremaining: 9s\n",
      "38:\tlearn: 1213.3627904\ttotal: 20.7s\tremaining: 8.48s\n",
      "39:\tlearn: 1207.5657161\ttotal: 21.3s\tremaining: 7.97s\n",
      "40:\tlearn: 1201.9095017\ttotal: 21.8s\tremaining: 7.46s\n",
      "41:\tlearn: 1199.7453201\ttotal: 22.4s\tremaining: 6.94s\n",
      "42:\tlearn: 1190.7982615\ttotal: 23s\tremaining: 6.42s\n",
      "43:\tlearn: 1186.2235832\ttotal: 23.6s\tremaining: 5.89s\n",
      "44:\tlearn: 1182.9941766\ttotal: 24.1s\tremaining: 5.36s\n",
      "45:\tlearn: 1174.8182647\ttotal: 24.7s\tremaining: 4.83s\n",
      "46:\tlearn: 1171.2912418\ttotal: 25.2s\tremaining: 4.3s\n",
      "47:\tlearn: 1165.7055686\ttotal: 25.8s\tremaining: 3.76s\n",
      "48:\tlearn: 1158.8573289\ttotal: 26.3s\tremaining: 3.22s\n",
      "49:\tlearn: 1149.7476334\ttotal: 26.9s\tremaining: 2.69s\n",
      "50:\tlearn: 1147.7387776\ttotal: 27.4s\tremaining: 2.15s\n",
      "51:\tlearn: 1143.0513509\ttotal: 28s\tremaining: 1.61s\n",
      "52:\tlearn: 1140.6695509\ttotal: 28.5s\tremaining: 1.07s\n",
      "53:\tlearn: 1134.9251089\ttotal: 29s\tremaining: 538ms\n",
      "54:\tlearn: 1129.5096441\ttotal: 29.5s\tremaining: 0us\n",
      "[CV 5/5; 4/8] END iterations=55, learning_rate=0.5, max_depth=15; total time=  30.4s\n",
      "[CV 1/5; 5/8] START iterations=60, learning_rate=0.2, max_depth=10..............\n",
      "0:\tlearn: 3916.1435767\ttotal: 81.8ms\tremaining: 4.83s\n",
      "1:\tlearn: 3402.3108503\ttotal: 171ms\tremaining: 4.96s\n",
      "2:\tlearn: 3009.3373218\ttotal: 249ms\tremaining: 4.72s\n",
      "3:\tlearn: 2710.8645054\ttotal: 328ms\tremaining: 4.59s\n",
      "4:\tlearn: 2491.2303714\ttotal: 406ms\tremaining: 4.46s\n",
      "5:\tlearn: 2295.7528312\ttotal: 484ms\tremaining: 4.36s\n",
      "6:\tlearn: 2155.8369507\ttotal: 557ms\tremaining: 4.22s\n",
      "7:\tlearn: 2058.0452113\ttotal: 637ms\tremaining: 4.14s\n",
      "8:\tlearn: 1968.8681308\ttotal: 710ms\tremaining: 4.02s\n",
      "9:\tlearn: 1901.5810298\ttotal: 786ms\tremaining: 3.93s\n",
      "10:\tlearn: 1851.3863992\ttotal: 860ms\tremaining: 3.83s\n",
      "11:\tlearn: 1816.0872065\ttotal: 944ms\tremaining: 3.78s\n",
      "12:\tlearn: 1785.4490377\ttotal: 1.03s\tremaining: 3.72s\n",
      "13:\tlearn: 1757.0290860\ttotal: 1.11s\tremaining: 3.65s\n",
      "14:\tlearn: 1729.1018251\ttotal: 1.19s\tremaining: 3.56s\n",
      "15:\tlearn: 1711.1092290\ttotal: 1.26s\tremaining: 3.46s\n",
      "16:\tlearn: 1695.3252506\ttotal: 1.33s\tremaining: 3.37s\n",
      "17:\tlearn: 1679.9575885\ttotal: 1.4s\tremaining: 3.28s\n",
      "18:\tlearn: 1668.5024824\ttotal: 1.48s\tremaining: 3.19s\n",
      "19:\tlearn: 1659.2010943\ttotal: 1.55s\tremaining: 3.1s\n",
      "20:\tlearn: 1646.9998069\ttotal: 1.63s\tremaining: 3.02s\n",
      "21:\tlearn: 1641.5748317\ttotal: 1.7s\tremaining: 2.94s\n",
      "22:\tlearn: 1635.1207523\ttotal: 1.78s\tremaining: 2.86s\n",
      "23:\tlearn: 1630.0674678\ttotal: 1.85s\tremaining: 2.77s\n",
      "24:\tlearn: 1624.8391817\ttotal: 1.93s\tremaining: 2.7s\n",
      "25:\tlearn: 1621.0698308\ttotal: 2s\tremaining: 2.62s\n",
      "26:\tlearn: 1615.7682589\ttotal: 2.08s\tremaining: 2.55s\n",
      "27:\tlearn: 1611.6150603\ttotal: 2.17s\tremaining: 2.48s\n",
      "28:\tlearn: 1608.1370532\ttotal: 2.25s\tremaining: 2.4s\n",
      "29:\tlearn: 1602.6541038\ttotal: 2.33s\tremaining: 2.33s\n",
      "30:\tlearn: 1598.9335855\ttotal: 2.41s\tremaining: 2.25s\n",
      "31:\tlearn: 1595.4612517\ttotal: 2.49s\tremaining: 2.18s\n",
      "32:\tlearn: 1591.7971366\ttotal: 2.56s\tremaining: 2.1s\n",
      "33:\tlearn: 1587.4654338\ttotal: 2.64s\tremaining: 2.02s\n",
      "34:\tlearn: 1584.4578747\ttotal: 2.73s\tremaining: 1.95s\n",
      "35:\tlearn: 1581.2799354\ttotal: 2.83s\tremaining: 1.88s\n",
      "36:\tlearn: 1576.0703226\ttotal: 2.92s\tremaining: 1.81s\n",
      "37:\tlearn: 1572.3693708\ttotal: 3s\tremaining: 1.73s\n",
      "38:\tlearn: 1567.9149882\ttotal: 3.07s\tremaining: 1.66s\n",
      "39:\tlearn: 1565.2252235\ttotal: 3.15s\tremaining: 1.57s\n",
      "40:\tlearn: 1559.1172154\ttotal: 3.24s\tremaining: 1.5s\n",
      "41:\tlearn: 1554.6961695\ttotal: 3.32s\tremaining: 1.42s\n",
      "42:\tlearn: 1551.2633836\ttotal: 3.41s\tremaining: 1.35s\n",
      "43:\tlearn: 1546.7235249\ttotal: 3.5s\tremaining: 1.27s\n",
      "44:\tlearn: 1545.1179955\ttotal: 3.58s\tremaining: 1.19s\n",
      "45:\tlearn: 1542.2385333\ttotal: 3.66s\tremaining: 1.11s\n",
      "46:\tlearn: 1542.2383520\ttotal: 3.69s\tremaining: 1.02s\n",
      "47:\tlearn: 1537.7035009\ttotal: 3.77s\tremaining: 941ms\n",
      "48:\tlearn: 1535.2472699\ttotal: 3.84s\tremaining: 862ms\n",
      "49:\tlearn: 1531.9864134\ttotal: 3.92s\tremaining: 785ms\n",
      "50:\tlearn: 1529.2050673\ttotal: 4.02s\tremaining: 709ms\n",
      "51:\tlearn: 1527.8580486\ttotal: 4.11s\tremaining: 632ms\n",
      "52:\tlearn: 1525.4229091\ttotal: 4.18s\tremaining: 553ms\n",
      "53:\tlearn: 1522.0126776\ttotal: 4.26s\tremaining: 473ms\n",
      "54:\tlearn: 1520.5182175\ttotal: 4.34s\tremaining: 395ms\n",
      "55:\tlearn: 1516.4777971\ttotal: 4.42s\tremaining: 315ms\n",
      "56:\tlearn: 1512.3002592\ttotal: 4.49s\tremaining: 236ms\n",
      "57:\tlearn: 1510.5261302\ttotal: 4.57s\tremaining: 158ms\n",
      "58:\tlearn: 1507.7476828\ttotal: 4.65s\tremaining: 78.8ms\n",
      "59:\tlearn: 1507.1471620\ttotal: 4.73s\tremaining: 0us\n",
      "[CV 1/5; 5/8] END iterations=60, learning_rate=0.2, max_depth=10; total time=   5.5s\n",
      "[CV 2/5; 5/8] START iterations=60, learning_rate=0.2, max_depth=10..............\n",
      "0:\tlearn: 3920.3497738\ttotal: 75.7ms\tremaining: 4.47s\n",
      "1:\tlearn: 3405.9643448\ttotal: 154ms\tremaining: 4.46s\n",
      "2:\tlearn: 3014.0589811\ttotal: 239ms\tremaining: 4.54s\n",
      "3:\tlearn: 2717.3864327\ttotal: 324ms\tremaining: 4.53s\n",
      "4:\tlearn: 2491.4094267\ttotal: 397ms\tremaining: 4.36s\n",
      "5:\tlearn: 2294.2401470\ttotal: 474ms\tremaining: 4.27s\n",
      "6:\tlearn: 2159.1835551\ttotal: 547ms\tremaining: 4.14s\n",
      "7:\tlearn: 2059.0779833\ttotal: 619ms\tremaining: 4.02s\n",
      "8:\tlearn: 1969.0575903\ttotal: 689ms\tremaining: 3.9s\n",
      "9:\tlearn: 1894.4918704\ttotal: 758ms\tremaining: 3.79s\n",
      "10:\tlearn: 1845.3762984\ttotal: 828ms\tremaining: 3.69s\n",
      "11:\tlearn: 1809.3082506\ttotal: 904ms\tremaining: 3.62s\n",
      "12:\tlearn: 1780.2650195\ttotal: 978ms\tremaining: 3.54s\n",
      "13:\tlearn: 1756.0907263\ttotal: 1.05s\tremaining: 3.44s\n",
      "14:\tlearn: 1730.1375801\ttotal: 1.12s\tremaining: 3.37s\n",
      "15:\tlearn: 1707.6910725\ttotal: 1.2s\tremaining: 3.29s\n",
      "16:\tlearn: 1693.3655961\ttotal: 1.27s\tremaining: 3.23s\n",
      "17:\tlearn: 1680.1687198\ttotal: 1.35s\tremaining: 3.16s\n",
      "18:\tlearn: 1667.9656232\ttotal: 1.43s\tremaining: 3.09s\n",
      "19:\tlearn: 1656.9692665\ttotal: 1.52s\tremaining: 3.03s\n",
      "20:\tlearn: 1647.1391059\ttotal: 1.59s\tremaining: 2.96s\n",
      "21:\tlearn: 1638.3929347\ttotal: 1.67s\tremaining: 2.88s\n",
      "22:\tlearn: 1631.4003861\ttotal: 1.74s\tremaining: 2.8s\n",
      "23:\tlearn: 1624.9177341\ttotal: 1.82s\tremaining: 2.73s\n",
      "24:\tlearn: 1619.4727862\ttotal: 1.89s\tremaining: 2.65s\n",
      "25:\tlearn: 1613.7234923\ttotal: 1.98s\tremaining: 2.58s\n",
      "26:\tlearn: 1608.1252833\ttotal: 2.05s\tremaining: 2.5s\n",
      "27:\tlearn: 1603.2082600\ttotal: 2.12s\tremaining: 2.43s\n",
      "28:\tlearn: 1597.8017078\ttotal: 2.2s\tremaining: 2.35s\n",
      "29:\tlearn: 1593.1190110\ttotal: 2.27s\tremaining: 2.27s\n",
      "30:\tlearn: 1588.4928196\ttotal: 2.34s\tremaining: 2.19s\n",
      "31:\tlearn: 1585.5927349\ttotal: 2.42s\tremaining: 2.12s\n",
      "32:\tlearn: 1581.8036947\ttotal: 2.49s\tremaining: 2.04s\n",
      "33:\tlearn: 1578.2980742\ttotal: 2.58s\tremaining: 1.97s\n",
      "34:\tlearn: 1575.2788221\ttotal: 2.67s\tremaining: 1.9s\n",
      "35:\tlearn: 1573.2313928\ttotal: 2.75s\tremaining: 1.84s\n",
      "36:\tlearn: 1569.1951087\ttotal: 2.84s\tremaining: 1.76s\n",
      "37:\tlearn: 1564.7061280\ttotal: 2.92s\tremaining: 1.69s\n",
      "38:\tlearn: 1562.7794508\ttotal: 3s\tremaining: 1.62s\n",
      "39:\tlearn: 1560.6400508\ttotal: 3.08s\tremaining: 1.54s\n",
      "40:\tlearn: 1556.7365284\ttotal: 3.17s\tremaining: 1.47s\n",
      "41:\tlearn: 1552.5960450\ttotal: 3.24s\tremaining: 1.39s\n",
      "42:\tlearn: 1550.8496645\ttotal: 3.32s\tremaining: 1.31s\n",
      "43:\tlearn: 1547.7454051\ttotal: 3.39s\tremaining: 1.23s\n",
      "44:\tlearn: 1544.5483338\ttotal: 3.46s\tremaining: 1.15s\n",
      "45:\tlearn: 1541.1425015\ttotal: 3.53s\tremaining: 1.07s\n",
      "46:\tlearn: 1539.1885726\ttotal: 3.6s\tremaining: 996ms\n",
      "47:\tlearn: 1536.7663062\ttotal: 3.67s\tremaining: 919ms\n",
      "48:\tlearn: 1533.8145913\ttotal: 3.75s\tremaining: 843ms\n",
      "49:\tlearn: 1532.4270444\ttotal: 3.83s\tremaining: 767ms\n",
      "50:\tlearn: 1530.3290400\ttotal: 3.91s\tremaining: 691ms\n",
      "51:\tlearn: 1528.4368158\ttotal: 3.99s\tremaining: 614ms\n",
      "52:\tlearn: 1524.3738928\ttotal: 4.07s\tremaining: 538ms\n",
      "53:\tlearn: 1522.1171115\ttotal: 4.14s\tremaining: 461ms\n",
      "54:\tlearn: 1518.7468042\ttotal: 4.22s\tremaining: 384ms\n",
      "55:\tlearn: 1513.5248985\ttotal: 4.29s\tremaining: 307ms\n",
      "56:\tlearn: 1510.6559527\ttotal: 4.37s\tremaining: 230ms\n",
      "57:\tlearn: 1508.2436383\ttotal: 4.44s\tremaining: 153ms\n",
      "58:\tlearn: 1504.6498775\ttotal: 4.52s\tremaining: 76.5ms\n",
      "59:\tlearn: 1501.6719644\ttotal: 4.59s\tremaining: 0us\n",
      "[CV 2/5; 5/8] END iterations=60, learning_rate=0.2, max_depth=10; total time=   5.3s\n",
      "[CV 3/5; 5/8] START iterations=60, learning_rate=0.2, max_depth=10..............\n",
      "0:\tlearn: 3920.2368698\ttotal: 75ms\tremaining: 4.43s\n",
      "1:\tlearn: 3403.1862528\ttotal: 156ms\tremaining: 4.52s\n",
      "2:\tlearn: 3004.1524308\ttotal: 224ms\tremaining: 4.26s\n",
      "3:\tlearn: 2719.0316064\ttotal: 293ms\tremaining: 4.1s\n",
      "4:\tlearn: 2493.0584630\ttotal: 376ms\tremaining: 4.14s\n",
      "5:\tlearn: 2297.1789382\ttotal: 448ms\tremaining: 4.03s\n",
      "6:\tlearn: 2156.8462192\ttotal: 517ms\tremaining: 3.92s\n",
      "7:\tlearn: 2053.3579315\ttotal: 590ms\tremaining: 3.83s\n",
      "8:\tlearn: 1967.1918845\ttotal: 660ms\tremaining: 3.74s\n",
      "9:\tlearn: 1901.0504231\ttotal: 729ms\tremaining: 3.64s\n",
      "10:\tlearn: 1844.7908306\ttotal: 798ms\tremaining: 3.55s\n",
      "11:\tlearn: 1808.0144525\ttotal: 868ms\tremaining: 3.47s\n",
      "12:\tlearn: 1773.8169490\ttotal: 940ms\tremaining: 3.4s\n",
      "13:\tlearn: 1743.4446546\ttotal: 1.01s\tremaining: 3.32s\n",
      "14:\tlearn: 1718.1461887\ttotal: 1.08s\tremaining: 3.25s\n",
      "15:\tlearn: 1700.7991815\ttotal: 1.16s\tremaining: 3.18s\n",
      "16:\tlearn: 1688.0655095\ttotal: 1.23s\tremaining: 3.11s\n",
      "17:\tlearn: 1674.3618825\ttotal: 1.3s\tremaining: 3.03s\n",
      "18:\tlearn: 1664.7303877\ttotal: 1.37s\tremaining: 2.95s\n",
      "19:\tlearn: 1655.7787107\ttotal: 1.44s\tremaining: 2.88s\n",
      "20:\tlearn: 1647.7765349\ttotal: 1.51s\tremaining: 2.81s\n",
      "21:\tlearn: 1641.8925415\ttotal: 1.59s\tremaining: 2.75s\n",
      "22:\tlearn: 1634.6863870\ttotal: 1.67s\tremaining: 2.69s\n",
      "23:\tlearn: 1629.7360367\ttotal: 1.75s\tremaining: 2.63s\n",
      "24:\tlearn: 1623.2713527\ttotal: 1.83s\tremaining: 2.57s\n",
      "25:\tlearn: 1617.2693269\ttotal: 1.91s\tremaining: 2.5s\n",
      "26:\tlearn: 1609.9204939\ttotal: 1.98s\tremaining: 2.42s\n",
      "27:\tlearn: 1606.0234093\ttotal: 2.06s\tremaining: 2.35s\n",
      "28:\tlearn: 1602.0789165\ttotal: 2.13s\tremaining: 2.28s\n",
      "29:\tlearn: 1599.7196508\ttotal: 2.22s\tremaining: 2.22s\n",
      "30:\tlearn: 1594.0421441\ttotal: 2.31s\tremaining: 2.16s\n",
      "31:\tlearn: 1589.3173344\ttotal: 2.39s\tremaining: 2.09s\n",
      "32:\tlearn: 1584.8295978\ttotal: 2.46s\tremaining: 2.02s\n",
      "33:\tlearn: 1581.7872832\ttotal: 2.54s\tremaining: 1.95s\n",
      "34:\tlearn: 1579.1097730\ttotal: 2.63s\tremaining: 1.88s\n",
      "35:\tlearn: 1573.2034573\ttotal: 2.71s\tremaining: 1.81s\n",
      "36:\tlearn: 1570.5508154\ttotal: 2.79s\tremaining: 1.73s\n",
      "37:\tlearn: 1568.2799087\ttotal: 2.86s\tremaining: 1.65s\n",
      "38:\tlearn: 1565.8123644\ttotal: 2.93s\tremaining: 1.58s\n",
      "39:\tlearn: 1564.0111630\ttotal: 3.03s\tremaining: 1.51s\n",
      "40:\tlearn: 1560.3753079\ttotal: 3.12s\tremaining: 1.44s\n",
      "41:\tlearn: 1557.9837854\ttotal: 3.19s\tremaining: 1.37s\n",
      "42:\tlearn: 1555.1891271\ttotal: 3.27s\tremaining: 1.29s\n",
      "43:\tlearn: 1553.4712155\ttotal: 3.34s\tremaining: 1.22s\n",
      "44:\tlearn: 1550.3918594\ttotal: 3.41s\tremaining: 1.14s\n",
      "45:\tlearn: 1549.1097190\ttotal: 3.48s\tremaining: 1.06s\n",
      "46:\tlearn: 1545.5536113\ttotal: 3.55s\tremaining: 983ms\n",
      "47:\tlearn: 1542.9978847\ttotal: 3.63s\tremaining: 906ms\n",
      "48:\tlearn: 1539.4518718\ttotal: 3.7s\tremaining: 830ms\n",
      "49:\tlearn: 1537.4324245\ttotal: 3.77s\tremaining: 754ms\n",
      "50:\tlearn: 1535.2592153\ttotal: 3.85s\tremaining: 679ms\n",
      "51:\tlearn: 1531.7921446\ttotal: 3.92s\tremaining: 603ms\n",
      "52:\tlearn: 1528.8009361\ttotal: 4s\tremaining: 528ms\n",
      "53:\tlearn: 1524.7487488\ttotal: 4.07s\tremaining: 452ms\n",
      "54:\tlearn: 1523.1008492\ttotal: 4.14s\tremaining: 377ms\n",
      "55:\tlearn: 1520.6907740\ttotal: 4.21s\tremaining: 301ms\n",
      "56:\tlearn: 1519.4256962\ttotal: 4.29s\tremaining: 226ms\n",
      "57:\tlearn: 1517.7051780\ttotal: 4.36s\tremaining: 150ms\n",
      "58:\tlearn: 1515.4021658\ttotal: 4.43s\tremaining: 75.1ms\n",
      "59:\tlearn: 1513.8447250\ttotal: 4.5s\tremaining: 0us\n",
      "[CV 3/5; 5/8] END iterations=60, learning_rate=0.2, max_depth=10; total time=   5.3s\n",
      "[CV 4/5; 5/8] START iterations=60, learning_rate=0.2, max_depth=10..............\n",
      "0:\tlearn: 3923.8119489\ttotal: 73.8ms\tremaining: 4.35s\n",
      "1:\tlearn: 3407.3223620\ttotal: 152ms\tremaining: 4.4s\n",
      "2:\tlearn: 3011.1615078\ttotal: 225ms\tremaining: 4.27s\n",
      "3:\tlearn: 2707.9939995\ttotal: 310ms\tremaining: 4.35s\n",
      "4:\tlearn: 2490.1354698\ttotal: 388ms\tremaining: 4.27s\n",
      "5:\tlearn: 2300.8744279\ttotal: 474ms\tremaining: 4.27s\n",
      "6:\tlearn: 2157.8437783\ttotal: 556ms\tremaining: 4.21s\n",
      "7:\tlearn: 2055.7015299\ttotal: 632ms\tremaining: 4.11s\n",
      "8:\tlearn: 1964.5803554\ttotal: 706ms\tremaining: 4s\n",
      "9:\tlearn: 1900.4414262\ttotal: 793ms\tremaining: 3.96s\n",
      "10:\tlearn: 1850.6978760\ttotal: 865ms\tremaining: 3.85s\n",
      "11:\tlearn: 1814.1241291\ttotal: 940ms\tremaining: 3.76s\n",
      "12:\tlearn: 1786.3421336\ttotal: 1.01s\tremaining: 3.66s\n",
      "13:\tlearn: 1756.8740044\ttotal: 1.08s\tremaining: 3.56s\n",
      "14:\tlearn: 1734.9509459\ttotal: 1.16s\tremaining: 3.47s\n",
      "15:\tlearn: 1715.7248879\ttotal: 1.23s\tremaining: 3.38s\n",
      "16:\tlearn: 1698.8811299\ttotal: 1.3s\tremaining: 3.3s\n",
      "17:\tlearn: 1682.8102913\ttotal: 1.38s\tremaining: 3.22s\n",
      "18:\tlearn: 1672.8273811\ttotal: 1.45s\tremaining: 3.13s\n",
      "19:\tlearn: 1662.9904863\ttotal: 1.52s\tremaining: 3.05s\n",
      "20:\tlearn: 1655.2172606\ttotal: 1.59s\tremaining: 2.96s\n",
      "21:\tlearn: 1646.8273710\ttotal: 1.67s\tremaining: 2.88s\n",
      "22:\tlearn: 1641.3525303\ttotal: 1.74s\tremaining: 2.8s\n",
      "23:\tlearn: 1635.4426829\ttotal: 1.81s\tremaining: 2.71s\n",
      "24:\tlearn: 1631.3250451\ttotal: 1.89s\tremaining: 2.64s\n",
      "25:\tlearn: 1625.2941850\ttotal: 1.96s\tremaining: 2.56s\n",
      "26:\tlearn: 1622.8001132\ttotal: 2.04s\tremaining: 2.49s\n",
      "27:\tlearn: 1617.5417661\ttotal: 2.11s\tremaining: 2.41s\n",
      "28:\tlearn: 1611.0001619\ttotal: 2.18s\tremaining: 2.33s\n",
      "29:\tlearn: 1605.2650670\ttotal: 2.25s\tremaining: 2.25s\n",
      "30:\tlearn: 1601.5011994\ttotal: 2.32s\tremaining: 2.17s\n",
      "31:\tlearn: 1597.9669798\ttotal: 2.4s\tremaining: 2.1s\n",
      "32:\tlearn: 1590.9788182\ttotal: 2.47s\tremaining: 2.02s\n",
      "33:\tlearn: 1586.1976184\ttotal: 2.55s\tremaining: 1.95s\n",
      "34:\tlearn: 1582.8975999\ttotal: 2.63s\tremaining: 1.88s\n",
      "35:\tlearn: 1579.3088114\ttotal: 2.71s\tremaining: 1.8s\n",
      "36:\tlearn: 1576.0150405\ttotal: 2.79s\tremaining: 1.73s\n",
      "37:\tlearn: 1573.4594959\ttotal: 2.87s\tremaining: 1.66s\n",
      "38:\tlearn: 1569.5327879\ttotal: 2.95s\tremaining: 1.59s\n",
      "39:\tlearn: 1565.3839407\ttotal: 3.02s\tremaining: 1.51s\n",
      "40:\tlearn: 1562.3118763\ttotal: 3.1s\tremaining: 1.44s\n",
      "41:\tlearn: 1560.5749592\ttotal: 3.18s\tremaining: 1.36s\n",
      "42:\tlearn: 1559.3045650\ttotal: 3.25s\tremaining: 1.29s\n",
      "43:\tlearn: 1555.2836815\ttotal: 3.33s\tremaining: 1.21s\n",
      "44:\tlearn: 1552.6964929\ttotal: 3.4s\tremaining: 1.13s\n",
      "45:\tlearn: 1549.1883162\ttotal: 3.48s\tremaining: 1.06s\n",
      "46:\tlearn: 1546.4281528\ttotal: 3.55s\tremaining: 983ms\n",
      "47:\tlearn: 1544.2377197\ttotal: 3.63s\tremaining: 908ms\n",
      "48:\tlearn: 1539.3594843\ttotal: 3.71s\tremaining: 832ms\n",
      "49:\tlearn: 1537.4893123\ttotal: 3.79s\tremaining: 757ms\n",
      "50:\tlearn: 1535.2991218\ttotal: 3.86s\tremaining: 681ms\n",
      "51:\tlearn: 1534.0652259\ttotal: 3.93s\tremaining: 605ms\n",
      "52:\tlearn: 1532.0670195\ttotal: 4.01s\tremaining: 530ms\n",
      "53:\tlearn: 1529.1721693\ttotal: 4.09s\tremaining: 454ms\n",
      "54:\tlearn: 1525.5072372\ttotal: 4.17s\tremaining: 379ms\n",
      "55:\tlearn: 1523.3595433\ttotal: 4.24s\tremaining: 303ms\n",
      "56:\tlearn: 1521.6536239\ttotal: 4.32s\tremaining: 227ms\n",
      "57:\tlearn: 1520.1369915\ttotal: 4.39s\tremaining: 151ms\n",
      "58:\tlearn: 1518.7500141\ttotal: 4.46s\tremaining: 75.7ms\n",
      "59:\tlearn: 1516.7063515\ttotal: 4.54s\tremaining: 0us\n",
      "[CV 4/5; 5/8] END iterations=60, learning_rate=0.2, max_depth=10; total time=   5.3s\n",
      "[CV 5/5; 5/8] START iterations=60, learning_rate=0.2, max_depth=10..............\n",
      "0:\tlearn: 3915.7027226\ttotal: 78.3ms\tremaining: 4.62s\n",
      "1:\tlearn: 3399.3882038\ttotal: 155ms\tremaining: 4.51s\n",
      "2:\tlearn: 3004.7789561\ttotal: 224ms\tremaining: 4.25s\n",
      "3:\tlearn: 2708.0670557\ttotal: 303ms\tremaining: 4.24s\n",
      "4:\tlearn: 2485.8653983\ttotal: 379ms\tremaining: 4.17s\n",
      "5:\tlearn: 2295.4485088\ttotal: 457ms\tremaining: 4.11s\n",
      "6:\tlearn: 2151.4743748\ttotal: 537ms\tremaining: 4.07s\n",
      "7:\tlearn: 2048.9659968\ttotal: 609ms\tremaining: 3.96s\n",
      "8:\tlearn: 1972.4271869\ttotal: 680ms\tremaining: 3.85s\n",
      "9:\tlearn: 1903.4724832\ttotal: 758ms\tremaining: 3.79s\n",
      "10:\tlearn: 1852.5403616\ttotal: 838ms\tremaining: 3.73s\n",
      "11:\tlearn: 1816.1299499\ttotal: 912ms\tremaining: 3.65s\n",
      "12:\tlearn: 1786.4813837\ttotal: 988ms\tremaining: 3.57s\n",
      "13:\tlearn: 1753.2115599\ttotal: 1.07s\tremaining: 3.51s\n",
      "14:\tlearn: 1729.6005992\ttotal: 1.14s\tremaining: 3.43s\n",
      "15:\tlearn: 1710.5372639\ttotal: 1.22s\tremaining: 3.37s\n",
      "16:\tlearn: 1698.2762757\ttotal: 1.31s\tremaining: 3.32s\n",
      "17:\tlearn: 1686.4968580\ttotal: 1.4s\tremaining: 3.26s\n",
      "18:\tlearn: 1671.7701606\ttotal: 1.48s\tremaining: 3.19s\n",
      "19:\tlearn: 1663.4456417\ttotal: 1.56s\tremaining: 3.13s\n",
      "20:\tlearn: 1653.6410584\ttotal: 1.64s\tremaining: 3.05s\n",
      "21:\tlearn: 1644.3761527\ttotal: 1.73s\tremaining: 2.98s\n",
      "22:\tlearn: 1637.9938510\ttotal: 1.81s\tremaining: 2.91s\n",
      "23:\tlearn: 1633.7346071\ttotal: 1.89s\tremaining: 2.83s\n",
      "24:\tlearn: 1629.2363563\ttotal: 1.96s\tremaining: 2.75s\n",
      "25:\tlearn: 1624.4870483\ttotal: 2.06s\tremaining: 2.69s\n",
      "26:\tlearn: 1620.2108175\ttotal: 2.14s\tremaining: 2.62s\n",
      "27:\tlearn: 1614.1048117\ttotal: 2.23s\tremaining: 2.54s\n",
      "28:\tlearn: 1609.6364546\ttotal: 2.31s\tremaining: 2.47s\n",
      "29:\tlearn: 1605.3661997\ttotal: 2.4s\tremaining: 2.4s\n",
      "30:\tlearn: 1600.4713943\ttotal: 2.51s\tremaining: 2.35s\n",
      "31:\tlearn: 1597.3036495\ttotal: 2.61s\tremaining: 2.28s\n",
      "32:\tlearn: 1592.5677687\ttotal: 2.69s\tremaining: 2.2s\n",
      "33:\tlearn: 1588.6543958\ttotal: 2.77s\tremaining: 2.12s\n",
      "34:\tlearn: 1584.3159786\ttotal: 2.85s\tremaining: 2.04s\n",
      "35:\tlearn: 1582.6262753\ttotal: 2.94s\tremaining: 1.96s\n",
      "36:\tlearn: 1579.9830886\ttotal: 3.03s\tremaining: 1.88s\n",
      "37:\tlearn: 1575.9935585\ttotal: 3.13s\tremaining: 1.81s\n",
      "38:\tlearn: 1573.9585085\ttotal: 3.21s\tremaining: 1.73s\n",
      "39:\tlearn: 1571.8797496\ttotal: 3.3s\tremaining: 1.65s\n",
      "40:\tlearn: 1569.2340236\ttotal: 3.4s\tremaining: 1.58s\n",
      "41:\tlearn: 1567.0944452\ttotal: 3.5s\tremaining: 1.5s\n",
      "42:\tlearn: 1564.4903308\ttotal: 3.58s\tremaining: 1.42s\n",
      "43:\tlearn: 1560.2268342\ttotal: 3.68s\tremaining: 1.34s\n",
      "44:\tlearn: 1553.4670444\ttotal: 3.76s\tremaining: 1.25s\n",
      "45:\tlearn: 1550.9692360\ttotal: 3.84s\tremaining: 1.17s\n",
      "46:\tlearn: 1546.1048762\ttotal: 3.92s\tremaining: 1.08s\n",
      "47:\tlearn: 1540.4611557\ttotal: 4.01s\tremaining: 1s\n",
      "48:\tlearn: 1538.5218162\ttotal: 4.1s\tremaining: 920ms\n",
      "49:\tlearn: 1535.5762625\ttotal: 4.2s\tremaining: 841ms\n",
      "50:\tlearn: 1532.2740307\ttotal: 4.29s\tremaining: 757ms\n",
      "51:\tlearn: 1529.2166435\ttotal: 4.38s\tremaining: 674ms\n",
      "52:\tlearn: 1524.9935980\ttotal: 4.48s\tremaining: 592ms\n",
      "53:\tlearn: 1522.0994652\ttotal: 4.57s\tremaining: 507ms\n",
      "54:\tlearn: 1517.6269036\ttotal: 4.65s\tremaining: 423ms\n",
      "55:\tlearn: 1513.6539289\ttotal: 4.74s\tremaining: 339ms\n",
      "56:\tlearn: 1512.0291018\ttotal: 4.83s\tremaining: 254ms\n",
      "57:\tlearn: 1510.1064565\ttotal: 4.91s\tremaining: 169ms\n",
      "58:\tlearn: 1506.0111942\ttotal: 4.99s\tremaining: 84.5ms\n",
      "59:\tlearn: 1503.0303956\ttotal: 5.06s\tremaining: 0us\n",
      "[CV 5/5; 5/8] END iterations=60, learning_rate=0.2, max_depth=10; total time=   5.8s\n",
      "[CV 1/5; 6/8] START iterations=60, learning_rate=0.2, max_depth=15..............\n",
      "0:\tlearn: 3909.0729876\ttotal: 539ms\tremaining: 31.8s\n",
      "1:\tlearn: 3385.3790313\ttotal: 1.06s\tremaining: 30.7s\n",
      "2:\tlearn: 2982.3480562\ttotal: 1.6s\tremaining: 30.4s\n",
      "3:\tlearn: 2678.8881833\ttotal: 2.13s\tremaining: 29.9s\n",
      "4:\tlearn: 2451.5139792\ttotal: 2.27s\tremaining: 25s\n",
      "5:\tlearn: 2239.7184474\ttotal: 2.79s\tremaining: 25.1s\n",
      "6:\tlearn: 2086.7221029\ttotal: 3.31s\tremaining: 25s\n",
      "7:\tlearn: 1970.5727584\ttotal: 3.83s\tremaining: 24.9s\n",
      "8:\tlearn: 1884.0266751\ttotal: 4.35s\tremaining: 24.7s\n",
      "9:\tlearn: 1809.0534781\ttotal: 4.86s\tremaining: 24.3s\n",
      "10:\tlearn: 1753.2424522\ttotal: 5.37s\tremaining: 23.9s\n",
      "11:\tlearn: 1707.4096377\ttotal: 5.96s\tremaining: 23.8s\n",
      "12:\tlearn: 1670.9553802\ttotal: 6.56s\tremaining: 23.7s\n",
      "13:\tlearn: 1644.2317102\ttotal: 7.12s\tremaining: 23.4s\n",
      "14:\tlearn: 1609.4465704\ttotal: 7.64s\tremaining: 22.9s\n",
      "15:\tlearn: 1585.7074601\ttotal: 8.16s\tremaining: 22.5s\n",
      "16:\tlearn: 1559.5251462\ttotal: 8.7s\tremaining: 22s\n",
      "17:\tlearn: 1539.7893581\ttotal: 9.22s\tremaining: 21.5s\n",
      "18:\tlearn: 1525.1154111\ttotal: 9.74s\tremaining: 21s\n",
      "19:\tlearn: 1513.3279358\ttotal: 10.3s\tremaining: 20.5s\n",
      "20:\tlearn: 1504.7938673\ttotal: 10.8s\tremaining: 20s\n",
      "21:\tlearn: 1494.4718435\ttotal: 11.3s\tremaining: 19.5s\n",
      "22:\tlearn: 1483.4780591\ttotal: 11.8s\tremaining: 19s\n",
      "23:\tlearn: 1476.8992495\ttotal: 12.4s\tremaining: 18.6s\n",
      "24:\tlearn: 1468.9370901\ttotal: 12.9s\tremaining: 18s\n",
      "25:\tlearn: 1460.3974499\ttotal: 13.4s\tremaining: 17.6s\n",
      "26:\tlearn: 1452.3737250\ttotal: 13.9s\tremaining: 17s\n",
      "27:\tlearn: 1447.1764232\ttotal: 14.5s\tremaining: 16.5s\n",
      "28:\tlearn: 1442.0669221\ttotal: 15s\tremaining: 16s\n",
      "29:\tlearn: 1438.0223186\ttotal: 15.5s\tremaining: 15.5s\n",
      "30:\tlearn: 1433.9622571\ttotal: 16.1s\tremaining: 15.1s\n",
      "31:\tlearn: 1429.4958901\ttotal: 16.7s\tremaining: 14.6s\n",
      "32:\tlearn: 1424.8077640\ttotal: 17.3s\tremaining: 14.1s\n",
      "33:\tlearn: 1419.3703893\ttotal: 17.8s\tremaining: 13.6s\n",
      "34:\tlearn: 1411.9478821\ttotal: 18.4s\tremaining: 13.1s\n",
      "35:\tlearn: 1405.0652004\ttotal: 18.9s\tremaining: 12.6s\n",
      "36:\tlearn: 1396.4391805\ttotal: 19.4s\tremaining: 12.1s\n",
      "37:\tlearn: 1390.6274371\ttotal: 20s\tremaining: 11.6s\n",
      "38:\tlearn: 1386.3246161\ttotal: 20.5s\tremaining: 11s\n",
      "39:\tlearn: 1381.0353566\ttotal: 21s\tremaining: 10.5s\n",
      "40:\tlearn: 1377.3966164\ttotal: 21.6s\tremaining: 9.99s\n",
      "41:\tlearn: 1372.2599186\ttotal: 22.1s\tremaining: 9.48s\n",
      "42:\tlearn: 1367.4873373\ttotal: 22.7s\tremaining: 8.96s\n",
      "43:\tlearn: 1365.0858826\ttotal: 23.2s\tremaining: 8.44s\n",
      "44:\tlearn: 1362.5835070\ttotal: 23.8s\tremaining: 7.93s\n",
      "45:\tlearn: 1357.9994252\ttotal: 24.5s\tremaining: 7.46s\n",
      "46:\tlearn: 1352.2804894\ttotal: 25.1s\tremaining: 6.95s\n",
      "47:\tlearn: 1348.2984622\ttotal: 25.7s\tremaining: 6.43s\n",
      "48:\tlearn: 1344.8947604\ttotal: 26.2s\tremaining: 5.89s\n",
      "49:\tlearn: 1343.0415063\ttotal: 26.8s\tremaining: 5.36s\n",
      "50:\tlearn: 1343.0405390\ttotal: 26.8s\tremaining: 4.73s\n",
      "51:\tlearn: 1339.4542874\ttotal: 27.4s\tremaining: 4.21s\n",
      "52:\tlearn: 1333.4437915\ttotal: 27.9s\tremaining: 3.69s\n",
      "53:\tlearn: 1330.7872129\ttotal: 28.5s\tremaining: 3.17s\n",
      "54:\tlearn: 1326.8745466\ttotal: 29.1s\tremaining: 2.64s\n",
      "55:\tlearn: 1325.3999371\ttotal: 29.6s\tremaining: 2.11s\n",
      "56:\tlearn: 1318.2840375\ttotal: 30.1s\tremaining: 1.58s\n",
      "57:\tlearn: 1316.1969781\ttotal: 30.6s\tremaining: 1.05s\n",
      "58:\tlearn: 1311.8886152\ttotal: 31.1s\tremaining: 528ms\n",
      "59:\tlearn: 1311.8884377\ttotal: 31.2s\tremaining: 0us\n",
      "[CV 1/5; 6/8] END iterations=60, learning_rate=0.2, max_depth=15; total time=  32.0s\n",
      "[CV 2/5; 6/8] START iterations=60, learning_rate=0.2, max_depth=15..............\n",
      "0:\tlearn: 3920.3510570\ttotal: 111ms\tremaining: 6.53s\n",
      "1:\tlearn: 3391.3345690\ttotal: 579ms\tremaining: 16.8s\n",
      "2:\tlearn: 2993.4391014\ttotal: 1.09s\tremaining: 20.6s\n",
      "3:\tlearn: 2680.1634537\ttotal: 1.58s\tremaining: 22.2s\n",
      "4:\tlearn: 2450.8404600\ttotal: 2.1s\tremaining: 23.1s\n",
      "5:\tlearn: 2236.6342045\ttotal: 2.6s\tremaining: 23.4s\n",
      "6:\tlearn: 2076.6708363\ttotal: 3.11s\tremaining: 23.5s\n",
      "7:\tlearn: 1963.0812231\ttotal: 3.61s\tremaining: 23.5s\n",
      "8:\tlearn: 1877.2872457\ttotal: 4.16s\tremaining: 23.6s\n",
      "9:\tlearn: 1799.6583070\ttotal: 4.71s\tremaining: 23.6s\n",
      "10:\tlearn: 1741.1423592\ttotal: 5.25s\tremaining: 23.4s\n",
      "11:\tlearn: 1701.6985616\ttotal: 5.77s\tremaining: 23.1s\n",
      "12:\tlearn: 1669.3788113\ttotal: 6.28s\tremaining: 22.7s\n",
      "13:\tlearn: 1640.1026405\ttotal: 6.82s\tremaining: 22.4s\n",
      "14:\tlearn: 1604.4279934\ttotal: 7.33s\tremaining: 22s\n",
      "15:\tlearn: 1576.8064973\ttotal: 7.85s\tremaining: 21.6s\n",
      "16:\tlearn: 1558.1008372\ttotal: 8.36s\tremaining: 21.1s\n",
      "17:\tlearn: 1540.8848717\ttotal: 8.89s\tremaining: 20.7s\n",
      "18:\tlearn: 1526.2074715\ttotal: 9.41s\tremaining: 20.3s\n",
      "19:\tlearn: 1514.8250911\ttotal: 9.93s\tremaining: 19.9s\n",
      "20:\tlearn: 1503.9940300\ttotal: 10.5s\tremaining: 19.4s\n",
      "21:\tlearn: 1492.2395055\ttotal: 11s\tremaining: 19s\n",
      "22:\tlearn: 1482.6238943\ttotal: 11.5s\tremaining: 18.5s\n",
      "23:\tlearn: 1474.1658310\ttotal: 12s\tremaining: 18.1s\n",
      "24:\tlearn: 1468.7637436\ttotal: 12.5s\tremaining: 17.6s\n",
      "25:\tlearn: 1461.9619457\ttotal: 13.1s\tremaining: 17.1s\n",
      "26:\tlearn: 1456.3097898\ttotal: 13.6s\tremaining: 16.6s\n",
      "27:\tlearn: 1451.0326490\ttotal: 14.1s\tremaining: 16.1s\n",
      "28:\tlearn: 1445.5610375\ttotal: 14.7s\tremaining: 15.7s\n",
      "29:\tlearn: 1437.2761208\ttotal: 15.3s\tremaining: 15.3s\n",
      "30:\tlearn: 1430.9907736\ttotal: 15.9s\tremaining: 14.8s\n",
      "31:\tlearn: 1425.3323380\ttotal: 16.4s\tremaining: 14.4s\n",
      "32:\tlearn: 1418.8621288\ttotal: 17s\tremaining: 13.9s\n",
      "33:\tlearn: 1411.8499559\ttotal: 17.5s\tremaining: 13.4s\n",
      "34:\tlearn: 1405.5591189\ttotal: 18.1s\tremaining: 12.9s\n",
      "35:\tlearn: 1401.6730753\ttotal: 18.6s\tremaining: 12.4s\n",
      "36:\tlearn: 1396.4822854\ttotal: 19.1s\tremaining: 11.9s\n",
      "37:\tlearn: 1392.0159706\ttotal: 19.6s\tremaining: 11.4s\n",
      "38:\tlearn: 1389.7152476\ttotal: 20.2s\tremaining: 10.9s\n",
      "39:\tlearn: 1386.0262227\ttotal: 20.7s\tremaining: 10.4s\n",
      "40:\tlearn: 1383.8190207\ttotal: 21.3s\tremaining: 9.86s\n",
      "41:\tlearn: 1381.3242885\ttotal: 21.8s\tremaining: 9.36s\n",
      "42:\tlearn: 1378.0800958\ttotal: 22.4s\tremaining: 8.85s\n",
      "43:\tlearn: 1373.9967827\ttotal: 22.9s\tremaining: 8.34s\n",
      "44:\tlearn: 1369.0622040\ttotal: 23.5s\tremaining: 7.84s\n",
      "45:\tlearn: 1366.1174654\ttotal: 24.1s\tremaining: 7.34s\n",
      "46:\tlearn: 1357.8179767\ttotal: 24.8s\tremaining: 6.85s\n",
      "47:\tlearn: 1352.1325342\ttotal: 25.4s\tremaining: 6.35s\n",
      "48:\tlearn: 1345.0732566\ttotal: 26s\tremaining: 5.84s\n",
      "49:\tlearn: 1340.3669814\ttotal: 26.7s\tremaining: 5.34s\n",
      "50:\tlearn: 1333.6788555\ttotal: 27.3s\tremaining: 4.81s\n",
      "51:\tlearn: 1329.5722979\ttotal: 27.8s\tremaining: 4.28s\n",
      "52:\tlearn: 1325.7173669\ttotal: 28.4s\tremaining: 3.75s\n",
      "53:\tlearn: 1317.6944386\ttotal: 28.9s\tremaining: 3.21s\n",
      "54:\tlearn: 1314.3489261\ttotal: 29.4s\tremaining: 2.67s\n",
      "55:\tlearn: 1310.0134247\ttotal: 29.9s\tremaining: 2.14s\n",
      "56:\tlearn: 1305.8043867\ttotal: 30.5s\tremaining: 1.6s\n",
      "57:\tlearn: 1301.3331508\ttotal: 31s\tremaining: 1.07s\n",
      "58:\tlearn: 1298.6875451\ttotal: 31.5s\tremaining: 534ms\n",
      "59:\tlearn: 1294.8690814\ttotal: 32.1s\tremaining: 0us\n",
      "[CV 2/5; 6/8] END iterations=60, learning_rate=0.2, max_depth=15; total time=  32.9s\n",
      "[CV 3/5; 6/8] START iterations=60, learning_rate=0.2, max_depth=15..............\n",
      "0:\tlearn: 3902.8155623\ttotal: 518ms\tremaining: 30.6s\n",
      "1:\tlearn: 3373.5489213\ttotal: 1.04s\tremaining: 30.1s\n",
      "2:\tlearn: 2961.4232485\ttotal: 1.55s\tremaining: 29.5s\n",
      "3:\tlearn: 2657.3224743\ttotal: 2.1s\tremaining: 29.4s\n",
      "4:\tlearn: 2425.5437124\ttotal: 2.61s\tremaining: 28.7s\n",
      "5:\tlearn: 2220.3993637\ttotal: 3.16s\tremaining: 28.4s\n",
      "6:\tlearn: 2061.4511864\ttotal: 3.7s\tremaining: 28s\n",
      "7:\tlearn: 1947.6048751\ttotal: 4.24s\tremaining: 27.5s\n",
      "8:\tlearn: 1862.8478043\ttotal: 4.76s\tremaining: 27s\n",
      "9:\tlearn: 1791.8065546\ttotal: 5.29s\tremaining: 26.4s\n",
      "10:\tlearn: 1732.2643086\ttotal: 5.81s\tremaining: 25.9s\n",
      "11:\tlearn: 1690.6673542\ttotal: 6.33s\tremaining: 25.3s\n",
      "12:\tlearn: 1659.5797748\ttotal: 6.85s\tremaining: 24.8s\n",
      "13:\tlearn: 1625.4202647\ttotal: 7.37s\tremaining: 24.2s\n",
      "14:\tlearn: 1593.4712423\ttotal: 7.9s\tremaining: 23.7s\n",
      "15:\tlearn: 1567.8277413\ttotal: 8.42s\tremaining: 23.2s\n",
      "16:\tlearn: 1545.2158119\ttotal: 8.96s\tremaining: 22.7s\n",
      "17:\tlearn: 1530.0653057\ttotal: 9.49s\tremaining: 22.2s\n",
      "18:\tlearn: 1516.2698048\ttotal: 10s\tremaining: 21.6s\n",
      "19:\tlearn: 1502.9221719\ttotal: 10.6s\tremaining: 21.1s\n",
      "20:\tlearn: 1493.2247953\ttotal: 11.1s\tremaining: 20.6s\n",
      "21:\tlearn: 1481.4821165\ttotal: 11.6s\tremaining: 20s\n",
      "22:\tlearn: 1474.3516467\ttotal: 12.2s\tremaining: 19.6s\n",
      "23:\tlearn: 1464.6845698\ttotal: 12.7s\tremaining: 19s\n",
      "24:\tlearn: 1457.2746141\ttotal: 13.2s\tremaining: 18.5s\n",
      "25:\tlearn: 1453.4183674\ttotal: 13.8s\tremaining: 18s\n",
      "26:\tlearn: 1447.2842287\ttotal: 14.3s\tremaining: 17.5s\n",
      "27:\tlearn: 1437.5644641\ttotal: 14.9s\tremaining: 17s\n",
      "28:\tlearn: 1433.2768849\ttotal: 15.4s\tremaining: 16.4s\n",
      "29:\tlearn: 1427.9155408\ttotal: 15.9s\tremaining: 15.9s\n",
      "30:\tlearn: 1421.5279652\ttotal: 16.4s\tremaining: 15.4s\n",
      "31:\tlearn: 1418.6634774\ttotal: 17s\tremaining: 14.8s\n",
      "32:\tlearn: 1415.5375179\ttotal: 17.5s\tremaining: 14.3s\n",
      "33:\tlearn: 1411.6972337\ttotal: 18s\tremaining: 13.8s\n",
      "34:\tlearn: 1406.2139550\ttotal: 18.6s\tremaining: 13.3s\n",
      "35:\tlearn: 1402.0820856\ttotal: 19.2s\tremaining: 12.8s\n",
      "36:\tlearn: 1398.7176019\ttotal: 19.8s\tremaining: 12.3s\n",
      "37:\tlearn: 1394.4512381\ttotal: 20.4s\tremaining: 11.8s\n",
      "38:\tlearn: 1382.2662323\ttotal: 21s\tremaining: 11.3s\n",
      "39:\tlearn: 1377.1104386\ttotal: 21.5s\tremaining: 10.7s\n",
      "40:\tlearn: 1371.7874232\ttotal: 22.1s\tremaining: 10.2s\n",
      "41:\tlearn: 1364.5114813\ttotal: 22.6s\tremaining: 9.69s\n",
      "42:\tlearn: 1358.3061281\ttotal: 23.2s\tremaining: 9.16s\n",
      "43:\tlearn: 1353.4479606\ttotal: 23.7s\tremaining: 8.62s\n",
      "44:\tlearn: 1348.2522723\ttotal: 24.3s\tremaining: 8.09s\n",
      "45:\tlearn: 1341.7693794\ttotal: 24.8s\tremaining: 7.56s\n",
      "46:\tlearn: 1339.6825909\ttotal: 25.3s\tremaining: 7.01s\n",
      "47:\tlearn: 1335.2810497\ttotal: 25.9s\tremaining: 6.46s\n",
      "48:\tlearn: 1333.6287817\ttotal: 26.4s\tremaining: 5.92s\n",
      "49:\tlearn: 1330.0090898\ttotal: 26.9s\tremaining: 5.38s\n",
      "50:\tlearn: 1326.0818563\ttotal: 27.4s\tremaining: 4.84s\n",
      "51:\tlearn: 1324.5280558\ttotal: 27.9s\tremaining: 4.3s\n",
      "52:\tlearn: 1319.8637361\ttotal: 28.5s\tremaining: 3.76s\n",
      "53:\tlearn: 1316.3639261\ttotal: 29s\tremaining: 3.22s\n",
      "54:\tlearn: 1310.9518381\ttotal: 29.6s\tremaining: 2.69s\n",
      "55:\tlearn: 1306.6547141\ttotal: 30.1s\tremaining: 2.15s\n",
      "56:\tlearn: 1301.5366538\ttotal: 30.6s\tremaining: 1.61s\n",
      "57:\tlearn: 1299.8323868\ttotal: 31.2s\tremaining: 1.07s\n",
      "58:\tlearn: 1294.0247630\ttotal: 31.7s\tremaining: 537ms\n",
      "59:\tlearn: 1289.8147840\ttotal: 32.3s\tremaining: 0us\n",
      "[CV 3/5; 6/8] END iterations=60, learning_rate=0.2, max_depth=15; total time=  33.1s\n",
      "[CV 4/5; 6/8] START iterations=60, learning_rate=0.2, max_depth=15..............\n",
      "0:\tlearn: 3916.0040063\ttotal: 552ms\tremaining: 32.6s\n",
      "1:\tlearn: 3384.9467774\ttotal: 1.06s\tremaining: 30.7s\n",
      "2:\tlearn: 2964.9214755\ttotal: 1.57s\tremaining: 29.9s\n",
      "3:\tlearn: 2660.3753439\ttotal: 2.12s\tremaining: 29.7s\n",
      "4:\tlearn: 2431.6807248\ttotal: 2.65s\tremaining: 29.2s\n",
      "5:\tlearn: 2267.2827679\ttotal: 3.16s\tremaining: 28.4s\n",
      "6:\tlearn: 2100.6252834\ttotal: 3.69s\tremaining: 27.9s\n",
      "7:\tlearn: 1974.9755991\ttotal: 4.21s\tremaining: 27.3s\n",
      "8:\tlearn: 1889.5452562\ttotal: 4.78s\tremaining: 27.1s\n",
      "9:\tlearn: 1809.6189951\ttotal: 5.31s\tremaining: 26.6s\n",
      "10:\tlearn: 1751.7133079\ttotal: 5.82s\tremaining: 25.9s\n",
      "11:\tlearn: 1710.7113263\ttotal: 6.33s\tremaining: 25.3s\n",
      "12:\tlearn: 1675.7446369\ttotal: 6.85s\tremaining: 24.8s\n",
      "13:\tlearn: 1635.5264096\ttotal: 7.38s\tremaining: 24.3s\n",
      "14:\tlearn: 1602.1221603\ttotal: 7.91s\tremaining: 23.7s\n",
      "15:\tlearn: 1578.4394550\ttotal: 8.44s\tremaining: 23.2s\n",
      "16:\tlearn: 1557.4500091\ttotal: 8.99s\tremaining: 22.7s\n",
      "17:\tlearn: 1539.9448512\ttotal: 9.51s\tremaining: 22.2s\n",
      "18:\tlearn: 1526.9506851\ttotal: 10s\tremaining: 21.6s\n",
      "19:\tlearn: 1513.8718123\ttotal: 10.6s\tremaining: 21.1s\n",
      "20:\tlearn: 1501.1510391\ttotal: 11.1s\tremaining: 20.6s\n",
      "21:\tlearn: 1493.5126093\ttotal: 11.6s\tremaining: 20.1s\n",
      "22:\tlearn: 1485.7803018\ttotal: 12.1s\tremaining: 19.5s\n",
      "23:\tlearn: 1475.7237996\ttotal: 12.7s\tremaining: 19.1s\n",
      "24:\tlearn: 1470.0465346\ttotal: 13.2s\tremaining: 18.5s\n",
      "25:\tlearn: 1464.8836755\ttotal: 13.7s\tremaining: 18s\n",
      "26:\tlearn: 1458.2476119\ttotal: 14.3s\tremaining: 17.5s\n",
      "27:\tlearn: 1451.4563448\ttotal: 14.8s\tremaining: 16.9s\n",
      "28:\tlearn: 1445.7805380\ttotal: 15.3s\tremaining: 16.4s\n",
      "29:\tlearn: 1437.8622559\ttotal: 15.9s\tremaining: 15.9s\n",
      "30:\tlearn: 1432.9758875\ttotal: 16.4s\tremaining: 15.3s\n",
      "31:\tlearn: 1426.0628518\ttotal: 16.9s\tremaining: 14.8s\n",
      "32:\tlearn: 1423.8567235\ttotal: 17.5s\tremaining: 14.3s\n",
      "33:\tlearn: 1420.2265647\ttotal: 18.1s\tremaining: 13.8s\n",
      "34:\tlearn: 1414.4294507\ttotal: 18.7s\tremaining: 13.3s\n",
      "35:\tlearn: 1409.8487208\ttotal: 19.3s\tremaining: 12.8s\n",
      "36:\tlearn: 1406.7101650\ttotal: 19.9s\tremaining: 12.4s\n",
      "37:\tlearn: 1404.6360038\ttotal: 20.5s\tremaining: 11.9s\n",
      "38:\tlearn: 1401.4104841\ttotal: 21.1s\tremaining: 11.3s\n",
      "39:\tlearn: 1398.3835821\ttotal: 21.6s\tremaining: 10.8s\n",
      "40:\tlearn: 1395.1843934\ttotal: 22.1s\tremaining: 10.3s\n",
      "41:\tlearn: 1389.2264896\ttotal: 22.7s\tremaining: 9.75s\n",
      "42:\tlearn: 1385.7032834\ttotal: 23.3s\tremaining: 9.22s\n",
      "43:\tlearn: 1382.2912911\ttotal: 23.8s\tremaining: 8.67s\n",
      "44:\tlearn: 1377.8270495\ttotal: 24.4s\tremaining: 8.15s\n",
      "45:\tlearn: 1373.2298484\ttotal: 25s\tremaining: 7.6s\n",
      "46:\tlearn: 1369.8983564\ttotal: 25.5s\tremaining: 7.05s\n",
      "47:\tlearn: 1362.8625099\ttotal: 26.1s\tremaining: 6.52s\n",
      "48:\tlearn: 1357.3354511\ttotal: 26.6s\tremaining: 5.98s\n",
      "49:\tlearn: 1353.8857218\ttotal: 27.2s\tremaining: 5.43s\n",
      "50:\tlearn: 1349.6083426\ttotal: 27.7s\tremaining: 4.88s\n",
      "51:\tlearn: 1344.2025817\ttotal: 28.2s\tremaining: 4.34s\n",
      "52:\tlearn: 1339.4128451\ttotal: 28.8s\tremaining: 3.8s\n",
      "53:\tlearn: 1337.2173077\ttotal: 29.3s\tremaining: 3.25s\n",
      "54:\tlearn: 1334.7632472\ttotal: 29.8s\tremaining: 2.71s\n",
      "55:\tlearn: 1330.1889761\ttotal: 30.3s\tremaining: 2.17s\n",
      "56:\tlearn: 1325.6962025\ttotal: 30.9s\tremaining: 1.62s\n",
      "57:\tlearn: 1322.3984325\ttotal: 31.4s\tremaining: 1.08s\n",
      "58:\tlearn: 1318.0575566\ttotal: 31.9s\tremaining: 541ms\n",
      "59:\tlearn: 1313.0981688\ttotal: 32.4s\tremaining: 0us\n",
      "[CV 4/5; 6/8] END iterations=60, learning_rate=0.2, max_depth=15; total time=  33.2s\n",
      "[CV 5/5; 6/8] START iterations=60, learning_rate=0.2, max_depth=15..............\n",
      "0:\tlearn: 3908.3603794\ttotal: 519ms\tremaining: 30.6s\n",
      "1:\tlearn: 3378.2650348\ttotal: 1.02s\tremaining: 29.6s\n",
      "2:\tlearn: 2958.4804304\ttotal: 1.53s\tremaining: 29.1s\n",
      "3:\tlearn: 2648.4080557\ttotal: 2.05s\tremaining: 28.7s\n",
      "4:\tlearn: 2422.8829476\ttotal: 2.55s\tremaining: 28.1s\n",
      "5:\tlearn: 2216.8559233\ttotal: 3.07s\tremaining: 27.6s\n",
      "6:\tlearn: 2071.5594808\ttotal: 3.58s\tremaining: 27.1s\n",
      "7:\tlearn: 1961.5272408\ttotal: 4.09s\tremaining: 26.6s\n",
      "8:\tlearn: 1880.6428841\ttotal: 4.62s\tremaining: 26.2s\n",
      "9:\tlearn: 1809.3985058\ttotal: 5.16s\tremaining: 25.8s\n",
      "10:\tlearn: 1754.8162168\ttotal: 5.74s\tremaining: 25.6s\n",
      "11:\tlearn: 1709.6161656\ttotal: 6.28s\tremaining: 25.1s\n",
      "12:\tlearn: 1676.1808122\ttotal: 6.79s\tremaining: 24.5s\n",
      "13:\tlearn: 1650.1505079\ttotal: 7.33s\tremaining: 24.1s\n",
      "14:\tlearn: 1617.6486169\ttotal: 7.86s\tremaining: 23.6s\n",
      "15:\tlearn: 1587.9693274\ttotal: 8.39s\tremaining: 23.1s\n",
      "16:\tlearn: 1567.5814028\ttotal: 8.9s\tremaining: 22.5s\n",
      "17:\tlearn: 1549.5493732\ttotal: 9.43s\tremaining: 22s\n",
      "18:\tlearn: 1534.0928864\ttotal: 9.94s\tremaining: 21.4s\n",
      "19:\tlearn: 1521.3637285\ttotal: 10.5s\tremaining: 20.9s\n",
      "20:\tlearn: 1509.4653595\ttotal: 11s\tremaining: 20.4s\n",
      "21:\tlearn: 1499.6447980\ttotal: 11.6s\tremaining: 20s\n",
      "22:\tlearn: 1487.9235995\ttotal: 12.1s\tremaining: 19.5s\n",
      "23:\tlearn: 1478.8608612\ttotal: 12.7s\tremaining: 19.1s\n",
      "24:\tlearn: 1471.3892552\ttotal: 13.3s\tremaining: 18.6s\n",
      "25:\tlearn: 1463.1523438\ttotal: 13.8s\tremaining: 18.1s\n",
      "26:\tlearn: 1457.0457300\ttotal: 14.4s\tremaining: 17.6s\n",
      "27:\tlearn: 1456.7984320\ttotal: 14.4s\tremaining: 16.5s\n",
      "28:\tlearn: 1449.6373903\ttotal: 15s\tremaining: 16s\n",
      "29:\tlearn: 1442.8433746\ttotal: 15.5s\tremaining: 15.5s\n",
      "30:\tlearn: 1437.2586397\ttotal: 16.1s\tremaining: 15.1s\n",
      "31:\tlearn: 1433.6149208\ttotal: 16.7s\tremaining: 14.6s\n",
      "32:\tlearn: 1425.9827134\ttotal: 17.2s\tremaining: 14.1s\n",
      "33:\tlearn: 1420.1115302\ttotal: 17.8s\tremaining: 13.6s\n",
      "34:\tlearn: 1414.5452218\ttotal: 18.3s\tremaining: 13.1s\n",
      "35:\tlearn: 1409.8548296\ttotal: 18.9s\tremaining: 12.6s\n",
      "36:\tlearn: 1405.6300974\ttotal: 19.4s\tremaining: 12.1s\n",
      "37:\tlearn: 1400.4275402\ttotal: 19.9s\tremaining: 11.5s\n",
      "38:\tlearn: 1395.4675953\ttotal: 20.4s\tremaining: 11s\n",
      "39:\tlearn: 1391.2981945\ttotal: 21s\tremaining: 10.5s\n",
      "40:\tlearn: 1387.7824266\ttotal: 21.5s\tremaining: 9.97s\n",
      "41:\tlearn: 1385.3793362\ttotal: 22.1s\tremaining: 9.45s\n",
      "42:\tlearn: 1381.7030216\ttotal: 22.6s\tremaining: 8.95s\n",
      "43:\tlearn: 1378.7428461\ttotal: 23.2s\tremaining: 8.43s\n",
      "44:\tlearn: 1375.6311563\ttotal: 23.7s\tremaining: 7.91s\n",
      "45:\tlearn: 1370.1597864\ttotal: 24.3s\tremaining: 7.38s\n",
      "46:\tlearn: 1362.6312917\ttotal: 24.8s\tremaining: 6.87s\n",
      "47:\tlearn: 1359.4111633\ttotal: 25.4s\tremaining: 6.35s\n",
      "48:\tlearn: 1351.6003349\ttotal: 25.9s\tremaining: 5.82s\n",
      "49:\tlearn: 1345.0948356\ttotal: 26.5s\tremaining: 5.29s\n",
      "50:\tlearn: 1341.1951720\ttotal: 27s\tremaining: 4.77s\n",
      "51:\tlearn: 1334.9980082\ttotal: 27.6s\tremaining: 4.24s\n",
      "52:\tlearn: 1330.6599720\ttotal: 28.1s\tremaining: 3.71s\n",
      "53:\tlearn: 1327.7598818\ttotal: 28.7s\tremaining: 3.19s\n",
      "54:\tlearn: 1324.0977258\ttotal: 29.2s\tremaining: 2.65s\n",
      "55:\tlearn: 1321.4135062\ttotal: 29.7s\tremaining: 2.12s\n",
      "56:\tlearn: 1317.3367150\ttotal: 30.3s\tremaining: 1.59s\n",
      "57:\tlearn: 1314.9543372\ttotal: 30.9s\tremaining: 1.06s\n",
      "58:\tlearn: 1307.8501196\ttotal: 31.4s\tremaining: 532ms\n",
      "59:\tlearn: 1302.7528767\ttotal: 31.9s\tremaining: 0us\n",
      "[CV 5/5; 6/8] END iterations=60, learning_rate=0.2, max_depth=15; total time=  32.8s\n",
      "[CV 1/5; 7/8] START iterations=60, learning_rate=0.5, max_depth=10..............\n",
      "0:\tlearn: 3021.3789698\ttotal: 76.4ms\tremaining: 4.51s\n",
      "1:\tlearn: 2346.2729804\ttotal: 165ms\tremaining: 4.79s\n",
      "2:\tlearn: 2029.6947294\ttotal: 237ms\tremaining: 4.51s\n",
      "3:\tlearn: 1861.9892095\ttotal: 308ms\tremaining: 4.31s\n",
      "4:\tlearn: 1781.0774252\ttotal: 383ms\tremaining: 4.21s\n",
      "5:\tlearn: 1731.5072880\ttotal: 456ms\tremaining: 4.11s\n",
      "6:\tlearn: 1701.8149201\ttotal: 534ms\tremaining: 4.04s\n",
      "7:\tlearn: 1688.4221947\ttotal: 609ms\tremaining: 3.96s\n",
      "8:\tlearn: 1673.2184047\ttotal: 681ms\tremaining: 3.86s\n",
      "9:\tlearn: 1656.9905716\ttotal: 761ms\tremaining: 3.81s\n",
      "10:\tlearn: 1649.4741510\ttotal: 846ms\tremaining: 3.77s\n",
      "11:\tlearn: 1629.7623016\ttotal: 922ms\tremaining: 3.69s\n",
      "12:\tlearn: 1621.7724635\ttotal: 999ms\tremaining: 3.61s\n",
      "13:\tlearn: 1611.2114678\ttotal: 1.08s\tremaining: 3.55s\n",
      "14:\tlearn: 1599.3245580\ttotal: 1.16s\tremaining: 3.48s\n",
      "15:\tlearn: 1591.0503314\ttotal: 1.24s\tremaining: 3.4s\n",
      "16:\tlearn: 1580.8771576\ttotal: 1.31s\tremaining: 3.32s\n",
      "17:\tlearn: 1576.5522725\ttotal: 1.39s\tremaining: 3.24s\n",
      "18:\tlearn: 1571.2710757\ttotal: 1.46s\tremaining: 3.16s\n",
      "19:\tlearn: 1564.7401436\ttotal: 1.54s\tremaining: 3.09s\n",
      "20:\tlearn: 1551.9417113\ttotal: 1.62s\tremaining: 3.01s\n",
      "21:\tlearn: 1547.9854578\ttotal: 1.7s\tremaining: 2.93s\n",
      "22:\tlearn: 1541.2340829\ttotal: 1.78s\tremaining: 2.86s\n",
      "23:\tlearn: 1535.8690286\ttotal: 1.85s\tremaining: 2.78s\n",
      "24:\tlearn: 1528.5302530\ttotal: 1.93s\tremaining: 2.71s\n",
      "25:\tlearn: 1522.6386241\ttotal: 2.01s\tremaining: 2.62s\n",
      "26:\tlearn: 1517.1459493\ttotal: 2.08s\tremaining: 2.55s\n",
      "27:\tlearn: 1517.1457287\ttotal: 2.12s\tremaining: 2.42s\n",
      "28:\tlearn: 1509.3796086\ttotal: 2.2s\tremaining: 2.35s\n",
      "29:\tlearn: 1501.1359215\ttotal: 2.28s\tremaining: 2.28s\n",
      "30:\tlearn: 1494.9744897\ttotal: 2.36s\tremaining: 2.21s\n",
      "31:\tlearn: 1491.3019724\ttotal: 2.43s\tremaining: 2.13s\n",
      "32:\tlearn: 1487.1638697\ttotal: 2.52s\tremaining: 2.06s\n",
      "33:\tlearn: 1482.6305696\ttotal: 2.61s\tremaining: 2s\n",
      "34:\tlearn: 1475.6965321\ttotal: 2.7s\tremaining: 1.93s\n",
      "35:\tlearn: 1470.3587262\ttotal: 2.79s\tremaining: 1.86s\n",
      "36:\tlearn: 1468.1911856\ttotal: 2.86s\tremaining: 1.78s\n",
      "37:\tlearn: 1463.8421985\ttotal: 2.93s\tremaining: 1.7s\n",
      "38:\tlearn: 1461.9841337\ttotal: 3s\tremaining: 1.62s\n",
      "39:\tlearn: 1461.0666589\ttotal: 3.08s\tremaining: 1.54s\n",
      "40:\tlearn: 1456.9798680\ttotal: 3.15s\tremaining: 1.46s\n",
      "41:\tlearn: 1451.5343014\ttotal: 3.23s\tremaining: 1.38s\n",
      "42:\tlearn: 1446.0732362\ttotal: 3.3s\tremaining: 1.3s\n",
      "43:\tlearn: 1442.8160285\ttotal: 3.37s\tremaining: 1.23s\n",
      "44:\tlearn: 1439.7319073\ttotal: 3.45s\tremaining: 1.15s\n",
      "45:\tlearn: 1438.0060215\ttotal: 3.53s\tremaining: 1.07s\n",
      "46:\tlearn: 1435.4202476\ttotal: 3.6s\tremaining: 996ms\n",
      "47:\tlearn: 1432.4497008\ttotal: 3.68s\tremaining: 919ms\n",
      "48:\tlearn: 1429.8223816\ttotal: 3.75s\tremaining: 841ms\n",
      "49:\tlearn: 1425.6341294\ttotal: 3.82s\tremaining: 764ms\n",
      "50:\tlearn: 1423.0767999\ttotal: 3.89s\tremaining: 687ms\n",
      "51:\tlearn: 1420.9366069\ttotal: 3.97s\tremaining: 610ms\n",
      "52:\tlearn: 1418.5454916\ttotal: 4.04s\tremaining: 534ms\n",
      "53:\tlearn: 1417.3132176\ttotal: 4.12s\tremaining: 458ms\n",
      "54:\tlearn: 1416.5205893\ttotal: 4.2s\tremaining: 382ms\n",
      "55:\tlearn: 1413.4688970\ttotal: 4.3s\tremaining: 307ms\n",
      "56:\tlearn: 1411.3894469\ttotal: 4.37s\tremaining: 230ms\n",
      "57:\tlearn: 1409.3384698\ttotal: 4.45s\tremaining: 154ms\n",
      "58:\tlearn: 1408.4022100\ttotal: 4.53s\tremaining: 76.7ms\n",
      "59:\tlearn: 1406.7484140\ttotal: 4.61s\tremaining: 0us\n",
      "[CV 1/5; 7/8] END iterations=60, learning_rate=0.5, max_depth=10; total time=   5.3s\n",
      "[CV 2/5; 7/8] START iterations=60, learning_rate=0.5, max_depth=10..............\n",
      "0:\tlearn: 3025.2903557\ttotal: 79.1ms\tremaining: 4.67s\n",
      "1:\tlearn: 2360.7266397\ttotal: 169ms\tremaining: 4.89s\n",
      "2:\tlearn: 2028.2266451\ttotal: 247ms\tremaining: 4.7s\n",
      "3:\tlearn: 1874.3078951\ttotal: 322ms\tremaining: 4.51s\n",
      "4:\tlearn: 1795.3928167\ttotal: 401ms\tremaining: 4.41s\n",
      "5:\tlearn: 1735.4587740\ttotal: 474ms\tremaining: 4.26s\n",
      "6:\tlearn: 1708.7003890\ttotal: 549ms\tremaining: 4.15s\n",
      "7:\tlearn: 1691.4579774\ttotal: 622ms\tremaining: 4.04s\n",
      "8:\tlearn: 1668.6404876\ttotal: 695ms\tremaining: 3.94s\n",
      "9:\tlearn: 1653.5488530\ttotal: 772ms\tremaining: 3.86s\n",
      "10:\tlearn: 1640.3276710\ttotal: 853ms\tremaining: 3.8s\n",
      "11:\tlearn: 1623.8387055\ttotal: 928ms\tremaining: 3.71s\n",
      "12:\tlearn: 1615.3389996\ttotal: 1.01s\tremaining: 3.64s\n",
      "13:\tlearn: 1599.9300529\ttotal: 1.09s\tremaining: 3.58s\n",
      "14:\tlearn: 1593.1720681\ttotal: 1.17s\tremaining: 3.5s\n",
      "15:\tlearn: 1585.3694951\ttotal: 1.25s\tremaining: 3.44s\n",
      "16:\tlearn: 1579.5470404\ttotal: 1.32s\tremaining: 3.35s\n",
      "17:\tlearn: 1575.9747358\ttotal: 1.4s\tremaining: 3.26s\n",
      "18:\tlearn: 1569.3297089\ttotal: 1.47s\tremaining: 3.17s\n",
      "19:\tlearn: 1561.9683452\ttotal: 1.54s\tremaining: 3.09s\n",
      "20:\tlearn: 1553.1569035\ttotal: 1.61s\tremaining: 3s\n",
      "21:\tlearn: 1547.9240729\ttotal: 1.69s\tremaining: 2.92s\n",
      "22:\tlearn: 1541.6755468\ttotal: 1.77s\tremaining: 2.85s\n",
      "23:\tlearn: 1534.5754361\ttotal: 1.85s\tremaining: 2.77s\n",
      "24:\tlearn: 1529.0601300\ttotal: 1.93s\tremaining: 2.7s\n",
      "25:\tlearn: 1525.0794169\ttotal: 2.01s\tremaining: 2.63s\n",
      "26:\tlearn: 1516.1233461\ttotal: 2.08s\tremaining: 2.55s\n",
      "27:\tlearn: 1512.6576305\ttotal: 2.16s\tremaining: 2.47s\n",
      "28:\tlearn: 1509.5194981\ttotal: 2.24s\tremaining: 2.4s\n",
      "29:\tlearn: 1506.4350431\ttotal: 2.33s\tremaining: 2.33s\n",
      "30:\tlearn: 1504.0358819\ttotal: 2.42s\tremaining: 2.26s\n",
      "31:\tlearn: 1500.2051639\ttotal: 2.5s\tremaining: 2.18s\n",
      "32:\tlearn: 1494.7381289\ttotal: 2.57s\tremaining: 2.11s\n",
      "33:\tlearn: 1488.5707361\ttotal: 2.65s\tremaining: 2.02s\n",
      "34:\tlearn: 1480.8872634\ttotal: 2.73s\tremaining: 1.95s\n",
      "35:\tlearn: 1478.1261097\ttotal: 2.81s\tremaining: 1.87s\n",
      "36:\tlearn: 1477.3954328\ttotal: 2.88s\tremaining: 1.79s\n",
      "37:\tlearn: 1475.7058394\ttotal: 2.96s\tremaining: 1.71s\n",
      "38:\tlearn: 1471.5506701\ttotal: 3.04s\tremaining: 1.64s\n",
      "39:\tlearn: 1461.0681581\ttotal: 3.12s\tremaining: 1.56s\n",
      "40:\tlearn: 1456.7982052\ttotal: 3.2s\tremaining: 1.48s\n",
      "41:\tlearn: 1449.7504534\ttotal: 3.28s\tremaining: 1.4s\n",
      "42:\tlearn: 1445.7892476\ttotal: 3.35s\tremaining: 1.32s\n",
      "43:\tlearn: 1443.1544511\ttotal: 3.42s\tremaining: 1.24s\n",
      "44:\tlearn: 1440.0338444\ttotal: 3.49s\tremaining: 1.16s\n",
      "45:\tlearn: 1435.1411576\ttotal: 3.56s\tremaining: 1.08s\n",
      "46:\tlearn: 1430.7942074\ttotal: 3.64s\tremaining: 1.01s\n",
      "47:\tlearn: 1430.4705399\ttotal: 3.71s\tremaining: 928ms\n",
      "48:\tlearn: 1427.9811830\ttotal: 3.79s\tremaining: 852ms\n",
      "49:\tlearn: 1425.5271601\ttotal: 3.87s\tremaining: 774ms\n",
      "50:\tlearn: 1423.2403647\ttotal: 3.94s\tremaining: 696ms\n",
      "51:\tlearn: 1420.5497410\ttotal: 4.03s\tremaining: 620ms\n",
      "52:\tlearn: 1415.5795850\ttotal: 4.11s\tremaining: 543ms\n",
      "53:\tlearn: 1413.8214530\ttotal: 4.19s\tremaining: 465ms\n",
      "54:\tlearn: 1410.4432403\ttotal: 4.26s\tremaining: 387ms\n",
      "55:\tlearn: 1408.7297483\ttotal: 4.34s\tremaining: 310ms\n",
      "56:\tlearn: 1406.5147755\ttotal: 4.41s\tremaining: 232ms\n",
      "57:\tlearn: 1404.3404144\ttotal: 4.49s\tremaining: 155ms\n",
      "58:\tlearn: 1402.2961116\ttotal: 4.56s\tremaining: 77.3ms\n",
      "59:\tlearn: 1400.1125020\ttotal: 4.63s\tremaining: 0us\n",
      "[CV 2/5; 7/8] END iterations=60, learning_rate=0.5, max_depth=10; total time=   5.4s\n",
      "[CV 3/5; 7/8] START iterations=60, learning_rate=0.5, max_depth=10..............\n",
      "0:\tlearn: 3021.4829219\ttotal: 84.7ms\tremaining: 5s\n",
      "1:\tlearn: 2340.3124634\ttotal: 179ms\tremaining: 5.19s\n",
      "2:\tlearn: 2019.3928912\ttotal: 262ms\tremaining: 4.97s\n",
      "3:\tlearn: 1864.1959020\ttotal: 341ms\tremaining: 4.77s\n",
      "4:\tlearn: 1787.8395859\ttotal: 428ms\tremaining: 4.71s\n",
      "5:\tlearn: 1745.8438749\ttotal: 515ms\tremaining: 4.63s\n",
      "6:\tlearn: 1703.3282190\ttotal: 604ms\tremaining: 4.57s\n",
      "7:\tlearn: 1679.9814767\ttotal: 690ms\tremaining: 4.48s\n",
      "8:\tlearn: 1662.5926106\ttotal: 776ms\tremaining: 4.4s\n",
      "9:\tlearn: 1649.7804697\ttotal: 876ms\tremaining: 4.38s\n",
      "10:\tlearn: 1635.5841631\ttotal: 963ms\tremaining: 4.29s\n",
      "11:\tlearn: 1625.5721994\ttotal: 1.05s\tremaining: 4.19s\n",
      "12:\tlearn: 1615.9863470\ttotal: 1.13s\tremaining: 4.08s\n",
      "13:\tlearn: 1605.8478024\ttotal: 1.21s\tremaining: 3.96s\n",
      "14:\tlearn: 1598.1696352\ttotal: 1.29s\tremaining: 3.86s\n",
      "15:\tlearn: 1590.4417956\ttotal: 1.37s\tremaining: 3.78s\n",
      "16:\tlearn: 1579.2254297\ttotal: 1.45s\tremaining: 3.68s\n",
      "17:\tlearn: 1572.7314711\ttotal: 1.55s\tremaining: 3.61s\n",
      "18:\tlearn: 1564.2062665\ttotal: 1.65s\tremaining: 3.57s\n",
      "19:\tlearn: 1554.3437201\ttotal: 1.77s\tremaining: 3.53s\n",
      "20:\tlearn: 1550.7352138\ttotal: 1.86s\tremaining: 3.45s\n",
      "21:\tlearn: 1544.0745529\ttotal: 1.95s\tremaining: 3.36s\n",
      "22:\tlearn: 1539.7111672\ttotal: 2.03s\tremaining: 3.27s\n",
      "23:\tlearn: 1532.8687370\ttotal: 2.12s\tremaining: 3.19s\n",
      "24:\tlearn: 1526.4433396\ttotal: 2.21s\tremaining: 3.09s\n",
      "25:\tlearn: 1516.7850471\ttotal: 2.29s\tremaining: 2.99s\n",
      "26:\tlearn: 1512.5989887\ttotal: 2.37s\tremaining: 2.9s\n",
      "27:\tlearn: 1507.6188678\ttotal: 2.46s\tremaining: 2.81s\n",
      "28:\tlearn: 1499.2456055\ttotal: 2.56s\tremaining: 2.73s\n",
      "29:\tlearn: 1495.7931215\ttotal: 2.65s\tremaining: 2.65s\n",
      "30:\tlearn: 1485.8638093\ttotal: 2.74s\tremaining: 2.56s\n",
      "31:\tlearn: 1478.7466706\ttotal: 2.83s\tremaining: 2.48s\n",
      "32:\tlearn: 1474.6793180\ttotal: 2.91s\tremaining: 2.38s\n",
      "33:\tlearn: 1469.5835585\ttotal: 3s\tremaining: 2.29s\n",
      "34:\tlearn: 1465.1888510\ttotal: 3.08s\tremaining: 2.2s\n",
      "35:\tlearn: 1461.2336068\ttotal: 3.16s\tremaining: 2.11s\n",
      "36:\tlearn: 1457.3499841\ttotal: 3.25s\tremaining: 2.02s\n",
      "37:\tlearn: 1453.2562115\ttotal: 3.35s\tremaining: 1.94s\n",
      "38:\tlearn: 1451.0624712\ttotal: 3.43s\tremaining: 1.85s\n",
      "39:\tlearn: 1448.0054267\ttotal: 3.51s\tremaining: 1.76s\n",
      "40:\tlearn: 1443.1538108\ttotal: 3.6s\tremaining: 1.67s\n",
      "41:\tlearn: 1441.1738640\ttotal: 3.7s\tremaining: 1.59s\n",
      "42:\tlearn: 1438.4017428\ttotal: 3.8s\tremaining: 1.5s\n",
      "43:\tlearn: 1436.7237236\ttotal: 3.89s\tremaining: 1.41s\n",
      "44:\tlearn: 1431.9529382\ttotal: 3.97s\tremaining: 1.32s\n",
      "45:\tlearn: 1427.8598554\ttotal: 4.06s\tremaining: 1.24s\n",
      "46:\tlearn: 1426.7400496\ttotal: 4.15s\tremaining: 1.15s\n",
      "47:\tlearn: 1424.0951214\ttotal: 4.24s\tremaining: 1.06s\n",
      "48:\tlearn: 1420.5116194\ttotal: 4.32s\tremaining: 971ms\n",
      "49:\tlearn: 1418.5250978\ttotal: 4.4s\tremaining: 880ms\n",
      "50:\tlearn: 1417.2877070\ttotal: 4.48s\tremaining: 790ms\n",
      "51:\tlearn: 1414.1376033\ttotal: 4.56s\tremaining: 702ms\n",
      "52:\tlearn: 1410.1870678\ttotal: 4.63s\tremaining: 612ms\n",
      "53:\tlearn: 1406.9617662\ttotal: 4.71s\tremaining: 523ms\n",
      "54:\tlearn: 1405.8924896\ttotal: 4.79s\tremaining: 436ms\n",
      "55:\tlearn: 1401.6790129\ttotal: 4.86s\tremaining: 347ms\n",
      "56:\tlearn: 1398.1970310\ttotal: 4.94s\tremaining: 260ms\n",
      "57:\tlearn: 1396.5126055\ttotal: 5.01s\tremaining: 173ms\n",
      "58:\tlearn: 1394.1533440\ttotal: 5.09s\tremaining: 86.2ms\n",
      "59:\tlearn: 1391.1777525\ttotal: 5.17s\tremaining: 0us\n",
      "[CV 3/5; 7/8] END iterations=60, learning_rate=0.5, max_depth=10; total time=   6.1s\n",
      "[CV 4/5; 7/8] START iterations=60, learning_rate=0.5, max_depth=10..............\n",
      "0:\tlearn: 3025.5752717\ttotal: 77.9ms\tremaining: 4.6s\n",
      "1:\tlearn: 2351.2534391\ttotal: 164ms\tremaining: 4.75s\n",
      "2:\tlearn: 2031.7059832\ttotal: 238ms\tremaining: 4.51s\n",
      "3:\tlearn: 1872.9197126\ttotal: 317ms\tremaining: 4.44s\n",
      "4:\tlearn: 1786.8390593\ttotal: 401ms\tremaining: 4.41s\n",
      "5:\tlearn: 1741.3157484\ttotal: 476ms\tremaining: 4.28s\n",
      "6:\tlearn: 1718.1135507\ttotal: 551ms\tremaining: 4.17s\n",
      "7:\tlearn: 1700.2731414\ttotal: 633ms\tremaining: 4.12s\n",
      "8:\tlearn: 1684.1384971\ttotal: 713ms\tremaining: 4.04s\n",
      "9:\tlearn: 1672.9990545\ttotal: 797ms\tremaining: 3.98s\n",
      "10:\tlearn: 1655.1295747\ttotal: 870ms\tremaining: 3.87s\n",
      "11:\tlearn: 1636.4251403\ttotal: 940ms\tremaining: 3.76s\n",
      "12:\tlearn: 1623.5044017\ttotal: 1.01s\tremaining: 3.66s\n",
      "13:\tlearn: 1613.6891371\ttotal: 1.1s\tremaining: 3.61s\n",
      "14:\tlearn: 1603.6112502\ttotal: 1.17s\tremaining: 3.52s\n",
      "15:\tlearn: 1595.0641799\ttotal: 1.24s\tremaining: 3.42s\n",
      "16:\tlearn: 1587.7948164\ttotal: 1.32s\tremaining: 3.34s\n",
      "17:\tlearn: 1579.9498917\ttotal: 1.4s\tremaining: 3.26s\n",
      "18:\tlearn: 1571.1977942\ttotal: 1.47s\tremaining: 3.17s\n",
      "19:\tlearn: 1561.3361815\ttotal: 1.55s\tremaining: 3.1s\n",
      "20:\tlearn: 1557.9561073\ttotal: 1.62s\tremaining: 3.02s\n",
      "21:\tlearn: 1554.5610445\ttotal: 1.7s\tremaining: 2.94s\n",
      "22:\tlearn: 1548.2032757\ttotal: 1.78s\tremaining: 2.86s\n",
      "23:\tlearn: 1544.4940116\ttotal: 1.86s\tremaining: 2.78s\n",
      "24:\tlearn: 1537.7592201\ttotal: 1.94s\tremaining: 2.71s\n",
      "25:\tlearn: 1530.1202174\ttotal: 2.02s\tremaining: 2.64s\n",
      "26:\tlearn: 1527.6246515\ttotal: 2.1s\tremaining: 2.57s\n",
      "27:\tlearn: 1521.6926995\ttotal: 2.18s\tremaining: 2.49s\n",
      "28:\tlearn: 1515.3630425\ttotal: 2.26s\tremaining: 2.42s\n",
      "29:\tlearn: 1512.1084277\ttotal: 2.33s\tremaining: 2.33s\n",
      "30:\tlearn: 1505.6185210\ttotal: 2.41s\tremaining: 2.26s\n",
      "31:\tlearn: 1501.7341231\ttotal: 2.48s\tremaining: 2.17s\n",
      "32:\tlearn: 1495.0802514\ttotal: 2.56s\tremaining: 2.09s\n",
      "33:\tlearn: 1488.4373631\ttotal: 2.63s\tremaining: 2.01s\n",
      "34:\tlearn: 1478.1105469\ttotal: 2.7s\tremaining: 1.93s\n",
      "35:\tlearn: 1474.0971349\ttotal: 2.78s\tremaining: 1.85s\n",
      "36:\tlearn: 1466.2334255\ttotal: 2.86s\tremaining: 1.78s\n",
      "37:\tlearn: 1463.0926056\ttotal: 2.96s\tremaining: 1.71s\n",
      "38:\tlearn: 1461.7224201\ttotal: 3.03s\tremaining: 1.63s\n",
      "39:\tlearn: 1459.3906514\ttotal: 3.11s\tremaining: 1.55s\n",
      "40:\tlearn: 1455.8842470\ttotal: 3.18s\tremaining: 1.47s\n",
      "41:\tlearn: 1451.6565520\ttotal: 3.26s\tremaining: 1.4s\n",
      "42:\tlearn: 1448.3449936\ttotal: 3.33s\tremaining: 1.32s\n",
      "43:\tlearn: 1445.0155130\ttotal: 3.41s\tremaining: 1.24s\n",
      "44:\tlearn: 1442.9398817\ttotal: 3.5s\tremaining: 1.17s\n",
      "45:\tlearn: 1441.1234614\ttotal: 3.58s\tremaining: 1.09s\n",
      "46:\tlearn: 1436.9749952\ttotal: 3.65s\tremaining: 1.01s\n",
      "47:\tlearn: 1433.0585043\ttotal: 3.73s\tremaining: 932ms\n",
      "48:\tlearn: 1431.1802996\ttotal: 3.8s\tremaining: 854ms\n",
      "49:\tlearn: 1425.9819114\ttotal: 3.88s\tremaining: 776ms\n",
      "50:\tlearn: 1423.7813519\ttotal: 3.96s\tremaining: 699ms\n",
      "51:\tlearn: 1421.8709136\ttotal: 4.03s\tremaining: 620ms\n",
      "52:\tlearn: 1418.7319958\ttotal: 4.11s\tremaining: 543ms\n",
      "53:\tlearn: 1415.6933532\ttotal: 4.19s\tremaining: 465ms\n",
      "54:\tlearn: 1414.2952356\ttotal: 4.26s\tremaining: 387ms\n",
      "55:\tlearn: 1411.1269046\ttotal: 4.34s\tremaining: 310ms\n",
      "56:\tlearn: 1407.7626796\ttotal: 4.42s\tremaining: 233ms\n",
      "57:\tlearn: 1404.7221096\ttotal: 4.5s\tremaining: 155ms\n",
      "58:\tlearn: 1401.9168905\ttotal: 4.57s\tremaining: 77.5ms\n",
      "59:\tlearn: 1398.3034533\ttotal: 4.65s\tremaining: 0us\n",
      "[CV 4/5; 7/8] END iterations=60, learning_rate=0.5, max_depth=10; total time=   5.4s\n",
      "[CV 5/5; 7/8] START iterations=60, learning_rate=0.5, max_depth=10..............\n",
      "0:\tlearn: 3020.9882651\ttotal: 75.2ms\tremaining: 4.44s\n",
      "1:\tlearn: 2340.7094255\ttotal: 158ms\tremaining: 4.58s\n",
      "2:\tlearn: 2022.9139992\ttotal: 252ms\tremaining: 4.79s\n",
      "3:\tlearn: 1870.9836424\ttotal: 348ms\tremaining: 4.88s\n",
      "4:\tlearn: 1799.8800730\ttotal: 436ms\tremaining: 4.8s\n",
      "5:\tlearn: 1751.9413686\ttotal: 519ms\tremaining: 4.67s\n",
      "6:\tlearn: 1725.2821142\ttotal: 593ms\tremaining: 4.49s\n",
      "7:\tlearn: 1703.9490821\ttotal: 672ms\tremaining: 4.37s\n",
      "8:\tlearn: 1688.8307446\ttotal: 745ms\tremaining: 4.22s\n",
      "9:\tlearn: 1670.4728516\ttotal: 821ms\tremaining: 4.11s\n",
      "10:\tlearn: 1655.7910586\ttotal: 897ms\tremaining: 4s\n",
      "11:\tlearn: 1643.6965190\ttotal: 968ms\tremaining: 3.87s\n",
      "12:\tlearn: 1632.9692480\ttotal: 1.04s\tremaining: 3.75s\n",
      "13:\tlearn: 1620.7546590\ttotal: 1.11s\tremaining: 3.63s\n",
      "14:\tlearn: 1616.4612815\ttotal: 1.19s\tremaining: 3.56s\n",
      "15:\tlearn: 1609.6513482\ttotal: 1.26s\tremaining: 3.47s\n",
      "16:\tlearn: 1602.8543993\ttotal: 1.33s\tremaining: 3.37s\n",
      "17:\tlearn: 1591.2275165\ttotal: 1.4s\tremaining: 3.27s\n",
      "18:\tlearn: 1585.3056000\ttotal: 1.47s\tremaining: 3.17s\n",
      "19:\tlearn: 1574.9729062\ttotal: 1.54s\tremaining: 3.09s\n",
      "20:\tlearn: 1564.2718205\ttotal: 1.62s\tremaining: 3.01s\n",
      "21:\tlearn: 1556.5540624\ttotal: 1.69s\tremaining: 2.92s\n",
      "22:\tlearn: 1552.3006092\ttotal: 1.76s\tremaining: 2.84s\n",
      "23:\tlearn: 1546.3565211\ttotal: 1.83s\tremaining: 2.75s\n",
      "24:\tlearn: 1539.2545731\ttotal: 1.91s\tremaining: 2.68s\n",
      "25:\tlearn: 1531.8608734\ttotal: 2s\tremaining: 2.61s\n",
      "26:\tlearn: 1525.0688069\ttotal: 2.07s\tremaining: 2.53s\n",
      "27:\tlearn: 1520.2547341\ttotal: 2.14s\tremaining: 2.45s\n",
      "28:\tlearn: 1510.9770930\ttotal: 2.21s\tremaining: 2.37s\n",
      "29:\tlearn: 1506.4874082\ttotal: 2.29s\tremaining: 2.29s\n",
      "30:\tlearn: 1502.2411330\ttotal: 2.36s\tremaining: 2.21s\n",
      "31:\tlearn: 1499.4456608\ttotal: 2.43s\tremaining: 2.13s\n",
      "32:\tlearn: 1493.2903595\ttotal: 2.5s\tremaining: 2.05s\n",
      "33:\tlearn: 1489.4543570\ttotal: 2.58s\tremaining: 1.97s\n",
      "34:\tlearn: 1483.8574299\ttotal: 2.66s\tremaining: 1.9s\n",
      "35:\tlearn: 1478.6084499\ttotal: 2.73s\tremaining: 1.82s\n",
      "36:\tlearn: 1474.6641981\ttotal: 2.82s\tremaining: 1.75s\n",
      "37:\tlearn: 1467.9097321\ttotal: 2.89s\tremaining: 1.67s\n",
      "38:\tlearn: 1463.6689617\ttotal: 2.96s\tremaining: 1.59s\n",
      "39:\tlearn: 1461.0350509\ttotal: 3.04s\tremaining: 1.52s\n",
      "40:\tlearn: 1457.4694627\ttotal: 3.12s\tremaining: 1.45s\n",
      "41:\tlearn: 1451.2575559\ttotal: 3.21s\tremaining: 1.37s\n",
      "42:\tlearn: 1447.7725468\ttotal: 3.28s\tremaining: 1.3s\n",
      "43:\tlearn: 1444.6963708\ttotal: 3.35s\tremaining: 1.22s\n",
      "44:\tlearn: 1443.1504327\ttotal: 3.43s\tremaining: 1.14s\n",
      "45:\tlearn: 1439.0180018\ttotal: 3.5s\tremaining: 1.07s\n",
      "46:\tlearn: 1434.3927090\ttotal: 3.58s\tremaining: 991ms\n",
      "47:\tlearn: 1431.2353760\ttotal: 3.65s\tremaining: 913ms\n",
      "48:\tlearn: 1429.8730431\ttotal: 3.73s\tremaining: 836ms\n",
      "49:\tlearn: 1428.0441754\ttotal: 3.8s\tremaining: 760ms\n",
      "50:\tlearn: 1425.6272492\ttotal: 3.87s\tremaining: 683ms\n",
      "51:\tlearn: 1423.7663848\ttotal: 3.95s\tremaining: 607ms\n",
      "52:\tlearn: 1421.6971091\ttotal: 4.02s\tremaining: 531ms\n",
      "53:\tlearn: 1420.0082162\ttotal: 4.09s\tremaining: 455ms\n",
      "54:\tlearn: 1417.3779891\ttotal: 4.17s\tremaining: 379ms\n",
      "55:\tlearn: 1413.2508306\ttotal: 4.25s\tremaining: 303ms\n",
      "56:\tlearn: 1409.5817205\ttotal: 4.31s\tremaining: 227ms\n",
      "57:\tlearn: 1404.4458069\ttotal: 4.38s\tremaining: 151ms\n",
      "58:\tlearn: 1402.2091485\ttotal: 4.46s\tremaining: 75.5ms\n",
      "59:\tlearn: 1399.6612700\ttotal: 4.53s\tremaining: 0us\n",
      "[CV 5/5; 7/8] END iterations=60, learning_rate=0.5, max_depth=10; total time=   5.4s\n",
      "[CV 1/5; 8/8] START iterations=60, learning_rate=0.5, max_depth=15..............\n",
      "0:\tlearn: 2998.8906850\ttotal: 523ms\tremaining: 30.8s\n",
      "1:\tlearn: 2306.5677721\ttotal: 1.03s\tremaining: 30s\n",
      "2:\tlearn: 1942.1611282\ttotal: 1.55s\tremaining: 29.4s\n",
      "3:\tlearn: 1757.4947755\ttotal: 2.07s\tremaining: 29s\n",
      "4:\tlearn: 1677.5920368\ttotal: 2.58s\tremaining: 28.4s\n",
      "5:\tlearn: 1603.9102570\ttotal: 3.13s\tremaining: 28.1s\n",
      "6:\tlearn: 1566.8163828\ttotal: 3.65s\tremaining: 27.6s\n",
      "7:\tlearn: 1534.0533651\ttotal: 4.2s\tremaining: 27.3s\n",
      "8:\tlearn: 1512.5036963\ttotal: 4.72s\tremaining: 26.8s\n",
      "9:\tlearn: 1496.5886789\ttotal: 5.3s\tremaining: 26.5s\n",
      "10:\tlearn: 1482.1399807\ttotal: 5.82s\tremaining: 25.9s\n",
      "11:\tlearn: 1467.1659722\ttotal: 6.33s\tremaining: 25.3s\n",
      "12:\tlearn: 1450.1913681\ttotal: 6.91s\tremaining: 25s\n",
      "13:\tlearn: 1428.3753931\ttotal: 7.44s\tremaining: 24.5s\n",
      "14:\tlearn: 1419.0140135\ttotal: 7.97s\tremaining: 23.9s\n",
      "15:\tlearn: 1411.4227666\ttotal: 8.48s\tremaining: 23.3s\n",
      "16:\tlearn: 1396.5873268\ttotal: 9.03s\tremaining: 22.8s\n",
      "17:\tlearn: 1383.7525746\ttotal: 9.56s\tremaining: 22.3s\n",
      "18:\tlearn: 1383.7496905\ttotal: 9.59s\tremaining: 20.7s\n",
      "19:\tlearn: 1366.5482468\ttotal: 10.1s\tremaining: 20.3s\n",
      "20:\tlearn: 1355.5036240\ttotal: 10.7s\tremaining: 19.8s\n",
      "21:\tlearn: 1339.0734746\ttotal: 11.2s\tremaining: 19.4s\n",
      "22:\tlearn: 1322.9719298\ttotal: 11.8s\tremaining: 18.9s\n",
      "23:\tlearn: 1312.0912462\ttotal: 12.4s\tremaining: 18.6s\n",
      "24:\tlearn: 1303.2760556\ttotal: 12.9s\tremaining: 18.1s\n",
      "25:\tlearn: 1293.3136731\ttotal: 13.5s\tremaining: 17.7s\n",
      "26:\tlearn: 1288.9604154\ttotal: 14.1s\tremaining: 17.2s\n",
      "27:\tlearn: 1278.7196635\ttotal: 14.6s\tremaining: 16.7s\n",
      "28:\tlearn: 1270.9495735\ttotal: 15.2s\tremaining: 16.2s\n",
      "29:\tlearn: 1259.8663253\ttotal: 15.7s\tremaining: 15.7s\n",
      "30:\tlearn: 1251.0447193\ttotal: 16.2s\tremaining: 15.2s\n",
      "31:\tlearn: 1247.3815778\ttotal: 16.7s\tremaining: 14.7s\n",
      "32:\tlearn: 1237.8586221\ttotal: 17.3s\tremaining: 14.1s\n",
      "33:\tlearn: 1233.3511361\ttotal: 17.8s\tremaining: 13.6s\n",
      "34:\tlearn: 1229.8942162\ttotal: 18.3s\tremaining: 13.1s\n",
      "35:\tlearn: 1219.4244506\ttotal: 18.8s\tremaining: 12.6s\n",
      "36:\tlearn: 1212.6041794\ttotal: 19.4s\tremaining: 12s\n",
      "37:\tlearn: 1204.9354825\ttotal: 19.9s\tremaining: 11.5s\n",
      "38:\tlearn: 1198.6180555\ttotal: 20.4s\tremaining: 11s\n",
      "39:\tlearn: 1193.7001675\ttotal: 20.9s\tremaining: 10.5s\n",
      "40:\tlearn: 1185.4897688\ttotal: 21.4s\tremaining: 9.93s\n",
      "41:\tlearn: 1181.8259120\ttotal: 22s\tremaining: 9.41s\n",
      "42:\tlearn: 1175.6507715\ttotal: 22.5s\tremaining: 8.9s\n",
      "43:\tlearn: 1170.3601100\ttotal: 23s\tremaining: 8.38s\n",
      "44:\tlearn: 1170.3474148\ttotal: 23.1s\tremaining: 7.7s\n",
      "45:\tlearn: 1166.6872361\ttotal: 23.6s\tremaining: 7.18s\n",
      "46:\tlearn: 1160.4475521\ttotal: 24.1s\tremaining: 6.67s\n",
      "47:\tlearn: 1154.8819525\ttotal: 24.6s\tremaining: 6.16s\n",
      "48:\tlearn: 1151.4956940\ttotal: 25.2s\tremaining: 5.66s\n",
      "49:\tlearn: 1146.4691341\ttotal: 25.7s\tremaining: 5.14s\n",
      "50:\tlearn: 1141.4745627\ttotal: 26.2s\tremaining: 4.62s\n",
      "51:\tlearn: 1138.9358868\ttotal: 26.8s\tremaining: 4.12s\n",
      "52:\tlearn: 1136.9764995\ttotal: 27.3s\tremaining: 3.6s\n",
      "53:\tlearn: 1133.1566648\ttotal: 27.8s\tremaining: 3.09s\n",
      "54:\tlearn: 1128.2240234\ttotal: 28.3s\tremaining: 2.57s\n",
      "55:\tlearn: 1124.1288162\ttotal: 28.8s\tremaining: 2.06s\n",
      "56:\tlearn: 1118.5029446\ttotal: 29.4s\tremaining: 1.54s\n",
      "57:\tlearn: 1116.8017954\ttotal: 29.9s\tremaining: 1.03s\n",
      "58:\tlearn: 1112.7426054\ttotal: 30.4s\tremaining: 515ms\n",
      "59:\tlearn: 1109.3960089\ttotal: 30.9s\tremaining: 0us\n",
      "[CV 1/5; 8/8] END iterations=60, learning_rate=0.5, max_depth=15; total time=  31.9s\n",
      "[CV 2/5; 8/8] START iterations=60, learning_rate=0.5, max_depth=15..............\n",
      "0:\tlearn: 3025.2304074\ttotal: 116ms\tremaining: 6.85s\n",
      "1:\tlearn: 2323.0966303\ttotal: 864ms\tremaining: 25.1s\n",
      "2:\tlearn: 1972.2994291\ttotal: 1.37s\tremaining: 26.1s\n",
      "3:\tlearn: 1797.9123369\ttotal: 1.88s\tremaining: 26.3s\n",
      "4:\tlearn: 1709.5874946\ttotal: 2.38s\tremaining: 26.1s\n",
      "5:\tlearn: 1636.7644192\ttotal: 2.9s\tremaining: 26.1s\n",
      "6:\tlearn: 1594.8383668\ttotal: 3.46s\tremaining: 26.2s\n",
      "7:\tlearn: 1570.2231814\ttotal: 3.97s\tremaining: 25.8s\n",
      "8:\tlearn: 1539.2255837\ttotal: 4.49s\tremaining: 25.4s\n",
      "9:\tlearn: 1524.8596480\ttotal: 5.02s\tremaining: 25.1s\n",
      "10:\tlearn: 1506.7806556\ttotal: 5.53s\tremaining: 24.6s\n",
      "11:\tlearn: 1493.5889430\ttotal: 6.04s\tremaining: 24.2s\n",
      "12:\tlearn: 1476.7256460\ttotal: 6.56s\tremaining: 23.7s\n",
      "13:\tlearn: 1461.8934088\ttotal: 7.08s\tremaining: 23.3s\n",
      "14:\tlearn: 1440.0163793\ttotal: 7.58s\tremaining: 22.8s\n",
      "15:\tlearn: 1419.1204524\ttotal: 8.11s\tremaining: 22.3s\n",
      "16:\tlearn: 1409.8599715\ttotal: 8.64s\tremaining: 21.9s\n",
      "17:\tlearn: 1401.7901666\ttotal: 9.14s\tremaining: 21.3s\n",
      "18:\tlearn: 1394.3258951\ttotal: 9.65s\tremaining: 20.8s\n",
      "19:\tlearn: 1384.8632718\ttotal: 10.2s\tremaining: 20.3s\n",
      "20:\tlearn: 1376.9469088\ttotal: 10.7s\tremaining: 19.8s\n",
      "21:\tlearn: 1366.7354565\ttotal: 11.2s\tremaining: 19.4s\n",
      "22:\tlearn: 1352.7332347\ttotal: 11.8s\tremaining: 18.9s\n",
      "23:\tlearn: 1335.5388437\ttotal: 12.4s\tremaining: 18.5s\n",
      "24:\tlearn: 1321.3293665\ttotal: 12.9s\tremaining: 18.1s\n",
      "25:\tlearn: 1310.9561522\ttotal: 13.5s\tremaining: 17.7s\n",
      "26:\tlearn: 1298.8705683\ttotal: 14.1s\tremaining: 17.3s\n",
      "27:\tlearn: 1290.0278227\ttotal: 14.7s\tremaining: 16.8s\n",
      "28:\tlearn: 1281.9228906\ttotal: 15.3s\tremaining: 16.3s\n",
      "29:\tlearn: 1268.5860520\ttotal: 15.8s\tremaining: 15.8s\n",
      "30:\tlearn: 1260.2331304\ttotal: 16.3s\tremaining: 15.3s\n",
      "31:\tlearn: 1251.0255270\ttotal: 16.9s\tremaining: 14.8s\n",
      "32:\tlearn: 1243.6531161\ttotal: 17.4s\tremaining: 14.2s\n",
      "33:\tlearn: 1236.4637443\ttotal: 17.9s\tremaining: 13.7s\n",
      "34:\tlearn: 1228.7465728\ttotal: 18.4s\tremaining: 13.2s\n",
      "35:\tlearn: 1228.0219802\ttotal: 18.5s\tremaining: 12.3s\n",
      "36:\tlearn: 1222.2075192\ttotal: 19s\tremaining: 11.8s\n",
      "37:\tlearn: 1216.5957871\ttotal: 19.6s\tremaining: 11.3s\n",
      "38:\tlearn: 1205.2334480\ttotal: 20.1s\tremaining: 10.8s\n",
      "39:\tlearn: 1194.0820838\ttotal: 20.7s\tremaining: 10.4s\n",
      "40:\tlearn: 1182.9104353\ttotal: 21.3s\tremaining: 9.86s\n",
      "41:\tlearn: 1175.3205610\ttotal: 21.8s\tremaining: 9.35s\n",
      "42:\tlearn: 1170.3033655\ttotal: 22.3s\tremaining: 8.83s\n",
      "43:\tlearn: 1166.7472373\ttotal: 22.8s\tremaining: 8.31s\n",
      "44:\tlearn: 1160.9545426\ttotal: 23.4s\tremaining: 7.8s\n",
      "45:\tlearn: 1159.0668216\ttotal: 23.9s\tremaining: 7.28s\n",
      "46:\tlearn: 1154.8206810\ttotal: 24.4s\tremaining: 6.76s\n",
      "47:\tlearn: 1152.4079661\ttotal: 25s\tremaining: 6.24s\n",
      "48:\tlearn: 1149.0937905\ttotal: 25.5s\tremaining: 5.72s\n",
      "49:\tlearn: 1141.9324938\ttotal: 26s\tremaining: 5.2s\n",
      "50:\tlearn: 1138.2403699\ttotal: 26.5s\tremaining: 4.68s\n",
      "51:\tlearn: 1133.9158133\ttotal: 27.1s\tremaining: 4.16s\n",
      "52:\tlearn: 1133.7818120\ttotal: 27.1s\tremaining: 3.58s\n",
      "53:\tlearn: 1131.4880675\ttotal: 27.6s\tremaining: 3.07s\n",
      "54:\tlearn: 1127.2685183\ttotal: 28.2s\tremaining: 2.56s\n",
      "55:\tlearn: 1122.0890634\ttotal: 28.7s\tremaining: 2.05s\n",
      "56:\tlearn: 1118.8079338\ttotal: 29.2s\tremaining: 1.53s\n",
      "57:\tlearn: 1115.3796155\ttotal: 29.7s\tremaining: 1.02s\n",
      "58:\tlearn: 1108.7464269\ttotal: 30.2s\tremaining: 512ms\n",
      "59:\tlearn: 1102.2123210\ttotal: 30.7s\tremaining: 0us\n",
      "[CV 2/5; 8/8] END iterations=60, learning_rate=0.5, max_depth=15; total time=  31.5s\n",
      "[CV 3/5; 8/8] START iterations=60, learning_rate=0.5, max_depth=15..............\n",
      "0:\tlearn: 2970.3575904\ttotal: 516ms\tremaining: 30.4s\n",
      "1:\tlearn: 2277.6583392\ttotal: 1.02s\tremaining: 29.6s\n",
      "2:\tlearn: 1913.1901236\ttotal: 1.53s\tremaining: 29.1s\n",
      "3:\tlearn: 1757.7123569\ttotal: 2.05s\tremaining: 28.8s\n",
      "4:\tlearn: 1677.2773458\ttotal: 2.56s\tremaining: 28.2s\n",
      "5:\tlearn: 1597.9297579\ttotal: 3.09s\tremaining: 27.8s\n",
      "6:\tlearn: 1557.1593061\ttotal: 3.62s\tremaining: 27.4s\n",
      "7:\tlearn: 1524.2821727\ttotal: 4.11s\tremaining: 26.7s\n",
      "8:\tlearn: 1507.9938954\ttotal: 4.62s\tremaining: 26.2s\n",
      "9:\tlearn: 1492.8138435\ttotal: 5.12s\tremaining: 25.6s\n",
      "10:\tlearn: 1480.5414345\ttotal: 5.62s\tremaining: 25s\n",
      "11:\tlearn: 1465.7721979\ttotal: 6.12s\tremaining: 24.5s\n",
      "12:\tlearn: 1444.2173299\ttotal: 6.64s\tremaining: 24s\n",
      "13:\tlearn: 1436.5613659\ttotal: 7.16s\tremaining: 23.5s\n",
      "14:\tlearn: 1423.9311810\ttotal: 7.67s\tremaining: 23s\n",
      "15:\tlearn: 1411.8959491\ttotal: 8.22s\tremaining: 22.6s\n",
      "16:\tlearn: 1400.6885040\ttotal: 8.79s\tremaining: 22.2s\n",
      "17:\tlearn: 1389.4051012\ttotal: 9.37s\tremaining: 21.9s\n",
      "18:\tlearn: 1375.5631618\ttotal: 9.93s\tremaining: 21.4s\n",
      "19:\tlearn: 1362.7131352\ttotal: 10.5s\tremaining: 21s\n",
      "20:\tlearn: 1353.4780727\ttotal: 11s\tremaining: 20.5s\n",
      "21:\tlearn: 1340.0383687\ttotal: 11.6s\tremaining: 20s\n",
      "22:\tlearn: 1329.8817471\ttotal: 12.1s\tremaining: 19.5s\n",
      "23:\tlearn: 1318.4858535\ttotal: 12.6s\tremaining: 19s\n",
      "24:\tlearn: 1300.0882749\ttotal: 13.2s\tremaining: 18.4s\n",
      "25:\tlearn: 1289.0084208\ttotal: 13.7s\tremaining: 18s\n",
      "26:\tlearn: 1278.8338389\ttotal: 14.3s\tremaining: 17.5s\n",
      "27:\tlearn: 1271.7437873\ttotal: 14.8s\tremaining: 16.9s\n",
      "28:\tlearn: 1261.9134775\ttotal: 15.3s\tremaining: 16.4s\n",
      "29:\tlearn: 1249.0691541\ttotal: 15.9s\tremaining: 15.9s\n",
      "30:\tlearn: 1241.4208752\ttotal: 16.5s\tremaining: 15.4s\n",
      "31:\tlearn: 1236.6207579\ttotal: 17s\tremaining: 14.9s\n",
      "32:\tlearn: 1228.0083723\ttotal: 17.5s\tremaining: 14.3s\n",
      "33:\tlearn: 1221.8821168\ttotal: 18.1s\tremaining: 13.8s\n",
      "34:\tlearn: 1218.3232709\ttotal: 18.6s\tremaining: 13.3s\n",
      "35:\tlearn: 1212.4568876\ttotal: 19.2s\tremaining: 12.8s\n",
      "36:\tlearn: 1206.0561983\ttotal: 19.7s\tremaining: 12.3s\n",
      "37:\tlearn: 1201.9597836\ttotal: 20.3s\tremaining: 11.8s\n",
      "38:\tlearn: 1197.1416569\ttotal: 20.9s\tremaining: 11.3s\n",
      "39:\tlearn: 1193.5162659\ttotal: 21.5s\tremaining: 10.8s\n",
      "40:\tlearn: 1185.3973176\ttotal: 22.1s\tremaining: 10.2s\n",
      "41:\tlearn: 1175.5325568\ttotal: 22.6s\tremaining: 9.68s\n",
      "42:\tlearn: 1169.8493618\ttotal: 23.1s\tremaining: 9.13s\n",
      "43:\tlearn: 1164.2598859\ttotal: 23.6s\tremaining: 8.6s\n",
      "44:\tlearn: 1159.8855907\ttotal: 24.1s\tremaining: 8.05s\n",
      "45:\tlearn: 1153.9683204\ttotal: 24.7s\tremaining: 7.51s\n",
      "46:\tlearn: 1150.1514109\ttotal: 25.2s\tremaining: 6.96s\n",
      "47:\tlearn: 1146.8785570\ttotal: 25.7s\tremaining: 6.42s\n",
      "48:\tlearn: 1141.6440327\ttotal: 26.2s\tremaining: 5.89s\n",
      "49:\tlearn: 1134.3222956\ttotal: 26.8s\tremaining: 5.35s\n",
      "50:\tlearn: 1129.0724753\ttotal: 27.3s\tremaining: 4.82s\n",
      "51:\tlearn: 1125.4913807\ttotal: 27.8s\tremaining: 4.28s\n",
      "52:\tlearn: 1115.1810806\ttotal: 28.4s\tremaining: 3.75s\n",
      "53:\tlearn: 1113.4210598\ttotal: 28.9s\tremaining: 3.21s\n",
      "54:\tlearn: 1107.7145396\ttotal: 29.4s\tremaining: 2.67s\n",
      "55:\tlearn: 1103.9835385\ttotal: 29.9s\tremaining: 2.14s\n",
      "56:\tlearn: 1101.9978831\ttotal: 30.5s\tremaining: 1.61s\n",
      "57:\tlearn: 1098.3692071\ttotal: 31s\tremaining: 1.07s\n",
      "58:\tlearn: 1093.8673159\ttotal: 31.6s\tremaining: 535ms\n",
      "59:\tlearn: 1091.5666628\ttotal: 32.1s\tremaining: 0us\n",
      "[CV 3/5; 8/8] END iterations=60, learning_rate=0.5, max_depth=15; total time=  33.0s\n",
      "[CV 4/5; 8/8] START iterations=60, learning_rate=0.5, max_depth=15..............\n",
      "0:\tlearn: 3001.0921581\ttotal: 518ms\tremaining: 30.5s\n",
      "1:\tlearn: 2299.5414842\ttotal: 1.04s\tremaining: 30.1s\n",
      "2:\tlearn: 1944.1203753\ttotal: 1.56s\tremaining: 29.6s\n",
      "3:\tlearn: 1765.5126132\ttotal: 2.06s\tremaining: 28.8s\n",
      "4:\tlearn: 1661.6437440\ttotal: 2.59s\tremaining: 28.5s\n",
      "5:\tlearn: 1601.6232312\ttotal: 3.1s\tremaining: 27.9s\n",
      "6:\tlearn: 1566.6345195\ttotal: 3.61s\tremaining: 27.4s\n",
      "7:\tlearn: 1533.7821593\ttotal: 4.13s\tremaining: 26.9s\n",
      "8:\tlearn: 1516.5207710\ttotal: 4.65s\tremaining: 26.4s\n",
      "9:\tlearn: 1500.8914828\ttotal: 5.16s\tremaining: 25.8s\n",
      "10:\tlearn: 1487.2684891\ttotal: 5.69s\tremaining: 25.4s\n",
      "11:\tlearn: 1462.4480678\ttotal: 6.21s\tremaining: 24.8s\n",
      "12:\tlearn: 1446.2998187\ttotal: 6.75s\tremaining: 24.4s\n",
      "13:\tlearn: 1436.5672277\ttotal: 7.3s\tremaining: 24s\n",
      "14:\tlearn: 1423.1218227\ttotal: 7.87s\tremaining: 23.6s\n",
      "15:\tlearn: 1410.2721630\ttotal: 8.44s\tremaining: 23.2s\n",
      "16:\tlearn: 1399.2367083\ttotal: 9.08s\tremaining: 23s\n",
      "17:\tlearn: 1391.4342840\ttotal: 9.66s\tremaining: 22.5s\n",
      "18:\tlearn: 1384.3576167\ttotal: 10.2s\tremaining: 22.1s\n",
      "19:\tlearn: 1377.5696702\ttotal: 10.8s\tremaining: 21.6s\n",
      "20:\tlearn: 1362.0484823\ttotal: 11.3s\tremaining: 21.1s\n",
      "21:\tlearn: 1351.9940680\ttotal: 11.9s\tremaining: 20.5s\n",
      "22:\tlearn: 1343.5189913\ttotal: 12.4s\tremaining: 20s\n",
      "23:\tlearn: 1337.3616481\ttotal: 12.9s\tremaining: 19.4s\n",
      "24:\tlearn: 1332.2609484\ttotal: 13.5s\tremaining: 18.9s\n",
      "25:\tlearn: 1323.7164179\ttotal: 14s\tremaining: 18.3s\n",
      "26:\tlearn: 1316.3067396\ttotal: 14.5s\tremaining: 17.7s\n",
      "27:\tlearn: 1305.4340229\ttotal: 15.1s\tremaining: 17.2s\n",
      "28:\tlearn: 1294.3438073\ttotal: 15.6s\tremaining: 16.7s\n",
      "29:\tlearn: 1282.2972264\ttotal: 16.2s\tremaining: 16.2s\n",
      "30:\tlearn: 1276.9195547\ttotal: 16.7s\tremaining: 15.6s\n",
      "31:\tlearn: 1270.2866520\ttotal: 17.2s\tremaining: 15.1s\n",
      "32:\tlearn: 1252.5501058\ttotal: 17.8s\tremaining: 14.5s\n",
      "33:\tlearn: 1245.2478348\ttotal: 18.3s\tremaining: 14s\n",
      "34:\tlearn: 1237.1662755\ttotal: 18.9s\tremaining: 13.5s\n",
      "35:\tlearn: 1227.2413127\ttotal: 19.4s\tremaining: 12.9s\n",
      "36:\tlearn: 1219.9412334\ttotal: 19.9s\tremaining: 12.4s\n",
      "37:\tlearn: 1210.1208035\ttotal: 20.5s\tremaining: 11.8s\n",
      "38:\tlearn: 1206.4206683\ttotal: 21s\tremaining: 11.3s\n",
      "39:\tlearn: 1201.6103679\ttotal: 21.5s\tremaining: 10.8s\n",
      "40:\tlearn: 1195.2134413\ttotal: 22s\tremaining: 10.2s\n",
      "41:\tlearn: 1188.1871956\ttotal: 22.6s\tremaining: 9.67s\n",
      "42:\tlearn: 1182.7328781\ttotal: 23.1s\tremaining: 9.13s\n",
      "43:\tlearn: 1174.8384895\ttotal: 23.7s\tremaining: 8.6s\n",
      "44:\tlearn: 1169.0493501\ttotal: 24.2s\tremaining: 8.07s\n",
      "45:\tlearn: 1164.4169127\ttotal: 24.7s\tremaining: 7.53s\n",
      "46:\tlearn: 1153.3199303\ttotal: 25.3s\tremaining: 6.99s\n",
      "47:\tlearn: 1149.5023932\ttotal: 25.8s\tremaining: 6.45s\n",
      "48:\tlearn: 1144.1631244\ttotal: 26.3s\tremaining: 5.91s\n",
      "49:\tlearn: 1141.0208628\ttotal: 26.8s\tremaining: 5.37s\n",
      "50:\tlearn: 1135.7619044\ttotal: 27.4s\tremaining: 4.83s\n",
      "51:\tlearn: 1129.5316187\ttotal: 28s\tremaining: 4.3s\n",
      "52:\tlearn: 1123.2403990\ttotal: 28.5s\tremaining: 3.76s\n",
      "53:\tlearn: 1121.2673636\ttotal: 29s\tremaining: 3.23s\n",
      "54:\tlearn: 1119.0162505\ttotal: 29.5s\tremaining: 2.68s\n",
      "55:\tlearn: 1116.7762842\ttotal: 30.1s\tremaining: 2.15s\n",
      "56:\tlearn: 1113.4251138\ttotal: 30.6s\tremaining: 1.61s\n",
      "57:\tlearn: 1108.3292671\ttotal: 31.1s\tremaining: 1.07s\n",
      "58:\tlearn: 1104.3018628\ttotal: 31.6s\tremaining: 535ms\n",
      "59:\tlearn: 1101.8773352\ttotal: 32.1s\tremaining: 0us\n",
      "[CV 4/5; 8/8] END iterations=60, learning_rate=0.5, max_depth=15; total time=  32.9s\n",
      "[CV 5/5; 8/8] START iterations=60, learning_rate=0.5, max_depth=15..............\n",
      "0:\tlearn: 2997.7637066\ttotal: 505ms\tremaining: 29.8s\n",
      "1:\tlearn: 2296.6356212\ttotal: 1.08s\tremaining: 31.2s\n",
      "2:\tlearn: 1942.6699977\ttotal: 1.6s\tremaining: 30.4s\n",
      "3:\tlearn: 1761.0865809\ttotal: 2.15s\tremaining: 30.1s\n",
      "4:\tlearn: 1679.8681235\ttotal: 2.71s\tremaining: 29.8s\n",
      "5:\tlearn: 1615.8005073\ttotal: 3.26s\tremaining: 29.3s\n",
      "6:\tlearn: 1572.0880611\ttotal: 3.8s\tremaining: 28.7s\n",
      "7:\tlearn: 1548.5407829\ttotal: 4.34s\tremaining: 28.2s\n",
      "8:\tlearn: 1526.4721097\ttotal: 4.9s\tremaining: 27.8s\n",
      "9:\tlearn: 1509.6154034\ttotal: 5.44s\tremaining: 27.2s\n",
      "10:\tlearn: 1485.4791853\ttotal: 6.03s\tremaining: 26.9s\n",
      "11:\tlearn: 1466.0921027\ttotal: 6.54s\tremaining: 26.2s\n",
      "12:\tlearn: 1454.3865413\ttotal: 7.08s\tremaining: 25.6s\n",
      "13:\tlearn: 1441.0243272\ttotal: 7.62s\tremaining: 25s\n",
      "14:\tlearn: 1424.4665738\ttotal: 8.16s\tremaining: 24.5s\n",
      "15:\tlearn: 1422.9179760\ttotal: 8.21s\tremaining: 22.6s\n",
      "16:\tlearn: 1414.7109049\ttotal: 8.73s\tremaining: 22.1s\n",
      "17:\tlearn: 1404.1020669\ttotal: 9.23s\tremaining: 21.5s\n",
      "18:\tlearn: 1386.2494948\ttotal: 9.76s\tremaining: 21.1s\n",
      "19:\tlearn: 1371.4034846\ttotal: 10.3s\tremaining: 20.6s\n",
      "20:\tlearn: 1361.9569159\ttotal: 10.8s\tremaining: 20.1s\n",
      "21:\tlearn: 1348.9440446\ttotal: 11.3s\tremaining: 19.6s\n",
      "22:\tlearn: 1335.1311550\ttotal: 11.9s\tremaining: 19.1s\n",
      "23:\tlearn: 1326.5670447\ttotal: 12.4s\tremaining: 18.5s\n",
      "24:\tlearn: 1322.0354339\ttotal: 12.9s\tremaining: 18s\n",
      "25:\tlearn: 1309.0500210\ttotal: 13.4s\tremaining: 17.5s\n",
      "26:\tlearn: 1302.0336396\ttotal: 13.9s\tremaining: 17s\n",
      "27:\tlearn: 1292.9888808\ttotal: 14.4s\tremaining: 16.4s\n",
      "28:\tlearn: 1288.8402107\ttotal: 14.9s\tremaining: 15.9s\n",
      "29:\tlearn: 1276.6757817\ttotal: 15.4s\tremaining: 15.4s\n",
      "30:\tlearn: 1268.3513905\ttotal: 16s\tremaining: 15s\n",
      "31:\tlearn: 1263.5237061\ttotal: 16.5s\tremaining: 14.5s\n",
      "32:\tlearn: 1257.8410497\ttotal: 17s\tremaining: 13.9s\n",
      "33:\tlearn: 1251.3295848\ttotal: 17.6s\tremaining: 13.4s\n",
      "34:\tlearn: 1240.3838800\ttotal: 18.1s\tremaining: 12.9s\n",
      "35:\tlearn: 1232.0733963\ttotal: 18.6s\tremaining: 12.4s\n",
      "36:\tlearn: 1225.9992829\ttotal: 19.1s\tremaining: 11.9s\n",
      "37:\tlearn: 1217.8006078\ttotal: 19.6s\tremaining: 11.3s\n",
      "38:\tlearn: 1213.3627904\ttotal: 20.1s\tremaining: 10.8s\n",
      "39:\tlearn: 1207.5657161\ttotal: 20.6s\tremaining: 10.3s\n",
      "40:\tlearn: 1201.9095017\ttotal: 21.2s\tremaining: 9.8s\n",
      "41:\tlearn: 1199.7453201\ttotal: 21.7s\tremaining: 9.3s\n",
      "42:\tlearn: 1190.7982615\ttotal: 22.2s\tremaining: 8.78s\n",
      "43:\tlearn: 1186.2235832\ttotal: 22.7s\tremaining: 8.26s\n",
      "44:\tlearn: 1182.9941766\ttotal: 23.2s\tremaining: 7.74s\n",
      "45:\tlearn: 1174.8182647\ttotal: 23.7s\tremaining: 7.22s\n",
      "46:\tlearn: 1171.2912418\ttotal: 24.2s\tremaining: 6.7s\n",
      "47:\tlearn: 1165.7055686\ttotal: 24.8s\tremaining: 6.2s\n",
      "48:\tlearn: 1158.8573289\ttotal: 25.3s\tremaining: 5.69s\n",
      "49:\tlearn: 1149.7476334\ttotal: 25.9s\tremaining: 5.18s\n",
      "50:\tlearn: 1147.7387776\ttotal: 26.4s\tremaining: 4.66s\n",
      "51:\tlearn: 1143.0513509\ttotal: 27s\tremaining: 4.15s\n",
      "52:\tlearn: 1140.6695509\ttotal: 27.5s\tremaining: 3.63s\n",
      "53:\tlearn: 1134.9251089\ttotal: 28.1s\tremaining: 3.12s\n",
      "54:\tlearn: 1129.5096441\ttotal: 28.6s\tremaining: 2.6s\n",
      "55:\tlearn: 1126.0911480\ttotal: 29.1s\tremaining: 2.08s\n",
      "56:\tlearn: 1123.4187609\ttotal: 29.7s\tremaining: 1.56s\n",
      "57:\tlearn: 1120.2549346\ttotal: 30.2s\tremaining: 1.04s\n",
      "58:\tlearn: 1115.4097996\ttotal: 30.7s\tremaining: 521ms\n",
      "59:\tlearn: 1110.6934408\ttotal: 31.2s\tremaining: 0us\n",
      "[CV 5/5; 8/8] END iterations=60, learning_rate=0.5, max_depth=15; total time=  32.2s\n",
      "0:\tlearn: 3910.7300777\ttotal: 274ms\tremaining: 16.1s\n",
      "1:\tlearn: 3368.4934837\ttotal: 828ms\tremaining: 24s\n",
      "2:\tlearn: 2985.4107460\ttotal: 936ms\tremaining: 17.8s\n",
      "3:\tlearn: 2678.6833623\ttotal: 1.49s\tremaining: 20.8s\n",
      "4:\tlearn: 2443.0559113\ttotal: 2.11s\tremaining: 23.2s\n",
      "5:\tlearn: 2240.3856529\ttotal: 2.71s\tremaining: 24.4s\n",
      "6:\tlearn: 2082.1886963\ttotal: 3.31s\tremaining: 25.1s\n",
      "7:\tlearn: 1966.0446728\ttotal: 3.95s\tremaining: 25.7s\n",
      "8:\tlearn: 1869.0315652\ttotal: 4.58s\tremaining: 25.9s\n",
      "9:\tlearn: 1799.6720866\ttotal: 5.18s\tremaining: 25.9s\n",
      "10:\tlearn: 1745.8356402\ttotal: 5.78s\tremaining: 25.8s\n",
      "11:\tlearn: 1707.3531548\ttotal: 6.36s\tremaining: 25.4s\n",
      "12:\tlearn: 1676.9048303\ttotal: 6.92s\tremaining: 25s\n",
      "13:\tlearn: 1651.1323181\ttotal: 7.49s\tremaining: 24.6s\n",
      "14:\tlearn: 1618.3566470\ttotal: 8.06s\tremaining: 24.2s\n",
      "15:\tlearn: 1591.2127974\ttotal: 8.62s\tremaining: 23.7s\n",
      "16:\tlearn: 1570.0445248\ttotal: 9.17s\tremaining: 23.2s\n",
      "17:\tlearn: 1554.5700693\ttotal: 9.77s\tremaining: 22.8s\n",
      "18:\tlearn: 1540.2302533\ttotal: 10.3s\tremaining: 22.3s\n",
      "19:\tlearn: 1530.6186731\ttotal: 10.9s\tremaining: 21.8s\n",
      "20:\tlearn: 1518.9138044\ttotal: 11.5s\tremaining: 21.3s\n",
      "21:\tlearn: 1509.1543135\ttotal: 12s\tremaining: 20.8s\n",
      "22:\tlearn: 1501.8624823\ttotal: 12.6s\tremaining: 20.3s\n",
      "23:\tlearn: 1494.0684840\ttotal: 13.2s\tremaining: 19.8s\n",
      "24:\tlearn: 1487.6326741\ttotal: 13.9s\tremaining: 19.4s\n",
      "25:\tlearn: 1481.1305924\ttotal: 14.4s\tremaining: 18.8s\n",
      "26:\tlearn: 1474.7412728\ttotal: 15s\tremaining: 18.3s\n",
      "27:\tlearn: 1469.5102030\ttotal: 15.5s\tremaining: 17.7s\n",
      "28:\tlearn: 1466.0009966\ttotal: 16.1s\tremaining: 17.2s\n",
      "29:\tlearn: 1458.4788758\ttotal: 16.6s\tremaining: 16.6s\n",
      "30:\tlearn: 1452.8340734\ttotal: 17.2s\tremaining: 16.1s\n",
      "31:\tlearn: 1447.4525440\ttotal: 17.7s\tremaining: 15.5s\n",
      "32:\tlearn: 1444.8607877\ttotal: 18.3s\tremaining: 15s\n",
      "33:\tlearn: 1438.8446289\ttotal: 18.8s\tremaining: 14.4s\n",
      "34:\tlearn: 1434.1551201\ttotal: 19.4s\tremaining: 13.8s\n",
      "35:\tlearn: 1429.6750226\ttotal: 19.9s\tremaining: 13.3s\n",
      "36:\tlearn: 1426.1979251\ttotal: 20.5s\tremaining: 12.7s\n",
      "37:\tlearn: 1422.7419472\ttotal: 21s\tremaining: 12.2s\n",
      "38:\tlearn: 1416.4505893\ttotal: 21.6s\tremaining: 11.6s\n",
      "39:\tlearn: 1411.6900733\ttotal: 22.2s\tremaining: 11.1s\n",
      "40:\tlearn: 1401.8132914\ttotal: 22.7s\tremaining: 10.5s\n",
      "41:\tlearn: 1394.8877796\ttotal: 23.3s\tremaining: 9.98s\n",
      "42:\tlearn: 1391.4579740\ttotal: 23.9s\tremaining: 9.45s\n",
      "43:\tlearn: 1388.3529641\ttotal: 24.5s\tremaining: 8.89s\n",
      "44:\tlearn: 1383.1376661\ttotal: 25s\tremaining: 8.34s\n",
      "45:\tlearn: 1379.5231878\ttotal: 25.6s\tremaining: 7.79s\n",
      "46:\tlearn: 1377.3124869\ttotal: 26.1s\tremaining: 7.23s\n",
      "47:\tlearn: 1373.0166934\ttotal: 26.7s\tremaining: 6.68s\n",
      "48:\tlearn: 1366.1167588\ttotal: 27.3s\tremaining: 6.13s\n",
      "49:\tlearn: 1361.9228394\ttotal: 27.8s\tremaining: 5.57s\n",
      "50:\tlearn: 1358.6256769\ttotal: 28.4s\tremaining: 5.01s\n",
      "51:\tlearn: 1355.9259789\ttotal: 29s\tremaining: 4.46s\n",
      "52:\tlearn: 1352.7252209\ttotal: 29.5s\tremaining: 3.9s\n",
      "53:\tlearn: 1348.5094142\ttotal: 30.1s\tremaining: 3.35s\n",
      "54:\tlearn: 1344.6540768\ttotal: 30.8s\tremaining: 2.8s\n",
      "55:\tlearn: 1340.3490950\ttotal: 31.4s\tremaining: 2.24s\n",
      "56:\tlearn: 1337.5424881\ttotal: 31.9s\tremaining: 1.68s\n",
      "57:\tlearn: 1334.2222696\ttotal: 32.5s\tremaining: 1.12s\n",
      "58:\tlearn: 1330.9729084\ttotal: 33.1s\tremaining: 560ms\n",
      "59:\tlearn: 1327.9826296\ttotal: 33.6s\tremaining: 0us\n",
      "RMSE для CatBoostRegressor: 1501.770728599753\n",
      "Время обучения CatBoostRegressor: 772.5135335922241\n",
      "Время предсказания CatBoostRegressor: 0.05155229568481445\n"
     ]
    }
   ],
   "source": [
    "pipe = Pipeline([\n",
    "    ('model', Gsearch(CatBoostRegressor(loss_function='RMSE', cat_features=cat, random_state=12345), cbr_params))\n",
    "])\n",
    "\n",
    "\n",
    "start = time.time()\n",
    "pipe.fit(X_train, y_train)\n",
    "end = time.time()\n",
    "time_fit_cbr = end - start\n",
    "\n",
    "start = time.time()\n",
    "y_train_pred = pipe.predict(X_valid)\n",
    "end = time.time()\n",
    "time_pred_cbr = end - start\n",
    "\n",
    "RMSE = rmse(y_valid, y_train_pred)\n",
    "\n",
    "print('RMSE для CatBoostRegressor:', RMSE)\n",
    "print('Время обучения CatBoostRegressor:', time_fit_cbr)\n",
    "print('Время предсказания CatBoostRegressor:', time_pred_cbr)"
   ]
  },
  {
   "cell_type": "code",
   "execution_count": 68,
   "metadata": {
    "scrolled": true
   },
   "outputs": [
    {
     "name": "stdout",
     "output_type": "stream",
     "text": [
      "0:\tlearn: 3916.0467359\ttotal: 70.7ms\tremaining: 3.82s\n",
      "1:\tlearn: 3411.2737681\ttotal: 135ms\tremaining: 3.57s\n",
      "2:\tlearn: 3016.2318393\ttotal: 203ms\tremaining: 3.52s\n",
      "3:\tlearn: 2720.4549287\ttotal: 277ms\tremaining: 3.53s\n",
      "4:\tlearn: 2504.1404040\ttotal: 345ms\tremaining: 3.44s\n",
      "5:\tlearn: 2308.0561474\ttotal: 411ms\tremaining: 3.35s\n",
      "6:\tlearn: 2166.1412775\ttotal: 471ms\tremaining: 3.23s\n",
      "7:\tlearn: 2061.4955012\ttotal: 536ms\tremaining: 3.15s\n",
      "8:\tlearn: 1973.2411512\ttotal: 597ms\tremaining: 3.05s\n",
      "9:\tlearn: 1905.8971491\ttotal: 657ms\tremaining: 2.96s\n",
      "10:\tlearn: 1857.7075057\ttotal: 727ms\tremaining: 2.91s\n",
      "11:\tlearn: 1816.5073300\ttotal: 790ms\tremaining: 2.83s\n",
      "12:\tlearn: 1788.5497254\ttotal: 851ms\tremaining: 2.75s\n",
      "13:\tlearn: 1754.4309886\ttotal: 915ms\tremaining: 2.68s\n",
      "14:\tlearn: 1730.6721492\ttotal: 976ms\tremaining: 2.6s\n",
      "15:\tlearn: 1711.1528448\ttotal: 1.05s\tremaining: 2.56s\n",
      "16:\tlearn: 1695.4236801\ttotal: 1.11s\tremaining: 2.48s\n",
      "17:\tlearn: 1682.5036056\ttotal: 1.17s\tremaining: 2.4s\n",
      "18:\tlearn: 1671.0753590\ttotal: 1.23s\tremaining: 2.33s\n",
      "19:\tlearn: 1660.2452043\ttotal: 1.3s\tremaining: 2.27s\n",
      "20:\tlearn: 1651.2010566\ttotal: 1.37s\tremaining: 2.22s\n",
      "21:\tlearn: 1644.2160759\ttotal: 1.44s\tremaining: 2.15s\n",
      "22:\tlearn: 1638.2179158\ttotal: 1.5s\tremaining: 2.09s\n",
      "23:\tlearn: 1632.0577544\ttotal: 1.57s\tremaining: 2.02s\n",
      "24:\tlearn: 1626.5700944\ttotal: 1.64s\tremaining: 1.96s\n",
      "25:\tlearn: 1623.1548507\ttotal: 1.7s\tremaining: 1.9s\n",
      "26:\tlearn: 1617.5329530\ttotal: 1.77s\tremaining: 1.84s\n",
      "27:\tlearn: 1611.8071358\ttotal: 1.84s\tremaining: 1.77s\n",
      "28:\tlearn: 1609.4994032\ttotal: 1.9s\tremaining: 1.71s\n",
      "29:\tlearn: 1604.4843962\ttotal: 1.96s\tremaining: 1.64s\n",
      "30:\tlearn: 1600.1033375\ttotal: 2.03s\tremaining: 1.57s\n",
      "31:\tlearn: 1597.3190692\ttotal: 2.1s\tremaining: 1.51s\n",
      "32:\tlearn: 1593.7225512\ttotal: 2.17s\tremaining: 1.44s\n",
      "33:\tlearn: 1589.5408177\ttotal: 2.24s\tremaining: 1.38s\n",
      "34:\tlearn: 1584.1898916\ttotal: 2.31s\tremaining: 1.32s\n",
      "35:\tlearn: 1579.5820781\ttotal: 2.38s\tremaining: 1.26s\n",
      "36:\tlearn: 1575.6393278\ttotal: 2.46s\tremaining: 1.19s\n",
      "37:\tlearn: 1571.5884459\ttotal: 2.52s\tremaining: 1.13s\n",
      "38:\tlearn: 1569.7068230\ttotal: 2.6s\tremaining: 1.07s\n",
      "39:\tlearn: 1564.8043840\ttotal: 2.67s\tremaining: 1000ms\n",
      "40:\tlearn: 1562.2669824\ttotal: 2.73s\tremaining: 933ms\n",
      "41:\tlearn: 1559.5463854\ttotal: 2.79s\tremaining: 865ms\n",
      "42:\tlearn: 1555.3797402\ttotal: 2.86s\tremaining: 798ms\n",
      "43:\tlearn: 1552.1076781\ttotal: 2.93s\tremaining: 732ms\n",
      "44:\tlearn: 1549.9372496\ttotal: 3s\tremaining: 666ms\n",
      "45:\tlearn: 1547.6575011\ttotal: 3.06s\tremaining: 599ms\n",
      "46:\tlearn: 1546.3142710\ttotal: 3.12s\tremaining: 532ms\n",
      "47:\tlearn: 1545.2226594\ttotal: 3.19s\tremaining: 465ms\n",
      "48:\tlearn: 1543.9164782\ttotal: 3.25s\tremaining: 398ms\n",
      "49:\tlearn: 1540.2076361\ttotal: 3.32s\tremaining: 332ms\n",
      "50:\tlearn: 1536.2763020\ttotal: 3.38s\tremaining: 265ms\n",
      "51:\tlearn: 1534.2301819\ttotal: 3.45s\tremaining: 199ms\n",
      "52:\tlearn: 1532.1342025\ttotal: 3.51s\tremaining: 133ms\n",
      "53:\tlearn: 1528.1163966\ttotal: 3.57s\tremaining: 66.1ms\n",
      "54:\tlearn: 1526.3197102\ttotal: 3.63s\tremaining: 0us\n",
      "0:\tlearn: 3932.2315890\ttotal: 67.1ms\tremaining: 3.62s\n",
      "1:\tlearn: 3415.4236669\ttotal: 129ms\tremaining: 3.42s\n",
      "2:\tlearn: 3006.6357624\ttotal: 196ms\tremaining: 3.4s\n",
      "3:\tlearn: 2707.0741941\ttotal: 259ms\tremaining: 3.3s\n",
      "4:\tlearn: 2487.8158546\ttotal: 323ms\tremaining: 3.23s\n",
      "5:\tlearn: 2291.3605745\ttotal: 394ms\tremaining: 3.22s\n",
      "6:\tlearn: 2146.6624882\ttotal: 466ms\tremaining: 3.19s\n",
      "7:\tlearn: 2040.0239649\ttotal: 531ms\tremaining: 3.12s\n",
      "8:\tlearn: 1947.2569539\ttotal: 592ms\tremaining: 3.02s\n",
      "9:\tlearn: 1879.8883120\ttotal: 654ms\tremaining: 2.94s\n",
      "10:\tlearn: 1832.2417023\ttotal: 723ms\tremaining: 2.89s\n",
      "11:\tlearn: 1794.1907762\ttotal: 787ms\tremaining: 2.82s\n",
      "12:\tlearn: 1765.6046405\ttotal: 850ms\tremaining: 2.75s\n",
      "13:\tlearn: 1735.5721315\ttotal: 912ms\tremaining: 2.67s\n",
      "14:\tlearn: 1713.7246651\ttotal: 976ms\tremaining: 2.6s\n",
      "15:\tlearn: 1697.2513562\ttotal: 1.04s\tremaining: 2.53s\n",
      "16:\tlearn: 1679.1399862\ttotal: 1.11s\tremaining: 2.47s\n",
      "17:\tlearn: 1666.6548668\ttotal: 1.17s\tremaining: 2.41s\n",
      "18:\tlearn: 1657.9893721\ttotal: 1.23s\tremaining: 2.34s\n",
      "19:\tlearn: 1647.2873039\ttotal: 1.29s\tremaining: 2.27s\n",
      "20:\tlearn: 1639.6650955\ttotal: 1.36s\tremaining: 2.2s\n",
      "21:\tlearn: 1630.3645648\ttotal: 1.42s\tremaining: 2.13s\n",
      "22:\tlearn: 1623.6912341\ttotal: 1.48s\tremaining: 2.06s\n",
      "23:\tlearn: 1619.1488855\ttotal: 1.54s\tremaining: 2s\n",
      "24:\tlearn: 1612.9915825\ttotal: 1.61s\tremaining: 1.93s\n",
      "25:\tlearn: 1606.8574445\ttotal: 1.68s\tremaining: 1.87s\n",
      "26:\tlearn: 1603.2316608\ttotal: 1.74s\tremaining: 1.8s\n",
      "27:\tlearn: 1599.4844391\ttotal: 1.8s\tremaining: 1.74s\n",
      "28:\tlearn: 1596.0085382\ttotal: 1.86s\tremaining: 1.67s\n",
      "29:\tlearn: 1592.5441055\ttotal: 1.93s\tremaining: 1.61s\n",
      "30:\tlearn: 1588.3490308\ttotal: 1.99s\tremaining: 1.54s\n",
      "31:\tlearn: 1581.4249562\ttotal: 2.05s\tremaining: 1.47s\n",
      "32:\tlearn: 1576.7691522\ttotal: 2.12s\tremaining: 1.41s\n",
      "33:\tlearn: 1574.1857590\ttotal: 2.18s\tremaining: 1.35s\n",
      "34:\tlearn: 1570.7311310\ttotal: 2.25s\tremaining: 1.28s\n",
      "35:\tlearn: 1566.1575289\ttotal: 2.31s\tremaining: 1.22s\n",
      "36:\tlearn: 1561.4212678\ttotal: 2.37s\tremaining: 1.15s\n",
      "37:\tlearn: 1557.5087302\ttotal: 2.43s\tremaining: 1.09s\n",
      "38:\tlearn: 1555.3886634\ttotal: 2.5s\tremaining: 1.03s\n",
      "39:\tlearn: 1548.8481599\ttotal: 2.57s\tremaining: 963ms\n",
      "40:\tlearn: 1545.0316977\ttotal: 2.63s\tremaining: 899ms\n",
      "41:\tlearn: 1540.8603316\ttotal: 2.69s\tremaining: 834ms\n",
      "42:\tlearn: 1539.2506596\ttotal: 2.76s\tremaining: 770ms\n",
      "43:\tlearn: 1537.5088326\ttotal: 2.82s\tremaining: 705ms\n",
      "44:\tlearn: 1535.6568824\ttotal: 2.88s\tremaining: 640ms\n",
      "45:\tlearn: 1532.6150188\ttotal: 2.94s\tremaining: 576ms\n",
      "46:\tlearn: 1528.0437728\ttotal: 3.01s\tremaining: 512ms\n",
      "47:\tlearn: 1523.4014078\ttotal: 3.07s\tremaining: 448ms\n",
      "48:\tlearn: 1518.3819913\ttotal: 3.13s\tremaining: 383ms\n",
      "49:\tlearn: 1516.4185430\ttotal: 3.2s\tremaining: 320ms\n",
      "50:\tlearn: 1514.4262352\ttotal: 3.28s\tremaining: 257ms\n",
      "51:\tlearn: 1511.5524247\ttotal: 3.36s\tremaining: 194ms\n",
      "52:\tlearn: 1507.8314409\ttotal: 3.44s\tremaining: 130ms\n",
      "53:\tlearn: 1502.7528026\ttotal: 3.51s\tremaining: 64.9ms\n",
      "54:\tlearn: 1500.7036119\ttotal: 3.57s\tremaining: 0us\n",
      "0:\tlearn: 3922.0145943\ttotal: 73.9ms\tremaining: 3.99s\n",
      "1:\tlearn: 3414.2738230\ttotal: 136ms\tremaining: 3.6s\n",
      "2:\tlearn: 3019.6561737\ttotal: 201ms\tremaining: 3.48s\n",
      "3:\tlearn: 2717.4311544\ttotal: 269ms\tremaining: 3.43s\n",
      "4:\tlearn: 2493.6713504\ttotal: 356ms\tremaining: 3.56s\n",
      "5:\tlearn: 2307.0067476\ttotal: 516ms\tremaining: 4.21s\n",
      "6:\tlearn: 2165.5162914\ttotal: 578ms\tremaining: 3.96s\n",
      "7:\tlearn: 2060.4809906\ttotal: 637ms\tremaining: 3.75s\n",
      "8:\tlearn: 1984.6507118\ttotal: 701ms\tremaining: 3.58s\n",
      "9:\tlearn: 1909.8339006\ttotal: 779ms\tremaining: 3.51s\n",
      "10:\tlearn: 1856.7694504\ttotal: 841ms\tremaining: 3.36s\n",
      "11:\tlearn: 1820.6515953\ttotal: 903ms\tremaining: 3.23s\n",
      "12:\tlearn: 1781.6885149\ttotal: 963ms\tremaining: 3.11s\n",
      "13:\tlearn: 1746.6410466\ttotal: 1.03s\tremaining: 3s\n",
      "14:\tlearn: 1724.1602426\ttotal: 1.09s\tremaining: 2.9s\n",
      "15:\tlearn: 1706.3941474\ttotal: 1.15s\tremaining: 2.8s\n",
      "16:\tlearn: 1691.3542097\ttotal: 1.21s\tremaining: 2.7s\n",
      "17:\tlearn: 1678.0545282\ttotal: 1.27s\tremaining: 2.61s\n",
      "18:\tlearn: 1664.9917090\ttotal: 1.33s\tremaining: 2.52s\n",
      "19:\tlearn: 1654.8997371\ttotal: 1.39s\tremaining: 2.44s\n",
      "20:\tlearn: 1645.1420603\ttotal: 1.46s\tremaining: 2.37s\n",
      "21:\tlearn: 1636.1764498\ttotal: 1.53s\tremaining: 2.29s\n",
      "22:\tlearn: 1630.3709850\ttotal: 1.6s\tremaining: 2.23s\n",
      "23:\tlearn: 1625.3831275\ttotal: 1.67s\tremaining: 2.16s\n",
      "24:\tlearn: 1620.4983318\ttotal: 1.73s\tremaining: 2.08s\n",
      "25:\tlearn: 1616.8382844\ttotal: 1.8s\tremaining: 2s\n",
      "26:\tlearn: 1612.9490593\ttotal: 1.87s\tremaining: 1.94s\n",
      "27:\tlearn: 1608.8420164\ttotal: 1.94s\tremaining: 1.87s\n",
      "28:\tlearn: 1604.4551615\ttotal: 2.01s\tremaining: 1.8s\n",
      "29:\tlearn: 1601.4040685\ttotal: 2.07s\tremaining: 1.72s\n",
      "30:\tlearn: 1596.9675133\ttotal: 2.13s\tremaining: 1.65s\n",
      "31:\tlearn: 1593.2434537\ttotal: 2.19s\tremaining: 1.57s\n",
      "32:\tlearn: 1589.9770235\ttotal: 2.25s\tremaining: 1.5s\n",
      "33:\tlearn: 1583.0024034\ttotal: 2.31s\tremaining: 1.43s\n",
      "34:\tlearn: 1579.7247534\ttotal: 2.38s\tremaining: 1.36s\n",
      "35:\tlearn: 1575.6434600\ttotal: 2.44s\tremaining: 1.29s\n",
      "36:\tlearn: 1572.1053530\ttotal: 2.5s\tremaining: 1.22s\n",
      "37:\tlearn: 1566.8944650\ttotal: 2.57s\tremaining: 1.15s\n",
      "38:\tlearn: 1562.6301290\ttotal: 2.63s\tremaining: 1.08s\n",
      "39:\tlearn: 1560.1811423\ttotal: 2.71s\tremaining: 1.01s\n",
      "40:\tlearn: 1556.0471957\ttotal: 2.78s\tremaining: 948ms\n",
      "41:\tlearn: 1551.7565516\ttotal: 2.86s\tremaining: 886ms\n",
      "42:\tlearn: 1549.7213636\ttotal: 2.96s\tremaining: 825ms\n",
      "43:\tlearn: 1547.9841065\ttotal: 3.03s\tremaining: 757ms\n",
      "44:\tlearn: 1546.6080913\ttotal: 3.09s\tremaining: 686ms\n",
      "45:\tlearn: 1544.9483426\ttotal: 3.15s\tremaining: 617ms\n",
      "46:\tlearn: 1543.6017805\ttotal: 3.23s\tremaining: 549ms\n",
      "47:\tlearn: 1537.9224494\ttotal: 3.3s\tremaining: 481ms\n",
      "48:\tlearn: 1535.0489898\ttotal: 3.37s\tremaining: 413ms\n",
      "49:\tlearn: 1530.2702263\ttotal: 3.43s\tremaining: 343ms\n",
      "50:\tlearn: 1527.6997838\ttotal: 3.5s\tremaining: 274ms\n",
      "51:\tlearn: 1522.8533956\ttotal: 3.57s\tremaining: 206ms\n",
      "52:\tlearn: 1519.8492887\ttotal: 3.63s\tremaining: 137ms\n",
      "53:\tlearn: 1516.2703551\ttotal: 3.71s\tremaining: 68.6ms\n",
      "54:\tlearn: 1512.9625341\ttotal: 3.78s\tremaining: 0us\n",
      "0:\tlearn: 3901.7214390\ttotal: 139ms\tremaining: 7.53s\n",
      "1:\tlearn: 3370.7154321\ttotal: 640ms\tremaining: 16.9s\n",
      "2:\tlearn: 2996.2912641\ttotal: 698ms\tremaining: 12.1s\n",
      "3:\tlearn: 2690.5756951\ttotal: 1.2s\tremaining: 15.2s\n",
      "4:\tlearn: 2457.9111387\ttotal: 1.69s\tremaining: 16.9s\n",
      "5:\tlearn: 2259.5236129\ttotal: 2.18s\tremaining: 17.8s\n",
      "6:\tlearn: 2103.9423875\ttotal: 2.68s\tremaining: 18.4s\n",
      "7:\tlearn: 1992.3023790\ttotal: 3.16s\tremaining: 18.6s\n",
      "8:\tlearn: 1894.5550613\ttotal: 3.67s\tremaining: 18.7s\n",
      "9:\tlearn: 1816.6420592\ttotal: 4.16s\tremaining: 18.7s\n",
      "10:\tlearn: 1758.5833856\ttotal: 4.69s\tremaining: 18.8s\n",
      "11:\tlearn: 1716.3366218\ttotal: 5.17s\tremaining: 18.5s\n",
      "12:\tlearn: 1679.9832992\ttotal: 5.68s\tremaining: 18.4s\n",
      "13:\tlearn: 1654.2473427\ttotal: 6.17s\tremaining: 18.1s\n",
      "14:\tlearn: 1619.5121209\ttotal: 6.68s\tremaining: 17.8s\n",
      "15:\tlearn: 1592.8600543\ttotal: 7.18s\tremaining: 17.5s\n",
      "16:\tlearn: 1568.8029334\ttotal: 7.68s\tremaining: 17.2s\n",
      "17:\tlearn: 1549.6870425\ttotal: 8.18s\tremaining: 16.8s\n",
      "18:\tlearn: 1528.9296897\ttotal: 8.69s\tremaining: 16.5s\n",
      "19:\tlearn: 1516.1048277\ttotal: 9.18s\tremaining: 16.1s\n",
      "20:\tlearn: 1506.8946236\ttotal: 9.73s\tremaining: 15.8s\n",
      "21:\tlearn: 1495.5594716\ttotal: 10.2s\tremaining: 15.4s\n",
      "22:\tlearn: 1486.2286415\ttotal: 10.8s\tremaining: 15s\n",
      "23:\tlearn: 1478.6918104\ttotal: 11.3s\tremaining: 14.6s\n",
      "24:\tlearn: 1471.6344429\ttotal: 11.9s\tremaining: 14.3s\n",
      "25:\tlearn: 1465.7361737\ttotal: 12.4s\tremaining: 13.9s\n",
      "26:\tlearn: 1458.9894328\ttotal: 13s\tremaining: 13.5s\n",
      "27:\tlearn: 1450.1623135\ttotal: 13.6s\tremaining: 13.1s\n",
      "28:\tlearn: 1445.2483295\ttotal: 14.1s\tremaining: 12.7s\n",
      "29:\tlearn: 1440.1958383\ttotal: 14.7s\tremaining: 12.3s\n",
      "30:\tlearn: 1433.5491360\ttotal: 15.2s\tremaining: 11.8s\n",
      "31:\tlearn: 1427.6610908\ttotal: 15.8s\tremaining: 11.3s\n",
      "32:\tlearn: 1423.2457131\ttotal: 16.3s\tremaining: 10.9s\n",
      "33:\tlearn: 1416.8811904\ttotal: 16.9s\tremaining: 10.5s\n",
      "34:\tlearn: 1408.6541703\ttotal: 17.4s\tremaining: 9.97s\n",
      "35:\tlearn: 1403.3606376\ttotal: 18s\tremaining: 9.48s\n",
      "36:\tlearn: 1398.2006697\ttotal: 18.5s\tremaining: 8.99s\n",
      "37:\tlearn: 1395.0389798\ttotal: 19s\tremaining: 8.48s\n",
      "38:\tlearn: 1394.9900498\ttotal: 19s\tremaining: 7.79s\n",
      "39:\tlearn: 1390.6805001\ttotal: 19.5s\tremaining: 7.31s\n",
      "40:\tlearn: 1385.4281205\ttotal: 20s\tremaining: 6.83s\n",
      "41:\tlearn: 1381.3029937\ttotal: 20.5s\tremaining: 6.36s\n",
      "42:\tlearn: 1375.6099200\ttotal: 21s\tremaining: 5.87s\n",
      "43:\tlearn: 1367.8119231\ttotal: 21.6s\tremaining: 5.39s\n",
      "44:\tlearn: 1363.0670649\ttotal: 22.1s\tremaining: 4.91s\n",
      "45:\tlearn: 1359.3711536\ttotal: 22.6s\tremaining: 4.42s\n",
      "46:\tlearn: 1356.0086950\ttotal: 23.1s\tremaining: 3.94s\n",
      "47:\tlearn: 1353.1761168\ttotal: 23.7s\tremaining: 3.46s\n",
      "48:\tlearn: 1348.3685602\ttotal: 24.3s\tremaining: 2.97s\n",
      "49:\tlearn: 1343.2705529\ttotal: 24.8s\tremaining: 2.48s\n",
      "50:\tlearn: 1337.5416592\ttotal: 25.4s\tremaining: 1.99s\n",
      "51:\tlearn: 1333.0682671\ttotal: 25.9s\tremaining: 1.49s\n",
      "52:\tlearn: 1329.5129916\ttotal: 26.4s\tremaining: 998ms\n",
      "53:\tlearn: 1325.8166226\ttotal: 27s\tremaining: 500ms\n",
      "54:\tlearn: 1319.3315963\ttotal: 27.6s\tremaining: 0us\n",
      "0:\tlearn: 3916.7357416\ttotal: 137ms\tremaining: 7.38s\n",
      "1:\tlearn: 3388.4377544\ttotal: 384ms\tremaining: 10.2s\n",
      "2:\tlearn: 2974.2415033\ttotal: 918ms\tremaining: 15.9s\n",
      "3:\tlearn: 2666.2898805\ttotal: 1.41s\tremaining: 18s\n",
      "4:\tlearn: 2438.0687112\ttotal: 1.92s\tremaining: 19.2s\n",
      "5:\tlearn: 2231.7028572\ttotal: 2.44s\tremaining: 20s\n",
      "6:\tlearn: 2076.3598767\ttotal: 2.93s\tremaining: 20.1s\n",
      "7:\tlearn: 1960.3812752\ttotal: 3.43s\tremaining: 20.2s\n",
      "8:\tlearn: 1861.3413691\ttotal: 3.93s\tremaining: 20.1s\n",
      "9:\tlearn: 1789.6203265\ttotal: 4.43s\tremaining: 19.9s\n",
      "10:\tlearn: 1733.8543577\ttotal: 4.95s\tremaining: 19.8s\n",
      "11:\tlearn: 1695.4276253\ttotal: 5.45s\tremaining: 19.5s\n",
      "12:\tlearn: 1660.6490752\ttotal: 5.97s\tremaining: 19.3s\n",
      "13:\tlearn: 1633.1873438\ttotal: 6.5s\tremaining: 19s\n",
      "14:\tlearn: 1611.2843155\ttotal: 7s\tremaining: 18.7s\n",
      "15:\tlearn: 1584.2181012\ttotal: 7.51s\tremaining: 18.3s\n",
      "16:\tlearn: 1561.0774778\ttotal: 8.03s\tremaining: 18s\n",
      "17:\tlearn: 1539.7339781\ttotal: 8.54s\tremaining: 17.6s\n",
      "18:\tlearn: 1522.8750166\ttotal: 9.07s\tremaining: 17.2s\n",
      "19:\tlearn: 1506.7697603\ttotal: 9.6s\tremaining: 16.8s\n",
      "20:\tlearn: 1494.8362840\ttotal: 10.1s\tremaining: 16.4s\n",
      "21:\tlearn: 1481.8548747\ttotal: 10.6s\tremaining: 15.9s\n",
      "22:\tlearn: 1473.1987073\ttotal: 11.1s\tremaining: 15.5s\n",
      "23:\tlearn: 1462.1254632\ttotal: 11.6s\tremaining: 15s\n",
      "24:\tlearn: 1454.2476545\ttotal: 12.1s\tremaining: 14.6s\n",
      "25:\tlearn: 1447.2112257\ttotal: 12.7s\tremaining: 14.1s\n",
      "26:\tlearn: 1440.9895291\ttotal: 13.2s\tremaining: 13.7s\n",
      "27:\tlearn: 1435.4715319\ttotal: 13.7s\tremaining: 13.2s\n",
      "28:\tlearn: 1429.0476252\ttotal: 14.2s\tremaining: 12.8s\n",
      "29:\tlearn: 1421.5646632\ttotal: 14.8s\tremaining: 12.3s\n",
      "30:\tlearn: 1417.1074017\ttotal: 15.3s\tremaining: 11.9s\n",
      "31:\tlearn: 1410.5806075\ttotal: 15.9s\tremaining: 11.4s\n",
      "32:\tlearn: 1405.5330210\ttotal: 16.5s\tremaining: 11s\n",
      "33:\tlearn: 1401.7086053\ttotal: 17.1s\tremaining: 10.5s\n",
      "34:\tlearn: 1397.1324600\ttotal: 17.6s\tremaining: 10.1s\n",
      "35:\tlearn: 1392.4247527\ttotal: 18.2s\tremaining: 9.61s\n",
      "36:\tlearn: 1383.5663134\ttotal: 18.8s\tremaining: 9.12s\n",
      "37:\tlearn: 1378.9193862\ttotal: 19.3s\tremaining: 8.61s\n",
      "38:\tlearn: 1371.8740402\ttotal: 19.8s\tremaining: 8.11s\n",
      "39:\tlearn: 1366.2699005\ttotal: 20.3s\tremaining: 7.61s\n",
      "40:\tlearn: 1356.8333868\ttotal: 20.8s\tremaining: 7.11s\n",
      "41:\tlearn: 1348.8090815\ttotal: 21.4s\tremaining: 6.61s\n",
      "42:\tlearn: 1345.1844433\ttotal: 21.9s\tremaining: 6.1s\n",
      "43:\tlearn: 1339.0420439\ttotal: 22.4s\tremaining: 5.59s\n",
      "44:\tlearn: 1335.4936437\ttotal: 22.9s\tremaining: 5.09s\n",
      "45:\tlearn: 1332.1738148\ttotal: 23.5s\tremaining: 4.59s\n",
      "46:\tlearn: 1329.0826494\ttotal: 24s\tremaining: 4.09s\n",
      "47:\tlearn: 1323.3884587\ttotal: 24.6s\tremaining: 3.58s\n",
      "48:\tlearn: 1318.9867423\ttotal: 25.1s\tremaining: 3.07s\n",
      "49:\tlearn: 1313.3150492\ttotal: 25.6s\tremaining: 2.56s\n",
      "50:\tlearn: 1311.2827292\ttotal: 26.1s\tremaining: 2.05s\n",
      "51:\tlearn: 1306.2079620\ttotal: 26.6s\tremaining: 1.53s\n",
      "52:\tlearn: 1302.8683423\ttotal: 27.1s\tremaining: 1.02s\n",
      "53:\tlearn: 1300.2132365\ttotal: 27.6s\tremaining: 512ms\n",
      "54:\tlearn: 1298.2743068\ttotal: 28.1s\tremaining: 0us\n",
      "0:\tlearn: 3906.6563369\ttotal: 136ms\tremaining: 7.34s\n",
      "1:\tlearn: 3383.8719353\ttotal: 630ms\tremaining: 16.7s\n",
      "2:\tlearn: 2994.5427621\ttotal: 691ms\tremaining: 12s\n",
      "3:\tlearn: 2684.1410019\ttotal: 1.18s\tremaining: 15.1s\n",
      "4:\tlearn: 2453.8999154\ttotal: 1.68s\tremaining: 16.8s\n",
      "5:\tlearn: 2243.9411822\ttotal: 2.18s\tremaining: 17.8s\n",
      "6:\tlearn: 2092.8374300\ttotal: 2.69s\tremaining: 18.4s\n",
      "7:\tlearn: 1980.0302720\ttotal: 3.19s\tremaining: 18.7s\n",
      "8:\tlearn: 1884.4741380\ttotal: 3.67s\tremaining: 18.8s\n",
      "9:\tlearn: 1813.4900596\ttotal: 4.17s\tremaining: 18.8s\n",
      "10:\tlearn: 1756.7861629\ttotal: 4.68s\tremaining: 18.7s\n",
      "11:\tlearn: 1714.4610467\ttotal: 5.17s\tremaining: 18.5s\n",
      "12:\tlearn: 1680.4046397\ttotal: 5.66s\tremaining: 18.3s\n",
      "13:\tlearn: 1641.5892025\ttotal: 6.16s\tremaining: 18s\n",
      "14:\tlearn: 1615.2088488\ttotal: 6.65s\tremaining: 17.7s\n",
      "15:\tlearn: 1593.1463363\ttotal: 7.18s\tremaining: 17.5s\n",
      "16:\tlearn: 1569.8664514\ttotal: 7.69s\tremaining: 17.2s\n",
      "17:\tlearn: 1553.3240024\ttotal: 8.22s\tremaining: 16.9s\n",
      "18:\tlearn: 1534.9247948\ttotal: 8.74s\tremaining: 16.6s\n",
      "19:\tlearn: 1516.3230402\ttotal: 9.25s\tremaining: 16.2s\n",
      "20:\tlearn: 1505.1234192\ttotal: 9.73s\tremaining: 15.8s\n",
      "21:\tlearn: 1494.4397286\ttotal: 10.2s\tremaining: 15.4s\n",
      "22:\tlearn: 1486.3101708\ttotal: 10.7s\tremaining: 14.9s\n",
      "23:\tlearn: 1479.6384908\ttotal: 11.2s\tremaining: 14.5s\n",
      "24:\tlearn: 1468.7302522\ttotal: 11.7s\tremaining: 14.1s\n",
      "25:\tlearn: 1461.3348899\ttotal: 12.3s\tremaining: 13.7s\n",
      "26:\tlearn: 1451.1030687\ttotal: 12.8s\tremaining: 13.2s\n",
      "27:\tlearn: 1444.5862341\ttotal: 13.3s\tremaining: 12.8s\n",
      "28:\tlearn: 1440.5768138\ttotal: 13.8s\tremaining: 12.4s\n",
      "29:\tlearn: 1434.4524714\ttotal: 14.4s\tremaining: 12s\n",
      "30:\tlearn: 1425.8741074\ttotal: 15s\tremaining: 11.6s\n",
      "31:\tlearn: 1420.4103975\ttotal: 15.5s\tremaining: 11.1s\n",
      "32:\tlearn: 1417.1349712\ttotal: 16s\tremaining: 10.7s\n",
      "33:\tlearn: 1413.6770038\ttotal: 16.5s\tremaining: 10.2s\n",
      "34:\tlearn: 1410.4467824\ttotal: 17.1s\tremaining: 9.75s\n",
      "35:\tlearn: 1406.0572059\ttotal: 17.6s\tremaining: 9.28s\n",
      "36:\tlearn: 1398.0946680\ttotal: 18.1s\tremaining: 8.81s\n",
      "37:\tlearn: 1393.4072584\ttotal: 18.6s\tremaining: 8.33s\n",
      "38:\tlearn: 1389.9216089\ttotal: 19.1s\tremaining: 7.85s\n",
      "39:\tlearn: 1386.6908419\ttotal: 19.7s\tremaining: 7.37s\n",
      "40:\tlearn: 1380.9853684\ttotal: 20.1s\tremaining: 6.88s\n",
      "41:\tlearn: 1375.1566245\ttotal: 20.6s\tremaining: 6.39s\n",
      "42:\tlearn: 1370.1510601\ttotal: 21.1s\tremaining: 5.9s\n",
      "43:\tlearn: 1366.3759626\ttotal: 21.6s\tremaining: 5.41s\n",
      "44:\tlearn: 1361.9087548\ttotal: 22.1s\tremaining: 4.92s\n",
      "45:\tlearn: 1356.4897279\ttotal: 22.6s\tremaining: 4.43s\n",
      "46:\tlearn: 1350.7707973\ttotal: 23.2s\tremaining: 3.94s\n",
      "47:\tlearn: 1348.2884090\ttotal: 23.7s\tremaining: 3.45s\n",
      "48:\tlearn: 1342.3638755\ttotal: 24.2s\tremaining: 2.97s\n",
      "49:\tlearn: 1337.2429564\ttotal: 24.8s\tremaining: 2.48s\n",
      "50:\tlearn: 1330.5793119\ttotal: 25.3s\tremaining: 1.98s\n",
      "51:\tlearn: 1324.8489340\ttotal: 25.8s\tremaining: 1.49s\n",
      "52:\tlearn: 1320.8626224\ttotal: 26.3s\tremaining: 994ms\n",
      "53:\tlearn: 1317.7057640\ttotal: 26.9s\tremaining: 498ms\n",
      "54:\tlearn: 1314.9236669\ttotal: 27.4s\tremaining: 0us\n",
      "0:\tlearn: 3028.8046907\ttotal: 65.5ms\tremaining: 3.54s\n",
      "1:\tlearn: 2363.4446934\ttotal: 131ms\tremaining: 3.46s\n",
      "2:\tlearn: 2043.5442793\ttotal: 195ms\tremaining: 3.37s\n",
      "3:\tlearn: 1876.2230899\ttotal: 257ms\tremaining: 3.28s\n",
      "4:\tlearn: 1788.3495744\ttotal: 325ms\tremaining: 3.25s\n",
      "5:\tlearn: 1746.0755713\ttotal: 394ms\tremaining: 3.21s\n",
      "6:\tlearn: 1719.6814877\ttotal: 466ms\tremaining: 3.19s\n",
      "7:\tlearn: 1691.1333393\ttotal: 527ms\tremaining: 3.1s\n",
      "8:\tlearn: 1674.8922797\ttotal: 590ms\tremaining: 3.02s\n",
      "9:\tlearn: 1661.5199733\ttotal: 651ms\tremaining: 2.93s\n",
      "10:\tlearn: 1644.6610184\ttotal: 713ms\tremaining: 2.85s\n",
      "11:\tlearn: 1636.5046564\ttotal: 783ms\tremaining: 2.81s\n",
      "12:\tlearn: 1629.4177429\ttotal: 852ms\tremaining: 2.75s\n",
      "13:\tlearn: 1619.9478415\ttotal: 916ms\tremaining: 2.68s\n",
      "14:\tlearn: 1600.5307918\ttotal: 978ms\tremaining: 2.61s\n",
      "15:\tlearn: 1589.1791293\ttotal: 1.04s\tremaining: 2.53s\n",
      "16:\tlearn: 1581.9616199\ttotal: 1.1s\tremaining: 2.47s\n",
      "17:\tlearn: 1573.7330249\ttotal: 1.17s\tremaining: 2.4s\n",
      "18:\tlearn: 1570.4745195\ttotal: 1.23s\tremaining: 2.33s\n",
      "19:\tlearn: 1565.0836894\ttotal: 1.29s\tremaining: 2.26s\n",
      "20:\tlearn: 1555.9817491\ttotal: 1.35s\tremaining: 2.19s\n",
      "21:\tlearn: 1548.9911138\ttotal: 1.41s\tremaining: 2.12s\n",
      "22:\tlearn: 1542.4073688\ttotal: 1.48s\tremaining: 2.05s\n",
      "23:\tlearn: 1532.5018264\ttotal: 1.53s\tremaining: 1.98s\n",
      "24:\tlearn: 1528.0074503\ttotal: 1.6s\tremaining: 1.92s\n",
      "25:\tlearn: 1522.8384919\ttotal: 1.67s\tremaining: 1.86s\n",
      "26:\tlearn: 1514.8332542\ttotal: 1.73s\tremaining: 1.8s\n",
      "27:\tlearn: 1511.0483365\ttotal: 1.8s\tremaining: 1.73s\n",
      "28:\tlearn: 1505.2200199\ttotal: 1.86s\tremaining: 1.67s\n",
      "29:\tlearn: 1496.0756136\ttotal: 1.92s\tremaining: 1.6s\n",
      "30:\tlearn: 1487.2365442\ttotal: 1.98s\tremaining: 1.53s\n",
      "31:\tlearn: 1483.3998072\ttotal: 2.04s\tremaining: 1.47s\n",
      "32:\tlearn: 1479.1938429\ttotal: 2.1s\tremaining: 1.4s\n",
      "33:\tlearn: 1475.2577413\ttotal: 2.16s\tremaining: 1.34s\n",
      "34:\tlearn: 1472.6786612\ttotal: 2.23s\tremaining: 1.27s\n",
      "35:\tlearn: 1467.1383431\ttotal: 2.29s\tremaining: 1.21s\n",
      "36:\tlearn: 1464.4975572\ttotal: 2.36s\tremaining: 1.15s\n",
      "37:\tlearn: 1460.0948292\ttotal: 2.42s\tremaining: 1.08s\n",
      "38:\tlearn: 1458.4058811\ttotal: 2.48s\tremaining: 1.02s\n",
      "39:\tlearn: 1454.5774636\ttotal: 2.54s\tremaining: 953ms\n",
      "40:\tlearn: 1450.4237045\ttotal: 2.61s\tremaining: 890ms\n",
      "41:\tlearn: 1446.5112329\ttotal: 2.67s\tremaining: 827ms\n",
      "42:\tlearn: 1443.0235296\ttotal: 2.74s\tremaining: 764ms\n",
      "43:\tlearn: 1441.4408876\ttotal: 2.8s\tremaining: 700ms\n",
      "44:\tlearn: 1438.4221452\ttotal: 2.86s\tremaining: 636ms\n",
      "45:\tlearn: 1434.2569587\ttotal: 2.92s\tremaining: 572ms\n",
      "46:\tlearn: 1431.2952753\ttotal: 2.99s\tremaining: 508ms\n",
      "47:\tlearn: 1428.7253757\ttotal: 3.05s\tremaining: 445ms\n",
      "48:\tlearn: 1426.1026497\ttotal: 3.11s\tremaining: 381ms\n",
      "49:\tlearn: 1424.6147012\ttotal: 3.18s\tremaining: 318ms\n",
      "50:\tlearn: 1421.0862791\ttotal: 3.24s\tremaining: 254ms\n",
      "51:\tlearn: 1417.3843837\ttotal: 3.3s\tremaining: 191ms\n",
      "52:\tlearn: 1414.3334023\ttotal: 3.37s\tremaining: 127ms\n",
      "53:\tlearn: 1410.4393317\ttotal: 3.43s\tremaining: 63.6ms\n",
      "54:\tlearn: 1406.9328260\ttotal: 3.49s\tremaining: 0us\n",
      "0:\tlearn: 3041.1877918\ttotal: 71.9ms\tremaining: 3.88s\n",
      "1:\tlearn: 2345.3311554\ttotal: 145ms\tremaining: 3.84s\n",
      "2:\tlearn: 2006.0166486\ttotal: 213ms\tremaining: 3.69s\n",
      "3:\tlearn: 1844.9706126\ttotal: 276ms\tremaining: 3.52s\n",
      "4:\tlearn: 1778.3221441\ttotal: 345ms\tremaining: 3.45s\n",
      "5:\tlearn: 1722.6046532\ttotal: 411ms\tremaining: 3.36s\n",
      "6:\tlearn: 1692.8236389\ttotal: 474ms\tremaining: 3.25s\n",
      "7:\tlearn: 1674.1711128\ttotal: 537ms\tremaining: 3.15s\n",
      "8:\tlearn: 1657.6294565\ttotal: 603ms\tremaining: 3.08s\n",
      "9:\tlearn: 1645.6056201\ttotal: 668ms\tremaining: 3.01s\n",
      "10:\tlearn: 1627.9890159\ttotal: 732ms\tremaining: 2.93s\n",
      "11:\tlearn: 1612.8673758\ttotal: 797ms\tremaining: 2.86s\n",
      "12:\tlearn: 1600.6940304\ttotal: 862ms\tremaining: 2.78s\n",
      "13:\tlearn: 1594.1365396\ttotal: 930ms\tremaining: 2.72s\n",
      "14:\tlearn: 1584.4911124\ttotal: 1s\tremaining: 2.67s\n",
      "15:\tlearn: 1575.2027928\ttotal: 1.08s\tremaining: 2.64s\n",
      "16:\tlearn: 1569.0939133\ttotal: 1.16s\tremaining: 2.58s\n",
      "17:\tlearn: 1561.4520120\ttotal: 1.22s\tremaining: 2.51s\n",
      "18:\tlearn: 1554.4785978\ttotal: 1.29s\tremaining: 2.44s\n",
      "19:\tlearn: 1547.5796887\ttotal: 1.36s\tremaining: 2.37s\n",
      "20:\tlearn: 1542.6674626\ttotal: 1.43s\tremaining: 2.31s\n",
      "21:\tlearn: 1537.6295568\ttotal: 1.5s\tremaining: 2.25s\n",
      "22:\tlearn: 1533.5706149\ttotal: 1.56s\tremaining: 2.17s\n",
      "23:\tlearn: 1526.1803798\ttotal: 1.63s\tremaining: 2.1s\n",
      "24:\tlearn: 1521.2532834\ttotal: 1.7s\tremaining: 2.04s\n",
      "25:\tlearn: 1516.1102575\ttotal: 1.77s\tremaining: 1.97s\n",
      "26:\tlearn: 1510.6186398\ttotal: 1.84s\tremaining: 1.9s\n",
      "27:\tlearn: 1506.5485254\ttotal: 1.91s\tremaining: 1.84s\n",
      "28:\tlearn: 1499.6906187\ttotal: 1.98s\tremaining: 1.77s\n",
      "29:\tlearn: 1494.9534944\ttotal: 2.05s\tremaining: 1.71s\n",
      "30:\tlearn: 1491.5493098\ttotal: 2.12s\tremaining: 1.64s\n",
      "31:\tlearn: 1488.0996058\ttotal: 2.19s\tremaining: 1.58s\n",
      "32:\tlearn: 1484.8471686\ttotal: 2.26s\tremaining: 1.51s\n",
      "33:\tlearn: 1475.8428131\ttotal: 2.32s\tremaining: 1.43s\n",
      "34:\tlearn: 1468.3032420\ttotal: 2.39s\tremaining: 1.37s\n",
      "35:\tlearn: 1459.9142347\ttotal: 2.45s\tremaining: 1.29s\n",
      "36:\tlearn: 1456.6333609\ttotal: 2.51s\tremaining: 1.22s\n",
      "37:\tlearn: 1452.8130558\ttotal: 2.58s\tremaining: 1.15s\n",
      "38:\tlearn: 1449.0231050\ttotal: 2.64s\tremaining: 1.08s\n",
      "39:\tlearn: 1446.8699092\ttotal: 2.7s\tremaining: 1.01s\n",
      "40:\tlearn: 1442.9793731\ttotal: 2.77s\tremaining: 946ms\n",
      "41:\tlearn: 1437.3568548\ttotal: 2.84s\tremaining: 878ms\n",
      "42:\tlearn: 1431.5978443\ttotal: 2.9s\tremaining: 811ms\n",
      "43:\tlearn: 1426.3560936\ttotal: 2.97s\tremaining: 742ms\n",
      "44:\tlearn: 1424.3026448\ttotal: 3.03s\tremaining: 674ms\n",
      "45:\tlearn: 1423.8060924\ttotal: 3.09s\tremaining: 604ms\n",
      "46:\tlearn: 1422.4595139\ttotal: 3.15s\tremaining: 536ms\n",
      "47:\tlearn: 1419.3245143\ttotal: 3.21s\tremaining: 469ms\n",
      "48:\tlearn: 1417.5169983\ttotal: 3.28s\tremaining: 402ms\n",
      "49:\tlearn: 1414.3392340\ttotal: 3.35s\tremaining: 335ms\n",
      "50:\tlearn: 1411.2228481\ttotal: 3.42s\tremaining: 268ms\n",
      "51:\tlearn: 1405.6447284\ttotal: 3.49s\tremaining: 201ms\n",
      "52:\tlearn: 1403.3979147\ttotal: 3.56s\tremaining: 134ms\n",
      "53:\tlearn: 1400.2204391\ttotal: 3.63s\tremaining: 67.2ms\n",
      "54:\tlearn: 1398.2404984\ttotal: 3.69s\tremaining: 0us\n",
      "0:\tlearn: 3032.5309468\ttotal: 87.5ms\tremaining: 4.72s\n",
      "1:\tlearn: 2337.4628725\ttotal: 158ms\tremaining: 4.2s\n",
      "2:\tlearn: 2022.6735711\ttotal: 223ms\tremaining: 3.86s\n",
      "3:\tlearn: 1855.0037169\ttotal: 281ms\tremaining: 3.58s\n",
      "4:\tlearn: 1786.3354950\ttotal: 347ms\tremaining: 3.47s\n",
      "5:\tlearn: 1740.8068964\ttotal: 418ms\tremaining: 3.41s\n",
      "6:\tlearn: 1704.1572469\ttotal: 481ms\tremaining: 3.3s\n",
      "7:\tlearn: 1681.0312977\ttotal: 546ms\tremaining: 3.21s\n",
      "8:\tlearn: 1669.8132496\ttotal: 622ms\tremaining: 3.18s\n",
      "9:\tlearn: 1652.7619483\ttotal: 691ms\tremaining: 3.11s\n",
      "10:\tlearn: 1639.1415574\ttotal: 750ms\tremaining: 3s\n",
      "11:\tlearn: 1630.1766107\ttotal: 818ms\tremaining: 2.93s\n",
      "12:\tlearn: 1621.1360558\ttotal: 879ms\tremaining: 2.84s\n",
      "13:\tlearn: 1609.9022065\ttotal: 948ms\tremaining: 2.78s\n",
      "14:\tlearn: 1603.6625560\ttotal: 1.03s\tremaining: 2.75s\n",
      "15:\tlearn: 1593.7131181\ttotal: 1.1s\tremaining: 2.68s\n",
      "16:\tlearn: 1587.4707794\ttotal: 1.17s\tremaining: 2.6s\n",
      "17:\tlearn: 1579.9553516\ttotal: 1.24s\tremaining: 2.54s\n",
      "18:\tlearn: 1573.7531518\ttotal: 1.31s\tremaining: 2.48s\n",
      "19:\tlearn: 1569.7671094\ttotal: 1.39s\tremaining: 2.42s\n",
      "20:\tlearn: 1563.7221061\ttotal: 1.45s\tremaining: 2.35s\n",
      "21:\tlearn: 1556.5748973\ttotal: 1.52s\tremaining: 2.28s\n",
      "22:\tlearn: 1549.3696239\ttotal: 1.59s\tremaining: 2.21s\n",
      "23:\tlearn: 1545.5181593\ttotal: 1.66s\tremaining: 2.14s\n",
      "24:\tlearn: 1539.6882055\ttotal: 1.74s\tremaining: 2.09s\n",
      "25:\tlearn: 1531.8643323\ttotal: 1.81s\tremaining: 2.02s\n",
      "26:\tlearn: 1526.4176957\ttotal: 1.88s\tremaining: 1.95s\n",
      "27:\tlearn: 1521.0453071\ttotal: 1.94s\tremaining: 1.87s\n",
      "28:\tlearn: 1517.2855261\ttotal: 2.01s\tremaining: 1.8s\n",
      "29:\tlearn: 1511.9186537\ttotal: 2.08s\tremaining: 1.73s\n",
      "30:\tlearn: 1507.2164682\ttotal: 2.14s\tremaining: 1.66s\n",
      "31:\tlearn: 1503.2405349\ttotal: 2.21s\tremaining: 1.59s\n",
      "32:\tlearn: 1499.5252067\ttotal: 2.27s\tremaining: 1.51s\n",
      "33:\tlearn: 1494.8522979\ttotal: 2.33s\tremaining: 1.44s\n",
      "34:\tlearn: 1486.5175198\ttotal: 2.4s\tremaining: 1.37s\n",
      "35:\tlearn: 1483.9042908\ttotal: 2.47s\tremaining: 1.3s\n",
      "36:\tlearn: 1480.7308604\ttotal: 2.53s\tremaining: 1.23s\n",
      "37:\tlearn: 1474.5336904\ttotal: 2.6s\tremaining: 1.16s\n",
      "38:\tlearn: 1471.2926789\ttotal: 2.67s\tremaining: 1.09s\n",
      "39:\tlearn: 1469.2871444\ttotal: 2.74s\tremaining: 1.03s\n",
      "40:\tlearn: 1464.9055399\ttotal: 2.8s\tremaining: 956ms\n",
      "41:\tlearn: 1455.8892930\ttotal: 2.86s\tremaining: 885ms\n",
      "42:\tlearn: 1450.1358064\ttotal: 2.92s\tremaining: 816ms\n",
      "43:\tlearn: 1446.5156906\ttotal: 2.99s\tremaining: 748ms\n",
      "44:\tlearn: 1441.0793226\ttotal: 3.06s\tremaining: 679ms\n",
      "45:\tlearn: 1436.9572884\ttotal: 3.12s\tremaining: 611ms\n",
      "46:\tlearn: 1433.3319237\ttotal: 3.18s\tremaining: 542ms\n",
      "47:\tlearn: 1429.9914343\ttotal: 3.25s\tremaining: 474ms\n",
      "48:\tlearn: 1427.6217841\ttotal: 3.32s\tremaining: 407ms\n",
      "49:\tlearn: 1424.0726305\ttotal: 3.38s\tremaining: 338ms\n",
      "50:\tlearn: 1421.1227941\ttotal: 3.45s\tremaining: 271ms\n",
      "51:\tlearn: 1418.6216302\ttotal: 3.52s\tremaining: 203ms\n",
      "52:\tlearn: 1416.0891630\ttotal: 3.59s\tremaining: 135ms\n",
      "53:\tlearn: 1412.7889766\ttotal: 3.66s\tremaining: 67.8ms\n",
      "54:\tlearn: 1410.4811720\ttotal: 3.73s\tremaining: 0us\n",
      "0:\tlearn: 2989.6159619\ttotal: 144ms\tremaining: 7.76s\n",
      "1:\tlearn: 2301.6666313\ttotal: 689ms\tremaining: 18.2s\n",
      "2:\tlearn: 1942.2908213\ttotal: 1.21s\tremaining: 21s\n",
      "3:\tlearn: 1770.9527253\ttotal: 1.71s\tremaining: 21.8s\n",
      "4:\tlearn: 1658.2893925\ttotal: 2.22s\tremaining: 22.2s\n",
      "5:\tlearn: 1601.6261262\ttotal: 2.74s\tremaining: 22.4s\n",
      "6:\tlearn: 1559.2339318\ttotal: 3.27s\tremaining: 22.4s\n",
      "7:\tlearn: 1534.5308119\ttotal: 3.81s\tremaining: 22.4s\n",
      "8:\tlearn: 1511.8500732\ttotal: 4.37s\tremaining: 22.3s\n",
      "9:\tlearn: 1491.8590276\ttotal: 4.93s\tremaining: 22.2s\n",
      "10:\tlearn: 1476.6874667\ttotal: 5.47s\tremaining: 21.9s\n",
      "11:\tlearn: 1461.0762060\ttotal: 6.05s\tremaining: 21.7s\n",
      "12:\tlearn: 1446.1302369\ttotal: 6.63s\tremaining: 21.4s\n",
      "13:\tlearn: 1426.5827559\ttotal: 7.21s\tremaining: 21.1s\n",
      "14:\tlearn: 1419.9461669\ttotal: 7.76s\tremaining: 20.7s\n",
      "15:\tlearn: 1406.0019953\ttotal: 8.3s\tremaining: 20.2s\n",
      "16:\tlearn: 1395.2239790\ttotal: 8.82s\tremaining: 19.7s\n",
      "17:\tlearn: 1379.7021289\ttotal: 9.35s\tremaining: 19.2s\n",
      "18:\tlearn: 1374.3167671\ttotal: 9.88s\tremaining: 18.7s\n",
      "19:\tlearn: 1367.6374305\ttotal: 10.4s\tremaining: 18.2s\n",
      "20:\tlearn: 1362.2784843\ttotal: 10.9s\tremaining: 17.7s\n",
      "21:\tlearn: 1354.4996692\ttotal: 11.5s\tremaining: 17.2s\n",
      "22:\tlearn: 1338.8006134\ttotal: 12s\tremaining: 16.7s\n",
      "23:\tlearn: 1330.7143269\ttotal: 12.5s\tremaining: 16.1s\n",
      "24:\tlearn: 1319.3283256\ttotal: 13s\tremaining: 15.6s\n",
      "25:\tlearn: 1306.1155788\ttotal: 13.6s\tremaining: 15.1s\n",
      "26:\tlearn: 1293.8419470\ttotal: 14.1s\tremaining: 14.6s\n",
      "27:\tlearn: 1287.6121568\ttotal: 14.6s\tremaining: 14.1s\n",
      "28:\tlearn: 1276.5154429\ttotal: 15.1s\tremaining: 13.6s\n",
      "29:\tlearn: 1268.6876525\ttotal: 15.7s\tremaining: 13.1s\n",
      "30:\tlearn: 1255.1083386\ttotal: 16.2s\tremaining: 12.5s\n",
      "31:\tlearn: 1249.6100193\ttotal: 16.7s\tremaining: 12s\n",
      "32:\tlearn: 1243.8236266\ttotal: 17.2s\tremaining: 11.5s\n",
      "33:\tlearn: 1235.4391664\ttotal: 17.7s\tremaining: 11s\n",
      "34:\tlearn: 1230.9121980\ttotal: 18.2s\tremaining: 10.4s\n",
      "35:\tlearn: 1221.2473417\ttotal: 18.8s\tremaining: 9.9s\n",
      "36:\tlearn: 1213.4601082\ttotal: 19.3s\tremaining: 9.37s\n",
      "37:\tlearn: 1207.6552007\ttotal: 19.8s\tremaining: 8.85s\n",
      "38:\tlearn: 1196.1693754\ttotal: 20.3s\tremaining: 8.33s\n",
      "39:\tlearn: 1185.0584503\ttotal: 20.8s\tremaining: 7.81s\n",
      "40:\tlearn: 1177.1723654\ttotal: 21.3s\tremaining: 7.29s\n",
      "41:\tlearn: 1173.3629504\ttotal: 21.8s\tremaining: 6.76s\n",
      "42:\tlearn: 1166.9381830\ttotal: 22.4s\tremaining: 6.24s\n",
      "43:\tlearn: 1159.7341944\ttotal: 22.9s\tremaining: 5.72s\n",
      "44:\tlearn: 1152.8922859\ttotal: 23.4s\tremaining: 5.2s\n",
      "45:\tlearn: 1148.2576513\ttotal: 23.9s\tremaining: 4.68s\n",
      "46:\tlearn: 1143.6769240\ttotal: 24.4s\tremaining: 4.16s\n",
      "47:\tlearn: 1133.6571382\ttotal: 25s\tremaining: 3.64s\n",
      "48:\tlearn: 1130.0576340\ttotal: 25.5s\tremaining: 3.12s\n",
      "49:\tlearn: 1128.1887646\ttotal: 26s\tremaining: 2.6s\n",
      "50:\tlearn: 1124.2700759\ttotal: 26.5s\tremaining: 2.08s\n",
      "51:\tlearn: 1117.9919018\ttotal: 27s\tremaining: 1.56s\n",
      "52:\tlearn: 1110.0503578\ttotal: 27.6s\tremaining: 1.04s\n",
      "53:\tlearn: 1104.4147533\ttotal: 28.1s\tremaining: 521ms\n",
      "54:\tlearn: 1102.4643905\ttotal: 28.7s\tremaining: 0us\n",
      "0:\tlearn: 2998.0537299\ttotal: 146ms\tremaining: 7.9s\n",
      "1:\tlearn: 2304.3249759\ttotal: 655ms\tremaining: 17.4s\n",
      "2:\tlearn: 1945.3662328\ttotal: 1.19s\tremaining: 20.6s\n",
      "3:\tlearn: 1764.7349883\ttotal: 1.68s\tremaining: 21.4s\n",
      "4:\tlearn: 1675.8165249\ttotal: 2.19s\tremaining: 21.9s\n",
      "5:\tlearn: 1600.6341157\ttotal: 2.74s\tremaining: 22.3s\n",
      "6:\tlearn: 1557.6714299\ttotal: 3.28s\tremaining: 22.5s\n",
      "7:\tlearn: 1530.3581063\ttotal: 3.82s\tremaining: 22.4s\n",
      "8:\tlearn: 1503.8393830\ttotal: 4.37s\tremaining: 22.3s\n",
      "9:\tlearn: 1477.3385538\ttotal: 4.9s\tremaining: 22s\n",
      "10:\tlearn: 1462.2879916\ttotal: 5.4s\tremaining: 21.6s\n",
      "11:\tlearn: 1448.5275611\ttotal: 5.91s\tremaining: 21.2s\n",
      "12:\tlearn: 1432.2105298\ttotal: 6.46s\tremaining: 20.9s\n",
      "13:\tlearn: 1421.3327295\ttotal: 6.96s\tremaining: 20.4s\n",
      "14:\tlearn: 1399.4672200\ttotal: 7.49s\tremaining: 20s\n",
      "15:\tlearn: 1389.5557434\ttotal: 8.02s\tremaining: 19.6s\n",
      "16:\tlearn: 1377.9443766\ttotal: 8.56s\tremaining: 19.1s\n",
      "17:\tlearn: 1362.7776927\ttotal: 9.06s\tremaining: 18.6s\n",
      "18:\tlearn: 1349.1930355\ttotal: 9.56s\tremaining: 18.1s\n",
      "19:\tlearn: 1344.3473368\ttotal: 10.1s\tremaining: 17.6s\n",
      "20:\tlearn: 1336.3833447\ttotal: 10.6s\tremaining: 17.1s\n",
      "21:\tlearn: 1325.2903591\ttotal: 11.1s\tremaining: 16.6s\n",
      "22:\tlearn: 1316.4539617\ttotal: 11.6s\tremaining: 16.1s\n",
      "23:\tlearn: 1307.2056824\ttotal: 12s\tremaining: 15.6s\n",
      "24:\tlearn: 1298.7308755\ttotal: 12.5s\tremaining: 15.1s\n",
      "25:\tlearn: 1289.3822931\ttotal: 13.1s\tremaining: 14.6s\n",
      "26:\tlearn: 1275.3623034\ttotal: 13.6s\tremaining: 14.1s\n",
      "27:\tlearn: 1261.0304348\ttotal: 14.1s\tremaining: 13.6s\n",
      "28:\tlearn: 1249.3835550\ttotal: 14.6s\tremaining: 13.1s\n",
      "29:\tlearn: 1242.7109405\ttotal: 15.1s\tremaining: 12.6s\n",
      "30:\tlearn: 1238.1599299\ttotal: 15.6s\tremaining: 12.1s\n",
      "31:\tlearn: 1229.7114586\ttotal: 16.2s\tremaining: 11.6s\n",
      "32:\tlearn: 1223.8053023\ttotal: 16.7s\tremaining: 11.1s\n",
      "33:\tlearn: 1214.2663746\ttotal: 17.3s\tremaining: 10.7s\n",
      "34:\tlearn: 1204.0940111\ttotal: 17.8s\tremaining: 10.2s\n",
      "35:\tlearn: 1194.7296798\ttotal: 18.4s\tremaining: 9.7s\n",
      "36:\tlearn: 1189.4205305\ttotal: 18.9s\tremaining: 9.19s\n",
      "37:\tlearn: 1182.4994343\ttotal: 19.4s\tremaining: 8.67s\n",
      "38:\tlearn: 1178.2321580\ttotal: 19.9s\tremaining: 8.16s\n",
      "39:\tlearn: 1169.7194491\ttotal: 20.4s\tremaining: 7.65s\n",
      "40:\tlearn: 1166.3622696\ttotal: 20.9s\tremaining: 7.15s\n",
      "41:\tlearn: 1156.6298778\ttotal: 21.5s\tremaining: 6.65s\n",
      "42:\tlearn: 1151.4208202\ttotal: 22s\tremaining: 6.14s\n",
      "43:\tlearn: 1147.3469536\ttotal: 22.6s\tremaining: 5.64s\n",
      "44:\tlearn: 1142.2132010\ttotal: 23.1s\tremaining: 5.13s\n",
      "45:\tlearn: 1136.9896453\ttotal: 23.6s\tremaining: 4.62s\n",
      "46:\tlearn: 1133.6274152\ttotal: 24.1s\tremaining: 4.1s\n",
      "47:\tlearn: 1125.8358676\ttotal: 24.6s\tremaining: 3.59s\n",
      "48:\tlearn: 1118.7784966\ttotal: 25.1s\tremaining: 3.07s\n",
      "49:\tlearn: 1111.9530586\ttotal: 25.6s\tremaining: 2.56s\n",
      "50:\tlearn: 1107.8059099\ttotal: 26.2s\tremaining: 2.05s\n",
      "51:\tlearn: 1105.0515777\ttotal: 26.7s\tremaining: 1.54s\n",
      "52:\tlearn: 1094.3784058\ttotal: 27.2s\tremaining: 1.03s\n",
      "53:\tlearn: 1087.4580605\ttotal: 27.7s\tremaining: 513ms\n",
      "54:\tlearn: 1082.2651003\ttotal: 28.2s\tremaining: 0us\n",
      "0:\tlearn: 2989.5767288\ttotal: 136ms\tremaining: 7.32s\n",
      "1:\tlearn: 2291.5557894\ttotal: 631ms\tremaining: 16.7s\n",
      "2:\tlearn: 1947.1547859\ttotal: 1.12s\tremaining: 19.5s\n",
      "3:\tlearn: 1760.9422848\ttotal: 1.62s\tremaining: 20.7s\n",
      "4:\tlearn: 1674.7132485\ttotal: 2.12s\tremaining: 21.2s\n",
      "5:\tlearn: 1604.4058456\ttotal: 2.62s\tremaining: 21.4s\n",
      "6:\tlearn: 1563.2867780\ttotal: 3.11s\tremaining: 21.3s\n",
      "7:\tlearn: 1530.7655333\ttotal: 3.63s\tremaining: 21.3s\n",
      "8:\tlearn: 1508.5643362\ttotal: 4.15s\tremaining: 21.2s\n",
      "9:\tlearn: 1488.9618629\ttotal: 4.65s\tremaining: 20.9s\n",
      "10:\tlearn: 1477.1609912\ttotal: 5.18s\tremaining: 20.7s\n",
      "11:\tlearn: 1450.7349896\ttotal: 5.73s\tremaining: 20.5s\n",
      "12:\tlearn: 1440.4362516\ttotal: 6.26s\tremaining: 20.2s\n",
      "13:\tlearn: 1424.2997159\ttotal: 6.88s\tremaining: 20.2s\n",
      "14:\tlearn: 1414.0668829\ttotal: 7.44s\tremaining: 19.8s\n",
      "15:\tlearn: 1407.6015006\ttotal: 8.01s\tremaining: 19.5s\n",
      "16:\tlearn: 1397.2316508\ttotal: 8.57s\tremaining: 19.2s\n",
      "17:\tlearn: 1396.9294168\ttotal: 8.6s\tremaining: 17.7s\n",
      "18:\tlearn: 1388.5389544\ttotal: 9.13s\tremaining: 17.3s\n",
      "19:\tlearn: 1378.5388830\ttotal: 9.63s\tremaining: 16.9s\n",
      "20:\tlearn: 1363.8391404\ttotal: 10.1s\tremaining: 16.4s\n",
      "21:\tlearn: 1356.9182668\ttotal: 10.7s\tremaining: 16s\n",
      "22:\tlearn: 1349.0092011\ttotal: 11.2s\tremaining: 15.5s\n",
      "23:\tlearn: 1342.6607080\ttotal: 11.7s\tremaining: 15.1s\n",
      "24:\tlearn: 1329.1506444\ttotal: 12.2s\tremaining: 14.6s\n",
      "25:\tlearn: 1316.0209487\ttotal: 12.7s\tremaining: 14.2s\n",
      "26:\tlearn: 1306.0491208\ttotal: 13.2s\tremaining: 13.7s\n",
      "27:\tlearn: 1297.0565698\ttotal: 13.7s\tremaining: 13.2s\n",
      "28:\tlearn: 1283.8951803\ttotal: 14.3s\tremaining: 12.8s\n",
      "29:\tlearn: 1278.5114982\ttotal: 14.8s\tremaining: 12.4s\n",
      "30:\tlearn: 1272.3959301\ttotal: 15.3s\tremaining: 11.9s\n",
      "31:\tlearn: 1264.0240766\ttotal: 15.9s\tremaining: 11.4s\n",
      "32:\tlearn: 1259.5661623\ttotal: 16.4s\tremaining: 10.9s\n",
      "33:\tlearn: 1242.6533775\ttotal: 16.9s\tremaining: 10.5s\n",
      "34:\tlearn: 1235.7352209\ttotal: 17.4s\tremaining: 9.96s\n",
      "35:\tlearn: 1230.3283479\ttotal: 18s\tremaining: 9.48s\n",
      "36:\tlearn: 1226.9647911\ttotal: 18.5s\tremaining: 8.99s\n",
      "37:\tlearn: 1219.6306315\ttotal: 19s\tremaining: 8.49s\n",
      "38:\tlearn: 1216.3864160\ttotal: 19.5s\tremaining: 8s\n",
      "39:\tlearn: 1210.4646037\ttotal: 20s\tremaining: 7.5s\n",
      "40:\tlearn: 1203.9384630\ttotal: 20.5s\tremaining: 7.01s\n",
      "41:\tlearn: 1199.4518100\ttotal: 21s\tremaining: 6.5s\n",
      "42:\tlearn: 1193.1246277\ttotal: 21.5s\tremaining: 6.01s\n",
      "43:\tlearn: 1186.7337480\ttotal: 22.1s\tremaining: 5.51s\n",
      "44:\tlearn: 1173.7518174\ttotal: 22.6s\tremaining: 5.01s\n",
      "45:\tlearn: 1167.5866398\ttotal: 23.1s\tremaining: 4.51s\n",
      "46:\tlearn: 1156.2536950\ttotal: 23.6s\tremaining: 4.01s\n",
      "47:\tlearn: 1149.3417665\ttotal: 24.1s\tremaining: 3.52s\n",
      "48:\tlearn: 1144.0144437\ttotal: 24.6s\tremaining: 3.02s\n",
      "49:\tlearn: 1131.8409246\ttotal: 25.1s\tremaining: 2.52s\n",
      "50:\tlearn: 1123.7027037\ttotal: 25.7s\tremaining: 2.01s\n",
      "51:\tlearn: 1121.4321480\ttotal: 26.2s\tremaining: 1.51s\n",
      "52:\tlearn: 1116.9919911\ttotal: 26.7s\tremaining: 1.01s\n",
      "53:\tlearn: 1109.0700816\ttotal: 27.2s\tremaining: 504ms\n",
      "54:\tlearn: 1107.4584483\ttotal: 27.7s\tremaining: 0us\n",
      "0:\tlearn: 3916.0467359\ttotal: 65.1ms\tremaining: 3.84s\n",
      "1:\tlearn: 3411.2737681\ttotal: 124ms\tremaining: 3.6s\n",
      "2:\tlearn: 3016.2318393\ttotal: 183ms\tremaining: 3.47s\n",
      "3:\tlearn: 2720.4549287\ttotal: 244ms\tremaining: 3.41s\n",
      "4:\tlearn: 2504.1404040\ttotal: 308ms\tremaining: 3.38s\n",
      "5:\tlearn: 2308.0561474\ttotal: 369ms\tremaining: 3.32s\n",
      "6:\tlearn: 2166.1412775\ttotal: 426ms\tremaining: 3.22s\n",
      "7:\tlearn: 2061.4955012\ttotal: 485ms\tremaining: 3.15s\n",
      "8:\tlearn: 1973.2411512\ttotal: 544ms\tremaining: 3.08s\n",
      "9:\tlearn: 1905.8971491\ttotal: 602ms\tremaining: 3.01s\n",
      "10:\tlearn: 1857.7075057\ttotal: 663ms\tremaining: 2.95s\n",
      "11:\tlearn: 1816.5073300\ttotal: 722ms\tremaining: 2.89s\n",
      "12:\tlearn: 1788.5497254\ttotal: 784ms\tremaining: 2.83s\n",
      "13:\tlearn: 1754.4309886\ttotal: 853ms\tremaining: 2.8s\n",
      "14:\tlearn: 1730.6721492\ttotal: 913ms\tremaining: 2.74s\n",
      "15:\tlearn: 1711.1528448\ttotal: 978ms\tremaining: 2.69s\n",
      "16:\tlearn: 1695.4236801\ttotal: 1.05s\tremaining: 2.65s\n",
      "17:\tlearn: 1682.5036056\ttotal: 1.11s\tremaining: 2.59s\n",
      "18:\tlearn: 1671.0753590\ttotal: 1.17s\tremaining: 2.52s\n",
      "19:\tlearn: 1660.2452043\ttotal: 1.23s\tremaining: 2.46s\n",
      "20:\tlearn: 1651.2010566\ttotal: 1.29s\tremaining: 2.4s\n",
      "21:\tlearn: 1644.2160759\ttotal: 1.35s\tremaining: 2.33s\n",
      "22:\tlearn: 1638.2179158\ttotal: 1.41s\tremaining: 2.27s\n",
      "23:\tlearn: 1632.0577544\ttotal: 1.47s\tremaining: 2.21s\n",
      "24:\tlearn: 1626.5700944\ttotal: 1.54s\tremaining: 2.15s\n",
      "25:\tlearn: 1623.1548507\ttotal: 1.6s\tremaining: 2.09s\n",
      "26:\tlearn: 1617.5329530\ttotal: 1.67s\tremaining: 2.04s\n",
      "27:\tlearn: 1611.8071358\ttotal: 1.73s\tremaining: 1.98s\n",
      "28:\tlearn: 1609.4994032\ttotal: 1.8s\tremaining: 1.93s\n",
      "29:\tlearn: 1604.4843962\ttotal: 1.87s\tremaining: 1.87s\n",
      "30:\tlearn: 1600.1033375\ttotal: 1.94s\tremaining: 1.81s\n",
      "31:\tlearn: 1597.3190692\ttotal: 2.01s\tremaining: 1.76s\n",
      "32:\tlearn: 1593.7225512\ttotal: 2.08s\tremaining: 1.7s\n",
      "33:\tlearn: 1589.5408177\ttotal: 2.15s\tremaining: 1.65s\n",
      "34:\tlearn: 1584.1898916\ttotal: 2.21s\tremaining: 1.58s\n",
      "35:\tlearn: 1579.5820781\ttotal: 2.27s\tremaining: 1.52s\n",
      "36:\tlearn: 1575.6393278\ttotal: 2.34s\tremaining: 1.45s\n",
      "37:\tlearn: 1571.5884459\ttotal: 2.41s\tremaining: 1.39s\n",
      "38:\tlearn: 1569.7068230\ttotal: 2.48s\tremaining: 1.33s\n",
      "39:\tlearn: 1564.8043840\ttotal: 2.54s\tremaining: 1.27s\n",
      "40:\tlearn: 1562.2669824\ttotal: 2.6s\tremaining: 1.21s\n",
      "41:\tlearn: 1559.5463854\ttotal: 2.67s\tremaining: 1.14s\n",
      "42:\tlearn: 1555.3797402\ttotal: 2.73s\tremaining: 1.08s\n",
      "43:\tlearn: 1552.1076781\ttotal: 2.79s\tremaining: 1.01s\n",
      "44:\tlearn: 1549.9372496\ttotal: 2.86s\tremaining: 953ms\n",
      "45:\tlearn: 1547.6575011\ttotal: 2.92s\tremaining: 890ms\n",
      "46:\tlearn: 1546.3142710\ttotal: 2.98s\tremaining: 826ms\n",
      "47:\tlearn: 1545.2226594\ttotal: 3.05s\tremaining: 762ms\n",
      "48:\tlearn: 1543.9164782\ttotal: 3.12s\tremaining: 700ms\n",
      "49:\tlearn: 1540.2076361\ttotal: 3.18s\tremaining: 636ms\n",
      "50:\tlearn: 1536.2763020\ttotal: 3.25s\tremaining: 574ms\n",
      "51:\tlearn: 1534.2301819\ttotal: 3.32s\tremaining: 511ms\n",
      "52:\tlearn: 1532.1342025\ttotal: 3.39s\tremaining: 447ms\n",
      "53:\tlearn: 1528.1163966\ttotal: 3.45s\tremaining: 384ms\n",
      "54:\tlearn: 1526.3197102\ttotal: 3.52s\tremaining: 320ms\n",
      "55:\tlearn: 1523.6820153\ttotal: 3.6s\tremaining: 257ms\n",
      "56:\tlearn: 1521.3746124\ttotal: 3.66s\tremaining: 193ms\n",
      "57:\tlearn: 1519.2729532\ttotal: 3.72s\tremaining: 128ms\n",
      "58:\tlearn: 1516.0169054\ttotal: 3.79s\tremaining: 64.2ms\n",
      "59:\tlearn: 1513.8250672\ttotal: 3.86s\tremaining: 0us\n",
      "0:\tlearn: 3932.2315890\ttotal: 74.6ms\tremaining: 4.4s\n",
      "1:\tlearn: 3415.4236669\ttotal: 146ms\tremaining: 4.22s\n",
      "2:\tlearn: 3006.6357624\ttotal: 220ms\tremaining: 4.17s\n",
      "3:\tlearn: 2707.0741941\ttotal: 318ms\tremaining: 4.46s\n",
      "4:\tlearn: 2487.8158546\ttotal: 392ms\tremaining: 4.31s\n",
      "5:\tlearn: 2291.3605745\ttotal: 470ms\tremaining: 4.23s\n",
      "6:\tlearn: 2146.6624882\ttotal: 554ms\tremaining: 4.19s\n",
      "7:\tlearn: 2040.0239649\ttotal: 631ms\tremaining: 4.1s\n",
      "8:\tlearn: 1947.2569539\ttotal: 708ms\tremaining: 4.01s\n",
      "9:\tlearn: 1879.8883120\ttotal: 828ms\tremaining: 4.14s\n",
      "10:\tlearn: 1832.2417023\ttotal: 955ms\tremaining: 4.25s\n",
      "11:\tlearn: 1794.1907762\ttotal: 1.09s\tremaining: 4.37s\n",
      "12:\tlearn: 1765.6046405\ttotal: 1.16s\tremaining: 4.2s\n",
      "13:\tlearn: 1735.5721315\ttotal: 1.23s\tremaining: 4.06s\n",
      "14:\tlearn: 1713.7246651\ttotal: 1.3s\tremaining: 3.91s\n",
      "15:\tlearn: 1697.2513562\ttotal: 1.38s\tremaining: 3.78s\n",
      "16:\tlearn: 1679.1399862\ttotal: 1.45s\tremaining: 3.67s\n",
      "17:\tlearn: 1666.6548668\ttotal: 1.52s\tremaining: 3.54s\n",
      "18:\tlearn: 1657.9893721\ttotal: 1.59s\tremaining: 3.43s\n",
      "19:\tlearn: 1647.2873039\ttotal: 1.66s\tremaining: 3.32s\n",
      "20:\tlearn: 1639.6650955\ttotal: 1.73s\tremaining: 3.21s\n",
      "21:\tlearn: 1630.3645648\ttotal: 1.8s\tremaining: 3.11s\n",
      "22:\tlearn: 1623.6912341\ttotal: 1.87s\tremaining: 3s\n",
      "23:\tlearn: 1619.1488855\ttotal: 1.94s\tremaining: 2.9s\n",
      "24:\tlearn: 1612.9915825\ttotal: 2.01s\tremaining: 2.81s\n",
      "25:\tlearn: 1606.8574445\ttotal: 2.07s\tremaining: 2.71s\n",
      "26:\tlearn: 1603.2316608\ttotal: 2.14s\tremaining: 2.61s\n",
      "27:\tlearn: 1599.4844391\ttotal: 2.21s\tremaining: 2.52s\n",
      "28:\tlearn: 1596.0085382\ttotal: 2.27s\tremaining: 2.43s\n",
      "29:\tlearn: 1592.5441055\ttotal: 2.34s\tremaining: 2.34s\n",
      "30:\tlearn: 1588.3490308\ttotal: 2.41s\tremaining: 2.25s\n",
      "31:\tlearn: 1581.4249562\ttotal: 2.48s\tremaining: 2.17s\n",
      "32:\tlearn: 1576.7691522\ttotal: 2.54s\tremaining: 2.08s\n",
      "33:\tlearn: 1574.1857590\ttotal: 2.6s\tremaining: 1.99s\n",
      "34:\tlearn: 1570.7311310\ttotal: 2.66s\tremaining: 1.9s\n",
      "35:\tlearn: 1566.1575289\ttotal: 2.73s\tremaining: 1.82s\n",
      "36:\tlearn: 1561.4212678\ttotal: 2.79s\tremaining: 1.74s\n",
      "37:\tlearn: 1557.5087302\ttotal: 2.85s\tremaining: 1.65s\n",
      "38:\tlearn: 1555.3886634\ttotal: 2.92s\tremaining: 1.57s\n",
      "39:\tlearn: 1548.8481599\ttotal: 2.98s\tremaining: 1.49s\n",
      "40:\tlearn: 1545.0316977\ttotal: 3.04s\tremaining: 1.41s\n",
      "41:\tlearn: 1540.8603316\ttotal: 3.11s\tremaining: 1.33s\n",
      "42:\tlearn: 1539.2506596\ttotal: 3.18s\tremaining: 1.26s\n",
      "43:\tlearn: 1537.5088326\ttotal: 3.25s\tremaining: 1.18s\n",
      "44:\tlearn: 1535.6568824\ttotal: 3.32s\tremaining: 1.1s\n",
      "45:\tlearn: 1532.6150188\ttotal: 3.4s\tremaining: 1.03s\n",
      "46:\tlearn: 1528.0437728\ttotal: 3.48s\tremaining: 961ms\n",
      "47:\tlearn: 1523.4014078\ttotal: 3.56s\tremaining: 891ms\n",
      "48:\tlearn: 1518.3819913\ttotal: 3.64s\tremaining: 816ms\n",
      "49:\tlearn: 1516.4185430\ttotal: 3.7s\tremaining: 740ms\n",
      "50:\tlearn: 1514.4262352\ttotal: 3.76s\tremaining: 664ms\n",
      "51:\tlearn: 1511.5524247\ttotal: 3.82s\tremaining: 588ms\n",
      "52:\tlearn: 1507.8314409\ttotal: 3.89s\tremaining: 514ms\n",
      "53:\tlearn: 1502.7528026\ttotal: 3.95s\tremaining: 439ms\n",
      "54:\tlearn: 1500.7036119\ttotal: 4.01s\tremaining: 365ms\n",
      "55:\tlearn: 1496.9766588\ttotal: 4.08s\tremaining: 291ms\n",
      "56:\tlearn: 1494.9446136\ttotal: 4.14s\tremaining: 218ms\n",
      "57:\tlearn: 1493.4137339\ttotal: 4.2s\tremaining: 145ms\n",
      "58:\tlearn: 1491.2483321\ttotal: 4.26s\tremaining: 72.2ms\n",
      "59:\tlearn: 1487.7598386\ttotal: 4.32s\tremaining: 0us\n",
      "0:\tlearn: 3922.0145943\ttotal: 71.1ms\tremaining: 4.19s\n",
      "1:\tlearn: 3414.2738230\ttotal: 138ms\tremaining: 4.01s\n",
      "2:\tlearn: 3019.6561737\ttotal: 222ms\tremaining: 4.21s\n",
      "3:\tlearn: 2717.4311544\ttotal: 289ms\tremaining: 4.04s\n",
      "4:\tlearn: 2493.6713504\ttotal: 361ms\tremaining: 3.98s\n",
      "5:\tlearn: 2307.0067476\ttotal: 435ms\tremaining: 3.92s\n",
      "6:\tlearn: 2165.5162914\ttotal: 506ms\tremaining: 3.83s\n",
      "7:\tlearn: 2060.4809906\ttotal: 574ms\tremaining: 3.73s\n",
      "8:\tlearn: 1984.6507118\ttotal: 640ms\tremaining: 3.63s\n",
      "9:\tlearn: 1909.8339006\ttotal: 706ms\tremaining: 3.53s\n",
      "10:\tlearn: 1856.7694504\ttotal: 767ms\tremaining: 3.41s\n",
      "11:\tlearn: 1820.6515953\ttotal: 828ms\tremaining: 3.31s\n",
      "12:\tlearn: 1781.6885149\ttotal: 887ms\tremaining: 3.21s\n",
      "13:\tlearn: 1746.6410466\ttotal: 950ms\tremaining: 3.12s\n",
      "14:\tlearn: 1724.1602426\ttotal: 1.02s\tremaining: 3.05s\n",
      "15:\tlearn: 1706.3941474\ttotal: 1.08s\tremaining: 2.96s\n",
      "16:\tlearn: 1691.3542097\ttotal: 1.14s\tremaining: 2.87s\n",
      "17:\tlearn: 1678.0545282\ttotal: 1.2s\tremaining: 2.79s\n",
      "18:\tlearn: 1664.9917090\ttotal: 1.26s\tremaining: 2.71s\n",
      "19:\tlearn: 1654.8997371\ttotal: 1.32s\tremaining: 2.63s\n",
      "20:\tlearn: 1645.1420603\ttotal: 1.38s\tremaining: 2.56s\n",
      "21:\tlearn: 1636.1764498\ttotal: 1.45s\tremaining: 2.51s\n",
      "22:\tlearn: 1630.3709850\ttotal: 1.52s\tremaining: 2.44s\n",
      "23:\tlearn: 1625.3831275\ttotal: 1.59s\tremaining: 2.38s\n",
      "24:\tlearn: 1620.4983318\ttotal: 1.65s\tremaining: 2.31s\n",
      "25:\tlearn: 1616.8382844\ttotal: 1.71s\tremaining: 2.24s\n",
      "26:\tlearn: 1612.9490593\ttotal: 1.77s\tremaining: 2.17s\n",
      "27:\tlearn: 1608.8420164\ttotal: 1.84s\tremaining: 2.1s\n",
      "28:\tlearn: 1604.4551615\ttotal: 1.9s\tremaining: 2.04s\n",
      "29:\tlearn: 1601.4040685\ttotal: 1.96s\tremaining: 1.96s\n",
      "30:\tlearn: 1596.9675133\ttotal: 2.02s\tremaining: 1.9s\n",
      "31:\tlearn: 1593.2434537\ttotal: 2.08s\tremaining: 1.82s\n",
      "32:\tlearn: 1589.9770235\ttotal: 2.15s\tremaining: 1.76s\n",
      "33:\tlearn: 1583.0024034\ttotal: 2.21s\tremaining: 1.69s\n",
      "34:\tlearn: 1579.7247534\ttotal: 2.29s\tremaining: 1.64s\n",
      "35:\tlearn: 1575.6434600\ttotal: 2.36s\tremaining: 1.57s\n",
      "36:\tlearn: 1572.1053530\ttotal: 2.43s\tremaining: 1.51s\n",
      "37:\tlearn: 1566.8944650\ttotal: 2.5s\tremaining: 1.45s\n",
      "38:\tlearn: 1562.6301290\ttotal: 2.57s\tremaining: 1.38s\n",
      "39:\tlearn: 1560.1811423\ttotal: 2.64s\tremaining: 1.32s\n",
      "40:\tlearn: 1556.0471957\ttotal: 2.7s\tremaining: 1.25s\n",
      "41:\tlearn: 1551.7565516\ttotal: 2.76s\tremaining: 1.18s\n",
      "42:\tlearn: 1549.7213636\ttotal: 2.83s\tremaining: 1.12s\n",
      "43:\tlearn: 1547.9841065\ttotal: 2.89s\tremaining: 1.05s\n",
      "44:\tlearn: 1546.6080913\ttotal: 2.95s\tremaining: 984ms\n",
      "45:\tlearn: 1544.9483426\ttotal: 3.02s\tremaining: 919ms\n",
      "46:\tlearn: 1543.6017805\ttotal: 3.09s\tremaining: 854ms\n",
      "47:\tlearn: 1537.9224494\ttotal: 3.15s\tremaining: 787ms\n",
      "48:\tlearn: 1535.0489898\ttotal: 3.21s\tremaining: 722ms\n",
      "49:\tlearn: 1530.2702263\ttotal: 3.27s\tremaining: 655ms\n",
      "50:\tlearn: 1527.6997838\ttotal: 3.33s\tremaining: 588ms\n",
      "51:\tlearn: 1522.8533956\ttotal: 3.4s\tremaining: 523ms\n",
      "52:\tlearn: 1519.8492887\ttotal: 3.46s\tremaining: 457ms\n",
      "53:\tlearn: 1516.2703551\ttotal: 3.52s\tremaining: 392ms\n",
      "54:\tlearn: 1512.9625341\ttotal: 3.59s\tremaining: 326ms\n",
      "55:\tlearn: 1509.2334201\ttotal: 3.65s\tremaining: 261ms\n",
      "56:\tlearn: 1507.7700886\ttotal: 3.71s\tremaining: 195ms\n",
      "57:\tlearn: 1503.6912179\ttotal: 3.77s\tremaining: 130ms\n",
      "58:\tlearn: 1501.9876058\ttotal: 3.83s\tremaining: 64.9ms\n",
      "59:\tlearn: 1498.8827992\ttotal: 3.9s\tremaining: 0us\n",
      "0:\tlearn: 3901.7214390\ttotal: 139ms\tremaining: 8.22s\n",
      "1:\tlearn: 3370.7154321\ttotal: 637ms\tremaining: 18.5s\n",
      "2:\tlearn: 2996.2912641\ttotal: 700ms\tremaining: 13.3s\n",
      "3:\tlearn: 2690.5756951\ttotal: 1.2s\tremaining: 16.8s\n",
      "4:\tlearn: 2457.9111387\ttotal: 1.68s\tremaining: 18.5s\n",
      "5:\tlearn: 2259.5236129\ttotal: 2.17s\tremaining: 19.5s\n",
      "6:\tlearn: 2103.9423875\ttotal: 2.65s\tremaining: 20.1s\n",
      "7:\tlearn: 1992.3023790\ttotal: 3.17s\tremaining: 20.6s\n",
      "8:\tlearn: 1894.5550613\ttotal: 3.68s\tremaining: 20.9s\n",
      "9:\tlearn: 1816.6420592\ttotal: 4.2s\tremaining: 21s\n",
      "10:\tlearn: 1758.5833856\ttotal: 4.69s\tremaining: 20.9s\n",
      "11:\tlearn: 1716.3366218\ttotal: 5.18s\tremaining: 20.7s\n",
      "12:\tlearn: 1679.9832992\ttotal: 5.68s\tremaining: 20.6s\n",
      "13:\tlearn: 1654.2473427\ttotal: 6.18s\tremaining: 20.3s\n",
      "14:\tlearn: 1619.5121209\ttotal: 6.66s\tremaining: 20s\n",
      "15:\tlearn: 1592.8600543\ttotal: 7.15s\tremaining: 19.7s\n",
      "16:\tlearn: 1568.8029334\ttotal: 7.64s\tremaining: 19.3s\n",
      "17:\tlearn: 1549.6870425\ttotal: 8.13s\tremaining: 19s\n",
      "18:\tlearn: 1528.9296897\ttotal: 8.62s\tremaining: 18.6s\n",
      "19:\tlearn: 1516.1048277\ttotal: 9.12s\tremaining: 18.2s\n",
      "20:\tlearn: 1506.8946236\ttotal: 9.61s\tremaining: 17.8s\n",
      "21:\tlearn: 1495.5594716\ttotal: 10.1s\tremaining: 17.4s\n",
      "22:\tlearn: 1486.2286415\ttotal: 10.6s\tremaining: 17.1s\n",
      "23:\tlearn: 1478.6918104\ttotal: 11.1s\tremaining: 16.6s\n",
      "24:\tlearn: 1471.6344429\ttotal: 11.6s\tremaining: 16.2s\n",
      "25:\tlearn: 1465.7361737\ttotal: 12.1s\tremaining: 15.8s\n",
      "26:\tlearn: 1458.9894328\ttotal: 12.6s\tremaining: 15.4s\n",
      "27:\tlearn: 1450.1623135\ttotal: 13.1s\tremaining: 15s\n",
      "28:\tlearn: 1445.2483295\ttotal: 13.6s\tremaining: 14.5s\n",
      "29:\tlearn: 1440.1958383\ttotal: 14.1s\tremaining: 14.1s\n",
      "30:\tlearn: 1433.5491360\ttotal: 14.7s\tremaining: 13.7s\n",
      "31:\tlearn: 1427.6610908\ttotal: 15.2s\tremaining: 13.3s\n",
      "32:\tlearn: 1423.2457131\ttotal: 15.7s\tremaining: 12.9s\n",
      "33:\tlearn: 1416.8811904\ttotal: 16.2s\tremaining: 12.4s\n",
      "34:\tlearn: 1408.6541703\ttotal: 16.7s\tremaining: 11.9s\n",
      "35:\tlearn: 1403.3606376\ttotal: 17.2s\tremaining: 11.5s\n",
      "36:\tlearn: 1398.2006697\ttotal: 17.7s\tremaining: 11s\n",
      "37:\tlearn: 1395.0389798\ttotal: 18.2s\tremaining: 10.5s\n",
      "38:\tlearn: 1394.9900498\ttotal: 18.2s\tremaining: 9.81s\n",
      "39:\tlearn: 1390.6805001\ttotal: 18.7s\tremaining: 9.37s\n",
      "40:\tlearn: 1385.4281205\ttotal: 19.3s\tremaining: 8.92s\n",
      "41:\tlearn: 1381.3029937\ttotal: 19.7s\tremaining: 8.46s\n",
      "42:\tlearn: 1375.6099200\ttotal: 20.2s\tremaining: 8s\n",
      "43:\tlearn: 1367.8119231\ttotal: 20.7s\tremaining: 7.54s\n",
      "44:\tlearn: 1363.0670649\ttotal: 21.2s\tremaining: 7.08s\n",
      "45:\tlearn: 1359.3711536\ttotal: 21.7s\tremaining: 6.62s\n",
      "46:\tlearn: 1356.0086950\ttotal: 22.3s\tremaining: 6.16s\n",
      "47:\tlearn: 1353.1761168\ttotal: 22.8s\tremaining: 5.7s\n",
      "48:\tlearn: 1348.3685602\ttotal: 23.3s\tremaining: 5.24s\n",
      "49:\tlearn: 1343.2705529\ttotal: 23.9s\tremaining: 4.79s\n",
      "50:\tlearn: 1337.5416592\ttotal: 24.5s\tremaining: 4.33s\n",
      "51:\tlearn: 1333.0682671\ttotal: 25.2s\tremaining: 3.87s\n",
      "52:\tlearn: 1329.5129916\ttotal: 25.7s\tremaining: 3.4s\n",
      "53:\tlearn: 1325.8166226\ttotal: 26.3s\tremaining: 2.92s\n",
      "54:\tlearn: 1319.3315963\ttotal: 26.8s\tremaining: 2.44s\n",
      "55:\tlearn: 1315.6031399\ttotal: 27.3s\tremaining: 1.95s\n",
      "56:\tlearn: 1311.5333052\ttotal: 27.9s\tremaining: 1.47s\n",
      "57:\tlearn: 1306.8318554\ttotal: 28.4s\tremaining: 979ms\n",
      "58:\tlearn: 1297.4765192\ttotal: 28.9s\tremaining: 490ms\n",
      "59:\tlearn: 1293.1050387\ttotal: 29.4s\tremaining: 0us\n",
      "0:\tlearn: 3916.7357416\ttotal: 135ms\tremaining: 7.97s\n",
      "1:\tlearn: 3388.4377544\ttotal: 381ms\tremaining: 11.1s\n",
      "2:\tlearn: 2974.2415033\ttotal: 892ms\tremaining: 16.9s\n",
      "3:\tlearn: 2666.2898805\ttotal: 1.39s\tremaining: 19.5s\n",
      "4:\tlearn: 2438.0687112\ttotal: 1.87s\tremaining: 20.6s\n",
      "5:\tlearn: 2231.7028572\ttotal: 2.37s\tremaining: 21.3s\n",
      "6:\tlearn: 2076.3598767\ttotal: 2.86s\tremaining: 21.6s\n",
      "7:\tlearn: 1960.3812752\ttotal: 3.35s\tremaining: 21.8s\n",
      "8:\tlearn: 1861.3413691\ttotal: 3.88s\tremaining: 22s\n",
      "9:\tlearn: 1789.6203265\ttotal: 4.38s\tremaining: 21.9s\n",
      "10:\tlearn: 1733.8543577\ttotal: 4.87s\tremaining: 21.7s\n",
      "11:\tlearn: 1695.4276253\ttotal: 5.38s\tremaining: 21.5s\n",
      "12:\tlearn: 1660.6490752\ttotal: 5.88s\tremaining: 21.3s\n",
      "13:\tlearn: 1633.1873438\ttotal: 6.38s\tremaining: 20.9s\n",
      "14:\tlearn: 1611.2843155\ttotal: 6.87s\tremaining: 20.6s\n",
      "15:\tlearn: 1584.2181012\ttotal: 7.37s\tremaining: 20.3s\n",
      "16:\tlearn: 1561.0774778\ttotal: 7.87s\tremaining: 19.9s\n",
      "17:\tlearn: 1539.7339781\ttotal: 8.37s\tremaining: 19.5s\n",
      "18:\tlearn: 1522.8750166\ttotal: 8.87s\tremaining: 19.1s\n",
      "19:\tlearn: 1506.7697603\ttotal: 9.4s\tremaining: 18.8s\n",
      "20:\tlearn: 1494.8362840\ttotal: 9.89s\tremaining: 18.4s\n",
      "21:\tlearn: 1481.8548747\ttotal: 10.4s\tremaining: 18s\n",
      "22:\tlearn: 1473.1987073\ttotal: 10.9s\tremaining: 17.5s\n",
      "23:\tlearn: 1462.1254632\ttotal: 11.4s\tremaining: 17.1s\n",
      "24:\tlearn: 1454.2476545\ttotal: 11.9s\tremaining: 16.7s\n",
      "25:\tlearn: 1447.2112257\ttotal: 12.4s\tremaining: 16.2s\n",
      "26:\tlearn: 1440.9895291\ttotal: 12.9s\tremaining: 15.8s\n",
      "27:\tlearn: 1435.4715319\ttotal: 13.4s\tremaining: 15.3s\n",
      "28:\tlearn: 1429.0476252\ttotal: 13.9s\tremaining: 14.9s\n",
      "29:\tlearn: 1421.5646632\ttotal: 14.4s\tremaining: 14.4s\n",
      "30:\tlearn: 1417.1074017\ttotal: 14.9s\tremaining: 14s\n",
      "31:\tlearn: 1410.5806075\ttotal: 15.5s\tremaining: 13.5s\n",
      "32:\tlearn: 1405.5330210\ttotal: 15.9s\tremaining: 13s\n",
      "33:\tlearn: 1401.7086053\ttotal: 16.4s\tremaining: 12.6s\n",
      "34:\tlearn: 1397.1324600\ttotal: 16.9s\tremaining: 12.1s\n",
      "35:\tlearn: 1392.4247527\ttotal: 17.4s\tremaining: 11.6s\n",
      "36:\tlearn: 1383.5663134\ttotal: 17.9s\tremaining: 11.1s\n",
      "37:\tlearn: 1378.9193862\ttotal: 18.4s\tremaining: 10.7s\n",
      "38:\tlearn: 1371.8740402\ttotal: 19s\tremaining: 10.2s\n",
      "39:\tlearn: 1366.2699005\ttotal: 19.5s\tremaining: 9.76s\n",
      "40:\tlearn: 1356.8333868\ttotal: 20.1s\tremaining: 9.3s\n",
      "41:\tlearn: 1348.8090815\ttotal: 20.6s\tremaining: 8.85s\n",
      "42:\tlearn: 1345.1844433\ttotal: 21.2s\tremaining: 8.39s\n",
      "43:\tlearn: 1339.0420439\ttotal: 21.8s\tremaining: 7.92s\n",
      "44:\tlearn: 1335.4936437\ttotal: 22.3s\tremaining: 7.44s\n",
      "45:\tlearn: 1332.1738148\ttotal: 22.8s\tremaining: 6.95s\n",
      "46:\tlearn: 1329.0826494\ttotal: 23.4s\tremaining: 6.46s\n",
      "47:\tlearn: 1323.3884587\ttotal: 23.9s\tremaining: 5.98s\n",
      "48:\tlearn: 1318.9867423\ttotal: 24.4s\tremaining: 5.49s\n",
      "49:\tlearn: 1313.3150492\ttotal: 25s\tremaining: 4.99s\n",
      "50:\tlearn: 1311.2827292\ttotal: 25.5s\tremaining: 4.5s\n",
      "51:\tlearn: 1306.2079620\ttotal: 26s\tremaining: 4.01s\n",
      "52:\tlearn: 1302.8683423\ttotal: 26.6s\tremaining: 3.51s\n",
      "53:\tlearn: 1300.2132365\ttotal: 27.1s\tremaining: 3.01s\n",
      "54:\tlearn: 1298.2743068\ttotal: 27.6s\tremaining: 2.51s\n",
      "55:\tlearn: 1293.7762850\ttotal: 28.2s\tremaining: 2.01s\n",
      "56:\tlearn: 1290.3779577\ttotal: 28.7s\tremaining: 1.51s\n",
      "57:\tlearn: 1286.7917650\ttotal: 29.2s\tremaining: 1.01s\n",
      "58:\tlearn: 1279.8514512\ttotal: 29.8s\tremaining: 505ms\n",
      "59:\tlearn: 1277.6608517\ttotal: 30.3s\tremaining: 0us\n",
      "0:\tlearn: 3906.6563369\ttotal: 136ms\tremaining: 8.05s\n",
      "1:\tlearn: 3383.8719353\ttotal: 660ms\tremaining: 19.1s\n",
      "2:\tlearn: 2994.5427621\ttotal: 725ms\tremaining: 13.8s\n",
      "3:\tlearn: 2684.1410019\ttotal: 1.22s\tremaining: 17.1s\n",
      "4:\tlearn: 2453.8999154\ttotal: 1.77s\tremaining: 19.5s\n",
      "5:\tlearn: 2243.9411822\ttotal: 2.32s\tremaining: 20.9s\n",
      "6:\tlearn: 2092.8374300\ttotal: 2.83s\tremaining: 21.5s\n",
      "7:\tlearn: 1980.0302720\ttotal: 3.32s\tremaining: 21.6s\n",
      "8:\tlearn: 1884.4741380\ttotal: 3.85s\tremaining: 21.9s\n",
      "9:\tlearn: 1813.4900596\ttotal: 4.37s\tremaining: 21.8s\n",
      "10:\tlearn: 1756.7861629\ttotal: 4.86s\tremaining: 21.7s\n",
      "11:\tlearn: 1714.4610467\ttotal: 5.36s\tremaining: 21.4s\n",
      "12:\tlearn: 1680.4046397\ttotal: 5.85s\tremaining: 21.2s\n",
      "13:\tlearn: 1641.5892025\ttotal: 6.34s\tremaining: 20.8s\n",
      "14:\tlearn: 1615.2088488\ttotal: 6.88s\tremaining: 20.6s\n",
      "15:\tlearn: 1593.1463363\ttotal: 7.37s\tremaining: 20.3s\n",
      "16:\tlearn: 1569.8664514\ttotal: 7.88s\tremaining: 19.9s\n",
      "17:\tlearn: 1553.3240024\ttotal: 8.38s\tremaining: 19.6s\n",
      "18:\tlearn: 1534.9247948\ttotal: 8.9s\tremaining: 19.2s\n",
      "19:\tlearn: 1516.3230402\ttotal: 9.4s\tremaining: 18.8s\n",
      "20:\tlearn: 1505.1234192\ttotal: 9.89s\tremaining: 18.4s\n",
      "21:\tlearn: 1494.4397286\ttotal: 10.4s\tremaining: 17.9s\n",
      "22:\tlearn: 1486.3101708\ttotal: 10.9s\tremaining: 17.5s\n",
      "23:\tlearn: 1479.6384908\ttotal: 11.4s\tremaining: 17.1s\n",
      "24:\tlearn: 1468.7302522\ttotal: 11.9s\tremaining: 16.6s\n",
      "25:\tlearn: 1461.3348899\ttotal: 12.4s\tremaining: 16.3s\n",
      "26:\tlearn: 1451.1030687\ttotal: 12.9s\tremaining: 15.8s\n",
      "27:\tlearn: 1444.5862341\ttotal: 13.4s\tremaining: 15.3s\n",
      "28:\tlearn: 1440.5768138\ttotal: 13.9s\tremaining: 14.9s\n",
      "29:\tlearn: 1434.4524714\ttotal: 14.4s\tremaining: 14.4s\n",
      "30:\tlearn: 1425.8741074\ttotal: 14.9s\tremaining: 14s\n",
      "31:\tlearn: 1420.4103975\ttotal: 15.4s\tremaining: 13.5s\n",
      "32:\tlearn: 1417.1349712\ttotal: 15.9s\tremaining: 13s\n",
      "33:\tlearn: 1413.6770038\ttotal: 16.4s\tremaining: 12.6s\n",
      "34:\tlearn: 1410.4467824\ttotal: 17s\tremaining: 12.1s\n",
      "35:\tlearn: 1406.0572059\ttotal: 17.5s\tremaining: 11.7s\n",
      "36:\tlearn: 1398.0946680\ttotal: 18.1s\tremaining: 11.2s\n",
      "37:\tlearn: 1393.4072584\ttotal: 18.6s\tremaining: 10.8s\n",
      "38:\tlearn: 1389.9216089\ttotal: 19.1s\tremaining: 10.3s\n",
      "39:\tlearn: 1386.6908419\ttotal: 19.6s\tremaining: 9.82s\n",
      "40:\tlearn: 1380.9853684\ttotal: 20.2s\tremaining: 9.35s\n",
      "41:\tlearn: 1375.1566245\ttotal: 20.7s\tremaining: 8.88s\n",
      "42:\tlearn: 1370.1510601\ttotal: 21.3s\tremaining: 8.43s\n",
      "43:\tlearn: 1366.3759626\ttotal: 21.9s\tremaining: 7.95s\n",
      "44:\tlearn: 1361.9087548\ttotal: 22.5s\tremaining: 7.5s\n",
      "45:\tlearn: 1356.4897279\ttotal: 23.1s\tremaining: 7.03s\n",
      "46:\tlearn: 1350.7707973\ttotal: 23.7s\tremaining: 6.54s\n",
      "47:\tlearn: 1348.2884090\ttotal: 24.2s\tremaining: 6.06s\n",
      "48:\tlearn: 1342.3638755\ttotal: 24.8s\tremaining: 5.56s\n",
      "49:\tlearn: 1337.2429564\ttotal: 25.3s\tremaining: 5.06s\n",
      "50:\tlearn: 1330.5793119\ttotal: 25.8s\tremaining: 4.56s\n",
      "51:\tlearn: 1324.8489340\ttotal: 26.4s\tremaining: 4.06s\n",
      "52:\tlearn: 1320.8626224\ttotal: 26.9s\tremaining: 3.55s\n",
      "53:\tlearn: 1317.7057640\ttotal: 27.5s\tremaining: 3.06s\n",
      "54:\tlearn: 1314.9236669\ttotal: 28s\tremaining: 2.55s\n",
      "55:\tlearn: 1311.9085410\ttotal: 28.5s\tremaining: 2.04s\n",
      "56:\tlearn: 1309.3908568\ttotal: 29s\tremaining: 1.53s\n",
      "57:\tlearn: 1306.2792575\ttotal: 29.6s\tremaining: 1.02s\n",
      "58:\tlearn: 1303.6433792\ttotal: 30s\tremaining: 509ms\n",
      "59:\tlearn: 1298.5885003\ttotal: 30.6s\tremaining: 0us\n",
      "0:\tlearn: 3028.8046907\ttotal: 73.1ms\tremaining: 4.31s\n",
      "1:\tlearn: 2363.4446934\ttotal: 148ms\tremaining: 4.28s\n",
      "2:\tlearn: 2043.5442793\ttotal: 236ms\tremaining: 4.49s\n",
      "3:\tlearn: 1876.2230899\ttotal: 316ms\tremaining: 4.42s\n",
      "4:\tlearn: 1788.3495744\ttotal: 383ms\tremaining: 4.22s\n",
      "5:\tlearn: 1746.0755713\ttotal: 446ms\tremaining: 4.01s\n",
      "6:\tlearn: 1719.6814877\ttotal: 511ms\tremaining: 3.87s\n",
      "7:\tlearn: 1691.1333393\ttotal: 587ms\tremaining: 3.81s\n",
      "8:\tlearn: 1674.8922797\ttotal: 671ms\tremaining: 3.8s\n",
      "9:\tlearn: 1661.5199733\ttotal: 763ms\tremaining: 3.81s\n",
      "10:\tlearn: 1644.6610184\ttotal: 841ms\tremaining: 3.75s\n",
      "11:\tlearn: 1636.5046564\ttotal: 906ms\tremaining: 3.62s\n",
      "12:\tlearn: 1629.4177429\ttotal: 979ms\tremaining: 3.54s\n",
      "13:\tlearn: 1619.9478415\ttotal: 1.05s\tremaining: 3.45s\n",
      "14:\tlearn: 1600.5307918\ttotal: 1.12s\tremaining: 3.35s\n",
      "15:\tlearn: 1589.1791293\ttotal: 1.19s\tremaining: 3.26s\n",
      "16:\tlearn: 1581.9616199\ttotal: 1.25s\tremaining: 3.17s\n",
      "17:\tlearn: 1573.7330249\ttotal: 1.32s\tremaining: 3.07s\n",
      "18:\tlearn: 1570.4745195\ttotal: 1.38s\tremaining: 2.99s\n",
      "19:\tlearn: 1565.0836894\ttotal: 1.45s\tremaining: 2.89s\n",
      "20:\tlearn: 1555.9817491\ttotal: 1.51s\tremaining: 2.8s\n",
      "21:\tlearn: 1548.9911138\ttotal: 1.58s\tremaining: 2.72s\n",
      "22:\tlearn: 1542.4073688\ttotal: 1.65s\tremaining: 2.66s\n",
      "23:\tlearn: 1532.5018264\ttotal: 1.71s\tremaining: 2.57s\n",
      "24:\tlearn: 1528.0074503\ttotal: 1.78s\tremaining: 2.49s\n",
      "25:\tlearn: 1522.8384919\ttotal: 1.85s\tremaining: 2.42s\n",
      "26:\tlearn: 1514.8332542\ttotal: 1.91s\tremaining: 2.33s\n",
      "27:\tlearn: 1511.0483365\ttotal: 1.97s\tremaining: 2.26s\n",
      "28:\tlearn: 1505.2200199\ttotal: 2.04s\tremaining: 2.18s\n",
      "29:\tlearn: 1496.0756136\ttotal: 2.12s\tremaining: 2.12s\n",
      "30:\tlearn: 1487.2365442\ttotal: 2.17s\tremaining: 2.04s\n",
      "31:\tlearn: 1483.3998072\ttotal: 2.24s\tremaining: 1.96s\n",
      "32:\tlearn: 1479.1938429\ttotal: 2.31s\tremaining: 1.89s\n",
      "33:\tlearn: 1475.2577413\ttotal: 2.38s\tremaining: 1.82s\n",
      "34:\tlearn: 1472.6786612\ttotal: 2.46s\tremaining: 1.76s\n",
      "35:\tlearn: 1467.1383431\ttotal: 2.52s\tremaining: 1.68s\n",
      "36:\tlearn: 1464.4975572\ttotal: 2.59s\tremaining: 1.61s\n",
      "37:\tlearn: 1460.0948292\ttotal: 2.66s\tremaining: 1.54s\n",
      "38:\tlearn: 1458.4058811\ttotal: 2.72s\tremaining: 1.47s\n",
      "39:\tlearn: 1454.5774636\ttotal: 2.79s\tremaining: 1.39s\n",
      "40:\tlearn: 1450.4237045\ttotal: 2.85s\tremaining: 1.32s\n",
      "41:\tlearn: 1446.5112329\ttotal: 2.92s\tremaining: 1.25s\n",
      "42:\tlearn: 1443.0235296\ttotal: 2.98s\tremaining: 1.18s\n",
      "43:\tlearn: 1441.4408876\ttotal: 3.06s\tremaining: 1.11s\n",
      "44:\tlearn: 1438.4221452\ttotal: 3.12s\tremaining: 1.04s\n",
      "45:\tlearn: 1434.2569587\ttotal: 3.19s\tremaining: 970ms\n",
      "46:\tlearn: 1431.2952753\ttotal: 3.25s\tremaining: 899ms\n",
      "47:\tlearn: 1428.7253757\ttotal: 3.32s\tremaining: 830ms\n",
      "48:\tlearn: 1426.1026497\ttotal: 3.38s\tremaining: 759ms\n",
      "49:\tlearn: 1424.6147012\ttotal: 3.44s\tremaining: 689ms\n",
      "50:\tlearn: 1421.0862791\ttotal: 3.51s\tremaining: 619ms\n",
      "51:\tlearn: 1417.3843837\ttotal: 3.58s\tremaining: 551ms\n",
      "52:\tlearn: 1414.3334023\ttotal: 3.65s\tremaining: 482ms\n",
      "53:\tlearn: 1410.4393317\ttotal: 3.71s\tremaining: 413ms\n",
      "54:\tlearn: 1406.9328260\ttotal: 3.77s\tremaining: 343ms\n",
      "55:\tlearn: 1404.6419890\ttotal: 3.84s\tremaining: 274ms\n",
      "56:\tlearn: 1397.6903201\ttotal: 3.9s\tremaining: 205ms\n",
      "57:\tlearn: 1394.6708581\ttotal: 3.96s\tremaining: 137ms\n",
      "58:\tlearn: 1390.4339945\ttotal: 4.03s\tremaining: 68.2ms\n",
      "59:\tlearn: 1387.5663087\ttotal: 4.09s\tremaining: 0us\n",
      "0:\tlearn: 3041.1877918\ttotal: 66.8ms\tremaining: 3.94s\n",
      "1:\tlearn: 2345.3311554\ttotal: 135ms\tremaining: 3.92s\n",
      "2:\tlearn: 2006.0166486\ttotal: 202ms\tremaining: 3.83s\n",
      "3:\tlearn: 1844.9706126\ttotal: 260ms\tremaining: 3.64s\n",
      "4:\tlearn: 1778.3221441\ttotal: 338ms\tremaining: 3.72s\n",
      "5:\tlearn: 1722.6046532\ttotal: 403ms\tremaining: 3.62s\n",
      "6:\tlearn: 1692.8236389\ttotal: 465ms\tremaining: 3.52s\n",
      "7:\tlearn: 1674.1711128\ttotal: 531ms\tremaining: 3.45s\n",
      "8:\tlearn: 1657.6294565\ttotal: 598ms\tremaining: 3.39s\n",
      "9:\tlearn: 1645.6056201\ttotal: 665ms\tremaining: 3.33s\n",
      "10:\tlearn: 1627.9890159\ttotal: 726ms\tremaining: 3.23s\n",
      "11:\tlearn: 1612.8673758\ttotal: 799ms\tremaining: 3.2s\n",
      "12:\tlearn: 1600.6940304\ttotal: 868ms\tremaining: 3.14s\n",
      "13:\tlearn: 1594.1365396\ttotal: 930ms\tremaining: 3.05s\n",
      "14:\tlearn: 1584.4911124\ttotal: 991ms\tremaining: 2.97s\n",
      "15:\tlearn: 1575.2027928\ttotal: 1.06s\tremaining: 2.91s\n",
      "16:\tlearn: 1569.0939133\ttotal: 1.12s\tremaining: 2.83s\n",
      "17:\tlearn: 1561.4520120\ttotal: 1.19s\tremaining: 2.78s\n",
      "18:\tlearn: 1554.4785978\ttotal: 1.26s\tremaining: 2.73s\n",
      "19:\tlearn: 1547.5796887\ttotal: 1.35s\tremaining: 2.7s\n",
      "20:\tlearn: 1542.6674626\ttotal: 1.42s\tremaining: 2.63s\n",
      "21:\tlearn: 1537.6295568\ttotal: 1.49s\tremaining: 2.57s\n",
      "22:\tlearn: 1533.5706149\ttotal: 1.56s\tremaining: 2.5s\n",
      "23:\tlearn: 1526.1803798\ttotal: 1.62s\tremaining: 2.44s\n",
      "24:\tlearn: 1521.2532834\ttotal: 1.69s\tremaining: 2.36s\n",
      "25:\tlearn: 1516.1102575\ttotal: 1.75s\tremaining: 2.29s\n",
      "26:\tlearn: 1510.6186398\ttotal: 1.81s\tremaining: 2.22s\n",
      "27:\tlearn: 1506.5485254\ttotal: 1.88s\tremaining: 2.15s\n",
      "28:\tlearn: 1499.6906187\ttotal: 1.95s\tremaining: 2.09s\n",
      "29:\tlearn: 1494.9534944\ttotal: 2.02s\tremaining: 2.02s\n",
      "30:\tlearn: 1491.5493098\ttotal: 2.08s\tremaining: 1.95s\n",
      "31:\tlearn: 1488.0996058\ttotal: 2.15s\tremaining: 1.88s\n",
      "32:\tlearn: 1484.8471686\ttotal: 2.21s\tremaining: 1.81s\n",
      "33:\tlearn: 1475.8428131\ttotal: 2.27s\tremaining: 1.74s\n",
      "34:\tlearn: 1468.3032420\ttotal: 2.34s\tremaining: 1.67s\n",
      "35:\tlearn: 1459.9142347\ttotal: 2.4s\tremaining: 1.6s\n",
      "36:\tlearn: 1456.6333609\ttotal: 2.47s\tremaining: 1.53s\n",
      "37:\tlearn: 1452.8130558\ttotal: 2.53s\tremaining: 1.47s\n",
      "38:\tlearn: 1449.0231050\ttotal: 2.6s\tremaining: 1.4s\n",
      "39:\tlearn: 1446.8699092\ttotal: 2.66s\tremaining: 1.33s\n",
      "40:\tlearn: 1442.9793731\ttotal: 2.73s\tremaining: 1.27s\n",
      "41:\tlearn: 1437.3568548\ttotal: 2.81s\tremaining: 1.2s\n",
      "42:\tlearn: 1431.5978443\ttotal: 2.87s\tremaining: 1.14s\n",
      "43:\tlearn: 1426.3560936\ttotal: 2.94s\tremaining: 1.07s\n",
      "44:\tlearn: 1424.3026448\ttotal: 3.01s\tremaining: 1s\n",
      "45:\tlearn: 1423.8060924\ttotal: 3.06s\tremaining: 932ms\n",
      "46:\tlearn: 1422.4595139\ttotal: 3.13s\tremaining: 865ms\n",
      "47:\tlearn: 1419.3245143\ttotal: 3.19s\tremaining: 797ms\n",
      "48:\tlearn: 1417.5169983\ttotal: 3.25s\tremaining: 731ms\n",
      "49:\tlearn: 1414.3392340\ttotal: 3.33s\tremaining: 665ms\n",
      "50:\tlearn: 1411.2228481\ttotal: 3.39s\tremaining: 599ms\n",
      "51:\tlearn: 1405.6447284\ttotal: 3.46s\tremaining: 532ms\n",
      "52:\tlearn: 1403.3979147\ttotal: 3.53s\tremaining: 466ms\n",
      "53:\tlearn: 1400.2204391\ttotal: 3.6s\tremaining: 400ms\n",
      "54:\tlearn: 1398.2404984\ttotal: 3.67s\tremaining: 333ms\n",
      "55:\tlearn: 1395.2933121\ttotal: 3.73s\tremaining: 266ms\n",
      "56:\tlearn: 1390.2016872\ttotal: 3.79s\tremaining: 200ms\n",
      "57:\tlearn: 1389.9313665\ttotal: 3.85s\tremaining: 133ms\n",
      "58:\tlearn: 1389.3938652\ttotal: 3.96s\tremaining: 67.1ms\n",
      "59:\tlearn: 1385.3009108\ttotal: 4.04s\tremaining: 0us\n",
      "0:\tlearn: 3032.5309468\ttotal: 73.8ms\tremaining: 4.36s\n",
      "1:\tlearn: 2337.4628725\ttotal: 145ms\tremaining: 4.19s\n",
      "2:\tlearn: 2022.6735711\ttotal: 224ms\tremaining: 4.26s\n",
      "3:\tlearn: 1855.0037169\ttotal: 288ms\tremaining: 4.03s\n",
      "4:\tlearn: 1786.3354950\ttotal: 358ms\tremaining: 3.94s\n",
      "5:\tlearn: 1740.8068964\ttotal: 428ms\tremaining: 3.85s\n",
      "6:\tlearn: 1704.1572469\ttotal: 489ms\tremaining: 3.7s\n",
      "7:\tlearn: 1681.0312977\ttotal: 554ms\tremaining: 3.6s\n",
      "8:\tlearn: 1669.8132496\ttotal: 619ms\tremaining: 3.51s\n",
      "9:\tlearn: 1652.7619483\ttotal: 686ms\tremaining: 3.43s\n",
      "10:\tlearn: 1639.1415574\ttotal: 754ms\tremaining: 3.36s\n",
      "11:\tlearn: 1630.1766107\ttotal: 822ms\tremaining: 3.29s\n",
      "12:\tlearn: 1621.1360558\ttotal: 885ms\tremaining: 3.2s\n",
      "13:\tlearn: 1609.9022065\ttotal: 953ms\tremaining: 3.13s\n",
      "14:\tlearn: 1603.6625560\ttotal: 1.04s\tremaining: 3.12s\n",
      "15:\tlearn: 1593.7131181\ttotal: 1.12s\tremaining: 3.08s\n",
      "16:\tlearn: 1587.4707794\ttotal: 1.22s\tremaining: 3.09s\n",
      "17:\tlearn: 1579.9553516\ttotal: 1.28s\tremaining: 3s\n",
      "18:\tlearn: 1573.7531518\ttotal: 1.35s\tremaining: 2.92s\n",
      "19:\tlearn: 1569.7671094\ttotal: 1.42s\tremaining: 2.83s\n",
      "20:\tlearn: 1563.7221061\ttotal: 1.48s\tremaining: 2.75s\n",
      "21:\tlearn: 1556.5748973\ttotal: 1.54s\tremaining: 2.66s\n",
      "22:\tlearn: 1549.3696239\ttotal: 1.6s\tremaining: 2.58s\n",
      "23:\tlearn: 1545.5181593\ttotal: 1.67s\tremaining: 2.5s\n",
      "24:\tlearn: 1539.6882055\ttotal: 1.74s\tremaining: 2.44s\n",
      "25:\tlearn: 1531.8643323\ttotal: 1.81s\tremaining: 2.36s\n",
      "26:\tlearn: 1526.4176957\ttotal: 1.88s\tremaining: 2.29s\n",
      "27:\tlearn: 1521.0453071\ttotal: 1.94s\tremaining: 2.22s\n",
      "28:\tlearn: 1517.2855261\ttotal: 2.02s\tremaining: 2.16s\n",
      "29:\tlearn: 1511.9186537\ttotal: 2.08s\tremaining: 2.08s\n",
      "30:\tlearn: 1507.2164682\ttotal: 2.15s\tremaining: 2.01s\n",
      "31:\tlearn: 1503.2405349\ttotal: 2.22s\tremaining: 1.94s\n",
      "32:\tlearn: 1499.5252067\ttotal: 2.29s\tremaining: 1.87s\n",
      "33:\tlearn: 1494.8522979\ttotal: 2.35s\tremaining: 1.79s\n",
      "34:\tlearn: 1486.5175198\ttotal: 2.41s\tremaining: 1.72s\n",
      "35:\tlearn: 1483.9042908\ttotal: 2.48s\tremaining: 1.65s\n",
      "36:\tlearn: 1480.7308604\ttotal: 2.54s\tremaining: 1.58s\n",
      "37:\tlearn: 1474.5336904\ttotal: 2.6s\tremaining: 1.51s\n",
      "38:\tlearn: 1471.2926789\ttotal: 2.67s\tremaining: 1.44s\n",
      "39:\tlearn: 1469.2871444\ttotal: 2.75s\tremaining: 1.37s\n",
      "40:\tlearn: 1464.9055399\ttotal: 2.83s\tremaining: 1.31s\n",
      "41:\tlearn: 1455.8892930\ttotal: 2.89s\tremaining: 1.24s\n",
      "42:\tlearn: 1450.1358064\ttotal: 2.96s\tremaining: 1.17s\n",
      "43:\tlearn: 1446.5156906\ttotal: 3.03s\tremaining: 1.1s\n",
      "44:\tlearn: 1441.0793226\ttotal: 3.1s\tremaining: 1.03s\n",
      "45:\tlearn: 1436.9572884\ttotal: 3.16s\tremaining: 963ms\n",
      "46:\tlearn: 1433.3319237\ttotal: 3.22s\tremaining: 892ms\n",
      "47:\tlearn: 1429.9914343\ttotal: 3.29s\tremaining: 822ms\n",
      "48:\tlearn: 1427.6217841\ttotal: 3.35s\tremaining: 753ms\n",
      "49:\tlearn: 1424.0726305\ttotal: 3.42s\tremaining: 684ms\n",
      "50:\tlearn: 1421.1227941\ttotal: 3.48s\tremaining: 615ms\n",
      "51:\tlearn: 1418.6216302\ttotal: 3.55s\tremaining: 546ms\n",
      "52:\tlearn: 1416.0891630\ttotal: 3.61s\tremaining: 477ms\n",
      "53:\tlearn: 1412.7889766\ttotal: 3.68s\tremaining: 409ms\n",
      "54:\tlearn: 1410.4811720\ttotal: 3.75s\tremaining: 341ms\n",
      "55:\tlearn: 1408.3300455\ttotal: 3.82s\tremaining: 273ms\n",
      "56:\tlearn: 1403.5149565\ttotal: 3.89s\tremaining: 205ms\n",
      "57:\tlearn: 1399.8056956\ttotal: 3.96s\tremaining: 137ms\n",
      "58:\tlearn: 1396.3635277\ttotal: 4.04s\tremaining: 68.4ms\n",
      "59:\tlearn: 1393.3314455\ttotal: 4.1s\tremaining: 0us\n",
      "0:\tlearn: 2989.6159619\ttotal: 145ms\tremaining: 8.58s\n",
      "1:\tlearn: 2301.6666313\ttotal: 638ms\tremaining: 18.5s\n",
      "2:\tlearn: 1942.2908213\ttotal: 1.12s\tremaining: 21.3s\n",
      "3:\tlearn: 1770.9527253\ttotal: 1.64s\tremaining: 23s\n",
      "4:\tlearn: 1658.2893925\ttotal: 2.15s\tremaining: 23.7s\n",
      "5:\tlearn: 1601.6261262\ttotal: 2.69s\tremaining: 24.2s\n",
      "6:\tlearn: 1559.2339318\ttotal: 3.23s\tremaining: 24.5s\n",
      "7:\tlearn: 1534.5308119\ttotal: 3.77s\tremaining: 24.5s\n",
      "8:\tlearn: 1511.8500732\ttotal: 4.31s\tremaining: 24.4s\n",
      "9:\tlearn: 1491.8590276\ttotal: 4.84s\tremaining: 24.2s\n",
      "10:\tlearn: 1476.6874667\ttotal: 5.4s\tremaining: 24s\n",
      "11:\tlearn: 1461.0762060\ttotal: 5.9s\tremaining: 23.6s\n",
      "12:\tlearn: 1446.1302369\ttotal: 6.45s\tremaining: 23.3s\n",
      "13:\tlearn: 1426.5827559\ttotal: 6.95s\tremaining: 22.8s\n",
      "14:\tlearn: 1419.9461669\ttotal: 7.48s\tremaining: 22.5s\n",
      "15:\tlearn: 1406.0019953\ttotal: 8.01s\tremaining: 22s\n",
      "16:\tlearn: 1395.2239790\ttotal: 8.56s\tremaining: 21.6s\n",
      "17:\tlearn: 1379.7021289\ttotal: 9.04s\tremaining: 21.1s\n",
      "18:\tlearn: 1374.3167671\ttotal: 9.52s\tremaining: 20.6s\n",
      "19:\tlearn: 1367.6374305\ttotal: 10s\tremaining: 20.1s\n",
      "20:\tlearn: 1362.2784843\ttotal: 10.5s\tremaining: 19.5s\n",
      "21:\tlearn: 1354.4996692\ttotal: 11s\tremaining: 19s\n",
      "22:\tlearn: 1338.8006134\ttotal: 11.5s\tremaining: 18.5s\n",
      "23:\tlearn: 1330.7143269\ttotal: 12s\tremaining: 18s\n",
      "24:\tlearn: 1319.3283256\ttotal: 12.5s\tremaining: 17.6s\n",
      "25:\tlearn: 1306.1155788\ttotal: 13.1s\tremaining: 17.1s\n",
      "26:\tlearn: 1293.8419470\ttotal: 13.6s\tremaining: 16.6s\n",
      "27:\tlearn: 1287.6121568\ttotal: 14.1s\tremaining: 16.1s\n",
      "28:\tlearn: 1276.5154429\ttotal: 14.5s\tremaining: 15.6s\n",
      "29:\tlearn: 1268.6876525\ttotal: 15s\tremaining: 15s\n",
      "30:\tlearn: 1255.1083386\ttotal: 15.6s\tremaining: 14.6s\n",
      "31:\tlearn: 1249.6100193\ttotal: 16.1s\tremaining: 14.1s\n",
      "32:\tlearn: 1243.8236266\ttotal: 16.6s\tremaining: 13.6s\n",
      "33:\tlearn: 1235.4391664\ttotal: 17.1s\tremaining: 13.1s\n",
      "34:\tlearn: 1230.9121980\ttotal: 17.6s\tremaining: 12.6s\n",
      "35:\tlearn: 1221.2473417\ttotal: 18.2s\tremaining: 12.1s\n",
      "36:\tlearn: 1213.4601082\ttotal: 18.7s\tremaining: 11.6s\n",
      "37:\tlearn: 1207.6552007\ttotal: 19.1s\tremaining: 11.1s\n",
      "38:\tlearn: 1196.1693754\ttotal: 19.6s\tremaining: 10.6s\n",
      "39:\tlearn: 1185.0584503\ttotal: 20.1s\tremaining: 10.1s\n",
      "40:\tlearn: 1177.1723654\ttotal: 20.6s\tremaining: 9.55s\n",
      "41:\tlearn: 1173.3629504\ttotal: 21.1s\tremaining: 9.05s\n",
      "42:\tlearn: 1166.9381830\ttotal: 21.6s\tremaining: 8.54s\n",
      "43:\tlearn: 1159.7341944\ttotal: 22.1s\tremaining: 8.04s\n",
      "44:\tlearn: 1152.8922859\ttotal: 22.6s\tremaining: 7.54s\n",
      "45:\tlearn: 1148.2576513\ttotal: 23.1s\tremaining: 7.04s\n",
      "46:\tlearn: 1143.6769240\ttotal: 23.6s\tremaining: 6.54s\n",
      "47:\tlearn: 1133.6571382\ttotal: 24.1s\tremaining: 6.03s\n",
      "48:\tlearn: 1130.0576340\ttotal: 24.6s\tremaining: 5.53s\n",
      "49:\tlearn: 1128.1887646\ttotal: 25.1s\tremaining: 5.02s\n",
      "50:\tlearn: 1124.2700759\ttotal: 25.6s\tremaining: 4.52s\n",
      "51:\tlearn: 1117.9919018\ttotal: 26.1s\tremaining: 4.02s\n",
      "52:\tlearn: 1110.0503578\ttotal: 26.7s\tremaining: 3.52s\n",
      "53:\tlearn: 1104.4147533\ttotal: 27.2s\tremaining: 3.02s\n",
      "54:\tlearn: 1102.4643905\ttotal: 27.7s\tremaining: 2.51s\n",
      "55:\tlearn: 1097.9246066\ttotal: 28.2s\tremaining: 2.01s\n",
      "56:\tlearn: 1095.5522624\ttotal: 28.7s\tremaining: 1.51s\n",
      "57:\tlearn: 1092.7273044\ttotal: 29.1s\tremaining: 1s\n",
      "58:\tlearn: 1085.4898984\ttotal: 29.6s\tremaining: 503ms\n",
      "59:\tlearn: 1077.7524793\ttotal: 30.1s\tremaining: 0us\n",
      "0:\tlearn: 2998.0537299\ttotal: 158ms\tremaining: 9.33s\n",
      "1:\tlearn: 2304.3249759\ttotal: 685ms\tremaining: 19.9s\n",
      "2:\tlearn: 1945.3662328\ttotal: 1.17s\tremaining: 22.3s\n",
      "3:\tlearn: 1764.7349883\ttotal: 1.66s\tremaining: 23.3s\n",
      "4:\tlearn: 1675.8165249\ttotal: 2.16s\tremaining: 23.8s\n",
      "5:\tlearn: 1600.6341157\ttotal: 2.67s\tremaining: 24s\n",
      "6:\tlearn: 1557.6714299\ttotal: 3.16s\tremaining: 23.9s\n",
      "7:\tlearn: 1530.3581063\ttotal: 3.67s\tremaining: 23.9s\n",
      "8:\tlearn: 1503.8393830\ttotal: 4.21s\tremaining: 23.9s\n",
      "9:\tlearn: 1477.3385538\ttotal: 4.75s\tremaining: 23.8s\n",
      "10:\tlearn: 1462.2879916\ttotal: 5.31s\tremaining: 23.7s\n",
      "11:\tlearn: 1448.5275611\ttotal: 5.88s\tremaining: 23.5s\n",
      "12:\tlearn: 1432.2105298\ttotal: 6.45s\tremaining: 23.3s\n",
      "13:\tlearn: 1421.3327295\ttotal: 7s\tremaining: 23s\n",
      "14:\tlearn: 1399.4672200\ttotal: 7.56s\tremaining: 22.7s\n",
      "15:\tlearn: 1389.5557434\ttotal: 8.08s\tremaining: 22.2s\n",
      "16:\tlearn: 1377.9443766\ttotal: 8.58s\tremaining: 21.7s\n",
      "17:\tlearn: 1362.7776927\ttotal: 9.09s\tremaining: 21.2s\n",
      "18:\tlearn: 1349.1930355\ttotal: 9.59s\tremaining: 20.7s\n",
      "19:\tlearn: 1344.3473368\ttotal: 10.1s\tremaining: 20.2s\n",
      "20:\tlearn: 1336.3833447\ttotal: 10.6s\tremaining: 19.7s\n",
      "21:\tlearn: 1325.2903591\ttotal: 11.1s\tremaining: 19.2s\n",
      "22:\tlearn: 1316.4539617\ttotal: 11.6s\tremaining: 18.6s\n",
      "23:\tlearn: 1307.2056824\ttotal: 12.1s\tremaining: 18.1s\n",
      "24:\tlearn: 1298.7308755\ttotal: 12.6s\tremaining: 17.7s\n",
      "25:\tlearn: 1289.3822931\ttotal: 13.1s\tremaining: 17.2s\n",
      "26:\tlearn: 1275.3623034\ttotal: 13.6s\tremaining: 16.7s\n",
      "27:\tlearn: 1261.0304348\ttotal: 14.1s\tremaining: 16.2s\n",
      "28:\tlearn: 1249.3835550\ttotal: 14.7s\tremaining: 15.7s\n",
      "29:\tlearn: 1242.7109405\ttotal: 15.2s\tremaining: 15.2s\n",
      "30:\tlearn: 1238.1599299\ttotal: 15.7s\tremaining: 14.7s\n",
      "31:\tlearn: 1229.7114586\ttotal: 16.2s\tremaining: 14.1s\n",
      "32:\tlearn: 1223.8053023\ttotal: 16.6s\tremaining: 13.6s\n",
      "33:\tlearn: 1214.2663746\ttotal: 17.2s\tremaining: 13.1s\n",
      "34:\tlearn: 1204.0940111\ttotal: 17.7s\tremaining: 12.6s\n",
      "35:\tlearn: 1194.7296798\ttotal: 18.2s\tremaining: 12.1s\n",
      "36:\tlearn: 1189.4205305\ttotal: 18.7s\tremaining: 11.6s\n",
      "37:\tlearn: 1182.4994343\ttotal: 19.2s\tremaining: 11.1s\n",
      "38:\tlearn: 1178.2321580\ttotal: 19.7s\tremaining: 10.6s\n",
      "39:\tlearn: 1169.7194491\ttotal: 20.2s\tremaining: 10.1s\n",
      "40:\tlearn: 1166.3622696\ttotal: 20.7s\tremaining: 9.6s\n",
      "41:\tlearn: 1156.6298778\ttotal: 21.2s\tremaining: 9.1s\n",
      "42:\tlearn: 1151.4208202\ttotal: 21.7s\tremaining: 8.59s\n",
      "43:\tlearn: 1147.3469536\ttotal: 22.2s\tremaining: 8.08s\n",
      "44:\tlearn: 1142.2132010\ttotal: 22.7s\tremaining: 7.57s\n",
      "45:\tlearn: 1136.9896453\ttotal: 23.2s\tremaining: 7.07s\n",
      "46:\tlearn: 1133.6274152\ttotal: 23.7s\tremaining: 6.56s\n",
      "47:\tlearn: 1125.8358676\ttotal: 24.2s\tremaining: 6.06s\n",
      "48:\tlearn: 1118.7784966\ttotal: 24.7s\tremaining: 5.55s\n",
      "49:\tlearn: 1111.9530586\ttotal: 25.2s\tremaining: 5.05s\n",
      "50:\tlearn: 1107.8059099\ttotal: 25.7s\tremaining: 4.54s\n",
      "51:\tlearn: 1105.0515777\ttotal: 26.2s\tremaining: 4.04s\n",
      "52:\tlearn: 1094.3784058\ttotal: 26.7s\tremaining: 3.53s\n",
      "53:\tlearn: 1087.4580605\ttotal: 27.2s\tremaining: 3.03s\n",
      "54:\tlearn: 1082.2651003\ttotal: 27.7s\tremaining: 2.52s\n",
      "55:\tlearn: 1078.8456881\ttotal: 28.2s\tremaining: 2.02s\n",
      "56:\tlearn: 1074.5767639\ttotal: 28.7s\tremaining: 1.51s\n",
      "57:\tlearn: 1069.1878106\ttotal: 29.2s\tremaining: 1.01s\n",
      "58:\tlearn: 1066.9908067\ttotal: 29.7s\tremaining: 504ms\n",
      "59:\tlearn: 1064.8491069\ttotal: 30.2s\tremaining: 0us\n",
      "0:\tlearn: 2989.5767288\ttotal: 149ms\tremaining: 8.77s\n",
      "1:\tlearn: 2291.5557894\ttotal: 672ms\tremaining: 19.5s\n",
      "2:\tlearn: 1947.1547859\ttotal: 1.21s\tremaining: 23s\n",
      "3:\tlearn: 1760.9422848\ttotal: 1.77s\tremaining: 24.7s\n",
      "4:\tlearn: 1674.7132485\ttotal: 2.32s\tremaining: 25.5s\n",
      "5:\tlearn: 1604.4058456\ttotal: 2.86s\tremaining: 25.7s\n",
      "6:\tlearn: 1563.2867780\ttotal: 3.39s\tremaining: 25.7s\n",
      "7:\tlearn: 1530.7655333\ttotal: 3.9s\tremaining: 25.4s\n",
      "8:\tlearn: 1508.5643362\ttotal: 4.46s\tremaining: 25.3s\n",
      "9:\tlearn: 1488.9618629\ttotal: 4.96s\tremaining: 24.8s\n",
      "10:\tlearn: 1477.1609912\ttotal: 5.45s\tremaining: 24.3s\n",
      "11:\tlearn: 1450.7349896\ttotal: 5.96s\tremaining: 23.8s\n",
      "12:\tlearn: 1440.4362516\ttotal: 6.48s\tremaining: 23.4s\n",
      "13:\tlearn: 1424.2997159\ttotal: 6.97s\tremaining: 22.9s\n",
      "14:\tlearn: 1414.0668829\ttotal: 7.48s\tremaining: 22.4s\n",
      "15:\tlearn: 1407.6015006\ttotal: 7.98s\tremaining: 21.9s\n",
      "16:\tlearn: 1397.2316508\ttotal: 8.47s\tremaining: 21.4s\n",
      "17:\tlearn: 1396.9294168\ttotal: 8.49s\tremaining: 19.8s\n",
      "18:\tlearn: 1388.5389544\ttotal: 8.98s\tremaining: 19.4s\n",
      "19:\tlearn: 1378.5388830\ttotal: 9.5s\tremaining: 19s\n",
      "20:\tlearn: 1363.8391404\ttotal: 10s\tremaining: 18.6s\n",
      "21:\tlearn: 1356.9182668\ttotal: 10.5s\tremaining: 18.2s\n",
      "22:\tlearn: 1349.0092011\ttotal: 11s\tremaining: 17.7s\n",
      "23:\tlearn: 1342.6607080\ttotal: 11.5s\tremaining: 17.3s\n",
      "24:\tlearn: 1329.1506444\ttotal: 12s\tremaining: 16.8s\n",
      "25:\tlearn: 1316.0209487\ttotal: 12.5s\tremaining: 16.4s\n",
      "26:\tlearn: 1306.0491208\ttotal: 13.1s\tremaining: 16s\n",
      "27:\tlearn: 1297.0565698\ttotal: 13.6s\tremaining: 15.6s\n",
      "28:\tlearn: 1283.8951803\ttotal: 14.2s\tremaining: 15.2s\n",
      "29:\tlearn: 1278.5114982\ttotal: 14.7s\tremaining: 14.7s\n",
      "30:\tlearn: 1272.3959301\ttotal: 15.2s\tremaining: 14.2s\n",
      "31:\tlearn: 1264.0240766\ttotal: 15.7s\tremaining: 13.8s\n",
      "32:\tlearn: 1259.5661623\ttotal: 16.2s\tremaining: 13.3s\n",
      "33:\tlearn: 1242.6533775\ttotal: 16.8s\tremaining: 12.8s\n",
      "34:\tlearn: 1235.7352209\ttotal: 17.3s\tremaining: 12.3s\n",
      "35:\tlearn: 1230.3283479\ttotal: 17.8s\tremaining: 11.8s\n",
      "36:\tlearn: 1226.9647911\ttotal: 18.3s\tremaining: 11.4s\n",
      "37:\tlearn: 1219.6306315\ttotal: 18.8s\tremaining: 10.9s\n",
      "38:\tlearn: 1216.3864160\ttotal: 19.3s\tremaining: 10.4s\n",
      "39:\tlearn: 1210.4646037\ttotal: 19.8s\tremaining: 9.89s\n",
      "40:\tlearn: 1203.9384630\ttotal: 20.3s\tremaining: 9.4s\n",
      "41:\tlearn: 1199.4518100\ttotal: 20.8s\tremaining: 8.91s\n",
      "42:\tlearn: 1193.1246277\ttotal: 21.3s\tremaining: 8.44s\n",
      "43:\tlearn: 1186.7337480\ttotal: 22s\tremaining: 7.99s\n",
      "44:\tlearn: 1173.7518174\ttotal: 22.5s\tremaining: 7.49s\n",
      "45:\tlearn: 1167.5866398\ttotal: 23s\tremaining: 6.99s\n",
      "46:\tlearn: 1156.2536950\ttotal: 23.5s\tremaining: 6.5s\n",
      "47:\tlearn: 1149.3417665\ttotal: 24s\tremaining: 6s\n",
      "48:\tlearn: 1144.0144437\ttotal: 24.5s\tremaining: 5.51s\n",
      "49:\tlearn: 1131.8409246\ttotal: 25s\tremaining: 5.01s\n",
      "50:\tlearn: 1123.7027037\ttotal: 25.5s\tremaining: 4.5s\n",
      "51:\tlearn: 1121.4321480\ttotal: 26s\tremaining: 4.01s\n",
      "52:\tlearn: 1116.9919911\ttotal: 26.5s\tremaining: 3.5s\n",
      "53:\tlearn: 1109.0700816\ttotal: 27s\tremaining: 3s\n",
      "54:\tlearn: 1107.4584483\ttotal: 27.5s\tremaining: 2.5s\n",
      "55:\tlearn: 1100.4456378\ttotal: 28s\tremaining: 2s\n",
      "56:\tlearn: 1098.4409595\ttotal: 28.5s\tremaining: 1.5s\n",
      "57:\tlearn: 1095.8704520\ttotal: 29s\tremaining: 1000ms\n",
      "58:\tlearn: 1091.6003378\ttotal: 29.5s\tremaining: 500ms\n",
      "59:\tlearn: 1083.6185588\ttotal: 30s\tremaining: 0us\n",
      "0:\tlearn: 3896.1128869\ttotal: 530ms\tremaining: 31.3s\n",
      "1:\tlearn: 3368.5239608\ttotal: 1.06s\tremaining: 30.8s\n",
      "2:\tlearn: 2970.7525296\ttotal: 1.56s\tremaining: 29.7s\n",
      "3:\tlearn: 2655.8616626\ttotal: 2.14s\tremaining: 29.9s\n",
      "4:\tlearn: 2430.0440346\ttotal: 2.71s\tremaining: 29.9s\n",
      "5:\tlearn: 2218.4956113\ttotal: 3.35s\tremaining: 30.1s\n",
      "6:\tlearn: 2065.6442928\ttotal: 3.94s\tremaining: 29.9s\n",
      "7:\tlearn: 1954.4227691\ttotal: 4.54s\tremaining: 29.5s\n",
      "8:\tlearn: 1855.9953896\ttotal: 5.13s\tremaining: 29.1s\n",
      "9:\tlearn: 1787.3907382\ttotal: 5.71s\tremaining: 28.6s\n",
      "10:\tlearn: 1733.9432950\ttotal: 6.27s\tremaining: 27.9s\n",
      "11:\tlearn: 1693.7788503\ttotal: 6.8s\tremaining: 27.2s\n",
      "12:\tlearn: 1663.3903819\ttotal: 7.36s\tremaining: 26.6s\n",
      "13:\tlearn: 1639.5500834\ttotal: 7.91s\tremaining: 26s\n",
      "14:\tlearn: 1606.1830864\ttotal: 8.45s\tremaining: 25.3s\n",
      "15:\tlearn: 1577.4476482\ttotal: 8.98s\tremaining: 24.7s\n",
      "16:\tlearn: 1560.3332123\ttotal: 9.51s\tremaining: 24.1s\n",
      "17:\tlearn: 1544.2980570\ttotal: 10.1s\tremaining: 23.5s\n",
      "18:\tlearn: 1530.6344163\ttotal: 10.7s\tremaining: 23s\n",
      "19:\tlearn: 1518.8761615\ttotal: 11.2s\tremaining: 22.5s\n",
      "20:\tlearn: 1508.9084264\ttotal: 11.8s\tremaining: 21.9s\n",
      "21:\tlearn: 1500.2987206\ttotal: 12.3s\tremaining: 21.3s\n",
      "22:\tlearn: 1491.5654937\ttotal: 12.9s\tremaining: 20.7s\n",
      "23:\tlearn: 1484.7956255\ttotal: 13.4s\tremaining: 20.2s\n",
      "24:\tlearn: 1477.3317630\ttotal: 14s\tremaining: 19.6s\n",
      "25:\tlearn: 1472.2321908\ttotal: 14.5s\tremaining: 19s\n",
      "26:\tlearn: 1467.3800859\ttotal: 15.1s\tremaining: 18.5s\n",
      "27:\tlearn: 1460.9075743\ttotal: 15.7s\tremaining: 17.9s\n",
      "28:\tlearn: 1448.0025306\ttotal: 16.2s\tremaining: 17.3s\n",
      "29:\tlearn: 1442.1874200\ttotal: 16.8s\tremaining: 16.8s\n",
      "30:\tlearn: 1428.6263755\ttotal: 17.3s\tremaining: 16.2s\n",
      "31:\tlearn: 1424.4283329\ttotal: 17.8s\tremaining: 15.6s\n",
      "32:\tlearn: 1420.2489766\ttotal: 18.4s\tremaining: 15s\n",
      "33:\tlearn: 1415.9372099\ttotal: 18.9s\tremaining: 14.5s\n",
      "34:\tlearn: 1409.6913989\ttotal: 19.5s\tremaining: 13.9s\n",
      "35:\tlearn: 1404.1992320\ttotal: 20s\tremaining: 13.3s\n",
      "36:\tlearn: 1400.0237914\ttotal: 20.5s\tremaining: 12.8s\n",
      "37:\tlearn: 1395.2003183\ttotal: 21.1s\tremaining: 12.2s\n",
      "38:\tlearn: 1390.0459183\ttotal: 21.7s\tremaining: 11.7s\n",
      "39:\tlearn: 1384.2392039\ttotal: 22.2s\tremaining: 11.1s\n",
      "40:\tlearn: 1378.9381556\ttotal: 22.8s\tremaining: 10.6s\n",
      "41:\tlearn: 1374.2187319\ttotal: 23.4s\tremaining: 10s\n",
      "42:\tlearn: 1371.9957818\ttotal: 23.9s\tremaining: 9.46s\n",
      "43:\tlearn: 1368.2680574\ttotal: 24.5s\tremaining: 8.9s\n",
      "44:\tlearn: 1364.7305355\ttotal: 25.1s\tremaining: 8.35s\n",
      "45:\tlearn: 1362.5848618\ttotal: 25.6s\tremaining: 7.79s\n",
      "46:\tlearn: 1362.5431954\ttotal: 25.6s\tremaining: 7.09s\n",
      "47:\tlearn: 1356.4779378\ttotal: 26.2s\tremaining: 6.55s\n",
      "48:\tlearn: 1353.2791206\ttotal: 26.7s\tremaining: 6s\n",
      "49:\tlearn: 1350.4171859\ttotal: 27.3s\tremaining: 5.46s\n",
      "50:\tlearn: 1344.9805440\ttotal: 27.8s\tremaining: 4.91s\n",
      "51:\tlearn: 1342.9571662\ttotal: 28.4s\tremaining: 4.37s\n",
      "52:\tlearn: 1340.4349024\ttotal: 29s\tremaining: 3.83s\n",
      "53:\tlearn: 1338.2406795\ttotal: 29.6s\tremaining: 3.28s\n",
      "54:\tlearn: 1335.0110003\ttotal: 30.1s\tremaining: 2.74s\n",
      "55:\tlearn: 1334.8765887\ttotal: 30.2s\tremaining: 2.16s\n",
      "56:\tlearn: 1332.3879528\ttotal: 30.8s\tremaining: 1.62s\n",
      "57:\tlearn: 1329.0284167\ttotal: 31.4s\tremaining: 1.08s\n",
      "58:\tlearn: 1326.0970388\ttotal: 32s\tremaining: 542ms\n",
      "59:\tlearn: 1321.1914193\ttotal: 32.6s\tremaining: 0us\n"
     ]
    },
    {
     "data": {
      "text/plain": [
       "{'iterations': 60, 'learning_rate': 0.2, 'max_depth': 15}"
      ]
     },
     "execution_count": 68,
     "metadata": {},
     "output_type": "execute_result"
    }
   ],
   "source": [
    "cbr = CatBoostRegressor(loss_function='RMSE', cat_features=cat, random_state=12345)\n",
    "cbr_params = {'max_depth': range(10, 16, 5), 'learning_rate': [0.2, 0.5], 'iterations': [55, 60]}\n",
    "\n",
    "grid_cbr = GridSearchCV(cbr, cbr_params, cv=3, scoring='neg_mean_squared_error')\n",
    "\n",
    "grid_cbr.fit(X_train, y_train);\n",
    "\n",
    "grid_cbr.best_params_"
   ]
  },
  {
   "cell_type": "code",
   "execution_count": 65,
   "metadata": {
    "scrolled": true
   },
   "outputs": [
    {
     "name": "stdout",
     "output_type": "stream",
     "text": [
      "0:\tlearn: 3910.7300777\ttotal: 266ms\tremaining: 15.7s\n",
      "1:\tlearn: 3368.4934837\ttotal: 808ms\tremaining: 23.4s\n",
      "2:\tlearn: 2985.4107460\ttotal: 915ms\tremaining: 17.4s\n",
      "3:\tlearn: 2678.6833623\ttotal: 1.46s\tremaining: 20.5s\n",
      "4:\tlearn: 2443.0559113\ttotal: 2.02s\tremaining: 22.3s\n",
      "5:\tlearn: 2240.3856529\ttotal: 2.6s\tremaining: 23.4s\n",
      "6:\tlearn: 2082.1886963\ttotal: 3.18s\tremaining: 24.1s\n",
      "7:\tlearn: 1966.0446728\ttotal: 3.75s\tremaining: 24.4s\n",
      "8:\tlearn: 1869.0315652\ttotal: 4.32s\tremaining: 24.5s\n",
      "9:\tlearn: 1799.6720866\ttotal: 4.87s\tremaining: 24.3s\n",
      "10:\tlearn: 1745.8356402\ttotal: 5.4s\tremaining: 24.1s\n",
      "11:\tlearn: 1707.3531548\ttotal: 5.97s\tremaining: 23.9s\n",
      "12:\tlearn: 1676.9048303\ttotal: 6.51s\tremaining: 23.5s\n",
      "13:\tlearn: 1651.1323181\ttotal: 7.04s\tremaining: 23.1s\n",
      "14:\tlearn: 1618.3566470\ttotal: 7.61s\tremaining: 22.8s\n",
      "15:\tlearn: 1591.2127974\ttotal: 8.18s\tremaining: 22.5s\n",
      "16:\tlearn: 1570.0445248\ttotal: 8.74s\tremaining: 22.1s\n",
      "17:\tlearn: 1554.5700693\ttotal: 9.29s\tremaining: 21.7s\n",
      "18:\tlearn: 1540.2302533\ttotal: 9.82s\tremaining: 21.2s\n",
      "19:\tlearn: 1530.6186731\ttotal: 10.4s\tremaining: 20.7s\n",
      "20:\tlearn: 1518.9138044\ttotal: 10.9s\tremaining: 20.3s\n",
      "21:\tlearn: 1509.1543135\ttotal: 11.5s\tremaining: 19.8s\n",
      "22:\tlearn: 1501.8624823\ttotal: 12s\tremaining: 19.3s\n",
      "23:\tlearn: 1494.0684840\ttotal: 12.6s\tremaining: 18.9s\n",
      "24:\tlearn: 1487.6326741\ttotal: 13.1s\tremaining: 18.4s\n",
      "25:\tlearn: 1481.1305924\ttotal: 13.7s\tremaining: 17.9s\n",
      "26:\tlearn: 1474.7412728\ttotal: 14.2s\tremaining: 17.4s\n",
      "27:\tlearn: 1469.5102030\ttotal: 14.8s\tremaining: 16.9s\n",
      "28:\tlearn: 1466.0009966\ttotal: 15.4s\tremaining: 16.5s\n",
      "29:\tlearn: 1458.4788758\ttotal: 16s\tremaining: 16s\n",
      "30:\tlearn: 1452.8340734\ttotal: 16.5s\tremaining: 15.5s\n",
      "31:\tlearn: 1447.4525440\ttotal: 17.1s\tremaining: 14.9s\n",
      "32:\tlearn: 1444.8607877\ttotal: 17.6s\tremaining: 14.4s\n",
      "33:\tlearn: 1438.8446289\ttotal: 18.2s\tremaining: 13.9s\n",
      "34:\tlearn: 1434.1551201\ttotal: 18.7s\tremaining: 13.4s\n",
      "35:\tlearn: 1429.6750226\ttotal: 19.3s\tremaining: 12.9s\n",
      "36:\tlearn: 1426.1979251\ttotal: 19.8s\tremaining: 12.3s\n",
      "37:\tlearn: 1422.7419472\ttotal: 20.4s\tremaining: 11.8s\n",
      "38:\tlearn: 1416.4505893\ttotal: 20.9s\tremaining: 11.3s\n",
      "39:\tlearn: 1411.6900733\ttotal: 21.5s\tremaining: 10.8s\n",
      "40:\tlearn: 1401.8132914\ttotal: 22.1s\tremaining: 10.2s\n",
      "41:\tlearn: 1394.8877796\ttotal: 22.7s\tremaining: 9.72s\n",
      "42:\tlearn: 1391.4579740\ttotal: 23.2s\tremaining: 9.19s\n",
      "43:\tlearn: 1388.3529641\ttotal: 23.8s\tremaining: 8.66s\n",
      "44:\tlearn: 1383.1376661\ttotal: 24.4s\tremaining: 8.13s\n",
      "45:\tlearn: 1379.5231878\ttotal: 24.9s\tremaining: 7.58s\n",
      "46:\tlearn: 1377.3124869\ttotal: 25.5s\tremaining: 7.04s\n",
      "47:\tlearn: 1373.0166934\ttotal: 26s\tremaining: 6.51s\n",
      "48:\tlearn: 1366.1167588\ttotal: 26.6s\tremaining: 5.97s\n",
      "49:\tlearn: 1361.9228394\ttotal: 27.1s\tremaining: 5.43s\n",
      "50:\tlearn: 1358.6256769\ttotal: 27.7s\tremaining: 4.89s\n",
      "51:\tlearn: 1355.9259789\ttotal: 28.3s\tremaining: 4.35s\n",
      "52:\tlearn: 1352.7252209\ttotal: 28.8s\tremaining: 3.81s\n",
      "53:\tlearn: 1348.5094142\ttotal: 29.4s\tremaining: 3.26s\n",
      "54:\tlearn: 1344.6540768\ttotal: 29.9s\tremaining: 2.72s\n",
      "55:\tlearn: 1340.3490950\ttotal: 30.5s\tremaining: 2.18s\n",
      "56:\tlearn: 1337.5424881\ttotal: 31s\tremaining: 1.63s\n",
      "57:\tlearn: 1334.2222696\ttotal: 31.6s\tremaining: 1.09s\n",
      "58:\tlearn: 1330.9729084\ttotal: 32.1s\tremaining: 545ms\n",
      "59:\tlearn: 1327.9826296\ttotal: 32.7s\tremaining: 0us\n",
      "RMSE для CatBoostRegressor: 1501.770728599753\n",
      "Время обучения CatBoostRegressor: 33.60675764083862\n",
      "Время предсказания CatBoostRegressor: 0.061595916748046875\n"
     ]
    }
   ],
   "source": [
    "model_cbr = grid_cbr.best_estimator_\n",
    "start = time.time()\n",
    "model_cbr.fit(X_train, y_train)\n",
    "end = time.time()\n",
    "time_fit_cbr = end - start\n",
    "\n",
    "start = time.time()\n",
    "pred = model_cbr.predict(X_valid)\n",
    "end = time.time()\n",
    "time_pred_cbr = end - start\n",
    "\n",
    "RMSE = rmse(y_valid, pred)\n",
    "\n",
    "print('RMSE для CatBoostRegressor:', RMSE)\n",
    "print('Время обучения CatBoostRegressor:', time_fit_cbr)\n",
    "print('Время предсказания CatBoostRegressor:', time_pred_cbr)"
   ]
  },
  {
   "cell_type": "markdown",
   "metadata": {},
   "source": [
    "## Анализ моделей"
   ]
  },
  {
   "cell_type": "markdown",
   "metadata": {},
   "source": [
    "Соберем показатели и выведем на экран"
   ]
  },
  {
   "cell_type": "markdown",
   "metadata": {},
   "source": [
    "**РЕМАРКА**. \n",
    "*Из-за крайне низкой скорости работы тренажера мне пришлось вручную собирать данные в таблицу, так как все модели запускаю по очереди, закомментировав остальные. Правильнее было бы собрать показатели в пустой список и добавлять по мере обучения и предсказания новых*"
   ]
  },
  {
   "cell_type": "code",
   "execution_count": 67,
   "metadata": {},
   "outputs": [
    {
     "data": {
      "text/html": [
       "<div>\n",
       "<style scoped>\n",
       "    .dataframe tbody tr th:only-of-type {\n",
       "        vertical-align: middle;\n",
       "    }\n",
       "\n",
       "    .dataframe tbody tr th {\n",
       "        vertical-align: top;\n",
       "    }\n",
       "\n",
       "    .dataframe thead th {\n",
       "        text-align: right;\n",
       "    }\n",
       "</style>\n",
       "<table border=\"1\" class=\"dataframe\">\n",
       "  <thead>\n",
       "    <tr style=\"text-align: right;\">\n",
       "      <th></th>\n",
       "      <th>Model</th>\n",
       "      <th>Model_RMSE</th>\n",
       "      <th>Train Time</th>\n",
       "      <th>Predict Time</th>\n",
       "    </tr>\n",
       "  </thead>\n",
       "  <tbody>\n",
       "    <tr>\n",
       "      <th>0</th>\n",
       "      <td>LinearRegression</td>\n",
       "      <td>2256.10</td>\n",
       "      <td>19.81</td>\n",
       "      <td>0.19</td>\n",
       "    </tr>\n",
       "    <tr>\n",
       "      <th>1</th>\n",
       "      <td>DecisionTreeRegressor</td>\n",
       "      <td>1768.73</td>\n",
       "      <td>14.95</td>\n",
       "      <td>0.09</td>\n",
       "    </tr>\n",
       "    <tr>\n",
       "      <th>2</th>\n",
       "      <td>RandomForestRegressor</td>\n",
       "      <td>1567.14</td>\n",
       "      <td>735.84</td>\n",
       "      <td>0.43</td>\n",
       "    </tr>\n",
       "    <tr>\n",
       "      <th>3</th>\n",
       "      <td>LGBMRegressor</td>\n",
       "      <td>1549.29</td>\n",
       "      <td>273.39</td>\n",
       "      <td>0.30</td>\n",
       "    </tr>\n",
       "    <tr>\n",
       "      <th>4</th>\n",
       "      <td>CatBoostRegressor</td>\n",
       "      <td>1501.77</td>\n",
       "      <td>33.60</td>\n",
       "      <td>0.06</td>\n",
       "    </tr>\n",
       "  </tbody>\n",
       "</table>\n",
       "</div>"
      ],
      "text/plain": [
       "                   Model  Model_RMSE  Train Time  Predict Time\n",
       "0       LinearRegression     2256.10       19.81          0.19\n",
       "1  DecisionTreeRegressor     1768.73       14.95          0.09\n",
       "2  RandomForestRegressor     1567.14      735.84          0.43\n",
       "3          LGBMRegressor     1549.29      273.39          0.30\n",
       "4      CatBoostRegressor     1501.77       33.60          0.06"
      ]
     },
     "metadata": {},
     "output_type": "display_data"
    }
   ],
   "source": [
    "results = {\n",
    "    'Model' : ['LinearRegression', 'DecisionTreeRegressor', 'RandomForestRegressor',\n",
    "               'LGBMRegressor', 'CatBoostRegressor'],\n",
    "    'Model_RMSE' :pd.Series([2256.10, 1768.73, 1567.14, 1549.29, 1501.77]),\n",
    "    'Train Time': pd.Series([19.81, 14.95, 735.84, 273.39, 33.60]),\n",
    "    'Predict Time': pd.Series([0.19, 0.09, 0.43, 0.30, 0.06])\n",
    "    }\n",
    "\n",
    "display(pd.DataFrame(results))"
   ]
  },
  {
   "cell_type": "markdown",
   "metadata": {},
   "source": [
    "**ВЫВОД**\n",
    "\n",
    "По качеству предсказания лидируют библиотеки градиентного бустинга.  \n",
    "Сравнивая результаты моделей LGBMRegressor и CatBoostRegressor, видим, что по всем параметрам CatBoostRegressor покказывает лучшие значения.  \n",
    "Из обычных моделей более точная RandomForestRegressor, по скорости лидирует LinearRegression "
   ]
  },
  {
   "cell_type": "markdown",
   "metadata": {},
   "source": [
    "Проверим модель CatBoostRegressor на тестовой выборке, используя лучшие гиперпараметры"
   ]
  },
  {
   "cell_type": "code",
   "execution_count": 69,
   "metadata": {
    "scrolled": true
   },
   "outputs": [
    {
     "name": "stdout",
     "output_type": "stream",
     "text": [
      "0:\tlearn: 3896.1128869\ttotal: 529ms\tremaining: 31.2s\n",
      "1:\tlearn: 3368.5239608\ttotal: 1.08s\tremaining: 31.3s\n",
      "2:\tlearn: 2970.7525296\ttotal: 1.55s\tremaining: 29.4s\n",
      "3:\tlearn: 2655.8616626\ttotal: 2.11s\tremaining: 29.6s\n",
      "4:\tlearn: 2430.0440346\ttotal: 2.64s\tremaining: 29s\n",
      "5:\tlearn: 2218.4956113\ttotal: 3.19s\tremaining: 28.7s\n",
      "6:\tlearn: 2065.6442928\ttotal: 3.74s\tremaining: 28.3s\n",
      "7:\tlearn: 1954.4227691\ttotal: 4.29s\tremaining: 27.9s\n",
      "8:\tlearn: 1855.9953896\ttotal: 4.84s\tremaining: 27.4s\n",
      "9:\tlearn: 1787.3907382\ttotal: 5.37s\tremaining: 26.9s\n",
      "10:\tlearn: 1733.9432950\ttotal: 5.91s\tremaining: 26.3s\n",
      "11:\tlearn: 1693.7788503\ttotal: 6.45s\tremaining: 25.8s\n",
      "12:\tlearn: 1663.3903819\ttotal: 7s\tremaining: 25.3s\n",
      "13:\tlearn: 1639.5500834\ttotal: 7.53s\tremaining: 24.7s\n",
      "14:\tlearn: 1606.1830864\ttotal: 8.07s\tremaining: 24.2s\n",
      "15:\tlearn: 1577.4476482\ttotal: 8.64s\tremaining: 23.8s\n",
      "16:\tlearn: 1560.3332123\ttotal: 9.2s\tremaining: 23.3s\n",
      "17:\tlearn: 1544.2980570\ttotal: 9.74s\tremaining: 22.7s\n",
      "18:\tlearn: 1530.6344163\ttotal: 10.3s\tremaining: 22.2s\n",
      "19:\tlearn: 1518.8761615\ttotal: 10.8s\tremaining: 21.6s\n",
      "20:\tlearn: 1508.9084264\ttotal: 11.4s\tremaining: 21.1s\n",
      "21:\tlearn: 1500.2987206\ttotal: 12s\tremaining: 20.7s\n",
      "22:\tlearn: 1491.5654937\ttotal: 12.5s\tremaining: 20.1s\n",
      "23:\tlearn: 1484.7956255\ttotal: 13s\tremaining: 19.6s\n",
      "24:\tlearn: 1477.3317630\ttotal: 13.6s\tremaining: 19.1s\n",
      "25:\tlearn: 1472.2321908\ttotal: 14.2s\tremaining: 18.5s\n",
      "26:\tlearn: 1467.3800859\ttotal: 14.7s\tremaining: 18s\n",
      "27:\tlearn: 1460.9075743\ttotal: 15.3s\tremaining: 17.4s\n",
      "28:\tlearn: 1448.0025306\ttotal: 15.8s\tremaining: 16.9s\n",
      "29:\tlearn: 1442.1874200\ttotal: 16.4s\tremaining: 16.4s\n",
      "30:\tlearn: 1428.6263755\ttotal: 17s\tremaining: 15.9s\n",
      "31:\tlearn: 1424.4283329\ttotal: 17.6s\tremaining: 15.4s\n",
      "32:\tlearn: 1420.2489766\ttotal: 18.2s\tremaining: 14.9s\n",
      "33:\tlearn: 1415.9372099\ttotal: 18.8s\tremaining: 14.4s\n",
      "34:\tlearn: 1409.6913989\ttotal: 19.5s\tremaining: 13.9s\n",
      "35:\tlearn: 1404.1992320\ttotal: 20s\tremaining: 13.4s\n",
      "36:\tlearn: 1400.0237914\ttotal: 20.6s\tremaining: 12.8s\n",
      "37:\tlearn: 1395.2003183\ttotal: 21.2s\tremaining: 12.3s\n",
      "38:\tlearn: 1390.0459183\ttotal: 21.8s\tremaining: 11.7s\n",
      "39:\tlearn: 1384.2392039\ttotal: 22.4s\tremaining: 11.2s\n",
      "40:\tlearn: 1378.9381556\ttotal: 22.9s\tremaining: 10.6s\n",
      "41:\tlearn: 1374.2187319\ttotal: 23.5s\tremaining: 10.1s\n",
      "42:\tlearn: 1371.9957818\ttotal: 24.1s\tremaining: 9.51s\n",
      "43:\tlearn: 1368.2680574\ttotal: 24.6s\tremaining: 8.96s\n",
      "44:\tlearn: 1364.7305355\ttotal: 25.2s\tremaining: 8.39s\n",
      "45:\tlearn: 1362.5848618\ttotal: 25.7s\tremaining: 7.83s\n",
      "46:\tlearn: 1362.5431954\ttotal: 25.8s\tremaining: 7.13s\n",
      "47:\tlearn: 1356.4779378\ttotal: 26.3s\tremaining: 6.58s\n",
      "48:\tlearn: 1353.2791206\ttotal: 26.9s\tremaining: 6.04s\n",
      "49:\tlearn: 1350.4171859\ttotal: 27.5s\tremaining: 5.49s\n",
      "50:\tlearn: 1344.9805440\ttotal: 28s\tremaining: 4.94s\n",
      "51:\tlearn: 1342.9571662\ttotal: 28.6s\tremaining: 4.4s\n",
      "52:\tlearn: 1340.4349024\ttotal: 29.1s\tremaining: 3.85s\n",
      "53:\tlearn: 1338.2406795\ttotal: 29.7s\tremaining: 3.3s\n",
      "54:\tlearn: 1335.0110003\ttotal: 30.3s\tremaining: 2.75s\n",
      "55:\tlearn: 1334.8765887\ttotal: 30.3s\tremaining: 2.17s\n",
      "56:\tlearn: 1332.3879528\ttotal: 30.9s\tremaining: 1.63s\n",
      "57:\tlearn: 1329.0284167\ttotal: 31.5s\tremaining: 1.09s\n",
      "58:\tlearn: 1326.0970388\ttotal: 32.1s\tremaining: 544ms\n",
      "59:\tlearn: 1321.1914193\ttotal: 32.7s\tremaining: 0us\n",
      "RMSE CatBoostRegressor на тестовой выборке: 1490.8735671995291\n"
     ]
    }
   ],
   "source": [
    "best_model = grid_cbr.best_estimator_\n",
    "\n",
    "best_model.fit(X_train, y_train)\n",
    "pred = best_model.predict(X_test)\n",
    "\n",
    "RMSE = rmse(y_test, pred)\n",
    "\n",
    "print('RMSE CatBoostRegressor на тестовой выборке:', RMSE)"
   ]
  },
  {
   "cell_type": "markdown",
   "metadata": {},
   "source": [
    "Результат предсказаний модели на тестовой выборке улучшился на 0,73%"
   ]
  },
  {
   "cell_type": "markdown",
   "metadata": {},
   "source": [
    "Проверим модель на адекватность"
   ]
  },
  {
   "cell_type": "code",
   "execution_count": 72,
   "metadata": {},
   "outputs": [
    {
     "name": "stdout",
     "output_type": "stream",
     "text": [
      "RMSE на DummyRegressor равен: 4602.823141758425\n"
     ]
    }
   ],
   "source": [
    "dummy_clf = DummyRegressor(strategy=\"mean\")\n",
    "dummy_clf.fit(X_train, y_train)\n",
    "DummyRegressor(strategy='most_frequent')\n",
    "test_model_prediction = dummy_clf.predict(X_test)\n",
    "RMSE = mean_squared_error(y_test, test_model_prediction, squared=False)\n",
    "\n",
    "print('RMSE на DummyRegressor равен:', RMSE)"
   ]
  },
  {
   "cell_type": "markdown",
   "metadata": {},
   "source": [
    "Результат более, чем в три раза превышает полученный. Модель адекватна"
   ]
  },
  {
   "cell_type": "markdown",
   "metadata": {},
   "source": [
    "**ВЫВОД**. \n",
    "\n",
    "По условию задачи заказчику важны: \n",
    "1. качество предсказания; \n",
    "2. скорость предсказания; \n",
    "3. время обучения.\n",
    "\n",
    "По результатам проведенного исследования мы рекомендуем отдать предпочтение CatBoostRegressor, так как модель имеет лучшее качество предсказания и выигрывает в скорости предсказания.\n",
    "Линейные же модели обладают большей скоростью предсказания, но плохим качеством, а значит не подходят для нашей задачи."
   ]
  },
  {
   "cell_type": "code",
   "execution_count": null,
   "metadata": {},
   "outputs": [],
   "source": []
  }
 ],
 "metadata": {
  "ExecuteTimeLog": [
   {
    "duration": 1069,
    "start_time": "2022-12-15T13:08:54.656Z"
   },
   {
    "duration": 431,
    "start_time": "2022-12-15T13:11:36.853Z"
   },
   {
    "duration": 1510,
    "start_time": "2022-12-17T14:42:06.631Z"
   },
   {
    "duration": 5,
    "start_time": "2022-12-17T14:48:01.729Z"
   },
   {
    "duration": 1022,
    "start_time": "2022-12-17T14:49:08.590Z"
   },
   {
    "duration": 15,
    "start_time": "2022-12-17T14:49:25.921Z"
   },
   {
    "duration": 123,
    "start_time": "2022-12-17T14:49:48.793Z"
   },
   {
    "duration": 47,
    "start_time": "2022-12-19T13:16:47.905Z"
   },
   {
    "duration": 1554,
    "start_time": "2022-12-19T13:16:59.279Z"
   },
   {
    "duration": 1052,
    "start_time": "2022-12-19T13:17:00.835Z"
   },
   {
    "duration": 16,
    "start_time": "2022-12-19T13:17:01.889Z"
   },
   {
    "duration": 166,
    "start_time": "2022-12-19T13:17:01.907Z"
   },
   {
    "duration": 97,
    "start_time": "2022-12-19T13:17:02.075Z"
   },
   {
    "duration": 138,
    "start_time": "2022-12-19T13:17:59.554Z"
   },
   {
    "duration": 461,
    "start_time": "2022-12-19T13:18:33.694Z"
   },
   {
    "duration": 403,
    "start_time": "2022-12-19T14:24:21.413Z"
   },
   {
    "duration": 789,
    "start_time": "2022-12-19T14:25:19.326Z"
   },
   {
    "duration": 80,
    "start_time": "2022-12-19T14:25:51.589Z"
   },
   {
    "duration": 74,
    "start_time": "2022-12-19T14:49:44.783Z"
   },
   {
    "duration": 10,
    "start_time": "2022-12-19T14:50:12.722Z"
   },
   {
    "duration": 97,
    "start_time": "2022-12-19T14:50:54.366Z"
   },
   {
    "duration": 10,
    "start_time": "2022-12-19T15:19:07.463Z"
   },
   {
    "duration": 358,
    "start_time": "2022-12-19T15:24:46.808Z"
   },
   {
    "duration": 162,
    "start_time": "2022-12-19T15:25:22.715Z"
   },
   {
    "duration": 1446,
    "start_time": "2022-12-19T15:25:29.849Z"
   },
   {
    "duration": 810,
    "start_time": "2022-12-19T15:25:31.297Z"
   },
   {
    "duration": 17,
    "start_time": "2022-12-19T15:25:32.109Z"
   },
   {
    "duration": 151,
    "start_time": "2022-12-19T15:25:32.128Z"
   },
   {
    "duration": 104,
    "start_time": "2022-12-19T15:25:32.282Z"
   },
   {
    "duration": 123,
    "start_time": "2022-12-19T15:25:32.387Z"
   },
   {
    "duration": 488,
    "start_time": "2022-12-19T15:25:32.512Z"
   },
   {
    "duration": 115,
    "start_time": "2022-12-19T15:25:33.001Z"
   },
   {
    "duration": 11,
    "start_time": "2022-12-19T15:25:33.118Z"
   },
   {
    "duration": 107,
    "start_time": "2022-12-19T15:25:33.131Z"
   },
   {
    "duration": 10,
    "start_time": "2022-12-19T15:25:33.240Z"
   },
   {
    "duration": 193,
    "start_time": "2022-12-19T15:25:33.252Z"
   },
   {
    "duration": 3,
    "start_time": "2022-12-19T15:25:33.447Z"
   },
   {
    "duration": 333,
    "start_time": "2022-12-19T15:26:52.807Z"
   },
   {
    "duration": 58,
    "start_time": "2022-12-19T15:32:12.135Z"
   },
   {
    "duration": 1409,
    "start_time": "2022-12-19T15:32:29.292Z"
   },
   {
    "duration": 855,
    "start_time": "2022-12-19T15:32:30.703Z"
   },
   {
    "duration": 22,
    "start_time": "2022-12-19T15:32:31.560Z"
   },
   {
    "duration": 146,
    "start_time": "2022-12-19T15:32:31.585Z"
   },
   {
    "duration": 112,
    "start_time": "2022-12-19T15:32:31.733Z"
   },
   {
    "duration": 138,
    "start_time": "2022-12-19T15:32:31.847Z"
   },
   {
    "duration": 442,
    "start_time": "2022-12-19T15:32:31.986Z"
   },
   {
    "duration": 115,
    "start_time": "2022-12-19T15:32:32.430Z"
   },
   {
    "duration": 12,
    "start_time": "2022-12-19T15:32:32.546Z"
   },
   {
    "duration": 97,
    "start_time": "2022-12-19T15:32:32.560Z"
   },
   {
    "duration": 42,
    "start_time": "2022-12-19T15:32:32.659Z"
   },
   {
    "duration": 0,
    "start_time": "2022-12-19T15:32:32.703Z"
   },
   {
    "duration": 0,
    "start_time": "2022-12-19T15:32:32.705Z"
   },
   {
    "duration": 0,
    "start_time": "2022-12-19T15:32:32.706Z"
   },
   {
    "duration": 48,
    "start_time": "2022-12-19T15:32:46.355Z"
   },
   {
    "duration": 74,
    "start_time": "2022-12-19T15:33:40.286Z"
   },
   {
    "duration": 44,
    "start_time": "2022-12-19T15:34:28.524Z"
   },
   {
    "duration": 48,
    "start_time": "2022-12-19T15:35:51.093Z"
   },
   {
    "duration": 118,
    "start_time": "2022-12-19T15:37:01.732Z"
   },
   {
    "duration": 9,
    "start_time": "2022-12-19T15:37:20.292Z"
   },
   {
    "duration": 1374,
    "start_time": "2022-12-19T15:37:40.509Z"
   },
   {
    "duration": 838,
    "start_time": "2022-12-19T15:37:41.885Z"
   },
   {
    "duration": 17,
    "start_time": "2022-12-19T15:37:42.725Z"
   },
   {
    "duration": 161,
    "start_time": "2022-12-19T15:37:42.744Z"
   },
   {
    "duration": 103,
    "start_time": "2022-12-19T15:37:42.907Z"
   },
   {
    "duration": 141,
    "start_time": "2022-12-19T15:37:43.011Z"
   },
   {
    "duration": 451,
    "start_time": "2022-12-19T15:37:43.155Z"
   },
   {
    "duration": 124,
    "start_time": "2022-12-19T15:37:43.607Z"
   },
   {
    "duration": 12,
    "start_time": "2022-12-19T15:37:43.732Z"
   },
   {
    "duration": 103,
    "start_time": "2022-12-19T15:37:43.746Z"
   },
   {
    "duration": 4,
    "start_time": "2022-12-19T15:37:43.851Z"
   },
   {
    "duration": 9,
    "start_time": "2022-12-19T15:37:43.857Z"
   },
   {
    "duration": 111,
    "start_time": "2022-12-19T15:37:43.868Z"
   },
   {
    "duration": 0,
    "start_time": "2022-12-19T15:37:43.981Z"
   },
   {
    "duration": 10,
    "start_time": "2022-12-19T15:37:57.578Z"
   },
   {
    "duration": 9,
    "start_time": "2022-12-19T15:38:41.196Z"
   },
   {
    "duration": 1497,
    "start_time": "2022-12-19T15:40:04.762Z"
   },
   {
    "duration": 851,
    "start_time": "2022-12-19T15:40:06.261Z"
   },
   {
    "duration": 16,
    "start_time": "2022-12-19T15:40:07.114Z"
   },
   {
    "duration": 159,
    "start_time": "2022-12-19T15:40:07.132Z"
   },
   {
    "duration": 114,
    "start_time": "2022-12-19T15:40:07.293Z"
   },
   {
    "duration": 144,
    "start_time": "2022-12-19T15:40:07.409Z"
   },
   {
    "duration": 485,
    "start_time": "2022-12-19T15:40:07.554Z"
   },
   {
    "duration": 116,
    "start_time": "2022-12-19T15:40:08.040Z"
   },
   {
    "duration": 20,
    "start_time": "2022-12-19T15:40:08.158Z"
   },
   {
    "duration": 99,
    "start_time": "2022-12-19T15:40:08.181Z"
   },
   {
    "duration": 8,
    "start_time": "2022-12-19T15:40:08.281Z"
   },
   {
    "duration": 19,
    "start_time": "2022-12-19T15:40:08.290Z"
   },
   {
    "duration": 9,
    "start_time": "2022-12-19T15:40:08.311Z"
   },
   {
    "duration": 121,
    "start_time": "2022-12-19T15:40:08.322Z"
   },
   {
    "duration": 0,
    "start_time": "2022-12-19T15:40:08.445Z"
   },
   {
    "duration": 0,
    "start_time": "2022-12-19T15:40:08.446Z"
   },
   {
    "duration": 8,
    "start_time": "2022-12-19T15:44:51.273Z"
   },
   {
    "duration": 1378,
    "start_time": "2022-12-19T15:45:16.585Z"
   },
   {
    "duration": 739,
    "start_time": "2022-12-19T15:45:17.965Z"
   },
   {
    "duration": 16,
    "start_time": "2022-12-19T15:45:18.705Z"
   },
   {
    "duration": 137,
    "start_time": "2022-12-19T15:45:18.723Z"
   },
   {
    "duration": 90,
    "start_time": "2022-12-19T15:45:18.862Z"
   },
   {
    "duration": 134,
    "start_time": "2022-12-19T15:45:18.953Z"
   },
   {
    "duration": 424,
    "start_time": "2022-12-19T15:45:19.089Z"
   },
   {
    "duration": 65,
    "start_time": "2022-12-19T15:45:19.516Z"
   },
   {
    "duration": 11,
    "start_time": "2022-12-19T15:45:19.582Z"
   },
   {
    "duration": 103,
    "start_time": "2022-12-19T15:45:19.596Z"
   },
   {
    "duration": 2,
    "start_time": "2022-12-19T15:45:19.701Z"
   },
   {
    "duration": 8,
    "start_time": "2022-12-19T15:45:19.705Z"
   },
   {
    "duration": 4,
    "start_time": "2022-12-19T15:45:19.715Z"
   },
   {
    "duration": 174,
    "start_time": "2022-12-19T15:45:19.721Z"
   },
   {
    "duration": 326,
    "start_time": "2022-12-19T15:45:19.896Z"
   },
   {
    "duration": 10,
    "start_time": "2022-12-19T15:45:59.305Z"
   },
   {
    "duration": 1429,
    "start_time": "2022-12-19T15:46:11.560Z"
   },
   {
    "duration": 786,
    "start_time": "2022-12-19T15:46:12.991Z"
   },
   {
    "duration": 18,
    "start_time": "2022-12-19T15:46:13.778Z"
   },
   {
    "duration": 145,
    "start_time": "2022-12-19T15:46:13.798Z"
   },
   {
    "duration": 96,
    "start_time": "2022-12-19T15:46:13.944Z"
   },
   {
    "duration": 122,
    "start_time": "2022-12-19T15:46:14.042Z"
   },
   {
    "duration": 410,
    "start_time": "2022-12-19T15:46:14.166Z"
   },
   {
    "duration": 67,
    "start_time": "2022-12-19T15:46:14.578Z"
   },
   {
    "duration": 10,
    "start_time": "2022-12-19T15:46:14.647Z"
   },
   {
    "duration": 87,
    "start_time": "2022-12-19T15:46:14.678Z"
   },
   {
    "duration": 4,
    "start_time": "2022-12-19T15:46:14.776Z"
   },
   {
    "duration": 27,
    "start_time": "2022-12-19T15:46:14.782Z"
   },
   {
    "duration": 23,
    "start_time": "2022-12-19T15:46:14.811Z"
   },
   {
    "duration": 222,
    "start_time": "2022-12-19T15:46:14.836Z"
   },
   {
    "duration": 337,
    "start_time": "2022-12-19T15:46:15.059Z"
   },
   {
    "duration": 1371,
    "start_time": "2022-12-19T15:49:40.778Z"
   },
   {
    "duration": 823,
    "start_time": "2022-12-19T15:49:42.151Z"
   },
   {
    "duration": 17,
    "start_time": "2022-12-19T15:49:42.975Z"
   },
   {
    "duration": 135,
    "start_time": "2022-12-19T15:49:42.994Z"
   },
   {
    "duration": 93,
    "start_time": "2022-12-19T15:49:43.131Z"
   },
   {
    "duration": 121,
    "start_time": "2022-12-19T15:49:43.226Z"
   },
   {
    "duration": 447,
    "start_time": "2022-12-19T15:49:43.349Z"
   },
   {
    "duration": 86,
    "start_time": "2022-12-19T15:49:43.797Z"
   },
   {
    "duration": 15,
    "start_time": "2022-12-19T15:49:43.885Z"
   },
   {
    "duration": 130,
    "start_time": "2022-12-19T15:49:43.903Z"
   },
   {
    "duration": 4,
    "start_time": "2022-12-19T15:49:44.034Z"
   },
   {
    "duration": 8,
    "start_time": "2022-12-19T15:49:44.040Z"
   },
   {
    "duration": 13,
    "start_time": "2022-12-19T15:49:44.050Z"
   },
   {
    "duration": 171,
    "start_time": "2022-12-19T15:49:44.076Z"
   },
   {
    "duration": 341,
    "start_time": "2022-12-19T15:49:44.249Z"
   },
   {
    "duration": 4,
    "start_time": "2022-12-19T15:54:22.365Z"
   },
   {
    "duration": 11,
    "start_time": "2022-12-19T15:54:36.430Z"
   },
   {
    "duration": 1404,
    "start_time": "2022-12-19T15:54:48.377Z"
   },
   {
    "duration": 818,
    "start_time": "2022-12-19T15:54:49.783Z"
   },
   {
    "duration": 17,
    "start_time": "2022-12-19T15:54:50.603Z"
   },
   {
    "duration": 152,
    "start_time": "2022-12-19T15:54:50.622Z"
   },
   {
    "duration": 101,
    "start_time": "2022-12-19T15:54:50.778Z"
   },
   {
    "duration": 131,
    "start_time": "2022-12-19T15:54:50.880Z"
   },
   {
    "duration": 454,
    "start_time": "2022-12-19T15:54:51.013Z"
   },
   {
    "duration": 117,
    "start_time": "2022-12-19T15:54:51.469Z"
   },
   {
    "duration": 11,
    "start_time": "2022-12-19T15:54:51.587Z"
   },
   {
    "duration": 94,
    "start_time": "2022-12-19T15:54:51.600Z"
   },
   {
    "duration": 3,
    "start_time": "2022-12-19T15:54:51.695Z"
   },
   {
    "duration": 7,
    "start_time": "2022-12-19T15:54:51.699Z"
   },
   {
    "duration": 16,
    "start_time": "2022-12-19T15:54:51.707Z"
   },
   {
    "duration": 194,
    "start_time": "2022-12-19T15:54:51.725Z"
   },
   {
    "duration": 338,
    "start_time": "2022-12-19T15:54:51.921Z"
   },
   {
    "duration": 15,
    "start_time": "2022-12-19T15:56:05.292Z"
   },
   {
    "duration": 138,
    "start_time": "2022-12-19T15:56:07.363Z"
   },
   {
    "duration": 9,
    "start_time": "2022-12-19T15:57:30.338Z"
   },
   {
    "duration": 9,
    "start_time": "2022-12-19T16:00:18.283Z"
   },
   {
    "duration": 9,
    "start_time": "2022-12-19T16:01:09.153Z"
   },
   {
    "duration": 1348,
    "start_time": "2022-12-19T16:01:39.324Z"
   },
   {
    "duration": 828,
    "start_time": "2022-12-19T16:01:40.675Z"
   },
   {
    "duration": 19,
    "start_time": "2022-12-19T16:01:41.505Z"
   },
   {
    "duration": 163,
    "start_time": "2022-12-19T16:01:41.526Z"
   },
   {
    "duration": 107,
    "start_time": "2022-12-19T16:01:41.691Z"
   },
   {
    "duration": 131,
    "start_time": "2022-12-19T16:01:41.800Z"
   },
   {
    "duration": 523,
    "start_time": "2022-12-19T16:01:41.933Z"
   },
   {
    "duration": 121,
    "start_time": "2022-12-19T16:01:42.458Z"
   },
   {
    "duration": 11,
    "start_time": "2022-12-19T16:01:42.580Z"
   },
   {
    "duration": 118,
    "start_time": "2022-12-19T16:01:42.593Z"
   },
   {
    "duration": 4,
    "start_time": "2022-12-19T16:01:42.713Z"
   },
   {
    "duration": 32,
    "start_time": "2022-12-19T16:01:42.719Z"
   },
   {
    "duration": 32,
    "start_time": "2022-12-19T16:01:42.754Z"
   },
   {
    "duration": 222,
    "start_time": "2022-12-19T16:01:42.787Z"
   },
   {
    "duration": 340,
    "start_time": "2022-12-19T16:01:43.011Z"
   },
   {
    "duration": 1361,
    "start_time": "2022-12-19T16:03:36.393Z"
   },
   {
    "duration": 799,
    "start_time": "2022-12-19T16:03:37.756Z"
   },
   {
    "duration": 20,
    "start_time": "2022-12-19T16:03:38.557Z"
   },
   {
    "duration": 163,
    "start_time": "2022-12-19T16:03:38.579Z"
   },
   {
    "duration": 106,
    "start_time": "2022-12-19T16:03:38.744Z"
   },
   {
    "duration": 129,
    "start_time": "2022-12-19T16:03:38.852Z"
   },
   {
    "duration": 447,
    "start_time": "2022-12-19T16:03:38.983Z"
   },
   {
    "duration": 116,
    "start_time": "2022-12-19T16:03:39.431Z"
   },
   {
    "duration": 12,
    "start_time": "2022-12-19T16:03:39.549Z"
   },
   {
    "duration": 88,
    "start_time": "2022-12-19T16:03:39.562Z"
   },
   {
    "duration": 3,
    "start_time": "2022-12-19T16:03:39.651Z"
   },
   {
    "duration": 32,
    "start_time": "2022-12-19T16:03:39.656Z"
   },
   {
    "duration": 5,
    "start_time": "2022-12-19T16:03:39.690Z"
   },
   {
    "duration": 111,
    "start_time": "2022-12-19T16:03:39.697Z"
   },
   {
    "duration": 0,
    "start_time": "2022-12-19T16:03:39.809Z"
   },
   {
    "duration": 0,
    "start_time": "2022-12-19T16:03:39.810Z"
   },
   {
    "duration": 9,
    "start_time": "2022-12-19T16:26:33.082Z"
   },
   {
    "duration": 1387,
    "start_time": "2022-12-19T16:26:40.204Z"
   },
   {
    "duration": 757,
    "start_time": "2022-12-19T16:26:41.593Z"
   },
   {
    "duration": 25,
    "start_time": "2022-12-19T16:26:42.351Z"
   },
   {
    "duration": 127,
    "start_time": "2022-12-19T16:26:42.378Z"
   },
   {
    "duration": 147,
    "start_time": "2022-12-19T16:26:42.506Z"
   },
   {
    "duration": 159,
    "start_time": "2022-12-19T16:26:42.655Z"
   },
   {
    "duration": 478,
    "start_time": "2022-12-19T16:26:42.816Z"
   },
   {
    "duration": 93,
    "start_time": "2022-12-19T16:26:43.295Z"
   },
   {
    "duration": 11,
    "start_time": "2022-12-19T16:26:43.389Z"
   },
   {
    "duration": 93,
    "start_time": "2022-12-19T16:26:43.401Z"
   },
   {
    "duration": 3,
    "start_time": "2022-12-19T16:26:43.495Z"
   },
   {
    "duration": 11,
    "start_time": "2022-12-19T16:26:43.500Z"
   },
   {
    "duration": 5,
    "start_time": "2022-12-19T16:26:43.513Z"
   },
   {
    "duration": 198,
    "start_time": "2022-12-19T16:26:43.519Z"
   },
   {
    "duration": 365,
    "start_time": "2022-12-19T16:26:43.718Z"
   },
   {
    "duration": 1437,
    "start_time": "2022-12-19T16:33:51.198Z"
   },
   {
    "duration": 770,
    "start_time": "2022-12-19T16:33:52.637Z"
   },
   {
    "duration": 15,
    "start_time": "2022-12-19T16:33:53.409Z"
   },
   {
    "duration": 140,
    "start_time": "2022-12-19T16:33:53.426Z"
   },
   {
    "duration": 94,
    "start_time": "2022-12-19T16:33:53.568Z"
   },
   {
    "duration": 126,
    "start_time": "2022-12-19T16:33:53.664Z"
   },
   {
    "duration": 445,
    "start_time": "2022-12-19T16:33:53.791Z"
   },
   {
    "duration": 105,
    "start_time": "2022-12-19T16:33:54.238Z"
   },
   {
    "duration": 11,
    "start_time": "2022-12-19T16:33:54.344Z"
   },
   {
    "duration": 105,
    "start_time": "2022-12-19T16:33:54.357Z"
   },
   {
    "duration": 2,
    "start_time": "2022-12-19T16:33:54.464Z"
   },
   {
    "duration": 15,
    "start_time": "2022-12-19T16:33:54.468Z"
   },
   {
    "duration": 7,
    "start_time": "2022-12-19T16:33:54.484Z"
   },
   {
    "duration": 175,
    "start_time": "2022-12-19T16:33:54.492Z"
   },
   {
    "duration": 404,
    "start_time": "2022-12-19T16:33:54.669Z"
   },
   {
    "duration": 8,
    "start_time": "2022-12-19T16:36:27.809Z"
   },
   {
    "duration": 10,
    "start_time": "2022-12-19T16:52:21.606Z"
   },
   {
    "duration": 117,
    "start_time": "2022-12-19T16:52:48.867Z"
   },
   {
    "duration": 9,
    "start_time": "2022-12-19T16:59:20.791Z"
   },
   {
    "duration": 1344,
    "start_time": "2022-12-19T16:59:34.431Z"
   },
   {
    "duration": 844,
    "start_time": "2022-12-19T16:59:35.777Z"
   },
   {
    "duration": 18,
    "start_time": "2022-12-19T16:59:36.623Z"
   },
   {
    "duration": 143,
    "start_time": "2022-12-19T16:59:36.642Z"
   },
   {
    "duration": 104,
    "start_time": "2022-12-19T16:59:36.788Z"
   },
   {
    "duration": 132,
    "start_time": "2022-12-19T16:59:36.894Z"
   },
   {
    "duration": 441,
    "start_time": "2022-12-19T16:59:37.028Z"
   },
   {
    "duration": 81,
    "start_time": "2022-12-19T16:59:37.471Z"
   },
   {
    "duration": 12,
    "start_time": "2022-12-19T16:59:37.553Z"
   },
   {
    "duration": 100,
    "start_time": "2022-12-19T16:59:37.576Z"
   },
   {
    "duration": 3,
    "start_time": "2022-12-19T16:59:37.678Z"
   },
   {
    "duration": 18,
    "start_time": "2022-12-19T16:59:37.682Z"
   },
   {
    "duration": 34,
    "start_time": "2022-12-19T16:59:37.702Z"
   },
   {
    "duration": 10,
    "start_time": "2022-12-19T16:59:37.740Z"
   },
   {
    "duration": 206,
    "start_time": "2022-12-19T16:59:37.752Z"
   },
   {
    "duration": 367,
    "start_time": "2022-12-19T16:59:37.960Z"
   },
   {
    "duration": 2,
    "start_time": "2022-12-19T16:59:38.329Z"
   },
   {
    "duration": 860,
    "start_time": "2022-12-19T16:59:38.333Z"
   },
   {
    "duration": 52,
    "start_time": "2022-12-19T18:42:17.871Z"
   },
   {
    "duration": 1711,
    "start_time": "2022-12-19T18:42:25.863Z"
   },
   {
    "duration": 1184,
    "start_time": "2022-12-19T18:42:27.577Z"
   },
   {
    "duration": 20,
    "start_time": "2022-12-19T18:42:28.763Z"
   },
   {
    "duration": 209,
    "start_time": "2022-12-19T18:42:28.791Z"
   },
   {
    "duration": 104,
    "start_time": "2022-12-19T18:42:29.003Z"
   },
   {
    "duration": 139,
    "start_time": "2022-12-19T18:42:29.109Z"
   },
   {
    "duration": 484,
    "start_time": "2022-12-19T18:42:29.250Z"
   },
   {
    "duration": 103,
    "start_time": "2022-12-19T18:42:29.735Z"
   },
   {
    "duration": 13,
    "start_time": "2022-12-19T18:42:29.840Z"
   },
   {
    "duration": 113,
    "start_time": "2022-12-19T18:42:29.855Z"
   },
   {
    "duration": 6,
    "start_time": "2022-12-19T18:42:29.976Z"
   },
   {
    "duration": 19,
    "start_time": "2022-12-19T18:42:29.984Z"
   },
   {
    "duration": 39,
    "start_time": "2022-12-19T18:42:30.004Z"
   },
   {
    "duration": 10,
    "start_time": "2022-12-19T18:42:30.045Z"
   },
   {
    "duration": 296,
    "start_time": "2022-12-19T18:42:30.057Z"
   },
   {
    "duration": 410,
    "start_time": "2022-12-19T18:42:30.355Z"
   },
   {
    "duration": 265,
    "start_time": "2022-12-19T18:42:30.767Z"
   },
   {
    "duration": 255,
    "start_time": "2022-12-19T18:43:01.016Z"
   },
   {
    "duration": 282,
    "start_time": "2022-12-19T18:43:36.666Z"
   },
   {
    "duration": 326,
    "start_time": "2022-12-19T18:52:29.463Z"
   },
   {
    "duration": 357,
    "start_time": "2022-12-19T18:52:45.704Z"
   },
   {
    "duration": 18,
    "start_time": "2022-12-19T19:01:06.654Z"
   },
   {
    "duration": 822,
    "start_time": "2022-12-19T20:14:14.314Z"
   },
   {
    "duration": 78,
    "start_time": "2022-12-19T20:14:35.525Z"
   },
   {
    "duration": 794,
    "start_time": "2022-12-19T20:19:21.249Z"
   },
   {
    "duration": 85,
    "start_time": "2022-12-19T20:19:41.364Z"
   },
   {
    "duration": 16,
    "start_time": "2022-12-19T20:20:01.241Z"
   },
   {
    "duration": 4,
    "start_time": "2022-12-19T20:22:03.491Z"
   },
   {
    "duration": 176,
    "start_time": "2022-12-19T20:22:56.897Z"
   },
   {
    "duration": 19,
    "start_time": "2022-12-19T20:23:32.934Z"
   },
   {
    "duration": 210,
    "start_time": "2022-12-19T20:23:47.202Z"
   },
   {
    "duration": 150,
    "start_time": "2022-12-19T20:24:40.960Z"
   },
   {
    "duration": 254,
    "start_time": "2022-12-19T20:25:34.852Z"
   },
   {
    "duration": 167,
    "start_time": "2022-12-19T20:26:21.125Z"
   },
   {
    "duration": 147,
    "start_time": "2022-12-19T20:28:19.824Z"
   },
   {
    "duration": 4,
    "start_time": "2022-12-20T12:38:55.477Z"
   },
   {
    "duration": 1513,
    "start_time": "2022-12-20T12:39:02.496Z"
   },
   {
    "duration": 1051,
    "start_time": "2022-12-20T12:39:04.011Z"
   },
   {
    "duration": 21,
    "start_time": "2022-12-20T12:39:05.065Z"
   },
   {
    "duration": 177,
    "start_time": "2022-12-20T12:39:05.088Z"
   },
   {
    "duration": 98,
    "start_time": "2022-12-20T12:39:05.267Z"
   },
   {
    "duration": 117,
    "start_time": "2022-12-20T12:39:05.367Z"
   },
   {
    "duration": 450,
    "start_time": "2022-12-20T12:39:05.486Z"
   },
   {
    "duration": 107,
    "start_time": "2022-12-20T12:39:05.937Z"
   },
   {
    "duration": 15,
    "start_time": "2022-12-20T12:39:06.045Z"
   },
   {
    "duration": 94,
    "start_time": "2022-12-20T12:39:06.062Z"
   },
   {
    "duration": 33,
    "start_time": "2022-12-20T12:39:06.158Z"
   },
   {
    "duration": 39,
    "start_time": "2022-12-20T12:39:06.193Z"
   },
   {
    "duration": 57,
    "start_time": "2022-12-20T12:39:06.233Z"
   },
   {
    "duration": 10,
    "start_time": "2022-12-20T12:39:06.292Z"
   },
   {
    "duration": 195,
    "start_time": "2022-12-20T12:39:06.303Z"
   },
   {
    "duration": 383,
    "start_time": "2022-12-20T12:39:06.500Z"
   },
   {
    "duration": 294,
    "start_time": "2022-12-20T12:39:06.884Z"
   },
   {
    "duration": 28,
    "start_time": "2022-12-20T12:39:07.180Z"
   },
   {
    "duration": 101,
    "start_time": "2022-12-20T12:39:07.209Z"
   },
   {
    "duration": 2,
    "start_time": "2022-12-20T12:39:07.311Z"
   },
   {
    "duration": 7,
    "start_time": "2022-12-20T12:39:07.315Z"
   },
   {
    "duration": 12,
    "start_time": "2022-12-20T12:39:07.324Z"
   },
   {
    "duration": 6,
    "start_time": "2022-12-20T12:39:07.337Z"
   },
   {
    "duration": 6,
    "start_time": "2022-12-20T12:39:07.344Z"
   },
   {
    "duration": 6,
    "start_time": "2022-12-20T12:39:07.351Z"
   },
   {
    "duration": 4,
    "start_time": "2022-12-20T12:41:57.272Z"
   },
   {
    "duration": 246,
    "start_time": "2022-12-20T12:42:16.880Z"
   },
   {
    "duration": 4,
    "start_time": "2022-12-20T12:42:42.501Z"
   },
   {
    "duration": 165,
    "start_time": "2022-12-20T12:42:57.726Z"
   },
   {
    "duration": 4,
    "start_time": "2022-12-20T12:51:09.050Z"
   },
   {
    "duration": 172,
    "start_time": "2022-12-20T12:51:30.931Z"
   },
   {
    "duration": 207,
    "start_time": "2022-12-20T12:55:02.480Z"
   },
   {
    "duration": 107,
    "start_time": "2022-12-20T12:56:07.128Z"
   },
   {
    "duration": 163,
    "start_time": "2022-12-20T12:56:52.234Z"
   },
   {
    "duration": 132,
    "start_time": "2022-12-20T13:00:23.037Z"
   },
   {
    "duration": 5,
    "start_time": "2022-12-20T13:01:43.927Z"
   },
   {
    "duration": 160,
    "start_time": "2022-12-20T13:01:47.625Z"
   },
   {
    "duration": 144,
    "start_time": "2022-12-20T13:01:52.564Z"
   },
   {
    "duration": 105,
    "start_time": "2022-12-20T13:01:56.912Z"
   },
   {
    "duration": 157,
    "start_time": "2022-12-20T13:02:01.752Z"
   },
   {
    "duration": 154,
    "start_time": "2022-12-20T13:02:06.994Z"
   },
   {
    "duration": 231,
    "start_time": "2022-12-20T13:05:58.896Z"
   },
   {
    "duration": 220,
    "start_time": "2022-12-20T13:06:07.328Z"
   },
   {
    "duration": 197,
    "start_time": "2022-12-20T13:06:22.471Z"
   },
   {
    "duration": 1378,
    "start_time": "2022-12-20T13:06:34.793Z"
   },
   {
    "duration": 793,
    "start_time": "2022-12-20T13:06:36.173Z"
   },
   {
    "duration": 16,
    "start_time": "2022-12-20T13:06:36.968Z"
   },
   {
    "duration": 148,
    "start_time": "2022-12-20T13:06:36.986Z"
   },
   {
    "duration": 102,
    "start_time": "2022-12-20T13:06:37.136Z"
   },
   {
    "duration": 123,
    "start_time": "2022-12-20T13:06:37.240Z"
   },
   {
    "duration": 478,
    "start_time": "2022-12-20T13:06:37.365Z"
   },
   {
    "duration": 117,
    "start_time": "2022-12-20T13:06:37.845Z"
   },
   {
    "duration": 12,
    "start_time": "2022-12-20T13:06:37.964Z"
   },
   {
    "duration": 100,
    "start_time": "2022-12-20T13:06:37.977Z"
   },
   {
    "duration": 3,
    "start_time": "2022-12-20T13:06:38.078Z"
   },
   {
    "duration": 18,
    "start_time": "2022-12-20T13:06:38.083Z"
   },
   {
    "duration": 38,
    "start_time": "2022-12-20T13:06:38.103Z"
   },
   {
    "duration": 10,
    "start_time": "2022-12-20T13:06:38.143Z"
   },
   {
    "duration": 203,
    "start_time": "2022-12-20T13:06:38.154Z"
   },
   {
    "duration": 390,
    "start_time": "2022-12-20T13:06:38.359Z"
   },
   {
    "duration": 267,
    "start_time": "2022-12-20T13:06:38.750Z"
   },
   {
    "duration": 19,
    "start_time": "2022-12-20T13:06:39.018Z"
   },
   {
    "duration": 96,
    "start_time": "2022-12-20T13:06:39.038Z"
   },
   {
    "duration": 4,
    "start_time": "2022-12-20T13:06:39.135Z"
   },
   {
    "duration": 169,
    "start_time": "2022-12-20T13:06:39.140Z"
   },
   {
    "duration": 157,
    "start_time": "2022-12-20T13:06:39.311Z"
   },
   {
    "duration": 121,
    "start_time": "2022-12-20T13:06:39.470Z"
   },
   {
    "duration": 239,
    "start_time": "2022-12-20T13:06:39.593Z"
   },
   {
    "duration": 144,
    "start_time": "2022-12-20T13:06:39.833Z"
   },
   {
    "duration": 1541,
    "start_time": "2022-12-20T13:16:34.656Z"
   },
   {
    "duration": 1514,
    "start_time": "2022-12-20T13:16:59.702Z"
   },
   {
    "duration": 1668,
    "start_time": "2022-12-20T13:17:43.071Z"
   },
   {
    "duration": 9,
    "start_time": "2022-12-20T13:20:01.438Z"
   },
   {
    "duration": 11,
    "start_time": "2022-12-20T13:21:38.720Z"
   },
   {
    "duration": 40,
    "start_time": "2022-12-20T13:24:34.615Z"
   },
   {
    "duration": 5,
    "start_time": "2022-12-20T13:30:47.920Z"
   },
   {
    "duration": 15,
    "start_time": "2022-12-20T13:31:02.207Z"
   },
   {
    "duration": 379,
    "start_time": "2022-12-20T13:32:43.769Z"
   },
   {
    "duration": 2,
    "start_time": "2022-12-20T13:33:13.012Z"
   },
   {
    "duration": 46,
    "start_time": "2022-12-20T13:43:31.011Z"
   },
   {
    "duration": 7,
    "start_time": "2022-12-20T13:43:39.867Z"
   },
   {
    "duration": 1513,
    "start_time": "2022-12-20T13:43:46.173Z"
   },
   {
    "duration": 1068,
    "start_time": "2022-12-20T13:43:47.688Z"
   },
   {
    "duration": 18,
    "start_time": "2022-12-20T13:43:48.757Z"
   },
   {
    "duration": 124,
    "start_time": "2022-12-20T13:43:48.776Z"
   },
   {
    "duration": 138,
    "start_time": "2022-12-20T13:43:48.902Z"
   },
   {
    "duration": 130,
    "start_time": "2022-12-20T13:43:49.042Z"
   },
   {
    "duration": 477,
    "start_time": "2022-12-20T13:43:49.174Z"
   },
   {
    "duration": 110,
    "start_time": "2022-12-20T13:43:49.653Z"
   },
   {
    "duration": 10,
    "start_time": "2022-12-20T13:43:49.765Z"
   },
   {
    "duration": 128,
    "start_time": "2022-12-20T13:43:49.777Z"
   },
   {
    "duration": 4,
    "start_time": "2022-12-20T13:43:49.906Z"
   },
   {
    "duration": 31,
    "start_time": "2022-12-20T13:43:49.911Z"
   },
   {
    "duration": 65,
    "start_time": "2022-12-20T13:43:49.944Z"
   },
   {
    "duration": 10,
    "start_time": "2022-12-20T13:43:50.011Z"
   },
   {
    "duration": 204,
    "start_time": "2022-12-20T13:43:50.023Z"
   },
   {
    "duration": 398,
    "start_time": "2022-12-20T13:43:50.229Z"
   },
   {
    "duration": 251,
    "start_time": "2022-12-20T13:43:50.628Z"
   },
   {
    "duration": 19,
    "start_time": "2022-12-20T13:43:50.880Z"
   },
   {
    "duration": 111,
    "start_time": "2022-12-20T13:43:50.901Z"
   },
   {
    "duration": 7,
    "start_time": "2022-12-20T13:43:51.014Z"
   },
   {
    "duration": 208,
    "start_time": "2022-12-20T13:43:51.023Z"
   },
   {
    "duration": 170,
    "start_time": "2022-12-20T13:43:51.232Z"
   },
   {
    "duration": 147,
    "start_time": "2022-12-20T13:43:51.404Z"
   },
   {
    "duration": 260,
    "start_time": "2022-12-20T13:43:51.553Z"
   },
   {
    "duration": 160,
    "start_time": "2022-12-20T13:43:51.815Z"
   },
   {
    "duration": 1732,
    "start_time": "2022-12-20T13:43:51.977Z"
   },
   {
    "duration": 18,
    "start_time": "2022-12-20T13:43:53.711Z"
   },
   {
    "duration": 25,
    "start_time": "2022-12-20T13:43:53.731Z"
   },
   {
    "duration": 16,
    "start_time": "2022-12-20T13:43:53.757Z"
   },
   {
    "duration": 13866,
    "start_time": "2022-12-20T13:43:53.774Z"
   },
   {
    "duration": 14135,
    "start_time": "2022-12-20T13:44:19.722Z"
   },
   {
    "duration": 157,
    "start_time": "2022-12-20T13:58:40.927Z"
   },
   {
    "duration": 302,
    "start_time": "2022-12-20T14:01:11.770Z"
   },
   {
    "duration": 29,
    "start_time": "2022-12-20T14:06:05.556Z"
   },
   {
    "duration": 291,
    "start_time": "2022-12-20T14:07:52.469Z"
   },
   {
    "duration": 276,
    "start_time": "2022-12-20T14:08:05.215Z"
   },
   {
    "duration": 240,
    "start_time": "2022-12-20T14:09:49.059Z"
   },
   {
    "duration": 1146,
    "start_time": "2022-12-20T14:09:58.375Z"
   },
   {
    "duration": 211,
    "start_time": "2022-12-20T14:10:09.866Z"
   },
   {
    "duration": 3,
    "start_time": "2022-12-20T14:17:16.580Z"
   },
   {
    "duration": 2,
    "start_time": "2022-12-20T14:18:07.256Z"
   },
   {
    "duration": 914,
    "start_time": "2022-12-20T14:18:09.889Z"
   },
   {
    "duration": 1444,
    "start_time": "2022-12-20T14:18:30.548Z"
   },
   {
    "duration": 865,
    "start_time": "2022-12-20T14:18:31.994Z"
   },
   {
    "duration": 19,
    "start_time": "2022-12-20T14:18:32.861Z"
   },
   {
    "duration": 169,
    "start_time": "2022-12-20T14:18:32.882Z"
   },
   {
    "duration": 104,
    "start_time": "2022-12-20T14:18:33.053Z"
   },
   {
    "duration": 129,
    "start_time": "2022-12-20T14:18:33.159Z"
   },
   {
    "duration": 489,
    "start_time": "2022-12-20T14:18:33.290Z"
   },
   {
    "duration": 110,
    "start_time": "2022-12-20T14:18:33.780Z"
   },
   {
    "duration": 10,
    "start_time": "2022-12-20T14:18:33.892Z"
   },
   {
    "duration": 106,
    "start_time": "2022-12-20T14:18:33.906Z"
   },
   {
    "duration": 10,
    "start_time": "2022-12-20T14:18:34.013Z"
   },
   {
    "duration": 34,
    "start_time": "2022-12-20T14:18:34.025Z"
   },
   {
    "duration": 40,
    "start_time": "2022-12-20T14:18:34.060Z"
   },
   {
    "duration": 10,
    "start_time": "2022-12-20T14:18:34.102Z"
   },
   {
    "duration": 229,
    "start_time": "2022-12-20T14:18:34.115Z"
   },
   {
    "duration": 421,
    "start_time": "2022-12-20T14:18:34.345Z"
   },
   {
    "duration": 289,
    "start_time": "2022-12-20T14:18:34.768Z"
   },
   {
    "duration": 21,
    "start_time": "2022-12-20T14:18:35.058Z"
   },
   {
    "duration": 106,
    "start_time": "2022-12-20T14:18:35.081Z"
   },
   {
    "duration": 5,
    "start_time": "2022-12-20T14:18:35.189Z"
   },
   {
    "duration": 255,
    "start_time": "2022-12-20T14:18:35.196Z"
   },
   {
    "duration": 208,
    "start_time": "2022-12-20T14:18:35.453Z"
   },
   {
    "duration": 120,
    "start_time": "2022-12-20T14:18:35.663Z"
   },
   {
    "duration": 287,
    "start_time": "2022-12-20T14:18:35.785Z"
   },
   {
    "duration": 183,
    "start_time": "2022-12-20T14:18:36.074Z"
   },
   {
    "duration": 1776,
    "start_time": "2022-12-20T14:18:36.260Z"
   },
   {
    "duration": 12,
    "start_time": "2022-12-20T14:18:38.038Z"
   },
   {
    "duration": 32,
    "start_time": "2022-12-20T14:18:38.054Z"
   },
   {
    "duration": 17,
    "start_time": "2022-12-20T14:18:38.088Z"
   },
   {
    "duration": 347,
    "start_time": "2022-12-20T14:18:38.121Z"
   },
   {
    "duration": 29,
    "start_time": "2022-12-20T14:18:38.469Z"
   },
   {
    "duration": 257,
    "start_time": "2022-12-20T14:18:38.500Z"
   },
   {
    "duration": 2,
    "start_time": "2022-12-20T14:18:38.759Z"
   },
   {
    "duration": 1025,
    "start_time": "2022-12-20T14:18:38.762Z"
   },
   {
    "duration": 3,
    "start_time": "2022-12-20T14:23:16.968Z"
   },
   {
    "duration": 730,
    "start_time": "2022-12-20T14:24:26.012Z"
   },
   {
    "duration": 1361,
    "start_time": "2022-12-20T14:27:12.765Z"
   },
   {
    "duration": 808,
    "start_time": "2022-12-20T14:27:14.140Z"
   },
   {
    "duration": 18,
    "start_time": "2022-12-20T14:27:14.949Z"
   },
   {
    "duration": 169,
    "start_time": "2022-12-20T14:27:14.969Z"
   },
   {
    "duration": 134,
    "start_time": "2022-12-20T14:27:15.142Z"
   },
   {
    "duration": 145,
    "start_time": "2022-12-20T14:27:15.278Z"
   },
   {
    "duration": 527,
    "start_time": "2022-12-20T14:27:15.425Z"
   },
   {
    "duration": 90,
    "start_time": "2022-12-20T14:27:15.954Z"
   },
   {
    "duration": 11,
    "start_time": "2022-12-20T14:27:16.045Z"
   },
   {
    "duration": 104,
    "start_time": "2022-12-20T14:27:16.059Z"
   },
   {
    "duration": 3,
    "start_time": "2022-12-20T14:27:16.165Z"
   },
   {
    "duration": 19,
    "start_time": "2022-12-20T14:27:16.170Z"
   },
   {
    "duration": 39,
    "start_time": "2022-12-20T14:27:16.191Z"
   },
   {
    "duration": 11,
    "start_time": "2022-12-20T14:27:16.231Z"
   },
   {
    "duration": 204,
    "start_time": "2022-12-20T14:27:16.244Z"
   },
   {
    "duration": 407,
    "start_time": "2022-12-20T14:27:16.450Z"
   },
   {
    "duration": 268,
    "start_time": "2022-12-20T14:27:16.858Z"
   },
   {
    "duration": 30,
    "start_time": "2022-12-20T14:27:17.128Z"
   },
   {
    "duration": 108,
    "start_time": "2022-12-20T14:27:17.160Z"
   },
   {
    "duration": 4,
    "start_time": "2022-12-20T14:27:17.269Z"
   },
   {
    "duration": 188,
    "start_time": "2022-12-20T14:27:17.274Z"
   },
   {
    "duration": 173,
    "start_time": "2022-12-20T14:27:17.464Z"
   },
   {
    "duration": 122,
    "start_time": "2022-12-20T14:27:17.639Z"
   },
   {
    "duration": 251,
    "start_time": "2022-12-20T14:27:17.762Z"
   },
   {
    "duration": 163,
    "start_time": "2022-12-20T14:27:18.015Z"
   },
   {
    "duration": 1719,
    "start_time": "2022-12-20T14:27:18.180Z"
   },
   {
    "duration": 30,
    "start_time": "2022-12-20T14:27:19.900Z"
   },
   {
    "duration": 22,
    "start_time": "2022-12-20T14:27:19.938Z"
   },
   {
    "duration": 15,
    "start_time": "2022-12-20T14:27:19.963Z"
   },
   {
    "duration": 323,
    "start_time": "2022-12-20T14:27:19.980Z"
   },
   {
    "duration": 37,
    "start_time": "2022-12-20T14:27:20.305Z"
   },
   {
    "duration": 225,
    "start_time": "2022-12-20T14:27:20.344Z"
   },
   {
    "duration": 4,
    "start_time": "2022-12-20T14:27:20.571Z"
   },
   {
    "duration": 806,
    "start_time": "2022-12-20T14:40:51.194Z"
   },
   {
    "duration": 11,
    "start_time": "2022-12-20T14:44:26.927Z"
   },
   {
    "duration": 11,
    "start_time": "2022-12-20T14:44:31.832Z"
   },
   {
    "duration": 796,
    "start_time": "2022-12-20T14:44:48.463Z"
   },
   {
    "duration": 1407,
    "start_time": "2022-12-20T14:44:57.015Z"
   },
   {
    "duration": 817,
    "start_time": "2022-12-20T14:44:58.424Z"
   },
   {
    "duration": 15,
    "start_time": "2022-12-20T14:44:59.242Z"
   },
   {
    "duration": 134,
    "start_time": "2022-12-20T14:44:59.259Z"
   },
   {
    "duration": 103,
    "start_time": "2022-12-20T14:44:59.395Z"
   },
   {
    "duration": 158,
    "start_time": "2022-12-20T14:44:59.500Z"
   },
   {
    "duration": 432,
    "start_time": "2022-12-20T14:44:59.660Z"
   },
   {
    "duration": 107,
    "start_time": "2022-12-20T14:45:00.094Z"
   },
   {
    "duration": 9,
    "start_time": "2022-12-20T14:45:00.203Z"
   },
   {
    "duration": 94,
    "start_time": "2022-12-20T14:45:00.222Z"
   },
   {
    "duration": 5,
    "start_time": "2022-12-20T14:45:00.318Z"
   },
   {
    "duration": 18,
    "start_time": "2022-12-20T14:45:00.324Z"
   },
   {
    "duration": 37,
    "start_time": "2022-12-20T14:45:00.344Z"
   },
   {
    "duration": 10,
    "start_time": "2022-12-20T14:45:00.383Z"
   },
   {
    "duration": 213,
    "start_time": "2022-12-20T14:45:00.395Z"
   },
   {
    "duration": 376,
    "start_time": "2022-12-20T14:45:00.610Z"
   },
   {
    "duration": 231,
    "start_time": "2022-12-20T14:45:00.988Z"
   },
   {
    "duration": 20,
    "start_time": "2022-12-20T14:45:01.221Z"
   },
   {
    "duration": 122,
    "start_time": "2022-12-20T14:45:01.243Z"
   },
   {
    "duration": 4,
    "start_time": "2022-12-20T14:45:01.366Z"
   },
   {
    "duration": 223,
    "start_time": "2022-12-20T14:45:01.371Z"
   },
   {
    "duration": 189,
    "start_time": "2022-12-20T14:45:01.596Z"
   },
   {
    "duration": 121,
    "start_time": "2022-12-20T14:45:01.787Z"
   },
   {
    "duration": 265,
    "start_time": "2022-12-20T14:45:01.910Z"
   },
   {
    "duration": 159,
    "start_time": "2022-12-20T14:45:02.177Z"
   },
   {
    "duration": 1616,
    "start_time": "2022-12-20T14:45:02.337Z"
   },
   {
    "duration": 10,
    "start_time": "2022-12-20T14:45:03.955Z"
   },
   {
    "duration": 32,
    "start_time": "2022-12-20T14:45:03.968Z"
   },
   {
    "duration": 21,
    "start_time": "2022-12-20T14:45:04.002Z"
   },
   {
    "duration": 309,
    "start_time": "2022-12-20T14:45:04.025Z"
   },
   {
    "duration": 27,
    "start_time": "2022-12-20T14:45:04.336Z"
   },
   {
    "duration": 216,
    "start_time": "2022-12-20T14:45:04.365Z"
   },
   {
    "duration": 3,
    "start_time": "2022-12-20T14:45:04.583Z"
   },
   {
    "duration": 45,
    "start_time": "2022-12-20T14:45:04.588Z"
   },
   {
    "duration": 16,
    "start_time": "2022-12-20T14:51:59.483Z"
   },
   {
    "duration": 26,
    "start_time": "2022-12-20T14:54:49.036Z"
   },
   {
    "duration": 200,
    "start_time": "2022-12-20T15:02:17.769Z"
   },
   {
    "duration": 204,
    "start_time": "2022-12-20T15:02:42.614Z"
   },
   {
    "duration": 17,
    "start_time": "2022-12-20T15:03:25.418Z"
   },
   {
    "duration": 1310,
    "start_time": "2022-12-20T15:05:06.048Z"
   },
   {
    "duration": 20,
    "start_time": "2022-12-20T15:05:40.072Z"
   },
   {
    "duration": 1415,
    "start_time": "2022-12-20T15:05:43.805Z"
   },
   {
    "duration": 61,
    "start_time": "2022-12-20T15:19:10.423Z"
   },
   {
    "duration": 1662,
    "start_time": "2022-12-20T15:19:17.424Z"
   },
   {
    "duration": 1373,
    "start_time": "2022-12-20T15:19:19.088Z"
   },
   {
    "duration": 18,
    "start_time": "2022-12-20T15:19:20.464Z"
   },
   {
    "duration": 131,
    "start_time": "2022-12-20T15:19:20.485Z"
   },
   {
    "duration": 148,
    "start_time": "2022-12-20T15:19:20.621Z"
   },
   {
    "duration": 123,
    "start_time": "2022-12-20T15:19:20.771Z"
   },
   {
    "duration": 542,
    "start_time": "2022-12-20T15:19:20.896Z"
   },
   {
    "duration": 99,
    "start_time": "2022-12-20T15:19:21.440Z"
   },
   {
    "duration": 12,
    "start_time": "2022-12-20T15:19:21.542Z"
   },
   {
    "duration": 100,
    "start_time": "2022-12-20T15:19:21.557Z"
   },
   {
    "duration": 4,
    "start_time": "2022-12-20T15:19:21.658Z"
   },
   {
    "duration": 13,
    "start_time": "2022-12-20T15:19:21.663Z"
   },
   {
    "duration": 54,
    "start_time": "2022-12-20T15:19:21.678Z"
   },
   {
    "duration": 13,
    "start_time": "2022-12-20T15:19:21.733Z"
   },
   {
    "duration": 215,
    "start_time": "2022-12-20T15:19:21.748Z"
   },
   {
    "duration": 431,
    "start_time": "2022-12-20T15:19:21.966Z"
   },
   {
    "duration": 279,
    "start_time": "2022-12-20T15:19:22.399Z"
   },
   {
    "duration": 19,
    "start_time": "2022-12-20T15:19:22.680Z"
   },
   {
    "duration": 92,
    "start_time": "2022-12-20T15:19:22.714Z"
   },
   {
    "duration": 13,
    "start_time": "2022-12-20T15:19:22.807Z"
   },
   {
    "duration": 212,
    "start_time": "2022-12-20T15:19:22.822Z"
   },
   {
    "duration": 191,
    "start_time": "2022-12-20T15:19:23.040Z"
   },
   {
    "duration": 132,
    "start_time": "2022-12-20T15:19:23.237Z"
   },
   {
    "duration": 290,
    "start_time": "2022-12-20T15:19:23.371Z"
   },
   {
    "duration": 194,
    "start_time": "2022-12-20T15:19:23.662Z"
   },
   {
    "duration": 2033,
    "start_time": "2022-12-20T15:19:23.859Z"
   },
   {
    "duration": 43,
    "start_time": "2022-12-20T15:19:25.894Z"
   },
   {
    "duration": 26,
    "start_time": "2022-12-20T15:19:25.942Z"
   },
   {
    "duration": 1932,
    "start_time": "2022-12-20T15:19:25.970Z"
   },
   {
    "duration": 33,
    "start_time": "2022-12-20T15:19:27.904Z"
   },
   {
    "duration": 400,
    "start_time": "2022-12-20T15:19:27.944Z"
   },
   {
    "duration": 29,
    "start_time": "2022-12-20T15:19:28.346Z"
   },
   {
    "duration": 285,
    "start_time": "2022-12-20T15:19:28.377Z"
   },
   {
    "duration": 18,
    "start_time": "2022-12-20T15:19:28.665Z"
   },
   {
    "duration": 52,
    "start_time": "2022-12-20T15:19:28.685Z"
   },
   {
    "duration": 30,
    "start_time": "2022-12-20T15:19:28.739Z"
   },
   {
    "duration": 279,
    "start_time": "2022-12-20T15:19:28.771Z"
   },
   {
    "duration": 77,
    "start_time": "2022-12-20T15:19:29.052Z"
   },
   {
    "duration": 15,
    "start_time": "2022-12-20T15:20:14.942Z"
   },
   {
    "duration": 138,
    "start_time": "2022-12-20T15:21:25.804Z"
   },
   {
    "duration": 4,
    "start_time": "2022-12-20T15:21:32.053Z"
   },
   {
    "duration": 141,
    "start_time": "2022-12-20T15:26:18.089Z"
   },
   {
    "duration": 214,
    "start_time": "2022-12-20T15:26:44.308Z"
   },
   {
    "duration": 1425,
    "start_time": "2022-12-20T15:27:12.250Z"
   },
   {
    "duration": 926,
    "start_time": "2022-12-20T15:27:13.677Z"
   },
   {
    "duration": 27,
    "start_time": "2022-12-20T15:27:14.605Z"
   },
   {
    "duration": 255,
    "start_time": "2022-12-20T15:27:14.634Z"
   },
   {
    "duration": 114,
    "start_time": "2022-12-20T15:27:14.892Z"
   },
   {
    "duration": 208,
    "start_time": "2022-12-20T15:27:15.012Z"
   },
   {
    "duration": 511,
    "start_time": "2022-12-20T15:27:15.222Z"
   },
   {
    "duration": 115,
    "start_time": "2022-12-20T15:27:15.735Z"
   },
   {
    "duration": 12,
    "start_time": "2022-12-20T15:27:15.853Z"
   },
   {
    "duration": 168,
    "start_time": "2022-12-20T15:27:15.868Z"
   },
   {
    "duration": 4,
    "start_time": "2022-12-20T15:27:16.037Z"
   },
   {
    "duration": 15,
    "start_time": "2022-12-20T15:27:16.043Z"
   },
   {
    "duration": 36,
    "start_time": "2022-12-20T15:27:16.059Z"
   },
   {
    "duration": 32,
    "start_time": "2022-12-20T15:27:16.097Z"
   },
   {
    "duration": 238,
    "start_time": "2022-12-20T15:27:16.131Z"
   },
   {
    "duration": 419,
    "start_time": "2022-12-20T15:27:16.370Z"
   },
   {
    "duration": 376,
    "start_time": "2022-12-20T15:27:16.791Z"
   },
   {
    "duration": 48,
    "start_time": "2022-12-20T15:27:17.172Z"
   },
   {
    "duration": 129,
    "start_time": "2022-12-20T15:27:17.224Z"
   },
   {
    "duration": 5,
    "start_time": "2022-12-20T15:27:17.355Z"
   },
   {
    "duration": 207,
    "start_time": "2022-12-20T15:27:17.362Z"
   },
   {
    "duration": 189,
    "start_time": "2022-12-20T15:27:17.571Z"
   },
   {
    "duration": 135,
    "start_time": "2022-12-20T15:27:17.762Z"
   },
   {
    "duration": 276,
    "start_time": "2022-12-20T15:27:17.899Z"
   },
   {
    "duration": 180,
    "start_time": "2022-12-20T15:27:18.177Z"
   },
   {
    "duration": 1935,
    "start_time": "2022-12-20T15:27:18.359Z"
   },
   {
    "duration": 29,
    "start_time": "2022-12-20T15:27:20.296Z"
   },
   {
    "duration": 29,
    "start_time": "2022-12-20T15:27:20.329Z"
   },
   {
    "duration": 1772,
    "start_time": "2022-12-20T15:27:20.359Z"
   },
   {
    "duration": 17,
    "start_time": "2022-12-20T15:27:22.132Z"
   },
   {
    "duration": 381,
    "start_time": "2022-12-20T15:27:22.151Z"
   },
   {
    "duration": 30,
    "start_time": "2022-12-20T15:27:22.534Z"
   },
   {
    "duration": 264,
    "start_time": "2022-12-20T15:27:22.566Z"
   },
   {
    "duration": 17,
    "start_time": "2022-12-20T15:27:22.832Z"
   },
   {
    "duration": 18,
    "start_time": "2022-12-20T15:27:22.852Z"
   },
   {
    "duration": 59,
    "start_time": "2022-12-20T15:27:22.872Z"
   },
   {
    "duration": 221,
    "start_time": "2022-12-20T15:27:22.933Z"
   },
   {
    "duration": 112,
    "start_time": "2022-12-20T15:27:23.156Z"
   },
   {
    "duration": 19,
    "start_time": "2022-12-20T15:27:23.271Z"
   },
   {
    "duration": 237,
    "start_time": "2022-12-20T15:27:23.292Z"
   },
   {
    "duration": 3,
    "start_time": "2022-12-20T15:29:48.272Z"
   },
   {
    "duration": 2,
    "start_time": "2022-12-20T15:29:50.868Z"
   },
   {
    "duration": 1581,
    "start_time": "2022-12-20T15:30:33.678Z"
   },
   {
    "duration": 946,
    "start_time": "2022-12-20T15:30:35.264Z"
   },
   {
    "duration": 32,
    "start_time": "2022-12-20T15:30:36.212Z"
   },
   {
    "duration": 134,
    "start_time": "2022-12-20T15:30:36.246Z"
   },
   {
    "duration": 121,
    "start_time": "2022-12-20T15:30:36.381Z"
   },
   {
    "duration": 174,
    "start_time": "2022-12-20T15:30:36.504Z"
   },
   {
    "duration": 554,
    "start_time": "2022-12-20T15:30:36.681Z"
   },
   {
    "duration": 67,
    "start_time": "2022-12-20T15:30:37.243Z"
   },
   {
    "duration": 26,
    "start_time": "2022-12-20T15:30:37.312Z"
   },
   {
    "duration": 82,
    "start_time": "2022-12-20T15:30:37.343Z"
   },
   {
    "duration": 15,
    "start_time": "2022-12-20T15:30:37.434Z"
   },
   {
    "duration": 14,
    "start_time": "2022-12-20T15:30:37.451Z"
   },
   {
    "duration": 34,
    "start_time": "2022-12-20T15:30:37.467Z"
   },
   {
    "duration": 32,
    "start_time": "2022-12-20T15:30:37.503Z"
   },
   {
    "duration": 7,
    "start_time": "2022-12-20T15:30:37.538Z"
   },
   {
    "duration": 8,
    "start_time": "2022-12-20T15:30:37.546Z"
   },
   {
    "duration": 290,
    "start_time": "2022-12-20T15:30:37.555Z"
   },
   {
    "duration": 21,
    "start_time": "2022-12-20T15:30:37.847Z"
   },
   {
    "duration": 117,
    "start_time": "2022-12-20T15:30:37.870Z"
   },
   {
    "duration": 4,
    "start_time": "2022-12-20T15:30:37.989Z"
   },
   {
    "duration": 211,
    "start_time": "2022-12-20T15:30:37.995Z"
   },
   {
    "duration": 193,
    "start_time": "2022-12-20T15:30:38.208Z"
   },
   {
    "duration": 156,
    "start_time": "2022-12-20T15:30:38.403Z"
   },
   {
    "duration": 294,
    "start_time": "2022-12-20T15:30:38.561Z"
   },
   {
    "duration": 171,
    "start_time": "2022-12-20T15:30:38.857Z"
   },
   {
    "duration": 1973,
    "start_time": "2022-12-20T15:30:39.030Z"
   },
   {
    "duration": 35,
    "start_time": "2022-12-20T15:30:41.005Z"
   },
   {
    "duration": 31,
    "start_time": "2022-12-20T15:30:41.044Z"
   },
   {
    "duration": 2082,
    "start_time": "2022-12-20T15:30:41.077Z"
   },
   {
    "duration": 20,
    "start_time": "2022-12-20T15:30:43.161Z"
   },
   {
    "duration": 392,
    "start_time": "2022-12-20T15:30:43.183Z"
   },
   {
    "duration": 44,
    "start_time": "2022-12-20T15:30:43.577Z"
   },
   {
    "duration": 239,
    "start_time": "2022-12-20T15:30:43.631Z"
   },
   {
    "duration": 17,
    "start_time": "2022-12-20T15:30:43.872Z"
   },
   {
    "duration": 36,
    "start_time": "2022-12-20T15:30:43.891Z"
   },
   {
    "duration": 32,
    "start_time": "2022-12-20T15:30:43.929Z"
   },
   {
    "duration": 287,
    "start_time": "2022-12-20T15:30:43.963Z"
   },
   {
    "duration": 85,
    "start_time": "2022-12-20T15:30:44.253Z"
   },
   {
    "duration": 13,
    "start_time": "2022-12-20T15:30:44.340Z"
   },
   {
    "duration": 9,
    "start_time": "2022-12-20T15:30:44.355Z"
   },
   {
    "duration": 307,
    "start_time": "2022-12-20T15:30:44.366Z"
   },
   {
    "duration": 5,
    "start_time": "2022-12-20T19:57:18.639Z"
   },
   {
    "duration": 49,
    "start_time": "2022-12-20T20:08:45.244Z"
   },
   {
    "duration": 1674,
    "start_time": "2022-12-20T20:08:52.327Z"
   },
   {
    "duration": 2886,
    "start_time": "2022-12-20T20:08:54.004Z"
   },
   {
    "duration": 18,
    "start_time": "2022-12-20T20:08:56.893Z"
   },
   {
    "duration": 128,
    "start_time": "2022-12-20T20:08:56.914Z"
   },
   {
    "duration": 154,
    "start_time": "2022-12-20T20:08:57.051Z"
   },
   {
    "duration": 144,
    "start_time": "2022-12-20T20:08:57.208Z"
   },
   {
    "duration": 525,
    "start_time": "2022-12-20T20:08:57.354Z"
   },
   {
    "duration": 100,
    "start_time": "2022-12-20T20:08:57.880Z"
   },
   {
    "duration": 17,
    "start_time": "2022-12-20T20:08:57.982Z"
   },
   {
    "duration": 113,
    "start_time": "2022-12-20T20:08:58.002Z"
   },
   {
    "duration": 5,
    "start_time": "2022-12-20T20:08:58.117Z"
   },
   {
    "duration": 6,
    "start_time": "2022-12-20T20:08:58.124Z"
   },
   {
    "duration": 52,
    "start_time": "2022-12-20T20:08:58.132Z"
   },
   {
    "duration": 10,
    "start_time": "2022-12-20T20:08:58.187Z"
   },
   {
    "duration": 5,
    "start_time": "2022-12-20T20:08:58.199Z"
   },
   {
    "duration": 7,
    "start_time": "2022-12-20T20:08:58.205Z"
   },
   {
    "duration": 297,
    "start_time": "2022-12-20T20:08:58.214Z"
   },
   {
    "duration": 43,
    "start_time": "2022-12-20T20:08:58.513Z"
   },
   {
    "duration": 121,
    "start_time": "2022-12-20T20:08:58.558Z"
   },
   {
    "duration": 4,
    "start_time": "2022-12-20T20:08:58.681Z"
   },
   {
    "duration": 201,
    "start_time": "2022-12-20T20:08:58.686Z"
   },
   {
    "duration": 199,
    "start_time": "2022-12-20T20:08:58.888Z"
   },
   {
    "duration": 180,
    "start_time": "2022-12-20T20:08:59.089Z"
   },
   {
    "duration": 267,
    "start_time": "2022-12-20T20:08:59.271Z"
   },
   {
    "duration": 211,
    "start_time": "2022-12-20T20:08:59.540Z"
   },
   {
    "duration": 2042,
    "start_time": "2022-12-20T20:08:59.752Z"
   },
   {
    "duration": 13,
    "start_time": "2022-12-20T20:09:01.796Z"
   },
   {
    "duration": 49,
    "start_time": "2022-12-20T20:09:01.813Z"
   },
   {
    "duration": 1933,
    "start_time": "2022-12-20T20:09:01.864Z"
   },
   {
    "duration": 18,
    "start_time": "2022-12-20T20:09:03.799Z"
   },
   {
    "duration": 388,
    "start_time": "2022-12-20T20:09:03.819Z"
   },
   {
    "duration": 43,
    "start_time": "2022-12-20T20:09:04.209Z"
   },
   {
    "duration": 234,
    "start_time": "2022-12-20T20:09:04.254Z"
   },
   {
    "duration": 16,
    "start_time": "2022-12-20T20:09:04.489Z"
   },
   {
    "duration": 18,
    "start_time": "2022-12-20T20:09:04.507Z"
   },
   {
    "duration": 49,
    "start_time": "2022-12-20T20:09:04.527Z"
   },
   {
    "duration": 266,
    "start_time": "2022-12-20T20:09:04.578Z"
   },
   {
    "duration": 75,
    "start_time": "2022-12-20T20:09:04.846Z"
   },
   {
    "duration": 5,
    "start_time": "2022-12-20T20:09:04.922Z"
   },
   {
    "duration": 324,
    "start_time": "2022-12-20T20:09:04.929Z"
   },
   {
    "duration": 5,
    "start_time": "2022-12-20T20:09:05.255Z"
   },
   {
    "duration": 8,
    "start_time": "2022-12-20T20:23:09.220Z"
   },
   {
    "duration": 7,
    "start_time": "2022-12-20T20:24:26.190Z"
   },
   {
    "duration": 6,
    "start_time": "2022-12-20T20:24:35.346Z"
   },
   {
    "duration": 16,
    "start_time": "2022-12-20T20:26:45.373Z"
   },
   {
    "duration": 10,
    "start_time": "2022-12-20T20:31:02.489Z"
   },
   {
    "duration": 2029,
    "start_time": "2022-12-20T21:20:01.060Z"
   },
   {
    "duration": 1279,
    "start_time": "2022-12-20T21:20:03.091Z"
   },
   {
    "duration": 24,
    "start_time": "2022-12-20T21:20:04.373Z"
   },
   {
    "duration": 280,
    "start_time": "2022-12-20T21:20:04.399Z"
   },
   {
    "duration": 138,
    "start_time": "2022-12-20T21:20:04.681Z"
   },
   {
    "duration": 264,
    "start_time": "2022-12-20T21:20:04.821Z"
   },
   {
    "duration": 737,
    "start_time": "2022-12-20T21:20:05.087Z"
   },
   {
    "duration": 125,
    "start_time": "2022-12-20T21:20:05.826Z"
   },
   {
    "duration": 13,
    "start_time": "2022-12-20T21:20:05.953Z"
   },
   {
    "duration": 187,
    "start_time": "2022-12-20T21:20:05.969Z"
   },
   {
    "duration": 10,
    "start_time": "2022-12-20T21:20:06.158Z"
   },
   {
    "duration": 36,
    "start_time": "2022-12-20T21:20:06.170Z"
   },
   {
    "duration": 60,
    "start_time": "2022-12-20T21:20:06.209Z"
   },
   {
    "duration": 17,
    "start_time": "2022-12-20T21:20:06.271Z"
   },
   {
    "duration": 440,
    "start_time": "2022-12-20T21:20:06.290Z"
   },
   {
    "duration": 45,
    "start_time": "2022-12-20T21:20:06.732Z"
   },
   {
    "duration": 186,
    "start_time": "2022-12-20T21:20:06.779Z"
   },
   {
    "duration": 5,
    "start_time": "2022-12-20T21:20:06.967Z"
   },
   {
    "duration": 295,
    "start_time": "2022-12-20T21:20:06.974Z"
   },
   {
    "duration": 265,
    "start_time": "2022-12-20T21:20:07.271Z"
   },
   {
    "duration": 199,
    "start_time": "2022-12-20T21:20:07.538Z"
   },
   {
    "duration": 370,
    "start_time": "2022-12-20T21:20:07.740Z"
   },
   {
    "duration": 244,
    "start_time": "2022-12-20T21:20:08.113Z"
   },
   {
    "duration": 2424,
    "start_time": "2022-12-20T21:20:08.359Z"
   },
   {
    "duration": 16,
    "start_time": "2022-12-20T21:20:10.785Z"
   },
   {
    "duration": 50,
    "start_time": "2022-12-20T21:20:10.803Z"
   },
   {
    "duration": 2135,
    "start_time": "2022-12-20T21:20:10.855Z"
   },
   {
    "duration": 23,
    "start_time": "2022-12-20T21:20:12.995Z"
   },
   {
    "duration": 379,
    "start_time": "2022-12-20T21:20:13.020Z"
   },
   {
    "duration": 34,
    "start_time": "2022-12-20T21:20:13.401Z"
   },
   {
    "duration": 285,
    "start_time": "2022-12-20T21:20:13.437Z"
   },
   {
    "duration": 30,
    "start_time": "2022-12-20T21:20:13.724Z"
   },
   {
    "duration": 30,
    "start_time": "2022-12-20T21:20:13.756Z"
   },
   {
    "duration": 51,
    "start_time": "2022-12-20T21:20:13.788Z"
   },
   {
    "duration": 263,
    "start_time": "2022-12-20T21:20:13.841Z"
   },
   {
    "duration": 8,
    "start_time": "2022-12-20T21:20:14.106Z"
   },
   {
    "duration": 9,
    "start_time": "2022-12-20T21:20:14.117Z"
   },
   {
    "duration": 117,
    "start_time": "2022-12-20T21:20:14.128Z"
   },
   {
    "duration": 4,
    "start_time": "2022-12-20T21:20:14.247Z"
   },
   {
    "duration": 320,
    "start_time": "2022-12-20T21:20:14.253Z"
   },
   {
    "duration": 4,
    "start_time": "2022-12-20T21:20:14.575Z"
   },
   {
    "duration": 10,
    "start_time": "2022-12-20T21:27:14.747Z"
   },
   {
    "duration": 1658,
    "start_time": "2022-12-21T14:04:18.985Z"
   },
   {
    "duration": 2793,
    "start_time": "2022-12-21T14:04:20.645Z"
   },
   {
    "duration": 17,
    "start_time": "2022-12-21T14:04:23.440Z"
   },
   {
    "duration": 118,
    "start_time": "2022-12-21T14:04:23.459Z"
   },
   {
    "duration": 101,
    "start_time": "2022-12-21T14:04:23.579Z"
   },
   {
    "duration": 108,
    "start_time": "2022-12-21T14:04:23.682Z"
   },
   {
    "duration": 509,
    "start_time": "2022-12-21T14:04:23.792Z"
   },
   {
    "duration": 119,
    "start_time": "2022-12-21T14:04:24.303Z"
   },
   {
    "duration": 11,
    "start_time": "2022-12-21T14:04:24.424Z"
   },
   {
    "duration": 86,
    "start_time": "2022-12-21T14:04:24.439Z"
   },
   {
    "duration": 3,
    "start_time": "2022-12-21T14:04:24.528Z"
   },
   {
    "duration": 14,
    "start_time": "2022-12-21T14:04:24.533Z"
   },
   {
    "duration": 33,
    "start_time": "2022-12-21T14:04:24.549Z"
   },
   {
    "duration": 11,
    "start_time": "2022-12-21T14:04:24.584Z"
   },
   {
    "duration": 256,
    "start_time": "2022-12-21T14:04:24.597Z"
   },
   {
    "duration": 20,
    "start_time": "2022-12-21T14:04:24.856Z"
   },
   {
    "duration": 103,
    "start_time": "2022-12-21T14:04:24.878Z"
   },
   {
    "duration": 5,
    "start_time": "2022-12-21T14:04:24.983Z"
   },
   {
    "duration": 190,
    "start_time": "2022-12-21T14:04:24.990Z"
   },
   {
    "duration": 169,
    "start_time": "2022-12-21T14:04:25.182Z"
   },
   {
    "duration": 127,
    "start_time": "2022-12-21T14:04:25.354Z"
   },
   {
    "duration": 255,
    "start_time": "2022-12-21T14:04:25.483Z"
   },
   {
    "duration": 184,
    "start_time": "2022-12-21T14:04:25.740Z"
   },
   {
    "duration": 1795,
    "start_time": "2022-12-21T14:04:25.925Z"
   },
   {
    "duration": 13,
    "start_time": "2022-12-21T14:04:27.721Z"
   },
   {
    "duration": 28,
    "start_time": "2022-12-21T14:04:27.736Z"
   },
   {
    "duration": 1799,
    "start_time": "2022-12-21T14:04:27.765Z"
   },
   {
    "duration": 17,
    "start_time": "2022-12-21T14:04:29.568Z"
   },
   {
    "duration": 359,
    "start_time": "2022-12-21T14:04:29.586Z"
   },
   {
    "duration": 31,
    "start_time": "2022-12-21T14:04:29.946Z"
   },
   {
    "duration": 229,
    "start_time": "2022-12-21T14:04:29.979Z"
   },
   {
    "duration": 23,
    "start_time": "2022-12-21T14:04:30.209Z"
   },
   {
    "duration": 15,
    "start_time": "2022-12-21T14:04:30.233Z"
   },
   {
    "duration": 28,
    "start_time": "2022-12-21T14:04:30.250Z"
   },
   {
    "duration": 242,
    "start_time": "2022-12-21T14:04:30.280Z"
   },
   {
    "duration": 6,
    "start_time": "2022-12-21T14:04:30.523Z"
   },
   {
    "duration": 22,
    "start_time": "2022-12-21T14:04:30.530Z"
   },
   {
    "duration": 69,
    "start_time": "2022-12-21T14:04:30.553Z"
   },
   {
    "duration": 263,
    "start_time": "2022-12-21T14:04:30.624Z"
   },
   {
    "duration": 4,
    "start_time": "2022-12-21T14:04:30.889Z"
   },
   {
    "duration": 125,
    "start_time": "2022-12-21T14:08:58.442Z"
   },
   {
    "duration": 6,
    "start_time": "2022-12-21T14:20:11.911Z"
   },
   {
    "duration": 27,
    "start_time": "2022-12-21T14:28:25.936Z"
   },
   {
    "duration": 26,
    "start_time": "2022-12-21T14:29:00.278Z"
   },
   {
    "duration": 10,
    "start_time": "2022-12-21T14:29:46.581Z"
   },
   {
    "duration": 1513,
    "start_time": "2022-12-21T14:29:57.119Z"
   },
   {
    "duration": 841,
    "start_time": "2022-12-21T14:29:58.635Z"
   },
   {
    "duration": 19,
    "start_time": "2022-12-21T14:29:59.478Z"
   },
   {
    "duration": 136,
    "start_time": "2022-12-21T14:29:59.500Z"
   },
   {
    "duration": 110,
    "start_time": "2022-12-21T14:29:59.638Z"
   },
   {
    "duration": 116,
    "start_time": "2022-12-21T14:29:59.750Z"
   },
   {
    "duration": 494,
    "start_time": "2022-12-21T14:29:59.867Z"
   },
   {
    "duration": 107,
    "start_time": "2022-12-21T14:30:00.364Z"
   },
   {
    "duration": 11,
    "start_time": "2022-12-21T14:30:00.473Z"
   },
   {
    "duration": 94,
    "start_time": "2022-12-21T14:30:00.487Z"
   },
   {
    "duration": 4,
    "start_time": "2022-12-21T14:30:00.583Z"
   },
   {
    "duration": 20,
    "start_time": "2022-12-21T14:30:00.588Z"
   },
   {
    "duration": 44,
    "start_time": "2022-12-21T14:30:00.609Z"
   },
   {
    "duration": 12,
    "start_time": "2022-12-21T14:30:00.654Z"
   },
   {
    "duration": 291,
    "start_time": "2022-12-21T14:30:00.668Z"
   },
   {
    "duration": 22,
    "start_time": "2022-12-21T14:30:00.961Z"
   },
   {
    "duration": 110,
    "start_time": "2022-12-21T14:30:00.985Z"
   },
   {
    "duration": 4,
    "start_time": "2022-12-21T14:30:01.097Z"
   },
   {
    "duration": 202,
    "start_time": "2022-12-21T14:30:01.103Z"
   },
   {
    "duration": 191,
    "start_time": "2022-12-21T14:30:01.306Z"
   },
   {
    "duration": 146,
    "start_time": "2022-12-21T14:30:01.499Z"
   },
   {
    "duration": 330,
    "start_time": "2022-12-21T14:30:01.647Z"
   },
   {
    "duration": 176,
    "start_time": "2022-12-21T14:30:01.980Z"
   },
   {
    "duration": 1877,
    "start_time": "2022-12-21T14:30:02.158Z"
   },
   {
    "duration": 15,
    "start_time": "2022-12-21T14:30:04.038Z"
   },
   {
    "duration": 37,
    "start_time": "2022-12-21T14:30:04.056Z"
   },
   {
    "duration": 1979,
    "start_time": "2022-12-21T14:30:04.096Z"
   },
   {
    "duration": 20,
    "start_time": "2022-12-21T14:30:06.078Z"
   },
   {
    "duration": 382,
    "start_time": "2022-12-21T14:30:06.100Z"
   },
   {
    "duration": 40,
    "start_time": "2022-12-21T14:30:06.484Z"
   },
   {
    "duration": 237,
    "start_time": "2022-12-21T14:30:06.526Z"
   },
   {
    "duration": 16,
    "start_time": "2022-12-21T14:30:06.765Z"
   },
   {
    "duration": 42,
    "start_time": "2022-12-21T14:30:06.783Z"
   },
   {
    "duration": 29,
    "start_time": "2022-12-21T14:30:06.827Z"
   },
   {
    "duration": 242,
    "start_time": "2022-12-21T14:30:06.857Z"
   },
   {
    "duration": 7,
    "start_time": "2022-12-21T14:30:07.101Z"
   },
   {
    "duration": 8,
    "start_time": "2022-12-21T14:30:07.122Z"
   },
   {
    "duration": 7,
    "start_time": "2022-12-21T14:30:07.132Z"
   },
   {
    "duration": 83,
    "start_time": "2022-12-21T14:30:07.140Z"
   },
   {
    "duration": 264,
    "start_time": "2022-12-21T14:30:07.225Z"
   },
   {
    "duration": 4,
    "start_time": "2022-12-21T14:30:07.491Z"
   },
   {
    "duration": 24,
    "start_time": "2022-12-21T14:31:46.853Z"
   },
   {
    "duration": 1700,
    "start_time": "2022-12-21T14:31:53.588Z"
   },
   {
    "duration": 1528,
    "start_time": "2022-12-21T15:06:02.226Z"
   },
   {
    "duration": 918,
    "start_time": "2022-12-21T15:06:03.756Z"
   },
   {
    "duration": 19,
    "start_time": "2022-12-21T15:06:04.675Z"
   },
   {
    "duration": 149,
    "start_time": "2022-12-21T15:06:04.696Z"
   },
   {
    "duration": 113,
    "start_time": "2022-12-21T15:06:04.847Z"
   },
   {
    "duration": 114,
    "start_time": "2022-12-21T15:06:04.961Z"
   },
   {
    "duration": 465,
    "start_time": "2022-12-21T15:06:05.077Z"
   },
   {
    "duration": 109,
    "start_time": "2022-12-21T15:06:05.544Z"
   },
   {
    "duration": 12,
    "start_time": "2022-12-21T15:06:05.654Z"
   },
   {
    "duration": 129,
    "start_time": "2022-12-21T15:06:05.667Z"
   },
   {
    "duration": 6,
    "start_time": "2022-12-21T15:06:05.798Z"
   },
   {
    "duration": 37,
    "start_time": "2022-12-21T15:06:05.806Z"
   },
   {
    "duration": 44,
    "start_time": "2022-12-21T15:06:05.845Z"
   },
   {
    "duration": 12,
    "start_time": "2022-12-21T15:06:05.892Z"
   },
   {
    "duration": 279,
    "start_time": "2022-12-21T15:06:05.907Z"
   },
   {
    "duration": 19,
    "start_time": "2022-12-21T15:06:06.188Z"
   },
   {
    "duration": 99,
    "start_time": "2022-12-21T15:06:06.222Z"
   },
   {
    "duration": 4,
    "start_time": "2022-12-21T15:06:06.323Z"
   },
   {
    "duration": 208,
    "start_time": "2022-12-21T15:06:06.329Z"
   },
   {
    "duration": 185,
    "start_time": "2022-12-21T15:06:06.538Z"
   },
   {
    "duration": 140,
    "start_time": "2022-12-21T15:06:06.724Z"
   },
   {
    "duration": 263,
    "start_time": "2022-12-21T15:06:06.865Z"
   },
   {
    "duration": 165,
    "start_time": "2022-12-21T15:06:07.130Z"
   },
   {
    "duration": 1901,
    "start_time": "2022-12-21T15:06:07.297Z"
   },
   {
    "duration": 26,
    "start_time": "2022-12-21T15:06:09.200Z"
   },
   {
    "duration": 30,
    "start_time": "2022-12-21T15:06:09.228Z"
   },
   {
    "duration": 2033,
    "start_time": "2022-12-21T15:06:09.260Z"
   },
   {
    "duration": 30,
    "start_time": "2022-12-21T15:06:11.295Z"
   },
   {
    "duration": 399,
    "start_time": "2022-12-21T15:06:11.327Z"
   },
   {
    "duration": 32,
    "start_time": "2022-12-21T15:06:11.728Z"
   },
   {
    "duration": 300,
    "start_time": "2022-12-21T15:06:11.762Z"
   },
   {
    "duration": 18,
    "start_time": "2022-12-21T15:06:12.064Z"
   },
   {
    "duration": 18,
    "start_time": "2022-12-21T15:06:12.084Z"
   },
   {
    "duration": 29,
    "start_time": "2022-12-21T15:06:12.122Z"
   },
   {
    "duration": 244,
    "start_time": "2022-12-21T15:06:12.152Z"
   },
   {
    "duration": 6,
    "start_time": "2022-12-21T15:06:12.397Z"
   },
   {
    "duration": 21,
    "start_time": "2022-12-21T15:06:12.405Z"
   },
   {
    "duration": 6,
    "start_time": "2022-12-21T15:06:12.427Z"
   },
   {
    "duration": 88,
    "start_time": "2022-12-21T15:06:12.435Z"
   },
   {
    "duration": 265,
    "start_time": "2022-12-21T15:06:12.525Z"
   },
   {
    "duration": 5,
    "start_time": "2022-12-21T15:06:12.795Z"
   },
   {
    "duration": 2,
    "start_time": "2022-12-21T15:27:41.248Z"
   },
   {
    "duration": 5,
    "start_time": "2022-12-21T15:35:17.012Z"
   },
   {
    "duration": 52,
    "start_time": "2022-12-21T18:40:44.181Z"
   },
   {
    "duration": 1581,
    "start_time": "2022-12-21T18:40:53.735Z"
   },
   {
    "duration": 1132,
    "start_time": "2022-12-21T18:40:55.319Z"
   },
   {
    "duration": 16,
    "start_time": "2022-12-21T18:40:56.453Z"
   },
   {
    "duration": 160,
    "start_time": "2022-12-21T18:40:56.471Z"
   },
   {
    "duration": 99,
    "start_time": "2022-12-21T18:40:56.634Z"
   },
   {
    "duration": 128,
    "start_time": "2022-12-21T18:40:56.735Z"
   },
   {
    "duration": 494,
    "start_time": "2022-12-21T18:40:56.865Z"
   },
   {
    "duration": 112,
    "start_time": "2022-12-21T18:40:57.361Z"
   },
   {
    "duration": 10,
    "start_time": "2022-12-21T18:40:57.474Z"
   },
   {
    "duration": 106,
    "start_time": "2022-12-21T18:40:57.486Z"
   },
   {
    "duration": 4,
    "start_time": "2022-12-21T18:40:57.594Z"
   },
   {
    "duration": 6,
    "start_time": "2022-12-21T18:40:57.599Z"
   },
   {
    "duration": 40,
    "start_time": "2022-12-21T18:40:57.607Z"
   },
   {
    "duration": 9,
    "start_time": "2022-12-21T18:40:57.650Z"
   },
   {
    "duration": 279,
    "start_time": "2022-12-21T18:40:57.661Z"
   },
   {
    "duration": 22,
    "start_time": "2022-12-21T18:40:57.941Z"
   },
   {
    "duration": 113,
    "start_time": "2022-12-21T18:40:57.964Z"
   },
   {
    "duration": 3,
    "start_time": "2022-12-21T18:40:58.079Z"
   },
   {
    "duration": 206,
    "start_time": "2022-12-21T18:40:58.084Z"
   },
   {
    "duration": 175,
    "start_time": "2022-12-21T18:40:58.291Z"
   },
   {
    "duration": 137,
    "start_time": "2022-12-21T18:40:58.467Z"
   },
   {
    "duration": 264,
    "start_time": "2022-12-21T18:40:58.606Z"
   },
   {
    "duration": 152,
    "start_time": "2022-12-21T18:40:58.872Z"
   },
   {
    "duration": 1770,
    "start_time": "2022-12-21T18:40:59.027Z"
   },
   {
    "duration": 13,
    "start_time": "2022-12-21T18:41:00.798Z"
   },
   {
    "duration": 52,
    "start_time": "2022-12-21T18:41:00.822Z"
   },
   {
    "duration": 1711,
    "start_time": "2022-12-21T18:41:00.875Z"
   },
   {
    "duration": 17,
    "start_time": "2022-12-21T18:41:02.588Z"
   },
   {
    "duration": 353,
    "start_time": "2022-12-21T18:41:02.607Z"
   },
   {
    "duration": 32,
    "start_time": "2022-12-21T18:41:02.962Z"
   },
   {
    "duration": 216,
    "start_time": "2022-12-21T18:41:02.995Z"
   },
   {
    "duration": 23,
    "start_time": "2022-12-21T18:41:03.213Z"
   },
   {
    "duration": 19,
    "start_time": "2022-12-21T18:41:03.238Z"
   },
   {
    "duration": 28,
    "start_time": "2022-12-21T18:41:03.259Z"
   },
   {
    "duration": 232,
    "start_time": "2022-12-21T18:41:03.289Z"
   },
   {
    "duration": 5,
    "start_time": "2022-12-21T18:41:03.523Z"
   },
   {
    "duration": 10,
    "start_time": "2022-12-21T18:41:03.530Z"
   },
   {
    "duration": 7,
    "start_time": "2022-12-21T18:41:03.541Z"
   },
   {
    "duration": 85,
    "start_time": "2022-12-21T18:41:03.550Z"
   },
   {
    "duration": 289,
    "start_time": "2022-12-21T18:41:03.637Z"
   },
   {
    "duration": 5,
    "start_time": "2022-12-21T18:41:03.936Z"
   },
   {
    "duration": 14,
    "start_time": "2022-12-21T18:41:03.943Z"
   },
   {
    "duration": 5,
    "start_time": "2022-12-21T18:43:36.612Z"
   },
   {
    "duration": 4,
    "start_time": "2022-12-21T19:01:42.760Z"
   },
   {
    "duration": 130,
    "start_time": "2022-12-21T19:06:06.183Z"
   },
   {
    "duration": 1439,
    "start_time": "2022-12-21T19:06:38.852Z"
   },
   {
    "duration": 892,
    "start_time": "2022-12-21T19:06:40.293Z"
   },
   {
    "duration": 15,
    "start_time": "2022-12-21T19:06:41.187Z"
   },
   {
    "duration": 172,
    "start_time": "2022-12-21T19:06:41.204Z"
   },
   {
    "duration": 104,
    "start_time": "2022-12-21T19:06:41.378Z"
   },
   {
    "duration": 171,
    "start_time": "2022-12-21T19:06:41.484Z"
   },
   {
    "duration": 500,
    "start_time": "2022-12-21T19:06:41.656Z"
   },
   {
    "duration": 121,
    "start_time": "2022-12-21T19:06:42.157Z"
   },
   {
    "duration": 10,
    "start_time": "2022-12-21T19:06:42.280Z"
   },
   {
    "duration": 102,
    "start_time": "2022-12-21T19:06:42.292Z"
   },
   {
    "duration": 3,
    "start_time": "2022-12-21T19:06:42.396Z"
   },
   {
    "duration": 9,
    "start_time": "2022-12-21T19:06:42.400Z"
   },
   {
    "duration": 43,
    "start_time": "2022-12-21T19:06:42.411Z"
   },
   {
    "duration": 11,
    "start_time": "2022-12-21T19:06:42.456Z"
   },
   {
    "duration": 290,
    "start_time": "2022-12-21T19:06:42.469Z"
   },
   {
    "duration": 21,
    "start_time": "2022-12-21T19:06:42.761Z"
   },
   {
    "duration": 124,
    "start_time": "2022-12-21T19:06:42.784Z"
   },
   {
    "duration": 4,
    "start_time": "2022-12-21T19:06:42.909Z"
   },
   {
    "duration": 195,
    "start_time": "2022-12-21T19:06:42.926Z"
   },
   {
    "duration": 181,
    "start_time": "2022-12-21T19:06:43.123Z"
   },
   {
    "duration": 142,
    "start_time": "2022-12-21T19:06:43.306Z"
   },
   {
    "duration": 265,
    "start_time": "2022-12-21T19:06:43.450Z"
   },
   {
    "duration": 183,
    "start_time": "2022-12-21T19:06:43.716Z"
   },
   {
    "duration": 1936,
    "start_time": "2022-12-21T19:06:43.901Z"
   },
   {
    "duration": 13,
    "start_time": "2022-12-21T19:06:45.845Z"
   },
   {
    "duration": 29,
    "start_time": "2022-12-21T19:06:45.859Z"
   },
   {
    "duration": 1820,
    "start_time": "2022-12-21T19:06:45.890Z"
   },
   {
    "duration": 26,
    "start_time": "2022-12-21T19:06:47.713Z"
   },
   {
    "duration": 374,
    "start_time": "2022-12-21T19:06:47.741Z"
   },
   {
    "duration": 43,
    "start_time": "2022-12-21T19:06:48.120Z"
   },
   {
    "duration": 225,
    "start_time": "2022-12-21T19:06:48.166Z"
   },
   {
    "duration": 14,
    "start_time": "2022-12-21T19:06:48.392Z"
   },
   {
    "duration": 41,
    "start_time": "2022-12-21T19:06:48.407Z"
   },
   {
    "duration": 29,
    "start_time": "2022-12-21T19:06:48.450Z"
   },
   {
    "duration": 239,
    "start_time": "2022-12-21T19:06:48.480Z"
   },
   {
    "duration": 11,
    "start_time": "2022-12-21T19:06:48.720Z"
   },
   {
    "duration": 25,
    "start_time": "2022-12-21T19:06:48.733Z"
   },
   {
    "duration": 121,
    "start_time": "2022-12-21T19:06:48.760Z"
   },
   {
    "duration": 0,
    "start_time": "2022-12-21T19:06:48.883Z"
   },
   {
    "duration": 0,
    "start_time": "2022-12-21T19:06:48.884Z"
   },
   {
    "duration": 0,
    "start_time": "2022-12-21T19:06:48.885Z"
   },
   {
    "duration": 0,
    "start_time": "2022-12-21T19:06:48.886Z"
   },
   {
    "duration": 6,
    "start_time": "2022-12-21T19:11:57.331Z"
   },
   {
    "duration": 5,
    "start_time": "2022-12-21T19:12:04.344Z"
   },
   {
    "duration": 89,
    "start_time": "2022-12-21T19:12:08.011Z"
   },
   {
    "duration": 4,
    "start_time": "2022-12-21T19:27:08.817Z"
   },
   {
    "duration": 25,
    "start_time": "2022-12-21T19:28:12.801Z"
   },
   {
    "duration": 1535,
    "start_time": "2022-12-21T19:28:22.031Z"
   },
   {
    "duration": 904,
    "start_time": "2022-12-21T19:28:23.568Z"
   },
   {
    "duration": 17,
    "start_time": "2022-12-21T19:28:24.474Z"
   },
   {
    "duration": 174,
    "start_time": "2022-12-21T19:28:24.494Z"
   },
   {
    "duration": 97,
    "start_time": "2022-12-21T19:28:24.670Z"
   },
   {
    "duration": 135,
    "start_time": "2022-12-21T19:28:24.769Z"
   },
   {
    "duration": 527,
    "start_time": "2022-12-21T19:28:24.905Z"
   },
   {
    "duration": 114,
    "start_time": "2022-12-21T19:28:25.434Z"
   },
   {
    "duration": 10,
    "start_time": "2022-12-21T19:28:25.550Z"
   },
   {
    "duration": 104,
    "start_time": "2022-12-21T19:28:25.562Z"
   },
   {
    "duration": 3,
    "start_time": "2022-12-21T19:28:25.667Z"
   },
   {
    "duration": 7,
    "start_time": "2022-12-21T19:28:25.672Z"
   },
   {
    "duration": 34,
    "start_time": "2022-12-21T19:28:25.680Z"
   },
   {
    "duration": 20,
    "start_time": "2022-12-21T19:28:25.716Z"
   },
   {
    "duration": 253,
    "start_time": "2022-12-21T19:28:25.737Z"
   },
   {
    "duration": 21,
    "start_time": "2022-12-21T19:28:25.992Z"
   },
   {
    "duration": 104,
    "start_time": "2022-12-21T19:28:26.015Z"
   },
   {
    "duration": 6,
    "start_time": "2022-12-21T19:28:26.127Z"
   },
   {
    "duration": 175,
    "start_time": "2022-12-21T19:28:26.135Z"
   },
   {
    "duration": 177,
    "start_time": "2022-12-21T19:28:26.311Z"
   },
   {
    "duration": 133,
    "start_time": "2022-12-21T19:28:26.489Z"
   },
   {
    "duration": 263,
    "start_time": "2022-12-21T19:28:26.624Z"
   },
   {
    "duration": 165,
    "start_time": "2022-12-21T19:28:26.888Z"
   },
   {
    "duration": 1841,
    "start_time": "2022-12-21T19:28:27.055Z"
   },
   {
    "duration": 13,
    "start_time": "2022-12-21T19:28:28.898Z"
   },
   {
    "duration": 41,
    "start_time": "2022-12-21T19:28:28.912Z"
   },
   {
    "duration": 1879,
    "start_time": "2022-12-21T19:28:28.955Z"
   },
   {
    "duration": 16,
    "start_time": "2022-12-21T19:28:30.839Z"
   },
   {
    "duration": 377,
    "start_time": "2022-12-21T19:28:30.856Z"
   },
   {
    "duration": 32,
    "start_time": "2022-12-21T19:28:31.235Z"
   },
   {
    "duration": 220,
    "start_time": "2022-12-21T19:28:31.268Z"
   },
   {
    "duration": 16,
    "start_time": "2022-12-21T19:28:31.489Z"
   },
   {
    "duration": 33,
    "start_time": "2022-12-21T19:28:31.507Z"
   },
   {
    "duration": 38,
    "start_time": "2022-12-21T19:28:31.542Z"
   },
   {
    "duration": 221,
    "start_time": "2022-12-21T19:28:31.581Z"
   },
   {
    "duration": 5,
    "start_time": "2022-12-21T19:28:31.804Z"
   },
   {
    "duration": 42,
    "start_time": "2022-12-21T19:28:31.811Z"
   },
   {
    "duration": 33,
    "start_time": "2022-12-21T19:28:31.855Z"
   },
   {
    "duration": 3,
    "start_time": "2022-12-21T19:28:31.889Z"
   },
   {
    "duration": 100,
    "start_time": "2022-12-21T19:28:31.893Z"
   },
   {
    "duration": 272,
    "start_time": "2022-12-21T19:28:31.994Z"
   },
   {
    "duration": 4,
    "start_time": "2022-12-21T19:28:32.268Z"
   },
   {
    "duration": 6,
    "start_time": "2022-12-21T19:30:16.875Z"
   },
   {
    "duration": 1373,
    "start_time": "2022-12-21T19:30:40.677Z"
   },
   {
    "duration": 920,
    "start_time": "2022-12-21T19:30:42.052Z"
   },
   {
    "duration": 15,
    "start_time": "2022-12-21T19:30:42.973Z"
   },
   {
    "duration": 156,
    "start_time": "2022-12-21T19:30:42.990Z"
   },
   {
    "duration": 138,
    "start_time": "2022-12-21T19:30:43.148Z"
   },
   {
    "duration": 126,
    "start_time": "2022-12-21T19:30:43.288Z"
   },
   {
    "duration": 510,
    "start_time": "2022-12-21T19:30:43.416Z"
   },
   {
    "duration": 84,
    "start_time": "2022-12-21T19:30:43.932Z"
   },
   {
    "duration": 24,
    "start_time": "2022-12-21T19:30:44.017Z"
   },
   {
    "duration": 93,
    "start_time": "2022-12-21T19:30:44.043Z"
   },
   {
    "duration": 3,
    "start_time": "2022-12-21T19:30:44.138Z"
   },
   {
    "duration": 6,
    "start_time": "2022-12-21T19:30:44.142Z"
   },
   {
    "duration": 36,
    "start_time": "2022-12-21T19:30:44.149Z"
   },
   {
    "duration": 10,
    "start_time": "2022-12-21T19:30:44.186Z"
   },
   {
    "duration": 282,
    "start_time": "2022-12-21T19:30:44.197Z"
   },
   {
    "duration": 21,
    "start_time": "2022-12-21T19:30:44.481Z"
   },
   {
    "duration": 105,
    "start_time": "2022-12-21T19:30:44.504Z"
   },
   {
    "duration": 4,
    "start_time": "2022-12-21T19:30:44.611Z"
   },
   {
    "duration": 189,
    "start_time": "2022-12-21T19:30:44.620Z"
   },
   {
    "duration": 177,
    "start_time": "2022-12-21T19:30:44.811Z"
   },
   {
    "duration": 126,
    "start_time": "2022-12-21T19:30:44.990Z"
   },
   {
    "duration": 295,
    "start_time": "2022-12-21T19:30:45.120Z"
   },
   {
    "duration": 234,
    "start_time": "2022-12-21T19:30:45.417Z"
   },
   {
    "duration": 1861,
    "start_time": "2022-12-21T19:30:45.653Z"
   },
   {
    "duration": 20,
    "start_time": "2022-12-21T19:30:47.516Z"
   },
   {
    "duration": 29,
    "start_time": "2022-12-21T19:30:47.538Z"
   },
   {
    "duration": 1863,
    "start_time": "2022-12-21T19:30:47.568Z"
   },
   {
    "duration": 17,
    "start_time": "2022-12-21T19:30:49.437Z"
   },
   {
    "duration": 331,
    "start_time": "2022-12-21T19:30:49.455Z"
   },
   {
    "duration": 43,
    "start_time": "2022-12-21T19:30:49.788Z"
   },
   {
    "duration": 227,
    "start_time": "2022-12-21T19:30:49.833Z"
   },
   {
    "duration": 14,
    "start_time": "2022-12-21T19:30:50.062Z"
   },
   {
    "duration": 119,
    "start_time": "2022-12-21T19:30:50.078Z"
   },
   {
    "duration": 37,
    "start_time": "2022-12-21T19:30:50.198Z"
   },
   {
    "duration": 232,
    "start_time": "2022-12-21T19:30:50.237Z"
   },
   {
    "duration": 5,
    "start_time": "2022-12-21T19:30:50.471Z"
   },
   {
    "duration": 8,
    "start_time": "2022-12-21T19:30:50.478Z"
   },
   {
    "duration": 44,
    "start_time": "2022-12-21T19:30:50.487Z"
   },
   {
    "duration": 7,
    "start_time": "2022-12-21T19:30:50.533Z"
   },
   {
    "duration": 91,
    "start_time": "2022-12-21T19:30:50.541Z"
   },
   {
    "duration": 255,
    "start_time": "2022-12-21T19:30:50.634Z"
   },
   {
    "duration": 4,
    "start_time": "2022-12-21T19:30:50.890Z"
   },
   {
    "duration": 4,
    "start_time": "2022-12-21T20:01:06.706Z"
   },
   {
    "duration": 7,
    "start_time": "2022-12-21T20:19:15.468Z"
   },
   {
    "duration": 32,
    "start_time": "2022-12-21T20:23:42.603Z"
   },
   {
    "duration": 4,
    "start_time": "2022-12-21T20:33:05.594Z"
   },
   {
    "duration": 12,
    "start_time": "2022-12-21T20:33:31.792Z"
   },
   {
    "duration": 4,
    "start_time": "2022-12-21T20:34:00.610Z"
   },
   {
    "duration": 48,
    "start_time": "2022-12-22T11:15:16.977Z"
   },
   {
    "duration": 1569,
    "start_time": "2022-12-22T11:15:23.895Z"
   },
   {
    "duration": 2929,
    "start_time": "2022-12-22T11:15:25.467Z"
   },
   {
    "duration": 21,
    "start_time": "2022-12-22T11:15:28.398Z"
   },
   {
    "duration": 144,
    "start_time": "2022-12-22T11:15:28.421Z"
   },
   {
    "duration": 116,
    "start_time": "2022-12-22T11:15:28.568Z"
   },
   {
    "duration": 115,
    "start_time": "2022-12-22T11:15:28.685Z"
   },
   {
    "duration": 467,
    "start_time": "2022-12-22T11:15:28.802Z"
   },
   {
    "duration": 109,
    "start_time": "2022-12-22T11:15:29.270Z"
   },
   {
    "duration": 11,
    "start_time": "2022-12-22T11:15:29.381Z"
   },
   {
    "duration": 95,
    "start_time": "2022-12-22T11:15:29.393Z"
   },
   {
    "duration": 9,
    "start_time": "2022-12-22T11:15:29.490Z"
   },
   {
    "duration": 18,
    "start_time": "2022-12-22T11:15:29.501Z"
   },
   {
    "duration": 37,
    "start_time": "2022-12-22T11:15:29.520Z"
   },
   {
    "duration": 10,
    "start_time": "2022-12-22T11:15:29.560Z"
   },
   {
    "duration": 260,
    "start_time": "2022-12-22T11:15:29.571Z"
   },
   {
    "duration": 26,
    "start_time": "2022-12-22T11:15:29.834Z"
   },
   {
    "duration": 91,
    "start_time": "2022-12-22T11:15:29.861Z"
   },
   {
    "duration": 5,
    "start_time": "2022-12-22T11:15:29.954Z"
   },
   {
    "duration": 234,
    "start_time": "2022-12-22T11:15:29.960Z"
   },
   {
    "duration": 192,
    "start_time": "2022-12-22T11:15:30.196Z"
   },
   {
    "duration": 239,
    "start_time": "2022-12-22T11:15:30.390Z"
   },
   {
    "duration": 185,
    "start_time": "2022-12-22T11:15:30.631Z"
   },
   {
    "duration": 194,
    "start_time": "2022-12-22T11:15:30.818Z"
   },
   {
    "duration": 1816,
    "start_time": "2022-12-22T11:15:31.013Z"
   },
   {
    "duration": 23,
    "start_time": "2022-12-22T11:15:32.831Z"
   },
   {
    "duration": 29,
    "start_time": "2022-12-22T11:15:32.856Z"
   },
   {
    "duration": 1629,
    "start_time": "2022-12-22T11:15:32.887Z"
   },
   {
    "duration": 16,
    "start_time": "2022-12-22T11:15:34.518Z"
   },
   {
    "duration": 331,
    "start_time": "2022-12-22T11:15:34.536Z"
   },
   {
    "duration": 29,
    "start_time": "2022-12-22T11:15:34.868Z"
   },
   {
    "duration": 228,
    "start_time": "2022-12-22T11:15:34.899Z"
   },
   {
    "duration": 25,
    "start_time": "2022-12-22T11:15:35.129Z"
   },
   {
    "duration": 17,
    "start_time": "2022-12-22T11:15:35.156Z"
   },
   {
    "duration": 26,
    "start_time": "2022-12-22T11:15:35.175Z"
   },
   {
    "duration": 221,
    "start_time": "2022-12-22T11:15:35.203Z"
   },
   {
    "duration": 5,
    "start_time": "2022-12-22T11:15:35.425Z"
   },
   {
    "duration": 29,
    "start_time": "2022-12-22T11:15:35.432Z"
   },
   {
    "duration": 45,
    "start_time": "2022-12-22T11:15:35.462Z"
   },
   {
    "duration": 7,
    "start_time": "2022-12-22T11:15:35.509Z"
   },
   {
    "duration": 109,
    "start_time": "2022-12-22T11:15:35.518Z"
   },
   {
    "duration": 245,
    "start_time": "2022-12-22T11:15:35.631Z"
   },
   {
    "duration": 4,
    "start_time": "2022-12-22T11:15:35.878Z"
   },
   {
    "duration": 23,
    "start_time": "2022-12-22T11:15:35.884Z"
   },
   {
    "duration": 138,
    "start_time": "2022-12-22T11:15:35.908Z"
   },
   {
    "duration": 0,
    "start_time": "2022-12-22T11:15:36.048Z"
   },
   {
    "duration": 301,
    "start_time": "2022-12-22T11:17:35.012Z"
   },
   {
    "duration": 152,
    "start_time": "2022-12-22T11:22:14.796Z"
   },
   {
    "duration": 4,
    "start_time": "2022-12-22T11:38:52.906Z"
   },
   {
    "duration": 7,
    "start_time": "2022-12-22T11:40:11.851Z"
   },
   {
    "duration": 67,
    "start_time": "2022-12-22T12:11:52.436Z"
   },
   {
    "duration": 66,
    "start_time": "2022-12-22T12:12:04.702Z"
   },
   {
    "duration": 3,
    "start_time": "2022-12-22T12:15:15.012Z"
   },
   {
    "duration": 170,
    "start_time": "2022-12-22T12:16:09.180Z"
   },
   {
    "duration": 3,
    "start_time": "2022-12-22T12:27:45.500Z"
   },
   {
    "duration": 102,
    "start_time": "2022-12-22T12:47:26.422Z"
   },
   {
    "duration": 4,
    "start_time": "2022-12-22T14:07:25.694Z"
   },
   {
    "duration": 10,
    "start_time": "2022-12-22T14:10:00.191Z"
   },
   {
    "duration": 4,
    "start_time": "2022-12-22T14:19:40.539Z"
   },
   {
    "duration": 387,
    "start_time": "2022-12-22T14:20:36.690Z"
   },
   {
    "duration": 3,
    "start_time": "2022-12-22T14:21:05.532Z"
   },
   {
    "duration": 49,
    "start_time": "2022-12-22T14:39:15.827Z"
   },
   {
    "duration": 4,
    "start_time": "2022-12-22T14:39:55.270Z"
   },
   {
    "duration": 2,
    "start_time": "2022-12-22T15:38:43.727Z"
   },
   {
    "duration": 29,
    "start_time": "2022-12-22T15:43:21.179Z"
   },
   {
    "duration": 10,
    "start_time": "2022-12-22T15:45:30.241Z"
   },
   {
    "duration": 14,
    "start_time": "2022-12-22T15:46:22.891Z"
   },
   {
    "duration": 3,
    "start_time": "2022-12-22T15:46:43.227Z"
   },
   {
    "duration": 27,
    "start_time": "2022-12-22T15:46:46.408Z"
   },
   {
    "duration": 1401,
    "start_time": "2022-12-22T15:47:15.447Z"
   },
   {
    "duration": 747,
    "start_time": "2022-12-22T15:47:16.850Z"
   },
   {
    "duration": 16,
    "start_time": "2022-12-22T15:47:17.599Z"
   },
   {
    "duration": 117,
    "start_time": "2022-12-22T15:47:17.617Z"
   },
   {
    "duration": 98,
    "start_time": "2022-12-22T15:47:17.736Z"
   },
   {
    "duration": 103,
    "start_time": "2022-12-22T15:47:17.835Z"
   },
   {
    "duration": 424,
    "start_time": "2022-12-22T15:47:17.939Z"
   },
   {
    "duration": 104,
    "start_time": "2022-12-22T15:47:18.364Z"
   },
   {
    "duration": 9,
    "start_time": "2022-12-22T15:47:18.470Z"
   },
   {
    "duration": 74,
    "start_time": "2022-12-22T15:47:18.482Z"
   },
   {
    "duration": 3,
    "start_time": "2022-12-22T15:47:18.557Z"
   },
   {
    "duration": 6,
    "start_time": "2022-12-22T15:47:18.561Z"
   },
   {
    "duration": 32,
    "start_time": "2022-12-22T15:47:18.568Z"
   },
   {
    "duration": 10,
    "start_time": "2022-12-22T15:47:18.602Z"
   },
   {
    "duration": 267,
    "start_time": "2022-12-22T15:47:18.614Z"
   },
   {
    "duration": 20,
    "start_time": "2022-12-22T15:47:18.883Z"
   },
   {
    "duration": 120,
    "start_time": "2022-12-22T15:47:18.905Z"
   },
   {
    "duration": 4,
    "start_time": "2022-12-22T15:47:19.028Z"
   },
   {
    "duration": 187,
    "start_time": "2022-12-22T15:47:19.034Z"
   },
   {
    "duration": 161,
    "start_time": "2022-12-22T15:47:19.222Z"
   },
   {
    "duration": 188,
    "start_time": "2022-12-22T15:47:19.385Z"
   },
   {
    "duration": 163,
    "start_time": "2022-12-22T15:47:19.574Z"
   },
   {
    "duration": 138,
    "start_time": "2022-12-22T15:47:19.739Z"
   },
   {
    "duration": 1640,
    "start_time": "2022-12-22T15:47:19.878Z"
   },
   {
    "duration": 12,
    "start_time": "2022-12-22T15:47:21.520Z"
   },
   {
    "duration": 37,
    "start_time": "2022-12-22T15:47:21.533Z"
   },
   {
    "duration": 1750,
    "start_time": "2022-12-22T15:47:21.571Z"
   },
   {
    "duration": 16,
    "start_time": "2022-12-22T15:47:23.324Z"
   },
   {
    "duration": 298,
    "start_time": "2022-12-22T15:47:23.341Z"
   },
   {
    "duration": 36,
    "start_time": "2022-12-22T15:47:23.640Z"
   },
   {
    "duration": 197,
    "start_time": "2022-12-22T15:47:23.677Z"
   },
   {
    "duration": 14,
    "start_time": "2022-12-22T15:47:23.876Z"
   },
   {
    "duration": 33,
    "start_time": "2022-12-22T15:47:23.892Z"
   },
   {
    "duration": 46,
    "start_time": "2022-12-22T15:47:23.927Z"
   },
   {
    "duration": 196,
    "start_time": "2022-12-22T15:47:23.975Z"
   },
   {
    "duration": 6,
    "start_time": "2022-12-22T15:47:24.173Z"
   },
   {
    "duration": 28,
    "start_time": "2022-12-22T15:47:24.181Z"
   },
   {
    "duration": 59,
    "start_time": "2022-12-22T15:47:24.211Z"
   },
   {
    "duration": 9,
    "start_time": "2022-12-22T15:47:24.272Z"
   },
   {
    "duration": 74,
    "start_time": "2022-12-22T15:47:24.283Z"
   },
   {
    "duration": 231,
    "start_time": "2022-12-22T15:47:24.359Z"
   },
   {
    "duration": 3,
    "start_time": "2022-12-22T15:47:24.592Z"
   },
   {
    "duration": 15,
    "start_time": "2022-12-22T15:47:24.596Z"
   },
   {
    "duration": 3,
    "start_time": "2022-12-22T15:47:24.614Z"
   },
   {
    "duration": 15,
    "start_time": "2022-12-22T15:47:24.618Z"
   },
   {
    "duration": 697,
    "start_time": "2022-12-22T15:47:24.635Z"
   },
   {
    "duration": 112,
    "start_time": "2022-12-22T15:47:25.334Z"
   },
   {
    "duration": 0,
    "start_time": "2022-12-22T15:47:25.448Z"
   },
   {
    "duration": 0,
    "start_time": "2022-12-22T15:47:25.452Z"
   },
   {
    "duration": 0,
    "start_time": "2022-12-22T15:47:25.453Z"
   },
   {
    "duration": 0,
    "start_time": "2022-12-22T15:47:25.454Z"
   },
   {
    "duration": 3,
    "start_time": "2022-12-22T15:48:06.872Z"
   },
   {
    "duration": 575,
    "start_time": "2022-12-22T15:48:07.840Z"
   },
   {
    "duration": 534,
    "start_time": "2022-12-22T15:48:10.434Z"
   },
   {
    "duration": 297,
    "start_time": "2022-12-22T15:48:19.294Z"
   },
   {
    "duration": 52,
    "start_time": "2022-12-22T20:08:49.341Z"
   },
   {
    "duration": 1812,
    "start_time": "2022-12-22T20:08:58.540Z"
   },
   {
    "duration": 2914,
    "start_time": "2022-12-22T20:09:00.355Z"
   },
   {
    "duration": 19,
    "start_time": "2022-12-22T20:09:03.271Z"
   },
   {
    "duration": 155,
    "start_time": "2022-12-22T20:09:03.292Z"
   },
   {
    "duration": 113,
    "start_time": "2022-12-22T20:09:03.449Z"
   },
   {
    "duration": 135,
    "start_time": "2022-12-22T20:09:03.564Z"
   },
   {
    "duration": 500,
    "start_time": "2022-12-22T20:09:03.701Z"
   },
   {
    "duration": 111,
    "start_time": "2022-12-22T20:09:04.203Z"
   },
   {
    "duration": 11,
    "start_time": "2022-12-22T20:09:04.316Z"
   },
   {
    "duration": 103,
    "start_time": "2022-12-22T20:09:04.330Z"
   },
   {
    "duration": 27,
    "start_time": "2022-12-22T20:09:04.435Z"
   },
   {
    "duration": 27,
    "start_time": "2022-12-22T20:09:04.464Z"
   },
   {
    "duration": 64,
    "start_time": "2022-12-22T20:09:04.492Z"
   },
   {
    "duration": 10,
    "start_time": "2022-12-22T20:09:04.558Z"
   },
   {
    "duration": 297,
    "start_time": "2022-12-22T20:09:04.570Z"
   },
   {
    "duration": 23,
    "start_time": "2022-12-22T20:09:04.869Z"
   },
   {
    "duration": 115,
    "start_time": "2022-12-22T20:09:04.894Z"
   },
   {
    "duration": 4,
    "start_time": "2022-12-22T20:09:05.011Z"
   },
   {
    "duration": 226,
    "start_time": "2022-12-22T20:09:05.017Z"
   },
   {
    "duration": 173,
    "start_time": "2022-12-22T20:09:05.244Z"
   },
   {
    "duration": 212,
    "start_time": "2022-12-22T20:09:05.419Z"
   },
   {
    "duration": 191,
    "start_time": "2022-12-22T20:09:05.633Z"
   },
   {
    "duration": 177,
    "start_time": "2022-12-22T20:09:05.825Z"
   },
   {
    "duration": 1856,
    "start_time": "2022-12-22T20:09:06.004Z"
   },
   {
    "duration": 14,
    "start_time": "2022-12-22T20:09:07.861Z"
   },
   {
    "duration": 30,
    "start_time": "2022-12-22T20:09:07.876Z"
   },
   {
    "duration": 2045,
    "start_time": "2022-12-22T20:09:07.908Z"
   },
   {
    "duration": 18,
    "start_time": "2022-12-22T20:09:09.957Z"
   },
   {
    "duration": 377,
    "start_time": "2022-12-22T20:09:09.977Z"
   },
   {
    "duration": 34,
    "start_time": "2022-12-22T20:09:10.356Z"
   },
   {
    "duration": 239,
    "start_time": "2022-12-22T20:09:10.392Z"
   },
   {
    "duration": 24,
    "start_time": "2022-12-22T20:09:10.633Z"
   },
   {
    "duration": 18,
    "start_time": "2022-12-22T20:09:10.659Z"
   },
   {
    "duration": 35,
    "start_time": "2022-12-22T20:09:10.679Z"
   },
   {
    "duration": 239,
    "start_time": "2022-12-22T20:09:10.716Z"
   },
   {
    "duration": 6,
    "start_time": "2022-12-22T20:09:10.957Z"
   },
   {
    "duration": 26,
    "start_time": "2022-12-22T20:09:10.964Z"
   },
   {
    "duration": 62,
    "start_time": "2022-12-22T20:09:10.992Z"
   },
   {
    "duration": 15,
    "start_time": "2022-12-22T20:09:11.056Z"
   },
   {
    "duration": 89,
    "start_time": "2022-12-22T20:09:11.072Z"
   },
   {
    "duration": 280,
    "start_time": "2022-12-22T20:09:11.163Z"
   },
   {
    "duration": 6,
    "start_time": "2022-12-22T20:09:11.445Z"
   },
   {
    "duration": 10,
    "start_time": "2022-12-22T20:09:11.453Z"
   },
   {
    "duration": 25,
    "start_time": "2022-12-22T20:09:11.464Z"
   },
   {
    "duration": 31,
    "start_time": "2022-12-22T20:09:11.491Z"
   },
   {
    "duration": 10,
    "start_time": "2022-12-22T20:09:11.524Z"
   },
   {
    "duration": 29,
    "start_time": "2022-12-22T20:09:11.536Z"
   },
   {
    "duration": 20,
    "start_time": "2022-12-22T20:09:11.567Z"
   },
   {
    "duration": 110,
    "start_time": "2022-12-22T20:09:11.588Z"
   },
   {
    "duration": 74,
    "start_time": "2022-12-22T20:09:11.700Z"
   },
   {
    "duration": 125,
    "start_time": "2022-12-22T20:09:11.776Z"
   },
   {
    "duration": 67,
    "start_time": "2022-12-22T20:12:51.642Z"
   },
   {
    "duration": 73,
    "start_time": "2022-12-22T20:23:16.305Z"
   },
   {
    "duration": 93,
    "start_time": "2022-12-22T20:23:44.008Z"
   },
   {
    "duration": 18,
    "start_time": "2022-12-22T20:36:32.004Z"
   },
   {
    "duration": 14,
    "start_time": "2022-12-22T20:37:54.953Z"
   },
   {
    "duration": 1514,
    "start_time": "2022-12-22T20:38:05.342Z"
   },
   {
    "duration": 866,
    "start_time": "2022-12-22T20:38:06.858Z"
   },
   {
    "duration": 25,
    "start_time": "2022-12-22T20:38:07.726Z"
   },
   {
    "duration": 145,
    "start_time": "2022-12-22T20:38:07.753Z"
   },
   {
    "duration": 108,
    "start_time": "2022-12-22T20:38:07.899Z"
   },
   {
    "duration": 143,
    "start_time": "2022-12-22T20:38:08.009Z"
   },
   {
    "duration": 494,
    "start_time": "2022-12-22T20:38:08.154Z"
   },
   {
    "duration": 109,
    "start_time": "2022-12-22T20:38:08.651Z"
   },
   {
    "duration": 11,
    "start_time": "2022-12-22T20:38:08.762Z"
   },
   {
    "duration": 99,
    "start_time": "2022-12-22T20:38:08.776Z"
   },
   {
    "duration": 3,
    "start_time": "2022-12-22T20:38:08.877Z"
   },
   {
    "duration": 6,
    "start_time": "2022-12-22T20:38:08.882Z"
   },
   {
    "duration": 34,
    "start_time": "2022-12-22T20:38:08.890Z"
   },
   {
    "duration": 27,
    "start_time": "2022-12-22T20:38:08.926Z"
   },
   {
    "duration": 308,
    "start_time": "2022-12-22T20:38:08.956Z"
   },
   {
    "duration": 24,
    "start_time": "2022-12-22T20:38:09.266Z"
   },
   {
    "duration": 118,
    "start_time": "2022-12-22T20:38:09.292Z"
   },
   {
    "duration": 6,
    "start_time": "2022-12-22T20:38:09.412Z"
   },
   {
    "duration": 224,
    "start_time": "2022-12-22T20:38:09.420Z"
   },
   {
    "duration": 240,
    "start_time": "2022-12-22T20:38:09.650Z"
   },
   {
    "duration": 235,
    "start_time": "2022-12-22T20:38:09.892Z"
   },
   {
    "duration": 207,
    "start_time": "2022-12-22T20:38:10.129Z"
   },
   {
    "duration": 172,
    "start_time": "2022-12-22T20:38:10.338Z"
   },
   {
    "duration": 1842,
    "start_time": "2022-12-22T20:38:10.512Z"
   },
   {
    "duration": 12,
    "start_time": "2022-12-22T20:38:12.355Z"
   },
   {
    "duration": 36,
    "start_time": "2022-12-22T20:38:12.369Z"
   },
   {
    "duration": 1851,
    "start_time": "2022-12-22T20:38:12.407Z"
   },
   {
    "duration": 21,
    "start_time": "2022-12-22T20:38:14.263Z"
   },
   {
    "duration": 349,
    "start_time": "2022-12-22T20:38:14.286Z"
   },
   {
    "duration": 41,
    "start_time": "2022-12-22T20:38:14.637Z"
   },
   {
    "duration": 242,
    "start_time": "2022-12-22T20:38:14.680Z"
   },
   {
    "duration": 17,
    "start_time": "2022-12-22T20:38:14.923Z"
   },
   {
    "duration": 31,
    "start_time": "2022-12-22T20:38:14.951Z"
   },
   {
    "duration": 51,
    "start_time": "2022-12-22T20:38:14.983Z"
   },
   {
    "duration": 229,
    "start_time": "2022-12-22T20:38:15.035Z"
   },
   {
    "duration": 6,
    "start_time": "2022-12-22T20:38:15.265Z"
   },
   {
    "duration": 19,
    "start_time": "2022-12-22T20:38:15.273Z"
   },
   {
    "duration": 53,
    "start_time": "2022-12-22T20:38:15.294Z"
   },
   {
    "duration": 7,
    "start_time": "2022-12-22T20:38:15.349Z"
   },
   {
    "duration": 89,
    "start_time": "2022-12-22T20:38:15.358Z"
   },
   {
    "duration": 289,
    "start_time": "2022-12-22T20:38:15.449Z"
   },
   {
    "duration": 12,
    "start_time": "2022-12-22T20:38:15.740Z"
   },
   {
    "duration": 3,
    "start_time": "2022-12-22T20:38:15.754Z"
   },
   {
    "duration": 7,
    "start_time": "2022-12-22T20:38:15.759Z"
   },
   {
    "duration": 7,
    "start_time": "2022-12-22T20:38:15.767Z"
   },
   {
    "duration": 5,
    "start_time": "2022-12-22T20:38:15.776Z"
   },
   {
    "duration": 8,
    "start_time": "2022-12-22T20:38:15.782Z"
   },
   {
    "duration": 6,
    "start_time": "2022-12-22T20:38:15.792Z"
   },
   {
    "duration": 146,
    "start_time": "2022-12-22T20:38:15.800Z"
   },
   {
    "duration": 76,
    "start_time": "2022-12-22T20:38:15.951Z"
   },
   {
    "duration": 131,
    "start_time": "2022-12-22T20:38:16.028Z"
   },
   {
    "duration": 0,
    "start_time": "2022-12-22T20:38:16.160Z"
   },
   {
    "duration": 0,
    "start_time": "2022-12-22T20:39:24.263Z"
   },
   {
    "duration": 1562,
    "start_time": "2022-12-22T20:40:59.494Z"
   },
   {
    "duration": 947,
    "start_time": "2022-12-22T20:41:01.058Z"
   },
   {
    "duration": 18,
    "start_time": "2022-12-22T20:41:02.007Z"
   },
   {
    "duration": 155,
    "start_time": "2022-12-22T20:41:02.027Z"
   },
   {
    "duration": 159,
    "start_time": "2022-12-22T20:41:02.184Z"
   },
   {
    "duration": 132,
    "start_time": "2022-12-22T20:41:02.345Z"
   },
   {
    "duration": 530,
    "start_time": "2022-12-22T20:41:02.478Z"
   },
   {
    "duration": 93,
    "start_time": "2022-12-22T20:41:03.010Z"
   },
   {
    "duration": 12,
    "start_time": "2022-12-22T20:41:03.105Z"
   },
   {
    "duration": 126,
    "start_time": "2022-12-22T20:41:03.120Z"
   },
   {
    "duration": 12,
    "start_time": "2022-12-22T20:41:03.248Z"
   },
   {
    "duration": 7,
    "start_time": "2022-12-22T20:41:03.262Z"
   },
   {
    "duration": 59,
    "start_time": "2022-12-22T20:41:03.271Z"
   },
   {
    "duration": 12,
    "start_time": "2022-12-22T20:41:03.332Z"
   },
   {
    "duration": 292,
    "start_time": "2022-12-22T20:41:03.346Z"
   },
   {
    "duration": 27,
    "start_time": "2022-12-22T20:41:03.640Z"
   },
   {
    "duration": 111,
    "start_time": "2022-12-22T20:41:03.669Z"
   },
   {
    "duration": 5,
    "start_time": "2022-12-22T20:41:03.782Z"
   },
   {
    "duration": 193,
    "start_time": "2022-12-22T20:41:03.788Z"
   },
   {
    "duration": 181,
    "start_time": "2022-12-22T20:41:03.983Z"
   },
   {
    "duration": 216,
    "start_time": "2022-12-22T20:41:04.166Z"
   },
   {
    "duration": 201,
    "start_time": "2022-12-22T20:41:04.384Z"
   },
   {
    "duration": 176,
    "start_time": "2022-12-22T20:41:04.588Z"
   },
   {
    "duration": 1845,
    "start_time": "2022-12-22T20:41:04.767Z"
   },
   {
    "duration": 15,
    "start_time": "2022-12-22T20:41:06.614Z"
   },
   {
    "duration": 48,
    "start_time": "2022-12-22T20:41:06.631Z"
   },
   {
    "duration": 1771,
    "start_time": "2022-12-22T20:41:06.681Z"
   },
   {
    "duration": 18,
    "start_time": "2022-12-22T20:41:08.456Z"
   },
   {
    "duration": 341,
    "start_time": "2022-12-22T20:41:08.476Z"
   },
   {
    "duration": 40,
    "start_time": "2022-12-22T20:41:08.819Z"
   },
   {
    "duration": 227,
    "start_time": "2022-12-22T20:41:08.861Z"
   },
   {
    "duration": 16,
    "start_time": "2022-12-22T20:41:09.090Z"
   },
   {
    "duration": 17,
    "start_time": "2022-12-22T20:41:09.108Z"
   },
   {
    "duration": 50,
    "start_time": "2022-12-22T20:41:09.127Z"
   },
   {
    "duration": 241,
    "start_time": "2022-12-22T20:41:09.179Z"
   },
   {
    "duration": 6,
    "start_time": "2022-12-22T20:41:09.422Z"
   },
   {
    "duration": 23,
    "start_time": "2022-12-22T20:41:09.429Z"
   },
   {
    "duration": 31,
    "start_time": "2022-12-22T20:41:09.454Z"
   },
   {
    "duration": 7,
    "start_time": "2022-12-22T20:41:09.487Z"
   },
   {
    "duration": 105,
    "start_time": "2022-12-22T20:41:09.496Z"
   },
   {
    "duration": 323,
    "start_time": "2022-12-22T20:41:09.604Z"
   },
   {
    "duration": 4,
    "start_time": "2022-12-22T20:41:09.929Z"
   },
   {
    "duration": 16,
    "start_time": "2022-12-22T20:41:09.936Z"
   },
   {
    "duration": 10,
    "start_time": "2022-12-22T20:41:09.954Z"
   },
   {
    "duration": 13,
    "start_time": "2022-12-22T20:41:09.966Z"
   },
   {
    "duration": 9,
    "start_time": "2022-12-22T20:41:09.981Z"
   },
   {
    "duration": 12,
    "start_time": "2022-12-22T20:41:09.992Z"
   },
   {
    "duration": 6,
    "start_time": "2022-12-22T20:41:10.006Z"
   },
   {
    "duration": 109,
    "start_time": "2022-12-22T20:41:10.014Z"
   },
   {
    "duration": 83,
    "start_time": "2022-12-22T20:41:10.125Z"
   },
   {
    "duration": 20504,
    "start_time": "2022-12-22T20:41:10.210Z"
   },
   {
    "duration": 0,
    "start_time": "2022-12-22T20:41:30.716Z"
   },
   {
    "duration": 25366,
    "start_time": "2022-12-22T20:51:13.686Z"
   },
   {
    "duration": 20251,
    "start_time": "2022-12-22T20:52:47.004Z"
   },
   {
    "duration": 24450,
    "start_time": "2022-12-22T20:53:20.103Z"
   },
   {
    "duration": 5,
    "start_time": "2022-12-22T21:03:13.092Z"
   },
   {
    "duration": 17,
    "start_time": "2022-12-23T09:15:02.022Z"
   },
   {
    "duration": 4,
    "start_time": "2022-12-23T09:17:44.555Z"
   },
   {
    "duration": 40,
    "start_time": "2022-12-23T10:42:38.800Z"
   },
   {
    "duration": 1648,
    "start_time": "2022-12-23T10:42:47.115Z"
   },
   {
    "duration": 2704,
    "start_time": "2022-12-23T10:42:48.764Z"
   },
   {
    "duration": 16,
    "start_time": "2022-12-23T10:42:51.469Z"
   },
   {
    "duration": 161,
    "start_time": "2022-12-23T10:42:51.486Z"
   },
   {
    "duration": 118,
    "start_time": "2022-12-23T10:42:51.650Z"
   },
   {
    "duration": 110,
    "start_time": "2022-12-23T10:42:51.770Z"
   },
   {
    "duration": 422,
    "start_time": "2022-12-23T10:42:51.882Z"
   },
   {
    "duration": 72,
    "start_time": "2022-12-23T10:42:52.305Z"
   },
   {
    "duration": 17,
    "start_time": "2022-12-23T10:42:52.378Z"
   },
   {
    "duration": 107,
    "start_time": "2022-12-23T10:42:52.398Z"
   },
   {
    "duration": 3,
    "start_time": "2022-12-23T10:42:52.507Z"
   },
   {
    "duration": 6,
    "start_time": "2022-12-23T10:42:52.511Z"
   },
   {
    "duration": 27,
    "start_time": "2022-12-23T10:42:52.526Z"
   },
   {
    "duration": 9,
    "start_time": "2022-12-23T10:42:52.556Z"
   },
   {
    "duration": 251,
    "start_time": "2022-12-23T10:42:52.567Z"
   },
   {
    "duration": 19,
    "start_time": "2022-12-23T10:42:52.820Z"
   },
   {
    "duration": 92,
    "start_time": "2022-12-23T10:42:52.841Z"
   },
   {
    "duration": 3,
    "start_time": "2022-12-23T10:42:52.935Z"
   },
   {
    "duration": 172,
    "start_time": "2022-12-23T10:42:52.940Z"
   },
   {
    "duration": 151,
    "start_time": "2022-12-23T10:42:53.113Z"
   },
   {
    "duration": 186,
    "start_time": "2022-12-23T10:42:53.265Z"
   },
   {
    "duration": 164,
    "start_time": "2022-12-23T10:42:53.453Z"
   },
   {
    "duration": 145,
    "start_time": "2022-12-23T10:42:53.619Z"
   },
   {
    "duration": 1798,
    "start_time": "2022-12-23T10:42:53.765Z"
   },
   {
    "duration": 12,
    "start_time": "2022-12-23T10:42:55.565Z"
   },
   {
    "duration": 49,
    "start_time": "2022-12-23T10:42:55.579Z"
   },
   {
    "duration": 1670,
    "start_time": "2022-12-23T10:42:55.630Z"
   },
   {
    "duration": 15,
    "start_time": "2022-12-23T10:42:57.302Z"
   },
   {
    "duration": 289,
    "start_time": "2022-12-23T10:42:57.326Z"
   },
   {
    "duration": 33,
    "start_time": "2022-12-23T10:42:57.617Z"
   },
   {
    "duration": 195,
    "start_time": "2022-12-23T10:42:57.652Z"
   },
   {
    "duration": 14,
    "start_time": "2022-12-23T10:42:57.849Z"
   },
   {
    "duration": 16,
    "start_time": "2022-12-23T10:42:57.865Z"
   },
   {
    "duration": 47,
    "start_time": "2022-12-23T10:42:57.882Z"
   },
   {
    "duration": 214,
    "start_time": "2022-12-23T10:42:57.931Z"
   },
   {
    "duration": 5,
    "start_time": "2022-12-23T10:42:58.146Z"
   },
   {
    "duration": 7,
    "start_time": "2022-12-23T10:42:58.152Z"
   },
   {
    "duration": 25,
    "start_time": "2022-12-23T10:42:58.160Z"
   },
   {
    "duration": 7,
    "start_time": "2022-12-23T10:42:58.187Z"
   },
   {
    "duration": 81,
    "start_time": "2022-12-23T10:42:58.196Z"
   },
   {
    "duration": 238,
    "start_time": "2022-12-23T10:42:58.280Z"
   },
   {
    "duration": 7,
    "start_time": "2022-12-23T10:42:58.520Z"
   },
   {
    "duration": 5,
    "start_time": "2022-12-23T10:42:58.528Z"
   },
   {
    "duration": 19,
    "start_time": "2022-12-23T10:42:58.535Z"
   },
   {
    "duration": 626,
    "start_time": "2022-12-23T10:42:58.555Z"
   },
   {
    "duration": 2,
    "start_time": "2022-12-23T10:42:59.182Z"
   },
   {
    "duration": 6,
    "start_time": "2022-12-23T10:42:59.185Z"
   },
   {
    "duration": 5,
    "start_time": "2022-12-23T10:42:59.192Z"
   },
   {
    "duration": 5,
    "start_time": "2022-12-23T10:42:59.198Z"
   },
   {
    "duration": 4,
    "start_time": "2022-12-23T10:42:59.205Z"
   },
   {
    "duration": 379,
    "start_time": "2022-12-23T10:43:40.811Z"
   },
   {
    "duration": 104,
    "start_time": "2022-12-23T10:49:32.220Z"
   },
   {
    "duration": 3,
    "start_time": "2022-12-23T10:50:09.452Z"
   },
   {
    "duration": 72,
    "start_time": "2022-12-23T10:55:58.499Z"
   },
   {
    "duration": 9,
    "start_time": "2022-12-23T10:57:37.075Z"
   },
   {
    "duration": 89,
    "start_time": "2022-12-23T10:58:24.462Z"
   },
   {
    "duration": 1319,
    "start_time": "2022-12-23T10:58:37.766Z"
   },
   {
    "duration": 673,
    "start_time": "2022-12-23T10:58:39.087Z"
   },
   {
    "duration": 17,
    "start_time": "2022-12-23T10:58:39.761Z"
   },
   {
    "duration": 118,
    "start_time": "2022-12-23T10:58:39.779Z"
   },
   {
    "duration": 99,
    "start_time": "2022-12-23T10:58:39.899Z"
   },
   {
    "duration": 97,
    "start_time": "2022-12-23T10:58:39.999Z"
   },
   {
    "duration": 389,
    "start_time": "2022-12-23T10:58:40.098Z"
   },
   {
    "duration": 84,
    "start_time": "2022-12-23T10:58:40.490Z"
   },
   {
    "duration": 10,
    "start_time": "2022-12-23T10:58:40.576Z"
   },
   {
    "duration": 73,
    "start_time": "2022-12-23T10:58:40.588Z"
   },
   {
    "duration": 3,
    "start_time": "2022-12-23T10:58:40.663Z"
   },
   {
    "duration": 4,
    "start_time": "2022-12-23T10:58:40.668Z"
   },
   {
    "duration": 31,
    "start_time": "2022-12-23T10:58:40.674Z"
   },
   {
    "duration": 23,
    "start_time": "2022-12-23T10:58:40.707Z"
   },
   {
    "duration": 236,
    "start_time": "2022-12-23T10:58:40.732Z"
   },
   {
    "duration": 18,
    "start_time": "2022-12-23T10:58:40.969Z"
   },
   {
    "duration": 84,
    "start_time": "2022-12-23T10:58:40.989Z"
   },
   {
    "duration": 3,
    "start_time": "2022-12-23T10:58:41.075Z"
   },
   {
    "duration": 169,
    "start_time": "2022-12-23T10:58:41.080Z"
   },
   {
    "duration": 153,
    "start_time": "2022-12-23T10:58:41.251Z"
   },
   {
    "duration": 213,
    "start_time": "2022-12-23T10:58:41.406Z"
   },
   {
    "duration": 174,
    "start_time": "2022-12-23T10:58:41.621Z"
   },
   {
    "duration": 158,
    "start_time": "2022-12-23T10:58:41.796Z"
   },
   {
    "duration": 1678,
    "start_time": "2022-12-23T10:58:41.956Z"
   },
   {
    "duration": 11,
    "start_time": "2022-12-23T10:58:43.636Z"
   },
   {
    "duration": 31,
    "start_time": "2022-12-23T10:58:43.649Z"
   },
   {
    "duration": 1596,
    "start_time": "2022-12-23T10:58:43.682Z"
   },
   {
    "duration": 15,
    "start_time": "2022-12-23T10:58:45.281Z"
   },
   {
    "duration": 356,
    "start_time": "2022-12-23T10:58:45.298Z"
   },
   {
    "duration": 32,
    "start_time": "2022-12-23T10:58:45.656Z"
   },
   {
    "duration": 216,
    "start_time": "2022-12-23T10:58:45.690Z"
   },
   {
    "duration": 22,
    "start_time": "2022-12-23T10:58:45.907Z"
   },
   {
    "duration": 15,
    "start_time": "2022-12-23T10:58:45.931Z"
   },
   {
    "duration": 26,
    "start_time": "2022-12-23T10:58:45.948Z"
   },
   {
    "duration": 212,
    "start_time": "2022-12-23T10:58:45.975Z"
   },
   {
    "duration": 5,
    "start_time": "2022-12-23T10:58:46.188Z"
   },
   {
    "duration": 22,
    "start_time": "2022-12-23T10:58:46.194Z"
   },
   {
    "duration": 30,
    "start_time": "2022-12-23T10:58:46.217Z"
   },
   {
    "duration": 6,
    "start_time": "2022-12-23T10:58:46.248Z"
   },
   {
    "duration": 65,
    "start_time": "2022-12-23T10:58:46.256Z"
   },
   {
    "duration": 234,
    "start_time": "2022-12-23T10:58:46.322Z"
   },
   {
    "duration": 4,
    "start_time": "2022-12-23T10:58:46.557Z"
   },
   {
    "duration": 5,
    "start_time": "2022-12-23T10:58:46.562Z"
   },
   {
    "duration": 4,
    "start_time": "2022-12-23T10:58:46.569Z"
   },
   {
    "duration": 614,
    "start_time": "2022-12-23T10:58:46.575Z"
   },
   {
    "duration": 410,
    "start_time": "2022-12-23T10:58:47.191Z"
   },
   {
    "duration": 77,
    "start_time": "2022-12-23T10:58:47.602Z"
   },
   {
    "duration": 0,
    "start_time": "2022-12-23T10:58:47.681Z"
   },
   {
    "duration": 0,
    "start_time": "2022-12-23T10:58:47.682Z"
   },
   {
    "duration": 0,
    "start_time": "2022-12-23T10:58:47.682Z"
   },
   {
    "duration": 0,
    "start_time": "2022-12-23T10:58:47.683Z"
   },
   {
    "duration": 0,
    "start_time": "2022-12-23T10:58:47.685Z"
   },
   {
    "duration": 68,
    "start_time": "2022-12-23T11:04:28.792Z"
   },
   {
    "duration": 1362,
    "start_time": "2022-12-23T11:09:58.981Z"
   },
   {
    "duration": 749,
    "start_time": "2022-12-23T11:10:00.344Z"
   },
   {
    "duration": 16,
    "start_time": "2022-12-23T11:10:01.094Z"
   },
   {
    "duration": 120,
    "start_time": "2022-12-23T11:10:01.113Z"
   },
   {
    "duration": 104,
    "start_time": "2022-12-23T11:10:01.235Z"
   },
   {
    "duration": 99,
    "start_time": "2022-12-23T11:10:01.341Z"
   },
   {
    "duration": 458,
    "start_time": "2022-12-23T11:10:01.442Z"
   },
   {
    "duration": 68,
    "start_time": "2022-12-23T11:10:01.902Z"
   },
   {
    "duration": 10,
    "start_time": "2022-12-23T11:10:01.972Z"
   },
   {
    "duration": 97,
    "start_time": "2022-12-23T11:10:01.984Z"
   },
   {
    "duration": 15,
    "start_time": "2022-12-23T11:10:02.083Z"
   },
   {
    "duration": 20,
    "start_time": "2022-12-23T11:10:02.100Z"
   },
   {
    "duration": 32,
    "start_time": "2022-12-23T11:10:02.121Z"
   },
   {
    "duration": 10,
    "start_time": "2022-12-23T11:10:02.154Z"
   },
   {
    "duration": 242,
    "start_time": "2022-12-23T11:10:02.165Z"
   },
   {
    "duration": 20,
    "start_time": "2022-12-23T11:10:02.408Z"
   },
   {
    "duration": 93,
    "start_time": "2022-12-23T11:10:02.429Z"
   },
   {
    "duration": 9,
    "start_time": "2022-12-23T11:10:02.524Z"
   },
   {
    "duration": 180,
    "start_time": "2022-12-23T11:10:02.534Z"
   },
   {
    "duration": 159,
    "start_time": "2022-12-23T11:10:02.715Z"
   },
   {
    "duration": 217,
    "start_time": "2022-12-23T11:10:02.876Z"
   },
   {
    "duration": 172,
    "start_time": "2022-12-23T11:10:03.095Z"
   },
   {
    "duration": 152,
    "start_time": "2022-12-23T11:10:03.269Z"
   },
   {
    "duration": 1784,
    "start_time": "2022-12-23T11:10:03.426Z"
   },
   {
    "duration": 17,
    "start_time": "2022-12-23T11:10:05.212Z"
   },
   {
    "duration": 28,
    "start_time": "2022-12-23T11:10:05.231Z"
   },
   {
    "duration": 1837,
    "start_time": "2022-12-23T11:10:05.261Z"
   },
   {
    "duration": 28,
    "start_time": "2022-12-23T11:10:07.101Z"
   },
   {
    "duration": 314,
    "start_time": "2022-12-23T11:10:07.130Z"
   },
   {
    "duration": 29,
    "start_time": "2022-12-23T11:10:07.446Z"
   },
   {
    "duration": 208,
    "start_time": "2022-12-23T11:10:07.476Z"
   },
   {
    "duration": 14,
    "start_time": "2022-12-23T11:10:07.686Z"
   },
   {
    "duration": 34,
    "start_time": "2022-12-23T11:10:07.701Z"
   },
   {
    "duration": 53,
    "start_time": "2022-12-23T11:10:07.737Z"
   },
   {
    "duration": 202,
    "start_time": "2022-12-23T11:10:07.791Z"
   },
   {
    "duration": 6,
    "start_time": "2022-12-23T11:10:07.994Z"
   },
   {
    "duration": 25,
    "start_time": "2022-12-23T11:10:08.001Z"
   },
   {
    "duration": 40,
    "start_time": "2022-12-23T11:10:08.028Z"
   },
   {
    "duration": 6,
    "start_time": "2022-12-23T11:10:08.071Z"
   },
   {
    "duration": 66,
    "start_time": "2022-12-23T11:10:08.079Z"
   },
   {
    "duration": 284,
    "start_time": "2022-12-23T11:10:08.146Z"
   },
   {
    "duration": 4,
    "start_time": "2022-12-23T11:10:08.431Z"
   },
   {
    "duration": 38,
    "start_time": "2022-12-23T11:10:08.436Z"
   },
   {
    "duration": 49,
    "start_time": "2022-12-23T11:10:08.475Z"
   },
   {
    "duration": 711,
    "start_time": "2022-12-23T11:10:08.525Z"
   },
   {
    "duration": 377,
    "start_time": "2022-12-23T11:10:09.238Z"
   },
   {
    "duration": 89110,
    "start_time": "2022-12-23T11:10:09.616Z"
   },
   {
    "duration": 3,
    "start_time": "2022-12-23T11:11:38.728Z"
   },
   {
    "duration": 17,
    "start_time": "2022-12-23T11:11:38.732Z"
   },
   {
    "duration": 18,
    "start_time": "2022-12-23T11:11:38.750Z"
   },
   {
    "duration": 9,
    "start_time": "2022-12-23T11:11:38.770Z"
   },
   {
    "duration": 6,
    "start_time": "2022-12-23T11:11:38.781Z"
   },
   {
    "duration": 112,
    "start_time": "2022-12-23T11:17:39.066Z"
   },
   {
    "duration": 1376,
    "start_time": "2022-12-23T11:20:30.150Z"
   },
   {
    "duration": 765,
    "start_time": "2022-12-23T11:20:31.528Z"
   },
   {
    "duration": 16,
    "start_time": "2022-12-23T11:20:32.295Z"
   },
   {
    "duration": 115,
    "start_time": "2022-12-23T11:20:32.313Z"
   },
   {
    "duration": 106,
    "start_time": "2022-12-23T11:20:32.430Z"
   },
   {
    "duration": 105,
    "start_time": "2022-12-23T11:20:32.538Z"
   },
   {
    "duration": 438,
    "start_time": "2022-12-23T11:20:32.644Z"
   },
   {
    "duration": 97,
    "start_time": "2022-12-23T11:20:33.084Z"
   },
   {
    "duration": 10,
    "start_time": "2022-12-23T11:20:33.183Z"
   },
   {
    "duration": 90,
    "start_time": "2022-12-23T11:20:33.195Z"
   },
   {
    "duration": 11,
    "start_time": "2022-12-23T11:20:33.287Z"
   },
   {
    "duration": 18,
    "start_time": "2022-12-23T11:20:33.299Z"
   },
   {
    "duration": 50,
    "start_time": "2022-12-23T11:20:33.319Z"
   },
   {
    "duration": 10,
    "start_time": "2022-12-23T11:20:33.371Z"
   },
   {
    "duration": 252,
    "start_time": "2022-12-23T11:20:33.383Z"
   },
   {
    "duration": 18,
    "start_time": "2022-12-23T11:20:33.637Z"
   },
   {
    "duration": 99,
    "start_time": "2022-12-23T11:20:33.656Z"
   },
   {
    "duration": 4,
    "start_time": "2022-12-23T11:20:33.757Z"
   },
   {
    "duration": 219,
    "start_time": "2022-12-23T11:20:33.762Z"
   },
   {
    "duration": 165,
    "start_time": "2022-12-23T11:20:33.983Z"
   },
   {
    "duration": 188,
    "start_time": "2022-12-23T11:20:34.150Z"
   },
   {
    "duration": 168,
    "start_time": "2022-12-23T11:20:34.339Z"
   },
   {
    "duration": 149,
    "start_time": "2022-12-23T11:20:34.509Z"
   },
   {
    "duration": 1710,
    "start_time": "2022-12-23T11:20:34.660Z"
   },
   {
    "duration": 11,
    "start_time": "2022-12-23T11:20:36.372Z"
   },
   {
    "duration": 44,
    "start_time": "2022-12-23T11:20:36.385Z"
   },
   {
    "duration": 1639,
    "start_time": "2022-12-23T11:20:36.430Z"
   },
   {
    "duration": 17,
    "start_time": "2022-12-23T11:20:38.072Z"
   },
   {
    "duration": 308,
    "start_time": "2022-12-23T11:20:38.091Z"
   },
   {
    "duration": 38,
    "start_time": "2022-12-23T11:20:38.400Z"
   },
   {
    "duration": 201,
    "start_time": "2022-12-23T11:20:38.440Z"
   },
   {
    "duration": 14,
    "start_time": "2022-12-23T11:20:38.643Z"
   },
   {
    "duration": 15,
    "start_time": "2022-12-23T11:20:38.659Z"
   },
   {
    "duration": 27,
    "start_time": "2022-12-23T11:20:38.675Z"
   },
   {
    "duration": 222,
    "start_time": "2022-12-23T11:20:38.704Z"
   },
   {
    "duration": 5,
    "start_time": "2022-12-23T11:20:38.928Z"
   },
   {
    "duration": 12,
    "start_time": "2022-12-23T11:20:38.935Z"
   },
   {
    "duration": 50,
    "start_time": "2022-12-23T11:20:38.948Z"
   },
   {
    "duration": 6,
    "start_time": "2022-12-23T11:20:38.999Z"
   },
   {
    "duration": 69,
    "start_time": "2022-12-23T11:20:39.006Z"
   },
   {
    "duration": 244,
    "start_time": "2022-12-23T11:20:39.077Z"
   },
   {
    "duration": 4,
    "start_time": "2022-12-23T11:20:39.327Z"
   },
   {
    "duration": 12,
    "start_time": "2022-12-23T11:20:39.333Z"
   },
   {
    "duration": 12,
    "start_time": "2022-12-23T11:20:39.347Z"
   },
   {
    "duration": 638,
    "start_time": "2022-12-23T11:20:39.360Z"
   },
   {
    "duration": 395,
    "start_time": "2022-12-23T11:20:40.000Z"
   },
   {
    "duration": 79636,
    "start_time": "2022-12-23T11:20:40.396Z"
   },
   {
    "duration": 96186,
    "start_time": "2022-12-23T11:22:00.040Z"
   },
   {
    "duration": 3,
    "start_time": "2022-12-23T11:23:36.228Z"
   },
   {
    "duration": 103,
    "start_time": "2022-12-23T11:23:36.233Z"
   },
   {
    "duration": 7,
    "start_time": "2022-12-23T11:23:36.338Z"
   },
   {
    "duration": 15,
    "start_time": "2022-12-23T11:23:36.347Z"
   },
   {
    "duration": 15,
    "start_time": "2022-12-23T11:23:36.364Z"
   },
   {
    "duration": 137653,
    "start_time": "2022-12-23T11:32:20.881Z"
   },
   {
    "duration": 2,
    "start_time": "2022-12-23T11:47:51.801Z"
   },
   {
    "duration": 867,
    "start_time": "2022-12-23T11:52:51.379Z"
   },
   {
    "duration": 48,
    "start_time": "2022-12-23T11:54:22.055Z"
   },
   {
    "duration": 5,
    "start_time": "2022-12-23T12:02:35.801Z"
   },
   {
    "duration": 57,
    "start_time": "2022-12-24T11:35:11.312Z"
   },
   {
    "duration": 1921,
    "start_time": "2022-12-24T11:35:25.500Z"
   },
   {
    "duration": 1148,
    "start_time": "2022-12-24T11:35:27.423Z"
   },
   {
    "duration": 19,
    "start_time": "2022-12-24T11:35:28.573Z"
   },
   {
    "duration": 122,
    "start_time": "2022-12-24T11:35:28.595Z"
   },
   {
    "duration": 166,
    "start_time": "2022-12-24T11:35:28.718Z"
   },
   {
    "duration": 154,
    "start_time": "2022-12-24T11:35:28.886Z"
   },
   {
    "duration": 520,
    "start_time": "2022-12-24T11:35:29.042Z"
   },
   {
    "duration": 90,
    "start_time": "2022-12-24T11:35:29.565Z"
   },
   {
    "duration": 12,
    "start_time": "2022-12-24T11:35:29.657Z"
   },
   {
    "duration": 115,
    "start_time": "2022-12-24T11:35:29.672Z"
   },
   {
    "duration": 4,
    "start_time": "2022-12-24T11:35:29.789Z"
   },
   {
    "duration": 17,
    "start_time": "2022-12-24T11:35:29.795Z"
   },
   {
    "duration": 38,
    "start_time": "2022-12-24T11:35:29.814Z"
   },
   {
    "duration": 14,
    "start_time": "2022-12-24T11:35:29.855Z"
   },
   {
    "duration": 296,
    "start_time": "2022-12-24T11:35:29.871Z"
   },
   {
    "duration": 46,
    "start_time": "2022-12-24T11:35:30.168Z"
   },
   {
    "duration": 157,
    "start_time": "2022-12-24T11:35:30.217Z"
   },
   {
    "duration": 6,
    "start_time": "2022-12-24T11:35:30.378Z"
   },
   {
    "duration": 213,
    "start_time": "2022-12-24T11:35:30.386Z"
   },
   {
    "duration": 197,
    "start_time": "2022-12-24T11:35:30.601Z"
   },
   {
    "duration": 233,
    "start_time": "2022-12-24T11:35:30.800Z"
   },
   {
    "duration": 212,
    "start_time": "2022-12-24T11:35:31.035Z"
   },
   {
    "duration": 182,
    "start_time": "2022-12-24T11:35:31.249Z"
   },
   {
    "duration": 1904,
    "start_time": "2022-12-24T11:35:31.433Z"
   },
   {
    "duration": 14,
    "start_time": "2022-12-24T11:35:33.340Z"
   },
   {
    "duration": 56,
    "start_time": "2022-12-24T11:35:33.357Z"
   },
   {
    "duration": 2140,
    "start_time": "2022-12-24T11:35:33.415Z"
   },
   {
    "duration": 20,
    "start_time": "2022-12-24T11:35:35.561Z"
   },
   {
    "duration": 373,
    "start_time": "2022-12-24T11:35:35.583Z"
   },
   {
    "duration": 35,
    "start_time": "2022-12-24T11:35:35.958Z"
   },
   {
    "duration": 296,
    "start_time": "2022-12-24T11:35:35.996Z"
   },
   {
    "duration": 26,
    "start_time": "2022-12-24T11:35:36.294Z"
   },
   {
    "duration": 31,
    "start_time": "2022-12-24T11:35:36.322Z"
   },
   {
    "duration": 41,
    "start_time": "2022-12-24T11:35:36.354Z"
   },
   {
    "duration": 357,
    "start_time": "2022-12-24T11:35:36.398Z"
   },
   {
    "duration": 6,
    "start_time": "2022-12-24T11:35:36.756Z"
   },
   {
    "duration": 13,
    "start_time": "2022-12-24T11:35:36.764Z"
   },
   {
    "duration": 55,
    "start_time": "2022-12-24T11:35:36.779Z"
   },
   {
    "duration": 10,
    "start_time": "2022-12-24T11:35:36.837Z"
   },
   {
    "duration": 124,
    "start_time": "2022-12-24T11:35:36.849Z"
   },
   {
    "duration": 295,
    "start_time": "2022-12-24T11:35:36.975Z"
   },
   {
    "duration": 4,
    "start_time": "2022-12-24T11:35:37.272Z"
   },
   {
    "duration": 10,
    "start_time": "2022-12-24T11:35:37.278Z"
   },
   {
    "duration": 8,
    "start_time": "2022-12-24T11:35:37.290Z"
   },
   {
    "duration": 799,
    "start_time": "2022-12-24T11:35:37.311Z"
   },
   {
    "duration": 415,
    "start_time": "2022-12-24T11:35:38.112Z"
   },
   {
    "duration": 3,
    "start_time": "2022-12-24T11:35:38.529Z"
   },
   {
    "duration": 34,
    "start_time": "2022-12-24T11:35:38.534Z"
   },
   {
    "duration": 0,
    "start_time": "2022-12-24T11:35:38.571Z"
   },
   {
    "duration": 0,
    "start_time": "2022-12-24T11:35:38.572Z"
   },
   {
    "duration": 0,
    "start_time": "2022-12-24T11:35:38.574Z"
   },
   {
    "duration": 0,
    "start_time": "2022-12-24T11:35:38.575Z"
   },
   {
    "duration": 0,
    "start_time": "2022-12-24T11:35:38.576Z"
   },
   {
    "duration": 0,
    "start_time": "2022-12-24T11:35:38.577Z"
   },
   {
    "duration": 93159,
    "start_time": "2022-12-24T11:38:56.861Z"
   },
   {
    "duration": 852,
    "start_time": "2022-12-24T11:42:18.993Z"
   },
   {
    "duration": 13,
    "start_time": "2022-12-24T12:28:52.608Z"
   },
   {
    "duration": 122,
    "start_time": "2022-12-24T12:33:33.486Z"
   },
   {
    "duration": 10,
    "start_time": "2022-12-24T12:37:53.732Z"
   },
   {
    "duration": 11,
    "start_time": "2022-12-24T12:41:23.540Z"
   },
   {
    "duration": 19,
    "start_time": "2022-12-24T12:44:07.857Z"
   },
   {
    "duration": 22,
    "start_time": "2022-12-24T12:44:38.058Z"
   },
   {
    "duration": 4,
    "start_time": "2022-12-24T12:44:52.206Z"
   },
   {
    "duration": 619,
    "start_time": "2022-12-24T12:44:53.225Z"
   },
   {
    "duration": 332,
    "start_time": "2022-12-24T12:48:32.059Z"
   },
   {
    "duration": 7,
    "start_time": "2022-12-24T12:52:34.392Z"
   },
   {
    "duration": 1624,
    "start_time": "2022-12-24T12:53:00.236Z"
   },
   {
    "duration": 968,
    "start_time": "2022-12-24T12:53:01.863Z"
   },
   {
    "duration": 19,
    "start_time": "2022-12-24T12:53:02.833Z"
   },
   {
    "duration": 136,
    "start_time": "2022-12-24T12:53:02.855Z"
   },
   {
    "duration": 139,
    "start_time": "2022-12-24T12:53:02.993Z"
   },
   {
    "duration": 117,
    "start_time": "2022-12-24T12:53:03.134Z"
   },
   {
    "duration": 525,
    "start_time": "2022-12-24T12:53:03.253Z"
   },
   {
    "duration": 92,
    "start_time": "2022-12-24T12:53:03.779Z"
   },
   {
    "duration": 11,
    "start_time": "2022-12-24T12:53:03.874Z"
   },
   {
    "duration": 113,
    "start_time": "2022-12-24T12:53:03.887Z"
   },
   {
    "duration": 3,
    "start_time": "2022-12-24T12:53:04.002Z"
   },
   {
    "duration": 32,
    "start_time": "2022-12-24T12:53:04.012Z"
   },
   {
    "duration": 47,
    "start_time": "2022-12-24T12:53:04.046Z"
   },
   {
    "duration": 10,
    "start_time": "2022-12-24T12:53:04.095Z"
   },
   {
    "duration": 302,
    "start_time": "2022-12-24T12:53:04.107Z"
   },
   {
    "duration": 31,
    "start_time": "2022-12-24T12:53:04.411Z"
   },
   {
    "duration": 104,
    "start_time": "2022-12-24T12:53:04.444Z"
   },
   {
    "duration": 4,
    "start_time": "2022-12-24T12:53:04.550Z"
   },
   {
    "duration": 211,
    "start_time": "2022-12-24T12:53:04.556Z"
   },
   {
    "duration": 199,
    "start_time": "2022-12-24T12:53:04.768Z"
   },
   {
    "duration": 219,
    "start_time": "2022-12-24T12:53:04.969Z"
   },
   {
    "duration": 199,
    "start_time": "2022-12-24T12:53:05.189Z"
   },
   {
    "duration": 189,
    "start_time": "2022-12-24T12:53:05.390Z"
   },
   {
    "duration": 2078,
    "start_time": "2022-12-24T12:53:05.581Z"
   },
   {
    "duration": 14,
    "start_time": "2022-12-24T12:53:07.661Z"
   },
   {
    "duration": 53,
    "start_time": "2022-12-24T12:53:07.677Z"
   },
   {
    "duration": 2041,
    "start_time": "2022-12-24T12:53:07.732Z"
   },
   {
    "duration": 18,
    "start_time": "2022-12-24T12:53:09.776Z"
   },
   {
    "duration": 380,
    "start_time": "2022-12-24T12:53:09.796Z"
   },
   {
    "duration": 47,
    "start_time": "2022-12-24T12:53:10.178Z"
   },
   {
    "duration": 242,
    "start_time": "2022-12-24T12:53:10.230Z"
   },
   {
    "duration": 16,
    "start_time": "2022-12-24T12:53:10.474Z"
   },
   {
    "duration": 32,
    "start_time": "2022-12-24T12:53:10.492Z"
   },
   {
    "duration": 36,
    "start_time": "2022-12-24T12:53:10.530Z"
   },
   {
    "duration": 262,
    "start_time": "2022-12-24T12:53:10.568Z"
   },
   {
    "duration": 5,
    "start_time": "2022-12-24T12:53:10.832Z"
   },
   {
    "duration": 10,
    "start_time": "2022-12-24T12:53:10.839Z"
   },
   {
    "duration": 39,
    "start_time": "2022-12-24T12:53:10.851Z"
   },
   {
    "duration": 24,
    "start_time": "2022-12-24T12:53:10.892Z"
   },
   {
    "duration": 88,
    "start_time": "2022-12-24T12:53:10.917Z"
   },
   {
    "duration": 321,
    "start_time": "2022-12-24T12:53:11.007Z"
   },
   {
    "duration": 10,
    "start_time": "2022-12-24T12:53:11.330Z"
   },
   {
    "duration": 8,
    "start_time": "2022-12-24T12:53:11.342Z"
   },
   {
    "duration": 5,
    "start_time": "2022-12-24T12:53:11.352Z"
   },
   {
    "duration": 9,
    "start_time": "2022-12-24T12:53:11.359Z"
   },
   {
    "duration": 860,
    "start_time": "2022-12-24T12:53:11.369Z"
   },
   {
    "duration": 325,
    "start_time": "2022-12-24T12:53:12.231Z"
   },
   {
    "duration": 138,
    "start_time": "2022-12-24T12:53:12.558Z"
   },
   {
    "duration": 0,
    "start_time": "2022-12-24T12:53:12.698Z"
   },
   {
    "duration": 0,
    "start_time": "2022-12-24T12:53:12.699Z"
   },
   {
    "duration": 0,
    "start_time": "2022-12-24T12:53:12.701Z"
   },
   {
    "duration": 0,
    "start_time": "2022-12-24T12:53:12.701Z"
   },
   {
    "duration": 0,
    "start_time": "2022-12-24T12:53:12.702Z"
   },
   {
    "duration": 0,
    "start_time": "2022-12-24T12:53:12.703Z"
   },
   {
    "duration": 0,
    "start_time": "2022-12-24T12:53:12.704Z"
   },
   {
    "duration": 0,
    "start_time": "2022-12-24T12:53:12.704Z"
   },
   {
    "duration": 0,
    "start_time": "2022-12-24T12:53:12.705Z"
   },
   {
    "duration": 258,
    "start_time": "2022-12-24T12:53:52.828Z"
   },
   {
    "duration": 4,
    "start_time": "2022-12-24T12:54:52.868Z"
   },
   {
    "duration": 3,
    "start_time": "2022-12-24T12:55:23.730Z"
   },
   {
    "duration": 42060,
    "start_time": "2022-12-24T13:35:44.476Z"
   },
   {
    "duration": 46596,
    "start_time": "2022-12-24T13:43:37.522Z"
   },
   {
    "duration": 61087,
    "start_time": "2022-12-24T13:45:37.133Z"
   },
   {
    "duration": 8,
    "start_time": "2022-12-24T13:51:25.846Z"
   },
   {
    "duration": 13,
    "start_time": "2022-12-24T13:51:27.212Z"
   },
   {
    "duration": 2260,
    "start_time": "2022-12-24T13:52:26.058Z"
   },
   {
    "duration": 1145,
    "start_time": "2022-12-24T13:52:28.320Z"
   },
   {
    "duration": 23,
    "start_time": "2022-12-24T13:52:29.468Z"
   },
   {
    "duration": 174,
    "start_time": "2022-12-24T13:52:29.493Z"
   },
   {
    "duration": 187,
    "start_time": "2022-12-24T13:52:29.669Z"
   },
   {
    "duration": 163,
    "start_time": "2022-12-24T13:52:29.865Z"
   },
   {
    "duration": 675,
    "start_time": "2022-12-24T13:52:30.031Z"
   },
   {
    "duration": 109,
    "start_time": "2022-12-24T13:52:30.711Z"
   },
   {
    "duration": 22,
    "start_time": "2022-12-24T13:52:30.825Z"
   },
   {
    "duration": 169,
    "start_time": "2022-12-24T13:52:30.849Z"
   },
   {
    "duration": 57,
    "start_time": "2022-12-24T13:52:31.021Z"
   },
   {
    "duration": 61,
    "start_time": "2022-12-24T13:52:31.080Z"
   },
   {
    "duration": 84,
    "start_time": "2022-12-24T13:52:31.145Z"
   },
   {
    "duration": 23,
    "start_time": "2022-12-24T13:52:31.235Z"
   },
   {
    "duration": 349,
    "start_time": "2022-12-24T13:52:31.260Z"
   },
   {
    "duration": 35,
    "start_time": "2022-12-24T13:52:31.612Z"
   },
   {
    "duration": 136,
    "start_time": "2022-12-24T13:52:31.648Z"
   },
   {
    "duration": 5,
    "start_time": "2022-12-24T13:52:31.787Z"
   },
   {
    "duration": 257,
    "start_time": "2022-12-24T13:52:31.794Z"
   },
   {
    "duration": 246,
    "start_time": "2022-12-24T13:52:32.052Z"
   },
   {
    "duration": 254,
    "start_time": "2022-12-24T13:52:32.300Z"
   },
   {
    "duration": 220,
    "start_time": "2022-12-24T13:52:32.556Z"
   },
   {
    "duration": 206,
    "start_time": "2022-12-24T13:52:32.778Z"
   },
   {
    "duration": 2435,
    "start_time": "2022-12-24T13:52:32.985Z"
   },
   {
    "duration": 37,
    "start_time": "2022-12-24T13:52:35.433Z"
   },
   {
    "duration": 45,
    "start_time": "2022-12-24T13:52:35.473Z"
   },
   {
    "duration": 2538,
    "start_time": "2022-12-24T13:52:35.526Z"
   },
   {
    "duration": 21,
    "start_time": "2022-12-24T13:52:38.069Z"
   },
   {
    "duration": 423,
    "start_time": "2022-12-24T13:52:38.092Z"
   },
   {
    "duration": 39,
    "start_time": "2022-12-24T13:52:38.517Z"
   },
   {
    "duration": 323,
    "start_time": "2022-12-24T13:52:38.560Z"
   },
   {
    "duration": 38,
    "start_time": "2022-12-24T13:52:38.888Z"
   },
   {
    "duration": 36,
    "start_time": "2022-12-24T13:52:38.939Z"
   },
   {
    "duration": 75,
    "start_time": "2022-12-24T13:52:38.981Z"
   },
   {
    "duration": 318,
    "start_time": "2022-12-24T13:52:39.062Z"
   },
   {
    "duration": 7,
    "start_time": "2022-12-24T13:52:39.382Z"
   },
   {
    "duration": 15,
    "start_time": "2022-12-24T13:52:39.392Z"
   },
   {
    "duration": 130,
    "start_time": "2022-12-24T13:52:39.415Z"
   },
   {
    "duration": 16,
    "start_time": "2022-12-24T13:52:39.554Z"
   },
   {
    "duration": 125,
    "start_time": "2022-12-24T13:52:39.573Z"
   },
   {
    "duration": 349,
    "start_time": "2022-12-24T13:52:39.701Z"
   },
   {
    "duration": 11,
    "start_time": "2022-12-24T13:52:40.051Z"
   },
   {
    "duration": 33,
    "start_time": "2022-12-24T13:52:40.063Z"
   },
   {
    "duration": 9,
    "start_time": "2022-12-24T13:52:40.098Z"
   },
   {
    "duration": 61,
    "start_time": "2022-12-24T13:52:40.109Z"
   },
   {
    "duration": 998,
    "start_time": "2022-12-24T13:52:40.173Z"
   },
   {
    "duration": 383,
    "start_time": "2022-12-24T13:52:41.173Z"
   },
   {
    "duration": 312,
    "start_time": "2022-12-24T13:52:41.558Z"
   },
   {
    "duration": 7,
    "start_time": "2022-12-24T13:52:41.877Z"
   },
   {
    "duration": 16,
    "start_time": "2022-12-24T13:52:41.886Z"
   },
   {
    "duration": 69469,
    "start_time": "2022-12-24T13:52:41.904Z"
   },
   {
    "duration": 0,
    "start_time": "2022-12-24T13:53:51.376Z"
   },
   {
    "duration": 0,
    "start_time": "2022-12-24T13:53:51.378Z"
   },
   {
    "duration": 0,
    "start_time": "2022-12-24T13:53:51.380Z"
   },
   {
    "duration": 0,
    "start_time": "2022-12-24T13:53:51.381Z"
   },
   {
    "duration": 0,
    "start_time": "2022-12-24T13:53:51.413Z"
   },
   {
    "duration": 0,
    "start_time": "2022-12-24T13:53:51.415Z"
   },
   {
    "duration": 0,
    "start_time": "2022-12-24T13:53:51.417Z"
   },
   {
    "duration": 0,
    "start_time": "2022-12-24T13:53:51.419Z"
   },
   {
    "duration": 0,
    "start_time": "2022-12-24T13:53:51.421Z"
   },
   {
    "duration": 0,
    "start_time": "2022-12-24T13:53:51.422Z"
   },
   {
    "duration": 6,
    "start_time": "2022-12-24T13:57:25.064Z"
   },
   {
    "duration": 5,
    "start_time": "2022-12-24T13:59:14.759Z"
   },
   {
    "duration": 1826,
    "start_time": "2022-12-24T13:59:34.608Z"
   },
   {
    "duration": 1349,
    "start_time": "2022-12-24T13:59:36.445Z"
   },
   {
    "duration": 34,
    "start_time": "2022-12-24T13:59:37.796Z"
   },
   {
    "duration": 240,
    "start_time": "2022-12-24T13:59:37.832Z"
   },
   {
    "duration": 126,
    "start_time": "2022-12-24T13:59:38.073Z"
   },
   {
    "duration": 197,
    "start_time": "2022-12-24T13:59:38.201Z"
   },
   {
    "duration": 749,
    "start_time": "2022-12-24T13:59:38.401Z"
   },
   {
    "duration": 157,
    "start_time": "2022-12-24T13:59:39.152Z"
   },
   {
    "duration": 25,
    "start_time": "2022-12-24T13:59:39.312Z"
   },
   {
    "duration": 207,
    "start_time": "2022-12-24T13:59:39.346Z"
   },
   {
    "duration": 27,
    "start_time": "2022-12-24T13:59:39.560Z"
   },
   {
    "duration": 5,
    "start_time": "2022-12-24T13:59:39.590Z"
   },
   {
    "duration": 68,
    "start_time": "2022-12-24T13:59:39.597Z"
   },
   {
    "duration": 14,
    "start_time": "2022-12-24T13:59:39.667Z"
   },
   {
    "duration": 403,
    "start_time": "2022-12-24T13:59:39.683Z"
   },
   {
    "duration": 34,
    "start_time": "2022-12-24T13:59:40.088Z"
   },
   {
    "duration": 171,
    "start_time": "2022-12-24T13:59:40.124Z"
   },
   {
    "duration": 4,
    "start_time": "2022-12-24T13:59:40.297Z"
   },
   {
    "duration": 234,
    "start_time": "2022-12-24T13:59:40.303Z"
   },
   {
    "duration": 233,
    "start_time": "2022-12-24T13:59:40.539Z"
   },
   {
    "duration": 295,
    "start_time": "2022-12-24T13:59:40.779Z"
   },
   {
    "duration": 277,
    "start_time": "2022-12-24T13:59:41.080Z"
   },
   {
    "duration": 230,
    "start_time": "2022-12-24T13:59:41.359Z"
   },
   {
    "duration": 2355,
    "start_time": "2022-12-24T13:59:41.591Z"
   },
   {
    "duration": 18,
    "start_time": "2022-12-24T13:59:43.948Z"
   },
   {
    "duration": 70,
    "start_time": "2022-12-24T13:59:43.972Z"
   },
   {
    "duration": 2494,
    "start_time": "2022-12-24T13:59:44.059Z"
   },
   {
    "duration": 27,
    "start_time": "2022-12-24T13:59:46.567Z"
   },
   {
    "duration": 576,
    "start_time": "2022-12-24T13:59:46.597Z"
   },
   {
    "duration": 54,
    "start_time": "2022-12-24T13:59:47.175Z"
   },
   {
    "duration": 316,
    "start_time": "2022-12-24T13:59:47.245Z"
   },
   {
    "duration": 29,
    "start_time": "2022-12-24T13:59:47.566Z"
   },
   {
    "duration": 59,
    "start_time": "2022-12-24T13:59:47.600Z"
   },
   {
    "duration": 75,
    "start_time": "2022-12-24T13:59:47.667Z"
   },
   {
    "duration": 317,
    "start_time": "2022-12-24T13:59:47.744Z"
   },
   {
    "duration": 8,
    "start_time": "2022-12-24T13:59:48.063Z"
   },
   {
    "duration": 44,
    "start_time": "2022-12-24T13:59:48.073Z"
   },
   {
    "duration": 90,
    "start_time": "2022-12-24T13:59:48.120Z"
   },
   {
    "duration": 13,
    "start_time": "2022-12-24T13:59:48.212Z"
   },
   {
    "duration": 162,
    "start_time": "2022-12-24T13:59:48.227Z"
   },
   {
    "duration": 354,
    "start_time": "2022-12-24T13:59:48.392Z"
   },
   {
    "duration": 6,
    "start_time": "2022-12-24T13:59:48.748Z"
   },
   {
    "duration": 40,
    "start_time": "2022-12-24T13:59:48.763Z"
   },
   {
    "duration": 41,
    "start_time": "2022-12-24T13:59:48.806Z"
   },
   {
    "duration": 52,
    "start_time": "2022-12-24T13:59:48.862Z"
   },
   {
    "duration": 1192,
    "start_time": "2022-12-24T13:59:48.916Z"
   },
   {
    "duration": 400,
    "start_time": "2022-12-24T13:59:50.110Z"
   },
   {
    "duration": 321,
    "start_time": "2022-12-24T13:59:50.512Z"
   },
   {
    "duration": 12,
    "start_time": "2022-12-24T13:59:50.837Z"
   },
   {
    "duration": 34,
    "start_time": "2022-12-24T13:59:50.852Z"
   },
   {
    "duration": 62641,
    "start_time": "2022-12-24T13:59:50.888Z"
   },
   {
    "duration": 263,
    "start_time": "2022-12-24T14:00:53.555Z"
   },
   {
    "duration": 1,
    "start_time": "2022-12-24T14:00:53.820Z"
   },
   {
    "duration": 0,
    "start_time": "2022-12-24T14:00:53.822Z"
   },
   {
    "duration": 0,
    "start_time": "2022-12-24T14:00:53.824Z"
   },
   {
    "duration": 0,
    "start_time": "2022-12-24T14:00:53.825Z"
   },
   {
    "duration": 0,
    "start_time": "2022-12-24T14:00:53.826Z"
   },
   {
    "duration": 0,
    "start_time": "2022-12-24T14:00:53.827Z"
   },
   {
    "duration": 0,
    "start_time": "2022-12-24T14:00:53.828Z"
   },
   {
    "duration": 0,
    "start_time": "2022-12-24T14:00:53.829Z"
   },
   {
    "duration": 0,
    "start_time": "2022-12-24T14:00:53.830Z"
   },
   {
    "duration": 3,
    "start_time": "2022-12-24T14:05:54.443Z"
   },
   {
    "duration": 1127,
    "start_time": "2022-12-24T14:08:04.431Z"
   },
   {
    "duration": 23,
    "start_time": "2022-12-24T14:12:11.017Z"
   },
   {
    "duration": 13,
    "start_time": "2022-12-24T14:41:48.140Z"
   },
   {
    "duration": 1706,
    "start_time": "2022-12-24T14:42:35.100Z"
   },
   {
    "duration": 861,
    "start_time": "2022-12-24T14:42:36.808Z"
   },
   {
    "duration": 20,
    "start_time": "2022-12-24T14:42:37.671Z"
   },
   {
    "duration": 152,
    "start_time": "2022-12-24T14:42:37.693Z"
   },
   {
    "duration": 115,
    "start_time": "2022-12-24T14:42:37.847Z"
   },
   {
    "duration": 125,
    "start_time": "2022-12-24T14:42:37.965Z"
   },
   {
    "duration": 510,
    "start_time": "2022-12-24T14:42:38.092Z"
   },
   {
    "duration": 120,
    "start_time": "2022-12-24T14:42:38.603Z"
   },
   {
    "duration": 13,
    "start_time": "2022-12-24T14:42:38.730Z"
   },
   {
    "duration": 88,
    "start_time": "2022-12-24T14:42:38.746Z"
   },
   {
    "duration": 5,
    "start_time": "2022-12-24T14:42:38.836Z"
   },
   {
    "duration": 5,
    "start_time": "2022-12-24T14:42:38.843Z"
   },
   {
    "duration": 32,
    "start_time": "2022-12-24T14:42:38.850Z"
   },
   {
    "duration": 10,
    "start_time": "2022-12-24T14:42:38.884Z"
   },
   {
    "duration": 265,
    "start_time": "2022-12-24T14:42:38.918Z"
   },
   {
    "duration": 34,
    "start_time": "2022-12-24T14:42:39.185Z"
   },
   {
    "duration": 116,
    "start_time": "2022-12-24T14:42:39.223Z"
   },
   {
    "duration": 5,
    "start_time": "2022-12-24T14:42:39.343Z"
   },
   {
    "duration": 212,
    "start_time": "2022-12-24T14:42:39.351Z"
   },
   {
    "duration": 183,
    "start_time": "2022-12-24T14:42:39.565Z"
   },
   {
    "duration": 214,
    "start_time": "2022-12-24T14:42:39.750Z"
   },
   {
    "duration": 197,
    "start_time": "2022-12-24T14:42:39.966Z"
   },
   {
    "duration": 218,
    "start_time": "2022-12-24T14:42:40.165Z"
   },
   {
    "duration": 2006,
    "start_time": "2022-12-24T14:42:40.385Z"
   },
   {
    "duration": 20,
    "start_time": "2022-12-24T14:42:42.393Z"
   },
   {
    "duration": 32,
    "start_time": "2022-12-24T14:42:42.421Z"
   },
   {
    "duration": 1818,
    "start_time": "2022-12-24T14:42:42.455Z"
   },
   {
    "duration": 18,
    "start_time": "2022-12-24T14:42:44.277Z"
   },
   {
    "duration": 346,
    "start_time": "2022-12-24T14:42:44.297Z"
   },
   {
    "duration": 33,
    "start_time": "2022-12-24T14:42:44.645Z"
   },
   {
    "duration": 284,
    "start_time": "2022-12-24T14:42:44.680Z"
   },
   {
    "duration": 22,
    "start_time": "2022-12-24T14:42:44.966Z"
   },
   {
    "duration": 44,
    "start_time": "2022-12-24T14:42:44.990Z"
   },
   {
    "duration": 37,
    "start_time": "2022-12-24T14:42:45.036Z"
   },
   {
    "duration": 257,
    "start_time": "2022-12-24T14:42:45.075Z"
   },
   {
    "duration": 6,
    "start_time": "2022-12-24T14:42:45.334Z"
   },
   {
    "duration": 14,
    "start_time": "2022-12-24T14:42:45.341Z"
   },
   {
    "duration": 58,
    "start_time": "2022-12-24T14:42:45.357Z"
   },
   {
    "duration": 10,
    "start_time": "2022-12-24T14:42:45.417Z"
   },
   {
    "duration": 85,
    "start_time": "2022-12-24T14:42:45.429Z"
   },
   {
    "duration": 273,
    "start_time": "2022-12-24T14:42:45.520Z"
   },
   {
    "duration": 5,
    "start_time": "2022-12-24T14:42:45.795Z"
   },
   {
    "duration": 27,
    "start_time": "2022-12-24T14:42:45.812Z"
   },
   {
    "duration": 22,
    "start_time": "2022-12-24T14:42:45.841Z"
   },
   {
    "duration": 19,
    "start_time": "2022-12-24T14:42:45.865Z"
   },
   {
    "duration": 885,
    "start_time": "2022-12-24T14:42:45.886Z"
   },
   {
    "duration": 329,
    "start_time": "2022-12-24T14:42:46.773Z"
   },
   {
    "duration": 272,
    "start_time": "2022-12-24T14:42:47.104Z"
   },
   {
    "duration": 6,
    "start_time": "2022-12-24T14:42:47.377Z"
   },
   {
    "duration": 9,
    "start_time": "2022-12-24T14:42:47.384Z"
   },
   {
    "duration": 39938,
    "start_time": "2022-12-24T14:42:47.395Z"
   },
   {
    "duration": 112,
    "start_time": "2022-12-24T14:43:27.336Z"
   },
   {
    "duration": 0,
    "start_time": "2022-12-24T14:43:27.451Z"
   },
   {
    "duration": 0,
    "start_time": "2022-12-24T14:43:27.452Z"
   },
   {
    "duration": 0,
    "start_time": "2022-12-24T14:43:27.453Z"
   },
   {
    "duration": 0,
    "start_time": "2022-12-24T14:43:27.455Z"
   },
   {
    "duration": 0,
    "start_time": "2022-12-24T14:43:27.457Z"
   },
   {
    "duration": 0,
    "start_time": "2022-12-24T14:43:27.458Z"
   },
   {
    "duration": 0,
    "start_time": "2022-12-24T14:43:27.459Z"
   },
   {
    "duration": 5,
    "start_time": "2022-12-24T15:16:30.880Z"
   },
   {
    "duration": 71,
    "start_time": "2022-12-24T15:16:32.137Z"
   },
   {
    "duration": 127,
    "start_time": "2022-12-24T15:16:50.161Z"
   },
   {
    "duration": 1501,
    "start_time": "2022-12-24T15:18:48.238Z"
   },
   {
    "duration": 853,
    "start_time": "2022-12-24T15:18:49.741Z"
   },
   {
    "duration": 26,
    "start_time": "2022-12-24T15:18:50.596Z"
   },
   {
    "duration": 120,
    "start_time": "2022-12-24T15:18:50.625Z"
   },
   {
    "duration": 108,
    "start_time": "2022-12-24T15:18:50.747Z"
   },
   {
    "duration": 112,
    "start_time": "2022-12-24T15:18:50.857Z"
   },
   {
    "duration": 494,
    "start_time": "2022-12-24T15:18:50.970Z"
   },
   {
    "duration": 81,
    "start_time": "2022-12-24T15:18:51.467Z"
   },
   {
    "duration": 12,
    "start_time": "2022-12-24T15:18:51.549Z"
   },
   {
    "duration": 100,
    "start_time": "2022-12-24T15:18:51.565Z"
   },
   {
    "duration": 4,
    "start_time": "2022-12-24T15:18:51.667Z"
   },
   {
    "duration": 5,
    "start_time": "2022-12-24T15:18:51.673Z"
   },
   {
    "duration": 56,
    "start_time": "2022-12-24T15:18:51.680Z"
   },
   {
    "duration": 13,
    "start_time": "2022-12-24T15:18:51.738Z"
   },
   {
    "duration": 313,
    "start_time": "2022-12-24T15:18:51.753Z"
   },
   {
    "duration": 21,
    "start_time": "2022-12-24T15:18:52.068Z"
   },
   {
    "duration": 106,
    "start_time": "2022-12-24T15:18:52.091Z"
   },
   {
    "duration": 15,
    "start_time": "2022-12-24T15:18:52.199Z"
   },
   {
    "duration": 189,
    "start_time": "2022-12-24T15:18:52.216Z"
   },
   {
    "duration": 171,
    "start_time": "2022-12-24T15:18:52.411Z"
   },
   {
    "duration": 207,
    "start_time": "2022-12-24T15:18:52.584Z"
   },
   {
    "duration": 194,
    "start_time": "2022-12-24T15:18:52.792Z"
   },
   {
    "duration": 169,
    "start_time": "2022-12-24T15:18:52.987Z"
   },
   {
    "duration": 1849,
    "start_time": "2022-12-24T15:18:53.158Z"
   },
   {
    "duration": 16,
    "start_time": "2022-12-24T15:18:55.008Z"
   },
   {
    "duration": 39,
    "start_time": "2022-12-24T15:18:55.025Z"
   },
   {
    "duration": 1870,
    "start_time": "2022-12-24T15:18:55.066Z"
   },
   {
    "duration": 17,
    "start_time": "2022-12-24T15:18:56.940Z"
   },
   {
    "duration": 353,
    "start_time": "2022-12-24T15:18:56.959Z"
   },
   {
    "duration": 34,
    "start_time": "2022-12-24T15:18:57.314Z"
   },
   {
    "duration": 251,
    "start_time": "2022-12-24T15:18:57.349Z"
   },
   {
    "duration": 21,
    "start_time": "2022-12-24T15:18:57.602Z"
   },
   {
    "duration": 18,
    "start_time": "2022-12-24T15:18:57.625Z"
   },
   {
    "duration": 29,
    "start_time": "2022-12-24T15:18:57.644Z"
   },
   {
    "duration": 254,
    "start_time": "2022-12-24T15:18:57.675Z"
   },
   {
    "duration": 6,
    "start_time": "2022-12-24T15:18:57.930Z"
   },
   {
    "duration": 9,
    "start_time": "2022-12-24T15:18:57.938Z"
   },
   {
    "duration": 31,
    "start_time": "2022-12-24T15:18:57.948Z"
   },
   {
    "duration": 32,
    "start_time": "2022-12-24T15:18:57.981Z"
   },
   {
    "duration": 64,
    "start_time": "2022-12-24T15:18:58.015Z"
   },
   {
    "duration": 301,
    "start_time": "2022-12-24T15:18:58.081Z"
   },
   {
    "duration": 4,
    "start_time": "2022-12-24T15:18:58.384Z"
   },
   {
    "duration": 6,
    "start_time": "2022-12-24T15:18:58.389Z"
   },
   {
    "duration": 5,
    "start_time": "2022-12-24T15:18:58.397Z"
   },
   {
    "duration": 767,
    "start_time": "2022-12-24T15:18:58.413Z"
   },
   {
    "duration": 316,
    "start_time": "2022-12-24T15:18:59.182Z"
   },
   {
    "duration": 3,
    "start_time": "2022-12-24T15:18:59.500Z"
   },
   {
    "duration": 126,
    "start_time": "2022-12-24T15:18:59.511Z"
   },
   {
    "duration": 0,
    "start_time": "2022-12-24T15:18:59.639Z"
   },
   {
    "duration": 0,
    "start_time": "2022-12-24T15:18:59.641Z"
   },
   {
    "duration": 0,
    "start_time": "2022-12-24T15:18:59.642Z"
   },
   {
    "duration": 0,
    "start_time": "2022-12-24T15:18:59.644Z"
   },
   {
    "duration": 0,
    "start_time": "2022-12-24T15:18:59.645Z"
   },
   {
    "duration": 0,
    "start_time": "2022-12-24T15:18:59.646Z"
   },
   {
    "duration": 0,
    "start_time": "2022-12-24T15:18:59.647Z"
   },
   {
    "duration": 0,
    "start_time": "2022-12-24T15:18:59.648Z"
   },
   {
    "duration": 0,
    "start_time": "2022-12-24T15:18:59.649Z"
   },
   {
    "duration": 0,
    "start_time": "2022-12-24T15:18:59.650Z"
   },
   {
    "duration": 0,
    "start_time": "2022-12-24T15:18:59.651Z"
   },
   {
    "duration": 43,
    "start_time": "2022-12-24T15:27:55.386Z"
   },
   {
    "duration": 5,
    "start_time": "2022-12-24T15:29:05.321Z"
   },
   {
    "duration": 1545,
    "start_time": "2022-12-24T15:29:20.083Z"
   },
   {
    "duration": 897,
    "start_time": "2022-12-24T15:29:21.630Z"
   },
   {
    "duration": 19,
    "start_time": "2022-12-24T15:29:22.529Z"
   },
   {
    "duration": 149,
    "start_time": "2022-12-24T15:29:22.550Z"
   },
   {
    "duration": 123,
    "start_time": "2022-12-24T15:29:22.701Z"
   },
   {
    "duration": 118,
    "start_time": "2022-12-24T15:29:22.826Z"
   },
   {
    "duration": 497,
    "start_time": "2022-12-24T15:29:22.946Z"
   },
   {
    "duration": 114,
    "start_time": "2022-12-24T15:29:23.446Z"
   },
   {
    "duration": 12,
    "start_time": "2022-12-24T15:29:23.561Z"
   },
   {
    "duration": 98,
    "start_time": "2022-12-24T15:29:23.576Z"
   },
   {
    "duration": 4,
    "start_time": "2022-12-24T15:29:23.676Z"
   },
   {
    "duration": 14,
    "start_time": "2022-12-24T15:29:23.681Z"
   },
   {
    "duration": 50,
    "start_time": "2022-12-24T15:29:23.697Z"
   },
   {
    "duration": 11,
    "start_time": "2022-12-24T15:29:23.748Z"
   },
   {
    "duration": 275,
    "start_time": "2022-12-24T15:29:23.761Z"
   },
   {
    "duration": 24,
    "start_time": "2022-12-24T15:29:24.038Z"
   },
   {
    "duration": 97,
    "start_time": "2022-12-24T15:29:24.064Z"
   },
   {
    "duration": 5,
    "start_time": "2022-12-24T15:29:24.163Z"
   },
   {
    "duration": 219,
    "start_time": "2022-12-24T15:29:24.170Z"
   },
   {
    "duration": 183,
    "start_time": "2022-12-24T15:29:24.391Z"
   },
   {
    "duration": 217,
    "start_time": "2022-12-24T15:29:24.576Z"
   },
   {
    "duration": 211,
    "start_time": "2022-12-24T15:29:24.795Z"
   },
   {
    "duration": 206,
    "start_time": "2022-12-24T15:29:25.013Z"
   },
   {
    "duration": 2051,
    "start_time": "2022-12-24T15:29:25.221Z"
   },
   {
    "duration": 14,
    "start_time": "2022-12-24T15:29:27.274Z"
   },
   {
    "duration": 48,
    "start_time": "2022-12-24T15:29:27.290Z"
   },
   {
    "duration": 1804,
    "start_time": "2022-12-24T15:29:27.340Z"
   },
   {
    "duration": 20,
    "start_time": "2022-12-24T15:29:29.147Z"
   },
   {
    "duration": 373,
    "start_time": "2022-12-24T15:29:29.169Z"
   },
   {
    "duration": 35,
    "start_time": "2022-12-24T15:29:29.543Z"
   },
   {
    "duration": 252,
    "start_time": "2022-12-24T15:29:29.580Z"
   },
   {
    "duration": 17,
    "start_time": "2022-12-24T15:29:29.833Z"
   },
   {
    "duration": 18,
    "start_time": "2022-12-24T15:29:29.851Z"
   },
   {
    "duration": 52,
    "start_time": "2022-12-24T15:29:29.871Z"
   },
   {
    "duration": 251,
    "start_time": "2022-12-24T15:29:29.925Z"
   },
   {
    "duration": 6,
    "start_time": "2022-12-24T15:29:30.178Z"
   },
   {
    "duration": 27,
    "start_time": "2022-12-24T15:29:30.186Z"
   },
   {
    "duration": 34,
    "start_time": "2022-12-24T15:29:30.215Z"
   },
   {
    "duration": 8,
    "start_time": "2022-12-24T15:29:30.251Z"
   },
   {
    "duration": 81,
    "start_time": "2022-12-24T15:29:30.262Z"
   },
   {
    "duration": 278,
    "start_time": "2022-12-24T15:29:30.346Z"
   },
   {
    "duration": 5,
    "start_time": "2022-12-24T15:29:30.625Z"
   },
   {
    "duration": 30,
    "start_time": "2022-12-24T15:29:30.632Z"
   },
   {
    "duration": 19,
    "start_time": "2022-12-24T15:29:30.664Z"
   },
   {
    "duration": 792,
    "start_time": "2022-12-24T15:29:30.684Z"
   },
   {
    "duration": 320,
    "start_time": "2022-12-24T15:29:31.478Z"
   },
   {
    "duration": 12,
    "start_time": "2022-12-24T15:29:31.800Z"
   },
   {
    "duration": 121,
    "start_time": "2022-12-24T15:29:31.814Z"
   },
   {
    "duration": 0,
    "start_time": "2022-12-24T15:29:31.937Z"
   },
   {
    "duration": 0,
    "start_time": "2022-12-24T15:29:31.938Z"
   },
   {
    "duration": 0,
    "start_time": "2022-12-24T15:29:31.940Z"
   },
   {
    "duration": 0,
    "start_time": "2022-12-24T15:29:31.941Z"
   },
   {
    "duration": 0,
    "start_time": "2022-12-24T15:29:31.943Z"
   },
   {
    "duration": 0,
    "start_time": "2022-12-24T15:29:31.944Z"
   },
   {
    "duration": 0,
    "start_time": "2022-12-24T15:29:31.945Z"
   },
   {
    "duration": 0,
    "start_time": "2022-12-24T15:29:31.947Z"
   },
   {
    "duration": 0,
    "start_time": "2022-12-24T15:29:31.948Z"
   },
   {
    "duration": 0,
    "start_time": "2022-12-24T15:29:31.949Z"
   },
   {
    "duration": 0,
    "start_time": "2022-12-24T15:29:31.951Z"
   },
   {
    "duration": 45,
    "start_time": "2022-12-24T15:40:33.231Z"
   },
   {
    "duration": 12,
    "start_time": "2022-12-24T15:40:48.431Z"
   },
   {
    "duration": 5,
    "start_time": "2022-12-24T15:44:33.271Z"
   },
   {
    "duration": 1393,
    "start_time": "2022-12-24T15:45:11.459Z"
   },
   {
    "duration": 815,
    "start_time": "2022-12-24T15:45:12.854Z"
   },
   {
    "duration": 17,
    "start_time": "2022-12-24T15:45:13.671Z"
   },
   {
    "duration": 125,
    "start_time": "2022-12-24T15:45:13.690Z"
   },
   {
    "duration": 105,
    "start_time": "2022-12-24T15:45:13.817Z"
   },
   {
    "duration": 124,
    "start_time": "2022-12-24T15:45:13.924Z"
   },
   {
    "duration": 477,
    "start_time": "2022-12-24T15:45:14.050Z"
   },
   {
    "duration": 87,
    "start_time": "2022-12-24T15:45:14.529Z"
   },
   {
    "duration": 13,
    "start_time": "2022-12-24T15:45:14.618Z"
   },
   {
    "duration": 92,
    "start_time": "2022-12-24T15:45:14.634Z"
   },
   {
    "duration": 3,
    "start_time": "2022-12-24T15:45:14.728Z"
   },
   {
    "duration": 5,
    "start_time": "2022-12-24T15:45:14.733Z"
   },
   {
    "duration": 42,
    "start_time": "2022-12-24T15:45:14.739Z"
   },
   {
    "duration": 11,
    "start_time": "2022-12-24T15:45:14.783Z"
   },
   {
    "duration": 299,
    "start_time": "2022-12-24T15:45:14.796Z"
   },
   {
    "duration": 32,
    "start_time": "2022-12-24T15:45:15.097Z"
   },
   {
    "duration": 99,
    "start_time": "2022-12-24T15:45:15.130Z"
   },
   {
    "duration": 4,
    "start_time": "2022-12-24T15:45:15.231Z"
   },
   {
    "duration": 191,
    "start_time": "2022-12-24T15:45:15.237Z"
   },
   {
    "duration": 182,
    "start_time": "2022-12-24T15:45:15.430Z"
   },
   {
    "duration": 202,
    "start_time": "2022-12-24T15:45:15.614Z"
   },
   {
    "duration": 189,
    "start_time": "2022-12-24T15:45:15.817Z"
   },
   {
    "duration": 162,
    "start_time": "2022-12-24T15:45:16.012Z"
   },
   {
    "duration": 1913,
    "start_time": "2022-12-24T15:45:16.176Z"
   },
   {
    "duration": 22,
    "start_time": "2022-12-24T15:45:18.091Z"
   },
   {
    "duration": 29,
    "start_time": "2022-12-24T15:45:18.114Z"
   },
   {
    "duration": 1837,
    "start_time": "2022-12-24T15:45:18.145Z"
   },
   {
    "duration": 28,
    "start_time": "2022-12-24T15:45:19.988Z"
   },
   {
    "duration": 371,
    "start_time": "2022-12-24T15:45:20.019Z"
   },
   {
    "duration": 39,
    "start_time": "2022-12-24T15:45:20.392Z"
   },
   {
    "duration": 243,
    "start_time": "2022-12-24T15:45:20.433Z"
   },
   {
    "duration": 21,
    "start_time": "2022-12-24T15:45:20.679Z"
   },
   {
    "duration": 24,
    "start_time": "2022-12-24T15:45:20.712Z"
   },
   {
    "duration": 30,
    "start_time": "2022-12-24T15:45:20.738Z"
   },
   {
    "duration": 262,
    "start_time": "2022-12-24T15:45:20.770Z"
   },
   {
    "duration": 5,
    "start_time": "2022-12-24T15:45:21.034Z"
   },
   {
    "duration": 8,
    "start_time": "2022-12-24T15:45:21.041Z"
   },
   {
    "duration": 32,
    "start_time": "2022-12-24T15:45:21.051Z"
   },
   {
    "duration": 33,
    "start_time": "2022-12-24T15:45:21.085Z"
   },
   {
    "duration": 72,
    "start_time": "2022-12-24T15:45:21.119Z"
   },
   {
    "duration": 281,
    "start_time": "2022-12-24T15:45:21.193Z"
   },
   {
    "duration": 5,
    "start_time": "2022-12-24T15:45:21.476Z"
   },
   {
    "duration": 6,
    "start_time": "2022-12-24T15:45:21.482Z"
   },
   {
    "duration": 5,
    "start_time": "2022-12-24T15:45:21.489Z"
   },
   {
    "duration": 755,
    "start_time": "2022-12-24T15:45:21.496Z"
   },
   {
    "duration": 314,
    "start_time": "2022-12-24T15:45:22.253Z"
   },
   {
    "duration": 5,
    "start_time": "2022-12-24T15:45:22.569Z"
   },
   {
    "duration": 154,
    "start_time": "2022-12-24T15:45:22.576Z"
   },
   {
    "duration": 0,
    "start_time": "2022-12-24T15:45:22.731Z"
   },
   {
    "duration": 0,
    "start_time": "2022-12-24T15:45:22.732Z"
   },
   {
    "duration": 0,
    "start_time": "2022-12-24T15:45:22.733Z"
   },
   {
    "duration": 0,
    "start_time": "2022-12-24T15:45:22.734Z"
   },
   {
    "duration": 0,
    "start_time": "2022-12-24T15:45:22.735Z"
   },
   {
    "duration": 0,
    "start_time": "2022-12-24T15:45:22.737Z"
   },
   {
    "duration": 0,
    "start_time": "2022-12-24T15:45:22.738Z"
   },
   {
    "duration": 0,
    "start_time": "2022-12-24T15:45:22.738Z"
   },
   {
    "duration": 0,
    "start_time": "2022-12-24T15:45:22.740Z"
   },
   {
    "duration": 0,
    "start_time": "2022-12-24T15:45:22.741Z"
   },
   {
    "duration": 0,
    "start_time": "2022-12-24T15:45:22.743Z"
   },
   {
    "duration": 335,
    "start_time": "2022-12-24T16:16:23.967Z"
   },
   {
    "duration": 19432,
    "start_time": "2022-12-24T16:19:58.381Z"
   },
   {
    "duration": 16993,
    "start_time": "2022-12-24T16:21:42.620Z"
   },
   {
    "duration": 17922,
    "start_time": "2022-12-24T16:24:20.895Z"
   },
   {
    "duration": 17677,
    "start_time": "2022-12-24T16:25:23.236Z"
   },
   {
    "duration": 44,
    "start_time": "2022-12-25T10:14:17.841Z"
   },
   {
    "duration": 1607,
    "start_time": "2022-12-25T10:14:23.792Z"
   },
   {
    "duration": 1096,
    "start_time": "2022-12-25T10:14:25.401Z"
   },
   {
    "duration": 18,
    "start_time": "2022-12-25T10:14:26.499Z"
   },
   {
    "duration": 135,
    "start_time": "2022-12-25T10:14:26.520Z"
   },
   {
    "duration": 88,
    "start_time": "2022-12-25T10:14:26.656Z"
   },
   {
    "duration": 131,
    "start_time": "2022-12-25T10:14:26.745Z"
   },
   {
    "duration": 425,
    "start_time": "2022-12-25T10:14:26.878Z"
   },
   {
    "duration": 884,
    "start_time": "2022-12-25T10:14:27.305Z"
   },
   {
    "duration": 107,
    "start_time": "2022-12-25T10:14:28.190Z"
   },
   {
    "duration": 19,
    "start_time": "2022-12-25T10:14:28.299Z"
   },
   {
    "duration": 85,
    "start_time": "2022-12-25T10:14:28.319Z"
   },
   {
    "duration": 19,
    "start_time": "2022-12-25T10:14:28.406Z"
   },
   {
    "duration": 9,
    "start_time": "2022-12-25T10:14:28.426Z"
   },
   {
    "duration": 37,
    "start_time": "2022-12-25T10:14:28.436Z"
   },
   {
    "duration": 10,
    "start_time": "2022-12-25T10:14:28.474Z"
   },
   {
    "duration": 258,
    "start_time": "2022-12-25T10:14:28.486Z"
   },
   {
    "duration": 21,
    "start_time": "2022-12-25T10:14:28.746Z"
   },
   {
    "duration": 99,
    "start_time": "2022-12-25T10:14:28.769Z"
   },
   {
    "duration": 4,
    "start_time": "2022-12-25T10:14:28.870Z"
   },
   {
    "duration": 179,
    "start_time": "2022-12-25T10:14:28.875Z"
   },
   {
    "duration": 166,
    "start_time": "2022-12-25T10:14:29.056Z"
   },
   {
    "duration": 184,
    "start_time": "2022-12-25T10:14:29.223Z"
   },
   {
    "duration": 169,
    "start_time": "2022-12-25T10:14:29.408Z"
   },
   {
    "duration": 154,
    "start_time": "2022-12-25T10:14:29.579Z"
   },
   {
    "duration": 1805,
    "start_time": "2022-12-25T10:14:29.734Z"
   },
   {
    "duration": 12,
    "start_time": "2022-12-25T10:14:31.541Z"
   },
   {
    "duration": 28,
    "start_time": "2022-12-25T10:14:31.554Z"
   },
   {
    "duration": 1758,
    "start_time": "2022-12-25T10:14:31.585Z"
   },
   {
    "duration": 16,
    "start_time": "2022-12-25T10:14:33.344Z"
   },
   {
    "duration": 320,
    "start_time": "2022-12-25T10:14:33.361Z"
   },
   {
    "duration": 40,
    "start_time": "2022-12-25T10:14:33.682Z"
   },
   {
    "duration": 215,
    "start_time": "2022-12-25T10:14:33.724Z"
   },
   {
    "duration": 17,
    "start_time": "2022-12-25T10:14:33.941Z"
   },
   {
    "duration": 15,
    "start_time": "2022-12-25T10:14:33.960Z"
   },
   {
    "duration": 48,
    "start_time": "2022-12-25T10:14:33.977Z"
   },
   {
    "duration": 227,
    "start_time": "2022-12-25T10:14:34.027Z"
   },
   {
    "duration": 7,
    "start_time": "2022-12-25T10:14:34.256Z"
   },
   {
    "duration": 13,
    "start_time": "2022-12-25T10:14:34.264Z"
   },
   {
    "duration": 37,
    "start_time": "2022-12-25T10:14:34.279Z"
   },
   {
    "duration": 7,
    "start_time": "2022-12-25T10:14:34.317Z"
   },
   {
    "duration": 70,
    "start_time": "2022-12-25T10:14:34.325Z"
   },
   {
    "duration": 4,
    "start_time": "2022-12-25T10:14:34.416Z"
   },
   {
    "duration": 6,
    "start_time": "2022-12-25T10:14:34.421Z"
   },
   {
    "duration": 5,
    "start_time": "2022-12-25T10:14:34.428Z"
   },
   {
    "duration": 814,
    "start_time": "2022-12-25T10:14:34.434Z"
   },
   {
    "duration": 328,
    "start_time": "2022-12-25T10:14:35.250Z"
   },
   {
    "duration": 363,
    "start_time": "2022-12-25T10:14:35.580Z"
   },
   {
    "duration": 20570,
    "start_time": "2022-12-25T10:14:35.945Z"
   },
   {
    "duration": 6,
    "start_time": "2022-12-25T10:14:56.518Z"
   },
   {
    "duration": 9,
    "start_time": "2022-12-25T10:14:56.615Z"
   },
   {
    "duration": 5,
    "start_time": "2022-12-25T10:14:56.626Z"
   },
   {
    "duration": 12,
    "start_time": "2022-12-25T10:14:56.632Z"
   },
   {
    "duration": 123,
    "start_time": "2022-12-25T10:14:56.645Z"
   },
   {
    "duration": 0,
    "start_time": "2022-12-25T10:14:56.770Z"
   },
   {
    "duration": 0,
    "start_time": "2022-12-25T10:14:56.771Z"
   },
   {
    "duration": 0,
    "start_time": "2022-12-25T10:14:56.773Z"
   },
   {
    "duration": 206,
    "start_time": "2022-12-25T10:21:03.204Z"
   },
   {
    "duration": 125,
    "start_time": "2022-12-25T10:25:43.450Z"
   },
   {
    "duration": 48,
    "start_time": "2022-12-25T10:27:51.871Z"
   },
   {
    "duration": 4,
    "start_time": "2022-12-25T10:28:21.168Z"
   },
   {
    "duration": 4,
    "start_time": "2022-12-25T10:30:39.739Z"
   },
   {
    "duration": 4,
    "start_time": "2022-12-25T10:31:19.139Z"
   },
   {
    "duration": 3,
    "start_time": "2022-12-25T10:35:49.031Z"
   },
   {
    "duration": 8,
    "start_time": "2022-12-25T10:38:02.714Z"
   },
   {
    "duration": 3,
    "start_time": "2022-12-25T10:49:58.247Z"
   },
   {
    "duration": 3,
    "start_time": "2022-12-25T10:55:45.302Z"
   },
   {
    "duration": 3,
    "start_time": "2022-12-25T10:56:48.082Z"
   },
   {
    "duration": 3,
    "start_time": "2022-12-25T10:59:09.284Z"
   },
   {
    "duration": 3,
    "start_time": "2022-12-25T11:02:41.828Z"
   },
   {
    "duration": 5,
    "start_time": "2022-12-25T11:03:51.402Z"
   },
   {
    "duration": 30288,
    "start_time": "2022-12-25T11:09:55.006Z"
   },
   {
    "duration": 30306,
    "start_time": "2022-12-25T11:11:38.480Z"
   },
   {
    "duration": 26408,
    "start_time": "2022-12-25T11:14:10.060Z"
   },
   {
    "duration": 29766,
    "start_time": "2022-12-25T11:22:33.531Z"
   },
   {
    "duration": 15,
    "start_time": "2022-12-25T11:38:38.627Z"
   },
   {
    "duration": 10,
    "start_time": "2022-12-25T11:40:15.815Z"
   },
   {
    "duration": 12,
    "start_time": "2022-12-25T11:41:50.414Z"
   },
   {
    "duration": 4,
    "start_time": "2022-12-25T11:49:54.839Z"
   },
   {
    "duration": 10,
    "start_time": "2022-12-25T11:50:02.677Z"
   },
   {
    "duration": 1428,
    "start_time": "2022-12-25T11:51:08.385Z"
   },
   {
    "duration": 822,
    "start_time": "2022-12-25T11:51:09.815Z"
   },
   {
    "duration": 16,
    "start_time": "2022-12-25T11:51:10.638Z"
   },
   {
    "duration": 145,
    "start_time": "2022-12-25T11:51:10.656Z"
   },
   {
    "duration": 93,
    "start_time": "2022-12-25T11:51:10.804Z"
   },
   {
    "duration": 134,
    "start_time": "2022-12-25T11:51:10.899Z"
   },
   {
    "duration": 428,
    "start_time": "2022-12-25T11:51:11.035Z"
   },
   {
    "duration": 997,
    "start_time": "2022-12-25T11:51:11.465Z"
   },
   {
    "duration": 77,
    "start_time": "2022-12-25T11:51:12.464Z"
   },
   {
    "duration": 10,
    "start_time": "2022-12-25T11:51:12.544Z"
   },
   {
    "duration": 104,
    "start_time": "2022-12-25T11:51:12.555Z"
   },
   {
    "duration": 13,
    "start_time": "2022-12-25T11:51:12.661Z"
   },
   {
    "duration": 18,
    "start_time": "2022-12-25T11:51:12.675Z"
   },
   {
    "duration": 23,
    "start_time": "2022-12-25T11:51:12.694Z"
   },
   {
    "duration": 271,
    "start_time": "2022-12-25T11:51:12.718Z"
   },
   {
    "duration": 27,
    "start_time": "2022-12-25T11:51:12.991Z"
   },
   {
    "duration": 98,
    "start_time": "2022-12-25T11:51:13.020Z"
   },
   {
    "duration": 5,
    "start_time": "2022-12-25T11:51:13.120Z"
   },
   {
    "duration": 179,
    "start_time": "2022-12-25T11:51:13.127Z"
   },
   {
    "duration": 169,
    "start_time": "2022-12-25T11:51:13.308Z"
   },
   {
    "duration": 200,
    "start_time": "2022-12-25T11:51:13.478Z"
   },
   {
    "duration": 180,
    "start_time": "2022-12-25T11:51:13.680Z"
   },
   {
    "duration": 161,
    "start_time": "2022-12-25T11:51:13.862Z"
   },
   {
    "duration": 1786,
    "start_time": "2022-12-25T11:51:14.025Z"
   },
   {
    "duration": 12,
    "start_time": "2022-12-25T11:51:15.813Z"
   },
   {
    "duration": 28,
    "start_time": "2022-12-25T11:51:15.826Z"
   },
   {
    "duration": 1725,
    "start_time": "2022-12-25T11:51:15.855Z"
   },
   {
    "duration": 18,
    "start_time": "2022-12-25T11:51:17.584Z"
   },
   {
    "duration": 314,
    "start_time": "2022-12-25T11:51:17.616Z"
   },
   {
    "duration": 29,
    "start_time": "2022-12-25T11:51:17.932Z"
   },
   {
    "duration": 230,
    "start_time": "2022-12-25T11:51:17.963Z"
   },
   {
    "duration": 24,
    "start_time": "2022-12-25T11:51:18.194Z"
   },
   {
    "duration": 15,
    "start_time": "2022-12-25T11:51:18.220Z"
   },
   {
    "duration": 26,
    "start_time": "2022-12-25T11:51:18.237Z"
   },
   {
    "duration": 231,
    "start_time": "2022-12-25T11:51:18.265Z"
   },
   {
    "duration": 5,
    "start_time": "2022-12-25T11:51:18.498Z"
   },
   {
    "duration": 16,
    "start_time": "2022-12-25T11:51:18.504Z"
   },
   {
    "duration": 28,
    "start_time": "2022-12-25T11:51:18.521Z"
   },
   {
    "duration": 7,
    "start_time": "2022-12-25T11:51:18.551Z"
   },
   {
    "duration": 93,
    "start_time": "2022-12-25T11:51:18.560Z"
   },
   {
    "duration": 4,
    "start_time": "2022-12-25T11:51:18.655Z"
   },
   {
    "duration": 131,
    "start_time": "2022-12-25T11:51:18.660Z"
   },
   {
    "duration": 156,
    "start_time": "2022-12-25T11:51:18.793Z"
   },
   {
    "duration": 4,
    "start_time": "2022-12-25T11:51:18.951Z"
   },
   {
    "duration": 12,
    "start_time": "2022-12-25T11:51:18.956Z"
   },
   {
    "duration": 6,
    "start_time": "2022-12-25T11:51:18.969Z"
   },
   {
    "duration": 6,
    "start_time": "2022-12-25T11:51:18.976Z"
   },
   {
    "duration": 10,
    "start_time": "2022-12-25T11:51:18.983Z"
   },
   {
    "duration": 4,
    "start_time": "2022-12-25T11:51:18.995Z"
   },
   {
    "duration": 15,
    "start_time": "2022-12-25T11:51:19.001Z"
   },
   {
    "duration": 3,
    "start_time": "2022-12-25T11:51:19.017Z"
   },
   {
    "duration": 6,
    "start_time": "2022-12-25T11:51:19.022Z"
   },
   {
    "duration": 7,
    "start_time": "2022-12-25T11:51:19.030Z"
   },
   {
    "duration": 33543,
    "start_time": "2022-12-25T11:51:19.039Z"
   },
   {
    "duration": 0,
    "start_time": "2022-12-25T11:51:52.584Z"
   },
   {
    "duration": 11,
    "start_time": "2022-12-25T11:53:34.527Z"
   },
   {
    "duration": 1421,
    "start_time": "2022-12-25T11:58:24.923Z"
   },
   {
    "duration": 809,
    "start_time": "2022-12-25T11:58:26.347Z"
   },
   {
    "duration": 16,
    "start_time": "2022-12-25T11:58:27.158Z"
   },
   {
    "duration": 165,
    "start_time": "2022-12-25T11:58:27.176Z"
   },
   {
    "duration": 99,
    "start_time": "2022-12-25T11:58:27.343Z"
   },
   {
    "duration": 125,
    "start_time": "2022-12-25T11:58:27.443Z"
   },
   {
    "duration": 456,
    "start_time": "2022-12-25T11:58:27.569Z"
   },
   {
    "duration": 914,
    "start_time": "2022-12-25T11:58:28.027Z"
   },
   {
    "duration": 74,
    "start_time": "2022-12-25T11:58:28.943Z"
   },
   {
    "duration": 11,
    "start_time": "2022-12-25T11:58:29.021Z"
   },
   {
    "duration": 95,
    "start_time": "2022-12-25T11:58:29.034Z"
   },
   {
    "duration": 14,
    "start_time": "2022-12-25T11:58:29.131Z"
   },
   {
    "duration": 18,
    "start_time": "2022-12-25T11:58:29.147Z"
   },
   {
    "duration": 13,
    "start_time": "2022-12-25T11:58:29.167Z"
   },
   {
    "duration": 260,
    "start_time": "2022-12-25T11:58:29.183Z"
   },
   {
    "duration": 22,
    "start_time": "2022-12-25T11:58:29.444Z"
   },
   {
    "duration": 111,
    "start_time": "2022-12-25T11:58:29.468Z"
   },
   {
    "duration": 5,
    "start_time": "2022-12-25T11:58:29.581Z"
   },
   {
    "duration": 197,
    "start_time": "2022-12-25T11:58:29.587Z"
   },
   {
    "duration": 166,
    "start_time": "2022-12-25T11:58:29.786Z"
   },
   {
    "duration": 200,
    "start_time": "2022-12-25T11:58:29.953Z"
   },
   {
    "duration": 181,
    "start_time": "2022-12-25T11:58:30.155Z"
   },
   {
    "duration": 166,
    "start_time": "2022-12-25T11:58:30.337Z"
   },
   {
    "duration": 1803,
    "start_time": "2022-12-25T11:58:30.505Z"
   },
   {
    "duration": 13,
    "start_time": "2022-12-25T11:58:32.310Z"
   },
   {
    "duration": 30,
    "start_time": "2022-12-25T11:58:32.325Z"
   },
   {
    "duration": 1829,
    "start_time": "2022-12-25T11:58:32.357Z"
   },
   {
    "duration": 24,
    "start_time": "2022-12-25T11:58:34.191Z"
   },
   {
    "duration": 322,
    "start_time": "2022-12-25T11:58:34.217Z"
   },
   {
    "duration": 32,
    "start_time": "2022-12-25T11:58:34.541Z"
   },
   {
    "duration": 232,
    "start_time": "2022-12-25T11:58:34.575Z"
   },
   {
    "duration": 17,
    "start_time": "2022-12-25T11:58:34.808Z"
   },
   {
    "duration": 15,
    "start_time": "2022-12-25T11:58:34.826Z"
   },
   {
    "duration": 28,
    "start_time": "2022-12-25T11:58:34.843Z"
   },
   {
    "duration": 237,
    "start_time": "2022-12-25T11:58:34.873Z"
   },
   {
    "duration": 5,
    "start_time": "2022-12-25T11:58:35.116Z"
   },
   {
    "duration": 8,
    "start_time": "2022-12-25T11:58:35.123Z"
   },
   {
    "duration": 29,
    "start_time": "2022-12-25T11:58:35.133Z"
   },
   {
    "duration": 7,
    "start_time": "2022-12-25T11:58:35.164Z"
   },
   {
    "duration": 93,
    "start_time": "2022-12-25T11:58:35.172Z"
   },
   {
    "duration": 4,
    "start_time": "2022-12-25T11:58:35.268Z"
   },
   {
    "duration": 150,
    "start_time": "2022-12-25T11:58:35.273Z"
   },
   {
    "duration": 148,
    "start_time": "2022-12-25T11:58:35.424Z"
   },
   {
    "duration": 5,
    "start_time": "2022-12-25T11:58:35.573Z"
   },
   {
    "duration": 6,
    "start_time": "2022-12-25T11:58:35.579Z"
   },
   {
    "duration": 10,
    "start_time": "2022-12-25T11:58:35.587Z"
   },
   {
    "duration": 5,
    "start_time": "2022-12-25T11:58:35.599Z"
   },
   {
    "duration": 9,
    "start_time": "2022-12-25T11:58:35.615Z"
   },
   {
    "duration": 19,
    "start_time": "2022-12-25T11:58:35.625Z"
   },
   {
    "duration": 5,
    "start_time": "2022-12-25T11:58:35.646Z"
   },
   {
    "duration": 6,
    "start_time": "2022-12-25T11:58:35.653Z"
   },
   {
    "duration": 16,
    "start_time": "2022-12-25T11:58:35.661Z"
   },
   {
    "duration": 7,
    "start_time": "2022-12-25T11:58:35.679Z"
   },
   {
    "duration": 34057,
    "start_time": "2022-12-25T11:58:35.688Z"
   },
   {
    "duration": 0,
    "start_time": "2022-12-25T11:59:09.747Z"
   },
   {
    "duration": 7,
    "start_time": "2022-12-25T12:09:53.103Z"
   },
   {
    "duration": 12,
    "start_time": "2022-12-25T12:10:25.918Z"
   },
   {
    "duration": 14,
    "start_time": "2022-12-25T12:11:08.808Z"
   },
   {
    "duration": 13,
    "start_time": "2022-12-25T13:05:02.370Z"
   },
   {
    "duration": 10,
    "start_time": "2022-12-25T13:08:36.783Z"
   },
   {
    "duration": 1552,
    "start_time": "2022-12-25T13:08:54.902Z"
   },
   {
    "duration": 878,
    "start_time": "2022-12-25T13:08:56.457Z"
   },
   {
    "duration": 18,
    "start_time": "2022-12-25T13:08:57.337Z"
   },
   {
    "duration": 158,
    "start_time": "2022-12-25T13:08:57.357Z"
   },
   {
    "duration": 104,
    "start_time": "2022-12-25T13:08:57.517Z"
   },
   {
    "duration": 141,
    "start_time": "2022-12-25T13:08:57.623Z"
   },
   {
    "duration": 474,
    "start_time": "2022-12-25T13:08:57.765Z"
   },
   {
    "duration": 923,
    "start_time": "2022-12-25T13:08:58.240Z"
   },
   {
    "duration": 108,
    "start_time": "2022-12-25T13:08:59.164Z"
   },
   {
    "duration": 11,
    "start_time": "2022-12-25T13:08:59.274Z"
   },
   {
    "duration": 101,
    "start_time": "2022-12-25T13:08:59.286Z"
   },
   {
    "duration": 14,
    "start_time": "2022-12-25T13:08:59.388Z"
   },
   {
    "duration": 44,
    "start_time": "2022-12-25T13:08:59.404Z"
   },
   {
    "duration": 14,
    "start_time": "2022-12-25T13:08:59.450Z"
   },
   {
    "duration": 294,
    "start_time": "2022-12-25T13:08:59.466Z"
   },
   {
    "duration": 20,
    "start_time": "2022-12-25T13:08:59.762Z"
   },
   {
    "duration": 123,
    "start_time": "2022-12-25T13:08:59.784Z"
   },
   {
    "duration": 7,
    "start_time": "2022-12-25T13:08:59.909Z"
   },
   {
    "duration": 193,
    "start_time": "2022-12-25T13:08:59.919Z"
   },
   {
    "duration": 181,
    "start_time": "2022-12-25T13:09:00.114Z"
   },
   {
    "duration": 203,
    "start_time": "2022-12-25T13:09:00.297Z"
   },
   {
    "duration": 185,
    "start_time": "2022-12-25T13:09:00.502Z"
   },
   {
    "duration": 175,
    "start_time": "2022-12-25T13:09:00.689Z"
   },
   {
    "duration": 1840,
    "start_time": "2022-12-25T13:09:00.867Z"
   },
   {
    "duration": 13,
    "start_time": "2022-12-25T13:09:02.709Z"
   },
   {
    "duration": 32,
    "start_time": "2022-12-25T13:09:02.723Z"
   },
   {
    "duration": 1917,
    "start_time": "2022-12-25T13:09:02.757Z"
   },
   {
    "duration": 16,
    "start_time": "2022-12-25T13:09:04.678Z"
   },
   {
    "duration": 321,
    "start_time": "2022-12-25T13:09:04.696Z"
   },
   {
    "duration": 29,
    "start_time": "2022-12-25T13:09:05.019Z"
   },
   {
    "duration": 220,
    "start_time": "2022-12-25T13:09:05.050Z"
   },
   {
    "duration": 15,
    "start_time": "2022-12-25T13:09:05.271Z"
   },
   {
    "duration": 36,
    "start_time": "2022-12-25T13:09:05.288Z"
   },
   {
    "duration": 27,
    "start_time": "2022-12-25T13:09:05.326Z"
   },
   {
    "duration": 218,
    "start_time": "2022-12-25T13:09:05.355Z"
   },
   {
    "duration": 5,
    "start_time": "2022-12-25T13:09:05.575Z"
   },
   {
    "duration": 8,
    "start_time": "2022-12-25T13:09:05.581Z"
   },
   {
    "duration": 47,
    "start_time": "2022-12-25T13:09:05.591Z"
   },
   {
    "duration": 6,
    "start_time": "2022-12-25T13:09:05.640Z"
   },
   {
    "duration": 91,
    "start_time": "2022-12-25T13:09:05.647Z"
   },
   {
    "duration": 5,
    "start_time": "2022-12-25T13:09:05.739Z"
   },
   {
    "duration": 22,
    "start_time": "2022-12-25T13:09:05.745Z"
   },
   {
    "duration": 130,
    "start_time": "2022-12-25T13:09:05.769Z"
   },
   {
    "duration": 155,
    "start_time": "2022-12-25T13:09:05.901Z"
   },
   {
    "duration": 5,
    "start_time": "2022-12-25T13:09:06.057Z"
   },
   {
    "duration": 11,
    "start_time": "2022-12-25T13:09:06.064Z"
   },
   {
    "duration": 6,
    "start_time": "2022-12-25T13:09:06.076Z"
   },
   {
    "duration": 138,
    "start_time": "2022-12-25T13:09:06.084Z"
   },
   {
    "duration": 0,
    "start_time": "2022-12-25T13:09:06.224Z"
   },
   {
    "duration": 0,
    "start_time": "2022-12-25T13:09:06.225Z"
   },
   {
    "duration": 0,
    "start_time": "2022-12-25T13:09:06.227Z"
   },
   {
    "duration": 0,
    "start_time": "2022-12-25T13:09:06.228Z"
   },
   {
    "duration": 0,
    "start_time": "2022-12-25T13:09:06.229Z"
   },
   {
    "duration": 0,
    "start_time": "2022-12-25T13:09:06.230Z"
   },
   {
    "duration": 0,
    "start_time": "2022-12-25T13:09:06.232Z"
   },
   {
    "duration": 0,
    "start_time": "2022-12-25T13:09:06.233Z"
   },
   {
    "duration": 15,
    "start_time": "2022-12-25T13:09:56.326Z"
   },
   {
    "duration": 11,
    "start_time": "2022-12-25T13:12:48.804Z"
   },
   {
    "duration": 3,
    "start_time": "2022-12-25T13:12:59.895Z"
   },
   {
    "duration": 11,
    "start_time": "2022-12-25T13:13:11.867Z"
   },
   {
    "duration": 1478,
    "start_time": "2022-12-25T13:13:26.153Z"
   },
   {
    "duration": 859,
    "start_time": "2022-12-25T13:13:27.633Z"
   },
   {
    "duration": 24,
    "start_time": "2022-12-25T13:13:28.494Z"
   },
   {
    "duration": 141,
    "start_time": "2022-12-25T13:13:28.520Z"
   },
   {
    "duration": 102,
    "start_time": "2022-12-25T13:13:28.662Z"
   },
   {
    "duration": 126,
    "start_time": "2022-12-25T13:13:28.765Z"
   },
   {
    "duration": 476,
    "start_time": "2022-12-25T13:13:28.893Z"
   },
   {
    "duration": 953,
    "start_time": "2022-12-25T13:13:29.370Z"
   },
   {
    "duration": 66,
    "start_time": "2022-12-25T13:13:30.324Z"
   },
   {
    "duration": 25,
    "start_time": "2022-12-25T13:13:30.392Z"
   },
   {
    "duration": 98,
    "start_time": "2022-12-25T13:13:30.418Z"
   },
   {
    "duration": 17,
    "start_time": "2022-12-25T13:13:30.517Z"
   },
   {
    "duration": 36,
    "start_time": "2022-12-25T13:13:30.535Z"
   },
   {
    "duration": 21,
    "start_time": "2022-12-25T13:13:30.574Z"
   },
   {
    "duration": 286,
    "start_time": "2022-12-25T13:13:30.597Z"
   },
   {
    "duration": 30,
    "start_time": "2022-12-25T13:13:30.885Z"
   },
   {
    "duration": 154,
    "start_time": "2022-12-25T13:13:30.918Z"
   },
   {
    "duration": 4,
    "start_time": "2022-12-25T13:13:31.074Z"
   },
   {
    "duration": 227,
    "start_time": "2022-12-25T13:13:31.079Z"
   },
   {
    "duration": 178,
    "start_time": "2022-12-25T13:13:31.308Z"
   },
   {
    "duration": 200,
    "start_time": "2022-12-25T13:13:31.487Z"
   },
   {
    "duration": 190,
    "start_time": "2022-12-25T13:13:31.689Z"
   },
   {
    "duration": 173,
    "start_time": "2022-12-25T13:13:31.881Z"
   },
   {
    "duration": 1887,
    "start_time": "2022-12-25T13:13:32.056Z"
   },
   {
    "duration": 16,
    "start_time": "2022-12-25T13:13:33.946Z"
   },
   {
    "duration": 53,
    "start_time": "2022-12-25T13:13:33.964Z"
   },
   {
    "duration": 1864,
    "start_time": "2022-12-25T13:13:34.020Z"
   },
   {
    "duration": 17,
    "start_time": "2022-12-25T13:13:35.889Z"
   },
   {
    "duration": 386,
    "start_time": "2022-12-25T13:13:35.916Z"
   },
   {
    "duration": 47,
    "start_time": "2022-12-25T13:13:36.304Z"
   },
   {
    "duration": 291,
    "start_time": "2022-12-25T13:13:36.354Z"
   },
   {
    "duration": 16,
    "start_time": "2022-12-25T13:13:36.647Z"
   },
   {
    "duration": 17,
    "start_time": "2022-12-25T13:13:36.665Z"
   },
   {
    "duration": 56,
    "start_time": "2022-12-25T13:13:36.684Z"
   },
   {
    "duration": 221,
    "start_time": "2022-12-25T13:13:36.742Z"
   },
   {
    "duration": 5,
    "start_time": "2022-12-25T13:13:36.964Z"
   },
   {
    "duration": 7,
    "start_time": "2022-12-25T13:13:36.971Z"
   },
   {
    "duration": 49,
    "start_time": "2022-12-25T13:13:36.980Z"
   },
   {
    "duration": 7,
    "start_time": "2022-12-25T13:13:37.030Z"
   },
   {
    "duration": 86,
    "start_time": "2022-12-25T13:13:37.039Z"
   },
   {
    "duration": 4,
    "start_time": "2022-12-25T13:13:37.127Z"
   },
   {
    "duration": 16,
    "start_time": "2022-12-25T13:13:37.133Z"
   },
   {
    "duration": 177,
    "start_time": "2022-12-25T13:13:37.151Z"
   },
   {
    "duration": 151,
    "start_time": "2022-12-25T13:13:37.330Z"
   },
   {
    "duration": 4,
    "start_time": "2022-12-25T13:13:37.483Z"
   },
   {
    "duration": 7,
    "start_time": "2022-12-25T13:13:37.488Z"
   },
   {
    "duration": 19,
    "start_time": "2022-12-25T13:13:37.497Z"
   },
   {
    "duration": 6,
    "start_time": "2022-12-25T13:13:37.517Z"
   },
   {
    "duration": 11,
    "start_time": "2022-12-25T13:13:37.525Z"
   },
   {
    "duration": 3,
    "start_time": "2022-12-25T13:13:37.538Z"
   },
   {
    "duration": 8,
    "start_time": "2022-12-25T13:13:37.543Z"
   },
   {
    "duration": 9,
    "start_time": "2022-12-25T13:13:37.553Z"
   },
   {
    "duration": 8,
    "start_time": "2022-12-25T13:13:37.564Z"
   },
   {
    "duration": 8,
    "start_time": "2022-12-25T13:13:37.574Z"
   },
   {
    "duration": 166,
    "start_time": "2022-12-25T13:13:37.584Z"
   },
   {
    "duration": 1,
    "start_time": "2022-12-25T13:13:37.752Z"
   },
   {
    "duration": 4,
    "start_time": "2022-12-25T13:24:24.111Z"
   },
   {
    "duration": 30,
    "start_time": "2022-12-25T13:24:31.614Z"
   },
   {
    "duration": 1459,
    "start_time": "2022-12-25T13:24:41.082Z"
   },
   {
    "duration": 780,
    "start_time": "2022-12-25T13:24:42.543Z"
   },
   {
    "duration": 18,
    "start_time": "2022-12-25T13:24:43.324Z"
   },
   {
    "duration": 138,
    "start_time": "2022-12-25T13:24:43.344Z"
   },
   {
    "duration": 96,
    "start_time": "2022-12-25T13:24:43.484Z"
   },
   {
    "duration": 136,
    "start_time": "2022-12-25T13:24:43.581Z"
   },
   {
    "duration": 448,
    "start_time": "2022-12-25T13:24:43.719Z"
   },
   {
    "duration": 892,
    "start_time": "2022-12-25T13:24:44.168Z"
   },
   {
    "duration": 102,
    "start_time": "2022-12-25T13:24:45.061Z"
   },
   {
    "duration": 12,
    "start_time": "2022-12-25T13:24:45.166Z"
   },
   {
    "duration": 105,
    "start_time": "2022-12-25T13:24:45.179Z"
   },
   {
    "duration": 13,
    "start_time": "2022-12-25T13:24:45.286Z"
   },
   {
    "duration": 42,
    "start_time": "2022-12-25T13:24:45.301Z"
   },
   {
    "duration": 11,
    "start_time": "2022-12-25T13:24:45.345Z"
   },
   {
    "duration": 269,
    "start_time": "2022-12-25T13:24:45.358Z"
   },
   {
    "duration": 20,
    "start_time": "2022-12-25T13:24:45.629Z"
   },
   {
    "duration": 99,
    "start_time": "2022-12-25T13:24:45.651Z"
   },
   {
    "duration": 4,
    "start_time": "2022-12-25T13:24:45.752Z"
   },
   {
    "duration": 184,
    "start_time": "2022-12-25T13:24:45.757Z"
   },
   {
    "duration": 172,
    "start_time": "2022-12-25T13:24:45.943Z"
   },
   {
    "duration": 216,
    "start_time": "2022-12-25T13:24:46.117Z"
   },
   {
    "duration": 215,
    "start_time": "2022-12-25T13:24:46.335Z"
   },
   {
    "duration": 158,
    "start_time": "2022-12-25T13:24:46.552Z"
   },
   {
    "duration": 1760,
    "start_time": "2022-12-25T13:24:46.715Z"
   },
   {
    "duration": 12,
    "start_time": "2022-12-25T13:24:48.477Z"
   },
   {
    "duration": 39,
    "start_time": "2022-12-25T13:24:48.491Z"
   },
   {
    "duration": 1746,
    "start_time": "2022-12-25T13:24:48.531Z"
   },
   {
    "duration": 16,
    "start_time": "2022-12-25T13:24:50.281Z"
   },
   {
    "duration": 331,
    "start_time": "2022-12-25T13:24:50.299Z"
   },
   {
    "duration": 30,
    "start_time": "2022-12-25T13:24:50.632Z"
   },
   {
    "duration": 231,
    "start_time": "2022-12-25T13:24:50.663Z"
   },
   {
    "duration": 20,
    "start_time": "2022-12-25T13:24:50.896Z"
   },
   {
    "duration": 15,
    "start_time": "2022-12-25T13:24:50.918Z"
   },
   {
    "duration": 27,
    "start_time": "2022-12-25T13:24:50.934Z"
   },
   {
    "duration": 223,
    "start_time": "2022-12-25T13:24:50.963Z"
   },
   {
    "duration": 6,
    "start_time": "2022-12-25T13:24:51.187Z"
   },
   {
    "duration": 23,
    "start_time": "2022-12-25T13:24:51.194Z"
   },
   {
    "duration": 30,
    "start_time": "2022-12-25T13:24:51.218Z"
   },
   {
    "duration": 7,
    "start_time": "2022-12-25T13:24:51.249Z"
   },
   {
    "duration": 91,
    "start_time": "2022-12-25T13:24:51.258Z"
   },
   {
    "duration": 7,
    "start_time": "2022-12-25T13:24:51.351Z"
   },
   {
    "duration": 17,
    "start_time": "2022-12-25T13:24:51.360Z"
   },
   {
    "duration": 137,
    "start_time": "2022-12-25T13:24:51.379Z"
   },
   {
    "duration": 158,
    "start_time": "2022-12-25T13:24:51.518Z"
   },
   {
    "duration": 5,
    "start_time": "2022-12-25T13:24:51.678Z"
   },
   {
    "duration": 10,
    "start_time": "2022-12-25T13:24:51.685Z"
   },
   {
    "duration": 20,
    "start_time": "2022-12-25T13:24:51.696Z"
   },
   {
    "duration": 15,
    "start_time": "2022-12-25T13:24:51.717Z"
   },
   {
    "duration": 15,
    "start_time": "2022-12-25T13:24:51.733Z"
   },
   {
    "duration": 3,
    "start_time": "2022-12-25T13:24:51.750Z"
   },
   {
    "duration": 13,
    "start_time": "2022-12-25T13:24:51.754Z"
   },
   {
    "duration": 20,
    "start_time": "2022-12-25T13:24:51.768Z"
   },
   {
    "duration": 5,
    "start_time": "2022-12-25T13:24:51.790Z"
   },
   {
    "duration": 17,
    "start_time": "2022-12-25T13:24:51.797Z"
   },
   {
    "duration": 29407,
    "start_time": "2022-12-25T13:24:51.815Z"
   },
   {
    "duration": 142,
    "start_time": "2022-12-25T13:25:21.224Z"
   },
   {
    "duration": 4,
    "start_time": "2022-12-25T13:29:54.091Z"
   },
   {
    "duration": 17,
    "start_time": "2022-12-25T13:39:33.787Z"
   },
   {
    "duration": 17,
    "start_time": "2022-12-25T13:44:58.347Z"
   },
   {
    "duration": 4,
    "start_time": "2022-12-25T13:48:24.978Z"
   },
   {
    "duration": 5,
    "start_time": "2022-12-25T13:49:17.433Z"
   },
   {
    "duration": 11,
    "start_time": "2022-12-25T13:51:59.088Z"
   },
   {
    "duration": 16,
    "start_time": "2022-12-25T13:52:34.291Z"
   },
   {
    "duration": 1571,
    "start_time": "2022-12-25T13:52:53.813Z"
   },
   {
    "duration": 845,
    "start_time": "2022-12-25T13:52:55.386Z"
   },
   {
    "duration": 22,
    "start_time": "2022-12-25T13:52:56.234Z"
   },
   {
    "duration": 185,
    "start_time": "2022-12-25T13:52:56.259Z"
   },
   {
    "duration": 128,
    "start_time": "2022-12-25T13:52:56.447Z"
   },
   {
    "duration": 162,
    "start_time": "2022-12-25T13:52:56.577Z"
   },
   {
    "duration": 515,
    "start_time": "2022-12-25T13:52:56.742Z"
   },
   {
    "duration": 1001,
    "start_time": "2022-12-25T13:52:57.259Z"
   },
   {
    "duration": 77,
    "start_time": "2022-12-25T13:52:58.262Z"
   },
   {
    "duration": 11,
    "start_time": "2022-12-25T13:52:58.342Z"
   },
   {
    "duration": 102,
    "start_time": "2022-12-25T13:52:58.354Z"
   },
   {
    "duration": 15,
    "start_time": "2022-12-25T13:52:58.458Z"
   },
   {
    "duration": 20,
    "start_time": "2022-12-25T13:52:58.476Z"
   },
   {
    "duration": 24,
    "start_time": "2022-12-25T13:52:58.498Z"
   },
   {
    "duration": 266,
    "start_time": "2022-12-25T13:52:58.524Z"
   },
   {
    "duration": 26,
    "start_time": "2022-12-25T13:52:58.792Z"
   },
   {
    "duration": 99,
    "start_time": "2022-12-25T13:52:58.819Z"
   },
   {
    "duration": 5,
    "start_time": "2022-12-25T13:52:58.920Z"
   },
   {
    "duration": 206,
    "start_time": "2022-12-25T13:52:58.927Z"
   },
   {
    "duration": 175,
    "start_time": "2022-12-25T13:52:59.135Z"
   },
   {
    "duration": 193,
    "start_time": "2022-12-25T13:52:59.312Z"
   },
   {
    "duration": 195,
    "start_time": "2022-12-25T13:52:59.506Z"
   },
   {
    "duration": 167,
    "start_time": "2022-12-25T13:52:59.703Z"
   },
   {
    "duration": 1843,
    "start_time": "2022-12-25T13:52:59.872Z"
   },
   {
    "duration": 14,
    "start_time": "2022-12-25T13:53:01.718Z"
   },
   {
    "duration": 33,
    "start_time": "2022-12-25T13:53:01.734Z"
   },
   {
    "duration": 2044,
    "start_time": "2022-12-25T13:53:01.769Z"
   },
   {
    "duration": 21,
    "start_time": "2022-12-25T13:53:03.820Z"
   },
   {
    "duration": 384,
    "start_time": "2022-12-25T13:53:03.843Z"
   },
   {
    "duration": 36,
    "start_time": "2022-12-25T13:53:04.228Z"
   },
   {
    "duration": 355,
    "start_time": "2022-12-25T13:53:04.267Z"
   },
   {
    "duration": 21,
    "start_time": "2022-12-25T13:53:04.624Z"
   },
   {
    "duration": 46,
    "start_time": "2022-12-25T13:53:04.649Z"
   },
   {
    "duration": 38,
    "start_time": "2022-12-25T13:53:04.697Z"
   },
   {
    "duration": 305,
    "start_time": "2022-12-25T13:53:04.737Z"
   },
   {
    "duration": 8,
    "start_time": "2022-12-25T13:53:05.044Z"
   },
   {
    "duration": 11,
    "start_time": "2022-12-25T13:53:05.054Z"
   },
   {
    "duration": 51,
    "start_time": "2022-12-25T13:53:05.067Z"
   },
   {
    "duration": 9,
    "start_time": "2022-12-25T13:53:05.120Z"
   },
   {
    "duration": 142,
    "start_time": "2022-12-25T13:53:05.131Z"
   },
   {
    "duration": 11,
    "start_time": "2022-12-25T13:53:05.275Z"
   },
   {
    "duration": 37,
    "start_time": "2022-12-25T13:53:05.288Z"
   },
   {
    "duration": 173,
    "start_time": "2022-12-25T13:53:05.327Z"
   },
   {
    "duration": 168,
    "start_time": "2022-12-25T13:53:05.502Z"
   },
   {
    "duration": 5,
    "start_time": "2022-12-25T13:53:05.672Z"
   },
   {
    "duration": 11,
    "start_time": "2022-12-25T13:53:05.679Z"
   },
   {
    "duration": 23,
    "start_time": "2022-12-25T13:53:05.693Z"
   },
   {
    "duration": 8,
    "start_time": "2022-12-25T13:53:05.719Z"
   },
   {
    "duration": 16,
    "start_time": "2022-12-25T13:53:05.730Z"
   },
   {
    "duration": 22,
    "start_time": "2022-12-25T13:53:05.748Z"
   },
   {
    "duration": 8,
    "start_time": "2022-12-25T13:53:05.773Z"
   },
   {
    "duration": 11,
    "start_time": "2022-12-25T13:53:05.783Z"
   },
   {
    "duration": 5,
    "start_time": "2022-12-25T13:53:05.797Z"
   },
   {
    "duration": 19,
    "start_time": "2022-12-25T13:53:05.804Z"
   },
   {
    "duration": 11,
    "start_time": "2022-12-25T13:53:05.825Z"
   },
   {
    "duration": 25459,
    "start_time": "2022-12-25T13:53:05.837Z"
   },
   {
    "duration": 135,
    "start_time": "2022-12-25T13:53:31.298Z"
   },
   {
    "duration": 16,
    "start_time": "2022-12-25T13:56:15.300Z"
   },
   {
    "duration": 1465,
    "start_time": "2022-12-25T13:56:26.989Z"
   },
   {
    "duration": 853,
    "start_time": "2022-12-25T13:56:28.456Z"
   },
   {
    "duration": 21,
    "start_time": "2022-12-25T13:56:29.311Z"
   },
   {
    "duration": 142,
    "start_time": "2022-12-25T13:56:29.334Z"
   },
   {
    "duration": 112,
    "start_time": "2022-12-25T13:56:29.479Z"
   },
   {
    "duration": 132,
    "start_time": "2022-12-25T13:56:29.593Z"
   },
   {
    "duration": 475,
    "start_time": "2022-12-25T13:56:29.727Z"
   },
   {
    "duration": 938,
    "start_time": "2022-12-25T13:56:30.205Z"
   },
   {
    "duration": 75,
    "start_time": "2022-12-25T13:56:31.144Z"
   },
   {
    "duration": 11,
    "start_time": "2022-12-25T13:56:31.223Z"
   },
   {
    "duration": 103,
    "start_time": "2022-12-25T13:56:31.236Z"
   },
   {
    "duration": 15,
    "start_time": "2022-12-25T13:56:31.340Z"
   },
   {
    "duration": 16,
    "start_time": "2022-12-25T13:56:31.357Z"
   },
   {
    "duration": 11,
    "start_time": "2022-12-25T13:56:31.374Z"
   },
   {
    "duration": 292,
    "start_time": "2022-12-25T13:56:31.387Z"
   },
   {
    "duration": 41,
    "start_time": "2022-12-25T13:56:31.682Z"
   },
   {
    "duration": 111,
    "start_time": "2022-12-25T13:56:31.725Z"
   },
   {
    "duration": 5,
    "start_time": "2022-12-25T13:56:31.837Z"
   },
   {
    "duration": 185,
    "start_time": "2022-12-25T13:56:31.843Z"
   },
   {
    "duration": 186,
    "start_time": "2022-12-25T13:56:32.029Z"
   },
   {
    "duration": 214,
    "start_time": "2022-12-25T13:56:32.217Z"
   },
   {
    "duration": 204,
    "start_time": "2022-12-25T13:56:32.433Z"
   },
   {
    "duration": 168,
    "start_time": "2022-12-25T13:56:32.639Z"
   },
   {
    "duration": 1874,
    "start_time": "2022-12-25T13:56:32.808Z"
   },
   {
    "duration": 13,
    "start_time": "2022-12-25T13:56:34.684Z"
   },
   {
    "duration": 40,
    "start_time": "2022-12-25T13:56:34.699Z"
   },
   {
    "duration": 2002,
    "start_time": "2022-12-25T13:56:34.740Z"
   },
   {
    "duration": 16,
    "start_time": "2022-12-25T13:56:36.746Z"
   },
   {
    "duration": 337,
    "start_time": "2022-12-25T13:56:36.764Z"
   },
   {
    "duration": 40,
    "start_time": "2022-12-25T13:56:37.103Z"
   },
   {
    "duration": 234,
    "start_time": "2022-12-25T13:56:37.145Z"
   },
   {
    "duration": 15,
    "start_time": "2022-12-25T13:56:37.382Z"
   },
   {
    "duration": 30,
    "start_time": "2022-12-25T13:56:37.399Z"
   },
   {
    "duration": 30,
    "start_time": "2022-12-25T13:56:37.431Z"
   },
   {
    "duration": 253,
    "start_time": "2022-12-25T13:56:37.463Z"
   },
   {
    "duration": 7,
    "start_time": "2022-12-25T13:56:37.719Z"
   },
   {
    "duration": 10,
    "start_time": "2022-12-25T13:56:37.728Z"
   },
   {
    "duration": 39,
    "start_time": "2022-12-25T13:56:37.740Z"
   },
   {
    "duration": 36,
    "start_time": "2022-12-25T13:56:37.781Z"
   },
   {
    "duration": 110,
    "start_time": "2022-12-25T13:56:37.819Z"
   },
   {
    "duration": 5,
    "start_time": "2022-12-25T13:56:37.931Z"
   },
   {
    "duration": 16,
    "start_time": "2022-12-25T13:56:37.937Z"
   },
   {
    "duration": 151,
    "start_time": "2022-12-25T13:56:37.955Z"
   },
   {
    "duration": 156,
    "start_time": "2022-12-25T13:56:38.108Z"
   },
   {
    "duration": 5,
    "start_time": "2022-12-25T13:56:38.266Z"
   },
   {
    "duration": 5,
    "start_time": "2022-12-25T13:56:38.273Z"
   },
   {
    "duration": 7,
    "start_time": "2022-12-25T13:56:38.280Z"
   },
   {
    "duration": 7,
    "start_time": "2022-12-25T13:56:38.289Z"
   },
   {
    "duration": 12,
    "start_time": "2022-12-25T13:56:38.316Z"
   },
   {
    "duration": 3,
    "start_time": "2022-12-25T13:56:38.331Z"
   },
   {
    "duration": 6,
    "start_time": "2022-12-25T13:56:38.336Z"
   },
   {
    "duration": 7,
    "start_time": "2022-12-25T13:56:38.344Z"
   },
   {
    "duration": 5,
    "start_time": "2022-12-25T13:56:38.353Z"
   },
   {
    "duration": 8,
    "start_time": "2022-12-25T13:56:38.360Z"
   },
   {
    "duration": 18,
    "start_time": "2022-12-25T13:56:38.369Z"
   },
   {
    "duration": 23730,
    "start_time": "2022-12-25T13:56:38.389Z"
   },
   {
    "duration": 16026,
    "start_time": "2022-12-25T13:57:02.122Z"
   },
   {
    "duration": 16689,
    "start_time": "2022-12-25T14:06:42.437Z"
   },
   {
    "duration": 3,
    "start_time": "2022-12-25T14:08:42.158Z"
   },
   {
    "duration": 14,
    "start_time": "2022-12-25T14:08:48.245Z"
   },
   {
    "duration": 4,
    "start_time": "2022-12-25T14:09:28.401Z"
   },
   {
    "duration": 19,
    "start_time": "2022-12-25T14:10:25.097Z"
   },
   {
    "duration": 1443,
    "start_time": "2022-12-25T14:11:16.114Z"
   },
   {
    "duration": 852,
    "start_time": "2022-12-25T14:11:17.559Z"
   },
   {
    "duration": 20,
    "start_time": "2022-12-25T14:11:18.413Z"
   },
   {
    "duration": 170,
    "start_time": "2022-12-25T14:11:18.436Z"
   },
   {
    "duration": 111,
    "start_time": "2022-12-25T14:11:18.608Z"
   },
   {
    "duration": 138,
    "start_time": "2022-12-25T14:11:18.721Z"
   },
   {
    "duration": 466,
    "start_time": "2022-12-25T14:11:18.860Z"
   },
   {
    "duration": 942,
    "start_time": "2022-12-25T14:11:19.328Z"
   },
   {
    "duration": 64,
    "start_time": "2022-12-25T14:11:20.272Z"
   },
   {
    "duration": 10,
    "start_time": "2022-12-25T14:11:20.339Z"
   },
   {
    "duration": 97,
    "start_time": "2022-12-25T14:11:20.350Z"
   },
   {
    "duration": 15,
    "start_time": "2022-12-25T14:11:20.448Z"
   },
   {
    "duration": 15,
    "start_time": "2022-12-25T14:11:20.464Z"
   },
   {
    "duration": 10,
    "start_time": "2022-12-25T14:11:20.481Z"
   },
   {
    "duration": 266,
    "start_time": "2022-12-25T14:11:20.493Z"
   },
   {
    "duration": 22,
    "start_time": "2022-12-25T14:11:20.761Z"
   },
   {
    "duration": 103,
    "start_time": "2022-12-25T14:11:20.784Z"
   },
   {
    "duration": 4,
    "start_time": "2022-12-25T14:11:20.889Z"
   },
   {
    "duration": 197,
    "start_time": "2022-12-25T14:11:20.895Z"
   },
   {
    "duration": 171,
    "start_time": "2022-12-25T14:11:21.094Z"
   },
   {
    "duration": 193,
    "start_time": "2022-12-25T14:11:21.267Z"
   },
   {
    "duration": 175,
    "start_time": "2022-12-25T14:11:21.462Z"
   },
   {
    "duration": 168,
    "start_time": "2022-12-25T14:11:21.638Z"
   },
   {
    "duration": 1766,
    "start_time": "2022-12-25T14:11:21.808Z"
   },
   {
    "duration": 12,
    "start_time": "2022-12-25T14:11:23.575Z"
   },
   {
    "duration": 45,
    "start_time": "2022-12-25T14:11:23.589Z"
   },
   {
    "duration": 1705,
    "start_time": "2022-12-25T14:11:23.636Z"
   },
   {
    "duration": 16,
    "start_time": "2022-12-25T14:11:25.344Z"
   },
   {
    "duration": 322,
    "start_time": "2022-12-25T14:11:25.361Z"
   },
   {
    "duration": 38,
    "start_time": "2022-12-25T14:11:25.684Z"
   },
   {
    "duration": 211,
    "start_time": "2022-12-25T14:11:25.724Z"
   },
   {
    "duration": 16,
    "start_time": "2022-12-25T14:11:25.937Z"
   },
   {
    "duration": 15,
    "start_time": "2022-12-25T14:11:25.954Z"
   },
   {
    "duration": 47,
    "start_time": "2022-12-25T14:11:25.971Z"
   },
   {
    "duration": 221,
    "start_time": "2022-12-25T14:11:26.020Z"
   },
   {
    "duration": 7,
    "start_time": "2022-12-25T14:11:26.243Z"
   },
   {
    "duration": 14,
    "start_time": "2022-12-25T14:11:26.251Z"
   },
   {
    "duration": 53,
    "start_time": "2022-12-25T14:11:26.266Z"
   },
   {
    "duration": 10,
    "start_time": "2022-12-25T14:11:26.321Z"
   },
   {
    "duration": 114,
    "start_time": "2022-12-25T14:11:26.333Z"
   },
   {
    "duration": 6,
    "start_time": "2022-12-25T14:11:26.449Z"
   },
   {
    "duration": 16,
    "start_time": "2022-12-25T14:11:26.457Z"
   },
   {
    "duration": 129,
    "start_time": "2022-12-25T14:11:26.475Z"
   },
   {
    "duration": 152,
    "start_time": "2022-12-25T14:11:26.606Z"
   },
   {
    "duration": 5,
    "start_time": "2022-12-25T14:11:26.760Z"
   },
   {
    "duration": 7,
    "start_time": "2022-12-25T14:11:26.766Z"
   },
   {
    "duration": 8,
    "start_time": "2022-12-25T14:11:26.775Z"
   },
   {
    "duration": 8,
    "start_time": "2022-12-25T14:11:26.785Z"
   },
   {
    "duration": 24,
    "start_time": "2022-12-25T14:11:26.795Z"
   },
   {
    "duration": 3,
    "start_time": "2022-12-25T14:11:26.821Z"
   },
   {
    "duration": 7,
    "start_time": "2022-12-25T14:11:26.825Z"
   },
   {
    "duration": 7,
    "start_time": "2022-12-25T14:11:26.833Z"
   },
   {
    "duration": 11,
    "start_time": "2022-12-25T14:11:26.841Z"
   },
   {
    "duration": 15,
    "start_time": "2022-12-25T14:11:26.853Z"
   },
   {
    "duration": 9,
    "start_time": "2022-12-25T14:11:26.869Z"
   },
   {
    "duration": 27916,
    "start_time": "2022-12-25T14:11:26.880Z"
   },
   {
    "duration": 129,
    "start_time": "2022-12-25T14:11:54.797Z"
   },
   {
    "duration": 0,
    "start_time": "2022-12-25T14:11:54.927Z"
   },
   {
    "duration": 14,
    "start_time": "2022-12-25T14:13:31.560Z"
   },
   {
    "duration": 16,
    "start_time": "2022-12-25T14:14:01.252Z"
   },
   {
    "duration": 1395,
    "start_time": "2022-12-25T14:14:07.231Z"
   },
   {
    "duration": 803,
    "start_time": "2022-12-25T14:14:08.628Z"
   },
   {
    "duration": 16,
    "start_time": "2022-12-25T14:14:09.433Z"
   },
   {
    "duration": 144,
    "start_time": "2022-12-25T14:14:09.452Z"
   },
   {
    "duration": 103,
    "start_time": "2022-12-25T14:14:09.597Z"
   },
   {
    "duration": 139,
    "start_time": "2022-12-25T14:14:09.702Z"
   },
   {
    "duration": 451,
    "start_time": "2022-12-25T14:14:09.843Z"
   },
   {
    "duration": 943,
    "start_time": "2022-12-25T14:14:10.296Z"
   },
   {
    "duration": 57,
    "start_time": "2022-12-25T14:14:11.240Z"
   },
   {
    "duration": 20,
    "start_time": "2022-12-25T14:14:11.300Z"
   },
   {
    "duration": 97,
    "start_time": "2022-12-25T14:14:11.322Z"
   },
   {
    "duration": 14,
    "start_time": "2022-12-25T14:14:11.421Z"
   },
   {
    "duration": 17,
    "start_time": "2022-12-25T14:14:11.437Z"
   },
   {
    "duration": 10,
    "start_time": "2022-12-25T14:14:11.456Z"
   },
   {
    "duration": 270,
    "start_time": "2022-12-25T14:14:11.467Z"
   },
   {
    "duration": 22,
    "start_time": "2022-12-25T14:14:11.738Z"
   },
   {
    "duration": 109,
    "start_time": "2022-12-25T14:14:11.761Z"
   },
   {
    "duration": 4,
    "start_time": "2022-12-25T14:14:11.872Z"
   },
   {
    "duration": 201,
    "start_time": "2022-12-25T14:14:11.878Z"
   },
   {
    "duration": 205,
    "start_time": "2022-12-25T14:14:12.081Z"
   },
   {
    "duration": 215,
    "start_time": "2022-12-25T14:14:12.288Z"
   },
   {
    "duration": 202,
    "start_time": "2022-12-25T14:14:12.505Z"
   },
   {
    "duration": 155,
    "start_time": "2022-12-25T14:14:12.709Z"
   },
   {
    "duration": 1845,
    "start_time": "2022-12-25T14:14:12.865Z"
   },
   {
    "duration": 13,
    "start_time": "2022-12-25T14:14:14.716Z"
   },
   {
    "duration": 30,
    "start_time": "2022-12-25T14:14:14.731Z"
   },
   {
    "duration": 1841,
    "start_time": "2022-12-25T14:14:14.763Z"
   },
   {
    "duration": 21,
    "start_time": "2022-12-25T14:14:16.608Z"
   },
   {
    "duration": 328,
    "start_time": "2022-12-25T14:14:16.631Z"
   },
   {
    "duration": 31,
    "start_time": "2022-12-25T14:14:16.960Z"
   },
   {
    "duration": 228,
    "start_time": "2022-12-25T14:14:16.993Z"
   },
   {
    "duration": 16,
    "start_time": "2022-12-25T14:14:17.223Z"
   },
   {
    "duration": 16,
    "start_time": "2022-12-25T14:14:17.241Z"
   },
   {
    "duration": 30,
    "start_time": "2022-12-25T14:14:17.259Z"
   },
   {
    "duration": 238,
    "start_time": "2022-12-25T14:14:17.291Z"
   },
   {
    "duration": 5,
    "start_time": "2022-12-25T14:14:17.531Z"
   },
   {
    "duration": 13,
    "start_time": "2022-12-25T14:14:17.538Z"
   },
   {
    "duration": 27,
    "start_time": "2022-12-25T14:14:17.553Z"
   },
   {
    "duration": 7,
    "start_time": "2022-12-25T14:14:17.581Z"
   },
   {
    "duration": 73,
    "start_time": "2022-12-25T14:14:17.616Z"
   },
   {
    "duration": 4,
    "start_time": "2022-12-25T14:14:17.691Z"
   },
   {
    "duration": 27,
    "start_time": "2022-12-25T14:14:17.696Z"
   },
   {
    "duration": 136,
    "start_time": "2022-12-25T14:14:17.724Z"
   },
   {
    "duration": 143,
    "start_time": "2022-12-25T14:14:17.862Z"
   },
   {
    "duration": 5,
    "start_time": "2022-12-25T14:14:18.016Z"
   },
   {
    "duration": 7,
    "start_time": "2022-12-25T14:14:18.022Z"
   },
   {
    "duration": 5,
    "start_time": "2022-12-25T14:14:18.031Z"
   },
   {
    "duration": 4,
    "start_time": "2022-12-25T14:14:18.038Z"
   },
   {
    "duration": 12,
    "start_time": "2022-12-25T14:14:18.044Z"
   },
   {
    "duration": 4,
    "start_time": "2022-12-25T14:14:18.057Z"
   },
   {
    "duration": 6,
    "start_time": "2022-12-25T14:14:18.063Z"
   },
   {
    "duration": 7,
    "start_time": "2022-12-25T14:14:18.071Z"
   },
   {
    "duration": 7,
    "start_time": "2022-12-25T14:14:18.079Z"
   },
   {
    "duration": 5,
    "start_time": "2022-12-25T14:14:18.116Z"
   },
   {
    "duration": 26469,
    "start_time": "2022-12-25T14:14:18.122Z"
   },
   {
    "duration": 143,
    "start_time": "2022-12-25T14:14:44.593Z"
   },
   {
    "duration": 0,
    "start_time": "2022-12-25T14:14:44.738Z"
   },
   {
    "duration": 3,
    "start_time": "2022-12-25T14:36:33.773Z"
   },
   {
    "duration": 1463,
    "start_time": "2022-12-25T14:36:41.514Z"
   },
   {
    "duration": 782,
    "start_time": "2022-12-25T14:36:42.979Z"
   },
   {
    "duration": 16,
    "start_time": "2022-12-25T14:36:43.763Z"
   },
   {
    "duration": 139,
    "start_time": "2022-12-25T14:36:43.781Z"
   },
   {
    "duration": 102,
    "start_time": "2022-12-25T14:36:43.921Z"
   },
   {
    "duration": 127,
    "start_time": "2022-12-25T14:36:44.025Z"
   },
   {
    "duration": 435,
    "start_time": "2022-12-25T14:36:44.154Z"
   },
   {
    "duration": 921,
    "start_time": "2022-12-25T14:36:44.591Z"
   },
   {
    "duration": 115,
    "start_time": "2022-12-25T14:36:45.513Z"
   },
   {
    "duration": 11,
    "start_time": "2022-12-25T14:36:45.630Z"
   },
   {
    "duration": 95,
    "start_time": "2022-12-25T14:36:45.643Z"
   },
   {
    "duration": 17,
    "start_time": "2022-12-25T14:36:45.740Z"
   },
   {
    "duration": 39,
    "start_time": "2022-12-25T14:36:45.758Z"
   },
   {
    "duration": 16,
    "start_time": "2022-12-25T14:36:45.799Z"
   },
   {
    "duration": 251,
    "start_time": "2022-12-25T14:36:45.817Z"
   },
   {
    "duration": 21,
    "start_time": "2022-12-25T14:36:46.070Z"
   },
   {
    "duration": 96,
    "start_time": "2022-12-25T14:36:46.092Z"
   },
   {
    "duration": 3,
    "start_time": "2022-12-25T14:36:46.190Z"
   },
   {
    "duration": 230,
    "start_time": "2022-12-25T14:36:46.195Z"
   },
   {
    "duration": 194,
    "start_time": "2022-12-25T14:36:46.427Z"
   },
   {
    "duration": 197,
    "start_time": "2022-12-25T14:36:46.622Z"
   },
   {
    "duration": 176,
    "start_time": "2022-12-25T14:36:46.821Z"
   },
   {
    "duration": 157,
    "start_time": "2022-12-25T14:36:46.999Z"
   },
   {
    "duration": 1764,
    "start_time": "2022-12-25T14:36:47.158Z"
   },
   {
    "duration": 12,
    "start_time": "2022-12-25T14:36:48.924Z"
   },
   {
    "duration": 27,
    "start_time": "2022-12-25T14:36:48.937Z"
   },
   {
    "duration": 1679,
    "start_time": "2022-12-25T14:36:48.966Z"
   },
   {
    "duration": 23,
    "start_time": "2022-12-25T14:36:50.650Z"
   },
   {
    "duration": 322,
    "start_time": "2022-12-25T14:36:50.675Z"
   },
   {
    "duration": 35,
    "start_time": "2022-12-25T14:36:50.999Z"
   },
   {
    "duration": 219,
    "start_time": "2022-12-25T14:36:51.036Z"
   },
   {
    "duration": 16,
    "start_time": "2022-12-25T14:36:51.257Z"
   },
   {
    "duration": 15,
    "start_time": "2022-12-25T14:36:51.274Z"
   },
   {
    "duration": 46,
    "start_time": "2022-12-25T14:36:51.291Z"
   },
   {
    "duration": 232,
    "start_time": "2022-12-25T14:36:51.339Z"
   },
   {
    "duration": 6,
    "start_time": "2022-12-25T14:36:51.573Z"
   },
   {
    "duration": 13,
    "start_time": "2022-12-25T14:36:51.581Z"
   },
   {
    "duration": 45,
    "start_time": "2022-12-25T14:36:51.596Z"
   },
   {
    "duration": 8,
    "start_time": "2022-12-25T14:36:51.643Z"
   },
   {
    "duration": 88,
    "start_time": "2022-12-25T14:36:51.653Z"
   },
   {
    "duration": 4,
    "start_time": "2022-12-25T14:36:51.744Z"
   },
   {
    "duration": 23,
    "start_time": "2022-12-25T14:36:51.749Z"
   },
   {
    "duration": 151,
    "start_time": "2022-12-25T14:36:51.774Z"
   },
   {
    "duration": 149,
    "start_time": "2022-12-25T14:36:51.927Z"
   },
   {
    "duration": 7,
    "start_time": "2022-12-25T14:36:52.079Z"
   },
   {
    "duration": 18,
    "start_time": "2022-12-25T14:36:52.087Z"
   },
   {
    "duration": 9,
    "start_time": "2022-12-25T14:36:52.107Z"
   },
   {
    "duration": 6,
    "start_time": "2022-12-25T14:36:52.118Z"
   },
   {
    "duration": 22,
    "start_time": "2022-12-25T14:36:52.125Z"
   },
   {
    "duration": 10,
    "start_time": "2022-12-25T14:36:52.150Z"
   },
   {
    "duration": 7,
    "start_time": "2022-12-25T14:36:52.162Z"
   },
   {
    "duration": 5,
    "start_time": "2022-12-25T14:36:52.172Z"
   },
   {
    "duration": 5,
    "start_time": "2022-12-25T14:36:52.179Z"
   },
   {
    "duration": 6,
    "start_time": "2022-12-25T14:36:52.185Z"
   },
   {
    "duration": 28158,
    "start_time": "2022-12-25T14:36:52.193Z"
   },
   {
    "duration": 15736,
    "start_time": "2022-12-25T14:37:20.353Z"
   },
   {
    "duration": 603872,
    "start_time": "2022-12-25T14:37:36.090Z"
   },
   {
    "duration": 4,
    "start_time": "2022-12-25T15:06:57.049Z"
   },
   {
    "duration": 116,
    "start_time": "2022-12-25T15:07:14.549Z"
   },
   {
    "duration": 14,
    "start_time": "2022-12-25T15:18:06.134Z"
   },
   {
    "duration": 14,
    "start_time": "2022-12-25T15:19:36.658Z"
   },
   {
    "duration": 1482,
    "start_time": "2022-12-25T15:19:48.280Z"
   },
   {
    "duration": 808,
    "start_time": "2022-12-25T15:19:49.764Z"
   },
   {
    "duration": 17,
    "start_time": "2022-12-25T15:19:50.574Z"
   },
   {
    "duration": 145,
    "start_time": "2022-12-25T15:19:50.593Z"
   },
   {
    "duration": 102,
    "start_time": "2022-12-25T15:19:50.740Z"
   },
   {
    "duration": 132,
    "start_time": "2022-12-25T15:19:50.844Z"
   },
   {
    "duration": 462,
    "start_time": "2022-12-25T15:19:50.978Z"
   },
   {
    "duration": 960,
    "start_time": "2022-12-25T15:19:51.441Z"
   },
   {
    "duration": 77,
    "start_time": "2022-12-25T15:19:52.403Z"
   },
   {
    "duration": 14,
    "start_time": "2022-12-25T15:19:52.483Z"
   },
   {
    "duration": 106,
    "start_time": "2022-12-25T15:19:52.499Z"
   },
   {
    "duration": 18,
    "start_time": "2022-12-25T15:19:52.607Z"
   },
   {
    "duration": 24,
    "start_time": "2022-12-25T15:19:52.627Z"
   },
   {
    "duration": 12,
    "start_time": "2022-12-25T15:19:52.653Z"
   },
   {
    "duration": 288,
    "start_time": "2022-12-25T15:19:52.667Z"
   },
   {
    "duration": 23,
    "start_time": "2022-12-25T15:19:52.957Z"
   },
   {
    "duration": 115,
    "start_time": "2022-12-25T15:19:52.982Z"
   },
   {
    "duration": 4,
    "start_time": "2022-12-25T15:19:53.099Z"
   },
   {
    "duration": 188,
    "start_time": "2022-12-25T15:19:53.104Z"
   },
   {
    "duration": 169,
    "start_time": "2022-12-25T15:19:53.294Z"
   },
   {
    "duration": 219,
    "start_time": "2022-12-25T15:19:53.465Z"
   },
   {
    "duration": 187,
    "start_time": "2022-12-25T15:19:53.686Z"
   },
   {
    "duration": 173,
    "start_time": "2022-12-25T15:19:53.875Z"
   },
   {
    "duration": 1778,
    "start_time": "2022-12-25T15:19:54.050Z"
   },
   {
    "duration": 12,
    "start_time": "2022-12-25T15:19:55.829Z"
   },
   {
    "duration": 30,
    "start_time": "2022-12-25T15:19:55.843Z"
   },
   {
    "duration": 1851,
    "start_time": "2022-12-25T15:19:55.875Z"
   },
   {
    "duration": 16,
    "start_time": "2022-12-25T15:19:57.729Z"
   },
   {
    "duration": 323,
    "start_time": "2022-12-25T15:19:57.747Z"
   },
   {
    "duration": 32,
    "start_time": "2022-12-25T15:19:58.071Z"
   },
   {
    "duration": 226,
    "start_time": "2022-12-25T15:19:58.104Z"
   },
   {
    "duration": 14,
    "start_time": "2022-12-25T15:19:58.332Z"
   },
   {
    "duration": 15,
    "start_time": "2022-12-25T15:19:58.348Z"
   },
   {
    "duration": 28,
    "start_time": "2022-12-25T15:19:58.364Z"
   },
   {
    "duration": 216,
    "start_time": "2022-12-25T15:19:58.416Z"
   },
   {
    "duration": 5,
    "start_time": "2022-12-25T15:19:58.634Z"
   },
   {
    "duration": 8,
    "start_time": "2022-12-25T15:19:58.641Z"
   },
   {
    "duration": 31,
    "start_time": "2022-12-25T15:19:58.651Z"
   },
   {
    "duration": 7,
    "start_time": "2022-12-25T15:19:58.683Z"
   },
   {
    "duration": 83,
    "start_time": "2022-12-25T15:19:58.716Z"
   },
   {
    "duration": 4,
    "start_time": "2022-12-25T15:19:58.801Z"
   },
   {
    "duration": 19,
    "start_time": "2022-12-25T15:19:58.806Z"
   },
   {
    "duration": 126,
    "start_time": "2022-12-25T15:19:58.826Z"
   },
   {
    "duration": 141,
    "start_time": "2022-12-25T15:19:58.954Z"
   },
   {
    "duration": 5,
    "start_time": "2022-12-25T15:19:59.097Z"
   },
   {
    "duration": 9,
    "start_time": "2022-12-25T15:19:59.116Z"
   },
   {
    "duration": 13,
    "start_time": "2022-12-25T15:19:59.127Z"
   },
   {
    "duration": 11,
    "start_time": "2022-12-25T15:19:59.142Z"
   },
   {
    "duration": 15,
    "start_time": "2022-12-25T15:19:59.154Z"
   },
   {
    "duration": 7,
    "start_time": "2022-12-25T15:19:59.171Z"
   },
   {
    "duration": 7,
    "start_time": "2022-12-25T15:19:59.179Z"
   },
   {
    "duration": 21,
    "start_time": "2022-12-25T15:19:59.188Z"
   },
   {
    "duration": 7,
    "start_time": "2022-12-25T15:19:59.210Z"
   },
   {
    "duration": 13,
    "start_time": "2022-12-25T15:19:59.218Z"
   },
   {
    "duration": 30690,
    "start_time": "2022-12-25T15:19:59.232Z"
   },
   {
    "duration": 15931,
    "start_time": "2022-12-25T15:20:29.923Z"
   },
   {
    "duration": 604858,
    "start_time": "2022-12-25T15:20:45.855Z"
   },
   {
    "duration": 6,
    "start_time": "2022-12-25T16:16:26.243Z"
   },
   {
    "duration": 498,
    "start_time": "2022-12-25T16:19:52.203Z"
   },
   {
    "duration": 188,
    "start_time": "2022-12-25T16:21:56.452Z"
   },
   {
    "duration": 110,
    "start_time": "2022-12-25T17:25:25.691Z"
   },
   {
    "duration": 5,
    "start_time": "2022-12-25T17:26:25.961Z"
   },
   {
    "duration": 12,
    "start_time": "2022-12-25T17:43:36.237Z"
   },
   {
    "duration": 126735,
    "start_time": "2022-12-25T17:43:53.005Z"
   },
   {
    "duration": 120668,
    "start_time": "2022-12-25T17:48:28.858Z"
   },
   {
    "duration": 118810,
    "start_time": "2022-12-25T17:51:02.616Z"
   },
   {
    "duration": 14,
    "start_time": "2022-12-25T17:53:31.924Z"
   },
   {
    "duration": 18,
    "start_time": "2022-12-25T17:54:18.018Z"
   },
   {
    "duration": 157566,
    "start_time": "2022-12-25T17:55:05.659Z"
   },
   {
    "duration": 723,
    "start_time": "2022-12-25T18:25:18.986Z"
   },
   {
    "duration": 706,
    "start_time": "2022-12-25T18:47:28.840Z"
   },
   {
    "duration": 1476,
    "start_time": "2022-12-25T18:56:01.490Z"
   },
   {
    "duration": 791,
    "start_time": "2022-12-25T18:56:02.968Z"
   },
   {
    "duration": 15,
    "start_time": "2022-12-25T18:56:03.761Z"
   },
   {
    "duration": 135,
    "start_time": "2022-12-25T18:56:03.778Z"
   },
   {
    "duration": 88,
    "start_time": "2022-12-25T18:56:03.916Z"
   },
   {
    "duration": 140,
    "start_time": "2022-12-25T18:56:04.005Z"
   },
   {
    "duration": 452,
    "start_time": "2022-12-25T18:56:04.147Z"
   },
   {
    "duration": 905,
    "start_time": "2022-12-25T18:56:04.601Z"
   },
   {
    "duration": 118,
    "start_time": "2022-12-25T18:56:05.507Z"
   },
   {
    "duration": 13,
    "start_time": "2022-12-25T18:56:05.628Z"
   },
   {
    "duration": 107,
    "start_time": "2022-12-25T18:56:05.643Z"
   },
   {
    "duration": 16,
    "start_time": "2022-12-25T18:56:05.752Z"
   },
   {
    "duration": 53,
    "start_time": "2022-12-25T18:56:05.769Z"
   },
   {
    "duration": 11,
    "start_time": "2022-12-25T18:56:05.824Z"
   },
   {
    "duration": 279,
    "start_time": "2022-12-25T18:56:05.836Z"
   },
   {
    "duration": 20,
    "start_time": "2022-12-25T18:56:06.117Z"
   },
   {
    "duration": 113,
    "start_time": "2022-12-25T18:56:06.140Z"
   },
   {
    "duration": 5,
    "start_time": "2022-12-25T18:56:06.255Z"
   },
   {
    "duration": 226,
    "start_time": "2022-12-25T18:56:06.262Z"
   },
   {
    "duration": 174,
    "start_time": "2022-12-25T18:56:06.489Z"
   },
   {
    "duration": 188,
    "start_time": "2022-12-25T18:56:06.665Z"
   },
   {
    "duration": 178,
    "start_time": "2022-12-25T18:56:06.854Z"
   },
   {
    "duration": 154,
    "start_time": "2022-12-25T18:56:07.034Z"
   },
   {
    "duration": 1757,
    "start_time": "2022-12-25T18:56:07.189Z"
   },
   {
    "duration": 13,
    "start_time": "2022-12-25T18:56:08.947Z"
   },
   {
    "duration": 30,
    "start_time": "2022-12-25T18:56:08.962Z"
   },
   {
    "duration": 1777,
    "start_time": "2022-12-25T18:56:08.993Z"
   },
   {
    "duration": 17,
    "start_time": "2022-12-25T18:56:10.774Z"
   },
   {
    "duration": 333,
    "start_time": "2022-12-25T18:56:10.793Z"
   },
   {
    "duration": 33,
    "start_time": "2022-12-25T18:56:11.128Z"
   },
   {
    "duration": 220,
    "start_time": "2022-12-25T18:56:11.162Z"
   },
   {
    "duration": 16,
    "start_time": "2022-12-25T18:56:11.384Z"
   },
   {
    "duration": 28,
    "start_time": "2022-12-25T18:56:11.401Z"
   },
   {
    "duration": 28,
    "start_time": "2022-12-25T18:56:11.431Z"
   },
   {
    "duration": 217,
    "start_time": "2022-12-25T18:56:11.461Z"
   },
   {
    "duration": 6,
    "start_time": "2022-12-25T18:56:11.679Z"
   },
   {
    "duration": 8,
    "start_time": "2022-12-25T18:56:11.686Z"
   },
   {
    "duration": 44,
    "start_time": "2022-12-25T18:56:11.695Z"
   },
   {
    "duration": 7,
    "start_time": "2022-12-25T18:56:11.741Z"
   },
   {
    "duration": 82,
    "start_time": "2022-12-25T18:56:11.749Z"
   },
   {
    "duration": 3,
    "start_time": "2022-12-25T18:56:11.833Z"
   },
   {
    "duration": 13,
    "start_time": "2022-12-25T18:56:11.838Z"
   },
   {
    "duration": 126,
    "start_time": "2022-12-25T18:56:11.853Z"
   },
   {
    "duration": 171,
    "start_time": "2022-12-25T18:56:11.981Z"
   },
   {
    "duration": 5,
    "start_time": "2022-12-25T18:56:12.154Z"
   },
   {
    "duration": 9,
    "start_time": "2022-12-25T18:56:12.161Z"
   },
   {
    "duration": 6,
    "start_time": "2022-12-25T18:56:12.172Z"
   },
   {
    "duration": 4,
    "start_time": "2022-12-25T18:56:12.180Z"
   },
   {
    "duration": 10,
    "start_time": "2022-12-25T18:56:12.185Z"
   },
   {
    "duration": 18,
    "start_time": "2022-12-25T18:56:12.197Z"
   },
   {
    "duration": 3,
    "start_time": "2022-12-25T18:56:12.217Z"
   },
   {
    "duration": 4,
    "start_time": "2022-12-25T18:56:12.222Z"
   },
   {
    "duration": 4,
    "start_time": "2022-12-25T18:56:12.228Z"
   },
   {
    "duration": 7,
    "start_time": "2022-12-25T18:56:12.234Z"
   },
   {
    "duration": 26274,
    "start_time": "2022-12-25T18:56:12.242Z"
   },
   {
    "duration": 15509,
    "start_time": "2022-12-25T18:56:38.519Z"
   },
   {
    "duration": 607623,
    "start_time": "2022-12-25T18:56:54.029Z"
   },
   {
    "duration": 6,
    "start_time": "2022-12-25T19:07:01.654Z"
   },
   {
    "duration": 461,
    "start_time": "2022-12-25T19:07:01.662Z"
   },
   {
    "duration": 192,
    "start_time": "2022-12-25T19:07:02.125Z"
   },
   {
    "duration": 14,
    "start_time": "2022-12-25T19:07:02.319Z"
   },
   {
    "duration": 162696,
    "start_time": "2022-12-25T19:07:02.335Z"
   },
   {
    "duration": 907,
    "start_time": "2022-12-25T19:09:45.033Z"
   },
   {
    "duration": 726,
    "start_time": "2022-12-25T19:16:53.622Z"
   },
   {
    "duration": 14,
    "start_time": "2022-12-25T19:20:44.876Z"
   },
   {
    "duration": 15,
    "start_time": "2022-12-25T19:21:32.265Z"
   },
   {
    "duration": 10,
    "start_time": "2022-12-25T19:24:01.231Z"
   },
   {
    "duration": 13998,
    "start_time": "2022-12-25T19:24:24.791Z"
   },
   {
    "duration": 5,
    "start_time": "2022-12-25T19:28:15.570Z"
   },
   {
    "duration": 42,
    "start_time": "2022-12-25T19:29:48.737Z"
   },
   {
    "duration": 44,
    "start_time": "2022-12-25T19:32:17.063Z"
   },
   {
    "duration": 2,
    "start_time": "2022-12-25T19:33:25.963Z"
   },
   {
    "duration": 4,
    "start_time": "2022-12-25T19:38:30.795Z"
   },
   {
    "duration": 1110,
    "start_time": "2022-12-25T19:44:01.491Z"
   },
   {
    "duration": 1373,
    "start_time": "2022-12-25T19:44:16.550Z"
   },
   {
    "duration": 867,
    "start_time": "2022-12-25T19:44:17.925Z"
   },
   {
    "duration": 27,
    "start_time": "2022-12-25T19:44:18.795Z"
   },
   {
    "duration": 159,
    "start_time": "2022-12-25T19:44:18.824Z"
   },
   {
    "duration": 115,
    "start_time": "2022-12-25T19:44:18.984Z"
   },
   {
    "duration": 168,
    "start_time": "2022-12-25T19:44:19.101Z"
   },
   {
    "duration": 464,
    "start_time": "2022-12-25T19:44:19.270Z"
   },
   {
    "duration": 1007,
    "start_time": "2022-12-25T19:44:19.736Z"
   },
   {
    "duration": 125,
    "start_time": "2022-12-25T19:44:20.744Z"
   },
   {
    "duration": 14,
    "start_time": "2022-12-25T19:44:20.872Z"
   },
   {
    "duration": 108,
    "start_time": "2022-12-25T19:44:20.887Z"
   },
   {
    "duration": 23,
    "start_time": "2022-12-25T19:44:20.997Z"
   },
   {
    "duration": 47,
    "start_time": "2022-12-25T19:44:21.024Z"
   },
   {
    "duration": 12,
    "start_time": "2022-12-25T19:44:21.072Z"
   },
   {
    "duration": 254,
    "start_time": "2022-12-25T19:44:21.085Z"
   },
   {
    "duration": 21,
    "start_time": "2022-12-25T19:44:21.341Z"
   },
   {
    "duration": 105,
    "start_time": "2022-12-25T19:44:21.364Z"
   },
   {
    "duration": 5,
    "start_time": "2022-12-25T19:44:21.471Z"
   },
   {
    "duration": 185,
    "start_time": "2022-12-25T19:44:21.478Z"
   },
   {
    "duration": 180,
    "start_time": "2022-12-25T19:44:21.665Z"
   },
   {
    "duration": 189,
    "start_time": "2022-12-25T19:44:21.847Z"
   },
   {
    "duration": 192,
    "start_time": "2022-12-25T19:44:22.037Z"
   },
   {
    "duration": 149,
    "start_time": "2022-12-25T19:44:22.231Z"
   },
   {
    "duration": 1836,
    "start_time": "2022-12-25T19:44:22.382Z"
   },
   {
    "duration": 13,
    "start_time": "2022-12-25T19:44:24.220Z"
   },
   {
    "duration": 30,
    "start_time": "2022-12-25T19:44:24.234Z"
   },
   {
    "duration": 1833,
    "start_time": "2022-12-25T19:44:24.265Z"
   },
   {
    "duration": 27,
    "start_time": "2022-12-25T19:44:26.101Z"
   },
   {
    "duration": 391,
    "start_time": "2022-12-25T19:44:26.129Z"
   },
   {
    "duration": 34,
    "start_time": "2022-12-25T19:44:26.521Z"
   },
   {
    "duration": 230,
    "start_time": "2022-12-25T19:44:26.557Z"
   },
   {
    "duration": 26,
    "start_time": "2022-12-25T19:44:26.790Z"
   },
   {
    "duration": 16,
    "start_time": "2022-12-25T19:44:26.818Z"
   },
   {
    "duration": 27,
    "start_time": "2022-12-25T19:44:26.835Z"
   },
   {
    "duration": 231,
    "start_time": "2022-12-25T19:44:26.864Z"
   },
   {
    "duration": 5,
    "start_time": "2022-12-25T19:44:27.098Z"
   },
   {
    "duration": 7,
    "start_time": "2022-12-25T19:44:27.115Z"
   },
   {
    "duration": 29,
    "start_time": "2022-12-25T19:44:27.123Z"
   },
   {
    "duration": 7,
    "start_time": "2022-12-25T19:44:27.154Z"
   },
   {
    "duration": 93,
    "start_time": "2022-12-25T19:44:27.162Z"
   },
   {
    "duration": 4,
    "start_time": "2022-12-25T19:44:27.256Z"
   },
   {
    "duration": 13,
    "start_time": "2022-12-25T19:44:27.262Z"
   },
   {
    "duration": 161,
    "start_time": "2022-12-25T19:44:27.277Z"
   },
   {
    "duration": 152,
    "start_time": "2022-12-25T19:44:27.440Z"
   },
   {
    "duration": 5,
    "start_time": "2022-12-25T19:44:27.594Z"
   },
   {
    "duration": 17,
    "start_time": "2022-12-25T19:44:27.601Z"
   },
   {
    "duration": 5,
    "start_time": "2022-12-25T19:44:27.619Z"
   },
   {
    "duration": 7,
    "start_time": "2022-12-25T19:44:27.626Z"
   },
   {
    "duration": 18,
    "start_time": "2022-12-25T19:44:27.635Z"
   },
   {
    "duration": 8,
    "start_time": "2022-12-25T19:44:27.654Z"
   },
   {
    "duration": 9,
    "start_time": "2022-12-25T19:44:27.664Z"
   },
   {
    "duration": 9,
    "start_time": "2022-12-25T19:44:27.674Z"
   },
   {
    "duration": 11,
    "start_time": "2022-12-25T19:44:27.685Z"
   },
   {
    "duration": 6,
    "start_time": "2022-12-25T19:44:27.698Z"
   },
   {
    "duration": 22323,
    "start_time": "2022-12-25T19:44:27.706Z"
   },
   {
    "duration": 16849,
    "start_time": "2022-12-25T19:44:50.032Z"
   },
   {
    "duration": 1410,
    "start_time": "2022-12-25T19:57:19.972Z"
   },
   {
    "duration": 833,
    "start_time": "2022-12-25T19:57:21.384Z"
   },
   {
    "duration": 20,
    "start_time": "2022-12-25T19:57:22.219Z"
   },
   {
    "duration": 148,
    "start_time": "2022-12-25T19:57:22.241Z"
   },
   {
    "duration": 111,
    "start_time": "2022-12-25T19:57:22.391Z"
   },
   {
    "duration": 137,
    "start_time": "2022-12-25T19:57:22.503Z"
   },
   {
    "duration": 463,
    "start_time": "2022-12-25T19:57:22.642Z"
   },
   {
    "duration": 1074,
    "start_time": "2022-12-25T19:57:23.107Z"
   },
   {
    "duration": 73,
    "start_time": "2022-12-25T19:57:24.182Z"
   },
   {
    "duration": 11,
    "start_time": "2022-12-25T19:57:24.257Z"
   },
   {
    "duration": 100,
    "start_time": "2022-12-25T19:57:24.269Z"
   },
   {
    "duration": 14,
    "start_time": "2022-12-25T19:57:24.371Z"
   },
   {
    "duration": 30,
    "start_time": "2022-12-25T19:57:24.386Z"
   },
   {
    "duration": 10,
    "start_time": "2022-12-25T19:57:24.417Z"
   },
   {
    "duration": 277,
    "start_time": "2022-12-25T19:57:24.428Z"
   },
   {
    "duration": 26,
    "start_time": "2022-12-25T19:57:24.707Z"
   },
   {
    "duration": 98,
    "start_time": "2022-12-25T19:57:24.734Z"
   },
   {
    "duration": 5,
    "start_time": "2022-12-25T19:57:24.834Z"
   },
   {
    "duration": 185,
    "start_time": "2022-12-25T19:57:24.840Z"
   },
   {
    "duration": 171,
    "start_time": "2022-12-25T19:57:25.027Z"
   },
   {
    "duration": 207,
    "start_time": "2022-12-25T19:57:25.199Z"
   },
   {
    "duration": 190,
    "start_time": "2022-12-25T19:57:25.408Z"
   },
   {
    "duration": 159,
    "start_time": "2022-12-25T19:57:25.599Z"
   },
   {
    "duration": 1835,
    "start_time": "2022-12-25T19:57:25.759Z"
   },
   {
    "duration": 21,
    "start_time": "2022-12-25T19:57:27.596Z"
   },
   {
    "duration": 31,
    "start_time": "2022-12-25T19:57:27.618Z"
   },
   {
    "duration": 1926,
    "start_time": "2022-12-25T19:57:27.650Z"
   },
   {
    "duration": 17,
    "start_time": "2022-12-25T19:57:29.580Z"
   },
   {
    "duration": 348,
    "start_time": "2022-12-25T19:57:29.598Z"
   },
   {
    "duration": 33,
    "start_time": "2022-12-25T19:57:29.947Z"
   },
   {
    "duration": 219,
    "start_time": "2022-12-25T19:57:29.982Z"
   },
   {
    "duration": 24,
    "start_time": "2022-12-25T19:57:30.202Z"
   },
   {
    "duration": 23,
    "start_time": "2022-12-25T19:57:30.227Z"
   },
   {
    "duration": 43,
    "start_time": "2022-12-25T19:57:30.251Z"
   },
   {
    "duration": 216,
    "start_time": "2022-12-25T19:57:30.296Z"
   },
   {
    "duration": 5,
    "start_time": "2022-12-25T19:57:30.514Z"
   },
   {
    "duration": 20,
    "start_time": "2022-12-25T19:57:30.521Z"
   },
   {
    "duration": 51,
    "start_time": "2022-12-25T19:57:30.543Z"
   },
   {
    "duration": 7,
    "start_time": "2022-12-25T19:57:30.596Z"
   },
   {
    "duration": 93,
    "start_time": "2022-12-25T19:57:30.604Z"
   },
   {
    "duration": 5,
    "start_time": "2022-12-25T19:57:30.698Z"
   },
   {
    "duration": 31,
    "start_time": "2022-12-25T19:57:30.704Z"
   },
   {
    "duration": 141,
    "start_time": "2022-12-25T19:57:30.736Z"
   },
   {
    "duration": 155,
    "start_time": "2022-12-25T19:57:30.879Z"
   },
   {
    "duration": 4,
    "start_time": "2022-12-25T19:57:31.035Z"
   },
   {
    "duration": 17,
    "start_time": "2022-12-25T19:57:31.041Z"
   },
   {
    "duration": 30,
    "start_time": "2022-12-25T19:57:31.059Z"
   },
   {
    "duration": 24,
    "start_time": "2022-12-25T19:57:31.090Z"
   },
   {
    "duration": 30,
    "start_time": "2022-12-25T19:57:31.115Z"
   },
   {
    "duration": 15,
    "start_time": "2022-12-25T19:57:31.147Z"
   },
   {
    "duration": 14,
    "start_time": "2022-12-25T19:57:31.163Z"
   },
   {
    "duration": 22,
    "start_time": "2022-12-25T19:57:31.178Z"
   },
   {
    "duration": 20,
    "start_time": "2022-12-25T19:57:31.202Z"
   },
   {
    "duration": 10,
    "start_time": "2022-12-25T19:57:31.224Z"
   },
   {
    "duration": 31114,
    "start_time": "2022-12-25T19:57:31.235Z"
   },
   {
    "duration": 15366,
    "start_time": "2022-12-25T19:58:02.351Z"
   },
   {
    "duration": 3175307,
    "start_time": "2022-12-25T19:58:17.720Z"
   },
   {
    "duration": 0,
    "start_time": "2022-12-25T20:51:13.029Z"
   },
   {
    "duration": 0,
    "start_time": "2022-12-25T20:51:13.030Z"
   },
   {
    "duration": 0,
    "start_time": "2022-12-25T20:51:13.032Z"
   },
   {
    "duration": 0,
    "start_time": "2022-12-25T20:51:13.033Z"
   },
   {
    "duration": 0,
    "start_time": "2022-12-25T20:51:13.035Z"
   },
   {
    "duration": 0,
    "start_time": "2022-12-25T20:51:13.036Z"
   },
   {
    "duration": 15139,
    "start_time": "2022-12-25T20:59:28.216Z"
   },
   {
    "duration": 15190,
    "start_time": "2022-12-25T21:00:14.855Z"
   },
   {
    "duration": 4,
    "start_time": "2022-12-25T21:02:22.719Z"
   },
   {
    "duration": 15,
    "start_time": "2022-12-25T21:03:00.062Z"
   },
   {
    "duration": 15,
    "start_time": "2022-12-25T21:05:15.554Z"
   },
   {
    "duration": 9,
    "start_time": "2022-12-26T09:11:41.384Z"
   },
   {
    "duration": 4,
    "start_time": "2022-12-26T09:15:15.956Z"
   },
   {
    "duration": 1583,
    "start_time": "2022-12-26T09:16:29.963Z"
   },
   {
    "duration": 2938,
    "start_time": "2022-12-26T09:16:31.548Z"
   },
   {
    "duration": 21,
    "start_time": "2022-12-26T09:16:34.487Z"
   },
   {
    "duration": 118,
    "start_time": "2022-12-26T09:16:34.511Z"
   },
   {
    "duration": 111,
    "start_time": "2022-12-26T09:16:34.630Z"
   },
   {
    "duration": 97,
    "start_time": "2022-12-26T09:16:34.743Z"
   },
   {
    "duration": 455,
    "start_time": "2022-12-26T09:16:34.841Z"
   },
   {
    "duration": 862,
    "start_time": "2022-12-26T09:16:35.298Z"
   },
   {
    "duration": 104,
    "start_time": "2022-12-26T09:16:36.161Z"
   },
   {
    "duration": 13,
    "start_time": "2022-12-26T09:16:36.267Z"
   },
   {
    "duration": 86,
    "start_time": "2022-12-26T09:16:36.282Z"
   },
   {
    "duration": 41,
    "start_time": "2022-12-26T09:16:36.370Z"
   },
   {
    "duration": 59,
    "start_time": "2022-12-26T09:16:36.412Z"
   },
   {
    "duration": 24,
    "start_time": "2022-12-26T09:16:36.473Z"
   },
   {
    "duration": 229,
    "start_time": "2022-12-26T09:16:36.498Z"
   },
   {
    "duration": 18,
    "start_time": "2022-12-26T09:16:36.729Z"
   },
   {
    "duration": 110,
    "start_time": "2022-12-26T09:16:36.748Z"
   },
   {
    "duration": 4,
    "start_time": "2022-12-26T09:16:36.860Z"
   },
   {
    "duration": 172,
    "start_time": "2022-12-26T09:16:36.865Z"
   },
   {
    "duration": 173,
    "start_time": "2022-12-26T09:16:37.038Z"
   },
   {
    "duration": 205,
    "start_time": "2022-12-26T09:16:37.213Z"
   },
   {
    "duration": 179,
    "start_time": "2022-12-26T09:16:37.419Z"
   },
   {
    "duration": 148,
    "start_time": "2022-12-26T09:16:37.599Z"
   },
   {
    "duration": 1741,
    "start_time": "2022-12-26T09:16:37.749Z"
   },
   {
    "duration": 12,
    "start_time": "2022-12-26T09:16:39.492Z"
   },
   {
    "duration": 28,
    "start_time": "2022-12-26T09:16:39.505Z"
   },
   {
    "duration": 1725,
    "start_time": "2022-12-26T09:16:39.534Z"
   },
   {
    "duration": 19,
    "start_time": "2022-12-26T09:16:41.263Z"
   },
   {
    "duration": 313,
    "start_time": "2022-12-26T09:16:41.283Z"
   },
   {
    "duration": 29,
    "start_time": "2022-12-26T09:16:41.598Z"
   },
   {
    "duration": 205,
    "start_time": "2022-12-26T09:16:41.629Z"
   },
   {
    "duration": 15,
    "start_time": "2022-12-26T09:16:41.835Z"
   },
   {
    "duration": 27,
    "start_time": "2022-12-26T09:16:41.851Z"
   },
   {
    "duration": 25,
    "start_time": "2022-12-26T09:16:41.880Z"
   },
   {
    "duration": 218,
    "start_time": "2022-12-26T09:16:41.906Z"
   },
   {
    "duration": 4,
    "start_time": "2022-12-26T09:16:42.126Z"
   },
   {
    "duration": 23,
    "start_time": "2022-12-26T09:16:42.132Z"
   },
   {
    "duration": 26,
    "start_time": "2022-12-26T09:16:42.156Z"
   },
   {
    "duration": 5,
    "start_time": "2022-12-26T09:16:42.184Z"
   },
   {
    "duration": 57,
    "start_time": "2022-12-26T09:16:42.191Z"
   },
   {
    "duration": 6,
    "start_time": "2022-12-26T09:16:42.250Z"
   },
   {
    "duration": 21,
    "start_time": "2022-12-26T09:16:42.258Z"
   },
   {
    "duration": 113,
    "start_time": "2022-12-26T09:16:42.280Z"
   },
   {
    "duration": 136,
    "start_time": "2022-12-26T09:16:42.395Z"
   },
   {
    "duration": 4,
    "start_time": "2022-12-26T09:16:42.533Z"
   },
   {
    "duration": 8,
    "start_time": "2022-12-26T09:16:42.538Z"
   },
   {
    "duration": 7,
    "start_time": "2022-12-26T09:16:42.547Z"
   },
   {
    "duration": 9,
    "start_time": "2022-12-26T09:16:42.555Z"
   },
   {
    "duration": 17,
    "start_time": "2022-12-26T09:16:42.566Z"
   },
   {
    "duration": 3,
    "start_time": "2022-12-26T09:16:42.584Z"
   },
   {
    "duration": 12,
    "start_time": "2022-12-26T09:16:42.588Z"
   },
   {
    "duration": 9,
    "start_time": "2022-12-26T09:16:42.602Z"
   },
   {
    "duration": 14,
    "start_time": "2022-12-26T09:16:42.613Z"
   },
   {
    "duration": 8,
    "start_time": "2022-12-26T09:16:42.628Z"
   },
   {
    "duration": 20610,
    "start_time": "2022-12-26T09:16:42.637Z"
   },
   {
    "duration": 14821,
    "start_time": "2022-12-26T09:17:03.249Z"
   },
   {
    "duration": 720650,
    "start_time": "2022-12-26T09:17:18.072Z"
   },
   {
    "duration": 6,
    "start_time": "2022-12-26T09:29:18.724Z"
   },
   {
    "duration": 462,
    "start_time": "2022-12-26T09:29:18.732Z"
   },
   {
    "duration": 182,
    "start_time": "2022-12-26T09:29:19.197Z"
   },
   {
    "duration": 15,
    "start_time": "2022-12-26T09:29:19.381Z"
   },
   {
    "duration": 18,
    "start_time": "2022-12-26T09:29:19.397Z"
   },
   {
    "duration": 4369,
    "start_time": "2022-12-26T09:29:19.417Z"
   },
   {
    "duration": 2164,
    "start_time": "2022-12-26T09:29:23.787Z"
   },
   {
    "duration": 2,
    "start_time": "2022-12-26T10:54:01.947Z"
   },
   {
    "duration": 1361,
    "start_time": "2022-12-26T10:54:08.240Z"
   },
   {
    "duration": 769,
    "start_time": "2022-12-26T10:54:09.603Z"
   },
   {
    "duration": 18,
    "start_time": "2022-12-26T10:54:10.374Z"
   },
   {
    "duration": 190,
    "start_time": "2022-12-26T10:54:10.395Z"
   },
   {
    "duration": 107,
    "start_time": "2022-12-26T10:54:10.587Z"
   },
   {
    "duration": 166,
    "start_time": "2022-12-26T10:54:10.695Z"
   },
   {
    "duration": 450,
    "start_time": "2022-12-26T10:54:10.862Z"
   },
   {
    "duration": 923,
    "start_time": "2022-12-26T10:54:11.314Z"
   },
   {
    "duration": 99,
    "start_time": "2022-12-26T10:54:12.239Z"
   },
   {
    "duration": 10,
    "start_time": "2022-12-26T10:54:12.341Z"
   },
   {
    "duration": 128,
    "start_time": "2022-12-26T10:54:12.352Z"
   },
   {
    "duration": 13,
    "start_time": "2022-12-26T10:54:12.482Z"
   },
   {
    "duration": 36,
    "start_time": "2022-12-26T10:54:12.496Z"
   },
   {
    "duration": 11,
    "start_time": "2022-12-26T10:54:12.533Z"
   },
   {
    "duration": 301,
    "start_time": "2022-12-26T10:54:12.546Z"
   },
   {
    "duration": 33,
    "start_time": "2022-12-26T10:54:12.849Z"
   },
   {
    "duration": 128,
    "start_time": "2022-12-26T10:54:12.884Z"
   },
   {
    "duration": 4,
    "start_time": "2022-12-26T10:54:13.014Z"
   },
   {
    "duration": 175,
    "start_time": "2022-12-26T10:54:13.019Z"
   },
   {
    "duration": 186,
    "start_time": "2022-12-26T10:54:13.195Z"
   },
   {
    "duration": 211,
    "start_time": "2022-12-26T10:54:13.383Z"
   },
   {
    "duration": 185,
    "start_time": "2022-12-26T10:54:13.596Z"
   },
   {
    "duration": 169,
    "start_time": "2022-12-26T10:54:13.783Z"
   },
   {
    "duration": 1792,
    "start_time": "2022-12-26T10:54:13.953Z"
   },
   {
    "duration": 13,
    "start_time": "2022-12-26T10:54:15.747Z"
   },
   {
    "duration": 43,
    "start_time": "2022-12-26T10:54:15.761Z"
   },
   {
    "duration": 1702,
    "start_time": "2022-12-26T10:54:15.806Z"
   },
   {
    "duration": 16,
    "start_time": "2022-12-26T10:54:17.512Z"
   },
   {
    "duration": 310,
    "start_time": "2022-12-26T10:54:17.529Z"
   },
   {
    "duration": 39,
    "start_time": "2022-12-26T10:54:17.841Z"
   },
   {
    "duration": 228,
    "start_time": "2022-12-26T10:54:17.882Z"
   },
   {
    "duration": 15,
    "start_time": "2022-12-26T10:54:18.112Z"
   },
   {
    "duration": 16,
    "start_time": "2022-12-26T10:54:18.128Z"
   },
   {
    "duration": 45,
    "start_time": "2022-12-26T10:54:18.146Z"
   },
   {
    "duration": 208,
    "start_time": "2022-12-26T10:54:18.192Z"
   },
   {
    "duration": 6,
    "start_time": "2022-12-26T10:54:18.401Z"
   },
   {
    "duration": 9,
    "start_time": "2022-12-26T10:54:18.408Z"
   },
   {
    "duration": 29,
    "start_time": "2022-12-26T10:54:18.419Z"
   },
   {
    "duration": 6,
    "start_time": "2022-12-26T10:54:18.450Z"
   },
   {
    "duration": 101,
    "start_time": "2022-12-26T10:54:18.478Z"
   },
   {
    "duration": 3,
    "start_time": "2022-12-26T10:54:18.580Z"
   },
   {
    "duration": 12,
    "start_time": "2022-12-26T10:54:18.585Z"
   },
   {
    "duration": 130,
    "start_time": "2022-12-26T10:54:18.599Z"
   },
   {
    "duration": 161,
    "start_time": "2022-12-26T10:54:18.731Z"
   },
   {
    "duration": 4,
    "start_time": "2022-12-26T10:54:18.894Z"
   },
   {
    "duration": 9,
    "start_time": "2022-12-26T10:54:18.900Z"
   },
   {
    "duration": 17,
    "start_time": "2022-12-26T10:54:18.910Z"
   },
   {
    "duration": 15,
    "start_time": "2022-12-26T10:54:18.928Z"
   },
   {
    "duration": 15,
    "start_time": "2022-12-26T10:54:18.945Z"
   },
   {
    "duration": 18,
    "start_time": "2022-12-26T10:54:18.962Z"
   },
   {
    "duration": 18,
    "start_time": "2022-12-26T10:54:18.982Z"
   },
   {
    "duration": 131,
    "start_time": "2022-12-26T10:54:19.002Z"
   },
   {
    "duration": 0,
    "start_time": "2022-12-26T10:54:19.135Z"
   },
   {
    "duration": 0,
    "start_time": "2022-12-26T10:54:19.137Z"
   },
   {
    "duration": 0,
    "start_time": "2022-12-26T10:54:19.138Z"
   },
   {
    "duration": 0,
    "start_time": "2022-12-26T10:54:19.139Z"
   },
   {
    "duration": 0,
    "start_time": "2022-12-26T10:54:19.140Z"
   },
   {
    "duration": 0,
    "start_time": "2022-12-26T10:54:19.142Z"
   },
   {
    "duration": 0,
    "start_time": "2022-12-26T10:54:19.143Z"
   },
   {
    "duration": 0,
    "start_time": "2022-12-26T10:54:19.144Z"
   },
   {
    "duration": 0,
    "start_time": "2022-12-26T10:54:19.147Z"
   },
   {
    "duration": 0,
    "start_time": "2022-12-26T10:54:19.148Z"
   },
   {
    "duration": 3,
    "start_time": "2022-12-26T11:02:32.098Z"
   },
   {
    "duration": 2,
    "start_time": "2022-12-26T11:02:38.343Z"
   },
   {
    "duration": 3,
    "start_time": "2022-12-26T11:05:17.759Z"
   },
   {
    "duration": 21893,
    "start_time": "2022-12-26T11:05:43.256Z"
   },
   {
    "duration": 1417,
    "start_time": "2022-12-26T11:06:45.898Z"
   },
   {
    "duration": 830,
    "start_time": "2022-12-26T11:06:47.316Z"
   },
   {
    "duration": 17,
    "start_time": "2022-12-26T11:06:48.148Z"
   },
   {
    "duration": 127,
    "start_time": "2022-12-26T11:06:48.167Z"
   },
   {
    "duration": 109,
    "start_time": "2022-12-26T11:06:48.295Z"
   },
   {
    "duration": 105,
    "start_time": "2022-12-26T11:06:48.406Z"
   },
   {
    "duration": 474,
    "start_time": "2022-12-26T11:06:48.512Z"
   },
   {
    "duration": 970,
    "start_time": "2022-12-26T11:06:48.988Z"
   },
   {
    "duration": 74,
    "start_time": "2022-12-26T11:06:49.959Z"
   },
   {
    "duration": 10,
    "start_time": "2022-12-26T11:06:50.035Z"
   },
   {
    "duration": 112,
    "start_time": "2022-12-26T11:06:50.046Z"
   },
   {
    "duration": 32,
    "start_time": "2022-12-26T11:06:50.159Z"
   },
   {
    "duration": 45,
    "start_time": "2022-12-26T11:06:50.192Z"
   },
   {
    "duration": 32,
    "start_time": "2022-12-26T11:06:50.239Z"
   },
   {
    "duration": 257,
    "start_time": "2022-12-26T11:06:50.272Z"
   },
   {
    "duration": 19,
    "start_time": "2022-12-26T11:06:50.531Z"
   },
   {
    "duration": 90,
    "start_time": "2022-12-26T11:06:50.552Z"
   },
   {
    "duration": 3,
    "start_time": "2022-12-26T11:06:50.644Z"
   },
   {
    "duration": 174,
    "start_time": "2022-12-26T11:06:50.649Z"
   },
   {
    "duration": 172,
    "start_time": "2022-12-26T11:06:50.824Z"
   },
   {
    "duration": 210,
    "start_time": "2022-12-26T11:06:50.997Z"
   },
   {
    "duration": 185,
    "start_time": "2022-12-26T11:06:51.209Z"
   },
   {
    "duration": 155,
    "start_time": "2022-12-26T11:06:51.396Z"
   },
   {
    "duration": 1923,
    "start_time": "2022-12-26T11:06:51.553Z"
   },
   {
    "duration": 15,
    "start_time": "2022-12-26T11:06:53.478Z"
   },
   {
    "duration": 31,
    "start_time": "2022-12-26T11:06:53.495Z"
   },
   {
    "duration": 1931,
    "start_time": "2022-12-26T11:06:53.528Z"
   },
   {
    "duration": 26,
    "start_time": "2022-12-26T11:06:55.464Z"
   },
   {
    "duration": 392,
    "start_time": "2022-12-26T11:06:55.491Z"
   },
   {
    "duration": 34,
    "start_time": "2022-12-26T11:06:55.884Z"
   },
   {
    "duration": 231,
    "start_time": "2022-12-26T11:06:55.920Z"
   },
   {
    "duration": 26,
    "start_time": "2022-12-26T11:06:56.153Z"
   },
   {
    "duration": 17,
    "start_time": "2022-12-26T11:06:56.180Z"
   },
   {
    "duration": 36,
    "start_time": "2022-12-26T11:06:56.199Z"
   },
   {
    "duration": 229,
    "start_time": "2022-12-26T11:06:56.237Z"
   },
   {
    "duration": 12,
    "start_time": "2022-12-26T11:06:56.468Z"
   },
   {
    "duration": 7,
    "start_time": "2022-12-26T11:06:56.482Z"
   },
   {
    "duration": 33,
    "start_time": "2022-12-26T11:06:56.491Z"
   },
   {
    "duration": 7,
    "start_time": "2022-12-26T11:06:56.526Z"
   },
   {
    "duration": 79,
    "start_time": "2022-12-26T11:06:56.535Z"
   },
   {
    "duration": 5,
    "start_time": "2022-12-26T11:06:56.616Z"
   },
   {
    "duration": 14,
    "start_time": "2022-12-26T11:06:56.622Z"
   },
   {
    "duration": 133,
    "start_time": "2022-12-26T11:06:56.638Z"
   },
   {
    "duration": 163,
    "start_time": "2022-12-26T11:06:56.772Z"
   },
   {
    "duration": 4,
    "start_time": "2022-12-26T11:06:56.937Z"
   },
   {
    "duration": 19,
    "start_time": "2022-12-26T11:06:56.943Z"
   },
   {
    "duration": 12,
    "start_time": "2022-12-26T11:06:56.964Z"
   },
   {
    "duration": 13,
    "start_time": "2022-12-26T11:06:56.978Z"
   },
   {
    "duration": 7,
    "start_time": "2022-12-26T11:06:56.993Z"
   },
   {
    "duration": 11,
    "start_time": "2022-12-26T11:06:57.002Z"
   },
   {
    "duration": 9,
    "start_time": "2022-12-26T11:06:57.015Z"
   },
   {
    "duration": 7,
    "start_time": "2022-12-26T11:06:57.026Z"
   },
   {
    "duration": 5,
    "start_time": "2022-12-26T11:06:57.035Z"
   },
   {
    "duration": 19,
    "start_time": "2022-12-26T11:06:57.041Z"
   },
   {
    "duration": 22299,
    "start_time": "2022-12-26T11:06:57.062Z"
   },
   {
    "duration": 16068,
    "start_time": "2022-12-26T11:07:19.363Z"
   },
   {
    "duration": 741929,
    "start_time": "2022-12-26T11:07:35.432Z"
   },
   {
    "duration": 3,
    "start_time": "2022-12-26T11:19:57.363Z"
   },
   {
    "duration": 21,
    "start_time": "2022-12-26T11:19:57.367Z"
   },
   {
    "duration": 25,
    "start_time": "2022-12-26T11:19:57.389Z"
   },
   {
    "duration": 40,
    "start_time": "2022-12-26T11:19:57.416Z"
   },
   {
    "duration": 79929,
    "start_time": "2022-12-26T11:19:57.458Z"
   },
   {
    "duration": 0,
    "start_time": "2022-12-26T11:21:18.820Z"
   },
   {
    "duration": 0,
    "start_time": "2022-12-26T11:21:18.820Z"
   },
   {
    "duration": 10,
    "start_time": "2022-12-26T11:33:36.483Z"
   },
   {
    "duration": 1454,
    "start_time": "2022-12-26T11:33:55.407Z"
   },
   {
    "duration": 822,
    "start_time": "2022-12-26T11:33:56.863Z"
   },
   {
    "duration": 17,
    "start_time": "2022-12-26T11:33:57.686Z"
   },
   {
    "duration": 118,
    "start_time": "2022-12-26T11:33:57.705Z"
   },
   {
    "duration": 138,
    "start_time": "2022-12-26T11:33:57.825Z"
   },
   {
    "duration": 97,
    "start_time": "2022-12-26T11:33:57.964Z"
   },
   {
    "duration": 478,
    "start_time": "2022-12-26T11:33:58.063Z"
   },
   {
    "duration": 970,
    "start_time": "2022-12-26T11:33:58.543Z"
   },
   {
    "duration": 114,
    "start_time": "2022-12-26T11:33:59.515Z"
   },
   {
    "duration": 10,
    "start_time": "2022-12-26T11:33:59.631Z"
   },
   {
    "duration": 82,
    "start_time": "2022-12-26T11:33:59.642Z"
   },
   {
    "duration": 20,
    "start_time": "2022-12-26T11:33:59.726Z"
   },
   {
    "duration": 47,
    "start_time": "2022-12-26T11:33:59.748Z"
   },
   {
    "duration": 10,
    "start_time": "2022-12-26T11:33:59.797Z"
   },
   {
    "duration": 231,
    "start_time": "2022-12-26T11:33:59.808Z"
   },
   {
    "duration": 19,
    "start_time": "2022-12-26T11:34:00.041Z"
   },
   {
    "duration": 90,
    "start_time": "2022-12-26T11:34:00.062Z"
   },
   {
    "duration": 4,
    "start_time": "2022-12-26T11:34:00.154Z"
   },
   {
    "duration": 209,
    "start_time": "2022-12-26T11:34:00.160Z"
   },
   {
    "duration": 155,
    "start_time": "2022-12-26T11:34:00.378Z"
   },
   {
    "duration": 206,
    "start_time": "2022-12-26T11:34:00.535Z"
   },
   {
    "duration": 170,
    "start_time": "2022-12-26T11:34:00.742Z"
   },
   {
    "duration": 167,
    "start_time": "2022-12-26T11:34:00.913Z"
   },
   {
    "duration": 1707,
    "start_time": "2022-12-26T11:34:01.081Z"
   },
   {
    "duration": 12,
    "start_time": "2022-12-26T11:34:02.790Z"
   },
   {
    "duration": 29,
    "start_time": "2022-12-26T11:34:02.804Z"
   },
   {
    "duration": 1754,
    "start_time": "2022-12-26T11:34:02.835Z"
   },
   {
    "duration": 18,
    "start_time": "2022-12-26T11:34:04.591Z"
   },
   {
    "duration": 307,
    "start_time": "2022-12-26T11:34:04.611Z"
   },
   {
    "duration": 38,
    "start_time": "2022-12-26T11:34:04.920Z"
   },
   {
    "duration": 225,
    "start_time": "2022-12-26T11:34:04.960Z"
   },
   {
    "duration": 17,
    "start_time": "2022-12-26T11:34:05.186Z"
   },
   {
    "duration": 16,
    "start_time": "2022-12-26T11:34:05.204Z"
   },
   {
    "duration": 27,
    "start_time": "2022-12-26T11:34:05.221Z"
   },
   {
    "duration": 228,
    "start_time": "2022-12-26T11:34:05.250Z"
   },
   {
    "duration": 5,
    "start_time": "2022-12-26T11:34:05.479Z"
   },
   {
    "duration": 7,
    "start_time": "2022-12-26T11:34:05.486Z"
   },
   {
    "duration": 29,
    "start_time": "2022-12-26T11:34:05.495Z"
   },
   {
    "duration": 6,
    "start_time": "2022-12-26T11:34:05.526Z"
   },
   {
    "duration": 81,
    "start_time": "2022-12-26T11:34:05.533Z"
   },
   {
    "duration": 4,
    "start_time": "2022-12-26T11:34:05.617Z"
   },
   {
    "duration": 21,
    "start_time": "2022-12-26T11:34:05.623Z"
   },
   {
    "duration": 134,
    "start_time": "2022-12-26T11:34:05.646Z"
   },
   {
    "duration": 53,
    "start_time": "2022-12-26T11:34:05.782Z"
   },
   {
    "duration": 5,
    "start_time": "2022-12-26T11:34:05.837Z"
   },
   {
    "duration": 18,
    "start_time": "2022-12-26T11:34:05.843Z"
   },
   {
    "duration": 16,
    "start_time": "2022-12-26T11:34:05.863Z"
   },
   {
    "duration": 113,
    "start_time": "2022-12-26T11:34:05.881Z"
   },
   {
    "duration": 6,
    "start_time": "2022-12-26T11:34:05.995Z"
   },
   {
    "duration": 70,
    "start_time": "2022-12-26T11:34:06.003Z"
   },
   {
    "duration": 0,
    "start_time": "2022-12-26T11:34:06.074Z"
   },
   {
    "duration": 0,
    "start_time": "2022-12-26T11:34:06.075Z"
   },
   {
    "duration": 0,
    "start_time": "2022-12-26T11:34:06.077Z"
   },
   {
    "duration": 0,
    "start_time": "2022-12-26T11:34:06.077Z"
   },
   {
    "duration": 0,
    "start_time": "2022-12-26T11:34:06.078Z"
   },
   {
    "duration": 0,
    "start_time": "2022-12-26T11:34:06.080Z"
   },
   {
    "duration": 0,
    "start_time": "2022-12-26T11:34:06.081Z"
   },
   {
    "duration": 0,
    "start_time": "2022-12-26T11:34:06.082Z"
   },
   {
    "duration": 0,
    "start_time": "2022-12-26T11:34:06.083Z"
   },
   {
    "duration": 0,
    "start_time": "2022-12-26T11:34:06.084Z"
   },
   {
    "duration": 0,
    "start_time": "2022-12-26T11:34:06.085Z"
   },
   {
    "duration": 0,
    "start_time": "2022-12-26T11:34:06.086Z"
   },
   {
    "duration": 0,
    "start_time": "2022-12-26T11:34:06.087Z"
   },
   {
    "duration": 0,
    "start_time": "2022-12-26T11:34:06.088Z"
   },
   {
    "duration": 106,
    "start_time": "2022-12-26T11:48:13.409Z"
   },
   {
    "duration": 1436,
    "start_time": "2022-12-26T11:52:07.651Z"
   },
   {
    "duration": 808,
    "start_time": "2022-12-26T11:52:09.089Z"
   },
   {
    "duration": 16,
    "start_time": "2022-12-26T11:52:09.899Z"
   },
   {
    "duration": 109,
    "start_time": "2022-12-26T11:52:09.916Z"
   },
   {
    "duration": 109,
    "start_time": "2022-12-26T11:52:10.029Z"
   },
   {
    "duration": 101,
    "start_time": "2022-12-26T11:52:10.139Z"
   },
   {
    "duration": 439,
    "start_time": "2022-12-26T11:52:10.242Z"
   },
   {
    "duration": 900,
    "start_time": "2022-12-26T11:52:10.682Z"
   },
   {
    "duration": 70,
    "start_time": "2022-12-26T11:52:11.584Z"
   },
   {
    "duration": 23,
    "start_time": "2022-12-26T11:52:11.655Z"
   },
   {
    "duration": 68,
    "start_time": "2022-12-26T11:52:11.680Z"
   },
   {
    "duration": 28,
    "start_time": "2022-12-26T11:52:11.750Z"
   },
   {
    "duration": 16,
    "start_time": "2022-12-26T11:52:11.780Z"
   },
   {
    "duration": 11,
    "start_time": "2022-12-26T11:52:11.799Z"
   },
   {
    "duration": 259,
    "start_time": "2022-12-26T11:52:11.812Z"
   },
   {
    "duration": 21,
    "start_time": "2022-12-26T11:52:12.073Z"
   },
   {
    "duration": 85,
    "start_time": "2022-12-26T11:52:12.096Z"
   },
   {
    "duration": 4,
    "start_time": "2022-12-26T11:52:12.183Z"
   },
   {
    "duration": 189,
    "start_time": "2022-12-26T11:52:12.189Z"
   },
   {
    "duration": 161,
    "start_time": "2022-12-26T11:52:12.379Z"
   },
   {
    "duration": 202,
    "start_time": "2022-12-26T11:52:12.541Z"
   },
   {
    "duration": 170,
    "start_time": "2022-12-26T11:52:12.744Z"
   },
   {
    "duration": 148,
    "start_time": "2022-12-26T11:52:12.916Z"
   },
   {
    "duration": 1743,
    "start_time": "2022-12-26T11:52:13.065Z"
   },
   {
    "duration": 13,
    "start_time": "2022-12-26T11:52:14.809Z"
   },
   {
    "duration": 49,
    "start_time": "2022-12-26T11:52:14.824Z"
   },
   {
    "duration": 1696,
    "start_time": "2022-12-26T11:52:14.875Z"
   },
   {
    "duration": 18,
    "start_time": "2022-12-26T11:52:16.573Z"
   },
   {
    "duration": 306,
    "start_time": "2022-12-26T11:52:16.593Z"
   },
   {
    "duration": 29,
    "start_time": "2022-12-26T11:52:16.901Z"
   },
   {
    "duration": 220,
    "start_time": "2022-12-26T11:52:16.932Z"
   },
   {
    "duration": 24,
    "start_time": "2022-12-26T11:52:17.154Z"
   },
   {
    "duration": 17,
    "start_time": "2022-12-26T11:52:17.179Z"
   },
   {
    "duration": 25,
    "start_time": "2022-12-26T11:52:17.198Z"
   },
   {
    "duration": 224,
    "start_time": "2022-12-26T11:52:17.225Z"
   },
   {
    "duration": 6,
    "start_time": "2022-12-26T11:52:17.451Z"
   },
   {
    "duration": 21,
    "start_time": "2022-12-26T11:52:17.458Z"
   },
   {
    "duration": 30,
    "start_time": "2022-12-26T11:52:17.480Z"
   },
   {
    "duration": 6,
    "start_time": "2022-12-26T11:52:17.512Z"
   },
   {
    "duration": 75,
    "start_time": "2022-12-26T11:52:17.520Z"
   },
   {
    "duration": 4,
    "start_time": "2022-12-26T11:52:17.599Z"
   },
   {
    "duration": 14,
    "start_time": "2022-12-26T11:52:17.605Z"
   },
   {
    "duration": 123,
    "start_time": "2022-12-26T11:52:17.621Z"
   },
   {
    "duration": 52,
    "start_time": "2022-12-26T11:52:17.745Z"
   },
   {
    "duration": 4,
    "start_time": "2022-12-26T11:52:17.799Z"
   },
   {
    "duration": 14,
    "start_time": "2022-12-26T11:52:17.804Z"
   },
   {
    "duration": 11,
    "start_time": "2022-12-26T11:52:17.820Z"
   },
   {
    "duration": 116,
    "start_time": "2022-12-26T11:52:17.833Z"
   },
   {
    "duration": 6,
    "start_time": "2022-12-26T11:52:17.951Z"
   },
   {
    "duration": 67,
    "start_time": "2022-12-26T11:52:17.959Z"
   },
   {
    "duration": 0,
    "start_time": "2022-12-26T11:52:18.028Z"
   },
   {
    "duration": 0,
    "start_time": "2022-12-26T11:52:18.029Z"
   },
   {
    "duration": 0,
    "start_time": "2022-12-26T11:52:18.030Z"
   },
   {
    "duration": 0,
    "start_time": "2022-12-26T11:52:18.031Z"
   },
   {
    "duration": 0,
    "start_time": "2022-12-26T11:52:18.032Z"
   },
   {
    "duration": 0,
    "start_time": "2022-12-26T11:52:18.033Z"
   },
   {
    "duration": 0,
    "start_time": "2022-12-26T11:52:18.034Z"
   },
   {
    "duration": 0,
    "start_time": "2022-12-26T11:52:18.035Z"
   },
   {
    "duration": 0,
    "start_time": "2022-12-26T11:52:18.036Z"
   },
   {
    "duration": 0,
    "start_time": "2022-12-26T11:52:18.037Z"
   },
   {
    "duration": 0,
    "start_time": "2022-12-26T11:52:18.038Z"
   },
   {
    "duration": 0,
    "start_time": "2022-12-26T11:52:18.039Z"
   },
   {
    "duration": 0,
    "start_time": "2022-12-26T11:52:18.040Z"
   },
   {
    "duration": 0,
    "start_time": "2022-12-26T11:52:18.041Z"
   },
   {
    "duration": 3,
    "start_time": "2022-12-26T11:54:48.051Z"
   },
   {
    "duration": 4,
    "start_time": "2022-12-26T11:54:51.253Z"
   },
   {
    "duration": 5,
    "start_time": "2022-12-26T11:54:54.091Z"
   },
   {
    "duration": 112,
    "start_time": "2022-12-26T11:55:01.754Z"
   },
   {
    "duration": 3,
    "start_time": "2022-12-26T11:55:30.639Z"
   },
   {
    "duration": 421684,
    "start_time": "2022-12-26T11:55:51.304Z"
   },
   {
    "duration": 3,
    "start_time": "2022-12-26T12:06:02.965Z"
   },
   {
    "duration": 3,
    "start_time": "2022-12-26T12:07:30.847Z"
   },
   {
    "duration": 1380,
    "start_time": "2022-12-26T12:07:41.097Z"
   },
   {
    "duration": 783,
    "start_time": "2022-12-26T12:07:42.479Z"
   },
   {
    "duration": 21,
    "start_time": "2022-12-26T12:07:43.263Z"
   },
   {
    "duration": 107,
    "start_time": "2022-12-26T12:07:43.286Z"
   },
   {
    "duration": 97,
    "start_time": "2022-12-26T12:07:43.395Z"
   },
   {
    "duration": 94,
    "start_time": "2022-12-26T12:07:43.493Z"
   },
   {
    "duration": 489,
    "start_time": "2022-12-26T12:07:43.588Z"
   },
   {
    "duration": 952,
    "start_time": "2022-12-26T12:07:44.078Z"
   },
   {
    "duration": 78,
    "start_time": "2022-12-26T12:07:45.031Z"
   },
   {
    "duration": 11,
    "start_time": "2022-12-26T12:07:45.112Z"
   },
   {
    "duration": 101,
    "start_time": "2022-12-26T12:07:45.124Z"
   },
   {
    "duration": 25,
    "start_time": "2022-12-26T12:07:45.226Z"
   },
   {
    "duration": 41,
    "start_time": "2022-12-26T12:07:45.253Z"
   },
   {
    "duration": 24,
    "start_time": "2022-12-26T12:07:45.296Z"
   },
   {
    "duration": 251,
    "start_time": "2022-12-26T12:07:45.322Z"
   },
   {
    "duration": 20,
    "start_time": "2022-12-26T12:07:45.578Z"
   },
   {
    "duration": 101,
    "start_time": "2022-12-26T12:07:45.600Z"
   },
   {
    "duration": 5,
    "start_time": "2022-12-26T12:07:45.703Z"
   },
   {
    "duration": 216,
    "start_time": "2022-12-26T12:07:45.710Z"
   },
   {
    "duration": 167,
    "start_time": "2022-12-26T12:07:45.927Z"
   },
   {
    "duration": 198,
    "start_time": "2022-12-26T12:07:46.096Z"
   },
   {
    "duration": 181,
    "start_time": "2022-12-26T12:07:46.296Z"
   },
   {
    "duration": 151,
    "start_time": "2022-12-26T12:07:46.479Z"
   },
   {
    "duration": 1637,
    "start_time": "2022-12-26T12:07:46.632Z"
   },
   {
    "duration": 15,
    "start_time": "2022-12-26T12:07:48.271Z"
   },
   {
    "duration": 29,
    "start_time": "2022-12-26T12:07:48.287Z"
   },
   {
    "duration": 1674,
    "start_time": "2022-12-26T12:07:48.318Z"
   },
   {
    "duration": 17,
    "start_time": "2022-12-26T12:07:49.995Z"
   },
   {
    "duration": 346,
    "start_time": "2022-12-26T12:07:50.014Z"
   },
   {
    "duration": 40,
    "start_time": "2022-12-26T12:07:50.361Z"
   },
   {
    "duration": 211,
    "start_time": "2022-12-26T12:07:50.402Z"
   },
   {
    "duration": 16,
    "start_time": "2022-12-26T12:07:50.615Z"
   },
   {
    "duration": 30,
    "start_time": "2022-12-26T12:07:50.632Z"
   },
   {
    "duration": 37,
    "start_time": "2022-12-26T12:07:50.664Z"
   },
   {
    "duration": 215,
    "start_time": "2022-12-26T12:07:50.703Z"
   },
   {
    "duration": 5,
    "start_time": "2022-12-26T12:07:50.920Z"
   },
   {
    "duration": 29,
    "start_time": "2022-12-26T12:07:50.927Z"
   },
   {
    "duration": 52,
    "start_time": "2022-12-26T12:07:50.957Z"
   },
   {
    "duration": 6,
    "start_time": "2022-12-26T12:07:51.011Z"
   },
   {
    "duration": 83,
    "start_time": "2022-12-26T12:07:51.019Z"
   },
   {
    "duration": 14,
    "start_time": "2022-12-26T12:07:51.104Z"
   },
   {
    "duration": 36,
    "start_time": "2022-12-26T12:07:51.120Z"
   },
   {
    "duration": 130,
    "start_time": "2022-12-26T12:07:51.158Z"
   },
   {
    "duration": 158,
    "start_time": "2022-12-26T12:07:51.290Z"
   },
   {
    "duration": 5,
    "start_time": "2022-12-26T12:07:51.450Z"
   },
   {
    "duration": 29,
    "start_time": "2022-12-26T12:07:51.457Z"
   },
   {
    "duration": 36,
    "start_time": "2022-12-26T12:07:51.488Z"
   },
   {
    "duration": 27,
    "start_time": "2022-12-26T12:07:51.526Z"
   },
   {
    "duration": 10,
    "start_time": "2022-12-26T12:07:51.554Z"
   },
   {
    "duration": 15,
    "start_time": "2022-12-26T12:07:51.566Z"
   },
   {
    "duration": 26,
    "start_time": "2022-12-26T12:07:51.583Z"
   },
   {
    "duration": 33,
    "start_time": "2022-12-26T12:07:51.611Z"
   },
   {
    "duration": 31,
    "start_time": "2022-12-26T12:07:51.646Z"
   },
   {
    "duration": 24,
    "start_time": "2022-12-26T12:07:51.678Z"
   },
   {
    "duration": 19,
    "start_time": "2022-12-26T12:07:51.704Z"
   },
   {
    "duration": 29,
    "start_time": "2022-12-26T12:07:51.725Z"
   },
   {
    "duration": 36,
    "start_time": "2022-12-26T12:07:51.756Z"
   },
   {
    "duration": 23,
    "start_time": "2022-12-26T12:07:51.794Z"
   },
   {
    "duration": 20,
    "start_time": "2022-12-26T12:07:51.819Z"
   },
   {
    "duration": 28,
    "start_time": "2022-12-26T12:07:51.840Z"
   },
   {
    "duration": 23,
    "start_time": "2022-12-26T12:07:51.870Z"
   },
   {
    "duration": 2,
    "start_time": "2022-12-26T12:15:30.987Z"
   },
   {
    "duration": 45,
    "start_time": "2022-12-26T12:15:30.991Z"
   },
   {
    "duration": 1491,
    "start_time": "2022-12-26T12:19:42.955Z"
   },
   {
    "duration": 800,
    "start_time": "2022-12-26T12:19:44.448Z"
   },
   {
    "duration": 16,
    "start_time": "2022-12-26T12:19:45.250Z"
   },
   {
    "duration": 118,
    "start_time": "2022-12-26T12:19:45.268Z"
   },
   {
    "duration": 96,
    "start_time": "2022-12-26T12:19:45.388Z"
   },
   {
    "duration": 105,
    "start_time": "2022-12-26T12:19:45.485Z"
   },
   {
    "duration": 487,
    "start_time": "2022-12-26T12:19:45.592Z"
   },
   {
    "duration": 976,
    "start_time": "2022-12-26T12:19:46.081Z"
   },
   {
    "duration": 104,
    "start_time": "2022-12-26T12:19:47.058Z"
   },
   {
    "duration": 18,
    "start_time": "2022-12-26T12:19:47.164Z"
   },
   {
    "duration": 76,
    "start_time": "2022-12-26T12:19:47.184Z"
   },
   {
    "duration": 22,
    "start_time": "2022-12-26T12:19:47.262Z"
   },
   {
    "duration": 32,
    "start_time": "2022-12-26T12:19:47.286Z"
   },
   {
    "duration": 10,
    "start_time": "2022-12-26T12:19:47.321Z"
   },
   {
    "duration": 248,
    "start_time": "2022-12-26T12:19:47.333Z"
   },
   {
    "duration": 18,
    "start_time": "2022-12-26T12:19:47.583Z"
   },
   {
    "duration": 92,
    "start_time": "2022-12-26T12:19:47.603Z"
   },
   {
    "duration": 4,
    "start_time": "2022-12-26T12:19:47.696Z"
   },
   {
    "duration": 176,
    "start_time": "2022-12-26T12:19:47.702Z"
   },
   {
    "duration": 168,
    "start_time": "2022-12-26T12:19:47.880Z"
   },
   {
    "duration": 206,
    "start_time": "2022-12-26T12:19:48.050Z"
   },
   {
    "duration": 176,
    "start_time": "2022-12-26T12:19:48.258Z"
   },
   {
    "duration": 154,
    "start_time": "2022-12-26T12:19:48.437Z"
   },
   {
    "duration": 1791,
    "start_time": "2022-12-26T12:19:48.592Z"
   },
   {
    "duration": 13,
    "start_time": "2022-12-26T12:19:50.384Z"
   },
   {
    "duration": 27,
    "start_time": "2022-12-26T12:19:50.399Z"
   },
   {
    "duration": 1719,
    "start_time": "2022-12-26T12:19:50.428Z"
   },
   {
    "duration": 19,
    "start_time": "2022-12-26T12:19:52.149Z"
   },
   {
    "duration": 357,
    "start_time": "2022-12-26T12:19:52.178Z"
   },
   {
    "duration": 40,
    "start_time": "2022-12-26T12:19:52.537Z"
   },
   {
    "duration": 229,
    "start_time": "2022-12-26T12:19:52.580Z"
   },
   {
    "duration": 18,
    "start_time": "2022-12-26T12:19:52.810Z"
   },
   {
    "duration": 17,
    "start_time": "2022-12-26T12:19:52.830Z"
   },
   {
    "duration": 50,
    "start_time": "2022-12-26T12:19:52.849Z"
   },
   {
    "duration": 277,
    "start_time": "2022-12-26T12:19:52.901Z"
   },
   {
    "duration": 5,
    "start_time": "2022-12-26T12:19:53.180Z"
   },
   {
    "duration": 12,
    "start_time": "2022-12-26T12:19:53.187Z"
   },
   {
    "duration": 44,
    "start_time": "2022-12-26T12:19:53.201Z"
   },
   {
    "duration": 7,
    "start_time": "2022-12-26T12:19:53.247Z"
   },
   {
    "duration": 82,
    "start_time": "2022-12-26T12:19:53.256Z"
   },
   {
    "duration": 4,
    "start_time": "2022-12-26T12:19:53.342Z"
   },
   {
    "duration": 31,
    "start_time": "2022-12-26T12:19:53.348Z"
   },
   {
    "duration": 124,
    "start_time": "2022-12-26T12:19:53.381Z"
   },
   {
    "duration": 52,
    "start_time": "2022-12-26T12:19:53.507Z"
   },
   {
    "duration": 4,
    "start_time": "2022-12-26T12:19:53.561Z"
   },
   {
    "duration": 17,
    "start_time": "2022-12-26T12:19:53.567Z"
   },
   {
    "duration": 8,
    "start_time": "2022-12-26T12:19:53.586Z"
   },
   {
    "duration": 138,
    "start_time": "2022-12-26T12:19:53.596Z"
   },
   {
    "duration": 5,
    "start_time": "2022-12-26T12:19:53.736Z"
   },
   {
    "duration": 16,
    "start_time": "2022-12-26T12:19:53.743Z"
   },
   {
    "duration": 10,
    "start_time": "2022-12-26T12:19:53.760Z"
   },
   {
    "duration": 6,
    "start_time": "2022-12-26T12:19:53.772Z"
   },
   {
    "duration": 10,
    "start_time": "2022-12-26T12:19:53.780Z"
   },
   {
    "duration": 18,
    "start_time": "2022-12-26T12:19:53.792Z"
   },
   {
    "duration": 15,
    "start_time": "2022-12-26T12:19:53.812Z"
   },
   {
    "duration": 20,
    "start_time": "2022-12-26T12:19:53.829Z"
   },
   {
    "duration": 9,
    "start_time": "2022-12-26T12:19:53.851Z"
   },
   {
    "duration": 10,
    "start_time": "2022-12-26T12:19:53.862Z"
   },
   {
    "duration": 11,
    "start_time": "2022-12-26T12:19:53.874Z"
   },
   {
    "duration": 20,
    "start_time": "2022-12-26T12:19:53.887Z"
   },
   {
    "duration": 8,
    "start_time": "2022-12-26T12:19:53.909Z"
   },
   {
    "duration": 114761,
    "start_time": "2022-12-26T12:19:53.919Z"
   },
   {
    "duration": 2,
    "start_time": "2022-12-26T12:21:48.681Z"
   },
   {
    "duration": 24,
    "start_time": "2022-12-26T12:21:48.685Z"
   },
   {
    "duration": 4,
    "start_time": "2022-12-26T12:26:08.134Z"
   },
   {
    "duration": 5,
    "start_time": "2022-12-26T12:29:31.670Z"
   },
   {
    "duration": 4190,
    "start_time": "2022-12-26T12:29:54.137Z"
   },
   {
    "duration": 73,
    "start_time": "2022-12-26T12:33:38.407Z"
   },
   {
    "duration": 74,
    "start_time": "2022-12-26T12:42:05.945Z"
   },
   {
    "duration": 13,
    "start_time": "2022-12-26T12:45:07.994Z"
   },
   {
    "duration": 75,
    "start_time": "2022-12-26T12:47:30.561Z"
   },
   {
    "duration": 82,
    "start_time": "2022-12-26T12:51:23.963Z"
   },
   {
    "duration": 3,
    "start_time": "2022-12-26T12:51:41.349Z"
   },
   {
    "duration": 12,
    "start_time": "2022-12-26T13:04:10.984Z"
   },
   {
    "duration": 5,
    "start_time": "2022-12-26T13:05:58.084Z"
   },
   {
    "duration": 10,
    "start_time": "2022-12-26T13:07:18.783Z"
   },
   {
    "duration": 1446,
    "start_time": "2022-12-26T13:07:33.826Z"
   },
   {
    "duration": 839,
    "start_time": "2022-12-26T13:07:35.276Z"
   },
   {
    "duration": 18,
    "start_time": "2022-12-26T13:07:36.118Z"
   },
   {
    "duration": 127,
    "start_time": "2022-12-26T13:07:36.138Z"
   },
   {
    "duration": 92,
    "start_time": "2022-12-26T13:07:36.267Z"
   },
   {
    "duration": 105,
    "start_time": "2022-12-26T13:07:36.361Z"
   },
   {
    "duration": 466,
    "start_time": "2022-12-26T13:07:36.467Z"
   },
   {
    "duration": 960,
    "start_time": "2022-12-26T13:07:36.935Z"
   },
   {
    "duration": 109,
    "start_time": "2022-12-26T13:07:37.897Z"
   },
   {
    "duration": 11,
    "start_time": "2022-12-26T13:07:38.008Z"
   },
   {
    "duration": 78,
    "start_time": "2022-12-26T13:07:38.021Z"
   },
   {
    "duration": 26,
    "start_time": "2022-12-26T13:07:38.101Z"
   },
   {
    "duration": 55,
    "start_time": "2022-12-26T13:07:38.128Z"
   },
   {
    "duration": 26,
    "start_time": "2022-12-26T13:07:38.184Z"
   },
   {
    "duration": 272,
    "start_time": "2022-12-26T13:07:38.212Z"
   },
   {
    "duration": 18,
    "start_time": "2022-12-26T13:07:38.485Z"
   },
   {
    "duration": 91,
    "start_time": "2022-12-26T13:07:38.505Z"
   },
   {
    "duration": 4,
    "start_time": "2022-12-26T13:07:38.598Z"
   },
   {
    "duration": 184,
    "start_time": "2022-12-26T13:07:38.604Z"
   },
   {
    "duration": 198,
    "start_time": "2022-12-26T13:07:38.790Z"
   },
   {
    "duration": 192,
    "start_time": "2022-12-26T13:07:38.989Z"
   },
   {
    "duration": 190,
    "start_time": "2022-12-26T13:07:39.182Z"
   },
   {
    "duration": 168,
    "start_time": "2022-12-26T13:07:39.378Z"
   },
   {
    "duration": 1664,
    "start_time": "2022-12-26T13:07:39.548Z"
   },
   {
    "duration": 13,
    "start_time": "2022-12-26T13:07:41.214Z"
   },
   {
    "duration": 49,
    "start_time": "2022-12-26T13:07:41.228Z"
   },
   {
    "duration": 1834,
    "start_time": "2022-12-26T13:07:41.282Z"
   },
   {
    "duration": 21,
    "start_time": "2022-12-26T13:07:43.119Z"
   },
   {
    "duration": 323,
    "start_time": "2022-12-26T13:07:43.142Z"
   },
   {
    "duration": 47,
    "start_time": "2022-12-26T13:07:43.467Z"
   },
   {
    "duration": 225,
    "start_time": "2022-12-26T13:07:43.517Z"
   },
   {
    "duration": 15,
    "start_time": "2022-12-26T13:07:43.744Z"
   },
   {
    "duration": 27,
    "start_time": "2022-12-26T13:07:43.761Z"
   },
   {
    "duration": 25,
    "start_time": "2022-12-26T13:07:43.789Z"
   },
   {
    "duration": 267,
    "start_time": "2022-12-26T13:07:43.816Z"
   },
   {
    "duration": 6,
    "start_time": "2022-12-26T13:07:44.085Z"
   },
   {
    "duration": 16,
    "start_time": "2022-12-26T13:07:44.093Z"
   },
   {
    "duration": 52,
    "start_time": "2022-12-26T13:07:44.111Z"
   },
   {
    "duration": 14,
    "start_time": "2022-12-26T13:07:44.165Z"
   },
   {
    "duration": 57,
    "start_time": "2022-12-26T13:07:44.180Z"
   },
   {
    "duration": 4,
    "start_time": "2022-12-26T13:07:44.239Z"
   },
   {
    "duration": 34,
    "start_time": "2022-12-26T13:07:44.245Z"
   },
   {
    "duration": 115,
    "start_time": "2022-12-26T13:07:44.281Z"
   },
   {
    "duration": 152,
    "start_time": "2022-12-26T13:07:44.398Z"
   },
   {
    "duration": 4,
    "start_time": "2022-12-26T13:07:44.551Z"
   },
   {
    "duration": 22,
    "start_time": "2022-12-26T13:07:44.556Z"
   },
   {
    "duration": 3,
    "start_time": "2022-12-26T13:07:44.579Z"
   },
   {
    "duration": 31,
    "start_time": "2022-12-26T13:07:44.584Z"
   },
   {
    "duration": 17,
    "start_time": "2022-12-26T13:07:44.616Z"
   },
   {
    "duration": 35,
    "start_time": "2022-12-26T13:07:44.635Z"
   },
   {
    "duration": 28,
    "start_time": "2022-12-26T13:07:44.672Z"
   },
   {
    "duration": 15,
    "start_time": "2022-12-26T13:07:44.701Z"
   },
   {
    "duration": 39,
    "start_time": "2022-12-26T13:07:44.718Z"
   },
   {
    "duration": 30,
    "start_time": "2022-12-26T13:07:44.759Z"
   },
   {
    "duration": 16,
    "start_time": "2022-12-26T13:07:44.791Z"
   },
   {
    "duration": 25,
    "start_time": "2022-12-26T13:07:44.808Z"
   },
   {
    "duration": 16,
    "start_time": "2022-12-26T13:07:44.834Z"
   },
   {
    "duration": 31,
    "start_time": "2022-12-26T13:07:44.852Z"
   },
   {
    "duration": 16,
    "start_time": "2022-12-26T13:07:44.884Z"
   },
   {
    "duration": 20,
    "start_time": "2022-12-26T13:07:44.901Z"
   },
   {
    "duration": 28,
    "start_time": "2022-12-26T13:07:44.922Z"
   },
   {
    "duration": 19,
    "start_time": "2022-12-26T13:07:44.952Z"
   },
   {
    "duration": 118,
    "start_time": "2022-12-26T13:07:44.973Z"
   },
   {
    "duration": 0,
    "start_time": "2022-12-26T13:07:45.093Z"
   },
   {
    "duration": 3,
    "start_time": "2022-12-26T13:12:48.513Z"
   },
   {
    "duration": 4164,
    "start_time": "2022-12-26T13:13:02.787Z"
   },
   {
    "duration": 3,
    "start_time": "2022-12-26T13:13:56.901Z"
   },
   {
    "duration": 5324,
    "start_time": "2022-12-26T13:18:54.906Z"
   },
   {
    "duration": 5230,
    "start_time": "2022-12-26T13:19:46.807Z"
   },
   {
    "duration": 1349,
    "start_time": "2022-12-26T13:20:26.417Z"
   },
   {
    "duration": 768,
    "start_time": "2022-12-26T13:20:27.768Z"
   },
   {
    "duration": 16,
    "start_time": "2022-12-26T13:20:28.537Z"
   },
   {
    "duration": 122,
    "start_time": "2022-12-26T13:20:28.556Z"
   },
   {
    "duration": 100,
    "start_time": "2022-12-26T13:20:28.679Z"
   },
   {
    "duration": 105,
    "start_time": "2022-12-26T13:20:28.781Z"
   },
   {
    "duration": 491,
    "start_time": "2022-12-26T13:20:28.887Z"
   },
   {
    "duration": 974,
    "start_time": "2022-12-26T13:20:29.380Z"
   },
   {
    "duration": 65,
    "start_time": "2022-12-26T13:20:30.356Z"
   },
   {
    "duration": 10,
    "start_time": "2022-12-26T13:20:30.424Z"
   },
   {
    "duration": 109,
    "start_time": "2022-12-26T13:20:30.436Z"
   },
   {
    "duration": 41,
    "start_time": "2022-12-26T13:20:30.547Z"
   },
   {
    "duration": 52,
    "start_time": "2022-12-26T13:20:30.590Z"
   },
   {
    "duration": 34,
    "start_time": "2022-12-26T13:20:30.643Z"
   },
   {
    "duration": 279,
    "start_time": "2022-12-26T13:20:30.679Z"
   },
   {
    "duration": 23,
    "start_time": "2022-12-26T13:20:30.960Z"
   },
   {
    "duration": 141,
    "start_time": "2022-12-26T13:20:30.984Z"
   },
   {
    "duration": 4,
    "start_time": "2022-12-26T13:20:31.127Z"
   },
   {
    "duration": 237,
    "start_time": "2022-12-26T13:20:31.133Z"
   },
   {
    "duration": 160,
    "start_time": "2022-12-26T13:20:31.372Z"
   },
   {
    "duration": 202,
    "start_time": "2022-12-26T13:20:31.534Z"
   },
   {
    "duration": 168,
    "start_time": "2022-12-26T13:20:31.738Z"
   },
   {
    "duration": 152,
    "start_time": "2022-12-26T13:20:31.908Z"
   },
   {
    "duration": 1708,
    "start_time": "2022-12-26T13:20:32.062Z"
   },
   {
    "duration": 11,
    "start_time": "2022-12-26T13:20:33.778Z"
   },
   {
    "duration": 25,
    "start_time": "2022-12-26T13:20:33.791Z"
   },
   {
    "duration": 1628,
    "start_time": "2022-12-26T13:20:33.817Z"
   },
   {
    "duration": 16,
    "start_time": "2022-12-26T13:20:35.448Z"
   },
   {
    "duration": 349,
    "start_time": "2022-12-26T13:20:35.465Z"
   },
   {
    "duration": 31,
    "start_time": "2022-12-26T13:20:35.816Z"
   },
   {
    "duration": 207,
    "start_time": "2022-12-26T13:20:35.848Z"
   },
   {
    "duration": 22,
    "start_time": "2022-12-26T13:20:36.057Z"
   },
   {
    "duration": 16,
    "start_time": "2022-12-26T13:20:36.080Z"
   },
   {
    "duration": 26,
    "start_time": "2022-12-26T13:20:36.098Z"
   },
   {
    "duration": 219,
    "start_time": "2022-12-26T13:20:36.126Z"
   },
   {
    "duration": 6,
    "start_time": "2022-12-26T13:20:36.346Z"
   },
   {
    "duration": 9,
    "start_time": "2022-12-26T13:20:36.353Z"
   },
   {
    "duration": 36,
    "start_time": "2022-12-26T13:20:36.363Z"
   },
   {
    "duration": 7,
    "start_time": "2022-12-26T13:20:36.400Z"
   },
   {
    "duration": 75,
    "start_time": "2022-12-26T13:20:36.408Z"
   },
   {
    "duration": 4,
    "start_time": "2022-12-26T13:20:36.484Z"
   },
   {
    "duration": 15,
    "start_time": "2022-12-26T13:20:36.489Z"
   },
   {
    "duration": 123,
    "start_time": "2022-12-26T13:20:36.505Z"
   },
   {
    "duration": 161,
    "start_time": "2022-12-26T13:20:36.629Z"
   },
   {
    "duration": 6,
    "start_time": "2022-12-26T13:20:36.791Z"
   },
   {
    "duration": 9,
    "start_time": "2022-12-26T13:20:36.798Z"
   },
   {
    "duration": 5,
    "start_time": "2022-12-26T13:20:36.809Z"
   },
   {
    "duration": 11,
    "start_time": "2022-12-26T13:20:36.816Z"
   },
   {
    "duration": 4,
    "start_time": "2022-12-26T13:20:36.828Z"
   },
   {
    "duration": 20,
    "start_time": "2022-12-26T13:20:36.834Z"
   },
   {
    "duration": 16,
    "start_time": "2022-12-26T13:20:36.856Z"
   },
   {
    "duration": 9,
    "start_time": "2022-12-26T13:20:36.873Z"
   },
   {
    "duration": 7,
    "start_time": "2022-12-26T13:20:36.883Z"
   },
   {
    "duration": 8,
    "start_time": "2022-12-26T13:20:36.891Z"
   },
   {
    "duration": 5,
    "start_time": "2022-12-26T13:20:36.900Z"
   },
   {
    "duration": 5,
    "start_time": "2022-12-26T13:20:36.907Z"
   },
   {
    "duration": 21,
    "start_time": "2022-12-26T13:20:36.913Z"
   },
   {
    "duration": 11,
    "start_time": "2022-12-26T13:20:36.937Z"
   },
   {
    "duration": 18,
    "start_time": "2022-12-26T13:20:36.950Z"
   },
   {
    "duration": 6,
    "start_time": "2022-12-26T13:20:36.970Z"
   },
   {
    "duration": 8,
    "start_time": "2022-12-26T13:20:36.978Z"
   },
   {
    "duration": 10,
    "start_time": "2022-12-26T13:20:36.988Z"
   },
   {
    "duration": 5351,
    "start_time": "2022-12-26T13:20:37.000Z"
   },
   {
    "duration": 0,
    "start_time": "2022-12-26T13:20:42.352Z"
   },
   {
    "duration": 11,
    "start_time": "2022-12-26T13:36:42.902Z"
   },
   {
    "duration": 1508,
    "start_time": "2022-12-26T13:36:51.632Z"
   },
   {
    "duration": 920,
    "start_time": "2022-12-26T13:36:53.142Z"
   },
   {
    "duration": 26,
    "start_time": "2022-12-26T13:36:54.064Z"
   },
   {
    "duration": 159,
    "start_time": "2022-12-26T13:36:54.093Z"
   },
   {
    "duration": 120,
    "start_time": "2022-12-26T13:36:54.254Z"
   },
   {
    "duration": 111,
    "start_time": "2022-12-26T13:36:54.378Z"
   },
   {
    "duration": 514,
    "start_time": "2022-12-26T13:36:54.492Z"
   },
   {
    "duration": 1003,
    "start_time": "2022-12-26T13:36:55.007Z"
   },
   {
    "duration": 70,
    "start_time": "2022-12-26T13:36:56.012Z"
   },
   {
    "duration": 10,
    "start_time": "2022-12-26T13:36:56.084Z"
   },
   {
    "duration": 67,
    "start_time": "2022-12-26T13:36:56.096Z"
   },
   {
    "duration": 24,
    "start_time": "2022-12-26T13:36:56.164Z"
   },
   {
    "duration": 23,
    "start_time": "2022-12-26T13:36:56.189Z"
   },
   {
    "duration": 10,
    "start_time": "2022-12-26T13:36:56.214Z"
   },
   {
    "duration": 228,
    "start_time": "2022-12-26T13:36:56.225Z"
   },
   {
    "duration": 23,
    "start_time": "2022-12-26T13:36:56.455Z"
   },
   {
    "duration": 85,
    "start_time": "2022-12-26T13:36:56.480Z"
   },
   {
    "duration": 11,
    "start_time": "2022-12-26T13:36:56.567Z"
   },
   {
    "duration": 183,
    "start_time": "2022-12-26T13:36:56.580Z"
   },
   {
    "duration": 155,
    "start_time": "2022-12-26T13:36:56.764Z"
   },
   {
    "duration": 216,
    "start_time": "2022-12-26T13:36:56.921Z"
   },
   {
    "duration": 169,
    "start_time": "2022-12-26T13:36:57.139Z"
   },
   {
    "duration": 155,
    "start_time": "2022-12-26T13:36:57.310Z"
   },
   {
    "duration": 1737,
    "start_time": "2022-12-26T13:36:57.467Z"
   },
   {
    "duration": 13,
    "start_time": "2022-12-26T13:36:59.206Z"
   },
   {
    "duration": 30,
    "start_time": "2022-12-26T13:36:59.220Z"
   },
   {
    "duration": 1698,
    "start_time": "2022-12-26T13:36:59.252Z"
   },
   {
    "duration": 17,
    "start_time": "2022-12-26T13:37:00.955Z"
   },
   {
    "duration": 357,
    "start_time": "2022-12-26T13:37:00.979Z"
   },
   {
    "duration": 29,
    "start_time": "2022-12-26T13:37:01.338Z"
   },
   {
    "duration": 204,
    "start_time": "2022-12-26T13:37:01.378Z"
   },
   {
    "duration": 17,
    "start_time": "2022-12-26T13:37:01.584Z"
   },
   {
    "duration": 37,
    "start_time": "2022-12-26T13:37:01.603Z"
   },
   {
    "duration": 33,
    "start_time": "2022-12-26T13:37:01.642Z"
   },
   {
    "duration": 206,
    "start_time": "2022-12-26T13:37:01.677Z"
   },
   {
    "duration": 6,
    "start_time": "2022-12-26T13:37:01.884Z"
   },
   {
    "duration": 59,
    "start_time": "2022-12-26T13:37:01.892Z"
   },
   {
    "duration": 30,
    "start_time": "2022-12-26T13:37:01.953Z"
   },
   {
    "duration": 7,
    "start_time": "2022-12-26T13:37:01.986Z"
   },
   {
    "duration": 111,
    "start_time": "2022-12-26T13:37:01.995Z"
   },
   {
    "duration": 10,
    "start_time": "2022-12-26T13:37:02.108Z"
   },
   {
    "duration": 28,
    "start_time": "2022-12-26T13:37:02.119Z"
   },
   {
    "duration": 153,
    "start_time": "2022-12-26T13:37:02.149Z"
   },
   {
    "duration": 155,
    "start_time": "2022-12-26T13:37:02.304Z"
   },
   {
    "duration": 4,
    "start_time": "2022-12-26T13:37:02.461Z"
   },
   {
    "duration": 4,
    "start_time": "2022-12-26T13:37:02.477Z"
   },
   {
    "duration": 18,
    "start_time": "2022-12-26T13:37:02.483Z"
   },
   {
    "duration": 16,
    "start_time": "2022-12-26T13:37:02.503Z"
   },
   {
    "duration": 5,
    "start_time": "2022-12-26T13:37:02.521Z"
   },
   {
    "duration": 7,
    "start_time": "2022-12-26T13:37:02.527Z"
   },
   {
    "duration": 13,
    "start_time": "2022-12-26T13:37:02.536Z"
   },
   {
    "duration": 8,
    "start_time": "2022-12-26T13:37:02.551Z"
   },
   {
    "duration": 8,
    "start_time": "2022-12-26T13:37:02.561Z"
   },
   {
    "duration": 9,
    "start_time": "2022-12-26T13:37:02.571Z"
   },
   {
    "duration": 8,
    "start_time": "2022-12-26T13:37:02.582Z"
   },
   {
    "duration": 13,
    "start_time": "2022-12-26T13:37:02.592Z"
   },
   {
    "duration": 17,
    "start_time": "2022-12-26T13:37:02.607Z"
   },
   {
    "duration": 19,
    "start_time": "2022-12-26T13:37:02.626Z"
   },
   {
    "duration": 8,
    "start_time": "2022-12-26T13:37:02.647Z"
   },
   {
    "duration": 7,
    "start_time": "2022-12-26T13:37:02.657Z"
   },
   {
    "duration": 11,
    "start_time": "2022-12-26T13:37:02.666Z"
   },
   {
    "duration": 8,
    "start_time": "2022-12-26T13:37:02.679Z"
   },
   {
    "duration": 114,
    "start_time": "2022-12-26T13:37:02.689Z"
   },
   {
    "duration": 0,
    "start_time": "2022-12-26T13:37:02.805Z"
   },
   {
    "duration": 15360,
    "start_time": "2022-12-26T13:39:55.489Z"
   },
   {
    "duration": 10839,
    "start_time": "2022-12-26T13:42:04.775Z"
   },
   {
    "duration": 1506,
    "start_time": "2022-12-26T13:43:10.678Z"
   },
   {
    "duration": 802,
    "start_time": "2022-12-26T13:43:12.186Z"
   },
   {
    "duration": 16,
    "start_time": "2022-12-26T13:43:12.990Z"
   },
   {
    "duration": 124,
    "start_time": "2022-12-26T13:43:13.007Z"
   },
   {
    "duration": 99,
    "start_time": "2022-12-26T13:43:13.134Z"
   },
   {
    "duration": 100,
    "start_time": "2022-12-26T13:43:13.235Z"
   },
   {
    "duration": 456,
    "start_time": "2022-12-26T13:43:13.337Z"
   },
   {
    "duration": 952,
    "start_time": "2022-12-26T13:43:13.795Z"
   },
   {
    "duration": 70,
    "start_time": "2022-12-26T13:43:14.748Z"
   },
   {
    "duration": 10,
    "start_time": "2022-12-26T13:43:14.820Z"
   },
   {
    "duration": 75,
    "start_time": "2022-12-26T13:43:14.832Z"
   },
   {
    "duration": 13,
    "start_time": "2022-12-26T13:43:14.909Z"
   },
   {
    "duration": 18,
    "start_time": "2022-12-26T13:43:14.924Z"
   },
   {
    "duration": 14,
    "start_time": "2022-12-26T13:43:14.944Z"
   },
   {
    "duration": 269,
    "start_time": "2022-12-26T13:43:14.979Z"
   },
   {
    "duration": 27,
    "start_time": "2022-12-26T13:43:15.250Z"
   },
   {
    "duration": 75,
    "start_time": "2022-12-26T13:43:15.279Z"
   },
   {
    "duration": 5,
    "start_time": "2022-12-26T13:43:15.355Z"
   },
   {
    "duration": 182,
    "start_time": "2022-12-26T13:43:15.361Z"
   },
   {
    "duration": 180,
    "start_time": "2022-12-26T13:43:15.545Z"
   },
   {
    "duration": 209,
    "start_time": "2022-12-26T13:43:15.727Z"
   },
   {
    "duration": 188,
    "start_time": "2022-12-26T13:43:15.938Z"
   },
   {
    "duration": 165,
    "start_time": "2022-12-26T13:43:16.128Z"
   },
   {
    "duration": 1733,
    "start_time": "2022-12-26T13:43:16.295Z"
   },
   {
    "duration": 12,
    "start_time": "2022-12-26T13:43:18.030Z"
   },
   {
    "duration": 36,
    "start_time": "2022-12-26T13:43:18.044Z"
   },
   {
    "duration": 1791,
    "start_time": "2022-12-26T13:43:18.082Z"
   },
   {
    "duration": 19,
    "start_time": "2022-12-26T13:43:19.877Z"
   },
   {
    "duration": 358,
    "start_time": "2022-12-26T13:43:19.898Z"
   },
   {
    "duration": 41,
    "start_time": "2022-12-26T13:43:20.258Z"
   },
   {
    "duration": 229,
    "start_time": "2022-12-26T13:43:20.301Z"
   },
   {
    "duration": 18,
    "start_time": "2022-12-26T13:43:20.532Z"
   },
   {
    "duration": 43,
    "start_time": "2022-12-26T13:43:20.551Z"
   },
   {
    "duration": 51,
    "start_time": "2022-12-26T13:43:20.596Z"
   },
   {
    "duration": 241,
    "start_time": "2022-12-26T13:43:20.649Z"
   },
   {
    "duration": 7,
    "start_time": "2022-12-26T13:43:20.892Z"
   },
   {
    "duration": 32,
    "start_time": "2022-12-26T13:43:20.900Z"
   },
   {
    "duration": 63,
    "start_time": "2022-12-26T13:43:20.933Z"
   },
   {
    "duration": 8,
    "start_time": "2022-12-26T13:43:20.998Z"
   },
   {
    "duration": 99,
    "start_time": "2022-12-26T13:43:21.007Z"
   },
   {
    "duration": 6,
    "start_time": "2022-12-26T13:43:21.111Z"
   },
   {
    "duration": 64,
    "start_time": "2022-12-26T13:43:21.119Z"
   },
   {
    "duration": 172,
    "start_time": "2022-12-26T13:43:21.185Z"
   },
   {
    "duration": 59,
    "start_time": "2022-12-26T13:43:21.359Z"
   },
   {
    "duration": 5,
    "start_time": "2022-12-26T13:43:21.420Z"
   },
   {
    "duration": 24,
    "start_time": "2022-12-26T13:43:21.427Z"
   },
   {
    "duration": 43,
    "start_time": "2022-12-26T13:43:21.453Z"
   },
   {
    "duration": 124,
    "start_time": "2022-12-26T13:43:21.498Z"
   },
   {
    "duration": 30,
    "start_time": "2022-12-26T13:43:21.624Z"
   },
   {
    "duration": 12,
    "start_time": "2022-12-26T13:43:21.655Z"
   },
   {
    "duration": 59,
    "start_time": "2022-12-26T13:43:21.668Z"
   },
   {
    "duration": 28,
    "start_time": "2022-12-26T13:43:21.729Z"
   },
   {
    "duration": 36,
    "start_time": "2022-12-26T13:43:21.758Z"
   },
   {
    "duration": 47,
    "start_time": "2022-12-26T13:43:21.796Z"
   },
   {
    "duration": 59,
    "start_time": "2022-12-26T13:43:21.845Z"
   },
   {
    "duration": 36,
    "start_time": "2022-12-26T13:43:21.906Z"
   },
   {
    "duration": 19,
    "start_time": "2022-12-26T13:43:21.943Z"
   },
   {
    "duration": 31,
    "start_time": "2022-12-26T13:43:21.964Z"
   },
   {
    "duration": 16,
    "start_time": "2022-12-26T13:43:21.997Z"
   },
   {
    "duration": 29,
    "start_time": "2022-12-26T13:43:22.015Z"
   },
   {
    "duration": 14,
    "start_time": "2022-12-26T13:43:22.046Z"
   },
   {
    "duration": 35,
    "start_time": "2022-12-26T13:43:22.062Z"
   },
   {
    "duration": 10676,
    "start_time": "2022-12-26T13:43:22.099Z"
   },
   {
    "duration": 0,
    "start_time": "2022-12-26T13:43:32.777Z"
   },
   {
    "duration": 1405,
    "start_time": "2022-12-26T13:49:15.796Z"
   },
   {
    "duration": 799,
    "start_time": "2022-12-26T13:49:17.204Z"
   },
   {
    "duration": 19,
    "start_time": "2022-12-26T13:49:18.004Z"
   },
   {
    "duration": 116,
    "start_time": "2022-12-26T13:49:18.025Z"
   },
   {
    "duration": 92,
    "start_time": "2022-12-26T13:49:18.143Z"
   },
   {
    "duration": 103,
    "start_time": "2022-12-26T13:49:18.237Z"
   },
   {
    "duration": 453,
    "start_time": "2022-12-26T13:49:18.342Z"
   },
   {
    "duration": 1001,
    "start_time": "2022-12-26T13:49:18.796Z"
   },
   {
    "duration": 114,
    "start_time": "2022-12-26T13:49:19.799Z"
   },
   {
    "duration": 14,
    "start_time": "2022-12-26T13:49:19.917Z"
   },
   {
    "duration": 107,
    "start_time": "2022-12-26T13:49:19.932Z"
   },
   {
    "duration": 16,
    "start_time": "2022-12-26T13:49:20.041Z"
   },
   {
    "duration": 50,
    "start_time": "2022-12-26T13:49:20.059Z"
   },
   {
    "duration": 12,
    "start_time": "2022-12-26T13:49:20.111Z"
   },
   {
    "duration": 267,
    "start_time": "2022-12-26T13:49:20.125Z"
   },
   {
    "duration": 20,
    "start_time": "2022-12-26T13:49:20.393Z"
   },
   {
    "duration": 95,
    "start_time": "2022-12-26T13:49:20.415Z"
   },
   {
    "duration": 5,
    "start_time": "2022-12-26T13:49:20.511Z"
   },
   {
    "duration": 205,
    "start_time": "2022-12-26T13:49:20.518Z"
   },
   {
    "duration": 193,
    "start_time": "2022-12-26T13:49:20.725Z"
   },
   {
    "duration": 231,
    "start_time": "2022-12-26T13:49:20.920Z"
   },
   {
    "duration": 209,
    "start_time": "2022-12-26T13:49:21.154Z"
   },
   {
    "duration": 174,
    "start_time": "2022-12-26T13:49:21.365Z"
   },
   {
    "duration": 1794,
    "start_time": "2022-12-26T13:49:21.541Z"
   },
   {
    "duration": 13,
    "start_time": "2022-12-26T13:49:23.337Z"
   },
   {
    "duration": 44,
    "start_time": "2022-12-26T13:49:23.352Z"
   },
   {
    "duration": 1707,
    "start_time": "2022-12-26T13:49:23.397Z"
   },
   {
    "duration": 16,
    "start_time": "2022-12-26T13:49:25.108Z"
   },
   {
    "duration": 297,
    "start_time": "2022-12-26T13:49:25.125Z"
   },
   {
    "duration": 29,
    "start_time": "2022-12-26T13:49:25.424Z"
   },
   {
    "duration": 231,
    "start_time": "2022-12-26T13:49:25.455Z"
   },
   {
    "duration": 22,
    "start_time": "2022-12-26T13:49:25.688Z"
   },
   {
    "duration": 21,
    "start_time": "2022-12-26T13:49:25.712Z"
   },
   {
    "duration": 54,
    "start_time": "2022-12-26T13:49:25.735Z"
   },
   {
    "duration": 234,
    "start_time": "2022-12-26T13:49:25.792Z"
   },
   {
    "duration": 6,
    "start_time": "2022-12-26T13:49:26.028Z"
   },
   {
    "duration": 9,
    "start_time": "2022-12-26T13:49:26.035Z"
   },
   {
    "duration": 43,
    "start_time": "2022-12-26T13:49:26.046Z"
   },
   {
    "duration": 7,
    "start_time": "2022-12-26T13:49:26.091Z"
   },
   {
    "duration": 55,
    "start_time": "2022-12-26T13:49:26.099Z"
   },
   {
    "duration": 4,
    "start_time": "2022-12-26T13:49:26.156Z"
   },
   {
    "duration": 13,
    "start_time": "2022-12-26T13:49:26.177Z"
   },
   {
    "duration": 140,
    "start_time": "2022-12-26T13:49:26.191Z"
   },
   {
    "duration": 160,
    "start_time": "2022-12-26T13:49:26.333Z"
   },
   {
    "duration": 5,
    "start_time": "2022-12-26T13:49:26.494Z"
   },
   {
    "duration": 6,
    "start_time": "2022-12-26T13:49:26.500Z"
   },
   {
    "duration": 5,
    "start_time": "2022-12-26T13:49:26.508Z"
   },
   {
    "duration": 13,
    "start_time": "2022-12-26T13:49:26.514Z"
   },
   {
    "duration": 7,
    "start_time": "2022-12-26T13:49:26.528Z"
   },
   {
    "duration": 15,
    "start_time": "2022-12-26T13:49:26.536Z"
   },
   {
    "duration": 14,
    "start_time": "2022-12-26T13:49:26.553Z"
   },
   {
    "duration": 5,
    "start_time": "2022-12-26T13:49:26.569Z"
   },
   {
    "duration": 41,
    "start_time": "2022-12-26T13:49:26.575Z"
   },
   {
    "duration": 7,
    "start_time": "2022-12-26T13:49:26.617Z"
   },
   {
    "duration": 7,
    "start_time": "2022-12-26T13:49:26.626Z"
   },
   {
    "duration": 8,
    "start_time": "2022-12-26T13:49:26.635Z"
   },
   {
    "duration": 8,
    "start_time": "2022-12-26T13:49:26.644Z"
   },
   {
    "duration": 11,
    "start_time": "2022-12-26T13:49:26.653Z"
   },
   {
    "duration": 6,
    "start_time": "2022-12-26T13:49:26.665Z"
   },
   {
    "duration": 7,
    "start_time": "2022-12-26T13:49:26.672Z"
   },
   {
    "duration": 33,
    "start_time": "2022-12-26T13:49:26.680Z"
   },
   {
    "duration": 10,
    "start_time": "2022-12-26T13:49:26.715Z"
   },
   {
    "duration": 10650,
    "start_time": "2022-12-26T13:49:26.726Z"
   },
   {
    "duration": 0,
    "start_time": "2022-12-26T13:49:37.378Z"
   },
   {
    "duration": 5555450,
    "start_time": "2022-12-26T13:54:14.155Z"
   },
   {
    "duration": 5,
    "start_time": "2022-12-26T15:53:28.933Z"
   },
   {
    "duration": 10,
    "start_time": "2022-12-26T15:56:08.269Z"
   },
   {
    "duration": 4,
    "start_time": "2022-12-26T15:56:27.047Z"
   },
   {
    "duration": 1458,
    "start_time": "2022-12-26T15:56:34.493Z"
   },
   {
    "duration": 799,
    "start_time": "2022-12-26T15:56:35.952Z"
   },
   {
    "duration": 26,
    "start_time": "2022-12-26T15:56:36.753Z"
   },
   {
    "duration": 107,
    "start_time": "2022-12-26T15:56:36.781Z"
   },
   {
    "duration": 155,
    "start_time": "2022-12-26T15:56:36.889Z"
   },
   {
    "duration": 100,
    "start_time": "2022-12-26T15:56:37.046Z"
   },
   {
    "duration": 476,
    "start_time": "2022-12-26T15:56:37.148Z"
   },
   {
    "duration": 954,
    "start_time": "2022-12-26T15:56:37.626Z"
   },
   {
    "duration": 114,
    "start_time": "2022-12-26T15:56:38.581Z"
   },
   {
    "duration": 10,
    "start_time": "2022-12-26T15:56:38.698Z"
   },
   {
    "duration": 79,
    "start_time": "2022-12-26T15:56:38.710Z"
   },
   {
    "duration": 15,
    "start_time": "2022-12-26T15:56:38.790Z"
   },
   {
    "duration": 37,
    "start_time": "2022-12-26T15:56:38.807Z"
   },
   {
    "duration": 11,
    "start_time": "2022-12-26T15:56:38.845Z"
   },
   {
    "duration": 246,
    "start_time": "2022-12-26T15:56:38.857Z"
   },
   {
    "duration": 19,
    "start_time": "2022-12-26T15:56:39.104Z"
   },
   {
    "duration": 90,
    "start_time": "2022-12-26T15:56:39.125Z"
   },
   {
    "duration": 4,
    "start_time": "2022-12-26T15:56:39.216Z"
   },
   {
    "duration": 177,
    "start_time": "2022-12-26T15:56:39.222Z"
   },
   {
    "duration": 166,
    "start_time": "2022-12-26T15:56:39.401Z"
   },
   {
    "duration": 203,
    "start_time": "2022-12-26T15:56:39.569Z"
   },
   {
    "duration": 179,
    "start_time": "2022-12-26T15:56:39.777Z"
   },
   {
    "duration": 160,
    "start_time": "2022-12-26T15:56:39.958Z"
   },
   {
    "duration": 1834,
    "start_time": "2022-12-26T15:56:40.120Z"
   },
   {
    "duration": 23,
    "start_time": "2022-12-26T15:56:41.956Z"
   },
   {
    "duration": 30,
    "start_time": "2022-12-26T15:56:41.980Z"
   },
   {
    "duration": 1749,
    "start_time": "2022-12-26T15:56:42.012Z"
   },
   {
    "duration": 23,
    "start_time": "2022-12-26T15:56:43.765Z"
   },
   {
    "duration": 374,
    "start_time": "2022-12-26T15:56:43.790Z"
   },
   {
    "duration": 37,
    "start_time": "2022-12-26T15:56:44.166Z"
   },
   {
    "duration": 204,
    "start_time": "2022-12-26T15:56:44.205Z"
   },
   {
    "duration": 16,
    "start_time": "2022-12-26T15:56:44.410Z"
   },
   {
    "duration": 17,
    "start_time": "2022-12-26T15:56:44.427Z"
   },
   {
    "duration": 47,
    "start_time": "2022-12-26T15:56:44.445Z"
   },
   {
    "duration": 210,
    "start_time": "2022-12-26T15:56:44.494Z"
   },
   {
    "duration": 6,
    "start_time": "2022-12-26T15:56:44.705Z"
   },
   {
    "duration": 9,
    "start_time": "2022-12-26T15:56:44.712Z"
   },
   {
    "duration": 32,
    "start_time": "2022-12-26T15:56:44.723Z"
   },
   {
    "duration": 22,
    "start_time": "2022-12-26T15:56:44.757Z"
   },
   {
    "duration": 59,
    "start_time": "2022-12-26T15:56:44.781Z"
   },
   {
    "duration": 4,
    "start_time": "2022-12-26T15:56:44.842Z"
   },
   {
    "duration": 36,
    "start_time": "2022-12-26T15:56:44.848Z"
   },
   {
    "duration": 128,
    "start_time": "2022-12-26T15:56:44.886Z"
   },
   {
    "duration": 162,
    "start_time": "2022-12-26T15:56:45.016Z"
   },
   {
    "duration": 4,
    "start_time": "2022-12-26T15:56:45.180Z"
   },
   {
    "duration": 9,
    "start_time": "2022-12-26T15:56:45.186Z"
   },
   {
    "duration": 10,
    "start_time": "2022-12-26T15:56:45.196Z"
   },
   {
    "duration": 18,
    "start_time": "2022-12-26T15:56:45.208Z"
   },
   {
    "duration": 8,
    "start_time": "2022-12-26T15:56:45.229Z"
   },
   {
    "duration": 14,
    "start_time": "2022-12-26T15:56:45.239Z"
   },
   {
    "duration": 7,
    "start_time": "2022-12-26T15:56:45.255Z"
   },
   {
    "duration": 5,
    "start_time": "2022-12-26T15:56:45.264Z"
   },
   {
    "duration": 7,
    "start_time": "2022-12-26T15:56:45.271Z"
   },
   {
    "duration": 5,
    "start_time": "2022-12-26T15:56:45.280Z"
   },
   {
    "duration": 11,
    "start_time": "2022-12-26T15:56:45.287Z"
   },
   {
    "duration": 10,
    "start_time": "2022-12-26T15:56:45.300Z"
   },
   {
    "duration": 9,
    "start_time": "2022-12-26T15:56:45.312Z"
   },
   {
    "duration": 6,
    "start_time": "2022-12-26T15:56:45.323Z"
   },
   {
    "duration": 23,
    "start_time": "2022-12-26T15:56:45.330Z"
   },
   {
    "duration": 173,
    "start_time": "2022-12-26T15:56:45.355Z"
   },
   {
    "duration": 0,
    "start_time": "2022-12-26T15:56:45.530Z"
   },
   {
    "duration": 3,
    "start_time": "2022-12-26T15:57:14.371Z"
   },
   {
    "duration": 10,
    "start_time": "2022-12-26T15:57:37.133Z"
   },
   {
    "duration": 1453,
    "start_time": "2022-12-26T15:57:49.943Z"
   },
   {
    "duration": 854,
    "start_time": "2022-12-26T15:57:51.397Z"
   },
   {
    "duration": 26,
    "start_time": "2022-12-26T15:57:52.253Z"
   },
   {
    "duration": 122,
    "start_time": "2022-12-26T15:57:52.282Z"
   },
   {
    "duration": 151,
    "start_time": "2022-12-26T15:57:52.406Z"
   },
   {
    "duration": 119,
    "start_time": "2022-12-26T15:57:52.559Z"
   },
   {
    "duration": 513,
    "start_time": "2022-12-26T15:57:52.680Z"
   },
   {
    "duration": 1090,
    "start_time": "2022-12-26T15:57:53.195Z"
   },
   {
    "duration": 118,
    "start_time": "2022-12-26T15:57:54.287Z"
   },
   {
    "duration": 13,
    "start_time": "2022-12-26T15:57:54.408Z"
   },
   {
    "duration": 98,
    "start_time": "2022-12-26T15:57:54.422Z"
   },
   {
    "duration": 16,
    "start_time": "2022-12-26T15:57:54.522Z"
   },
   {
    "duration": 52,
    "start_time": "2022-12-26T15:57:54.540Z"
   },
   {
    "duration": 14,
    "start_time": "2022-12-26T15:57:54.593Z"
   },
   {
    "duration": 312,
    "start_time": "2022-12-26T15:57:54.608Z"
   },
   {
    "duration": 25,
    "start_time": "2022-12-26T15:57:54.922Z"
   },
   {
    "duration": 106,
    "start_time": "2022-12-26T15:57:54.950Z"
   },
   {
    "duration": 4,
    "start_time": "2022-12-26T15:57:55.058Z"
   },
   {
    "duration": 189,
    "start_time": "2022-12-26T15:57:55.077Z"
   },
   {
    "duration": 183,
    "start_time": "2022-12-26T15:57:55.268Z"
   },
   {
    "duration": 226,
    "start_time": "2022-12-26T15:57:55.453Z"
   },
   {
    "duration": 228,
    "start_time": "2022-12-26T15:57:55.681Z"
   },
   {
    "duration": 167,
    "start_time": "2022-12-26T15:57:55.911Z"
   },
   {
    "duration": 1742,
    "start_time": "2022-12-26T15:57:56.080Z"
   },
   {
    "duration": 12,
    "start_time": "2022-12-26T15:57:57.824Z"
   },
   {
    "duration": 41,
    "start_time": "2022-12-26T15:57:57.837Z"
   },
   {
    "duration": 1702,
    "start_time": "2022-12-26T15:57:57.880Z"
   },
   {
    "duration": 17,
    "start_time": "2022-12-26T15:57:59.585Z"
   },
   {
    "duration": 317,
    "start_time": "2022-12-26T15:57:59.603Z"
   },
   {
    "duration": 31,
    "start_time": "2022-12-26T15:57:59.922Z"
   },
   {
    "duration": 220,
    "start_time": "2022-12-26T15:57:59.954Z"
   },
   {
    "duration": 16,
    "start_time": "2022-12-26T15:58:00.177Z"
   },
   {
    "duration": 85,
    "start_time": "2022-12-26T15:58:00.195Z"
   },
   {
    "duration": 62,
    "start_time": "2022-12-26T15:58:00.282Z"
   },
   {
    "duration": 200,
    "start_time": "2022-12-26T15:58:00.346Z"
   },
   {
    "duration": 5,
    "start_time": "2022-12-26T15:58:00.548Z"
   },
   {
    "duration": 47,
    "start_time": "2022-12-26T15:58:00.554Z"
   },
   {
    "duration": 84,
    "start_time": "2022-12-26T15:58:00.603Z"
   },
   {
    "duration": 30,
    "start_time": "2022-12-26T15:58:00.689Z"
   },
   {
    "duration": 92,
    "start_time": "2022-12-26T15:58:00.721Z"
   },
   {
    "duration": 35,
    "start_time": "2022-12-26T15:58:00.815Z"
   },
   {
    "duration": 52,
    "start_time": "2022-12-26T15:58:00.852Z"
   },
   {
    "duration": 186,
    "start_time": "2022-12-26T15:58:00.907Z"
   },
   {
    "duration": 158,
    "start_time": "2022-12-26T15:58:01.095Z"
   },
   {
    "duration": 36,
    "start_time": "2022-12-26T15:58:01.254Z"
   },
   {
    "duration": 59,
    "start_time": "2022-12-26T15:58:01.291Z"
   },
   {
    "duration": 43,
    "start_time": "2022-12-26T15:58:01.351Z"
   },
   {
    "duration": 53,
    "start_time": "2022-12-26T15:58:01.396Z"
   },
   {
    "duration": 32,
    "start_time": "2022-12-26T15:58:01.451Z"
   },
   {
    "duration": 60,
    "start_time": "2022-12-26T15:58:01.486Z"
   },
   {
    "duration": 130,
    "start_time": "2022-12-26T15:58:01.547Z"
   },
   {
    "duration": 68,
    "start_time": "2022-12-26T15:58:01.678Z"
   },
   {
    "duration": 31,
    "start_time": "2022-12-26T15:58:01.748Z"
   },
   {
    "duration": 31,
    "start_time": "2022-12-26T15:58:01.781Z"
   },
   {
    "duration": 66,
    "start_time": "2022-12-26T15:58:01.814Z"
   },
   {
    "duration": 35,
    "start_time": "2022-12-26T15:58:01.882Z"
   },
   {
    "duration": 38,
    "start_time": "2022-12-26T15:58:01.919Z"
   },
   {
    "duration": 33,
    "start_time": "2022-12-26T15:58:01.959Z"
   },
   {
    "duration": 45,
    "start_time": "2022-12-26T15:58:01.994Z"
   },
   {
    "duration": 165,
    "start_time": "2022-12-26T15:58:02.041Z"
   },
   {
    "duration": 0,
    "start_time": "2022-12-26T15:58:02.208Z"
   },
   {
    "duration": 10,
    "start_time": "2022-12-26T15:58:32.133Z"
   },
   {
    "duration": 3,
    "start_time": "2022-12-26T16:01:16.144Z"
   },
   {
    "duration": 1401,
    "start_time": "2022-12-26T16:01:22.333Z"
   },
   {
    "duration": 866,
    "start_time": "2022-12-26T16:01:23.736Z"
   },
   {
    "duration": 17,
    "start_time": "2022-12-26T16:01:24.603Z"
   },
   {
    "duration": 118,
    "start_time": "2022-12-26T16:01:24.622Z"
   },
   {
    "duration": 101,
    "start_time": "2022-12-26T16:01:24.741Z"
   },
   {
    "duration": 109,
    "start_time": "2022-12-26T16:01:24.844Z"
   },
   {
    "duration": 458,
    "start_time": "2022-12-26T16:01:24.955Z"
   },
   {
    "duration": 962,
    "start_time": "2022-12-26T16:01:25.415Z"
   },
   {
    "duration": 108,
    "start_time": "2022-12-26T16:01:26.379Z"
   },
   {
    "duration": 10,
    "start_time": "2022-12-26T16:01:26.489Z"
   },
   {
    "duration": 79,
    "start_time": "2022-12-26T16:01:26.501Z"
   },
   {
    "duration": 14,
    "start_time": "2022-12-26T16:01:26.582Z"
   },
   {
    "duration": 40,
    "start_time": "2022-12-26T16:01:26.598Z"
   },
   {
    "duration": 10,
    "start_time": "2022-12-26T16:01:26.639Z"
   },
   {
    "duration": 229,
    "start_time": "2022-12-26T16:01:26.650Z"
   },
   {
    "duration": 18,
    "start_time": "2022-12-26T16:01:26.881Z"
   },
   {
    "duration": 87,
    "start_time": "2022-12-26T16:01:26.901Z"
   },
   {
    "duration": 4,
    "start_time": "2022-12-26T16:01:26.990Z"
   },
   {
    "duration": 172,
    "start_time": "2022-12-26T16:01:26.995Z"
   },
   {
    "duration": 159,
    "start_time": "2022-12-26T16:01:27.168Z"
   },
   {
    "duration": 197,
    "start_time": "2022-12-26T16:01:27.328Z"
   },
   {
    "duration": 175,
    "start_time": "2022-12-26T16:01:27.527Z"
   },
   {
    "duration": 156,
    "start_time": "2022-12-26T16:01:27.703Z"
   },
   {
    "duration": 1712,
    "start_time": "2022-12-26T16:01:27.861Z"
   },
   {
    "duration": 14,
    "start_time": "2022-12-26T16:01:29.577Z"
   },
   {
    "duration": 34,
    "start_time": "2022-12-26T16:01:29.593Z"
   },
   {
    "duration": 1691,
    "start_time": "2022-12-26T16:01:29.629Z"
   },
   {
    "duration": 17,
    "start_time": "2022-12-26T16:01:31.325Z"
   },
   {
    "duration": 329,
    "start_time": "2022-12-26T16:01:31.343Z"
   },
   {
    "duration": 36,
    "start_time": "2022-12-26T16:01:31.674Z"
   },
   {
    "duration": 230,
    "start_time": "2022-12-26T16:01:31.712Z"
   },
   {
    "duration": 17,
    "start_time": "2022-12-26T16:01:31.943Z"
   },
   {
    "duration": 28,
    "start_time": "2022-12-26T16:01:31.961Z"
   },
   {
    "duration": 28,
    "start_time": "2022-12-26T16:01:31.991Z"
   },
   {
    "duration": 215,
    "start_time": "2022-12-26T16:01:32.021Z"
   },
   {
    "duration": 5,
    "start_time": "2022-12-26T16:01:32.238Z"
   },
   {
    "duration": 17,
    "start_time": "2022-12-26T16:01:32.244Z"
   },
   {
    "duration": 37,
    "start_time": "2022-12-26T16:01:32.263Z"
   },
   {
    "duration": 7,
    "start_time": "2022-12-26T16:01:32.301Z"
   },
   {
    "duration": 71,
    "start_time": "2022-12-26T16:01:32.309Z"
   },
   {
    "duration": 4,
    "start_time": "2022-12-26T16:01:32.382Z"
   },
   {
    "duration": 14,
    "start_time": "2022-12-26T16:01:32.389Z"
   },
   {
    "duration": 129,
    "start_time": "2022-12-26T16:01:32.405Z"
   },
   {
    "duration": 161,
    "start_time": "2022-12-26T16:01:32.536Z"
   },
   {
    "duration": 4,
    "start_time": "2022-12-26T16:01:32.699Z"
   },
   {
    "duration": 13,
    "start_time": "2022-12-26T16:01:32.704Z"
   },
   {
    "duration": 11,
    "start_time": "2022-12-26T16:01:32.719Z"
   },
   {
    "duration": 14,
    "start_time": "2022-12-26T16:01:32.731Z"
   },
   {
    "duration": 6,
    "start_time": "2022-12-26T16:01:32.746Z"
   },
   {
    "duration": 7,
    "start_time": "2022-12-26T16:01:32.754Z"
   },
   {
    "duration": 6,
    "start_time": "2022-12-26T16:01:32.762Z"
   },
   {
    "duration": 9,
    "start_time": "2022-12-26T16:01:32.769Z"
   },
   {
    "duration": 10,
    "start_time": "2022-12-26T16:01:32.779Z"
   },
   {
    "duration": 5,
    "start_time": "2022-12-26T16:01:32.791Z"
   },
   {
    "duration": 7,
    "start_time": "2022-12-26T16:01:32.797Z"
   },
   {
    "duration": 7,
    "start_time": "2022-12-26T16:01:32.806Z"
   },
   {
    "duration": 12,
    "start_time": "2022-12-26T16:01:32.815Z"
   },
   {
    "duration": 16,
    "start_time": "2022-12-26T16:01:32.828Z"
   },
   {
    "duration": 10,
    "start_time": "2022-12-26T16:01:32.846Z"
   },
   {
    "duration": 133,
    "start_time": "2022-12-26T16:01:32.857Z"
   },
   {
    "duration": 0,
    "start_time": "2022-12-26T16:01:32.992Z"
   },
   {
    "duration": 1438,
    "start_time": "2022-12-26T16:52:32.119Z"
   },
   {
    "duration": 833,
    "start_time": "2022-12-26T16:52:33.559Z"
   },
   {
    "duration": 16,
    "start_time": "2022-12-26T16:52:34.393Z"
   },
   {
    "duration": 119,
    "start_time": "2022-12-26T16:52:34.411Z"
   },
   {
    "duration": 134,
    "start_time": "2022-12-26T16:52:34.531Z"
   },
   {
    "duration": 111,
    "start_time": "2022-12-26T16:52:34.667Z"
   },
   {
    "duration": 460,
    "start_time": "2022-12-26T16:52:34.780Z"
   },
   {
    "duration": 932,
    "start_time": "2022-12-26T16:52:35.242Z"
   },
   {
    "duration": 102,
    "start_time": "2022-12-26T16:52:36.178Z"
   },
   {
    "duration": 10,
    "start_time": "2022-12-26T16:52:36.284Z"
   },
   {
    "duration": 107,
    "start_time": "2022-12-26T16:52:36.295Z"
   },
   {
    "duration": 14,
    "start_time": "2022-12-26T16:52:36.404Z"
   },
   {
    "duration": 59,
    "start_time": "2022-12-26T16:52:36.420Z"
   },
   {
    "duration": 12,
    "start_time": "2022-12-26T16:52:36.480Z"
   },
   {
    "duration": 269,
    "start_time": "2022-12-26T16:52:36.494Z"
   },
   {
    "duration": 22,
    "start_time": "2022-12-26T16:52:36.765Z"
   },
   {
    "duration": 77,
    "start_time": "2022-12-26T16:52:36.788Z"
   },
   {
    "duration": 4,
    "start_time": "2022-12-26T16:52:36.877Z"
   },
   {
    "duration": 219,
    "start_time": "2022-12-26T16:52:36.883Z"
   },
   {
    "duration": 155,
    "start_time": "2022-12-26T16:52:37.104Z"
   },
   {
    "duration": 193,
    "start_time": "2022-12-26T16:52:37.261Z"
   },
   {
    "duration": 178,
    "start_time": "2022-12-26T16:52:37.456Z"
   },
   {
    "duration": 147,
    "start_time": "2022-12-26T16:52:37.636Z"
   },
   {
    "duration": 1724,
    "start_time": "2022-12-26T16:52:37.785Z"
   },
   {
    "duration": 14,
    "start_time": "2022-12-26T16:52:39.510Z"
   },
   {
    "duration": 31,
    "start_time": "2022-12-26T16:52:39.526Z"
   },
   {
    "duration": 1709,
    "start_time": "2022-12-26T16:52:39.559Z"
   },
   {
    "duration": 23,
    "start_time": "2022-12-26T16:52:41.272Z"
   },
   {
    "duration": 323,
    "start_time": "2022-12-26T16:52:41.298Z"
   },
   {
    "duration": 31,
    "start_time": "2022-12-26T16:52:41.622Z"
   },
   {
    "duration": 206,
    "start_time": "2022-12-26T16:52:41.655Z"
   },
   {
    "duration": 25,
    "start_time": "2022-12-26T16:52:41.863Z"
   },
   {
    "duration": 15,
    "start_time": "2022-12-26T16:52:41.890Z"
   },
   {
    "duration": 26,
    "start_time": "2022-12-26T16:52:41.906Z"
   },
   {
    "duration": 221,
    "start_time": "2022-12-26T16:52:41.933Z"
   },
   {
    "duration": 5,
    "start_time": "2022-12-26T16:52:42.156Z"
   },
   {
    "duration": 21,
    "start_time": "2022-12-26T16:52:42.162Z"
   },
   {
    "duration": 29,
    "start_time": "2022-12-26T16:52:42.185Z"
   },
   {
    "duration": 8,
    "start_time": "2022-12-26T16:52:42.215Z"
   },
   {
    "duration": 85,
    "start_time": "2022-12-26T16:52:42.224Z"
   },
   {
    "duration": 4,
    "start_time": "2022-12-26T16:52:42.310Z"
   },
   {
    "duration": 14,
    "start_time": "2022-12-26T16:52:42.315Z"
   },
   {
    "duration": 124,
    "start_time": "2022-12-26T16:52:42.330Z"
   },
   {
    "duration": 154,
    "start_time": "2022-12-26T16:52:42.456Z"
   },
   {
    "duration": 5,
    "start_time": "2022-12-26T16:52:42.612Z"
   },
   {
    "duration": 10,
    "start_time": "2022-12-26T16:52:42.618Z"
   },
   {
    "duration": 6,
    "start_time": "2022-12-26T16:52:42.629Z"
   },
   {
    "duration": 11,
    "start_time": "2022-12-26T16:52:42.637Z"
   },
   {
    "duration": 3,
    "start_time": "2022-12-26T16:52:42.650Z"
   },
   {
    "duration": 8,
    "start_time": "2022-12-26T16:52:42.655Z"
   },
   {
    "duration": 3,
    "start_time": "2022-12-26T16:52:42.678Z"
   },
   {
    "duration": 18,
    "start_time": "2022-12-26T16:52:42.682Z"
   },
   {
    "duration": 5,
    "start_time": "2022-12-26T16:52:42.701Z"
   },
   {
    "duration": 5,
    "start_time": "2022-12-26T16:52:42.708Z"
   },
   {
    "duration": 5,
    "start_time": "2022-12-26T16:52:42.715Z"
   },
   {
    "duration": 7,
    "start_time": "2022-12-26T16:52:42.721Z"
   },
   {
    "duration": 12,
    "start_time": "2022-12-26T16:52:42.730Z"
   },
   {
    "duration": 5,
    "start_time": "2022-12-26T16:52:42.743Z"
   },
   {
    "duration": 5,
    "start_time": "2022-12-26T16:52:42.749Z"
   },
   {
    "duration": 112,
    "start_time": "2022-12-26T16:52:42.756Z"
   },
   {
    "duration": 1,
    "start_time": "2022-12-26T16:52:42.869Z"
   },
   {
    "duration": 11,
    "start_time": "2022-12-26T16:54:28.968Z"
   },
   {
    "duration": 5,
    "start_time": "2022-12-26T16:55:01.444Z"
   },
   {
    "duration": 3,
    "start_time": "2022-12-26T16:55:05.611Z"
   },
   {
    "duration": 11,
    "start_time": "2022-12-26T16:55:28.876Z"
   },
   {
    "duration": 273707,
    "start_time": "2022-12-26T16:57:19.191Z"
   },
   {
    "duration": 736275,
    "start_time": "2022-12-26T17:03:59.457Z"
   },
   {
    "duration": 13,
    "start_time": "2022-12-26T17:16:15.750Z"
   },
   {
    "duration": 15044,
    "start_time": "2022-12-26T17:18:38.121Z"
   },
   {
    "duration": 11,
    "start_time": "2022-12-26T17:18:53.168Z"
   },
   {
    "duration": 20003,
    "start_time": "2022-12-26T17:23:19.867Z"
   },
   {
    "duration": 77,
    "start_time": "2022-12-26T17:30:45.743Z"
   },
   {
    "duration": 5826,
    "start_time": "2022-12-26T17:31:00.891Z"
   },
   {
    "duration": 6074,
    "start_time": "2022-12-26T17:32:28.958Z"
   },
   {
    "duration": 1467,
    "start_time": "2022-12-26T17:33:46.411Z"
   },
   {
    "duration": 797,
    "start_time": "2022-12-26T17:33:47.880Z"
   },
   {
    "duration": 16,
    "start_time": "2022-12-26T17:33:48.678Z"
   },
   {
    "duration": 119,
    "start_time": "2022-12-26T17:33:48.696Z"
   },
   {
    "duration": 113,
    "start_time": "2022-12-26T17:33:48.818Z"
   },
   {
    "duration": 144,
    "start_time": "2022-12-26T17:33:48.933Z"
   },
   {
    "duration": 472,
    "start_time": "2022-12-26T17:33:49.080Z"
   },
   {
    "duration": 977,
    "start_time": "2022-12-26T17:33:49.554Z"
   },
   {
    "duration": 78,
    "start_time": "2022-12-26T17:33:50.533Z"
   },
   {
    "duration": 10,
    "start_time": "2022-12-26T17:33:50.615Z"
   },
   {
    "duration": 124,
    "start_time": "2022-12-26T17:33:50.627Z"
   },
   {
    "duration": 37,
    "start_time": "2022-12-26T17:33:50.752Z"
   },
   {
    "duration": 46,
    "start_time": "2022-12-26T17:33:50.791Z"
   },
   {
    "duration": 41,
    "start_time": "2022-12-26T17:33:50.839Z"
   },
   {
    "duration": 291,
    "start_time": "2022-12-26T17:33:50.882Z"
   },
   {
    "duration": 20,
    "start_time": "2022-12-26T17:33:51.178Z"
   },
   {
    "duration": 112,
    "start_time": "2022-12-26T17:33:51.200Z"
   },
   {
    "duration": 4,
    "start_time": "2022-12-26T17:33:51.314Z"
   },
   {
    "duration": 208,
    "start_time": "2022-12-26T17:33:51.319Z"
   },
   {
    "duration": 177,
    "start_time": "2022-12-26T17:33:51.528Z"
   },
   {
    "duration": 219,
    "start_time": "2022-12-26T17:33:51.707Z"
   },
   {
    "duration": 228,
    "start_time": "2022-12-26T17:33:51.928Z"
   },
   {
    "duration": 181,
    "start_time": "2022-12-26T17:33:52.158Z"
   },
   {
    "duration": 1971,
    "start_time": "2022-12-26T17:33:52.341Z"
   },
   {
    "duration": 13,
    "start_time": "2022-12-26T17:33:54.314Z"
   },
   {
    "duration": 32,
    "start_time": "2022-12-26T17:33:54.329Z"
   },
   {
    "duration": 1928,
    "start_time": "2022-12-26T17:33:54.362Z"
   },
   {
    "duration": 18,
    "start_time": "2022-12-26T17:33:56.294Z"
   },
   {
    "duration": 321,
    "start_time": "2022-12-26T17:33:56.314Z"
   },
   {
    "duration": 30,
    "start_time": "2022-12-26T17:33:56.637Z"
   },
   {
    "duration": 209,
    "start_time": "2022-12-26T17:33:56.677Z"
   },
   {
    "duration": 16,
    "start_time": "2022-12-26T17:33:56.888Z"
   },
   {
    "duration": 18,
    "start_time": "2022-12-26T17:33:56.906Z"
   },
   {
    "duration": 56,
    "start_time": "2022-12-26T17:33:56.926Z"
   },
   {
    "duration": 202,
    "start_time": "2022-12-26T17:33:56.984Z"
   },
   {
    "duration": 5,
    "start_time": "2022-12-26T17:33:57.187Z"
   },
   {
    "duration": 9,
    "start_time": "2022-12-26T17:33:57.194Z"
   },
   {
    "duration": 29,
    "start_time": "2022-12-26T17:33:57.205Z"
   },
   {
    "duration": 7,
    "start_time": "2022-12-26T17:33:57.236Z"
   },
   {
    "duration": 83,
    "start_time": "2022-12-26T17:33:57.244Z"
   },
   {
    "duration": 4,
    "start_time": "2022-12-26T17:33:57.328Z"
   },
   {
    "duration": 20,
    "start_time": "2022-12-26T17:33:57.334Z"
   },
   {
    "duration": 122,
    "start_time": "2022-12-26T17:33:57.356Z"
   },
   {
    "duration": 165,
    "start_time": "2022-12-26T17:33:57.479Z"
   },
   {
    "duration": 5,
    "start_time": "2022-12-26T17:33:57.645Z"
   },
   {
    "duration": 8,
    "start_time": "2022-12-26T17:33:57.651Z"
   },
   {
    "duration": 17,
    "start_time": "2022-12-26T17:33:57.661Z"
   },
   {
    "duration": 13,
    "start_time": "2022-12-26T17:33:57.680Z"
   },
   {
    "duration": 4,
    "start_time": "2022-12-26T17:33:57.695Z"
   },
   {
    "duration": 18,
    "start_time": "2022-12-26T17:33:57.700Z"
   },
   {
    "duration": 11,
    "start_time": "2022-12-26T17:33:57.720Z"
   },
   {
    "duration": 5,
    "start_time": "2022-12-26T17:33:57.733Z"
   },
   {
    "duration": 5,
    "start_time": "2022-12-26T17:33:57.740Z"
   },
   {
    "duration": 7,
    "start_time": "2022-12-26T17:33:57.746Z"
   },
   {
    "duration": 6,
    "start_time": "2022-12-26T17:33:57.755Z"
   },
   {
    "duration": 7,
    "start_time": "2022-12-26T17:33:57.762Z"
   },
   {
    "duration": 2,
    "start_time": "2022-12-26T17:33:57.778Z"
   },
   {
    "duration": 12,
    "start_time": "2022-12-26T17:33:57.782Z"
   },
   {
    "duration": 9,
    "start_time": "2022-12-26T17:33:57.796Z"
   },
   {
    "duration": 16,
    "start_time": "2022-12-26T17:33:57.807Z"
   },
   {
    "duration": 5926,
    "start_time": "2022-12-26T17:33:57.825Z"
   },
   {
    "duration": 0,
    "start_time": "2022-12-26T17:34:03.752Z"
   },
   {
    "duration": 0,
    "start_time": "2022-12-26T17:34:03.753Z"
   },
   {
    "duration": 0,
    "start_time": "2022-12-26T17:34:03.754Z"
   },
   {
    "duration": 6315,
    "start_time": "2022-12-26T18:01:55.228Z"
   },
   {
    "duration": 1467,
    "start_time": "2022-12-26T18:16:31.046Z"
   },
   {
    "duration": 823,
    "start_time": "2022-12-26T18:16:32.515Z"
   },
   {
    "duration": 20,
    "start_time": "2022-12-26T18:16:33.340Z"
   },
   {
    "duration": 131,
    "start_time": "2022-12-26T18:16:33.362Z"
   },
   {
    "duration": 108,
    "start_time": "2022-12-26T18:16:33.496Z"
   },
   {
    "duration": 114,
    "start_time": "2022-12-26T18:16:33.606Z"
   },
   {
    "duration": 522,
    "start_time": "2022-12-26T18:16:33.722Z"
   },
   {
    "duration": 942,
    "start_time": "2022-12-26T18:16:34.246Z"
   },
   {
    "duration": 114,
    "start_time": "2022-12-26T18:16:35.190Z"
   },
   {
    "duration": 12,
    "start_time": "2022-12-26T18:16:35.316Z"
   },
   {
    "duration": 75,
    "start_time": "2022-12-26T18:16:35.330Z"
   },
   {
    "duration": 15,
    "start_time": "2022-12-26T18:16:35.407Z"
   },
   {
    "duration": 49,
    "start_time": "2022-12-26T18:16:35.423Z"
   },
   {
    "duration": 10,
    "start_time": "2022-12-26T18:16:35.475Z"
   },
   {
    "duration": 263,
    "start_time": "2022-12-26T18:16:35.486Z"
   },
   {
    "duration": 27,
    "start_time": "2022-12-26T18:16:35.751Z"
   },
   {
    "duration": 84,
    "start_time": "2022-12-26T18:16:35.780Z"
   },
   {
    "duration": 3,
    "start_time": "2022-12-26T18:16:35.866Z"
   },
   {
    "duration": 180,
    "start_time": "2022-12-26T18:16:35.870Z"
   },
   {
    "duration": 163,
    "start_time": "2022-12-26T18:16:36.052Z"
   },
   {
    "duration": 191,
    "start_time": "2022-12-26T18:16:36.216Z"
   },
   {
    "duration": 167,
    "start_time": "2022-12-26T18:16:36.409Z"
   },
   {
    "duration": 147,
    "start_time": "2022-12-26T18:16:36.577Z"
   },
   {
    "duration": 1706,
    "start_time": "2022-12-26T18:16:36.725Z"
   },
   {
    "duration": 14,
    "start_time": "2022-12-26T18:16:38.433Z"
   },
   {
    "duration": 44,
    "start_time": "2022-12-26T18:16:38.448Z"
   },
   {
    "duration": 1716,
    "start_time": "2022-12-26T18:16:38.493Z"
   },
   {
    "duration": 17,
    "start_time": "2022-12-26T18:16:40.211Z"
   },
   {
    "duration": 364,
    "start_time": "2022-12-26T18:16:40.230Z"
   },
   {
    "duration": 34,
    "start_time": "2022-12-26T18:16:40.596Z"
   },
   {
    "duration": 230,
    "start_time": "2022-12-26T18:16:40.632Z"
   },
   {
    "duration": 23,
    "start_time": "2022-12-26T18:16:40.863Z"
   },
   {
    "duration": 20,
    "start_time": "2022-12-26T18:16:40.888Z"
   },
   {
    "duration": 30,
    "start_time": "2022-12-26T18:16:40.909Z"
   },
   {
    "duration": 275,
    "start_time": "2022-12-26T18:16:40.940Z"
   },
   {
    "duration": 6,
    "start_time": "2022-12-26T18:16:41.217Z"
   },
   {
    "duration": 11,
    "start_time": "2022-12-26T18:16:41.225Z"
   },
   {
    "duration": 50,
    "start_time": "2022-12-26T18:16:41.238Z"
   },
   {
    "duration": 7,
    "start_time": "2022-12-26T18:16:41.290Z"
   },
   {
    "duration": 58,
    "start_time": "2022-12-26T18:16:41.298Z"
   },
   {
    "duration": 20,
    "start_time": "2022-12-26T18:16:41.360Z"
   },
   {
    "duration": 18,
    "start_time": "2022-12-26T18:16:41.381Z"
   },
   {
    "duration": 122,
    "start_time": "2022-12-26T18:16:41.401Z"
   },
   {
    "duration": 60,
    "start_time": "2022-12-26T18:16:41.524Z"
   },
   {
    "duration": 4,
    "start_time": "2022-12-26T18:16:41.586Z"
   },
   {
    "duration": 11,
    "start_time": "2022-12-26T18:16:41.591Z"
   },
   {
    "duration": 7,
    "start_time": "2022-12-26T18:16:41.604Z"
   },
   {
    "duration": 126,
    "start_time": "2022-12-26T18:16:41.613Z"
   },
   {
    "duration": 4,
    "start_time": "2022-12-26T18:16:41.740Z"
   },
   {
    "duration": 11,
    "start_time": "2022-12-26T18:16:41.746Z"
   },
   {
    "duration": 7,
    "start_time": "2022-12-26T18:16:41.759Z"
   },
   {
    "duration": 7,
    "start_time": "2022-12-26T18:16:41.768Z"
   },
   {
    "duration": 7,
    "start_time": "2022-12-26T18:16:41.778Z"
   },
   {
    "duration": 9,
    "start_time": "2022-12-26T18:16:41.787Z"
   },
   {
    "duration": 11,
    "start_time": "2022-12-26T18:16:41.798Z"
   },
   {
    "duration": 25,
    "start_time": "2022-12-26T18:16:41.811Z"
   },
   {
    "duration": 12,
    "start_time": "2022-12-26T18:16:41.837Z"
   },
   {
    "duration": 10,
    "start_time": "2022-12-26T18:16:41.851Z"
   },
   {
    "duration": 11,
    "start_time": "2022-12-26T18:16:41.863Z"
   },
   {
    "duration": 8,
    "start_time": "2022-12-26T18:16:41.876Z"
   },
   {
    "duration": 6760,
    "start_time": "2022-12-26T18:16:41.886Z"
   },
   {
    "duration": 0,
    "start_time": "2022-12-26T18:16:48.648Z"
   },
   {
    "duration": 0,
    "start_time": "2022-12-26T18:16:48.649Z"
   },
   {
    "duration": 0,
    "start_time": "2022-12-26T18:16:48.651Z"
   },
   {
    "duration": 447285,
    "start_time": "2022-12-26T18:21:22.664Z"
   },
   {
    "duration": 35189,
    "start_time": "2022-12-26T18:34:09.503Z"
   },
   {
    "duration": 34697,
    "start_time": "2022-12-26T18:35:32.904Z"
   },
   {
    "duration": 33675,
    "start_time": "2022-12-26T18:40:17.951Z"
   },
   {
    "duration": 772571,
    "start_time": "2022-12-26T18:44:32.147Z"
   },
   {
    "duration": 11,
    "start_time": "2022-12-26T18:57:24.721Z"
   },
   {
    "duration": 448047,
    "start_time": "2022-12-26T18:57:55.764Z"
   },
   {
    "duration": 33768,
    "start_time": "2022-12-26T19:23:01.657Z"
   },
   {
    "duration": 6,
    "start_time": "2022-12-26T19:50:17.460Z"
   },
   {
    "duration": 7,
    "start_time": "2022-12-26T19:54:10.120Z"
   },
   {
    "duration": 6,
    "start_time": "2022-12-26T20:04:36.872Z"
   },
   {
    "duration": 376,
    "start_time": "2022-12-26T20:27:42.965Z"
   },
   {
    "duration": 4,
    "start_time": "2022-12-26T20:42:54.622Z"
   }
  ],
  "kernelspec": {
   "display_name": "Python 3 (ipykernel)",
   "language": "python",
   "name": "python3"
  },
  "language_info": {
   "codemirror_mode": {
    "name": "ipython",
    "version": 3
   },
   "file_extension": ".py",
   "mimetype": "text/x-python",
   "name": "python",
   "nbconvert_exporter": "python",
   "pygments_lexer": "ipython3",
   "version": "3.9.5"
  },
  "toc": {
   "base_numbering": 1,
   "nav_menu": {},
   "number_sections": true,
   "sideBar": true,
   "skip_h1_title": true,
   "title_cell": "Table of Contents",
   "title_sidebar": "Contents",
   "toc_cell": false,
   "toc_position": {},
   "toc_section_display": true,
   "toc_window_display": false
  }
 },
 "nbformat": 4,
 "nbformat_minor": 2
}
