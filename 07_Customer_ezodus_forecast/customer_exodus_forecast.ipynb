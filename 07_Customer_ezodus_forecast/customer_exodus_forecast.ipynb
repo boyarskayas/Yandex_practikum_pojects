{
 "cells": [
  {
   "cell_type": "markdown",
   "metadata": {},
   "source": [
    "# Прогнозирование оттока клиентов из банка"
   ]
  },
  {
   "cell_type": "markdown",
   "metadata": {
    "toc": true
   },
   "source": [
    "<h1>Содержание<span class=\"tocSkip\"></span></h1>\n",
    "<div class=\"toc\"><ul class=\"toc-item\"><li><span><a href=\"#Подготовка-данных\" data-toc-modified-id=\"Подготовка-данных-1\"><span class=\"toc-item-num\">1&nbsp;&nbsp;</span>Подготовка данных</a></span><ul class=\"toc-item\"><li><ul class=\"toc-item\"><li><span><a href=\"#Импорт-библиотек\" data-toc-modified-id=\"Импорт-библиотек-1.0.1\"><span class=\"toc-item-num\">1.0.1&nbsp;&nbsp;</span>Импорт библиотек</a></span></li><li><span><a href=\"#Первичное-изучение-данных\" data-toc-modified-id=\"Первичное-изучение-данных-1.0.2\"><span class=\"toc-item-num\">1.0.2&nbsp;&nbsp;</span>Первичное изучение данных</a></span></li><li><span><a href=\"#Предобработка-данных\" data-toc-modified-id=\"Предобработка-данных-1.0.3\"><span class=\"toc-item-num\">1.0.3&nbsp;&nbsp;</span>Предобработка данных</a></span></li></ul></li></ul></li><li><span><a href=\"#Исследование-задачи\" data-toc-modified-id=\"Исследование-задачи-2\"><span class=\"toc-item-num\">2&nbsp;&nbsp;</span>Исследование задачи</a></span><ul class=\"toc-item\"><li><ul class=\"toc-item\"><li><span><a href=\"#Распределение-целевого-признака\" data-toc-modified-id=\"Распределение-целевого-признака-2.0.1\"><span class=\"toc-item-num\">2.0.1&nbsp;&nbsp;</span>Распределение целевого признака</a></span></li><li><span><a href=\"#Обучение-базовой-модели-на-несбалансированных-данных\" data-toc-modified-id=\"Обучение-базовой-модели-на-несбалансированных-данных-2.0.2\"><span class=\"toc-item-num\">2.0.2&nbsp;&nbsp;</span>Обучение базовой модели на несбалансированных данных</a></span></li></ul></li></ul></li><li><span><a href=\"#Борьба-с-дисбалансом\" data-toc-modified-id=\"Борьба-с-дисбалансом-3\"><span class=\"toc-item-num\">3&nbsp;&nbsp;</span>Борьба с дисбалансом</a></span><ul class=\"toc-item\"><li><ul class=\"toc-item\"><li><span><a href=\"#Параметр-class_weight-для-борьбы-с-дисбалансом\" data-toc-modified-id=\"Параметр-class_weight-для-борьбы-с-дисбалансом-3.0.1\"><span class=\"toc-item-num\">3.0.1&nbsp;&nbsp;</span>Параметр class_weight для борьбы с дисбалансом</a></span></li><li><span><a href=\"#Увеличение-выборки-для-борьбы-с-дисбалансом\" data-toc-modified-id=\"Увеличение-выборки-для-борьбы-с-дисбалансом-3.0.2\"><span class=\"toc-item-num\">3.0.2&nbsp;&nbsp;</span>Увеличение выборки для борьбы с дисбалансом</a></span></li><li><span><a href=\"#Уменьшение-выборки-для-борьбы-с-дисбалансом\" data-toc-modified-id=\"Уменьшение-выборки-для-борьбы-с-дисбалансом-3.0.3\"><span class=\"toc-item-num\">3.0.3&nbsp;&nbsp;</span>Уменьшение выборки для борьбы с дисбалансом</a></span></li></ul></li></ul></li><li><span><a href=\"#Тестирование-модели\" data-toc-modified-id=\"Тестирование-модели-4\"><span class=\"toc-item-num\">4&nbsp;&nbsp;</span>Тестирование модели</a></span><ul class=\"toc-item\"><li><ul class=\"toc-item\"><li><span><a href=\"#Проверка-на-тестовой-выборке\" data-toc-modified-id=\"Проверка-на-тестовой-выборке-4.0.1\"><span class=\"toc-item-num\">4.0.1&nbsp;&nbsp;</span>Проверка на тестовой выборке</a></span></li><li><span><a href=\"#Поверка-модели-на-адекватность\" data-toc-modified-id=\"Поверка-модели-на-адекватность-4.0.2\"><span class=\"toc-item-num\">4.0.2&nbsp;&nbsp;</span>Поверка модели на адекватность</a></span></li></ul></li></ul></li></ul></div>"
   ]
  },
  {
   "cell_type": "markdown",
   "metadata": {},
   "source": [
    "# Отток клиентов"
   ]
  },
  {
   "cell_type": "markdown",
   "metadata": {},
   "source": [
    "**Цель проекта:** Спрогнозировать, уйдёт клиент из банка в ближайшее время или нет, на основе исторических данные о поведении клиентов и расторжении договоров с банком.\n",
    "\n",
    "Необходимо построить модель с предельно большим значением *F1*-меры и довести метрику до 0.59. Дополнительно измерять *AUC-ROC*, сравнивать её значение с *F1*-мерой."
   ]
  },
  {
   "attachments": {},
   "cell_type": "markdown",
   "metadata": {},
   "source": [
    "**Описание данных**  \n",
    "Согласно документации к данным:\n",
    "Каждый объект в наборе данных — это информация о поведении одного пользователя за месяц.  \n",
    "\n",
    "Признаки  \n",
    "`RowNumber` — индекс строки в данных  \n",
    "`CustomerId` — уникальный идентификатор клиента  \n",
    "`Surname` — фамилия  \n",
    "`CreditScore` — кредитный рейтинг  \n",
    "`Geography` — страна проживания  \n",
    "`Gender` — пол  \n",
    "`Age` — возраст  \n",
    "`Tenure` — количество недвижимости у клиента  \n",
    "`Balance` — баланс на счёте  \n",
    "`NumOfProducts` — количество продуктов банка, используемых клиентом  \n",
    "`HasCrCard` — наличие кредитной карты  \n",
    "`IsActiveMember` — активность клиента  \n",
    "`EstimatedSalary` — предполагаемая зарплата  \n",
    "\n",
    "Целевой признак  \n",
    "`Exited` — факт ухода клиента\n"
   ]
  },
  {
   "cell_type": "markdown",
   "metadata": {},
   "source": [
    "## Подготовка данных"
   ]
  },
  {
   "cell_type": "markdown",
   "metadata": {},
   "source": [
    "#### Импорт библиотек"
   ]
  },
  {
   "cell_type": "code",
   "execution_count": 1,
   "metadata": {},
   "outputs": [],
   "source": [
    "import pandas as pd\n",
    "import numpy as np\n",
    "import matplotlib.pyplot as plt\n",
    "import seaborn as sns\n",
    "\n",
    "from sklearn.model_selection import train_test_split\n",
    "from sklearn.preprocessing import StandardScaler\n",
    "from sklearn.linear_model import LogisticRegression\n",
    "from sklearn.ensemble import RandomForestRegressor, RandomForestClassifier\n",
    "from sklearn.tree import DecisionTreeClassifier\n",
    "from sklearn.metrics import accuracy_score,roc_auc_score,f1_score, roc_curve, precision_score, recall_score\n",
    "from sklearn.dummy import DummyClassifier\n",
    "from sklearn.utils import shuffle"
   ]
  },
  {
   "cell_type": "code",
   "execution_count": 2,
   "metadata": {},
   "outputs": [],
   "source": [
    "# сбросим ограничение на количество выводимых столбцов, чтобы просмотреть все столбцы\n",
    "pd.set_option('display.max_columns', None)\n",
    "# уберем экспонентациальные формы при выводе данных\n",
    "pd.set_option(\"display.float_format\", \"{:.2f}\".format)"
   ]
  },
  {
   "cell_type": "markdown",
   "metadata": {},
   "source": [
    "#### Первичное изучение данных"
   ]
  },
  {
   "cell_type": "code",
   "execution_count": 3,
   "metadata": {},
   "outputs": [],
   "source": [
    "data = pd.read_csv('/datasets/Churn.csv')"
   ]
  },
  {
   "cell_type": "code",
   "execution_count": 4,
   "metadata": {},
   "outputs": [
    {
     "data": {
      "text/html": [
       "<div>\n",
       "<style scoped>\n",
       "    .dataframe tbody tr th:only-of-type {\n",
       "        vertical-align: middle;\n",
       "    }\n",
       "\n",
       "    .dataframe tbody tr th {\n",
       "        vertical-align: top;\n",
       "    }\n",
       "\n",
       "    .dataframe thead th {\n",
       "        text-align: right;\n",
       "    }\n",
       "</style>\n",
       "<table border=\"1\" class=\"dataframe\">\n",
       "  <thead>\n",
       "    <tr style=\"text-align: right;\">\n",
       "      <th></th>\n",
       "      <th>RowNumber</th>\n",
       "      <th>CustomerId</th>\n",
       "      <th>Surname</th>\n",
       "      <th>CreditScore</th>\n",
       "      <th>Geography</th>\n",
       "      <th>Gender</th>\n",
       "      <th>Age</th>\n",
       "      <th>Tenure</th>\n",
       "      <th>Balance</th>\n",
       "      <th>NumOfProducts</th>\n",
       "      <th>HasCrCard</th>\n",
       "      <th>IsActiveMember</th>\n",
       "      <th>EstimatedSalary</th>\n",
       "      <th>Exited</th>\n",
       "    </tr>\n",
       "  </thead>\n",
       "  <tbody>\n",
       "    <tr>\n",
       "      <th>0</th>\n",
       "      <td>1</td>\n",
       "      <td>15634602</td>\n",
       "      <td>Hargrave</td>\n",
       "      <td>619</td>\n",
       "      <td>France</td>\n",
       "      <td>Female</td>\n",
       "      <td>42</td>\n",
       "      <td>2.00</td>\n",
       "      <td>0.00</td>\n",
       "      <td>1</td>\n",
       "      <td>1</td>\n",
       "      <td>1</td>\n",
       "      <td>101348.88</td>\n",
       "      <td>1</td>\n",
       "    </tr>\n",
       "    <tr>\n",
       "      <th>1</th>\n",
       "      <td>2</td>\n",
       "      <td>15647311</td>\n",
       "      <td>Hill</td>\n",
       "      <td>608</td>\n",
       "      <td>Spain</td>\n",
       "      <td>Female</td>\n",
       "      <td>41</td>\n",
       "      <td>1.00</td>\n",
       "      <td>83807.86</td>\n",
       "      <td>1</td>\n",
       "      <td>0</td>\n",
       "      <td>1</td>\n",
       "      <td>112542.58</td>\n",
       "      <td>0</td>\n",
       "    </tr>\n",
       "    <tr>\n",
       "      <th>2</th>\n",
       "      <td>3</td>\n",
       "      <td>15619304</td>\n",
       "      <td>Onio</td>\n",
       "      <td>502</td>\n",
       "      <td>France</td>\n",
       "      <td>Female</td>\n",
       "      <td>42</td>\n",
       "      <td>8.00</td>\n",
       "      <td>159660.80</td>\n",
       "      <td>3</td>\n",
       "      <td>1</td>\n",
       "      <td>0</td>\n",
       "      <td>113931.57</td>\n",
       "      <td>1</td>\n",
       "    </tr>\n",
       "    <tr>\n",
       "      <th>3</th>\n",
       "      <td>4</td>\n",
       "      <td>15701354</td>\n",
       "      <td>Boni</td>\n",
       "      <td>699</td>\n",
       "      <td>France</td>\n",
       "      <td>Female</td>\n",
       "      <td>39</td>\n",
       "      <td>1.00</td>\n",
       "      <td>0.00</td>\n",
       "      <td>2</td>\n",
       "      <td>0</td>\n",
       "      <td>0</td>\n",
       "      <td>93826.63</td>\n",
       "      <td>0</td>\n",
       "    </tr>\n",
       "    <tr>\n",
       "      <th>4</th>\n",
       "      <td>5</td>\n",
       "      <td>15737888</td>\n",
       "      <td>Mitchell</td>\n",
       "      <td>850</td>\n",
       "      <td>Spain</td>\n",
       "      <td>Female</td>\n",
       "      <td>43</td>\n",
       "      <td>2.00</td>\n",
       "      <td>125510.82</td>\n",
       "      <td>1</td>\n",
       "      <td>1</td>\n",
       "      <td>1</td>\n",
       "      <td>79084.10</td>\n",
       "      <td>0</td>\n",
       "    </tr>\n",
       "    <tr>\n",
       "      <th>5</th>\n",
       "      <td>6</td>\n",
       "      <td>15574012</td>\n",
       "      <td>Chu</td>\n",
       "      <td>645</td>\n",
       "      <td>Spain</td>\n",
       "      <td>Male</td>\n",
       "      <td>44</td>\n",
       "      <td>8.00</td>\n",
       "      <td>113755.78</td>\n",
       "      <td>2</td>\n",
       "      <td>1</td>\n",
       "      <td>0</td>\n",
       "      <td>149756.71</td>\n",
       "      <td>1</td>\n",
       "    </tr>\n",
       "    <tr>\n",
       "      <th>6</th>\n",
       "      <td>7</td>\n",
       "      <td>15592531</td>\n",
       "      <td>Bartlett</td>\n",
       "      <td>822</td>\n",
       "      <td>France</td>\n",
       "      <td>Male</td>\n",
       "      <td>50</td>\n",
       "      <td>7.00</td>\n",
       "      <td>0.00</td>\n",
       "      <td>2</td>\n",
       "      <td>1</td>\n",
       "      <td>1</td>\n",
       "      <td>10062.80</td>\n",
       "      <td>0</td>\n",
       "    </tr>\n",
       "    <tr>\n",
       "      <th>7</th>\n",
       "      <td>8</td>\n",
       "      <td>15656148</td>\n",
       "      <td>Obinna</td>\n",
       "      <td>376</td>\n",
       "      <td>Germany</td>\n",
       "      <td>Female</td>\n",
       "      <td>29</td>\n",
       "      <td>4.00</td>\n",
       "      <td>115046.74</td>\n",
       "      <td>4</td>\n",
       "      <td>1</td>\n",
       "      <td>0</td>\n",
       "      <td>119346.88</td>\n",
       "      <td>1</td>\n",
       "    </tr>\n",
       "    <tr>\n",
       "      <th>8</th>\n",
       "      <td>9</td>\n",
       "      <td>15792365</td>\n",
       "      <td>He</td>\n",
       "      <td>501</td>\n",
       "      <td>France</td>\n",
       "      <td>Male</td>\n",
       "      <td>44</td>\n",
       "      <td>4.00</td>\n",
       "      <td>142051.07</td>\n",
       "      <td>2</td>\n",
       "      <td>0</td>\n",
       "      <td>1</td>\n",
       "      <td>74940.50</td>\n",
       "      <td>0</td>\n",
       "    </tr>\n",
       "    <tr>\n",
       "      <th>9</th>\n",
       "      <td>10</td>\n",
       "      <td>15592389</td>\n",
       "      <td>H?</td>\n",
       "      <td>684</td>\n",
       "      <td>France</td>\n",
       "      <td>Male</td>\n",
       "      <td>27</td>\n",
       "      <td>2.00</td>\n",
       "      <td>134603.88</td>\n",
       "      <td>1</td>\n",
       "      <td>1</td>\n",
       "      <td>1</td>\n",
       "      <td>71725.73</td>\n",
       "      <td>0</td>\n",
       "    </tr>\n",
       "  </tbody>\n",
       "</table>\n",
       "</div>"
      ],
      "text/plain": [
       "   RowNumber  CustomerId   Surname  CreditScore Geography  Gender  Age  \\\n",
       "0          1    15634602  Hargrave          619    France  Female   42   \n",
       "1          2    15647311      Hill          608     Spain  Female   41   \n",
       "2          3    15619304      Onio          502    France  Female   42   \n",
       "3          4    15701354      Boni          699    France  Female   39   \n",
       "4          5    15737888  Mitchell          850     Spain  Female   43   \n",
       "5          6    15574012       Chu          645     Spain    Male   44   \n",
       "6          7    15592531  Bartlett          822    France    Male   50   \n",
       "7          8    15656148    Obinna          376   Germany  Female   29   \n",
       "8          9    15792365        He          501    France    Male   44   \n",
       "9         10    15592389        H?          684    France    Male   27   \n",
       "\n",
       "   Tenure   Balance  NumOfProducts  HasCrCard  IsActiveMember  \\\n",
       "0    2.00      0.00              1          1               1   \n",
       "1    1.00  83807.86              1          0               1   \n",
       "2    8.00 159660.80              3          1               0   \n",
       "3    1.00      0.00              2          0               0   \n",
       "4    2.00 125510.82              1          1               1   \n",
       "5    8.00 113755.78              2          1               0   \n",
       "6    7.00      0.00              2          1               1   \n",
       "7    4.00 115046.74              4          1               0   \n",
       "8    4.00 142051.07              2          0               1   \n",
       "9    2.00 134603.88              1          1               1   \n",
       "\n",
       "   EstimatedSalary  Exited  \n",
       "0        101348.88       1  \n",
       "1        112542.58       0  \n",
       "2        113931.57       1  \n",
       "3         93826.63       0  \n",
       "4         79084.10       0  \n",
       "5        149756.71       1  \n",
       "6         10062.80       0  \n",
       "7        119346.88       1  \n",
       "8         74940.50       0  \n",
       "9         71725.73       0  "
      ]
     },
     "execution_count": 4,
     "metadata": {},
     "output_type": "execute_result"
    }
   ],
   "source": [
    "data.head(10)"
   ]
  },
  {
   "cell_type": "code",
   "execution_count": 5,
   "metadata": {},
   "outputs": [
    {
     "name": "stdout",
     "output_type": "stream",
     "text": [
      "<class 'pandas.core.frame.DataFrame'>\n",
      "RangeIndex: 10000 entries, 0 to 9999\n",
      "Data columns (total 14 columns):\n",
      " #   Column           Non-Null Count  Dtype  \n",
      "---  ------           --------------  -----  \n",
      " 0   RowNumber        10000 non-null  int64  \n",
      " 1   CustomerId       10000 non-null  int64  \n",
      " 2   Surname          10000 non-null  object \n",
      " 3   CreditScore      10000 non-null  int64  \n",
      " 4   Geography        10000 non-null  object \n",
      " 5   Gender           10000 non-null  object \n",
      " 6   Age              10000 non-null  int64  \n",
      " 7   Tenure           9091 non-null   float64\n",
      " 8   Balance          10000 non-null  float64\n",
      " 9   NumOfProducts    10000 non-null  int64  \n",
      " 10  HasCrCard        10000 non-null  int64  \n",
      " 11  IsActiveMember   10000 non-null  int64  \n",
      " 12  EstimatedSalary  10000 non-null  float64\n",
      " 13  Exited           10000 non-null  int64  \n",
      "dtypes: float64(3), int64(8), object(3)\n",
      "memory usage: 1.1+ MB\n"
     ]
    }
   ],
   "source": [
    "data.info() "
   ]
  },
  {
   "cell_type": "markdown",
   "metadata": {},
   "source": [
    "**ВЫВОДЫ:**  \n",
    "\n",
    "1. В столбце Tenure есть пропущенные значения\n",
    "2. Считаем, что данные в стобцах RowNumber, CustomerId, Surname не информативны для цели исследования и не могут влиять на его решение об уходе из банка "
   ]
  },
  {
   "cell_type": "markdown",
   "metadata": {},
   "source": [
    "#### Предобработка данных"
   ]
  },
  {
   "cell_type": "code",
   "execution_count": 6,
   "metadata": {},
   "outputs": [],
   "source": [
    "# Удалим столбцы Surname, CustomerId, RowNumber как неинформативные\n",
    "data.drop(columns=['CustomerId','Surname','RowNumber'], axis=1, inplace=True)"
   ]
  },
  {
   "cell_type": "code",
   "execution_count": 7,
   "metadata": {},
   "outputs": [],
   "source": [
    "# Прведем названия столбцов к привычному виду и нижнему регистру\n",
    "data.columns = data.columns.str.lower()\n",
    "\n",
    "data.rename(columns = {'numofproducts': 'num_of_products', 'hascrcard': 'has_cr_card', \n",
    "          'isactivemember': 'is_active_member', 'estimatedsalary': 'estimated_salary'}, inplace = True)"
   ]
  },
  {
   "cell_type": "code",
   "execution_count": 8,
   "metadata": {},
   "outputs": [
    {
     "data": {
      "text/plain": [
       "France     5014\n",
       "Germany    2509\n",
       "Spain      2477\n",
       "Name: geography, dtype: int64"
      ]
     },
     "execution_count": 8,
     "metadata": {},
     "output_type": "execute_result"
    }
   ],
   "source": [
    "# Посмотрим значения по столбцу Geography\n",
    "data['geography'].value_counts()"
   ]
  },
  {
   "cell_type": "code",
   "execution_count": 9,
   "metadata": {},
   "outputs": [
    {
     "data": {
      "text/plain": [
       "Male      5457\n",
       "Female    4543\n",
       "Name: gender, dtype: int64"
      ]
     },
     "execution_count": 9,
     "metadata": {},
     "output_type": "execute_result"
    }
   ],
   "source": [
    "# Посмотрим значения по столбцу Gender\n",
    "data['gender'].value_counts() "
   ]
  },
  {
   "cell_type": "markdown",
   "metadata": {},
   "source": [
    "Столбец tenure содержит около 10% пропусков. Посмотрим подробнее на данные:"
   ]
  },
  {
   "cell_type": "code",
   "execution_count": 10,
   "metadata": {},
   "outputs": [
    {
     "data": {
      "text/plain": [
       "count   9091.00\n",
       "mean       5.00\n",
       "std        2.89\n",
       "min        0.00\n",
       "25%        2.00\n",
       "50%        5.00\n",
       "75%        7.00\n",
       "max       10.00\n",
       "Name: tenure, dtype: float64"
      ]
     },
     "execution_count": 10,
     "metadata": {},
     "output_type": "execute_result"
    }
   ],
   "source": [
    "data['tenure'].describe()"
   ]
  },
  {
   "cell_type": "code",
   "execution_count": 11,
   "metadata": {},
   "outputs": [
    {
     "data": {
      "text/plain": [
       "1.00     952\n",
       "2.00     950\n",
       "8.00     933\n",
       "3.00     928\n",
       "5.00     927\n",
       "7.00     925\n",
       "4.00     885\n",
       "9.00     882\n",
       "6.00     881\n",
       "10.00    446\n",
       "0.00     382\n",
       "Name: tenure, dtype: int64"
      ]
     },
     "execution_count": 11,
     "metadata": {},
     "output_type": "execute_result"
    }
   ],
   "source": [
    "data['tenure'].value_counts()"
   ]
  },
  {
   "cell_type": "code",
   "execution_count": 12,
   "metadata": {},
   "outputs": [
    {
     "data": {
      "image/png": "[encoded data removed]",
      "text/plain": [
       "<Figure size 432x288 with 1 Axes>"
      ]
     },
     "metadata": {
      "needs_background": "light"
     },
     "output_type": "display_data"
    }
   ],
   "source": [
    "# Посмотрим на распределение данных\n",
    "data['tenure'].hist(bins=11)\n",
    "plt.show()"
   ]
  },
  {
   "cell_type": "markdown",
   "metadata": {},
   "source": [
    "Природа пропусков нам не известна - вероятнее всего, человеческий фактор. Заполнив значения нулями, мы увеличим данные о недавно (менее года назад) пришедших клиентах, что не соответствует действительности. Заполним отсутствующие значения случайными числами. Если результаты нас не устроят, удалим пропуски."
   ]
  },
  {
   "cell_type": "code",
   "execution_count": 51,
   "metadata": {},
   "outputs": [],
   "source": [
    "data['tenure'] = data['tenure'].apply(lambda l: l if not np.isnan(l) else np.random.randint(0, 10))"
   ]
  },
  {
   "cell_type": "code",
   "execution_count": 52,
   "metadata": {},
   "outputs": [
    {
     "data": {
      "image/png": "[encoded data removed]",
      "text/plain": [
       "<Figure size 432x288 with 1 Axes>"
      ]
     },
     "metadata": {
      "needs_background": "light"
     },
     "output_type": "display_data"
    }
   ],
   "source": [
    "# Посмотрим, как изменилось распределение\n",
    "data['tenure'].hist(bins=11)\n",
    "plt.show()"
   ]
  },
  {
   "cell_type": "code",
   "execution_count": 16,
   "metadata": {},
   "outputs": [
    {
     "data": {
      "text/plain": [
       "creditscore         0\n",
       "geography           0\n",
       "gender              0\n",
       "age                 0\n",
       "tenure              0\n",
       "balance             0\n",
       "num_of_products     0\n",
       "has_cr_card         0\n",
       "is_active_member    0\n",
       "estimated_salary    0\n",
       "exited              0\n",
       "dtype: int64"
      ]
     },
     "execution_count": 16,
     "metadata": {},
     "output_type": "execute_result"
    }
   ],
   "source": [
    "# Проверим, что не осталось пропуков\n",
    "data.isna().sum()"
   ]
  },
  {
   "cell_type": "code",
   "execution_count": 17,
   "metadata": {},
   "outputs": [
    {
     "data": {
      "image/png": "[encoded data removed]",
      "text/plain": [
       "<Figure size 720x576 with 1 Axes>"
      ]
     },
     "metadata": {
      "needs_background": "light"
     },
     "output_type": "display_data"
    }
   ],
   "source": [
    "# рассчитаем коэффициенты корреляции \n",
    "plt.figure(figsize=(10, 8)) \n",
    "sns.heatmap(data[['creditscore','age','balance','num_of_products','estimated_salary','tenure']].corr(),\n",
    "            annot=True, cbar=False, robust=True, linewidths=.2) \n",
    "plt.show() "
   ]
  },
  {
   "cell_type": "markdown",
   "metadata": {},
   "source": [
    "Корреляции между числовыми столбцами не обнаружено, самое больше значение |0,3| между количеством продуктов и балансом на счете."
   ]
  },
  {
   "cell_type": "code",
   "execution_count": 18,
   "metadata": {},
   "outputs": [
    {
     "data": {
      "text/html": [
       "<div>\n",
       "<style scoped>\n",
       "    .dataframe tbody tr th:only-of-type {\n",
       "        vertical-align: middle;\n",
       "    }\n",
       "\n",
       "    .dataframe tbody tr th {\n",
       "        vertical-align: top;\n",
       "    }\n",
       "\n",
       "    .dataframe thead th {\n",
       "        text-align: right;\n",
       "    }\n",
       "</style>\n",
       "<table border=\"1\" class=\"dataframe\">\n",
       "  <thead>\n",
       "    <tr style=\"text-align: right;\">\n",
       "      <th></th>\n",
       "      <th>creditscore</th>\n",
       "      <th>age</th>\n",
       "      <th>tenure</th>\n",
       "      <th>balance</th>\n",
       "      <th>num_of_products</th>\n",
       "      <th>has_cr_card</th>\n",
       "      <th>is_active_member</th>\n",
       "      <th>estimated_salary</th>\n",
       "      <th>exited</th>\n",
       "      <th>geography_Germany</th>\n",
       "      <th>geography_Spain</th>\n",
       "      <th>gender_Male</th>\n",
       "    </tr>\n",
       "  </thead>\n",
       "  <tbody>\n",
       "    <tr>\n",
       "      <th>0</th>\n",
       "      <td>619</td>\n",
       "      <td>42</td>\n",
       "      <td>2.00</td>\n",
       "      <td>0.00</td>\n",
       "      <td>1</td>\n",
       "      <td>1</td>\n",
       "      <td>1</td>\n",
       "      <td>101348.88</td>\n",
       "      <td>1</td>\n",
       "      <td>0</td>\n",
       "      <td>0</td>\n",
       "      <td>0</td>\n",
       "    </tr>\n",
       "    <tr>\n",
       "      <th>1</th>\n",
       "      <td>608</td>\n",
       "      <td>41</td>\n",
       "      <td>1.00</td>\n",
       "      <td>83807.86</td>\n",
       "      <td>1</td>\n",
       "      <td>0</td>\n",
       "      <td>1</td>\n",
       "      <td>112542.58</td>\n",
       "      <td>0</td>\n",
       "      <td>0</td>\n",
       "      <td>1</td>\n",
       "      <td>0</td>\n",
       "    </tr>\n",
       "    <tr>\n",
       "      <th>2</th>\n",
       "      <td>502</td>\n",
       "      <td>42</td>\n",
       "      <td>8.00</td>\n",
       "      <td>159660.80</td>\n",
       "      <td>3</td>\n",
       "      <td>1</td>\n",
       "      <td>0</td>\n",
       "      <td>113931.57</td>\n",
       "      <td>1</td>\n",
       "      <td>0</td>\n",
       "      <td>0</td>\n",
       "      <td>0</td>\n",
       "    </tr>\n",
       "    <tr>\n",
       "      <th>3</th>\n",
       "      <td>699</td>\n",
       "      <td>39</td>\n",
       "      <td>1.00</td>\n",
       "      <td>0.00</td>\n",
       "      <td>2</td>\n",
       "      <td>0</td>\n",
       "      <td>0</td>\n",
       "      <td>93826.63</td>\n",
       "      <td>0</td>\n",
       "      <td>0</td>\n",
       "      <td>0</td>\n",
       "      <td>0</td>\n",
       "    </tr>\n",
       "    <tr>\n",
       "      <th>4</th>\n",
       "      <td>850</td>\n",
       "      <td>43</td>\n",
       "      <td>2.00</td>\n",
       "      <td>125510.82</td>\n",
       "      <td>1</td>\n",
       "      <td>1</td>\n",
       "      <td>1</td>\n",
       "      <td>79084.10</td>\n",
       "      <td>0</td>\n",
       "      <td>0</td>\n",
       "      <td>1</td>\n",
       "      <td>0</td>\n",
       "    </tr>\n",
       "    <tr>\n",
       "      <th>...</th>\n",
       "      <td>...</td>\n",
       "      <td>...</td>\n",
       "      <td>...</td>\n",
       "      <td>...</td>\n",
       "      <td>...</td>\n",
       "      <td>...</td>\n",
       "      <td>...</td>\n",
       "      <td>...</td>\n",
       "      <td>...</td>\n",
       "      <td>...</td>\n",
       "      <td>...</td>\n",
       "      <td>...</td>\n",
       "    </tr>\n",
       "    <tr>\n",
       "      <th>9995</th>\n",
       "      <td>771</td>\n",
       "      <td>39</td>\n",
       "      <td>5.00</td>\n",
       "      <td>0.00</td>\n",
       "      <td>2</td>\n",
       "      <td>1</td>\n",
       "      <td>0</td>\n",
       "      <td>96270.64</td>\n",
       "      <td>0</td>\n",
       "      <td>0</td>\n",
       "      <td>0</td>\n",
       "      <td>1</td>\n",
       "    </tr>\n",
       "    <tr>\n",
       "      <th>9996</th>\n",
       "      <td>516</td>\n",
       "      <td>35</td>\n",
       "      <td>10.00</td>\n",
       "      <td>57369.61</td>\n",
       "      <td>1</td>\n",
       "      <td>1</td>\n",
       "      <td>1</td>\n",
       "      <td>101699.77</td>\n",
       "      <td>0</td>\n",
       "      <td>0</td>\n",
       "      <td>0</td>\n",
       "      <td>1</td>\n",
       "    </tr>\n",
       "    <tr>\n",
       "      <th>9997</th>\n",
       "      <td>709</td>\n",
       "      <td>36</td>\n",
       "      <td>7.00</td>\n",
       "      <td>0.00</td>\n",
       "      <td>1</td>\n",
       "      <td>0</td>\n",
       "      <td>1</td>\n",
       "      <td>42085.58</td>\n",
       "      <td>1</td>\n",
       "      <td>0</td>\n",
       "      <td>0</td>\n",
       "      <td>0</td>\n",
       "    </tr>\n",
       "    <tr>\n",
       "      <th>9998</th>\n",
       "      <td>772</td>\n",
       "      <td>42</td>\n",
       "      <td>3.00</td>\n",
       "      <td>75075.31</td>\n",
       "      <td>2</td>\n",
       "      <td>1</td>\n",
       "      <td>0</td>\n",
       "      <td>92888.52</td>\n",
       "      <td>1</td>\n",
       "      <td>1</td>\n",
       "      <td>0</td>\n",
       "      <td>1</td>\n",
       "    </tr>\n",
       "    <tr>\n",
       "      <th>9999</th>\n",
       "      <td>792</td>\n",
       "      <td>28</td>\n",
       "      <td>1.00</td>\n",
       "      <td>130142.79</td>\n",
       "      <td>1</td>\n",
       "      <td>1</td>\n",
       "      <td>0</td>\n",
       "      <td>38190.78</td>\n",
       "      <td>0</td>\n",
       "      <td>0</td>\n",
       "      <td>0</td>\n",
       "      <td>0</td>\n",
       "    </tr>\n",
       "  </tbody>\n",
       "</table>\n",
       "<p>10000 rows × 12 columns</p>\n",
       "</div>"
      ],
      "text/plain": [
       "      creditscore  age  tenure   balance  num_of_products  has_cr_card  \\\n",
       "0             619   42    2.00      0.00                1            1   \n",
       "1             608   41    1.00  83807.86                1            0   \n",
       "2             502   42    8.00 159660.80                3            1   \n",
       "3             699   39    1.00      0.00                2            0   \n",
       "4             850   43    2.00 125510.82                1            1   \n",
       "...           ...  ...     ...       ...              ...          ...   \n",
       "9995          771   39    5.00      0.00                2            1   \n",
       "9996          516   35   10.00  57369.61                1            1   \n",
       "9997          709   36    7.00      0.00                1            0   \n",
       "9998          772   42    3.00  75075.31                2            1   \n",
       "9999          792   28    1.00 130142.79                1            1   \n",
       "\n",
       "      is_active_member  estimated_salary  exited  geography_Germany  \\\n",
       "0                    1         101348.88       1                  0   \n",
       "1                    1         112542.58       0                  0   \n",
       "2                    0         113931.57       1                  0   \n",
       "3                    0          93826.63       0                  0   \n",
       "4                    1          79084.10       0                  0   \n",
       "...                ...               ...     ...                ...   \n",
       "9995                 0          96270.64       0                  0   \n",
       "9996                 1         101699.77       0                  0   \n",
       "9997                 1          42085.58       1                  0   \n",
       "9998                 0          92888.52       1                  1   \n",
       "9999                 0          38190.78       0                  0   \n",
       "\n",
       "      geography_Spain  gender_Male  \n",
       "0                   0            0  \n",
       "1                   1            0  \n",
       "2                   0            0  \n",
       "3                   0            0  \n",
       "4                   1            0  \n",
       "...               ...          ...  \n",
       "9995                0            1  \n",
       "9996                0            1  \n",
       "9997                0            0  \n",
       "9998                0            1  \n",
       "9999                0            0  \n",
       "\n",
       "[10000 rows x 12 columns]"
      ]
     },
     "execution_count": 18,
     "metadata": {},
     "output_type": "execute_result"
    }
   ],
   "source": [
    "# Применим технику прямого кодирования ОНЕ к датафрейму, избежав \"ловушку фиктивных признаков\"\n",
    "data_ohe = pd.get_dummies(data, drop_first=True)\n",
    "data_ohe"
   ]
  },
  {
   "cell_type": "markdown",
   "metadata": {},
   "source": [
    "1. Определим random_state = 12345 для выполнения всех этапов проекта\n",
    "2. Исходные данные разделим на обучающую, валидационную и тестовую выборки в соотношении 3:1:1  \n",
    "Обучающая выборка (train) - 60%  \n",
    "Валидационная выборка (valid) - 20%  \n",
    "Тестовая выборка (test) - 20%"
   ]
  },
  {
   "cell_type": "code",
   "execution_count": 19,
   "metadata": {},
   "outputs": [],
   "source": [
    "# выделяем учебную и целевую части\n",
    "features = data_ohe.drop(['exited'], axis=1)\n",
    "target = data_ohe['exited']"
   ]
  },
  {
   "cell_type": "code",
   "execution_count": 20,
   "metadata": {},
   "outputs": [],
   "source": [
    "# разделяем выборку на обучающую и тестовую, объединив в тестовой части 40% данных\n",
    "features_train, features_test, target_train, target_test = train_test_split\\\n",
    "(features, target, test_size=0.4, random_state=12345, stratify=target) "
   ]
  },
  {
   "cell_type": "code",
   "execution_count": 21,
   "metadata": {},
   "outputs": [],
   "source": [
    "# разделим тестовую и валидационную выборки (получаем по 20% от исходных данных)\n",
    "features_test, features_valid, target_test, target_valid = train_test_split\\\n",
    "(features_test, target_test, test_size=0.5, random_state=12345, stratify=target_test)"
   ]
  },
  {
   "cell_type": "code",
   "execution_count": 22,
   "metadata": {},
   "outputs": [
    {
     "name": "stdout",
     "output_type": "stream",
     "text": [
      "(6000, 11)\n",
      "(6000,)\n",
      "(2000, 11)\n",
      "(2000,)\n",
      "(2000, 11)\n",
      "(2000,)\n"
     ]
    }
   ],
   "source": [
    "# выведем на экран размеры полученных выборок.\n",
    "print(features_train.shape)\n",
    "print(target_train.shape)\n",
    "print(features_test.shape)\n",
    "print(target_test.shape)\n",
    "print(features_valid.shape)\n",
    "print(target_valid.shape) "
   ]
  },
  {
   "cell_type": "code",
   "execution_count": 23,
   "metadata": {},
   "outputs": [],
   "source": [
    "# создадим переменную numeric, список всех численных признаков\n",
    "numeric = ['creditscore','age','tenure','balance','num_of_products','estimated_salary'] "
   ]
  },
  {
   "cell_type": "code",
   "execution_count": 24,
   "metadata": {},
   "outputs": [
    {
     "data": {
      "text/html": [
       "<div>\n",
       "<style scoped>\n",
       "    .dataframe tbody tr th:only-of-type {\n",
       "        vertical-align: middle;\n",
       "    }\n",
       "\n",
       "    .dataframe tbody tr th {\n",
       "        vertical-align: top;\n",
       "    }\n",
       "\n",
       "    .dataframe thead th {\n",
       "        text-align: right;\n",
       "    }\n",
       "</style>\n",
       "<table border=\"1\" class=\"dataframe\">\n",
       "  <thead>\n",
       "    <tr style=\"text-align: right;\">\n",
       "      <th></th>\n",
       "      <th>creditscore</th>\n",
       "      <th>age</th>\n",
       "      <th>tenure</th>\n",
       "      <th>balance</th>\n",
       "      <th>num_of_products</th>\n",
       "      <th>has_cr_card</th>\n",
       "      <th>is_active_member</th>\n",
       "      <th>estimated_salary</th>\n",
       "      <th>geography_Germany</th>\n",
       "      <th>geography_Spain</th>\n",
       "      <th>gender_Male</th>\n",
       "    </tr>\n",
       "  </thead>\n",
       "  <tbody>\n",
       "    <tr>\n",
       "      <th>2837</th>\n",
       "      <td>-1.04</td>\n",
       "      <td>0.95</td>\n",
       "      <td>0.36</td>\n",
       "      <td>0.77</td>\n",
       "      <td>-0.91</td>\n",
       "      <td>0</td>\n",
       "      <td>1</td>\n",
       "      <td>-0.12</td>\n",
       "      <td>1</td>\n",
       "      <td>0</td>\n",
       "      <td>0</td>\n",
       "    </tr>\n",
       "    <tr>\n",
       "      <th>9925</th>\n",
       "      <td>0.45</td>\n",
       "      <td>-0.10</td>\n",
       "      <td>0.02</td>\n",
       "      <td>1.91</td>\n",
       "      <td>-0.91</td>\n",
       "      <td>1</td>\n",
       "      <td>1</td>\n",
       "      <td>-0.26</td>\n",
       "      <td>0</td>\n",
       "      <td>0</td>\n",
       "      <td>0</td>\n",
       "    </tr>\n",
       "    <tr>\n",
       "      <th>8746</th>\n",
       "      <td>0.10</td>\n",
       "      <td>-0.48</td>\n",
       "      <td>1.05</td>\n",
       "      <td>0.48</td>\n",
       "      <td>0.82</td>\n",
       "      <td>0</td>\n",
       "      <td>1</td>\n",
       "      <td>1.42</td>\n",
       "      <td>0</td>\n",
       "      <td>0</td>\n",
       "      <td>1</td>\n",
       "    </tr>\n",
       "    <tr>\n",
       "      <th>660</th>\n",
       "      <td>-0.18</td>\n",
       "      <td>0.19</td>\n",
       "      <td>0.36</td>\n",
       "      <td>0.09</td>\n",
       "      <td>-0.91</td>\n",
       "      <td>1</td>\n",
       "      <td>1</td>\n",
       "      <td>-1.16</td>\n",
       "      <td>1</td>\n",
       "      <td>0</td>\n",
       "      <td>0</td>\n",
       "    </tr>\n",
       "    <tr>\n",
       "      <th>3610</th>\n",
       "      <td>-0.72</td>\n",
       "      <td>1.62</td>\n",
       "      <td>-1.36</td>\n",
       "      <td>0.88</td>\n",
       "      <td>-0.91</td>\n",
       "      <td>1</td>\n",
       "      <td>0</td>\n",
       "      <td>0.11</td>\n",
       "      <td>0</td>\n",
       "      <td>0</td>\n",
       "      <td>0</td>\n",
       "    </tr>\n",
       "    <tr>\n",
       "      <th>...</th>\n",
       "      <td>...</td>\n",
       "      <td>...</td>\n",
       "      <td>...</td>\n",
       "      <td>...</td>\n",
       "      <td>...</td>\n",
       "      <td>...</td>\n",
       "      <td>...</td>\n",
       "      <td>...</td>\n",
       "      <td>...</td>\n",
       "      <td>...</td>\n",
       "      <td>...</td>\n",
       "    </tr>\n",
       "    <tr>\n",
       "      <th>6172</th>\n",
       "      <td>-0.84</td>\n",
       "      <td>0.38</td>\n",
       "      <td>0.02</td>\n",
       "      <td>0.18</td>\n",
       "      <td>4.29</td>\n",
       "      <td>1</td>\n",
       "      <td>1</td>\n",
       "      <td>0.12</td>\n",
       "      <td>1</td>\n",
       "      <td>0</td>\n",
       "      <td>1</td>\n",
       "    </tr>\n",
       "    <tr>\n",
       "      <th>2360</th>\n",
       "      <td>-1.36</td>\n",
       "      <td>0.19</td>\n",
       "      <td>0.02</td>\n",
       "      <td>0.55</td>\n",
       "      <td>-0.91</td>\n",
       "      <td>1</td>\n",
       "      <td>0</td>\n",
       "      <td>-0.19</td>\n",
       "      <td>1</td>\n",
       "      <td>0</td>\n",
       "      <td>0</td>\n",
       "    </tr>\n",
       "    <tr>\n",
       "      <th>4499</th>\n",
       "      <td>-1.17</td>\n",
       "      <td>0.48</td>\n",
       "      <td>-0.33</td>\n",
       "      <td>0.73</td>\n",
       "      <td>-0.91</td>\n",
       "      <td>0</td>\n",
       "      <td>0</td>\n",
       "      <td>0.53</td>\n",
       "      <td>1</td>\n",
       "      <td>0</td>\n",
       "      <td>0</td>\n",
       "    </tr>\n",
       "    <tr>\n",
       "      <th>9162</th>\n",
       "      <td>0.16</td>\n",
       "      <td>2.29</td>\n",
       "      <td>-0.67</td>\n",
       "      <td>0.45</td>\n",
       "      <td>-0.91</td>\n",
       "      <td>1</td>\n",
       "      <td>1</td>\n",
       "      <td>-1.31</td>\n",
       "      <td>1</td>\n",
       "      <td>0</td>\n",
       "      <td>1</td>\n",
       "    </tr>\n",
       "    <tr>\n",
       "      <th>700</th>\n",
       "      <td>1.03</td>\n",
       "      <td>-0.67</td>\n",
       "      <td>0.02</td>\n",
       "      <td>-1.22</td>\n",
       "      <td>0.82</td>\n",
       "      <td>1</td>\n",
       "      <td>0</td>\n",
       "      <td>-0.08</td>\n",
       "      <td>0</td>\n",
       "      <td>0</td>\n",
       "      <td>0</td>\n",
       "    </tr>\n",
       "  </tbody>\n",
       "</table>\n",
       "<p>6000 rows × 11 columns</p>\n",
       "</div>"
      ],
      "text/plain": [
       "      creditscore   age  tenure  balance  num_of_products  has_cr_card  \\\n",
       "2837        -1.04  0.95    0.36     0.77            -0.91            0   \n",
       "9925         0.45 -0.10    0.02     1.91            -0.91            1   \n",
       "8746         0.10 -0.48    1.05     0.48             0.82            0   \n",
       "660         -0.18  0.19    0.36     0.09            -0.91            1   \n",
       "3610        -0.72  1.62   -1.36     0.88            -0.91            1   \n",
       "...           ...   ...     ...      ...              ...          ...   \n",
       "6172        -0.84  0.38    0.02     0.18             4.29            1   \n",
       "2360        -1.36  0.19    0.02     0.55            -0.91            1   \n",
       "4499        -1.17  0.48   -0.33     0.73            -0.91            0   \n",
       "9162         0.16  2.29   -0.67     0.45            -0.91            1   \n",
       "700          1.03 -0.67    0.02    -1.22             0.82            1   \n",
       "\n",
       "      is_active_member  estimated_salary  geography_Germany  geography_Spain  \\\n",
       "2837                 1             -0.12                  1                0   \n",
       "9925                 1             -0.26                  0                0   \n",
       "8746                 1              1.42                  0                0   \n",
       "660                  1             -1.16                  1                0   \n",
       "3610                 0              0.11                  0                0   \n",
       "...                ...               ...                ...              ...   \n",
       "6172                 1              0.12                  1                0   \n",
       "2360                 0             -0.19                  1                0   \n",
       "4499                 0              0.53                  1                0   \n",
       "9162                 1             -1.31                  1                0   \n",
       "700                  0             -0.08                  0                0   \n",
       "\n",
       "      gender_Male  \n",
       "2837            0  \n",
       "9925            0  \n",
       "8746            1  \n",
       "660             0  \n",
       "3610            0  \n",
       "...           ...  \n",
       "6172            1  \n",
       "2360            0  \n",
       "4499            0  \n",
       "9162            1  \n",
       "700             0  \n",
       "\n",
       "[6000 rows x 11 columns]"
      ]
     },
     "execution_count": 24,
     "metadata": {},
     "output_type": "execute_result"
    }
   ],
   "source": [
    "# Нормируем числовые данные, используя StandardScaler\n",
    "scaler = StandardScaler()\n",
    "scaler.fit(features_train[numeric])\n",
    "pd.options.mode.chained_assignment = None\n",
    "\n",
    "features_train[numeric] = scaler.transform(features_train[numeric])\n",
    "features_valid[numeric] = scaler.transform(features_valid[numeric])\n",
    "features_test[numeric] = scaler.transform(features_test[numeric])\n",
    "\n",
    "# посмотрим, что получилось, на тренировочной выборке \n",
    "features_train"
   ]
  },
  {
   "cell_type": "markdown",
   "metadata": {},
   "source": [
    "**ВЫВОДЫ**.  \n",
    "Данные подготовлены для дальнейшего исследования:\n",
    "1. Данные изучены, выполнена необходимая предобработка\n",
    "2. Датасет разделен на тренировочную, валидацинную и тестовую выборки в соотношении 3:1:1  \n",
    "3. Числовые признаки приведены к единому масштабу\n",
    "4. Посредством One-Hot Encoding категориальные признаки преобразованы в числовые"
   ]
  },
  {
   "cell_type": "markdown",
   "metadata": {},
   "source": [
    "## Исследование задачи"
   ]
  },
  {
   "cell_type": "markdown",
   "metadata": {},
   "source": [
    "#### Распределение целевого признака"
   ]
  },
  {
   "cell_type": "code",
   "execution_count": 25,
   "metadata": {
    "scrolled": false
   },
   "outputs": [
    {
     "data": {
      "image/png": "[encoded data removed]",
      "text/plain": [
       "<Figure size 576x432 with 1 Axes>"
      ]
     },
     "metadata": {
      "needs_background": "light"
     },
     "output_type": "display_data"
    }
   ],
   "source": [
    "# посмотрим на рапределение целевого признака\n",
    "fig, ax = plt.subplots(1)\n",
    "ax.set_title('Распределение целевого признака')\n",
    "ax.set_xlabel('Значение признака')\n",
    "ax.set_ylabel('Количество записей с соответствующим значением')\n",
    "target.value_counts().plot(kind='bar', figsize=(8,6), ax=ax)\n",
    "plt.show()"
   ]
  },
  {
   "cell_type": "code",
   "execution_count": 26,
   "metadata": {},
   "outputs": [
    {
     "data": {
      "text/plain": [
       "((7963, 11), (2037, 11))"
      ]
     },
     "execution_count": 26,
     "metadata": {},
     "output_type": "execute_result"
    }
   ],
   "source": [
    "features[target == 0].shape, features[target == 1].shape"
   ]
  },
  {
   "cell_type": "markdown",
   "metadata": {},
   "source": [
    "Наблюдаем дисбаланс данных, объектов отрицательного класса почти в 4 раза больше, чем положительного. "
   ]
  },
  {
   "cell_type": "markdown",
   "metadata": {},
   "source": [
    "#### Обучение базовой модели на несбалансированных данных\n"
   ]
  },
  {
   "cell_type": "markdown",
   "metadata": {},
   "source": [
    "**Логистическая регрессия**"
   ]
  },
  {
   "cell_type": "code",
   "execution_count": 27,
   "metadata": {},
   "outputs": [
    {
     "name": "stdout",
     "output_type": "stream",
     "text": [
      "F1: 0.2932330827067669\n",
      "ROC_auc: 0.5810710556473269\n"
     ]
    }
   ],
   "source": [
    "# Используем гиперпараметр solver='lbfgs' \n",
    "\n",
    "model = LogisticRegression(random_state=12345, solver='liblinear', max_iter=1000)\n",
    "model.fit(features_train, target_train)\n",
    "predicted_valid = model.predict(features_valid)\n",
    "f1 = f1_score(target_valid, predicted_valid)\n",
    "roc_auc = roc_auc_score(target_valid, predicted_valid) \n",
    "\n",
    "print(\"F1:\", f1)\n",
    "print(\"ROC_auc:\", roc_auc)"
   ]
  },
  {
   "cell_type": "markdown",
   "metadata": {},
   "source": [
    "**Дерево решений**"
   ]
  },
  {
   "cell_type": "code",
   "execution_count": 28,
   "metadata": {},
   "outputs": [
    {
     "name": "stdout",
     "output_type": "stream",
     "text": [
      "Глубина дерева: 7\n",
      "F1: 0.552437223042836\n",
      "ROC_auc: 0.5810710556473269\n"
     ]
    }
   ],
   "source": [
    "# зададим глубину дерева в диапазоне от 1 до 30\n",
    "f1 = 0\n",
    "depth = 1\n",
    "\n",
    "for i in range(1, 30):\n",
    "    model = DecisionTreeClassifier(random_state=12345, max_depth=i) \n",
    "    model.fit(features_train, target_train)\n",
    "    predicted_valid = model.predict(features_valid)\n",
    "    if f1_score(target_valid, predicted_valid) > f1:\n",
    "            f1 = f1_score(target_valid, predicted_valid)\n",
    "            depth = i\n",
    "    roc_auc_dtc = roc_auc_score(target_valid, predicted_valid)  \n",
    "\n",
    "print(\"Глубина дерева:\", depth)\n",
    "print(\"F1:\", f1)\n",
    "print(\"ROC_auc:\", roc_auc) "
   ]
  },
  {
   "cell_type": "markdown",
   "metadata": {},
   "source": [
    "\n"
   ]
  },
  {
   "cell_type": "markdown",
   "metadata": {},
   "source": [
    "**Случайный лес**"
   ]
  },
  {
   "cell_type": "code",
   "execution_count": 29,
   "metadata": {},
   "outputs": [
    {
     "name": "stdout",
     "output_type": "stream",
     "text": [
      "Число деревьев: 11\n",
      "максимальная глубина: 16\n",
      "F1: 0.5555555555555556\n",
      "ROC_auc: 0.7040461108257718\n"
     ]
    }
   ],
   "source": [
    "# зададим количество деревьев в диапазоне до 100\n",
    "f1 = 0\n",
    "n_estimators = 0\n",
    "best_predict = 0\n",
    "\n",
    "for i in range (1, 101, 5):\n",
    "    for j in range(1, 30, 5):\n",
    "        model = RandomForestClassifier(n_estimators=i, max_depth=j, random_state=12345)\n",
    "        model.fit(features_train, target_train)\n",
    "        predicted_valid = model.predict(features_valid)\n",
    "        if f1_score(target_valid, predicted_valid) > f1:\n",
    "            f1 = f1_score(target_valid, predicted_valid)\n",
    "            n_estimators = i\n",
    "            max_depth = j\n",
    "            best_predict = predicted_valid\n",
    "    auc_roc = roc_auc_score(target_valid, best_predict)\n",
    "\n",
    "print(\"Число деревьев:\", n_estimators)\n",
    "print(\"максимальная глубина:\", max_depth)\n",
    "print(\"F1:\", f1)\n",
    "print(\"ROC_auc:\", auc_roc)"
   ]
  },
  {
   "cell_type": "markdown",
   "metadata": {},
   "source": [
    "**ВЫВОДЫ:**\n",
    "\n",
    "Результаты обученных на несбалансированных данных моделей:  \n",
    "1. Модель логистической регрессии: F1 и Roc_auc соответственно 0,29 и 0,58.  \n",
    "2. Модель дерева решений: F1 и Roc_auc соответственно 0,55 и 0,59.\n",
    "3. Модель случайного леса: F1 и Roc_auc соответственно 0,56 и 0,70.  \n",
    "Таким образом, лучший результат без борьбы с дисбалансом показала модель случайного леса"
   ]
  },
  {
   "cell_type": "markdown",
   "metadata": {},
   "source": [
    "## Борьба с дисбалансом"
   ]
  },
  {
   "cell_type": "markdown",
   "metadata": {},
   "source": [
    "#### Параметр class_weight для борьбы с дисбалансом"
   ]
  },
  {
   "cell_type": "markdown",
   "metadata": {},
   "source": [
    "**Логистическая регрессия**"
   ]
  },
  {
   "cell_type": "code",
   "execution_count": 30,
   "metadata": {},
   "outputs": [
    {
     "name": "stdout",
     "output_type": "stream",
     "text": [
      "F1: 0.4751958224543081\n",
      "ROC_auc: 0.6881743068183748\n"
     ]
    }
   ],
   "source": [
    "model = LogisticRegression(random_state=12345, solver='liblinear', max_iter=1000, class_weight = 'balanced')\n",
    "model.fit(features_train, target_train)\n",
    "predicted_valid = model.predict(features_valid)\n",
    "f1 = f1_score(target_valid, predicted_valid)\n",
    "roc_auc = roc_auc_score(target_valid, predicted_valid) \n",
    "\n",
    "print(\"F1:\", f1)\n",
    "print(\"ROC_auc:\", roc_auc)"
   ]
  },
  {
   "cell_type": "markdown",
   "metadata": {},
   "source": [
    "**Дерево решений**"
   ]
  },
  {
   "cell_type": "code",
   "execution_count": 31,
   "metadata": {},
   "outputs": [
    {
     "name": "stdout",
     "output_type": "stream",
     "text": [
      "Глубина дерева: 4\n",
      "F1: 0.5403949730700179\n",
      "ROC_auc: 0.6881743068183748\n"
     ]
    }
   ],
   "source": [
    "f1 = 0\n",
    "depth = 1\n",
    "\n",
    "for i in range(1, 30):\n",
    "    model = DecisionTreeClassifier(random_state=12345, max_depth=i, class_weight = 'balanced') \n",
    "    model.fit(features_train, target_train)\n",
    "    predicted_valid = model.predict(features_valid)\n",
    "    if f1_score(target_valid, predicted_valid) > f1:\n",
    "            f1 = f1_score(target_valid, predicted_valid)\n",
    "            depth = i\n",
    "    roc_auc_dtc = roc_auc_score(target_valid, predicted_valid)  \n",
    "\n",
    "print(\"Глубина дерева:\", depth)\n",
    "print(\"F1:\", f1)\n",
    "print(\"ROC_auc:\", roc_auc)"
   ]
  },
  {
   "cell_type": "markdown",
   "metadata": {},
   "source": [
    "**Случайный лес**"
   ]
  },
  {
   "cell_type": "code",
   "execution_count": 32,
   "metadata": {},
   "outputs": [
    {
     "name": "stdout",
     "output_type": "stream",
     "text": [
      "Число деревьев: 76\n",
      "максимальная глубина: 6\n",
      "F1: 0.5987525987525987\n",
      "ROC_auc: 0.7700042106821768\n"
     ]
    }
   ],
   "source": [
    "f1 = 0\n",
    "n_estimators = 0\n",
    "best_predict = 0\n",
    "\n",
    "for i in range (1, 101, 5):\n",
    "    for j in range(1, 30, 5):\n",
    "        model = RandomForestClassifier(n_estimators=i, max_depth=j, random_state=12345, class_weight = 'balanced')\n",
    "        model.fit(features_train, target_train)\n",
    "        predicted_valid = model.predict(features_valid)\n",
    "        if f1_score(target_valid, predicted_valid) > f1:\n",
    "            f1 = f1_score(target_valid, predicted_valid)\n",
    "            n_estimators = i\n",
    "            max_depth = j\n",
    "            best_predict = predicted_valid\n",
    "    auc_roc = roc_auc_score(target_valid, best_predict)\n",
    "\n",
    "print(\"Число деревьев:\", n_estimators)\n",
    "print(\"максимальная глубина:\", max_depth)\n",
    "print(\"F1:\", f1)\n",
    "print(\"ROC_auc:\", auc_roc)"
   ]
  },
  {
   "cell_type": "markdown",
   "metadata": {},
   "source": [
    "**ВЫВОДЫ**\n",
    "\n",
    "После применения параметра class_weight результаты моделей логистической регресси и случайного леса улучшились, а результаты модели дерева решений ухудшились в пределах 1%.  \n",
    "Модель логистической регрессии: F1 и Roc_auc соответственно 0,48 и 0,69.  \n",
    "Модель дерева решений: F1 и Roc_auc соответственно 0,55 и 0,58.  \n",
    "Модель случайного леса: F1 и Roc_auc соответственно 0,60 и 0,77. "
   ]
  },
  {
   "cell_type": "markdown",
   "metadata": {},
   "source": [
    "#### Увеличение выборки для борьбы с дисбалансом"
   ]
  },
  {
   "cell_type": "code",
   "execution_count": 33,
   "metadata": {},
   "outputs": [
    {
     "name": "stdout",
     "output_type": "stream",
     "text": [
      "(9666, 11) (9666,)\n"
     ]
    }
   ],
   "source": [
    "# Создадим функцию, которая принимает на вход: признаки, целевой признак, количество повторений\n",
    "# функция вернёт признаки и целевой признак после операции upsampling\n",
    "\n",
    "def upsample(features, target, repeat):\n",
    "    features_zeros = features[target == 0]\n",
    "    features_ones = features[target == 1]\n",
    "    target_zeros = target[target == 0]\n",
    "    target_ones = target[target == 1]\n",
    "    \n",
    "    features_upsampled = pd.concat([features_zeros] + [features_ones] * repeat)\n",
    "    target_upsampled = pd.concat([target_zeros] + [target_ones] * repeat)    \n",
    "    features_upsampled, target_upsampled = shuffle(\n",
    "        features_upsampled, target_upsampled, random_state=12345)    \n",
    "    return features_upsampled, target_upsampled\n",
    "\n",
    "features_upsampled, target_upsampled = upsample(features_train, target_train, 4)\n",
    "\n",
    "print(features_upsampled.shape, target_upsampled.shape) "
   ]
  },
  {
   "cell_type": "code",
   "execution_count": 34,
   "metadata": {},
   "outputs": [
    {
     "name": "stdout",
     "output_type": "stream",
     "text": [
      "F1: 0.47822374039282667\n",
      "ROC_auc: 0.6920657174894462\n"
     ]
    }
   ],
   "source": [
    "# Обучим на новых данных модель LogisticRegression\n",
    "model = LogisticRegression(random_state=12345, solver='liblinear') \n",
    "model.fit(features_upsampled, target_upsampled)\n",
    "\n",
    "predicted_valid = model.predict(features_valid)\n",
    "f1 = f1_score(target_valid, predicted_valid)\n",
    "roc_auc = roc_auc_score(target_valid, predicted_valid)\n",
    "\n",
    "print(\"F1:\", f1)\n",
    "print(\"ROC_auc:\", roc_auc)"
   ]
  },
  {
   "cell_type": "code",
   "execution_count": 35,
   "metadata": {},
   "outputs": [
    {
     "name": "stdout",
     "output_type": "stream",
     "text": [
      "Глубина дерева: 4\n",
      "F1: 0.5403949730700179\n",
      "ROC_auc: 0.6920657174894462\n"
     ]
    }
   ],
   "source": [
    "# Обучим на новых данных модель дерева решений\n",
    "f1 = 0\n",
    "depth = 1\n",
    "\n",
    "for i in range(1, 30):\n",
    "    model = DecisionTreeClassifier(random_state=12345, max_depth=i) \n",
    "    model.fit(features_upsampled, target_upsampled)\n",
    "    predicted_valid = model.predict(features_valid)\n",
    "    if f1_score(target_valid, predicted_valid) > f1:\n",
    "            f1 = f1_score(target_valid, predicted_valid)\n",
    "            depth = i\n",
    "    roc_auc_dtc = roc_auc_score(target_valid, predicted_valid)  \n",
    "\n",
    "print(\"Глубина дерева:\", depth)\n",
    "print(\"F1:\", f1)\n",
    "print(\"ROC_auc:\", roc_auc)"
   ]
  },
  {
   "cell_type": "code",
   "execution_count": 36,
   "metadata": {},
   "outputs": [
    {
     "name": "stdout",
     "output_type": "stream",
     "text": [
      "Число деревьев: 91\n",
      "максимальная глубина: 11\n",
      "F1: 0.6039488966318235\n",
      "ROC_auc: 0.7585189195358687\n"
     ]
    }
   ],
   "source": [
    "# Обучим на новых данных модель случайного леса\n",
    "f1 = 0\n",
    "n_estimators = 0\n",
    "best_predict = 0\n",
    "\n",
    "for i in range (1, 101, 5):\n",
    "    for j in range(1, 30, 5):\n",
    "        model = RandomForestClassifier(n_estimators=i, max_depth=j, random_state=12345)\n",
    "        model.fit(features_upsampled, target_upsampled)\n",
    "        predicted_valid = model.predict(features_valid)\n",
    "        if f1_score(target_valid, predicted_valid) > f1:\n",
    "            f1 = f1_score(target_valid, predicted_valid)\n",
    "            n_estimators = i\n",
    "            max_depth = j\n",
    "            best_predict = predicted_valid\n",
    "    auc_roc = roc_auc_score(target_valid, best_predict)\n",
    "\n",
    "print(\"Число деревьев:\", n_estimators)\n",
    "print(\"максимальная глубина:\", max_depth)\n",
    "print(\"F1:\", f1)\n",
    "print(\"ROC_auc:\", auc_roc)"
   ]
  },
  {
   "cell_type": "markdown",
   "metadata": {},
   "source": [
    "**ВЫВОДЫ**\n",
    "\n",
    "После увеличения выборки результаты модели показали следующие результаты:  \n",
    "Модель логистической регрессии: F1 и Roc_auc соответственно 0,48 и 0,69. Результат не изменился.  \n",
    "Модель дерева решений: F1 и Roc_auc соответственно 0,55 и 0,68. Результат почти не изменился.  \n",
    "Модель случайного леса: F1 и Roc_auc соответственно 0,60 и 0,76. Результат почти не изменился."
   ]
  },
  {
   "cell_type": "markdown",
   "metadata": {},
   "source": [
    "#### Уменьшение выборки для борьбы с дисбалансом"
   ]
  },
  {
   "cell_type": "code",
   "execution_count": 37,
   "metadata": {},
   "outputs": [
    {
     "name": "stdout",
     "output_type": "stream",
     "text": [
      "(2416, 11)\n",
      "(2416,)\n"
     ]
    }
   ],
   "source": [
    "# Создадим функцию,которая принимает на вход: признаки, целевой признак, количество повторений\n",
    "# функция вернёт признаки и целевой признак после операции downsampling\n",
    "\n",
    "def downsample(features, target, fraction):\n",
    "    features_zeros = features[target == 0]\n",
    "    features_ones = features[target == 1]\n",
    "    target_zeros = target[target == 0]\n",
    "    target_ones = target[target == 1]\n",
    "    features_downsampled = pd.concat(\n",
    "        [features_zeros.sample(frac=fraction, random_state=12345)] + [features_ones])\n",
    "    target_downsampled = pd.concat(\n",
    "        [target_zeros.sample(frac=fraction, random_state=12345)] + [target_ones])    \n",
    "    features_downsampled, target_downsampled = shuffle(\n",
    "        features_downsampled, target_downsampled, random_state=12345)    \n",
    "    return features_downsampled, target_downsampled\n",
    "\n",
    "features_downsampled, target_downsampled = downsample(features_train, target_train, 0.25)\n",
    "\n",
    "print(features_downsampled.shape)\n",
    "print(target_downsampled.shape)"
   ]
  },
  {
   "cell_type": "code",
   "execution_count": 38,
   "metadata": {},
   "outputs": [
    {
     "name": "stdout",
     "output_type": "stream",
     "text": [
      "F1: 0.47733105218135163\n",
      "ROC_auc: 0.6911510894561741\n"
     ]
    }
   ],
   "source": [
    "# Обучим на новых данных модель LogisticRegression\n",
    "\n",
    "model = LogisticRegression(random_state=12345, solver='liblinear') \n",
    "model.fit(features_downsampled, target_downsampled)\n",
    "\n",
    "predicted_valid = model.predict(features_valid)\n",
    "f1 = f1_score(target_valid, predicted_valid)\n",
    "roc_auc = roc_auc_score(target_valid, predicted_valid)\n",
    "\n",
    "print(\"F1:\", f1)\n",
    "print(\"ROC_auc:\", roc_auc)"
   ]
  },
  {
   "cell_type": "code",
   "execution_count": 39,
   "metadata": {},
   "outputs": [
    {
     "name": "stdout",
     "output_type": "stream",
     "text": [
      "Глубина дерева: 6\n",
      "F1: 0.5590778097982709\n",
      "ROC_auc: 0.6911510894561741\n"
     ]
    }
   ],
   "source": [
    "# Обучим на новых данных модель дерева решений\n",
    "f1 = 0\n",
    "depth = 1\n",
    "\n",
    "for i in range(1, 30):\n",
    "    model = DecisionTreeClassifier(random_state=12345, max_depth=i) \n",
    "    model.fit(features_downsampled, target_downsampled)\n",
    "    predicted_valid = model.predict(features_valid)\n",
    "    if f1_score(target_valid, predicted_valid) > f1:\n",
    "            f1 = f1_score(target_valid, predicted_valid)\n",
    "            depth = i\n",
    "    roc_auc_dtc = roc_auc_score(target_valid, predicted_valid)  \n",
    "\n",
    "print(\"Глубина дерева:\", depth)\n",
    "print(\"F1:\", f1)\n",
    "print(\"ROC_auc:\", roc_auc)"
   ]
  },
  {
   "cell_type": "code",
   "execution_count": 40,
   "metadata": {},
   "outputs": [
    {
     "name": "stdout",
     "output_type": "stream",
     "text": [
      "Число деревьев: 56\n",
      "максимальная глубина: 11\n",
      "F1: 0.590566037735849\n",
      "ROC_auc: 0.7778039981429812\n"
     ]
    }
   ],
   "source": [
    "# Обучим на новых данных модель случайного леса\n",
    "\n",
    "f1 = 0\n",
    "n_estimators = 0\n",
    "best_predict = 0\n",
    "\n",
    "for i in range (1, 101, 5):\n",
    "    for j in range(1, 30, 5):\n",
    "        model = RandomForestClassifier(n_estimators=i, max_depth=j, random_state=12345)\n",
    "        model.fit(features_downsampled, target_downsampled)\n",
    "        predicted_valid = model.predict(features_valid)\n",
    "        if f1_score(target_valid, predicted_valid) > f1:\n",
    "            f1 = f1_score(target_valid, predicted_valid)\n",
    "            n_estimators = i\n",
    "            max_depth = j\n",
    "            best_predict = predicted_valid\n",
    "    auc_roc = roc_auc_score(target_valid, best_predict)\n",
    "\n",
    "print(\"Число деревьев:\", n_estimators)\n",
    "print(\"максимальная глубина:\", max_depth)\n",
    "print(\"F1:\", f1)\n",
    "print(\"ROC_auc:\", auc_roc)"
   ]
  },
  {
   "cell_type": "markdown",
   "metadata": {},
   "source": [
    "**ВЫВОДЫ**\n",
    "\n",
    "После уменьшения выборки модели показали следующие результаты:  \n",
    "Модель логистической регрессии: F1 и Roc_auc соответственно 0,47 и 0,69. Результат практически не изменился.  \n",
    "Модель дерева решений: F1 и Roc_auc соответственно 0,56 и 0,69. Результат практически не изменился.  \n",
    "Модель случайного леса: F1 и Roc_auc соответственно 0,59 и 0,78. Результат практически не изменился."
   ]
  },
  {
   "cell_type": "markdown",
   "metadata": {},
   "source": [
    "**ОБЩИЙ ВЫВОД ПО УСТРАНЕНИЮ ДИСБАЛАНСА**  \n",
    "\n",
    "Мы использовали разные подходы для решения проблемы дисбаланса и получили следующие результаты:\n",
    "\n",
    "Показатели модели логистической регресси значительно улучшились в результате использования параметра class weight. Значение F1 увеличилось c 0,29 до 0,48. Roc_auc с 0,58 до 0,69. Последующие экспериметы с увеличением и уменьшением выборки привели к изменениям значений в пределах 0,1%.  \n",
    "\n",
    "Показатели модели дерева решений в ходе исследований изменялись в пределах 0,5%. Полученное значение F1 0,55, Roc_auc 0,69.  \n",
    "\n",
    "В результате борьбы с дисбалансом лучшие результаты показала модель случайного леса. Лучшие показатели  F1 и Roc_auc соответственно 0,62\n",
    "и 0,77 получены при параметрах число деревьев 91 и максимальной глубине 11. Эту модель мы будем исследовать далее на тестовой выборке."
   ]
  },
  {
   "cell_type": "markdown",
   "metadata": {},
   "source": [
    "## Тестирование модели"
   ]
  },
  {
   "cell_type": "markdown",
   "metadata": {},
   "source": [
    "#### Проверка на тестовой выборке"
   ]
  },
  {
   "cell_type": "code",
   "execution_count": 46,
   "metadata": {},
   "outputs": [
    {
     "name": "stdout",
     "output_type": "stream",
     "text": [
      "F1: 0.5950920245398773\n",
      "ROC_auc: 0.722041580451276\n"
     ]
    }
   ],
   "source": [
    "model = RandomForestClassifier(n_estimators=91, max_depth=11, random_state=12345)\n",
    "        \n",
    "model.fit(features_train, target_train)\n",
    "predictions_test = model.predict(features_test)\n",
    "\n",
    "f1 = f1_score(target_test, predictions_test)\n",
    "auc_roc = roc_auc_score(target_test, predictions_test)\n",
    "\n",
    "print(\"F1:\", f1)\n",
    "print(\"ROC_auc:\", auc_roc) "
   ]
  },
  {
   "cell_type": "markdown",
   "metadata": {},
   "source": [
    "Проверка модели на тестовой выборке показала результаты F1 0,60 и Roc_auc 0,73  что на 1% и 5% меньше результата обученной модели"
   ]
  },
  {
   "cell_type": "markdown",
   "metadata": {},
   "source": [
    "#### Поверка модели на адекватность"
   ]
  },
  {
   "cell_type": "code",
   "execution_count": 47,
   "metadata": {},
   "outputs": [
    {
     "name": "stdout",
     "output_type": "stream",
     "text": [
      "0.0\n"
     ]
    }
   ],
   "source": [
    "dummy_model = DummyClassifier(strategy='most_frequent', random_state=12345)\n",
    "dummy_model.fit(features_train, target_train)\n",
    "prediction = dummy_model.predict(features_test)\n",
    "\n",
    "print(f1_score(target_test, prediction))"
   ]
  },
  {
   "cell_type": "code",
   "execution_count": 48,
   "metadata": {},
   "outputs": [
    {
     "name": "stdout",
     "output_type": "stream",
     "text": [
      "0.23300970873786409\n"
     ]
    }
   ],
   "source": [
    "dummy_model = DummyClassifier(strategy='stratified', random_state=12345)\n",
    "dummy_model.fit(features_train, target_train)\n",
    "prediction = dummy_model.predict(features_test)\n",
    "\n",
    "print(f1_score(target_test, prediction))"
   ]
  },
  {
   "cell_type": "code",
   "execution_count": 49,
   "metadata": {},
   "outputs": [
    {
     "name": "stdout",
     "output_type": "stream",
     "text": [
      "0.29880197322057794\n"
     ]
    }
   ],
   "source": [
    "dummy_model = DummyClassifier(strategy='uniform', random_state=12345)\n",
    "dummy_model.fit(features_train, target_train)\n",
    "prediction = dummy_model.predict(features_test)\n",
    "\n",
    "print(f1_score(target_test, prediction))"
   ]
  },
  {
   "cell_type": "code",
   "execution_count": 50,
   "metadata": {
    "scrolled": true
   },
   "outputs": [
    {
     "name": "stdout",
     "output_type": "stream",
     "text": [
      "Порог = 0.00 | Точность = 0.204, Полнота = 1.000, F1 = 0.339, ROC_auc = 0.500\n",
      "Порог = 0.02 | Точность = 0.216, Полнота = 0.993, F1 = 0.355, ROC_auc = 0.536\n",
      "Порог = 0.04 | Точность = 0.245, Полнота = 0.980, F1 = 0.392, ROC_auc = 0.603\n",
      "Порог = 0.06 | Точность = 0.271, Полнота = 0.953, F1 = 0.422, ROC_auc = 0.648\n",
      "Порог = 0.08 | Точность = 0.300, Полнота = 0.931, F1 = 0.453, ROC_auc = 0.687\n",
      "Порог = 0.10 | Точность = 0.335, Полнота = 0.914, F1 = 0.490, ROC_auc = 0.724\n",
      "Порог = 0.12 | Точность = 0.370, Полнота = 0.892, F1 = 0.523, ROC_auc = 0.751\n",
      "Порог = 0.14 | Точность = 0.404, Полнота = 0.870, F1 = 0.552, ROC_auc = 0.771\n",
      "Порог = 0.16 | Точность = 0.445, Полнота = 0.838, F1 = 0.581, ROC_auc = 0.785\n",
      "Порог = 0.18 | Точность = 0.478, Полнота = 0.819, F1 = 0.603, ROC_auc = 0.795\n",
      "Порог = 0.20 | Точность = 0.495, Полнота = 0.789, F1 = 0.608, ROC_auc = 0.791\n",
      "Порог = 0.22 | Точность = 0.523, Полнота = 0.777, F1 = 0.625, ROC_auc = 0.798\n",
      "Порог = 0.24 | Точность = 0.556, Полнота = 0.752, F1 = 0.640, ROC_auc = 0.799\n",
      "Порог = 0.26 | Точность = 0.581, Полнота = 0.723, F1 = 0.644, ROC_auc = 0.795\n",
      "Порог = 0.28 | Точность = 0.613, Полнота = 0.703, F1 = 0.655, ROC_auc = 0.795\n",
      "Порог = 0.30 | Точность = 0.629, Полнота = 0.676, F1 = 0.652, ROC_auc = 0.787\n",
      "Порог = 0.32 | Точность = 0.651, Полнота = 0.645, F1 = 0.648, ROC_auc = 0.778\n",
      "Порог = 0.34 | Точность = 0.663, Полнота = 0.618, F1 = 0.640, ROC_auc = 0.769\n",
      "Порог = 0.36 | Точность = 0.671, Полнота = 0.596, F1 = 0.631, ROC_auc = 0.760\n",
      "Порог = 0.38 | Точность = 0.698, Полнота = 0.583, F1 = 0.636, ROC_auc = 0.759\n",
      "Порог = 0.40 | Точность = 0.725, Полнота = 0.569, F1 = 0.637, ROC_auc = 0.757\n",
      "Порог = 0.42 | Точность = 0.740, Полнота = 0.551, F1 = 0.632, ROC_auc = 0.751\n",
      "Порог = 0.44 | Точность = 0.755, Полнота = 0.529, F1 = 0.622, ROC_auc = 0.743\n",
      "Порог = 0.46 | Точность = 0.772, Полнота = 0.515, F1 = 0.618, ROC_auc = 0.738\n",
      "Порог = 0.48 | Точность = 0.781, Полнота = 0.498, F1 = 0.608, ROC_auc = 0.731\n",
      "Порог = 0.50 | Точность = 0.795, Полнота = 0.475, F1 = 0.595, ROC_auc = 0.722\n",
      "Порог = 0.52 | Точность = 0.809, Полнота = 0.466, F1 = 0.591, ROC_auc = 0.719\n",
      "Порог = 0.54 | Точность = 0.817, Полнота = 0.439, F1 = 0.571, ROC_auc = 0.707\n",
      "Порог = 0.56 | Точность = 0.827, Полнота = 0.434, F1 = 0.569, ROC_auc = 0.705\n",
      "Порог = 0.58 | Точность = 0.835, Полнота = 0.422, F1 = 0.560, ROC_auc = 0.700\n",
      "Порог = 0.60 | Точность = 0.827, Полнота = 0.400, F1 = 0.539, ROC_auc = 0.689\n",
      "Порог = 0.62 | Точность = 0.833, Полнота = 0.392, F1 = 0.533, ROC_auc = 0.686\n",
      "Порог = 0.64 | Точность = 0.843, Полнота = 0.382, F1 = 0.526, ROC_auc = 0.682\n",
      "Порог = 0.66 | Точность = 0.853, Полнота = 0.370, F1 = 0.516, ROC_auc = 0.677\n",
      "Порог = 0.68 | Точность = 0.854, Полнота = 0.358, F1 = 0.504, ROC_auc = 0.671\n",
      "Порог = 0.70 | Точность = 0.872, Полнота = 0.350, F1 = 0.500, ROC_auc = 0.669\n",
      "Порог = 0.72 | Точность = 0.875, Полнота = 0.326, F1 = 0.475, ROC_auc = 0.657\n",
      "Порог = 0.74 | Точность = 0.885, Полнота = 0.301, F1 = 0.450, ROC_auc = 0.646\n",
      "Порог = 0.76 | Точность = 0.890, Полнота = 0.277, F1 = 0.422, ROC_auc = 0.634\n",
      "Порог = 0.78 | Точность = 0.894, Полнота = 0.248, F1 = 0.388, ROC_auc = 0.620\n"
     ]
    }
   ],
   "source": [
    "model = RandomForestClassifier(n_estimators=91, max_depth=11, random_state=12345)\n",
    "model.fit(features_train, target_train)\n",
    "probabilities_test = model.predict_proba(features_test)\n",
    "probabilities_one_test = probabilities_test[:, 1]\n",
    "\n",
    "for threshold in np.arange(0, 0.8, 0.02):\n",
    "    predicted_test = probabilities_one_test > threshold \n",
    "    precision = precision_score(target_test, predicted_test) \n",
    "    recall = recall_score(target_test, predicted_test) \n",
    "    print(\"Порог = {:.2f} | Точность = {:.3f}, Полнота = {:.3f}, F1 = {:.3f}, ROC_auc = {:.3f}\"\\\n",
    "      .format(\n",
    "        threshold, precision, recall,\\\n",
    "        f1_score(target_test, predicted_test), roc_auc_score(target_test, predicted_test))) "
   ]
  },
  {
   "cell_type": "markdown",
   "metadata": {},
   "source": [
    "**ОБЩИЙ ВЫВОД**. \n",
    "1. Мы исследовали данные, отбросили лишние признаки и заполнили пропуски\n",
    "2. Также были обработаны категориальные признаки и стандартизированы числовые\n",
    "3. При исследованиях различных моделей мы столкнулись с проблемой дисбаланса, которая не позволила нам добиться необходимого результата агрегирующей метрики среднего гармонического, объединяющего полноту и точность.\n",
    "4. Для решения проблемы мы попробовали\n",
    "    - Выровнять вес классов\n",
    "    - Добавить данных положительного класса\n",
    "    - Убрать данные отрицательного класса\n",
    "5. На основании нашего исследования мы выбрали и обучили лучшую модель. Лучшие показатели у модели случайного леса с количеством деревьев 16 и глубиной 11 при сбалансированном взвешивании классов.\n",
    "6. Нам удалось достичь необходимой F1-меры, она составила 0.6125290023201856.  \n",
    "Таким образм, для проноза ухода клиента мы рекомендуем использовать модель случайного леса с количеством деревьев 16 и глубиной 11 при сбалансированном взвешивании классов.\n"
   ]
  }
 ],
 "metadata": {
  "ExecuteTimeLog": [
   {
    "duration": 42,
    "start_time": "2022-10-24T11:05:25.435Z"
   },
   {
    "duration": 5,
    "start_time": "2022-10-24T11:06:57.746Z"
   },
   {
    "duration": 1577,
    "start_time": "2022-10-24T11:08:08.302Z"
   },
   {
    "duration": 183,
    "start_time": "2022-10-24T11:08:09.881Z"
   },
   {
    "duration": 37,
    "start_time": "2022-10-24T11:08:12.971Z"
   },
   {
    "duration": 2,
    "start_time": "2022-10-24T11:35:41.301Z"
   },
   {
    "duration": 12,
    "start_time": "2022-10-24T11:38:09.833Z"
   },
   {
    "duration": 17,
    "start_time": "2022-10-24T11:40:11.741Z"
   },
   {
    "duration": 55553,
    "start_time": "2022-10-24T11:47:58.762Z"
   },
   {
    "duration": 5,
    "start_time": "2022-10-24T11:54:41.264Z"
   },
   {
    "duration": 52,
    "start_time": "2022-10-24T12:52:34.021Z"
   },
   {
    "duration": 1701,
    "start_time": "2022-10-24T12:52:41.906Z"
   },
   {
    "duration": 3,
    "start_time": "2022-10-24T12:52:43.609Z"
   },
   {
    "duration": 209,
    "start_time": "2022-10-24T12:52:43.613Z"
   },
   {
    "duration": 17,
    "start_time": "2022-10-24T12:52:43.824Z"
   },
   {
    "duration": 14,
    "start_time": "2022-10-24T12:52:43.843Z"
   },
   {
    "duration": 4,
    "start_time": "2022-10-24T12:52:43.859Z"
   },
   {
    "duration": 6,
    "start_time": "2022-10-24T12:53:27.363Z"
   },
   {
    "duration": 130,
    "start_time": "2022-10-24T13:07:42.398Z"
   },
   {
    "duration": 15,
    "start_time": "2022-10-24T13:09:11.685Z"
   },
   {
    "duration": 1458,
    "start_time": "2022-10-24T13:09:18.388Z"
   },
   {
    "duration": 2,
    "start_time": "2022-10-24T13:09:19.848Z"
   },
   {
    "duration": 52,
    "start_time": "2022-10-24T13:09:19.852Z"
   },
   {
    "duration": 18,
    "start_time": "2022-10-24T13:09:19.905Z"
   },
   {
    "duration": 13,
    "start_time": "2022-10-24T13:09:19.924Z"
   },
   {
    "duration": 6,
    "start_time": "2022-10-24T13:09:19.939Z"
   },
   {
    "duration": 12,
    "start_time": "2022-10-24T13:09:19.946Z"
   },
   {
    "duration": 6,
    "start_time": "2022-10-24T13:10:49.954Z"
   },
   {
    "duration": 19,
    "start_time": "2022-10-24T13:25:15.090Z"
   },
   {
    "duration": 37537,
    "start_time": "2022-10-24T13:37:30.146Z"
   },
   {
    "duration": 7,
    "start_time": "2022-10-24T13:41:39.839Z"
   },
   {
    "duration": 132,
    "start_time": "2022-10-24T13:57:14.831Z"
   },
   {
    "duration": 49,
    "start_time": "2022-10-24T20:22:20.530Z"
   },
   {
    "duration": 1598,
    "start_time": "2022-10-24T20:22:29.239Z"
   },
   {
    "duration": 3,
    "start_time": "2022-10-24T20:22:30.839Z"
   },
   {
    "duration": 181,
    "start_time": "2022-10-24T20:22:30.844Z"
   },
   {
    "duration": 24,
    "start_time": "2022-10-24T20:22:31.027Z"
   },
   {
    "duration": 31,
    "start_time": "2022-10-24T20:22:31.053Z"
   },
   {
    "duration": 5,
    "start_time": "2022-10-24T20:22:31.086Z"
   },
   {
    "duration": 13,
    "start_time": "2022-10-24T20:22:31.094Z"
   },
   {
    "duration": 25,
    "start_time": "2022-10-24T20:22:31.108Z"
   },
   {
    "duration": 13,
    "start_time": "2022-10-24T20:22:31.134Z"
   },
   {
    "duration": 7,
    "start_time": "2022-10-24T20:22:31.150Z"
   },
   {
    "duration": 147,
    "start_time": "2022-10-24T20:22:31.159Z"
   },
   {
    "duration": 2,
    "start_time": "2022-10-24T20:22:31.308Z"
   },
   {
    "duration": 6,
    "start_time": "2022-10-24T20:22:31.313Z"
   },
   {
    "duration": 10,
    "start_time": "2022-10-24T20:23:16.660Z"
   },
   {
    "duration": 126,
    "start_time": "2022-10-24T20:25:23.441Z"
   },
   {
    "duration": 7,
    "start_time": "2022-10-24T20:28:04.656Z"
   },
   {
    "duration": 102,
    "start_time": "2022-10-24T20:29:58.917Z"
   },
   {
    "duration": 37021,
    "start_time": "2022-10-24T20:30:10.815Z"
   },
   {
    "duration": 357,
    "start_time": "2022-10-24T20:37:41.211Z"
   },
   {
    "duration": 376,
    "start_time": "2022-10-24T20:40:14.854Z"
   },
   {
    "duration": 376,
    "start_time": "2022-10-24T20:40:37.212Z"
   },
   {
    "duration": 336,
    "start_time": "2022-10-24T20:41:34.439Z"
   },
   {
    "duration": 18,
    "start_time": "2022-10-24T20:52:22.973Z"
   },
   {
    "duration": 23,
    "start_time": "2022-10-24T20:53:34.799Z"
   },
   {
    "duration": 11,
    "start_time": "2022-10-24T21:07:07.354Z"
   },
   {
    "duration": 4,
    "start_time": "2022-10-24T21:07:23.404Z"
   },
   {
    "duration": 1665,
    "start_time": "2022-10-25T11:19:07.805Z"
   },
   {
    "duration": 4,
    "start_time": "2022-10-25T11:19:09.472Z"
   },
   {
    "duration": 91,
    "start_time": "2022-10-25T11:19:09.478Z"
   },
   {
    "duration": 21,
    "start_time": "2022-10-25T11:19:09.571Z"
   },
   {
    "duration": 14,
    "start_time": "2022-10-25T11:19:09.593Z"
   },
   {
    "duration": 5,
    "start_time": "2022-10-25T11:19:09.608Z"
   },
   {
    "duration": 9,
    "start_time": "2022-10-25T11:19:09.615Z"
   },
   {
    "duration": 8,
    "start_time": "2022-10-25T11:19:09.625Z"
   },
   {
    "duration": 13,
    "start_time": "2022-10-25T11:19:09.635Z"
   },
   {
    "duration": 7,
    "start_time": "2022-10-25T11:19:09.650Z"
   },
   {
    "duration": 151,
    "start_time": "2022-10-25T11:19:09.658Z"
   },
   {
    "duration": 8,
    "start_time": "2022-10-25T11:19:09.810Z"
   },
   {
    "duration": 9,
    "start_time": "2022-10-25T11:19:09.820Z"
   },
   {
    "duration": 446,
    "start_time": "2022-10-25T11:19:09.831Z"
   },
   {
    "duration": 41,
    "start_time": "2022-10-25T11:19:10.279Z"
   },
   {
    "duration": 7,
    "start_time": "2022-10-25T11:19:10.322Z"
   },
   {
    "duration": 12,
    "start_time": "2022-10-25T11:19:10.331Z"
   },
   {
    "duration": 11,
    "start_time": "2022-10-25T11:19:16.655Z"
   },
   {
    "duration": 142,
    "start_time": "2022-10-25T11:20:59.264Z"
   },
   {
    "duration": 10,
    "start_time": "2022-10-25T11:21:36.440Z"
   },
   {
    "duration": 6,
    "start_time": "2022-10-25T11:22:13.715Z"
   },
   {
    "duration": 4,
    "start_time": "2022-10-25T11:23:19.417Z"
   },
   {
    "duration": 3,
    "start_time": "2022-10-25T11:30:56.485Z"
   },
   {
    "duration": 27,
    "start_time": "2022-10-25T11:44:12.822Z"
   },
   {
    "duration": 25,
    "start_time": "2022-10-25T11:45:34.076Z"
   },
   {
    "duration": 33,
    "start_time": "2022-10-25T12:07:24.785Z"
   },
   {
    "duration": 19,
    "start_time": "2022-10-25T12:08:19.656Z"
   },
   {
    "duration": 28,
    "start_time": "2022-10-25T12:10:32.656Z"
   },
   {
    "duration": 35,
    "start_time": "2022-10-25T12:12:49.856Z"
   },
   {
    "duration": 187,
    "start_time": "2022-10-25T12:23:24.138Z"
   },
   {
    "duration": 158,
    "start_time": "2022-10-25T12:23:41.361Z"
   },
   {
    "duration": 8,
    "start_time": "2022-10-25T12:24:10.202Z"
   },
   {
    "duration": 23,
    "start_time": "2022-10-25T12:52:46.387Z"
   },
   {
    "duration": 112,
    "start_time": "2022-10-25T13:28:52.396Z"
   },
   {
    "duration": 1377,
    "start_time": "2022-10-25T13:29:01.073Z"
   },
   {
    "duration": 4,
    "start_time": "2022-10-25T13:29:02.451Z"
   },
   {
    "duration": 106,
    "start_time": "2022-10-25T13:29:02.456Z"
   },
   {
    "duration": 23,
    "start_time": "2022-10-25T13:29:02.565Z"
   },
   {
    "duration": 47,
    "start_time": "2022-10-25T13:29:02.590Z"
   },
   {
    "duration": 40,
    "start_time": "2022-10-25T13:29:02.638Z"
   },
   {
    "duration": 8,
    "start_time": "2022-10-25T13:29:02.680Z"
   },
   {
    "duration": 52,
    "start_time": "2022-10-25T13:29:02.690Z"
   },
   {
    "duration": 51,
    "start_time": "2022-10-25T13:29:02.744Z"
   },
   {
    "duration": 37,
    "start_time": "2022-10-25T13:29:02.798Z"
   },
   {
    "duration": 167,
    "start_time": "2022-10-25T13:29:02.838Z"
   },
   {
    "duration": 8,
    "start_time": "2022-10-25T13:29:03.006Z"
   },
   {
    "duration": 32,
    "start_time": "2022-10-25T13:29:03.016Z"
   },
   {
    "duration": 322,
    "start_time": "2022-10-25T13:29:03.049Z"
   },
   {
    "duration": 23,
    "start_time": "2022-10-25T13:29:03.372Z"
   },
   {
    "duration": 16,
    "start_time": "2022-10-25T13:29:03.396Z"
   },
   {
    "duration": 14,
    "start_time": "2022-10-25T13:29:03.415Z"
   },
   {
    "duration": 53,
    "start_time": "2022-10-25T13:29:03.430Z"
   },
   {
    "duration": 37,
    "start_time": "2022-10-25T13:29:03.485Z"
   },
   {
    "duration": 16,
    "start_time": "2022-10-25T13:29:03.524Z"
   },
   {
    "duration": 57,
    "start_time": "2022-10-25T13:29:03.542Z"
   },
   {
    "duration": 158,
    "start_time": "2022-10-25T13:29:03.601Z"
   },
   {
    "duration": 7,
    "start_time": "2022-10-25T13:29:03.761Z"
   },
   {
    "duration": 55,
    "start_time": "2022-10-25T13:29:03.769Z"
   },
   {
    "duration": 22,
    "start_time": "2022-10-25T13:34:17.262Z"
   },
   {
    "duration": 4,
    "start_time": "2022-10-25T14:24:14.902Z"
   },
   {
    "duration": 309,
    "start_time": "2022-10-25T14:49:47.417Z"
   },
   {
    "duration": 80,
    "start_time": "2022-10-25T14:50:41.730Z"
   },
   {
    "duration": 1349,
    "start_time": "2022-10-25T14:50:54.577Z"
   },
   {
    "duration": 3,
    "start_time": "2022-10-25T14:50:55.928Z"
   },
   {
    "duration": 46,
    "start_time": "2022-10-25T14:50:55.932Z"
   },
   {
    "duration": 15,
    "start_time": "2022-10-25T14:50:55.980Z"
   },
   {
    "duration": 12,
    "start_time": "2022-10-25T14:50:55.996Z"
   },
   {
    "duration": 3,
    "start_time": "2022-10-25T14:50:56.010Z"
   },
   {
    "duration": 8,
    "start_time": "2022-10-25T14:50:56.014Z"
   },
   {
    "duration": 7,
    "start_time": "2022-10-25T14:50:56.024Z"
   },
   {
    "duration": 9,
    "start_time": "2022-10-25T14:50:56.032Z"
   },
   {
    "duration": 9,
    "start_time": "2022-10-25T14:50:56.043Z"
   },
   {
    "duration": 131,
    "start_time": "2022-10-25T14:50:56.053Z"
   },
   {
    "duration": 7,
    "start_time": "2022-10-25T14:50:56.186Z"
   },
   {
    "duration": 17,
    "start_time": "2022-10-25T14:50:56.194Z"
   },
   {
    "duration": 343,
    "start_time": "2022-10-25T14:50:56.213Z"
   },
   {
    "duration": 22,
    "start_time": "2022-10-25T14:50:56.557Z"
   },
   {
    "duration": 5,
    "start_time": "2022-10-25T14:50:56.580Z"
   },
   {
    "duration": 22,
    "start_time": "2022-10-25T14:50:56.587Z"
   },
   {
    "duration": 5,
    "start_time": "2022-10-25T14:50:56.610Z"
   },
   {
    "duration": 6,
    "start_time": "2022-10-25T14:50:56.617Z"
   },
   {
    "duration": 7,
    "start_time": "2022-10-25T14:50:56.624Z"
   },
   {
    "duration": 38,
    "start_time": "2022-10-25T14:50:56.633Z"
   },
   {
    "duration": 175,
    "start_time": "2022-10-25T14:50:56.672Z"
   },
   {
    "duration": 6,
    "start_time": "2022-10-25T14:50:56.849Z"
   },
   {
    "duration": 3,
    "start_time": "2022-10-25T14:50:56.857Z"
   },
   {
    "duration": 50,
    "start_time": "2022-10-25T14:50:56.861Z"
   },
   {
    "duration": 239,
    "start_time": "2022-10-25T14:50:56.912Z"
   },
   {
    "duration": 480,
    "start_time": "2022-10-25T14:59:56.487Z"
   },
   {
    "duration": 21,
    "start_time": "2022-10-25T15:20:02.888Z"
   },
   {
    "duration": 312,
    "start_time": "2022-10-25T17:42:43.021Z"
   },
   {
    "duration": 322,
    "start_time": "2022-10-25T17:45:48.775Z"
   },
   {
    "duration": 321,
    "start_time": "2022-10-25T17:49:16.312Z"
   },
   {
    "duration": 1439,
    "start_time": "2022-10-25T17:52:01.658Z"
   },
   {
    "duration": 3,
    "start_time": "2022-10-25T17:52:03.099Z"
   },
   {
    "duration": 62,
    "start_time": "2022-10-25T17:52:03.103Z"
   },
   {
    "duration": 15,
    "start_time": "2022-10-25T17:52:03.167Z"
   },
   {
    "duration": 12,
    "start_time": "2022-10-25T17:52:03.184Z"
   },
   {
    "duration": 4,
    "start_time": "2022-10-25T17:52:03.198Z"
   },
   {
    "duration": 37,
    "start_time": "2022-10-25T17:52:03.203Z"
   },
   {
    "duration": 25,
    "start_time": "2022-10-25T17:52:03.242Z"
   },
   {
    "duration": 30,
    "start_time": "2022-10-25T17:52:03.268Z"
   },
   {
    "duration": 39,
    "start_time": "2022-10-25T17:52:03.300Z"
   },
   {
    "duration": 140,
    "start_time": "2022-10-25T17:52:03.340Z"
   },
   {
    "duration": 7,
    "start_time": "2022-10-25T17:52:03.481Z"
   },
   {
    "duration": 30,
    "start_time": "2022-10-25T17:52:03.490Z"
   },
   {
    "duration": 349,
    "start_time": "2022-10-25T17:52:03.522Z"
   },
   {
    "duration": 40,
    "start_time": "2022-10-25T17:52:03.873Z"
   },
   {
    "duration": 11,
    "start_time": "2022-10-25T17:52:03.914Z"
   },
   {
    "duration": 20,
    "start_time": "2022-10-25T17:52:03.927Z"
   },
   {
    "duration": 20,
    "start_time": "2022-10-25T17:52:03.949Z"
   },
   {
    "duration": 11,
    "start_time": "2022-10-25T17:52:03.970Z"
   },
   {
    "duration": 13,
    "start_time": "2022-10-25T17:52:03.982Z"
   },
   {
    "duration": 47,
    "start_time": "2022-10-25T17:52:03.996Z"
   },
   {
    "duration": 183,
    "start_time": "2022-10-25T17:52:04.044Z"
   },
   {
    "duration": 8,
    "start_time": "2022-10-25T17:52:04.229Z"
   },
   {
    "duration": 4,
    "start_time": "2022-10-25T17:52:04.238Z"
   },
   {
    "duration": 75,
    "start_time": "2022-10-25T17:52:04.244Z"
   },
   {
    "duration": 532,
    "start_time": "2022-10-25T17:52:04.409Z"
   },
   {
    "duration": 336,
    "start_time": "2022-10-25T17:55:40.127Z"
   },
   {
    "duration": 315,
    "start_time": "2022-10-25T17:56:21.996Z"
   },
   {
    "duration": 322,
    "start_time": "2022-10-25T17:57:08.997Z"
   },
   {
    "duration": 10,
    "start_time": "2022-10-25T18:10:49.897Z"
   },
   {
    "duration": 1431,
    "start_time": "2022-10-25T18:11:02.534Z"
   },
   {
    "duration": 3,
    "start_time": "2022-10-25T18:11:03.967Z"
   },
   {
    "duration": 58,
    "start_time": "2022-10-25T18:11:03.971Z"
   },
   {
    "duration": 16,
    "start_time": "2022-10-25T18:11:04.030Z"
   },
   {
    "duration": 31,
    "start_time": "2022-10-25T18:11:04.048Z"
   },
   {
    "duration": 5,
    "start_time": "2022-10-25T18:11:04.081Z"
   },
   {
    "duration": 19,
    "start_time": "2022-10-25T18:11:04.088Z"
   },
   {
    "duration": 31,
    "start_time": "2022-10-25T18:11:04.108Z"
   },
   {
    "duration": 29,
    "start_time": "2022-10-25T18:11:04.140Z"
   },
   {
    "duration": 14,
    "start_time": "2022-10-25T18:11:04.171Z"
   },
   {
    "duration": 133,
    "start_time": "2022-10-25T18:11:04.187Z"
   },
   {
    "duration": 8,
    "start_time": "2022-10-25T18:11:04.322Z"
   },
   {
    "duration": 7,
    "start_time": "2022-10-25T18:11:04.332Z"
   },
   {
    "duration": 339,
    "start_time": "2022-10-25T18:11:04.342Z"
   },
   {
    "duration": 38,
    "start_time": "2022-10-25T18:11:04.683Z"
   },
   {
    "duration": 5,
    "start_time": "2022-10-25T18:11:04.723Z"
   },
   {
    "duration": 10,
    "start_time": "2022-10-25T18:11:04.730Z"
   },
   {
    "duration": 7,
    "start_time": "2022-10-25T18:11:04.741Z"
   },
   {
    "duration": 4,
    "start_time": "2022-10-25T18:11:04.750Z"
   },
   {
    "duration": 6,
    "start_time": "2022-10-25T18:11:04.756Z"
   },
   {
    "duration": 70,
    "start_time": "2022-10-25T18:11:04.764Z"
   },
   {
    "duration": 183,
    "start_time": "2022-10-25T18:11:04.836Z"
   },
   {
    "duration": 8,
    "start_time": "2022-10-25T18:11:05.022Z"
   },
   {
    "duration": 3,
    "start_time": "2022-10-25T18:11:05.031Z"
   },
   {
    "duration": 147,
    "start_time": "2022-10-25T18:11:05.035Z"
   },
   {
    "duration": 0,
    "start_time": "2022-10-25T18:11:05.183Z"
   },
   {
    "duration": 25,
    "start_time": "2022-10-25T18:11:31.656Z"
   },
   {
    "duration": 10,
    "start_time": "2022-10-25T18:14:11.482Z"
   },
   {
    "duration": 314,
    "start_time": "2022-10-25T18:14:47.978Z"
   },
   {
    "duration": 324,
    "start_time": "2022-10-25T18:16:45.972Z"
   },
   {
    "duration": 377,
    "start_time": "2022-10-25T18:17:41.474Z"
   },
   {
    "duration": 188,
    "start_time": "2022-10-25T18:30:55.145Z"
   },
   {
    "duration": 133,
    "start_time": "2022-10-25T18:32:08.854Z"
   },
   {
    "duration": 10,
    "start_time": "2022-10-25T18:36:03.192Z"
   },
   {
    "duration": 4,
    "start_time": "2022-10-25T18:36:57.422Z"
   },
   {
    "duration": 1320,
    "start_time": "2022-10-25T18:37:48.241Z"
   },
   {
    "duration": 2,
    "start_time": "2022-10-25T18:37:49.563Z"
   },
   {
    "duration": 53,
    "start_time": "2022-10-25T18:37:49.567Z"
   },
   {
    "duration": 15,
    "start_time": "2022-10-25T18:37:49.623Z"
   },
   {
    "duration": 13,
    "start_time": "2022-10-25T18:37:49.639Z"
   },
   {
    "duration": 4,
    "start_time": "2022-10-25T18:37:49.653Z"
   },
   {
    "duration": 16,
    "start_time": "2022-10-25T18:37:49.659Z"
   },
   {
    "duration": 44,
    "start_time": "2022-10-25T18:37:49.677Z"
   },
   {
    "duration": 11,
    "start_time": "2022-10-25T18:37:49.723Z"
   },
   {
    "duration": 5,
    "start_time": "2022-10-25T18:37:49.737Z"
   },
   {
    "duration": 120,
    "start_time": "2022-10-25T18:37:49.743Z"
   },
   {
    "duration": 8,
    "start_time": "2022-10-25T18:37:49.865Z"
   },
   {
    "duration": 7,
    "start_time": "2022-10-25T18:37:49.875Z"
   },
   {
    "duration": 377,
    "start_time": "2022-10-25T18:37:49.883Z"
   },
   {
    "duration": 21,
    "start_time": "2022-10-25T18:37:50.261Z"
   },
   {
    "duration": 5,
    "start_time": "2022-10-25T18:37:50.284Z"
   },
   {
    "duration": 28,
    "start_time": "2022-10-25T18:37:50.291Z"
   },
   {
    "duration": 10,
    "start_time": "2022-10-25T18:37:50.321Z"
   },
   {
    "duration": 5,
    "start_time": "2022-10-25T18:37:50.332Z"
   },
   {
    "duration": 3,
    "start_time": "2022-10-25T18:37:50.338Z"
   },
   {
    "duration": 39,
    "start_time": "2022-10-25T18:37:50.343Z"
   },
   {
    "duration": 175,
    "start_time": "2022-10-25T18:37:50.384Z"
   },
   {
    "duration": 7,
    "start_time": "2022-10-25T18:37:50.561Z"
   },
   {
    "duration": 2,
    "start_time": "2022-10-25T18:37:50.569Z"
   },
   {
    "duration": 50,
    "start_time": "2022-10-25T18:37:50.573Z"
   },
   {
    "duration": 535,
    "start_time": "2022-10-25T18:37:50.626Z"
   },
   {
    "duration": 25534,
    "start_time": "2022-10-25T18:37:51.163Z"
   },
   {
    "duration": 123,
    "start_time": "2022-10-25T18:40:48.400Z"
   },
   {
    "duration": 25970,
    "start_time": "2022-10-25T18:44:34.383Z"
   },
   {
    "duration": 1425,
    "start_time": "2022-10-25T18:46:26.729Z"
   },
   {
    "duration": 3,
    "start_time": "2022-10-25T18:46:28.156Z"
   },
   {
    "duration": 46,
    "start_time": "2022-10-25T18:46:28.161Z"
   },
   {
    "duration": 26,
    "start_time": "2022-10-25T18:46:28.208Z"
   },
   {
    "duration": 13,
    "start_time": "2022-10-25T18:46:28.236Z"
   },
   {
    "duration": 8,
    "start_time": "2022-10-25T18:46:28.250Z"
   },
   {
    "duration": 18,
    "start_time": "2022-10-25T18:46:28.259Z"
   },
   {
    "duration": 13,
    "start_time": "2022-10-25T18:46:28.279Z"
   },
   {
    "duration": 11,
    "start_time": "2022-10-25T18:46:28.293Z"
   },
   {
    "duration": 20,
    "start_time": "2022-10-25T18:46:28.306Z"
   },
   {
    "duration": 120,
    "start_time": "2022-10-25T18:46:28.327Z"
   },
   {
    "duration": 8,
    "start_time": "2022-10-25T18:46:28.448Z"
   },
   {
    "duration": 7,
    "start_time": "2022-10-25T18:46:28.457Z"
   },
   {
    "duration": 339,
    "start_time": "2022-10-25T18:46:28.466Z"
   },
   {
    "duration": 44,
    "start_time": "2022-10-25T18:46:28.811Z"
   },
   {
    "duration": 9,
    "start_time": "2022-10-25T18:46:28.858Z"
   },
   {
    "duration": 19,
    "start_time": "2022-10-25T18:46:28.870Z"
   },
   {
    "duration": 7,
    "start_time": "2022-10-25T18:46:28.891Z"
   },
   {
    "duration": 8,
    "start_time": "2022-10-25T18:46:28.915Z"
   },
   {
    "duration": 15,
    "start_time": "2022-10-25T18:46:28.925Z"
   },
   {
    "duration": 39,
    "start_time": "2022-10-25T18:46:28.942Z"
   },
   {
    "duration": 163,
    "start_time": "2022-10-25T18:46:28.983Z"
   },
   {
    "duration": 8,
    "start_time": "2022-10-25T18:46:29.148Z"
   },
   {
    "duration": 5,
    "start_time": "2022-10-25T18:46:29.158Z"
   },
   {
    "duration": 72,
    "start_time": "2022-10-25T18:46:29.165Z"
   },
   {
    "duration": 417,
    "start_time": "2022-10-25T18:46:29.316Z"
   },
   {
    "duration": 26374,
    "start_time": "2022-10-25T18:46:29.735Z"
   },
   {
    "duration": 22,
    "start_time": "2022-10-25T19:27:17.857Z"
   },
   {
    "duration": 331,
    "start_time": "2022-10-25T19:58:35.177Z"
   },
   {
    "duration": 25010,
    "start_time": "2022-10-25T20:02:33.764Z"
   },
   {
    "duration": 132,
    "start_time": "2022-10-25T20:16:38.682Z"
   },
   {
    "duration": 4,
    "start_time": "2022-10-25T20:17:24.525Z"
   },
   {
    "duration": 16,
    "start_time": "2022-10-25T20:17:38.942Z"
   },
   {
    "duration": 41,
    "start_time": "2022-10-25T20:23:22.878Z"
   },
   {
    "duration": 541,
    "start_time": "2022-10-25T20:33:46.732Z"
   },
   {
    "duration": 48018,
    "start_time": "2022-10-25T20:47:03.683Z"
   },
   {
    "duration": 12,
    "start_time": "2022-10-25T20:56:23.833Z"
   },
   {
    "duration": 20,
    "start_time": "2022-10-25T20:59:15.834Z"
   },
   {
    "duration": 172,
    "start_time": "2022-10-25T21:01:57.506Z"
   },
   {
    "duration": 14581,
    "start_time": "2022-10-25T21:03:20.406Z"
   },
   {
    "duration": 1336,
    "start_time": "2022-10-25T21:12:44.308Z"
   },
   {
    "duration": 3,
    "start_time": "2022-10-25T21:12:45.646Z"
   },
   {
    "duration": 47,
    "start_time": "2022-10-25T21:12:45.650Z"
   },
   {
    "duration": 15,
    "start_time": "2022-10-25T21:12:45.699Z"
   },
   {
    "duration": 12,
    "start_time": "2022-10-25T21:12:45.716Z"
   },
   {
    "duration": 3,
    "start_time": "2022-10-25T21:12:45.730Z"
   },
   {
    "duration": 7,
    "start_time": "2022-10-25T21:12:45.735Z"
   },
   {
    "duration": 9,
    "start_time": "2022-10-25T21:12:45.744Z"
   },
   {
    "duration": 11,
    "start_time": "2022-10-25T21:12:45.754Z"
   },
   {
    "duration": 6,
    "start_time": "2022-10-25T21:12:45.771Z"
   },
   {
    "duration": 141,
    "start_time": "2022-10-25T21:12:45.779Z"
   },
   {
    "duration": 8,
    "start_time": "2022-10-25T21:12:45.921Z"
   },
   {
    "duration": 7,
    "start_time": "2022-10-25T21:12:45.930Z"
   },
   {
    "duration": 352,
    "start_time": "2022-10-25T21:12:45.938Z"
   },
   {
    "duration": 34,
    "start_time": "2022-10-25T21:12:46.292Z"
   },
   {
    "duration": 6,
    "start_time": "2022-10-25T21:12:46.328Z"
   },
   {
    "duration": 13,
    "start_time": "2022-10-25T21:12:46.336Z"
   },
   {
    "duration": 6,
    "start_time": "2022-10-25T21:12:46.351Z"
   },
   {
    "duration": 5,
    "start_time": "2022-10-25T21:12:46.359Z"
   },
   {
    "duration": 13,
    "start_time": "2022-10-25T21:12:46.365Z"
   },
   {
    "duration": 56,
    "start_time": "2022-10-25T21:12:46.380Z"
   },
   {
    "duration": 160,
    "start_time": "2022-10-25T21:12:46.438Z"
   },
   {
    "duration": 12,
    "start_time": "2022-10-25T21:12:46.599Z"
   },
   {
    "duration": 2,
    "start_time": "2022-10-25T21:12:46.612Z"
   },
   {
    "duration": 95,
    "start_time": "2022-10-25T21:12:46.616Z"
   },
   {
    "duration": 477,
    "start_time": "2022-10-25T21:12:46.714Z"
   },
   {
    "duration": 24755,
    "start_time": "2022-10-25T21:12:47.193Z"
   },
   {
    "duration": 21,
    "start_time": "2022-10-25T21:13:11.951Z"
   },
   {
    "duration": 433,
    "start_time": "2022-10-25T21:13:12.013Z"
   },
   {
    "duration": 24832,
    "start_time": "2022-10-25T21:13:12.448Z"
   },
   {
    "duration": 12,
    "start_time": "2022-10-25T21:13:37.282Z"
   },
   {
    "duration": 64,
    "start_time": "2022-10-25T21:13:37.296Z"
   },
   {
    "duration": 640,
    "start_time": "2022-10-25T21:13:37.410Z"
   },
   {
    "duration": 13,
    "start_time": "2022-10-25T21:14:26.336Z"
   },
   {
    "duration": 16,
    "start_time": "2022-10-25T21:14:26.351Z"
   },
   {
    "duration": 258,
    "start_time": "2022-10-25T21:14:26.410Z"
   },
   {
    "duration": 14455,
    "start_time": "2022-10-25T21:14:26.670Z"
   },
   {
    "duration": 48167,
    "start_time": "2022-10-25T21:14:41.128Z"
   },
   {
    "duration": 44,
    "start_time": "2022-10-26T10:35:12.948Z"
   },
   {
    "duration": 1470,
    "start_time": "2022-10-26T10:35:22.288Z"
   },
   {
    "duration": 2,
    "start_time": "2022-10-26T10:35:23.760Z"
   },
   {
    "duration": 169,
    "start_time": "2022-10-26T10:35:23.764Z"
   },
   {
    "duration": 15,
    "start_time": "2022-10-26T10:35:23.935Z"
   },
   {
    "duration": 15,
    "start_time": "2022-10-26T10:35:23.951Z"
   },
   {
    "duration": 4,
    "start_time": "2022-10-26T10:35:23.967Z"
   },
   {
    "duration": 7,
    "start_time": "2022-10-26T10:35:23.973Z"
   },
   {
    "duration": 7,
    "start_time": "2022-10-26T10:35:23.981Z"
   },
   {
    "duration": 17,
    "start_time": "2022-10-26T10:35:23.989Z"
   },
   {
    "duration": 7,
    "start_time": "2022-10-26T10:35:24.009Z"
   },
   {
    "duration": 143,
    "start_time": "2022-10-26T10:35:24.018Z"
   },
   {
    "duration": 15,
    "start_time": "2022-10-26T10:35:24.162Z"
   },
   {
    "duration": 7,
    "start_time": "2022-10-26T10:35:24.179Z"
   },
   {
    "duration": 368,
    "start_time": "2022-10-26T10:35:24.189Z"
   },
   {
    "duration": 27,
    "start_time": "2022-10-26T10:35:24.558Z"
   },
   {
    "duration": 5,
    "start_time": "2022-10-26T10:35:24.586Z"
   },
   {
    "duration": 14,
    "start_time": "2022-10-26T10:35:24.592Z"
   },
   {
    "duration": 8,
    "start_time": "2022-10-26T10:35:24.608Z"
   },
   {
    "duration": 5,
    "start_time": "2022-10-26T10:35:24.617Z"
   },
   {
    "duration": 11,
    "start_time": "2022-10-26T10:35:24.623Z"
   },
   {
    "duration": 43,
    "start_time": "2022-10-26T10:35:24.636Z"
   },
   {
    "duration": 138,
    "start_time": "2022-10-26T10:35:24.680Z"
   },
   {
    "duration": 7,
    "start_time": "2022-10-26T10:35:24.819Z"
   },
   {
    "duration": 3,
    "start_time": "2022-10-26T10:35:24.827Z"
   },
   {
    "duration": 50,
    "start_time": "2022-10-26T10:35:24.831Z"
   },
   {
    "duration": 578,
    "start_time": "2022-10-26T10:35:24.882Z"
   },
   {
    "duration": 20538,
    "start_time": "2022-10-26T10:35:25.462Z"
   },
   {
    "duration": 107,
    "start_time": "2022-10-26T10:35:46.003Z"
   },
   {
    "duration": 0,
    "start_time": "2022-10-26T10:35:46.111Z"
   },
   {
    "duration": 0,
    "start_time": "2022-10-26T10:35:46.112Z"
   },
   {
    "duration": 0,
    "start_time": "2022-10-26T10:35:46.113Z"
   },
   {
    "duration": 0,
    "start_time": "2022-10-26T10:35:46.114Z"
   },
   {
    "duration": 0,
    "start_time": "2022-10-26T10:35:46.115Z"
   },
   {
    "duration": 0,
    "start_time": "2022-10-26T10:35:46.116Z"
   },
   {
    "duration": 0,
    "start_time": "2022-10-26T10:35:46.117Z"
   },
   {
    "duration": 0,
    "start_time": "2022-10-26T10:35:46.118Z"
   },
   {
    "duration": 0,
    "start_time": "2022-10-26T10:35:46.119Z"
   },
   {
    "duration": 0,
    "start_time": "2022-10-26T10:35:46.120Z"
   },
   {
    "duration": 0,
    "start_time": "2022-10-26T10:35:46.121Z"
   },
   {
    "duration": 20,
    "start_time": "2022-10-26T10:37:01.101Z"
   },
   {
    "duration": 721,
    "start_time": "2022-10-26T10:40:40.540Z"
   },
   {
    "duration": 31799,
    "start_time": "2022-10-26T10:42:28.493Z"
   },
   {
    "duration": 4,
    "start_time": "2022-10-26T11:06:27.124Z"
   },
   {
    "duration": 8,
    "start_time": "2022-10-26T11:08:22.884Z"
   },
   {
    "duration": 1303,
    "start_time": "2022-10-26T11:08:29.507Z"
   },
   {
    "duration": 3,
    "start_time": "2022-10-26T11:08:30.812Z"
   },
   {
    "duration": 78,
    "start_time": "2022-10-26T11:08:30.816Z"
   },
   {
    "duration": 16,
    "start_time": "2022-10-26T11:08:30.896Z"
   },
   {
    "duration": 27,
    "start_time": "2022-10-26T11:08:30.914Z"
   },
   {
    "duration": 5,
    "start_time": "2022-10-26T11:08:30.943Z"
   },
   {
    "duration": 25,
    "start_time": "2022-10-26T11:08:30.949Z"
   },
   {
    "duration": 23,
    "start_time": "2022-10-26T11:08:30.976Z"
   },
   {
    "duration": 24,
    "start_time": "2022-10-26T11:08:31.001Z"
   },
   {
    "duration": 23,
    "start_time": "2022-10-26T11:08:31.027Z"
   },
   {
    "duration": 12,
    "start_time": "2022-10-26T11:08:31.051Z"
   },
   {
    "duration": 124,
    "start_time": "2022-10-26T11:08:31.065Z"
   },
   {
    "duration": 7,
    "start_time": "2022-10-26T11:08:31.190Z"
   },
   {
    "duration": 7,
    "start_time": "2022-10-26T11:08:31.199Z"
   },
   {
    "duration": 122,
    "start_time": "2022-10-26T11:08:31.207Z"
   },
   {
    "duration": 0,
    "start_time": "2022-10-26T11:08:31.330Z"
   },
   {
    "duration": 0,
    "start_time": "2022-10-26T11:08:31.332Z"
   },
   {
    "duration": 0,
    "start_time": "2022-10-26T11:08:31.332Z"
   },
   {
    "duration": 0,
    "start_time": "2022-10-26T11:08:31.333Z"
   },
   {
    "duration": 0,
    "start_time": "2022-10-26T11:08:31.334Z"
   },
   {
    "duration": 0,
    "start_time": "2022-10-26T11:08:31.335Z"
   },
   {
    "duration": 0,
    "start_time": "2022-10-26T11:08:31.336Z"
   },
   {
    "duration": 0,
    "start_time": "2022-10-26T11:08:31.337Z"
   },
   {
    "duration": 0,
    "start_time": "2022-10-26T11:08:31.337Z"
   },
   {
    "duration": 0,
    "start_time": "2022-10-26T11:08:31.338Z"
   },
   {
    "duration": 0,
    "start_time": "2022-10-26T11:08:31.339Z"
   },
   {
    "duration": 0,
    "start_time": "2022-10-26T11:08:31.340Z"
   },
   {
    "duration": 0,
    "start_time": "2022-10-26T11:08:31.341Z"
   },
   {
    "duration": 0,
    "start_time": "2022-10-26T11:08:31.342Z"
   },
   {
    "duration": 0,
    "start_time": "2022-10-26T11:08:31.343Z"
   },
   {
    "duration": 0,
    "start_time": "2022-10-26T11:08:31.344Z"
   },
   {
    "duration": 0,
    "start_time": "2022-10-26T11:08:31.345Z"
   },
   {
    "duration": 0,
    "start_time": "2022-10-26T11:08:31.346Z"
   },
   {
    "duration": 0,
    "start_time": "2022-10-26T11:08:31.347Z"
   },
   {
    "duration": 0,
    "start_time": "2022-10-26T11:08:31.377Z"
   },
   {
    "duration": 0,
    "start_time": "2022-10-26T11:08:31.379Z"
   },
   {
    "duration": 0,
    "start_time": "2022-10-26T11:08:31.379Z"
   },
   {
    "duration": 0,
    "start_time": "2022-10-26T11:08:31.380Z"
   },
   {
    "duration": 320,
    "start_time": "2022-10-26T11:10:05.511Z"
   },
   {
    "duration": 9,
    "start_time": "2022-10-26T11:10:22.975Z"
   },
   {
    "duration": 24,
    "start_time": "2022-10-26T11:10:43.895Z"
   },
   {
    "duration": 5,
    "start_time": "2022-10-26T11:10:54.576Z"
   },
   {
    "duration": 3,
    "start_time": "2022-10-26T11:11:36.320Z"
   },
   {
    "duration": 12,
    "start_time": "2022-10-26T11:11:40.428Z"
   },
   {
    "duration": 11,
    "start_time": "2022-10-26T11:11:55.006Z"
   },
   {
    "duration": 1377,
    "start_time": "2022-10-26T11:12:07.075Z"
   },
   {
    "duration": 3,
    "start_time": "2022-10-26T11:12:08.454Z"
   },
   {
    "duration": 43,
    "start_time": "2022-10-26T11:12:08.458Z"
   },
   {
    "duration": 16,
    "start_time": "2022-10-26T11:12:08.502Z"
   },
   {
    "duration": 13,
    "start_time": "2022-10-26T11:12:08.520Z"
   },
   {
    "duration": 4,
    "start_time": "2022-10-26T11:12:08.535Z"
   },
   {
    "duration": 25,
    "start_time": "2022-10-26T11:12:08.540Z"
   },
   {
    "duration": 14,
    "start_time": "2022-10-26T11:12:08.567Z"
   },
   {
    "duration": 28,
    "start_time": "2022-10-26T11:12:08.582Z"
   },
   {
    "duration": 23,
    "start_time": "2022-10-26T11:12:08.612Z"
   },
   {
    "duration": 24,
    "start_time": "2022-10-26T11:12:08.637Z"
   },
   {
    "duration": 138,
    "start_time": "2022-10-26T11:12:08.662Z"
   },
   {
    "duration": 9,
    "start_time": "2022-10-26T11:12:08.801Z"
   },
   {
    "duration": 6,
    "start_time": "2022-10-26T11:12:08.814Z"
   },
   {
    "duration": 380,
    "start_time": "2022-10-26T11:12:08.821Z"
   },
   {
    "duration": 23,
    "start_time": "2022-10-26T11:12:09.202Z"
   },
   {
    "duration": 5,
    "start_time": "2022-10-26T11:12:09.227Z"
   },
   {
    "duration": 11,
    "start_time": "2022-10-26T11:12:09.233Z"
   },
   {
    "duration": 5,
    "start_time": "2022-10-26T11:12:09.245Z"
   },
   {
    "duration": 27,
    "start_time": "2022-10-26T11:12:09.252Z"
   },
   {
    "duration": 7,
    "start_time": "2022-10-26T11:12:09.280Z"
   },
   {
    "duration": 127,
    "start_time": "2022-10-26T11:12:09.289Z"
   },
   {
    "duration": 0,
    "start_time": "2022-10-26T11:12:09.417Z"
   },
   {
    "duration": 0,
    "start_time": "2022-10-26T11:12:09.418Z"
   },
   {
    "duration": 0,
    "start_time": "2022-10-26T11:12:09.419Z"
   },
   {
    "duration": 0,
    "start_time": "2022-10-26T11:12:09.420Z"
   },
   {
    "duration": 0,
    "start_time": "2022-10-26T11:12:09.420Z"
   },
   {
    "duration": 0,
    "start_time": "2022-10-26T11:12:09.421Z"
   },
   {
    "duration": 0,
    "start_time": "2022-10-26T11:12:09.422Z"
   },
   {
    "duration": 0,
    "start_time": "2022-10-26T11:12:09.423Z"
   },
   {
    "duration": 0,
    "start_time": "2022-10-26T11:12:09.424Z"
   },
   {
    "duration": 0,
    "start_time": "2022-10-26T11:12:09.425Z"
   },
   {
    "duration": 0,
    "start_time": "2022-10-26T11:12:09.426Z"
   },
   {
    "duration": 0,
    "start_time": "2022-10-26T11:12:09.427Z"
   },
   {
    "duration": 0,
    "start_time": "2022-10-26T11:12:09.428Z"
   },
   {
    "duration": 0,
    "start_time": "2022-10-26T11:12:09.429Z"
   },
   {
    "duration": 0,
    "start_time": "2022-10-26T11:12:09.430Z"
   },
   {
    "duration": 0,
    "start_time": "2022-10-26T11:12:09.431Z"
   },
   {
    "duration": 2,
    "start_time": "2022-10-26T11:13:04.447Z"
   },
   {
    "duration": 40,
    "start_time": "2022-10-26T11:13:07.623Z"
   },
   {
    "duration": 27,
    "start_time": "2022-10-26T11:13:26.010Z"
   },
   {
    "duration": 20,
    "start_time": "2022-10-26T11:13:54.379Z"
   },
   {
    "duration": 649,
    "start_time": "2022-10-26T11:17:45.543Z"
   },
   {
    "duration": 665,
    "start_time": "2022-10-26T11:18:21.810Z"
   },
   {
    "duration": 680,
    "start_time": "2022-10-26T11:19:04.446Z"
   },
   {
    "duration": 32473,
    "start_time": "2022-10-26T11:19:57.189Z"
   },
   {
    "duration": 117,
    "start_time": "2022-10-26T11:25:45.462Z"
   },
   {
    "duration": 30053,
    "start_time": "2022-10-26T11:26:49.933Z"
   },
   {
    "duration": 684,
    "start_time": "2022-10-26T11:28:34.278Z"
   },
   {
    "duration": 29744,
    "start_time": "2022-10-26T11:34:13.624Z"
   },
   {
    "duration": 183,
    "start_time": "2022-10-26T11:35:02.963Z"
   },
   {
    "duration": 129,
    "start_time": "2022-10-26T11:35:19.339Z"
   },
   {
    "duration": 745,
    "start_time": "2022-10-26T11:56:24.007Z"
   },
   {
    "duration": 32063,
    "start_time": "2022-10-26T11:57:17.538Z"
   },
   {
    "duration": 854,
    "start_time": "2022-10-26T12:00:47.771Z"
   },
   {
    "duration": 31814,
    "start_time": "2022-10-26T12:02:34.400Z"
   },
   {
    "duration": 1491,
    "start_time": "2022-10-26T12:06:20.579Z"
   },
   {
    "duration": 3,
    "start_time": "2022-10-26T12:06:22.071Z"
   },
   {
    "duration": 75,
    "start_time": "2022-10-26T12:06:22.075Z"
   },
   {
    "duration": 21,
    "start_time": "2022-10-26T12:06:22.152Z"
   },
   {
    "duration": 19,
    "start_time": "2022-10-26T12:06:22.175Z"
   },
   {
    "duration": 11,
    "start_time": "2022-10-26T12:06:22.196Z"
   },
   {
    "duration": 7,
    "start_time": "2022-10-26T12:06:22.208Z"
   },
   {
    "duration": 12,
    "start_time": "2022-10-26T12:06:22.217Z"
   },
   {
    "duration": 8,
    "start_time": "2022-10-26T12:06:22.231Z"
   },
   {
    "duration": 10,
    "start_time": "2022-10-26T12:06:22.242Z"
   },
   {
    "duration": 6,
    "start_time": "2022-10-26T12:06:22.254Z"
   },
   {
    "duration": 144,
    "start_time": "2022-10-26T12:06:22.261Z"
   },
   {
    "duration": 7,
    "start_time": "2022-10-26T12:06:22.407Z"
   },
   {
    "duration": 9,
    "start_time": "2022-10-26T12:06:22.416Z"
   },
   {
    "duration": 390,
    "start_time": "2022-10-26T12:06:22.427Z"
   },
   {
    "duration": 25,
    "start_time": "2022-10-26T12:06:22.819Z"
   },
   {
    "duration": 8,
    "start_time": "2022-10-26T12:06:22.846Z"
   },
   {
    "duration": 9,
    "start_time": "2022-10-26T12:06:22.856Z"
   },
   {
    "duration": 12,
    "start_time": "2022-10-26T12:06:22.879Z"
   },
   {
    "duration": 14,
    "start_time": "2022-10-26T12:06:22.893Z"
   },
   {
    "duration": 6,
    "start_time": "2022-10-26T12:06:22.908Z"
   },
   {
    "duration": 38,
    "start_time": "2022-10-26T12:06:22.916Z"
   },
   {
    "duration": 145,
    "start_time": "2022-10-26T12:06:22.955Z"
   },
   {
    "duration": 8,
    "start_time": "2022-10-26T12:06:23.102Z"
   },
   {
    "duration": 251,
    "start_time": "2022-10-26T12:06:23.111Z"
   },
   {
    "duration": 0,
    "start_time": "2022-10-26T12:06:23.364Z"
   },
   {
    "duration": 0,
    "start_time": "2022-10-26T12:06:23.365Z"
   },
   {
    "duration": 0,
    "start_time": "2022-10-26T12:06:23.385Z"
   },
   {
    "duration": 1,
    "start_time": "2022-10-26T12:06:23.455Z"
   },
   {
    "duration": 0,
    "start_time": "2022-10-26T12:06:23.457Z"
   },
   {
    "duration": 0,
    "start_time": "2022-10-26T12:06:23.458Z"
   },
   {
    "duration": 0,
    "start_time": "2022-10-26T12:06:23.459Z"
   },
   {
    "duration": 0,
    "start_time": "2022-10-26T12:06:23.461Z"
   },
   {
    "duration": 0,
    "start_time": "2022-10-26T12:06:23.462Z"
   },
   {
    "duration": 0,
    "start_time": "2022-10-26T12:06:23.463Z"
   },
   {
    "duration": 0,
    "start_time": "2022-10-26T12:06:23.465Z"
   },
   {
    "duration": 0,
    "start_time": "2022-10-26T12:06:23.477Z"
   },
   {
    "duration": 0,
    "start_time": "2022-10-26T12:06:23.478Z"
   },
   {
    "duration": 70,
    "start_time": "2022-10-26T12:06:38.021Z"
   },
   {
    "duration": 777,
    "start_time": "2022-10-26T12:06:43.859Z"
   },
   {
    "duration": 717,
    "start_time": "2022-10-26T12:06:56.019Z"
   },
   {
    "duration": 20,
    "start_time": "2022-10-26T12:07:16.547Z"
   },
   {
    "duration": 32826,
    "start_time": "2022-10-26T12:07:39.548Z"
   },
   {
    "duration": 774,
    "start_time": "2022-10-26T12:09:29.967Z"
   },
   {
    "duration": 31544,
    "start_time": "2022-10-26T12:10:34.351Z"
   },
   {
    "duration": 14,
    "start_time": "2022-10-26T12:12:58.374Z"
   },
   {
    "duration": 35,
    "start_time": "2022-10-26T12:13:24.647Z"
   },
   {
    "duration": 22,
    "start_time": "2022-10-26T12:15:25.425Z"
   },
   {
    "duration": 903,
    "start_time": "2022-10-26T12:17:56.320Z"
   },
   {
    "duration": 897,
    "start_time": "2022-10-26T12:18:57.523Z"
   },
   {
    "duration": 40506,
    "start_time": "2022-10-26T12:20:07.809Z"
   },
   {
    "duration": 12,
    "start_time": "2022-10-26T12:34:48.412Z"
   },
   {
    "duration": 34,
    "start_time": "2022-10-26T12:34:55.425Z"
   },
   {
    "duration": 957,
    "start_time": "2022-10-26T12:35:13.138Z"
   },
   {
    "duration": 877,
    "start_time": "2022-10-26T12:36:13.291Z"
   },
   {
    "duration": 41454,
    "start_time": "2022-10-26T12:37:54.093Z"
   },
   {
    "duration": 16,
    "start_time": "2022-10-26T12:46:06.488Z"
   },
   {
    "duration": 18,
    "start_time": "2022-10-26T12:46:41.858Z"
   },
   {
    "duration": 375,
    "start_time": "2022-10-26T12:47:49.041Z"
   },
   {
    "duration": 13609,
    "start_time": "2022-10-26T12:49:17.650Z"
   },
   {
    "duration": 17898,
    "start_time": "2022-10-26T13:24:40.307Z"
   },
   {
    "duration": 362,
    "start_time": "2022-10-26T13:25:32.903Z"
   },
   {
    "duration": 100,
    "start_time": "2022-10-26T13:54:50.463Z"
   },
   {
    "duration": 110,
    "start_time": "2022-10-26T14:18:38.947Z"
   },
   {
    "duration": 71,
    "start_time": "2022-10-26T14:19:28.500Z"
   },
   {
    "duration": 10,
    "start_time": "2022-10-26T14:19:45.519Z"
   },
   {
    "duration": 7,
    "start_time": "2022-10-26T14:20:37.812Z"
   },
   {
    "duration": 6,
    "start_time": "2022-10-26T14:21:58.316Z"
   },
   {
    "duration": 8,
    "start_time": "2022-10-26T14:22:38.736Z"
   },
   {
    "duration": 6,
    "start_time": "2022-10-26T14:23:11.352Z"
   },
   {
    "duration": 120,
    "start_time": "2022-10-26T14:28:40.552Z"
   },
   {
    "duration": 114,
    "start_time": "2022-10-26T14:29:02.994Z"
   },
   {
    "duration": 104,
    "start_time": "2022-10-26T14:45:16.456Z"
   },
   {
    "duration": 146,
    "start_time": "2022-10-26T14:45:30.662Z"
   },
   {
    "duration": 213,
    "start_time": "2022-10-26T14:46:18.376Z"
   },
   {
    "duration": 279,
    "start_time": "2022-10-26T14:49:14.625Z"
   },
   {
    "duration": 10,
    "start_time": "2022-10-26T14:52:42.059Z"
   },
   {
    "duration": 4,
    "start_time": "2022-10-26T14:53:59.410Z"
   },
   {
    "duration": 107,
    "start_time": "2022-10-26T14:54:08.907Z"
   },
   {
    "duration": 1342,
    "start_time": "2022-10-26T14:57:44.575Z"
   },
   {
    "duration": 4,
    "start_time": "2022-10-26T14:57:45.919Z"
   },
   {
    "duration": 46,
    "start_time": "2022-10-26T14:57:45.924Z"
   },
   {
    "duration": 18,
    "start_time": "2022-10-26T14:57:45.972Z"
   },
   {
    "duration": 21,
    "start_time": "2022-10-26T14:57:45.991Z"
   },
   {
    "duration": 4,
    "start_time": "2022-10-26T14:57:46.014Z"
   },
   {
    "duration": 8,
    "start_time": "2022-10-26T14:57:46.019Z"
   },
   {
    "duration": 7,
    "start_time": "2022-10-26T14:57:46.029Z"
   },
   {
    "duration": 8,
    "start_time": "2022-10-26T14:57:46.037Z"
   },
   {
    "duration": 7,
    "start_time": "2022-10-26T14:57:46.048Z"
   },
   {
    "duration": 33,
    "start_time": "2022-10-26T14:57:46.056Z"
   },
   {
    "duration": 116,
    "start_time": "2022-10-26T14:57:46.092Z"
   },
   {
    "duration": 7,
    "start_time": "2022-10-26T14:57:46.210Z"
   },
   {
    "duration": 6,
    "start_time": "2022-10-26T14:57:46.219Z"
   },
   {
    "duration": 324,
    "start_time": "2022-10-26T14:57:46.226Z"
   },
   {
    "duration": 40,
    "start_time": "2022-10-26T14:57:46.552Z"
   },
   {
    "duration": 6,
    "start_time": "2022-10-26T14:57:46.593Z"
   },
   {
    "duration": 21,
    "start_time": "2022-10-26T14:57:46.600Z"
   },
   {
    "duration": 18,
    "start_time": "2022-10-26T14:57:46.623Z"
   },
   {
    "duration": 12,
    "start_time": "2022-10-26T14:57:46.642Z"
   },
   {
    "duration": 11,
    "start_time": "2022-10-26T14:57:46.656Z"
   },
   {
    "duration": 46,
    "start_time": "2022-10-26T14:57:46.668Z"
   },
   {
    "duration": 127,
    "start_time": "2022-10-26T14:57:46.716Z"
   },
   {
    "duration": 6,
    "start_time": "2022-10-26T14:57:46.845Z"
   },
   {
    "duration": 37,
    "start_time": "2022-10-26T14:57:46.853Z"
   },
   {
    "duration": 995,
    "start_time": "2022-10-26T14:57:46.896Z"
   },
   {
    "duration": 30922,
    "start_time": "2022-10-26T14:57:47.899Z"
   },
   {
    "duration": 55,
    "start_time": "2022-10-26T14:58:18.824Z"
   },
   {
    "duration": 807,
    "start_time": "2022-10-26T14:58:18.888Z"
   },
   {
    "duration": 30522,
    "start_time": "2022-10-26T14:58:19.696Z"
   },
   {
    "duration": 12,
    "start_time": "2022-10-26T14:58:50.220Z"
   },
   {
    "duration": 56,
    "start_time": "2022-10-26T14:58:50.234Z"
   },
   {
    "duration": 986,
    "start_time": "2022-10-26T14:58:50.296Z"
   },
   {
    "duration": 41363,
    "start_time": "2022-10-26T14:58:51.283Z"
   },
   {
    "duration": 16,
    "start_time": "2022-10-26T14:59:32.648Z"
   },
   {
    "duration": 126,
    "start_time": "2022-10-26T14:59:32.665Z"
   },
   {
    "duration": 454,
    "start_time": "2022-10-26T14:59:32.798Z"
   },
   {
    "duration": 17940,
    "start_time": "2022-10-26T14:59:33.253Z"
   },
   {
    "duration": 123,
    "start_time": "2022-10-26T14:59:51.194Z"
   },
   {
    "duration": 7,
    "start_time": "2022-10-26T14:59:51.319Z"
   },
   {
    "duration": 14,
    "start_time": "2022-10-26T14:59:51.328Z"
   },
   {
    "duration": 6,
    "start_time": "2022-10-26T14:59:51.344Z"
   },
   {
    "duration": 349,
    "start_time": "2022-10-26T14:59:51.352Z"
   },
   {
    "duration": 74,
    "start_time": "2022-10-27T10:44:57.443Z"
   },
   {
    "duration": 1552,
    "start_time": "2022-10-27T10:45:22.003Z"
   },
   {
    "duration": 3,
    "start_time": "2022-10-27T10:45:23.557Z"
   },
   {
    "duration": 221,
    "start_time": "2022-10-27T10:45:23.562Z"
   },
   {
    "duration": 18,
    "start_time": "2022-10-27T10:45:23.785Z"
   },
   {
    "duration": 21,
    "start_time": "2022-10-27T10:45:23.805Z"
   },
   {
    "duration": 4,
    "start_time": "2022-10-27T10:45:23.827Z"
   },
   {
    "duration": 14,
    "start_time": "2022-10-27T10:45:23.839Z"
   },
   {
    "duration": 15,
    "start_time": "2022-10-27T10:45:23.854Z"
   },
   {
    "duration": 45,
    "start_time": "2022-10-27T10:45:23.871Z"
   },
   {
    "duration": 9,
    "start_time": "2022-10-27T10:45:23.919Z"
   },
   {
    "duration": 4,
    "start_time": "2022-10-27T10:45:23.930Z"
   },
   {
    "duration": 137,
    "start_time": "2022-10-27T10:45:23.935Z"
   },
   {
    "duration": 8,
    "start_time": "2022-10-27T10:45:24.073Z"
   },
   {
    "duration": 152,
    "start_time": "2022-10-27T10:45:24.083Z"
   },
   {
    "duration": 0,
    "start_time": "2022-10-27T10:45:24.237Z"
   },
   {
    "duration": 0,
    "start_time": "2022-10-27T10:45:24.239Z"
   },
   {
    "duration": 0,
    "start_time": "2022-10-27T10:45:24.240Z"
   },
   {
    "duration": 0,
    "start_time": "2022-10-27T10:45:24.241Z"
   },
   {
    "duration": 0,
    "start_time": "2022-10-27T10:45:24.242Z"
   },
   {
    "duration": 0,
    "start_time": "2022-10-27T10:45:24.243Z"
   },
   {
    "duration": 0,
    "start_time": "2022-10-27T10:45:24.244Z"
   },
   {
    "duration": 0,
    "start_time": "2022-10-27T10:45:24.245Z"
   },
   {
    "duration": 0,
    "start_time": "2022-10-27T10:45:24.246Z"
   },
   {
    "duration": 0,
    "start_time": "2022-10-27T10:45:24.247Z"
   },
   {
    "duration": 0,
    "start_time": "2022-10-27T10:45:24.249Z"
   },
   {
    "duration": 0,
    "start_time": "2022-10-27T10:45:24.250Z"
   },
   {
    "duration": 0,
    "start_time": "2022-10-27T10:45:24.251Z"
   },
   {
    "duration": 0,
    "start_time": "2022-10-27T10:45:24.252Z"
   },
   {
    "duration": 0,
    "start_time": "2022-10-27T10:45:24.253Z"
   },
   {
    "duration": 0,
    "start_time": "2022-10-27T10:45:24.254Z"
   },
   {
    "duration": 0,
    "start_time": "2022-10-27T10:45:24.255Z"
   },
   {
    "duration": 0,
    "start_time": "2022-10-27T10:45:24.257Z"
   },
   {
    "duration": 0,
    "start_time": "2022-10-27T10:45:24.258Z"
   },
   {
    "duration": 0,
    "start_time": "2022-10-27T10:45:24.258Z"
   },
   {
    "duration": 0,
    "start_time": "2022-10-27T10:45:24.259Z"
   },
   {
    "duration": 0,
    "start_time": "2022-10-27T10:45:24.260Z"
   },
   {
    "duration": 0,
    "start_time": "2022-10-27T10:45:24.261Z"
   },
   {
    "duration": 0,
    "start_time": "2022-10-27T10:45:24.277Z"
   },
   {
    "duration": 0,
    "start_time": "2022-10-27T10:45:24.277Z"
   },
   {
    "duration": 0,
    "start_time": "2022-10-27T10:45:24.278Z"
   },
   {
    "duration": 0,
    "start_time": "2022-10-27T10:45:24.278Z"
   },
   {
    "duration": 0,
    "start_time": "2022-10-27T10:45:24.279Z"
   },
   {
    "duration": 0,
    "start_time": "2022-10-27T10:45:24.279Z"
   },
   {
    "duration": 0,
    "start_time": "2022-10-27T10:45:24.282Z"
   },
   {
    "duration": 5,
    "start_time": "2022-10-27T10:46:21.721Z"
   },
   {
    "duration": 15,
    "start_time": "2022-10-27T10:46:35.297Z"
   },
   {
    "duration": 2,
    "start_time": "2022-10-27T10:47:26.756Z"
   },
   {
    "duration": 8,
    "start_time": "2022-10-27T10:47:42.511Z"
   },
   {
    "duration": 13,
    "start_time": "2022-10-27T10:48:06.271Z"
   },
   {
    "duration": 9,
    "start_time": "2022-10-27T10:48:55.549Z"
   },
   {
    "duration": 13,
    "start_time": "2022-10-27T10:49:57.916Z"
   },
   {
    "duration": 1353,
    "start_time": "2022-10-27T10:50:15.115Z"
   },
   {
    "duration": 2,
    "start_time": "2022-10-27T10:50:16.470Z"
   },
   {
    "duration": 74,
    "start_time": "2022-10-27T10:50:16.476Z"
   },
   {
    "duration": 15,
    "start_time": "2022-10-27T10:50:16.552Z"
   },
   {
    "duration": 27,
    "start_time": "2022-10-27T10:50:16.568Z"
   },
   {
    "duration": 17,
    "start_time": "2022-10-27T10:50:16.596Z"
   },
   {
    "duration": 10,
    "start_time": "2022-10-27T10:50:16.615Z"
   },
   {
    "duration": 9,
    "start_time": "2022-10-27T10:50:16.627Z"
   },
   {
    "duration": 9,
    "start_time": "2022-10-27T10:50:16.637Z"
   },
   {
    "duration": 13,
    "start_time": "2022-10-27T10:50:16.648Z"
   },
   {
    "duration": 5,
    "start_time": "2022-10-27T10:50:16.663Z"
   },
   {
    "duration": 136,
    "start_time": "2022-10-27T10:50:16.669Z"
   },
   {
    "duration": 7,
    "start_time": "2022-10-27T10:50:16.806Z"
   },
   {
    "duration": 121,
    "start_time": "2022-10-27T10:50:16.815Z"
   },
   {
    "duration": 0,
    "start_time": "2022-10-27T10:50:16.937Z"
   },
   {
    "duration": 0,
    "start_time": "2022-10-27T10:50:16.939Z"
   },
   {
    "duration": 0,
    "start_time": "2022-10-27T10:50:16.940Z"
   },
   {
    "duration": 0,
    "start_time": "2022-10-27T10:50:16.941Z"
   },
   {
    "duration": 0,
    "start_time": "2022-10-27T10:50:16.941Z"
   },
   {
    "duration": 0,
    "start_time": "2022-10-27T10:50:16.942Z"
   },
   {
    "duration": 0,
    "start_time": "2022-10-27T10:50:16.943Z"
   },
   {
    "duration": 0,
    "start_time": "2022-10-27T10:50:16.944Z"
   },
   {
    "duration": 0,
    "start_time": "2022-10-27T10:50:16.945Z"
   },
   {
    "duration": 0,
    "start_time": "2022-10-27T10:50:16.946Z"
   },
   {
    "duration": 0,
    "start_time": "2022-10-27T10:50:16.947Z"
   },
   {
    "duration": 0,
    "start_time": "2022-10-27T10:50:16.948Z"
   },
   {
    "duration": 0,
    "start_time": "2022-10-27T10:50:16.949Z"
   },
   {
    "duration": 0,
    "start_time": "2022-10-27T10:50:16.950Z"
   },
   {
    "duration": 0,
    "start_time": "2022-10-27T10:50:16.978Z"
   },
   {
    "duration": 0,
    "start_time": "2022-10-27T10:50:16.980Z"
   },
   {
    "duration": 0,
    "start_time": "2022-10-27T10:50:16.981Z"
   },
   {
    "duration": 0,
    "start_time": "2022-10-27T10:50:16.983Z"
   },
   {
    "duration": 0,
    "start_time": "2022-10-27T10:50:16.984Z"
   },
   {
    "duration": 0,
    "start_time": "2022-10-27T10:50:16.986Z"
   },
   {
    "duration": 0,
    "start_time": "2022-10-27T10:50:16.987Z"
   },
   {
    "duration": 0,
    "start_time": "2022-10-27T10:50:16.989Z"
   },
   {
    "duration": 0,
    "start_time": "2022-10-27T10:50:16.990Z"
   },
   {
    "duration": 0,
    "start_time": "2022-10-27T10:50:16.992Z"
   },
   {
    "duration": 0,
    "start_time": "2022-10-27T10:50:16.993Z"
   },
   {
    "duration": 0,
    "start_time": "2022-10-27T10:50:16.994Z"
   },
   {
    "duration": 0,
    "start_time": "2022-10-27T10:50:16.996Z"
   },
   {
    "duration": 0,
    "start_time": "2022-10-27T10:50:17.001Z"
   },
   {
    "duration": 0,
    "start_time": "2022-10-27T10:50:17.002Z"
   },
   {
    "duration": 0,
    "start_time": "2022-10-27T10:50:17.003Z"
   },
   {
    "duration": 9,
    "start_time": "2022-10-27T10:55:06.849Z"
   },
   {
    "duration": 1383,
    "start_time": "2022-10-27T11:12:23.606Z"
   },
   {
    "duration": 4,
    "start_time": "2022-10-27T11:12:24.991Z"
   },
   {
    "duration": 60,
    "start_time": "2022-10-27T11:12:24.996Z"
   },
   {
    "duration": 16,
    "start_time": "2022-10-27T11:12:25.057Z"
   },
   {
    "duration": 19,
    "start_time": "2022-10-27T11:12:25.074Z"
   },
   {
    "duration": 18,
    "start_time": "2022-10-27T11:12:25.096Z"
   },
   {
    "duration": 5,
    "start_time": "2022-10-27T11:12:25.116Z"
   },
   {
    "duration": 7,
    "start_time": "2022-10-27T11:12:25.123Z"
   },
   {
    "duration": 8,
    "start_time": "2022-10-27T11:12:25.131Z"
   },
   {
    "duration": 14,
    "start_time": "2022-10-27T11:12:25.140Z"
   },
   {
    "duration": 9,
    "start_time": "2022-10-27T11:12:25.155Z"
   },
   {
    "duration": 132,
    "start_time": "2022-10-27T11:12:25.165Z"
   },
   {
    "duration": 8,
    "start_time": "2022-10-27T11:12:25.303Z"
   },
   {
    "duration": 2,
    "start_time": "2022-10-27T11:12:25.320Z"
   },
   {
    "duration": 114,
    "start_time": "2022-10-27T11:12:25.324Z"
   },
   {
    "duration": 0,
    "start_time": "2022-10-27T11:12:25.440Z"
   },
   {
    "duration": 0,
    "start_time": "2022-10-27T11:12:25.441Z"
   },
   {
    "duration": 0,
    "start_time": "2022-10-27T11:12:25.442Z"
   },
   {
    "duration": 0,
    "start_time": "2022-10-27T11:12:25.443Z"
   },
   {
    "duration": 0,
    "start_time": "2022-10-27T11:12:25.444Z"
   },
   {
    "duration": 0,
    "start_time": "2022-10-27T11:12:25.445Z"
   },
   {
    "duration": 0,
    "start_time": "2022-10-27T11:12:25.446Z"
   },
   {
    "duration": 1,
    "start_time": "2022-10-27T11:12:25.447Z"
   },
   {
    "duration": 0,
    "start_time": "2022-10-27T11:12:25.449Z"
   },
   {
    "duration": 0,
    "start_time": "2022-10-27T11:12:25.450Z"
   },
   {
    "duration": 0,
    "start_time": "2022-10-27T11:12:25.451Z"
   },
   {
    "duration": 0,
    "start_time": "2022-10-27T11:12:25.452Z"
   },
   {
    "duration": 0,
    "start_time": "2022-10-27T11:12:25.453Z"
   },
   {
    "duration": 0,
    "start_time": "2022-10-27T11:12:25.454Z"
   },
   {
    "duration": 0,
    "start_time": "2022-10-27T11:12:25.455Z"
   },
   {
    "duration": 0,
    "start_time": "2022-10-27T11:12:25.477Z"
   },
   {
    "duration": 0,
    "start_time": "2022-10-27T11:12:25.478Z"
   },
   {
    "duration": 0,
    "start_time": "2022-10-27T11:12:25.479Z"
   },
   {
    "duration": 0,
    "start_time": "2022-10-27T11:12:25.479Z"
   },
   {
    "duration": 0,
    "start_time": "2022-10-27T11:12:25.480Z"
   },
   {
    "duration": 0,
    "start_time": "2022-10-27T11:12:25.480Z"
   },
   {
    "duration": 0,
    "start_time": "2022-10-27T11:12:25.481Z"
   },
   {
    "duration": 0,
    "start_time": "2022-10-27T11:12:25.482Z"
   },
   {
    "duration": 0,
    "start_time": "2022-10-27T11:12:25.483Z"
   },
   {
    "duration": 0,
    "start_time": "2022-10-27T11:12:25.483Z"
   },
   {
    "duration": 0,
    "start_time": "2022-10-27T11:12:25.485Z"
   },
   {
    "duration": 0,
    "start_time": "2022-10-27T11:12:25.486Z"
   },
   {
    "duration": 0,
    "start_time": "2022-10-27T11:12:25.487Z"
   },
   {
    "duration": 0,
    "start_time": "2022-10-27T11:12:25.488Z"
   },
   {
    "duration": 0,
    "start_time": "2022-10-27T11:12:25.489Z"
   },
   {
    "duration": 9,
    "start_time": "2022-10-27T13:32:23.732Z"
   },
   {
    "duration": 11,
    "start_time": "2022-10-27T14:45:20.321Z"
   },
   {
    "duration": 9,
    "start_time": "2022-10-27T14:55:01.294Z"
   },
   {
    "duration": 9,
    "start_time": "2022-10-27T14:58:13.810Z"
   },
   {
    "duration": 9,
    "start_time": "2022-10-27T15:01:55.240Z"
   },
   {
    "duration": 9,
    "start_time": "2022-10-27T15:02:18.743Z"
   },
   {
    "duration": 1315,
    "start_time": "2022-10-27T15:02:32.882Z"
   },
   {
    "duration": 2,
    "start_time": "2022-10-27T15:02:34.200Z"
   },
   {
    "duration": 45,
    "start_time": "2022-10-27T15:02:34.204Z"
   },
   {
    "duration": 14,
    "start_time": "2022-10-27T15:02:34.252Z"
   },
   {
    "duration": 11,
    "start_time": "2022-10-27T15:02:34.268Z"
   },
   {
    "duration": 3,
    "start_time": "2022-10-27T15:02:34.281Z"
   },
   {
    "duration": 5,
    "start_time": "2022-10-27T15:02:34.286Z"
   },
   {
    "duration": 8,
    "start_time": "2022-10-27T15:02:34.292Z"
   },
   {
    "duration": 6,
    "start_time": "2022-10-27T15:02:34.301Z"
   },
   {
    "duration": 7,
    "start_time": "2022-10-27T15:02:34.309Z"
   },
   {
    "duration": 4,
    "start_time": "2022-10-27T15:02:34.318Z"
   },
   {
    "duration": 130,
    "start_time": "2022-10-27T15:02:34.323Z"
   },
   {
    "duration": 6,
    "start_time": "2022-10-27T15:02:34.455Z"
   },
   {
    "duration": 8,
    "start_time": "2022-10-27T15:02:34.462Z"
   },
   {
    "duration": 17,
    "start_time": "2022-10-27T15:02:34.477Z"
   },
   {
    "duration": 7,
    "start_time": "2022-10-27T15:02:34.496Z"
   },
   {
    "duration": 6,
    "start_time": "2022-10-27T15:02:34.505Z"
   },
   {
    "duration": 317,
    "start_time": "2022-10-27T15:02:34.513Z"
   },
   {
    "duration": 20,
    "start_time": "2022-10-27T15:02:34.832Z"
   },
   {
    "duration": 5,
    "start_time": "2022-10-27T15:02:34.853Z"
   },
   {
    "duration": 21,
    "start_time": "2022-10-27T15:02:34.860Z"
   },
   {
    "duration": 5,
    "start_time": "2022-10-27T15:02:34.883Z"
   },
   {
    "duration": 8,
    "start_time": "2022-10-27T15:02:34.889Z"
   },
   {
    "duration": 5,
    "start_time": "2022-10-27T15:02:34.899Z"
   },
   {
    "duration": 35,
    "start_time": "2022-10-27T15:02:34.905Z"
   },
   {
    "duration": 145,
    "start_time": "2022-10-27T15:02:34.942Z"
   },
   {
    "duration": 7,
    "start_time": "2022-10-27T15:02:35.089Z"
   },
   {
    "duration": 79,
    "start_time": "2022-10-27T15:02:35.099Z"
   },
   {
    "duration": 846,
    "start_time": "2022-10-27T15:02:35.180Z"
   },
   {
    "duration": 29261,
    "start_time": "2022-10-27T15:02:36.027Z"
   },
   {
    "duration": 89,
    "start_time": "2022-10-27T15:03:05.290Z"
   },
   {
    "duration": 788,
    "start_time": "2022-10-27T15:03:05.381Z"
   },
   {
    "duration": 29742,
    "start_time": "2022-10-27T15:03:06.171Z"
   },
   {
    "duration": 13,
    "start_time": "2022-10-27T15:03:35.915Z"
   },
   {
    "duration": 55,
    "start_time": "2022-10-27T15:03:35.929Z"
   },
   {
    "duration": 934,
    "start_time": "2022-10-27T15:03:35.988Z"
   },
   {
    "duration": 39116,
    "start_time": "2022-10-27T15:03:36.924Z"
   },
   {
    "duration": 11,
    "start_time": "2022-10-27T15:04:16.042Z"
   },
   {
    "duration": 31,
    "start_time": "2022-10-27T15:04:16.054Z"
   },
   {
    "duration": 526,
    "start_time": "2022-10-27T15:04:16.086Z"
   },
   {
    "duration": 17077,
    "start_time": "2022-10-27T15:04:16.614Z"
   },
   {
    "duration": 105,
    "start_time": "2022-10-27T15:04:33.693Z"
   },
   {
    "duration": 6,
    "start_time": "2022-10-27T15:04:33.799Z"
   },
   {
    "duration": 7,
    "start_time": "2022-10-27T15:04:33.807Z"
   },
   {
    "duration": 9,
    "start_time": "2022-10-27T15:04:33.815Z"
   },
   {
    "duration": 311,
    "start_time": "2022-10-27T15:04:33.825Z"
   },
   {
    "duration": 30,
    "start_time": "2022-10-27T15:08:17.325Z"
   },
   {
    "duration": 118,
    "start_time": "2022-10-27T15:09:01.832Z"
   },
   {
    "duration": 99,
    "start_time": "2022-10-27T15:09:49.428Z"
   },
   {
    "duration": 8,
    "start_time": "2022-10-27T15:10:16.595Z"
   },
   {
    "duration": 9,
    "start_time": "2022-10-27T15:10:26.324Z"
   },
   {
    "duration": 9,
    "start_time": "2022-10-27T15:13:46.543Z"
   },
   {
    "duration": 9,
    "start_time": "2022-10-27T15:14:14.795Z"
   },
   {
    "duration": 4,
    "start_time": "2022-10-27T15:34:40.531Z"
   },
   {
    "duration": 4,
    "start_time": "2022-10-27T15:35:54.024Z"
   },
   {
    "duration": 1669,
    "start_time": "2022-10-27T15:36:12.440Z"
   },
   {
    "duration": 3,
    "start_time": "2022-10-27T15:36:14.110Z"
   },
   {
    "duration": 48,
    "start_time": "2022-10-27T15:36:14.114Z"
   },
   {
    "duration": 16,
    "start_time": "2022-10-27T15:36:14.164Z"
   },
   {
    "duration": 13,
    "start_time": "2022-10-27T15:36:14.182Z"
   },
   {
    "duration": 4,
    "start_time": "2022-10-27T15:36:14.197Z"
   },
   {
    "duration": 5,
    "start_time": "2022-10-27T15:36:14.203Z"
   },
   {
    "duration": 8,
    "start_time": "2022-10-27T15:36:14.209Z"
   },
   {
    "duration": 8,
    "start_time": "2022-10-27T15:36:14.218Z"
   },
   {
    "duration": 11,
    "start_time": "2022-10-27T15:36:14.228Z"
   },
   {
    "duration": 4,
    "start_time": "2022-10-27T15:36:14.241Z"
   },
   {
    "duration": 135,
    "start_time": "2022-10-27T15:36:14.247Z"
   },
   {
    "duration": 2,
    "start_time": "2022-10-27T15:36:14.383Z"
   },
   {
    "duration": 9,
    "start_time": "2022-10-27T15:36:14.387Z"
   },
   {
    "duration": 326,
    "start_time": "2022-10-27T15:36:14.397Z"
   },
   {
    "duration": 22,
    "start_time": "2022-10-27T15:36:14.724Z"
   },
   {
    "duration": 4,
    "start_time": "2022-10-27T15:36:14.748Z"
   },
   {
    "duration": 24,
    "start_time": "2022-10-27T15:36:14.753Z"
   },
   {
    "duration": 6,
    "start_time": "2022-10-27T15:36:14.778Z"
   },
   {
    "duration": 6,
    "start_time": "2022-10-27T15:36:14.786Z"
   },
   {
    "duration": 2,
    "start_time": "2022-10-27T15:36:14.794Z"
   },
   {
    "duration": 41,
    "start_time": "2022-10-27T15:36:14.798Z"
   },
   {
    "duration": 151,
    "start_time": "2022-10-27T15:36:14.840Z"
   },
   {
    "duration": 7,
    "start_time": "2022-10-27T15:36:14.993Z"
   },
   {
    "duration": 116,
    "start_time": "2022-10-27T15:36:15.001Z"
   },
   {
    "duration": 0,
    "start_time": "2022-10-27T15:36:15.119Z"
   },
   {
    "duration": 0,
    "start_time": "2022-10-27T15:36:15.120Z"
   },
   {
    "duration": 0,
    "start_time": "2022-10-27T15:36:15.121Z"
   },
   {
    "duration": 0,
    "start_time": "2022-10-27T15:36:15.199Z"
   },
   {
    "duration": 0,
    "start_time": "2022-10-27T15:36:15.201Z"
   },
   {
    "duration": 0,
    "start_time": "2022-10-27T15:36:15.201Z"
   },
   {
    "duration": 0,
    "start_time": "2022-10-27T15:36:15.202Z"
   },
   {
    "duration": 0,
    "start_time": "2022-10-27T15:36:15.203Z"
   },
   {
    "duration": 0,
    "start_time": "2022-10-27T15:36:15.204Z"
   },
   {
    "duration": 0,
    "start_time": "2022-10-27T15:36:15.205Z"
   },
   {
    "duration": 0,
    "start_time": "2022-10-27T15:36:15.206Z"
   },
   {
    "duration": 0,
    "start_time": "2022-10-27T15:36:15.207Z"
   },
   {
    "duration": 0,
    "start_time": "2022-10-27T15:36:15.208Z"
   },
   {
    "duration": 0,
    "start_time": "2022-10-27T15:36:15.209Z"
   },
   {
    "duration": 0,
    "start_time": "2022-10-27T15:36:15.210Z"
   },
   {
    "duration": 1,
    "start_time": "2022-10-27T15:36:15.210Z"
   },
   {
    "duration": 0,
    "start_time": "2022-10-27T15:36:15.211Z"
   },
   {
    "duration": 0,
    "start_time": "2022-10-27T15:36:15.212Z"
   },
   {
    "duration": 111,
    "start_time": "2022-10-27T15:38:15.924Z"
   },
   {
    "duration": 10,
    "start_time": "2022-10-27T15:38:44.265Z"
   },
   {
    "duration": 4,
    "start_time": "2022-10-27T15:39:03.543Z"
   },
   {
    "duration": 1476,
    "start_time": "2022-10-27T15:40:38.035Z"
   },
   {
    "duration": 3,
    "start_time": "2022-10-27T15:40:39.512Z"
   },
   {
    "duration": 49,
    "start_time": "2022-10-27T15:40:39.517Z"
   },
   {
    "duration": 15,
    "start_time": "2022-10-27T15:40:39.568Z"
   },
   {
    "duration": 13,
    "start_time": "2022-10-27T15:40:39.584Z"
   },
   {
    "duration": 4,
    "start_time": "2022-10-27T15:40:39.599Z"
   },
   {
    "duration": 6,
    "start_time": "2022-10-27T15:40:39.604Z"
   },
   {
    "duration": 11,
    "start_time": "2022-10-27T15:40:39.612Z"
   },
   {
    "duration": 9,
    "start_time": "2022-10-27T15:40:39.624Z"
   },
   {
    "duration": 10,
    "start_time": "2022-10-27T15:40:39.636Z"
   },
   {
    "duration": 7,
    "start_time": "2022-10-27T15:40:39.647Z"
   },
   {
    "duration": 142,
    "start_time": "2022-10-27T15:40:39.655Z"
   },
   {
    "duration": 2,
    "start_time": "2022-10-27T15:40:39.799Z"
   },
   {
    "duration": 10,
    "start_time": "2022-10-27T15:40:39.802Z"
   },
   {
    "duration": 6,
    "start_time": "2022-10-27T15:40:39.813Z"
   },
   {
    "duration": 319,
    "start_time": "2022-10-27T15:40:39.820Z"
   },
   {
    "duration": 22,
    "start_time": "2022-10-27T15:40:40.141Z"
   },
   {
    "duration": 6,
    "start_time": "2022-10-27T15:40:40.176Z"
   },
   {
    "duration": 11,
    "start_time": "2022-10-27T15:40:40.183Z"
   },
   {
    "duration": 6,
    "start_time": "2022-10-27T15:40:40.196Z"
   },
   {
    "duration": 4,
    "start_time": "2022-10-27T15:40:40.203Z"
   },
   {
    "duration": 6,
    "start_time": "2022-10-27T15:40:40.209Z"
   },
   {
    "duration": 62,
    "start_time": "2022-10-27T15:40:40.216Z"
   },
   {
    "duration": 147,
    "start_time": "2022-10-27T15:40:40.280Z"
   },
   {
    "duration": 7,
    "start_time": "2022-10-27T15:40:40.429Z"
   },
   {
    "duration": 146,
    "start_time": "2022-10-27T15:40:40.437Z"
   },
   {
    "duration": 0,
    "start_time": "2022-10-27T15:40:40.590Z"
   },
   {
    "duration": 0,
    "start_time": "2022-10-27T15:40:40.592Z"
   },
   {
    "duration": 0,
    "start_time": "2022-10-27T15:40:40.667Z"
   },
   {
    "duration": 0,
    "start_time": "2022-10-27T15:40:40.668Z"
   },
   {
    "duration": 0,
    "start_time": "2022-10-27T15:40:40.669Z"
   },
   {
    "duration": 0,
    "start_time": "2022-10-27T15:40:40.670Z"
   },
   {
    "duration": 0,
    "start_time": "2022-10-27T15:40:40.671Z"
   },
   {
    "duration": 0,
    "start_time": "2022-10-27T15:40:40.671Z"
   },
   {
    "duration": 0,
    "start_time": "2022-10-27T15:40:40.672Z"
   },
   {
    "duration": 0,
    "start_time": "2022-10-27T15:40:40.673Z"
   },
   {
    "duration": 0,
    "start_time": "2022-10-27T15:40:40.673Z"
   },
   {
    "duration": 0,
    "start_time": "2022-10-27T15:40:40.674Z"
   },
   {
    "duration": 0,
    "start_time": "2022-10-27T15:40:40.675Z"
   },
   {
    "duration": 0,
    "start_time": "2022-10-27T15:40:40.675Z"
   },
   {
    "duration": 0,
    "start_time": "2022-10-27T15:40:40.677Z"
   },
   {
    "duration": 0,
    "start_time": "2022-10-27T15:40:40.678Z"
   },
   {
    "duration": 0,
    "start_time": "2022-10-27T15:40:40.679Z"
   },
   {
    "duration": 0,
    "start_time": "2022-10-27T15:40:40.680Z"
   },
   {
    "duration": 20,
    "start_time": "2022-10-27T15:42:56.747Z"
   },
   {
    "duration": 4,
    "start_time": "2022-10-27T15:43:15.230Z"
   },
   {
    "duration": 116,
    "start_time": "2022-10-27T15:43:50.587Z"
   },
   {
    "duration": 19,
    "start_time": "2022-10-27T15:45:04.802Z"
   },
   {
    "duration": 112,
    "start_time": "2022-10-27T15:46:23.637Z"
   },
   {
    "duration": 1340,
    "start_time": "2022-10-27T15:46:42.963Z"
   },
   {
    "duration": 3,
    "start_time": "2022-10-27T15:46:44.305Z"
   },
   {
    "duration": 45,
    "start_time": "2022-10-27T15:46:44.309Z"
   },
   {
    "duration": 14,
    "start_time": "2022-10-27T15:46:44.356Z"
   },
   {
    "duration": 13,
    "start_time": "2022-10-27T15:46:44.372Z"
   },
   {
    "duration": 3,
    "start_time": "2022-10-27T15:46:44.386Z"
   },
   {
    "duration": 5,
    "start_time": "2022-10-27T15:46:44.391Z"
   },
   {
    "duration": 11,
    "start_time": "2022-10-27T15:46:44.398Z"
   },
   {
    "duration": 8,
    "start_time": "2022-10-27T15:46:44.410Z"
   },
   {
    "duration": 9,
    "start_time": "2022-10-27T15:46:44.419Z"
   },
   {
    "duration": 4,
    "start_time": "2022-10-27T15:46:44.430Z"
   },
   {
    "duration": 133,
    "start_time": "2022-10-27T15:46:44.436Z"
   },
   {
    "duration": 2,
    "start_time": "2022-10-27T15:46:44.571Z"
   },
   {
    "duration": 23,
    "start_time": "2022-10-27T15:46:44.576Z"
   },
   {
    "duration": 106,
    "start_time": "2022-10-27T15:46:44.600Z"
   },
   {
    "duration": 314,
    "start_time": "2022-10-27T15:46:44.707Z"
   },
   {
    "duration": 21,
    "start_time": "2022-10-27T15:46:45.023Z"
   },
   {
    "duration": 5,
    "start_time": "2022-10-27T15:46:45.045Z"
   },
   {
    "duration": 26,
    "start_time": "2022-10-27T15:46:45.051Z"
   },
   {
    "duration": 81,
    "start_time": "2022-10-27T15:46:45.078Z"
   },
   {
    "duration": 4,
    "start_time": "2022-10-27T15:46:45.161Z"
   },
   {
    "duration": 12,
    "start_time": "2022-10-27T15:46:45.166Z"
   },
   {
    "duration": 35,
    "start_time": "2022-10-27T15:46:45.180Z"
   },
   {
    "duration": 142,
    "start_time": "2022-10-27T15:46:45.217Z"
   },
   {
    "duration": 7,
    "start_time": "2022-10-27T15:46:45.360Z"
   },
   {
    "duration": 23,
    "start_time": "2022-10-27T15:46:45.376Z"
   },
   {
    "duration": 842,
    "start_time": "2022-10-27T15:46:45.401Z"
   },
   {
    "duration": 29446,
    "start_time": "2022-10-27T15:46:46.245Z"
   },
   {
    "duration": 23,
    "start_time": "2022-10-27T15:47:15.693Z"
   },
   {
    "duration": 842,
    "start_time": "2022-10-27T15:47:15.717Z"
   },
   {
    "duration": 30647,
    "start_time": "2022-10-27T15:47:16.560Z"
   },
   {
    "duration": 12,
    "start_time": "2022-10-27T15:47:47.209Z"
   },
   {
    "duration": 61,
    "start_time": "2022-10-27T15:47:47.222Z"
   },
   {
    "duration": 993,
    "start_time": "2022-10-27T15:47:47.285Z"
   },
   {
    "duration": 39757,
    "start_time": "2022-10-27T15:47:48.280Z"
   },
   {
    "duration": 14,
    "start_time": "2022-10-27T15:48:28.039Z"
   },
   {
    "duration": 31,
    "start_time": "2022-10-27T15:48:28.056Z"
   },
   {
    "duration": 520,
    "start_time": "2022-10-27T15:48:28.089Z"
   },
   {
    "duration": 16627,
    "start_time": "2022-10-27T15:48:28.611Z"
   },
   {
    "duration": 120,
    "start_time": "2022-10-27T15:48:45.240Z"
   },
   {
    "duration": 12,
    "start_time": "2022-10-27T15:48:45.365Z"
   },
   {
    "duration": 8,
    "start_time": "2022-10-27T15:48:45.379Z"
   },
   {
    "duration": 9,
    "start_time": "2022-10-27T15:48:45.389Z"
   },
   {
    "duration": 320,
    "start_time": "2022-10-27T15:48:45.400Z"
   },
   {
    "duration": 6,
    "start_time": "2022-10-27T15:53:58.568Z"
   },
   {
    "duration": 21,
    "start_time": "2022-10-27T16:01:35.897Z"
   },
   {
    "duration": 680,
    "start_time": "2022-10-27T16:01:50.693Z"
   },
   {
    "duration": 29101,
    "start_time": "2022-10-27T16:02:06.409Z"
   },
   {
    "duration": 676,
    "start_time": "2022-10-27T16:02:35.687Z"
   },
   {
    "duration": 679,
    "start_time": "2022-10-27T16:02:55.140Z"
   },
   {
    "duration": 726,
    "start_time": "2022-10-27T16:23:49.270Z"
   },
   {
    "duration": 28939,
    "start_time": "2022-10-27T16:24:05.414Z"
   },
   {
    "duration": 1366,
    "start_time": "2022-10-27T16:24:39.442Z"
   },
   {
    "duration": 3,
    "start_time": "2022-10-27T16:24:40.809Z"
   },
   {
    "duration": 47,
    "start_time": "2022-10-27T16:24:40.813Z"
   },
   {
    "duration": 16,
    "start_time": "2022-10-27T16:24:40.862Z"
   },
   {
    "duration": 14,
    "start_time": "2022-10-27T16:24:40.880Z"
   },
   {
    "duration": 4,
    "start_time": "2022-10-27T16:24:40.895Z"
   },
   {
    "duration": 6,
    "start_time": "2022-10-27T16:24:40.900Z"
   },
   {
    "duration": 9,
    "start_time": "2022-10-27T16:24:40.908Z"
   },
   {
    "duration": 9,
    "start_time": "2022-10-27T16:24:40.918Z"
   },
   {
    "duration": 8,
    "start_time": "2022-10-27T16:24:40.929Z"
   },
   {
    "duration": 7,
    "start_time": "2022-10-27T16:24:40.939Z"
   },
   {
    "duration": 134,
    "start_time": "2022-10-27T16:24:40.947Z"
   },
   {
    "duration": 2,
    "start_time": "2022-10-27T16:24:41.083Z"
   },
   {
    "duration": 44,
    "start_time": "2022-10-27T16:24:41.086Z"
   },
   {
    "duration": 116,
    "start_time": "2022-10-27T16:24:41.131Z"
   },
   {
    "duration": 6,
    "start_time": "2022-10-27T16:24:41.249Z"
   },
   {
    "duration": 397,
    "start_time": "2022-10-27T16:24:41.256Z"
   },
   {
    "duration": 38,
    "start_time": "2022-10-27T16:24:41.655Z"
   },
   {
    "duration": 5,
    "start_time": "2022-10-27T16:24:41.695Z"
   },
   {
    "duration": 24,
    "start_time": "2022-10-27T16:24:41.701Z"
   },
   {
    "duration": 101,
    "start_time": "2022-10-27T16:24:41.727Z"
   },
   {
    "duration": 4,
    "start_time": "2022-10-27T16:24:41.830Z"
   },
   {
    "duration": 31,
    "start_time": "2022-10-27T16:24:41.835Z"
   },
   {
    "duration": 74,
    "start_time": "2022-10-27T16:24:41.868Z"
   },
   {
    "duration": 124,
    "start_time": "2022-10-27T16:24:41.944Z"
   },
   {
    "duration": 9,
    "start_time": "2022-10-27T16:24:42.069Z"
   },
   {
    "duration": 97,
    "start_time": "2022-10-27T16:24:42.079Z"
   },
   {
    "duration": 803,
    "start_time": "2022-10-27T16:24:42.181Z"
   },
   {
    "duration": 30117,
    "start_time": "2022-10-27T16:24:42.986Z"
   },
   {
    "duration": 73,
    "start_time": "2022-10-27T16:25:13.105Z"
   },
   {
    "duration": 798,
    "start_time": "2022-10-27T16:25:13.183Z"
   },
   {
    "duration": 29367,
    "start_time": "2022-10-27T16:25:13.983Z"
   },
   {
    "duration": 12,
    "start_time": "2022-10-27T16:25:43.351Z"
   },
   {
    "duration": 32,
    "start_time": "2022-10-27T16:25:43.365Z"
   },
   {
    "duration": 1013,
    "start_time": "2022-10-27T16:25:43.398Z"
   },
   {
    "duration": 39136,
    "start_time": "2022-10-27T16:25:44.413Z"
   },
   {
    "duration": 11,
    "start_time": "2022-10-27T16:26:23.551Z"
   },
   {
    "duration": 25,
    "start_time": "2022-10-27T16:26:23.563Z"
   },
   {
    "duration": 537,
    "start_time": "2022-10-27T16:26:23.591Z"
   },
   {
    "duration": 16542,
    "start_time": "2022-10-27T16:26:24.131Z"
   },
   {
    "duration": 114,
    "start_time": "2022-10-27T16:26:40.677Z"
   },
   {
    "duration": 7,
    "start_time": "2022-10-27T16:26:40.793Z"
   },
   {
    "duration": 8,
    "start_time": "2022-10-27T16:26:40.802Z"
   },
   {
    "duration": 6,
    "start_time": "2022-10-27T16:26:40.812Z"
   },
   {
    "duration": 334,
    "start_time": "2022-10-27T16:26:40.819Z"
   },
   {
    "duration": 505,
    "start_time": "2022-10-27T16:31:25.441Z"
   },
   {
    "duration": 7,
    "start_time": "2022-10-27T16:32:06.626Z"
   },
   {
    "duration": 7,
    "start_time": "2022-10-27T16:32:10.639Z"
   },
   {
    "duration": 7,
    "start_time": "2022-10-27T16:32:13.397Z"
   },
   {
    "duration": 683,
    "start_time": "2022-10-27T16:32:22.384Z"
   },
   {
    "duration": 17,
    "start_time": "2022-10-27T16:44:02.001Z"
   },
   {
    "duration": 105,
    "start_time": "2022-10-27T16:44:06.348Z"
   }
  ],
  "kernelspec": {
   "display_name": "Python 3 (ipykernel)",
   "language": "python",
   "name": "python3"
  },
  "language_info": {
   "codemirror_mode": {
    "name": "ipython",
    "version": 3
   },
   "file_extension": ".py",
   "mimetype": "text/x-python",
   "name": "python",
   "nbconvert_exporter": "python",
   "pygments_lexer": "ipython3",
   "version": "3.9.5"
  },
  "toc": {
   "base_numbering": 1,
   "nav_menu": {},
   "number_sections": true,
   "sideBar": true,
   "skip_h1_title": true,
   "title_cell": "Содержание",
   "title_sidebar": "Contents",
   "toc_cell": true,
   "toc_position": {
    "height": "calc(100% - 180px)",
    "left": "10px",
    "top": "150px",
    "width": "165px"
   },
   "toc_section_display": true,
   "toc_window_display": true
  }
 },
 "nbformat": 4,
 "nbformat_minor": 2
}
