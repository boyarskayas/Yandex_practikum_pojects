{
 "cells": [
  {
   "cell_type": "markdown",
   "metadata": {},
   "source": [
    "# Выбор локации для скважины"
   ]
  },
  {
   "attachments": {},
   "cell_type": "markdown",
   "metadata": {},
   "source": [
    "**ЦЕЛЬ ПРОЕКТА:** На основе данных геологоразведки выбрать район добычи нефти\n",
    "\n",
    "На основе предоставленных данных необходимо построить модель машинного обучения, которая поможет определить регион, где добыча принесёт наибольшую прибыль, и проанализировать возможную прибыль и риски техникой *Bootstrap.*"
   ]
  },
  {
   "attachments": {},
   "cell_type": "markdown",
   "metadata": {},
   "source": [
    "**ОПИСАНИЕ ДАННЫХ**  \n",
    "\n",
    "Данные геологоразведки трёх регионов находятся в разных файлах.  \n",
    "\n",
    "`id` — уникальный идентификатор скважины;  \n",
    "`f0`, `f1`, `f2` — три признака точек (значимых признаков);  \n",
    "`product` — объём запасов в скважине (тыс. баррелей).\n"
   ]
  },
  {
   "cell_type": "markdown",
   "metadata": {},
   "source": [
    "## Загрузка и подготовка данных"
   ]
  },
  {
   "cell_type": "code",
   "execution_count": 1,
   "metadata": {},
   "outputs": [],
   "source": [
    "# Импорт библиотек:\n",
    "import numpy as np\n",
    "import pandas as pd\n",
    "import seaborn as sns\n",
    "import matplotlib.pyplot as plt\n",
    "from numpy.random import RandomState \n",
    "\n",
    "from sklearn.model_selection import train_test_split\n",
    "from sklearn.preprocessing import StandardScaler\n",
    "from sklearn.linear_model import LinearRegression\n",
    "from sklearn.metrics import mean_squared_error, r2_score, mean_absolute_error\n",
    "from scipy import stats as st\n",
    "\n",
    "import warnings\n",
    "warnings.filterwarnings(\"ignore\")\n",
    "pd.set_option('display.float_format', '{:,.2f}'.format)\n",
    "state = RandomState(12345)"
   ]
  },
  {
   "cell_type": "code",
   "execution_count": 2,
   "metadata": {},
   "outputs": [],
   "source": [
    "# загрузка данных\n",
    "df1 = pd.read_csv('/datasets/geo_data_0.csv')\n",
    "df2 = pd.read_csv('/datasets/geo_data_1.csv')\n",
    "df3 = pd.read_csv('/datasets/geo_data_2.csv')"
   ]
  },
  {
   "cell_type": "code",
   "execution_count": 3,
   "metadata": {},
   "outputs": [
    {
     "name": "stdout",
     "output_type": "stream",
     "text": [
      "<class 'pandas.core.frame.DataFrame'>\n",
      "RangeIndex: 100000 entries, 0 to 99999\n",
      "Data columns (total 5 columns):\n",
      " #   Column   Non-Null Count   Dtype  \n",
      "---  ------   --------------   -----  \n",
      " 0   id       100000 non-null  object \n",
      " 1   f0       100000 non-null  float64\n",
      " 2   f1       100000 non-null  float64\n",
      " 3   f2       100000 non-null  float64\n",
      " 4   product  100000 non-null  float64\n",
      "dtypes: float64(4), object(1)\n",
      "memory usage: 3.8+ MB\n"
     ]
    }
   ],
   "source": [
    "df1.info()"
   ]
  },
  {
   "cell_type": "code",
   "execution_count": 4,
   "metadata": {},
   "outputs": [
    {
     "name": "stdout",
     "output_type": "stream",
     "text": [
      "<class 'pandas.core.frame.DataFrame'>\n",
      "RangeIndex: 100000 entries, 0 to 99999\n",
      "Data columns (total 5 columns):\n",
      " #   Column   Non-Null Count   Dtype  \n",
      "---  ------   --------------   -----  \n",
      " 0   id       100000 non-null  object \n",
      " 1   f0       100000 non-null  float64\n",
      " 2   f1       100000 non-null  float64\n",
      " 3   f2       100000 non-null  float64\n",
      " 4   product  100000 non-null  float64\n",
      "dtypes: float64(4), object(1)\n",
      "memory usage: 3.8+ MB\n"
     ]
    }
   ],
   "source": [
    "df2.info()"
   ]
  },
  {
   "cell_type": "code",
   "execution_count": 5,
   "metadata": {},
   "outputs": [
    {
     "name": "stdout",
     "output_type": "stream",
     "text": [
      "<class 'pandas.core.frame.DataFrame'>\n",
      "RangeIndex: 100000 entries, 0 to 99999\n",
      "Data columns (total 5 columns):\n",
      " #   Column   Non-Null Count   Dtype  \n",
      "---  ------   --------------   -----  \n",
      " 0   id       100000 non-null  object \n",
      " 1   f0       100000 non-null  float64\n",
      " 2   f1       100000 non-null  float64\n",
      " 3   f2       100000 non-null  float64\n",
      " 4   product  100000 non-null  float64\n",
      "dtypes: float64(4), object(1)\n",
      "memory usage: 3.8+ MB\n"
     ]
    }
   ],
   "source": [
    "df3.info()"
   ]
  },
  {
   "cell_type": "markdown",
   "metadata": {},
   "source": [
    "Пропусков в данных нет"
   ]
  },
  {
   "cell_type": "code",
   "execution_count": 6,
   "metadata": {},
   "outputs": [
    {
     "data": {
      "text/html": [
       "<div>\n",
       "<style scoped>\n",
       "    .dataframe tbody tr th:only-of-type {\n",
       "        vertical-align: middle;\n",
       "    }\n",
       "\n",
       "    .dataframe tbody tr th {\n",
       "        vertical-align: top;\n",
       "    }\n",
       "\n",
       "    .dataframe thead th {\n",
       "        text-align: right;\n",
       "    }\n",
       "</style>\n",
       "<table border=\"1\" class=\"dataframe\">\n",
       "  <thead>\n",
       "    <tr style=\"text-align: right;\">\n",
       "      <th></th>\n",
       "      <th>id</th>\n",
       "      <th>f0</th>\n",
       "      <th>f1</th>\n",
       "      <th>f2</th>\n",
       "      <th>product</th>\n",
       "    </tr>\n",
       "  </thead>\n",
       "  <tbody>\n",
       "    <tr>\n",
       "      <th>0</th>\n",
       "      <td>txEyH</td>\n",
       "      <td>0.71</td>\n",
       "      <td>-0.50</td>\n",
       "      <td>1.22</td>\n",
       "      <td>105.28</td>\n",
       "    </tr>\n",
       "    <tr>\n",
       "      <th>1</th>\n",
       "      <td>2acmU</td>\n",
       "      <td>1.33</td>\n",
       "      <td>-0.34</td>\n",
       "      <td>4.37</td>\n",
       "      <td>73.04</td>\n",
       "    </tr>\n",
       "    <tr>\n",
       "      <th>2</th>\n",
       "      <td>409Wp</td>\n",
       "      <td>1.02</td>\n",
       "      <td>0.15</td>\n",
       "      <td>1.42</td>\n",
       "      <td>85.27</td>\n",
       "    </tr>\n",
       "    <tr>\n",
       "      <th>3</th>\n",
       "      <td>iJLyR</td>\n",
       "      <td>-0.03</td>\n",
       "      <td>0.14</td>\n",
       "      <td>2.98</td>\n",
       "      <td>168.62</td>\n",
       "    </tr>\n",
       "    <tr>\n",
       "      <th>4</th>\n",
       "      <td>Xdl7t</td>\n",
       "      <td>1.99</td>\n",
       "      <td>0.16</td>\n",
       "      <td>4.75</td>\n",
       "      <td>154.04</td>\n",
       "    </tr>\n",
       "  </tbody>\n",
       "</table>\n",
       "</div>"
      ],
      "text/plain": [
       "      id    f0    f1   f2  product\n",
       "0  txEyH  0.71 -0.50 1.22   105.28\n",
       "1  2acmU  1.33 -0.34 4.37    73.04\n",
       "2  409Wp  1.02  0.15 1.42    85.27\n",
       "3  iJLyR -0.03  0.14 2.98   168.62\n",
       "4  Xdl7t  1.99  0.16 4.75   154.04"
      ]
     },
     "execution_count": 6,
     "metadata": {},
     "output_type": "execute_result"
    }
   ],
   "source": [
    "df1.head()"
   ]
  },
  {
   "cell_type": "code",
   "execution_count": 7,
   "metadata": {},
   "outputs": [
    {
     "data": {
      "text/html": [
       "<div>\n",
       "<style scoped>\n",
       "    .dataframe tbody tr th:only-of-type {\n",
       "        vertical-align: middle;\n",
       "    }\n",
       "\n",
       "    .dataframe tbody tr th {\n",
       "        vertical-align: top;\n",
       "    }\n",
       "\n",
       "    .dataframe thead th {\n",
       "        text-align: right;\n",
       "    }\n",
       "</style>\n",
       "<table border=\"1\" class=\"dataframe\">\n",
       "  <thead>\n",
       "    <tr style=\"text-align: right;\">\n",
       "      <th></th>\n",
       "      <th>id</th>\n",
       "      <th>f0</th>\n",
       "      <th>f1</th>\n",
       "      <th>f2</th>\n",
       "      <th>product</th>\n",
       "    </tr>\n",
       "  </thead>\n",
       "  <tbody>\n",
       "    <tr>\n",
       "      <th>0</th>\n",
       "      <td>kBEdx</td>\n",
       "      <td>-15.00</td>\n",
       "      <td>-8.28</td>\n",
       "      <td>-0.01</td>\n",
       "      <td>3.18</td>\n",
       "    </tr>\n",
       "    <tr>\n",
       "      <th>1</th>\n",
       "      <td>62mP7</td>\n",
       "      <td>14.27</td>\n",
       "      <td>-3.48</td>\n",
       "      <td>1.00</td>\n",
       "      <td>26.95</td>\n",
       "    </tr>\n",
       "    <tr>\n",
       "      <th>2</th>\n",
       "      <td>vyE1P</td>\n",
       "      <td>6.26</td>\n",
       "      <td>-5.95</td>\n",
       "      <td>5.00</td>\n",
       "      <td>134.77</td>\n",
       "    </tr>\n",
       "    <tr>\n",
       "      <th>3</th>\n",
       "      <td>KcrkZ</td>\n",
       "      <td>-13.08</td>\n",
       "      <td>-11.51</td>\n",
       "      <td>5.00</td>\n",
       "      <td>137.95</td>\n",
       "    </tr>\n",
       "    <tr>\n",
       "      <th>4</th>\n",
       "      <td>AHL4O</td>\n",
       "      <td>12.70</td>\n",
       "      <td>-8.15</td>\n",
       "      <td>5.00</td>\n",
       "      <td>134.77</td>\n",
       "    </tr>\n",
       "  </tbody>\n",
       "</table>\n",
       "</div>"
      ],
      "text/plain": [
       "      id     f0     f1    f2  product\n",
       "0  kBEdx -15.00  -8.28 -0.01     3.18\n",
       "1  62mP7  14.27  -3.48  1.00    26.95\n",
       "2  vyE1P   6.26  -5.95  5.00   134.77\n",
       "3  KcrkZ -13.08 -11.51  5.00   137.95\n",
       "4  AHL4O  12.70  -8.15  5.00   134.77"
      ]
     },
     "execution_count": 7,
     "metadata": {},
     "output_type": "execute_result"
    }
   ],
   "source": [
    "df2.head()"
   ]
  },
  {
   "cell_type": "code",
   "execution_count": 8,
   "metadata": {},
   "outputs": [
    {
     "data": {
      "text/html": [
       "<div>\n",
       "<style scoped>\n",
       "    .dataframe tbody tr th:only-of-type {\n",
       "        vertical-align: middle;\n",
       "    }\n",
       "\n",
       "    .dataframe tbody tr th {\n",
       "        vertical-align: top;\n",
       "    }\n",
       "\n",
       "    .dataframe thead th {\n",
       "        text-align: right;\n",
       "    }\n",
       "</style>\n",
       "<table border=\"1\" class=\"dataframe\">\n",
       "  <thead>\n",
       "    <tr style=\"text-align: right;\">\n",
       "      <th></th>\n",
       "      <th>id</th>\n",
       "      <th>f0</th>\n",
       "      <th>f1</th>\n",
       "      <th>f2</th>\n",
       "      <th>product</th>\n",
       "    </tr>\n",
       "  </thead>\n",
       "  <tbody>\n",
       "    <tr>\n",
       "      <th>0</th>\n",
       "      <td>fwXo0</td>\n",
       "      <td>-1.15</td>\n",
       "      <td>0.96</td>\n",
       "      <td>-0.83</td>\n",
       "      <td>27.76</td>\n",
       "    </tr>\n",
       "    <tr>\n",
       "      <th>1</th>\n",
       "      <td>WJtFt</td>\n",
       "      <td>0.26</td>\n",
       "      <td>0.27</td>\n",
       "      <td>-2.53</td>\n",
       "      <td>56.07</td>\n",
       "    </tr>\n",
       "    <tr>\n",
       "      <th>2</th>\n",
       "      <td>ovLUW</td>\n",
       "      <td>0.19</td>\n",
       "      <td>0.29</td>\n",
       "      <td>-5.59</td>\n",
       "      <td>62.87</td>\n",
       "    </tr>\n",
       "    <tr>\n",
       "      <th>3</th>\n",
       "      <td>q6cA6</td>\n",
       "      <td>2.24</td>\n",
       "      <td>-0.55</td>\n",
       "      <td>0.93</td>\n",
       "      <td>114.57</td>\n",
       "    </tr>\n",
       "    <tr>\n",
       "      <th>4</th>\n",
       "      <td>WPMUX</td>\n",
       "      <td>-0.52</td>\n",
       "      <td>1.72</td>\n",
       "      <td>5.90</td>\n",
       "      <td>149.60</td>\n",
       "    </tr>\n",
       "  </tbody>\n",
       "</table>\n",
       "</div>"
      ],
      "text/plain": [
       "      id    f0    f1    f2  product\n",
       "0  fwXo0 -1.15  0.96 -0.83    27.76\n",
       "1  WJtFt  0.26  0.27 -2.53    56.07\n",
       "2  ovLUW  0.19  0.29 -5.59    62.87\n",
       "3  q6cA6  2.24 -0.55  0.93   114.57\n",
       "4  WPMUX -0.52  1.72  5.90   149.60"
      ]
     },
     "execution_count": 8,
     "metadata": {},
     "output_type": "execute_result"
    }
   ],
   "source": [
    "df3.head()"
   ]
  },
  {
   "cell_type": "code",
   "execution_count": 9,
   "metadata": {},
   "outputs": [
    {
     "data": {
      "text/plain": [
       "0"
      ]
     },
     "execution_count": 9,
     "metadata": {},
     "output_type": "execute_result"
    }
   ],
   "source": [
    "# Проверим данные на наличие дубликатов\n",
    "df1.duplicated().sum()"
   ]
  },
  {
   "cell_type": "code",
   "execution_count": 10,
   "metadata": {},
   "outputs": [
    {
     "data": {
      "text/plain": [
       "0"
      ]
     },
     "execution_count": 10,
     "metadata": {},
     "output_type": "execute_result"
    }
   ],
   "source": [
    "df2.duplicated().sum()"
   ]
  },
  {
   "cell_type": "code",
   "execution_count": 11,
   "metadata": {},
   "outputs": [
    {
     "data": {
      "text/plain": [
       "0"
      ]
     },
     "execution_count": 11,
     "metadata": {},
     "output_type": "execute_result"
    }
   ],
   "source": [
    "df3.duplicated().sum()"
   ]
  },
  {
   "cell_type": "code",
   "execution_count": 12,
   "metadata": {},
   "outputs": [
    {
     "data": {
      "text/plain": [
       "id          99990\n",
       "f0         100000\n",
       "f1         100000\n",
       "f2         100000\n",
       "product    100000\n",
       "dtype: int64"
      ]
     },
     "execution_count": 12,
     "metadata": {},
     "output_type": "execute_result"
    }
   ],
   "source": [
    "# проверим данные на уникальность\n",
    "df1.nunique()"
   ]
  },
  {
   "cell_type": "code",
   "execution_count": 13,
   "metadata": {},
   "outputs": [
    {
     "data": {
      "text/plain": [
       "id          99996\n",
       "f0         100000\n",
       "f1         100000\n",
       "f2         100000\n",
       "product        12\n",
       "dtype: int64"
      ]
     },
     "execution_count": 13,
     "metadata": {},
     "output_type": "execute_result"
    }
   ],
   "source": [
    "df2.nunique()"
   ]
  },
  {
   "cell_type": "code",
   "execution_count": 14,
   "metadata": {},
   "outputs": [
    {
     "data": {
      "text/plain": [
       "id          99996\n",
       "f0         100000\n",
       "f1         100000\n",
       "f2         100000\n",
       "product    100000\n",
       "dtype: int64"
      ]
     },
     "execution_count": 14,
     "metadata": {},
     "output_type": "execute_result"
    }
   ],
   "source": [
    "df3.nunique()"
   ]
  },
  {
   "cell_type": "markdown",
   "metadata": {},
   "source": [
    "Есть несколько не уникальных id, но признаки у них разные. Мы не знаем значений признаков, возможно, проводились разные измерения в одних и тех же скважинах. Дубликатов в данных нет."
   ]
  },
  {
   "cell_type": "code",
   "execution_count": 15,
   "metadata": {},
   "outputs": [
    {
     "data": {
      "image/png": "[encoded data removed]",
      "text/plain": [
       "<Figure size 432x288 with 2 Axes>"
      ]
     },
     "metadata": {
      "needs_background": "light"
     },
     "output_type": "display_data"
    },
    {
     "data": {
      "image/png": "[encoded data removed]",
      "text/plain": [
       "<Figure size 432x288 with 2 Axes>"
      ]
     },
     "metadata": {
      "needs_background": "light"
     },
     "output_type": "display_data"
    },
    {
     "data": {
      "image/png": "[encoded data removed]",
      "text/plain": [
       "<Figure size 432x288 with 2 Axes>"
      ]
     },
     "metadata": {
      "needs_background": "light"
     },
     "output_type": "display_data"
    }
   ],
   "source": [
    "# Проверим данные на корреляцию\n",
    "regions = [df1, df2, df3] \n",
    "for i in range(len(regions)):\n",
    "    ax = plt.axes()\n",
    "    sns.heatmap(regions[i].corr(), annot = True)\n",
    "    ax.set_title('region ' + str(i+1))\n",
    "    plt.show()"
   ]
  },
  {
   "cell_type": "markdown",
   "metadata": {},
   "source": [
    "По тепловым диаграммам мы обнаружили высокую корреляцию между признаком f2 и целевым признаком в регионе №2, что говорит о наличии линейной функциональной зависимости. "
   ]
  },
  {
   "cell_type": "markdown",
   "metadata": {},
   "source": [
    "ВЫВОДЫ:  \n",
    "Данные не содеражт ни пропусков, ни дубликатов, поэтому предобработка не нужна. Все датафреймы одинакового размера, что облегчит нам дальнейшую работу. В данных второго региона существует очень высокая корреляция между признаком f2 и продуктом (product), среднеквадратическая ошибка в данном регионе должна быть меньше единицы."
   ]
  },
  {
   "cell_type": "code",
   "execution_count": 16,
   "metadata": {},
   "outputs": [],
   "source": [
    "# проверим данные на мультиколлинеарность\n",
    "#sns.pairplot(data=df1, hue = 'product')\n",
    "#sns.pairplot(data=df2, hue = 'product')\n",
    "#sns.pairplot(data=df3, hue = 'product')"
   ]
  },
  {
   "cell_type": "markdown",
   "metadata": {},
   "source": [
    "Проверку на мультиколлинеарность закомментировала из-за очень длительного выполнения. Оставляю только гистограммы"
   ]
  },
  {
   "cell_type": "code",
   "execution_count": 17,
   "metadata": {
    "scrolled": true
   },
   "outputs": [
    {
     "data": {
      "image/png": "[encoded data removed]",
      "text/plain": [
       "<Figure size 432x288 with 1 Axes>"
      ]
     },
     "metadata": {
      "needs_background": "light"
     },
     "output_type": "display_data"
    }
   ],
   "source": [
    "# распределение целевого признака в первом регионе\n",
    "df1['product'].plot(kind='hist', bins=30, alpha=0.6)\n",
    "plt.show()"
   ]
  },
  {
   "cell_type": "markdown",
   "metadata": {},
   "source": [
    "В первом регионе распределение данных столбца \"product\" имеет 4 больших пика и два поменьше. Можно предположить, что в районе сбора данные есть несколько тысяч перспективных скважин. \n"
   ]
  },
  {
   "cell_type": "code",
   "execution_count": 18,
   "metadata": {},
   "outputs": [
    {
     "data": {
      "image/png": "[encoded data removed]",
      "text/plain": [
       "<Figure size 432x288 with 1 Axes>"
      ]
     },
     "metadata": {
      "needs_background": "light"
     },
     "output_type": "display_data"
    }
   ],
   "source": [
    "# распределение целевого признака во втором регионе\n",
    "df2['product'].plot(kind='hist', bins=30, alpha=0.6)\n",
    "plt.show()"
   ]
  },
  {
   "cell_type": "markdown",
   "metadata": {},
   "source": [
    "По предварительному визуальному осмотру можно предположить, что в регионе\n",
    "есть несколько тысяч перспективных скважин с мощностью более 130 тыс. баррелей."
   ]
  },
  {
   "cell_type": "code",
   "execution_count": 19,
   "metadata": {},
   "outputs": [
    {
     "data": {
      "image/png": "[encoded data removed]",
      "text/plain": [
       "<Figure size 432x288 with 1 Axes>"
      ]
     },
     "metadata": {
      "needs_background": "light"
     },
     "output_type": "display_data"
    }
   ],
   "source": [
    "# распределение целевого признака в третьем регионе\n",
    "df3['product'].plot(kind='hist', bins=30, alpha=0.6)\n",
    "plt.show()"
   ]
  },
  {
   "cell_type": "markdown",
   "metadata": {},
   "source": [
    "По предварительному визуальному осмотру можно предположить, что в регионе есть несколько тысяч перспективных скважин. Распределение целевого признака в первом и третьем регионах похожи."
   ]
  },
  {
   "cell_type": "markdown",
   "metadata": {},
   "source": [
    "## Обучение и проверка модели"
   ]
  },
  {
   "cell_type": "markdown",
   "metadata": {},
   "source": [
    "#### Обучим модель и сделаем предсказания на валидационной выборке"
   ]
  },
  {
   "cell_type": "code",
   "execution_count": 20,
   "metadata": {},
   "outputs": [],
   "source": [
    "def lin_reg_predict(df):\n",
    "    # разобьём датасет на обучающую и целевую выборки\n",
    "    features = df.drop(['id', 'product'], axis=1)\n",
    "    target = df['product']\n",
    "    # разделим обучающую и целевую выборки на тренировочную и валидационную \n",
    "    features_train, features_valid, target_train, target_valid = train_test_split(features, target, \n",
    "                                           test_size=0.25, random_state=state)\n",
    "    \n",
    "    # обучим модель методом линейной регрессии\n",
    "    model = LinearRegression()\n",
    "    model.fit(features_train, target_train)\n",
    "    predictions = model.predict(features_valid)\n",
    "    \n",
    "    # посчитаем rmse и среднюю предсказанного сырья\n",
    "    mse = mean_squared_error(target_valid, predictions)\n",
    "    rmse = mse**0.5\n",
    "    mean = predictions.mean()\n",
    "    return mean, rmse, target_valid, predictions"
   ]
  },
  {
   "cell_type": "markdown",
   "metadata": {},
   "source": [
    "#### Найдем средний запас предсказанного сырья для каждого региона и RMSE модели"
   ]
  },
  {
   "cell_type": "code",
   "execution_count": 21,
   "metadata": {},
   "outputs": [
    {
     "name": "stdout",
     "output_type": "stream",
     "text": [
      "Среднее: 92.59256778438035 RMSE: 37.5794217150813\n"
     ]
    }
   ],
   "source": [
    "mean, rmse, target_valid, predictions = lin_reg_predict(df1)\n",
    "print('Среднее:', mean, 'RMSE:', rmse)"
   ]
  },
  {
   "cell_type": "code",
   "execution_count": 22,
   "metadata": {},
   "outputs": [
    {
     "name": "stdout",
     "output_type": "stream",
     "text": [
      "Среднее: 68.76995145799754 RMSE: 0.889736773768065\n"
     ]
    }
   ],
   "source": [
    "mean, rmse, target_valid, predictions = lin_reg_predict(df2)\n",
    "print('Среднее:', mean, 'RMSE:', rmse)"
   ]
  },
  {
   "cell_type": "code",
   "execution_count": 23,
   "metadata": {},
   "outputs": [
    {
     "name": "stdout",
     "output_type": "stream",
     "text": [
      "Среднее: 95.087528122523 RMSE: 39.958042459521614\n"
     ]
    }
   ],
   "source": [
    "mean, rmse, target_valid, predictions = lin_reg_predict(df3)\n",
    "print('Среднее:', mean, 'RMSE:', rmse)"
   ]
  },
  {
   "cell_type": "markdown",
   "metadata": {},
   "source": [
    "ВЫВОДЫ:  \n",
    "В регионе №1. Средний запас предсказанного сырья: 92.593 тыс.баррелей, RMSE = 37.5794;  \n",
    "В регионе №2. Средний запас предсказанного сырья: 68.770 тыс.баррелей, RMSE = 0.8897;  \n",
    "В регионе №3. Средний запас предсказанного сырья: 95.088 тыс.баррелей, RMSE = 39.9580 "
   ]
  },
  {
   "cell_type": "markdown",
   "metadata": {},
   "source": [
    "## Подготовка к расчёту прибыли"
   ]
  },
  {
   "cell_type": "markdown",
   "metadata": {},
   "source": [
    "ВВОДНЫЕ ДАННЫЕ ДЛЯ РСЧЕТА ПРИБЫЛИ:  \n",
    "\n",
    "•\tПри разведке региона исследуют 500 точек, из которых с помощью машинного обучения выбирают 200 лучших для разработки.  \n",
    "•\tБюджет на разработку скважин в регионе — 10 млрд рублей.  \n",
    "•\tПри нынешних ценах один баррель сырья приносит 450 рублей дохода. Доход с каждой единицы продукта составляет 450 тыс. рублей, поскольку объём указан в тысячах баррелей. "
   ]
  },
  {
   "cell_type": "code",
   "execution_count": 24,
   "metadata": {},
   "outputs": [],
   "source": [
    "# Сохраняем ключевые значения для расчетов\n",
    "reg_budget = 10_000_000_000 # Бюджет на разработку скважин в регионе\n",
    "one_barrel_income = 450  # Доход с одного барреля сырья \n",
    "income_per_unit = 450_000 # Доход с каждой единицы продукта \n",
    "wells_count = 200 # Количество лучших шахт для расчета прибыли"
   ]
  },
  {
   "cell_type": "code",
   "execution_count": 25,
   "metadata": {},
   "outputs": [
    {
     "data": {
      "text/plain": [
       "50000000.0"
      ]
     },
     "execution_count": 25,
     "metadata": {},
     "output_type": "execute_result"
    }
   ],
   "source": [
    "# рассчитаем цену одной скважины\n",
    "price_one_well = reg_budget / wells_count \n",
    "price_one_well"
   ]
  },
  {
   "cell_type": "code",
   "execution_count": 26,
   "metadata": {},
   "outputs": [
    {
     "data": {
      "text/plain": [
       "111.11"
      ]
     },
     "execution_count": 26,
     "metadata": {},
     "output_type": "execute_result"
    }
   ],
   "source": [
    "# Рассчитываем достаточный объём сырья для безубыточной разработки новой скважины\n",
    "reg_development = reg_budget/income_per_unit\n",
    "sufficient_volume = reg_development / wells_count\n",
    "round(sufficient_volume,2)"
   ]
  },
  {
   "cell_type": "markdown",
   "metadata": {},
   "source": [
    "ВЫВОДЫ:  \n",
    "При существующем уровне цен в 450 тыс.руб. за тыс.баррелей, безубыточная добыча начинается со скважин с запасом в 111,11 тыс.баррелей. По предсказаниям в среднем такого объема нет ни в одном регионе.  \n",
    "\n",
    "Средний предсказанный запас сырья в регионе 1 меньше объёма достаточного для безубыточной разработки на 16.66%\n",
    "Средний предсказанный запас сырья в регионе 2 меньше объёма достаточного для безубыточной разработки на 38.01%\n",
    "Средний предсказанный запас сырья в регионе 3 меньше объёма достаточного для безубыточной разработки на 14.42% \n",
    "\n",
    "Ближе всего к необходимому количеству предсказанные запасы в регионе №3, меньше всего предсказанных запасов в регионе №2."
   ]
  },
  {
   "cell_type": "markdown",
   "metadata": {},
   "source": [
    "## Расчёт прибыли и рисков "
   ]
  },
  {
   "cell_type": "markdown",
   "metadata": {},
   "source": [
    "#### Функция для расчета прибыли по выбранным скважинам и предсказаниям модели"
   ]
  },
  {
   "cell_type": "code",
   "execution_count": 27,
   "metadata": {},
   "outputs": [],
   "source": [
    "def revenue(target, predictions, count):\n",
    "    # рассчитаем прибыль от 200 скважин\n",
    "    target = target.reset_index(drop=True)\n",
    "    predictions = pd.Series(predictions).sort_values(ascending=False)[:count].index\n",
    "    selected = target[predictions]\n",
    "    revenue = selected.sum() * income_per_unit - reg_budget\n",
    "    return round(revenue, 2)"
   ]
  },
  {
   "cell_type": "code",
   "execution_count": 28,
   "metadata": {},
   "outputs": [
    {
     "data": {
      "text/plain": [
       "3333004211.95"
      ]
     },
     "execution_count": 28,
     "metadata": {},
     "output_type": "execute_result"
    }
   ],
   "source": [
    "mean, rmse, target_valid, predictions = lin_reg_predict(df1)\n",
    "revenue(target_valid, predictions, wells_count)"
   ]
  },
  {
   "cell_type": "code",
   "execution_count": 29,
   "metadata": {},
   "outputs": [
    {
     "data": {
      "text/plain": [
       "2415086696.68"
      ]
     },
     "execution_count": 29,
     "metadata": {},
     "output_type": "execute_result"
    }
   ],
   "source": [
    "mean, rmse, target_valid, predictions = lin_reg_predict(df2)\n",
    "revenue(target_valid, predictions, wells_count)"
   ]
  },
  {
   "cell_type": "code",
   "execution_count": 30,
   "metadata": {},
   "outputs": [
    {
     "data": {
      "text/plain": [
       "2697494877.9"
      ]
     },
     "execution_count": 30,
     "metadata": {},
     "output_type": "execute_result"
    }
   ],
   "source": [
    "mean, rmse, target_valid, predictions = lin_reg_predict(df3)\n",
    "revenue(target_valid, predictions, wells_count)"
   ]
  },
  {
   "cell_type": "markdown",
   "metadata": {},
   "source": [
    "ВЫВОДЫ:  \n",
    "Прибыль для полученного объёма сырья региона №1: 3.3948 млрд.руб.  \n",
    "Прибыль для полученного объёма сырья региона №2: 2.4151 млрд.руб.  \n",
    "Прибыль для полученного объёма сырья региона №3: 2.6975 млрд.руб.  "
   ]
  },
  {
   "cell_type": "markdown",
   "metadata": {},
   "source": [
    "## Расчёт прибыли и рисков"
   ]
  },
  {
   "cell_type": "code",
   "execution_count": 31,
   "metadata": {},
   "outputs": [],
   "source": [
    "def boot(target, predictions):\n",
    "    state = np.random.RandomState(12345)\n",
    "    values = []\n",
    "    for i in range(1000):\n",
    "        target = target.reset_index(drop=True)\n",
    "        target_subsample = target.sample(n=500, random_state=state, replace=True)\n",
    "        probs_subsample = predictions[target_subsample.index]\n",
    "        values.append(revenue(target_subsample, probs_subsample, wells_count))\n",
    "\n",
    "    values = pd.Series(values)\n",
    "    mean = values.mean()\n",
    "    risk = (values < 0).mean()\n",
    "    \n",
    "    lower = values.quantile(0.025)\n",
    "    upper = values.quantile(0.975)\n",
    "    quantile_interval = (lower, upper)\n",
    "    \n",
    "    return round(mean,2), round(risk*100, 2), quantile_interval"
   ]
  },
  {
   "cell_type": "code",
   "execution_count": 32,
   "metadata": {},
   "outputs": [
    {
     "name": "stdout",
     "output_type": "stream",
     "text": [
      "Средняя прибыль первого региона: 437996403.61 Риск убытков: 4.5 Доверительный интервал: (-69611413.64975, 983858547.1804999)\n"
     ]
    }
   ],
   "source": [
    "mean, rmse, target_valid, predictions = lin_reg_predict(df1)\n",
    "mean, risk, quantile_interval = boot(target_valid, predictions) \n",
    "print('Средняя прибыль первого региона:', mean, 'Риск убытков:', risk, 'Доверительный интервал:', quantile_interval)"
   ]
  },
  {
   "cell_type": "code",
   "execution_count": 33,
   "metadata": {},
   "outputs": [
    {
     "name": "stdout",
     "output_type": "stream",
     "text": [
      "Средняя прибыль первого региона: 456746346.71 Риск убытков: 1.5 Доверительный интервал: (63169500.666, 864622125.7844999)\n"
     ]
    }
   ],
   "source": [
    "mean, rmse, target_valid, predictions = lin_reg_predict(df2)\n",
    "mean, risk, quantile_interval = boot(target_valid, predictions) \n",
    "print('Средняя прибыль первого региона:', mean, 'Риск убытков:', risk, 'Доверительный интервал:', quantile_interval)"
   ]
  },
  {
   "cell_type": "code",
   "execution_count": 34,
   "metadata": {},
   "outputs": [
    {
     "name": "stdout",
     "output_type": "stream",
     "text": [
      "Средняя прибыль первого региона: 401652865.59 Риск убытков: 8.1 Доверительный интервал: (-156895913.91474998, 917469491.1682498)\n"
     ]
    }
   ],
   "source": [
    "mean, rmse, target_valid, predictions = lin_reg_predict(df3)\n",
    "mean, risk, quantile_interval = boot(target_valid, predictions) \n",
    "print('Средняя прибыль первого региона:', mean, 'Риск убытков:', risk, 'Доверительный интервал:', quantile_interval)"
   ]
  },
  {
   "cell_type": "markdown",
   "metadata": {},
   "source": [
    "ВЫВОДЫ: \n",
    "\n",
    "* Регион №1:  \n",
    "Средняя прибыль 437996403.61  \n",
    "Доверительный интервал (-69611413.64975, 983858547.1804999)  \n",
    "Риск убытков: 4.5%\n",
    "\n",
    "* Регион №2:  \n",
    "Средняя прибыль 456746346.71  \n",
    "Доверительный интервал (63169500.666, 864622125.7844999)  \n",
    "Риск убытков: 1.5%\n",
    "\n",
    "* Регион №3:  \n",
    "Средняя прибыль 401652865.59  \n",
    "Доверительный интервал (-156895913.91474998, 917469491.1682498)  \n",
    "Риск убытков: 8.1%"
   ]
  },
  {
   "cell_type": "markdown",
   "metadata": {},
   "source": [
    "**ОБЩИЙ ВЫВОД**  \n",
    "\n",
    "В результате проведенного исследования имеющихся данных по трем регионам методом линейной регрессии для каждого региона мы сравнили средний запас редсказанного сырья и RMSE модели. Средний запас предсказанного сырья во всех регионах ниже достаточного для точки безубыточности. Из этого можно сделать вывод, что у в каждом регионе будут риски убытков.  \n",
    "Наибольшее значение прибыли для полученного объёма сырья в 3.4337 млрд.руб. получено в регионе №1.  \n",
    "Согласно прогнозам, сделанным с помощью техники Bootstrap, в регионе №2 самые высокие показатели средней прибыли и 95%-ного доверительного интервала. Также в регионе №2 самый низкий риск убытков. Согласно стратегии risk avoidance наиболее прибыльным будет разработка месторождений в регионе №2."
   ]
  }
 ],
 "metadata": {
  "ExecuteTimeLog": [
   {
    "duration": 55,
    "start_time": "2022-11-08T10:10:51.772Z"
   },
   {
    "duration": 1610,
    "start_time": "2022-11-08T10:11:02.318Z"
   },
   {
    "duration": 128,
    "start_time": "2022-11-08T10:13:11.967Z"
   },
   {
    "duration": 1418,
    "start_time": "2022-11-08T10:13:36.477Z"
   },
   {
    "duration": 19,
    "start_time": "2022-11-08T10:14:52.011Z"
   },
   {
    "duration": 3,
    "start_time": "2022-11-08T10:16:15.393Z"
   },
   {
    "duration": 9,
    "start_time": "2022-11-08T10:18:25.907Z"
   },
   {
    "duration": 5,
    "start_time": "2022-11-08T10:19:32.155Z"
   },
   {
    "duration": 4,
    "start_time": "2022-11-08T10:24:45.330Z"
   },
   {
    "duration": 15,
    "start_time": "2022-11-08T10:25:01.415Z"
   },
   {
    "duration": 19,
    "start_time": "2022-11-08T10:25:27.489Z"
   },
   {
    "duration": 14,
    "start_time": "2022-11-08T10:27:20.077Z"
   },
   {
    "duration": 13,
    "start_time": "2022-11-08T10:27:32.823Z"
   },
   {
    "duration": 9,
    "start_time": "2022-11-08T10:27:44.193Z"
   },
   {
    "duration": 12,
    "start_time": "2022-11-08T10:28:04.222Z"
   },
   {
    "duration": 11,
    "start_time": "2022-11-08T10:28:12.755Z"
   },
   {
    "duration": 46,
    "start_time": "2022-11-08T10:45:46.648Z"
   },
   {
    "duration": 39,
    "start_time": "2022-11-08T10:45:57.691Z"
   },
   {
    "duration": 49,
    "start_time": "2022-11-08T10:46:06.774Z"
   },
   {
    "duration": 122,
    "start_time": "2022-11-08T10:46:42.895Z"
   },
   {
    "duration": 43,
    "start_time": "2022-11-08T10:46:51.402Z"
   },
   {
    "duration": 13,
    "start_time": "2022-11-08T10:48:42.138Z"
   },
   {
    "duration": 51,
    "start_time": "2022-11-08T10:49:49.910Z"
   },
   {
    "duration": 40,
    "start_time": "2022-11-08T10:50:44.889Z"
   },
   {
    "duration": 10,
    "start_time": "2022-11-08T10:51:15.641Z"
   },
   {
    "duration": 56,
    "start_time": "2022-11-08T10:51:47.479Z"
   },
   {
    "duration": 46,
    "start_time": "2022-11-08T11:06:03.464Z"
   },
   {
    "duration": 45,
    "start_time": "2022-11-08T11:06:21.412Z"
   },
   {
    "duration": 44,
    "start_time": "2022-11-08T11:06:38.369Z"
   },
   {
    "duration": 21,
    "start_time": "2022-11-08T12:31:38.503Z"
   },
   {
    "duration": 10,
    "start_time": "2022-11-08T12:54:31.648Z"
   },
   {
    "duration": 1362,
    "start_time": "2022-11-08T12:54:39.982Z"
   },
   {
    "duration": 370,
    "start_time": "2022-11-08T12:54:41.346Z"
   },
   {
    "duration": 17,
    "start_time": "2022-11-08T12:54:41.718Z"
   },
   {
    "duration": 20,
    "start_time": "2022-11-08T12:54:41.737Z"
   },
   {
    "duration": 14,
    "start_time": "2022-11-08T12:54:41.759Z"
   },
   {
    "duration": 12,
    "start_time": "2022-11-08T12:54:41.775Z"
   },
   {
    "duration": 9,
    "start_time": "2022-11-08T12:54:41.789Z"
   },
   {
    "duration": 51,
    "start_time": "2022-11-08T12:54:41.799Z"
   },
   {
    "duration": 53,
    "start_time": "2022-11-08T12:54:41.852Z"
   },
   {
    "duration": 70,
    "start_time": "2022-11-08T12:54:41.908Z"
   },
   {
    "duration": 54,
    "start_time": "2022-11-08T12:54:41.981Z"
   },
   {
    "duration": 65,
    "start_time": "2022-11-08T12:54:42.045Z"
   },
   {
    "duration": 56,
    "start_time": "2022-11-08T12:54:42.112Z"
   },
   {
    "duration": 46,
    "start_time": "2022-11-08T12:54:42.169Z"
   },
   {
    "duration": 963,
    "start_time": "2022-11-08T12:54:42.217Z"
   },
   {
    "duration": 127,
    "start_time": "2022-11-08T12:54:43.182Z"
   },
   {
    "duration": 1014,
    "start_time": "2022-11-08T12:57:32.819Z"
   },
   {
    "duration": 10,
    "start_time": "2022-11-08T13:27:07.516Z"
   },
   {
    "duration": 1760,
    "start_time": "2022-11-10T10:17:25.112Z"
   },
   {
    "duration": 960,
    "start_time": "2022-11-10T10:17:26.875Z"
   },
   {
    "duration": 20,
    "start_time": "2022-11-10T10:17:27.837Z"
   },
   {
    "duration": 37,
    "start_time": "2022-11-10T10:17:27.859Z"
   },
   {
    "duration": 16,
    "start_time": "2022-11-10T10:17:27.900Z"
   },
   {
    "duration": 33,
    "start_time": "2022-11-10T10:17:27.918Z"
   },
   {
    "duration": 22,
    "start_time": "2022-11-10T10:17:27.953Z"
   },
   {
    "duration": 35,
    "start_time": "2022-11-10T10:17:27.977Z"
   },
   {
    "duration": 68,
    "start_time": "2022-11-10T10:17:28.014Z"
   },
   {
    "duration": 59,
    "start_time": "2022-11-10T10:17:28.084Z"
   },
   {
    "duration": 53,
    "start_time": "2022-11-10T10:17:28.145Z"
   },
   {
    "duration": 77,
    "start_time": "2022-11-10T10:17:28.200Z"
   },
   {
    "duration": 63,
    "start_time": "2022-11-10T10:17:28.278Z"
   },
   {
    "duration": 58,
    "start_time": "2022-11-10T10:17:28.344Z"
   },
   {
    "duration": 1166,
    "start_time": "2022-11-10T10:17:28.404Z"
   },
   {
    "duration": 5,
    "start_time": "2022-11-10T10:17:29.572Z"
   },
   {
    "duration": 128,
    "start_time": "2022-11-10T10:18:23.779Z"
   },
   {
    "duration": 5,
    "start_time": "2022-11-10T10:26:10.857Z"
   },
   {
    "duration": 183,
    "start_time": "2022-11-10T10:26:18.666Z"
   },
   {
    "duration": 5,
    "start_time": "2022-11-10T10:26:54.749Z"
   },
   {
    "duration": 90,
    "start_time": "2022-11-10T10:26:58.151Z"
   },
   {
    "duration": 29,
    "start_time": "2022-11-10T10:27:32.030Z"
   },
   {
    "duration": 29,
    "start_time": "2022-11-10T10:27:42.809Z"
   },
   {
    "duration": 15,
    "start_time": "2022-11-10T10:37:16.858Z"
   },
   {
    "duration": 5,
    "start_time": "2022-11-10T10:37:31.584Z"
   },
   {
    "duration": 4,
    "start_time": "2022-11-10T10:37:34.896Z"
   },
   {
    "duration": 1621,
    "start_time": "2022-11-10T10:37:40.770Z"
   },
   {
    "duration": 433,
    "start_time": "2022-11-10T10:37:42.393Z"
   },
   {
    "duration": 27,
    "start_time": "2022-11-10T10:37:42.829Z"
   },
   {
    "duration": 17,
    "start_time": "2022-11-10T10:37:42.859Z"
   },
   {
    "duration": 27,
    "start_time": "2022-11-10T10:37:42.880Z"
   },
   {
    "duration": 36,
    "start_time": "2022-11-10T10:37:42.909Z"
   },
   {
    "duration": 11,
    "start_time": "2022-11-10T10:37:42.947Z"
   },
   {
    "duration": 12,
    "start_time": "2022-11-10T10:37:42.959Z"
   },
   {
    "duration": 80,
    "start_time": "2022-11-10T10:37:42.973Z"
   },
   {
    "duration": 48,
    "start_time": "2022-11-10T10:37:43.055Z"
   },
   {
    "duration": 68,
    "start_time": "2022-11-10T10:37:43.105Z"
   },
   {
    "duration": 81,
    "start_time": "2022-11-10T10:37:43.175Z"
   },
   {
    "duration": 48,
    "start_time": "2022-11-10T10:37:43.258Z"
   },
   {
    "duration": 74,
    "start_time": "2022-11-10T10:37:43.308Z"
   },
   {
    "duration": 1085,
    "start_time": "2022-11-10T10:37:43.384Z"
   },
   {
    "duration": 5,
    "start_time": "2022-11-10T10:37:44.472Z"
   },
   {
    "duration": 68,
    "start_time": "2022-11-10T10:37:44.479Z"
   },
   {
    "duration": 190,
    "start_time": "2022-11-10T10:37:44.550Z"
   },
   {
    "duration": 114,
    "start_time": "2022-11-10T10:37:44.743Z"
   },
   {
    "duration": 5,
    "start_time": "2022-11-10T10:37:44.859Z"
   },
   {
    "duration": 204,
    "start_time": "2022-11-10T10:37:44.950Z"
   },
   {
    "duration": 5,
    "start_time": "2022-11-10T10:38:25.346Z"
   },
   {
    "duration": 5,
    "start_time": "2022-11-10T10:39:17.601Z"
   },
   {
    "duration": 5,
    "start_time": "2022-11-10T10:39:26.499Z"
   },
   {
    "duration": 6,
    "start_time": "2022-11-10T10:44:38.680Z"
   },
   {
    "duration": 14,
    "start_time": "2022-11-10T10:45:28.952Z"
   },
   {
    "duration": 12,
    "start_time": "2022-11-10T11:11:58.923Z"
   },
   {
    "duration": 1557,
    "start_time": "2022-11-10T11:12:10.693Z"
   },
   {
    "duration": 461,
    "start_time": "2022-11-10T11:12:12.252Z"
   },
   {
    "duration": 26,
    "start_time": "2022-11-10T11:12:12.715Z"
   },
   {
    "duration": 17,
    "start_time": "2022-11-10T11:12:12.743Z"
   },
   {
    "duration": 16,
    "start_time": "2022-11-10T11:12:12.762Z"
   },
   {
    "duration": 14,
    "start_time": "2022-11-10T11:12:12.780Z"
   },
   {
    "duration": 43,
    "start_time": "2022-11-10T11:12:12.796Z"
   },
   {
    "duration": 13,
    "start_time": "2022-11-10T11:12:12.842Z"
   },
   {
    "duration": 92,
    "start_time": "2022-11-10T11:12:12.857Z"
   },
   {
    "duration": 62,
    "start_time": "2022-11-10T11:12:12.953Z"
   },
   {
    "duration": 65,
    "start_time": "2022-11-10T11:12:13.018Z"
   },
   {
    "duration": 71,
    "start_time": "2022-11-10T11:12:13.085Z"
   },
   {
    "duration": 49,
    "start_time": "2022-11-10T11:12:13.158Z"
   },
   {
    "duration": 73,
    "start_time": "2022-11-10T11:12:13.209Z"
   },
   {
    "duration": 1129,
    "start_time": "2022-11-10T11:12:13.284Z"
   },
   {
    "duration": 6,
    "start_time": "2022-11-10T11:12:14.415Z"
   },
   {
    "duration": 118,
    "start_time": "2022-11-10T11:12:14.423Z"
   },
   {
    "duration": 123,
    "start_time": "2022-11-10T11:12:14.544Z"
   },
   {
    "duration": 123,
    "start_time": "2022-11-10T11:12:14.738Z"
   },
   {
    "duration": 76,
    "start_time": "2022-11-10T11:12:14.863Z"
   },
   {
    "duration": 100,
    "start_time": "2022-11-10T11:12:14.942Z"
   },
   {
    "duration": 115,
    "start_time": "2022-11-10T11:12:15.047Z"
   },
   {
    "duration": 10,
    "start_time": "2022-11-10T11:59:14.734Z"
   },
   {
    "duration": 1497,
    "start_time": "2022-11-10T11:59:22.998Z"
   },
   {
    "duration": 405,
    "start_time": "2022-11-10T11:59:24.497Z"
   },
   {
    "duration": 18,
    "start_time": "2022-11-10T11:59:24.903Z"
   },
   {
    "duration": 26,
    "start_time": "2022-11-10T11:59:24.922Z"
   },
   {
    "duration": 15,
    "start_time": "2022-11-10T11:59:24.950Z"
   },
   {
    "duration": 14,
    "start_time": "2022-11-10T11:59:24.967Z"
   },
   {
    "duration": 10,
    "start_time": "2022-11-10T11:59:24.983Z"
   },
   {
    "duration": 44,
    "start_time": "2022-11-10T11:59:24.995Z"
   },
   {
    "duration": 52,
    "start_time": "2022-11-10T11:59:25.042Z"
   },
   {
    "duration": 65,
    "start_time": "2022-11-10T11:59:25.095Z"
   },
   {
    "duration": 47,
    "start_time": "2022-11-10T11:59:25.162Z"
   },
   {
    "duration": 68,
    "start_time": "2022-11-10T11:59:25.211Z"
   },
   {
    "duration": 58,
    "start_time": "2022-11-10T11:59:25.280Z"
   },
   {
    "duration": 50,
    "start_time": "2022-11-10T11:59:25.340Z"
   },
   {
    "duration": 1049,
    "start_time": "2022-11-10T11:59:25.391Z"
   },
   {
    "duration": 5,
    "start_time": "2022-11-10T11:59:26.442Z"
   },
   {
    "duration": 33,
    "start_time": "2022-11-10T11:59:26.449Z"
   },
   {
    "duration": 124,
    "start_time": "2022-11-10T11:59:26.542Z"
   },
   {
    "duration": 123,
    "start_time": "2022-11-10T11:59:26.738Z"
   },
   {
    "duration": 75,
    "start_time": "2022-11-10T11:59:26.864Z"
   },
   {
    "duration": 99,
    "start_time": "2022-11-10T11:59:26.942Z"
   },
   {
    "duration": 130,
    "start_time": "2022-11-10T11:59:27.043Z"
   },
   {
    "duration": 2,
    "start_time": "2022-11-10T12:00:05.360Z"
   },
   {
    "duration": 3,
    "start_time": "2022-11-10T12:02:18.580Z"
   },
   {
    "duration": 4,
    "start_time": "2022-11-10T12:02:33.478Z"
   },
   {
    "duration": 5,
    "start_time": "2022-11-10T12:11:14.338Z"
   },
   {
    "duration": 11,
    "start_time": "2022-11-10T12:14:43.366Z"
   },
   {
    "duration": 5,
    "start_time": "2022-11-10T12:46:55.676Z"
   },
   {
    "duration": 1629,
    "start_time": "2022-11-10T12:47:17.712Z"
   },
   {
    "duration": 408,
    "start_time": "2022-11-10T12:47:19.342Z"
   },
   {
    "duration": 17,
    "start_time": "2022-11-10T12:47:19.752Z"
   },
   {
    "duration": 16,
    "start_time": "2022-11-10T12:47:19.771Z"
   },
   {
    "duration": 15,
    "start_time": "2022-11-10T12:47:19.789Z"
   },
   {
    "duration": 46,
    "start_time": "2022-11-10T12:47:19.807Z"
   },
   {
    "duration": 13,
    "start_time": "2022-11-10T12:47:19.855Z"
   },
   {
    "duration": 14,
    "start_time": "2022-11-10T12:47:19.870Z"
   },
   {
    "duration": 73,
    "start_time": "2022-11-10T12:47:19.886Z"
   },
   {
    "duration": 65,
    "start_time": "2022-11-10T12:47:19.962Z"
   },
   {
    "duration": 57,
    "start_time": "2022-11-10T12:47:20.037Z"
   },
   {
    "duration": 68,
    "start_time": "2022-11-10T12:47:20.095Z"
   },
   {
    "duration": 48,
    "start_time": "2022-11-10T12:47:20.164Z"
   },
   {
    "duration": 66,
    "start_time": "2022-11-10T12:47:20.214Z"
   },
   {
    "duration": 1001,
    "start_time": "2022-11-10T12:47:20.284Z"
   },
   {
    "duration": 4,
    "start_time": "2022-11-10T12:47:21.287Z"
   },
   {
    "duration": 45,
    "start_time": "2022-11-10T12:47:21.293Z"
   },
   {
    "duration": 299,
    "start_time": "2022-11-10T12:47:21.341Z"
   },
   {
    "duration": 118,
    "start_time": "2022-11-10T12:47:21.646Z"
   },
   {
    "duration": 73,
    "start_time": "2022-11-10T12:47:21.766Z"
   },
   {
    "duration": 99,
    "start_time": "2022-11-10T12:47:21.847Z"
   },
   {
    "duration": 15,
    "start_time": "2022-11-10T12:47:21.948Z"
   },
   {
    "duration": 15,
    "start_time": "2022-11-10T12:47:21.965Z"
   },
   {
    "duration": 8,
    "start_time": "2022-11-10T12:47:21.982Z"
   },
   {
    "duration": 119,
    "start_time": "2022-11-10T12:47:21.992Z"
   },
   {
    "duration": 5,
    "start_time": "2022-11-10T12:47:33.711Z"
   },
   {
    "duration": 82,
    "start_time": "2022-11-10T12:48:07.564Z"
   },
   {
    "duration": 5,
    "start_time": "2022-11-10T12:48:39.892Z"
   },
   {
    "duration": 33,
    "start_time": "2022-11-10T12:48:44.294Z"
   },
   {
    "duration": 5,
    "start_time": "2022-11-10T12:50:34.547Z"
   },
   {
    "duration": 99,
    "start_time": "2022-11-10T12:50:38.040Z"
   },
   {
    "duration": 5,
    "start_time": "2022-11-10T12:53:50.620Z"
   },
   {
    "duration": 27,
    "start_time": "2022-11-10T12:53:52.154Z"
   },
   {
    "duration": 10,
    "start_time": "2022-11-10T12:54:21.417Z"
   },
   {
    "duration": 6,
    "start_time": "2022-11-10T13:01:42.864Z"
   },
   {
    "duration": 5,
    "start_time": "2022-11-10T13:03:21.333Z"
   },
   {
    "duration": 4,
    "start_time": "2022-11-10T13:03:51.050Z"
   },
   {
    "duration": 45,
    "start_time": "2022-11-10T13:05:08.593Z"
   },
   {
    "duration": 24,
    "start_time": "2022-11-10T13:05:13.475Z"
   },
   {
    "duration": 21,
    "start_time": "2022-11-10T13:05:17.155Z"
   },
   {
    "duration": 11,
    "start_time": "2022-11-10T13:07:20.840Z"
   },
   {
    "duration": 6,
    "start_time": "2022-11-10T13:09:42.940Z"
   },
   {
    "duration": 218,
    "start_time": "2022-11-10T13:09:46.230Z"
   },
   {
    "duration": 81,
    "start_time": "2022-11-10T13:13:42.371Z"
   },
   {
    "duration": 6,
    "start_time": "2022-11-10T13:13:49.162Z"
   },
   {
    "duration": 120,
    "start_time": "2022-11-10T13:13:55.127Z"
   },
   {
    "duration": 8,
    "start_time": "2022-11-10T13:14:46.059Z"
   },
   {
    "duration": 64,
    "start_time": "2022-11-10T13:14:51.183Z"
   },
   {
    "duration": 35,
    "start_time": "2022-11-10T13:16:01.542Z"
   },
   {
    "duration": 35,
    "start_time": "2022-11-10T13:16:15.839Z"
   },
   {
    "duration": 6,
    "start_time": "2022-11-10T13:28:35.120Z"
   },
   {
    "duration": 43,
    "start_time": "2022-11-10T13:28:38.698Z"
   },
   {
    "duration": 37,
    "start_time": "2022-11-10T13:28:42.099Z"
   },
   {
    "duration": 90,
    "start_time": "2022-11-10T13:28:46.347Z"
   },
   {
    "duration": 1551,
    "start_time": "2022-11-10T13:28:59.979Z"
   },
   {
    "duration": 426,
    "start_time": "2022-11-10T13:29:01.533Z"
   },
   {
    "duration": 22,
    "start_time": "2022-11-10T13:29:01.961Z"
   },
   {
    "duration": 21,
    "start_time": "2022-11-10T13:29:01.987Z"
   },
   {
    "duration": 41,
    "start_time": "2022-11-10T13:29:02.010Z"
   },
   {
    "duration": 13,
    "start_time": "2022-11-10T13:29:02.053Z"
   },
   {
    "duration": 14,
    "start_time": "2022-11-10T13:29:02.068Z"
   },
   {
    "duration": 14,
    "start_time": "2022-11-10T13:29:02.083Z"
   },
   {
    "duration": 78,
    "start_time": "2022-11-10T13:29:02.099Z"
   },
   {
    "duration": 63,
    "start_time": "2022-11-10T13:29:02.180Z"
   },
   {
    "duration": 53,
    "start_time": "2022-11-10T13:29:02.245Z"
   },
   {
    "duration": 76,
    "start_time": "2022-11-10T13:29:02.300Z"
   },
   {
    "duration": 61,
    "start_time": "2022-11-10T13:29:02.378Z"
   },
   {
    "duration": 52,
    "start_time": "2022-11-10T13:29:02.440Z"
   },
   {
    "duration": 1078,
    "start_time": "2022-11-10T13:29:02.493Z"
   },
   {
    "duration": 4,
    "start_time": "2022-11-10T13:29:03.573Z"
   },
   {
    "duration": 70,
    "start_time": "2022-11-10T13:29:03.579Z"
   },
   {
    "duration": 101,
    "start_time": "2022-11-10T13:29:03.737Z"
   },
   {
    "duration": 127,
    "start_time": "2022-11-10T13:29:03.841Z"
   },
   {
    "duration": 7,
    "start_time": "2022-11-10T13:29:04.038Z"
   },
   {
    "duration": 130,
    "start_time": "2022-11-10T13:29:04.048Z"
   },
   {
    "duration": 56,
    "start_time": "2022-11-10T13:29:04.185Z"
   },
   {
    "duration": 101,
    "start_time": "2022-11-10T13:29:04.244Z"
   },
   {
    "duration": 8,
    "start_time": "2022-11-10T13:29:04.347Z"
   },
   {
    "duration": 9,
    "start_time": "2022-11-10T13:29:04.356Z"
   },
   {
    "duration": 12,
    "start_time": "2022-11-10T13:29:04.367Z"
   },
   {
    "duration": 8,
    "start_time": "2022-11-10T13:29:04.380Z"
   },
   {
    "duration": 47,
    "start_time": "2022-11-10T13:29:04.393Z"
   },
   {
    "duration": 201,
    "start_time": "2022-11-10T13:29:04.443Z"
   },
   {
    "duration": 122,
    "start_time": "2022-11-10T13:29:04.646Z"
   },
   {
    "duration": 10,
    "start_time": "2022-11-10T13:29:04.838Z"
   },
   {
    "duration": 7,
    "start_time": "2022-11-10T13:50:20.142Z"
   },
   {
    "duration": 123,
    "start_time": "2022-11-10T14:09:17.231Z"
   },
   {
    "duration": 9,
    "start_time": "2022-11-10T14:24:28.327Z"
   },
   {
    "duration": 162,
    "start_time": "2022-11-10T14:24:31.598Z"
   },
   {
    "duration": 7,
    "start_time": "2022-11-10T14:30:28.307Z"
   },
   {
    "duration": 116,
    "start_time": "2022-11-10T14:30:31.231Z"
   },
   {
    "duration": 6,
    "start_time": "2022-11-10T14:34:44.543Z"
   },
   {
    "duration": 5569,
    "start_time": "2022-11-10T14:36:20.680Z"
   },
   {
    "duration": 4138,
    "start_time": "2022-11-10T14:36:39.246Z"
   },
   {
    "duration": 414,
    "start_time": "2022-11-10T14:36:43.388Z"
   },
   {
    "duration": 19,
    "start_time": "2022-11-10T14:36:43.804Z"
   },
   {
    "duration": 18,
    "start_time": "2022-11-10T14:36:43.837Z"
   },
   {
    "duration": 17,
    "start_time": "2022-11-10T14:36:43.858Z"
   },
   {
    "duration": 19,
    "start_time": "2022-11-10T14:36:43.877Z"
   },
   {
    "duration": 41,
    "start_time": "2022-11-10T14:36:43.898Z"
   },
   {
    "duration": 9,
    "start_time": "2022-11-10T14:36:43.941Z"
   },
   {
    "duration": 99,
    "start_time": "2022-11-10T14:36:43.952Z"
   },
   {
    "duration": 83,
    "start_time": "2022-11-10T14:36:44.055Z"
   },
   {
    "duration": 58,
    "start_time": "2022-11-10T14:36:44.141Z"
   },
   {
    "duration": 74,
    "start_time": "2022-11-10T14:36:44.201Z"
   },
   {
    "duration": 63,
    "start_time": "2022-11-10T14:36:44.278Z"
   },
   {
    "duration": 50,
    "start_time": "2022-11-10T14:36:44.344Z"
   },
   {
    "duration": 1087,
    "start_time": "2022-11-10T14:36:44.396Z"
   },
   {
    "duration": 5,
    "start_time": "2022-11-10T14:36:45.485Z"
   },
   {
    "duration": 52,
    "start_time": "2022-11-10T14:36:45.492Z"
   },
   {
    "duration": 206,
    "start_time": "2022-11-10T14:36:45.547Z"
   },
   {
    "duration": 283,
    "start_time": "2022-11-10T14:36:45.757Z"
   },
   {
    "duration": 90,
    "start_time": "2022-11-10T14:36:46.048Z"
   },
   {
    "duration": 50,
    "start_time": "2022-11-10T14:36:46.141Z"
   },
   {
    "duration": 57,
    "start_time": "2022-11-10T14:36:46.193Z"
   },
   {
    "duration": 107,
    "start_time": "2022-11-10T14:36:46.253Z"
   },
   {
    "duration": 33,
    "start_time": "2022-11-10T14:36:46.363Z"
   },
   {
    "duration": 14,
    "start_time": "2022-11-10T14:36:46.398Z"
   },
   {
    "duration": 23,
    "start_time": "2022-11-10T14:36:46.414Z"
   },
   {
    "duration": 22,
    "start_time": "2022-11-10T14:36:46.439Z"
   },
   {
    "duration": 77,
    "start_time": "2022-11-10T14:36:46.464Z"
   },
   {
    "duration": 296,
    "start_time": "2022-11-10T14:36:46.543Z"
   },
   {
    "duration": 198,
    "start_time": "2022-11-10T14:36:46.841Z"
   },
   {
    "duration": 96,
    "start_time": "2022-11-10T14:36:47.042Z"
   },
   {
    "duration": 316,
    "start_time": "2022-11-10T14:36:47.140Z"
   },
   {
    "duration": 6,
    "start_time": "2022-11-10T14:37:55.007Z"
   },
   {
    "duration": 7,
    "start_time": "2022-11-10T14:42:15.593Z"
   },
   {
    "duration": 10,
    "start_time": "2022-11-10T14:42:17.031Z"
   },
   {
    "duration": 79,
    "start_time": "2022-11-10T14:42:36.059Z"
   },
   {
    "duration": 51,
    "start_time": "2022-11-10T14:47:32.789Z"
   },
   {
    "duration": 122,
    "start_time": "2022-11-10T14:47:46.817Z"
   },
   {
    "duration": 26,
    "start_time": "2022-11-10T14:48:02.850Z"
   },
   {
    "duration": 58,
    "start_time": "2022-11-10T14:48:14.687Z"
   },
   {
    "duration": 91,
    "start_time": "2022-11-10T14:48:28.850Z"
   },
   {
    "duration": 69,
    "start_time": "2022-11-10T14:51:03.173Z"
   },
   {
    "duration": 29,
    "start_time": "2022-11-10T14:51:06.721Z"
   },
   {
    "duration": 28,
    "start_time": "2022-11-10T14:51:09.969Z"
   },
   {
    "duration": 199,
    "start_time": "2022-11-10T14:52:04.142Z"
   },
   {
    "duration": 112,
    "start_time": "2022-11-10T14:52:47.826Z"
   },
   {
    "duration": 97,
    "start_time": "2022-11-10T15:23:57.099Z"
   },
   {
    "duration": 81,
    "start_time": "2022-11-10T15:24:26.238Z"
   },
   {
    "duration": 1541,
    "start_time": "2022-11-10T15:26:46.727Z"
   },
   {
    "duration": 447,
    "start_time": "2022-11-10T15:26:48.271Z"
   },
   {
    "duration": 22,
    "start_time": "2022-11-10T15:26:48.720Z"
   },
   {
    "duration": 17,
    "start_time": "2022-11-10T15:26:48.745Z"
   },
   {
    "duration": 15,
    "start_time": "2022-11-10T15:26:48.765Z"
   },
   {
    "duration": 14,
    "start_time": "2022-11-10T15:26:48.782Z"
   },
   {
    "duration": 41,
    "start_time": "2022-11-10T15:26:48.798Z"
   },
   {
    "duration": 14,
    "start_time": "2022-11-10T15:26:48.841Z"
   },
   {
    "duration": 85,
    "start_time": "2022-11-10T15:26:48.857Z"
   },
   {
    "duration": 70,
    "start_time": "2022-11-10T15:26:48.946Z"
   },
   {
    "duration": 83,
    "start_time": "2022-11-10T15:26:49.018Z"
   },
   {
    "duration": 76,
    "start_time": "2022-11-10T15:26:49.103Z"
   },
   {
    "duration": 63,
    "start_time": "2022-11-10T15:26:49.181Z"
   },
   {
    "duration": 69,
    "start_time": "2022-11-10T15:26:49.246Z"
   },
   {
    "duration": 1024,
    "start_time": "2022-11-10T15:26:49.317Z"
   },
   {
    "duration": 4,
    "start_time": "2022-11-10T15:26:50.343Z"
   },
   {
    "duration": 36,
    "start_time": "2022-11-10T15:26:50.349Z"
   },
   {
    "duration": 109,
    "start_time": "2022-11-10T15:26:50.439Z"
   },
   {
    "duration": 197,
    "start_time": "2022-11-10T15:26:50.550Z"
   },
   {
    "duration": 5,
    "start_time": "2022-11-10T15:26:50.749Z"
   },
   {
    "duration": 106,
    "start_time": "2022-11-10T15:26:50.838Z"
   },
   {
    "duration": 5,
    "start_time": "2022-11-10T15:26:50.946Z"
   },
   {
    "duration": 12,
    "start_time": "2022-11-10T15:26:50.953Z"
   },
   {
    "duration": 121,
    "start_time": "2022-11-10T15:26:50.967Z"
   },
   {
    "duration": 0,
    "start_time": "2022-11-10T15:26:51.090Z"
   },
   {
    "duration": 0,
    "start_time": "2022-11-10T15:26:51.091Z"
   },
   {
    "duration": 0,
    "start_time": "2022-11-10T15:26:51.092Z"
   },
   {
    "duration": 0,
    "start_time": "2022-11-10T15:26:51.093Z"
   },
   {
    "duration": 0,
    "start_time": "2022-11-10T15:26:51.095Z"
   },
   {
    "duration": 77,
    "start_time": "2022-11-10T15:27:18.372Z"
   },
   {
    "duration": 75,
    "start_time": "2022-11-10T15:28:19.275Z"
   },
   {
    "duration": 7,
    "start_time": "2022-11-10T15:28:28.532Z"
   },
   {
    "duration": 13,
    "start_time": "2022-11-10T15:28:46.826Z"
   },
   {
    "duration": 6,
    "start_time": "2022-11-10T15:29:16.256Z"
   },
   {
    "duration": 10,
    "start_time": "2022-11-10T15:29:22.704Z"
   },
   {
    "duration": 6,
    "start_time": "2022-11-10T15:29:36.549Z"
   },
   {
    "duration": 21,
    "start_time": "2022-11-10T15:29:41.838Z"
   },
   {
    "duration": 6,
    "start_time": "2022-11-10T16:47:28.211Z"
   },
   {
    "duration": 4,
    "start_time": "2022-11-10T17:28:22.889Z"
   },
   {
    "duration": 9,
    "start_time": "2022-11-10T17:28:24.527Z"
   },
   {
    "duration": 1420,
    "start_time": "2022-11-10T17:29:21.874Z"
   },
   {
    "duration": 406,
    "start_time": "2022-11-10T17:29:23.295Z"
   },
   {
    "duration": 19,
    "start_time": "2022-11-10T17:29:23.702Z"
   },
   {
    "duration": 29,
    "start_time": "2022-11-10T17:29:23.724Z"
   },
   {
    "duration": 18,
    "start_time": "2022-11-10T17:29:23.755Z"
   },
   {
    "duration": 14,
    "start_time": "2022-11-10T17:29:23.776Z"
   },
   {
    "duration": 46,
    "start_time": "2022-11-10T17:29:23.793Z"
   },
   {
    "duration": 10,
    "start_time": "2022-11-10T17:29:23.841Z"
   },
   {
    "duration": 58,
    "start_time": "2022-11-10T17:29:23.853Z"
   },
   {
    "duration": 65,
    "start_time": "2022-11-10T17:29:23.915Z"
   },
   {
    "duration": 63,
    "start_time": "2022-11-10T17:29:23.981Z"
   },
   {
    "duration": 53,
    "start_time": "2022-11-10T17:29:24.045Z"
   },
   {
    "duration": 70,
    "start_time": "2022-11-10T17:29:24.101Z"
   },
   {
    "duration": 71,
    "start_time": "2022-11-10T17:29:24.173Z"
   },
   {
    "duration": 1025,
    "start_time": "2022-11-10T17:29:24.245Z"
   },
   {
    "duration": 5,
    "start_time": "2022-11-10T17:29:25.272Z"
   },
   {
    "duration": 61,
    "start_time": "2022-11-10T17:29:25.278Z"
   },
   {
    "duration": 196,
    "start_time": "2022-11-10T17:29:25.341Z"
   },
   {
    "duration": 110,
    "start_time": "2022-11-10T17:29:25.540Z"
   },
   {
    "duration": 4,
    "start_time": "2022-11-10T17:29:25.652Z"
   },
   {
    "duration": 197,
    "start_time": "2022-11-10T17:29:25.658Z"
   },
   {
    "duration": 8,
    "start_time": "2022-11-10T17:29:25.860Z"
   },
   {
    "duration": 5,
    "start_time": "2022-11-10T17:29:55.910Z"
   },
   {
    "duration": 122,
    "start_time": "2022-11-10T17:32:32.304Z"
   },
   {
    "duration": 27,
    "start_time": "2022-11-10T17:33:00.982Z"
   },
   {
    "duration": 92,
    "start_time": "2022-11-10T17:33:33.447Z"
   },
   {
    "duration": 1516,
    "start_time": "2022-11-10T17:33:52.693Z"
   },
   {
    "duration": 414,
    "start_time": "2022-11-10T17:33:54.213Z"
   },
   {
    "duration": 23,
    "start_time": "2022-11-10T17:33:54.629Z"
   },
   {
    "duration": 17,
    "start_time": "2022-11-10T17:33:54.654Z"
   },
   {
    "duration": 18,
    "start_time": "2022-11-10T17:33:54.675Z"
   },
   {
    "duration": 47,
    "start_time": "2022-11-10T17:33:54.695Z"
   },
   {
    "duration": 9,
    "start_time": "2022-11-10T17:33:54.744Z"
   },
   {
    "duration": 14,
    "start_time": "2022-11-10T17:33:54.755Z"
   },
   {
    "duration": 76,
    "start_time": "2022-11-10T17:33:54.771Z"
   },
   {
    "duration": 50,
    "start_time": "2022-11-10T17:33:54.849Z"
   },
   {
    "duration": 70,
    "start_time": "2022-11-10T17:33:54.900Z"
   },
   {
    "duration": 73,
    "start_time": "2022-11-10T17:33:54.972Z"
   },
   {
    "duration": 50,
    "start_time": "2022-11-10T17:33:55.047Z"
   },
   {
    "duration": 77,
    "start_time": "2022-11-10T17:33:55.101Z"
   },
   {
    "duration": 1066,
    "start_time": "2022-11-10T17:33:55.179Z"
   },
   {
    "duration": 4,
    "start_time": "2022-11-10T17:33:56.247Z"
   },
   {
    "duration": 87,
    "start_time": "2022-11-10T17:33:56.253Z"
   },
   {
    "duration": 113,
    "start_time": "2022-11-10T17:33:56.343Z"
   },
   {
    "duration": 185,
    "start_time": "2022-11-10T17:33:56.458Z"
   },
   {
    "duration": 4,
    "start_time": "2022-11-10T17:33:56.645Z"
   },
   {
    "duration": 104,
    "start_time": "2022-11-10T17:33:56.739Z"
   },
   {
    "duration": 7,
    "start_time": "2022-11-10T17:33:56.845Z"
   },
   {
    "duration": 9,
    "start_time": "2022-11-10T17:33:56.854Z"
   },
   {
    "duration": 6,
    "start_time": "2022-11-10T17:33:56.864Z"
   },
   {
    "duration": 1272,
    "start_time": "2022-11-10T17:33:56.872Z"
   },
   {
    "duration": 1325,
    "start_time": "2022-11-10T17:36:46.261Z"
   },
   {
    "duration": 1200,
    "start_time": "2022-11-10T17:37:09.079Z"
   },
   {
    "duration": 1267,
    "start_time": "2022-11-10T17:37:20.623Z"
   },
   {
    "duration": 5,
    "start_time": "2022-11-10T17:39:25.726Z"
   },
   {
    "duration": 1198,
    "start_time": "2022-11-10T17:39:33.870Z"
   },
   {
    "duration": 1202,
    "start_time": "2022-11-10T17:39:47.777Z"
   },
   {
    "duration": 1228,
    "start_time": "2022-11-10T17:40:00.988Z"
   },
   {
    "duration": 5,
    "start_time": "2022-11-10T17:43:33.290Z"
   },
   {
    "duration": 1287,
    "start_time": "2022-11-10T17:43:35.520Z"
   },
   {
    "duration": 1317,
    "start_time": "2022-11-10T17:43:48.887Z"
   },
   {
    "duration": 1329,
    "start_time": "2022-11-10T17:44:06.950Z"
   },
   {
    "duration": 1511,
    "start_time": "2022-11-10T17:45:52.840Z"
   },
   {
    "duration": 409,
    "start_time": "2022-11-10T17:45:54.353Z"
   },
   {
    "duration": 17,
    "start_time": "2022-11-10T17:45:54.764Z"
   },
   {
    "duration": 16,
    "start_time": "2022-11-10T17:45:54.783Z"
   },
   {
    "duration": 37,
    "start_time": "2022-11-10T17:45:54.801Z"
   },
   {
    "duration": 14,
    "start_time": "2022-11-10T17:45:54.839Z"
   },
   {
    "duration": 9,
    "start_time": "2022-11-10T17:45:54.855Z"
   },
   {
    "duration": 10,
    "start_time": "2022-11-10T17:45:54.866Z"
   },
   {
    "duration": 87,
    "start_time": "2022-11-10T17:45:54.877Z"
   },
   {
    "duration": 52,
    "start_time": "2022-11-10T17:45:54.967Z"
   },
   {
    "duration": 70,
    "start_time": "2022-11-10T17:45:55.021Z"
   },
   {
    "duration": 63,
    "start_time": "2022-11-10T17:45:55.093Z"
   },
   {
    "duration": 47,
    "start_time": "2022-11-10T17:45:55.158Z"
   },
   {
    "duration": 67,
    "start_time": "2022-11-10T17:45:55.206Z"
   },
   {
    "duration": 985,
    "start_time": "2022-11-10T17:45:55.274Z"
   },
   {
    "duration": 5,
    "start_time": "2022-11-10T17:45:56.261Z"
   },
   {
    "duration": 71,
    "start_time": "2022-11-10T17:45:56.267Z"
   },
   {
    "duration": 117,
    "start_time": "2022-11-10T17:45:56.340Z"
   },
   {
    "duration": 182,
    "start_time": "2022-11-10T17:45:56.459Z"
   },
   {
    "duration": 4,
    "start_time": "2022-11-10T17:45:56.644Z"
   },
   {
    "duration": 99,
    "start_time": "2022-11-10T17:45:56.651Z"
   },
   {
    "duration": 89,
    "start_time": "2022-11-10T17:45:56.754Z"
   },
   {
    "duration": 8,
    "start_time": "2022-11-10T17:45:56.845Z"
   },
   {
    "duration": 6,
    "start_time": "2022-11-10T17:45:56.855Z"
   },
   {
    "duration": 1241,
    "start_time": "2022-11-10T17:45:56.863Z"
   },
   {
    "duration": 1308,
    "start_time": "2022-11-10T17:45:58.106Z"
   },
   {
    "duration": 1252,
    "start_time": "2022-11-10T17:45:59.416Z"
   },
   {
    "duration": 1632,
    "start_time": "2022-11-10T17:55:16.034Z"
   },
   {
    "duration": 1334,
    "start_time": "2022-11-10T17:55:19.583Z"
   },
   {
    "duration": 1601,
    "start_time": "2022-11-10T17:55:24.988Z"
   },
   {
    "duration": 1157,
    "start_time": "2022-11-10T17:57:45.221Z"
   },
   {
    "duration": 7,
    "start_time": "2022-11-10T18:19:18.966Z"
   },
   {
    "duration": 146,
    "start_time": "2022-11-10T18:31:29.118Z"
   },
   {
    "duration": 179,
    "start_time": "2022-11-10T18:34:36.159Z"
   },
   {
    "duration": 77,
    "start_time": "2022-11-10T18:35:14.278Z"
   },
   {
    "duration": 44,
    "start_time": "2022-11-10T18:36:32.799Z"
   },
   {
    "duration": 94,
    "start_time": "2022-11-10T18:39:17.151Z"
   },
   {
    "duration": 109,
    "start_time": "2022-11-10T18:39:26.129Z"
   },
   {
    "duration": 3,
    "start_time": "2022-11-10T18:40:29.884Z"
   },
   {
    "duration": 200,
    "start_time": "2022-11-10T18:40:31.648Z"
   },
   {
    "duration": 1666,
    "start_time": "2022-11-10T18:40:42.311Z"
   },
   {
    "duration": 473,
    "start_time": "2022-11-10T18:40:43.979Z"
   },
   {
    "duration": 18,
    "start_time": "2022-11-10T18:40:44.454Z"
   },
   {
    "duration": 16,
    "start_time": "2022-11-10T18:40:44.474Z"
   },
   {
    "duration": 17,
    "start_time": "2022-11-10T18:40:44.492Z"
   },
   {
    "duration": 15,
    "start_time": "2022-11-10T18:40:44.511Z"
   },
   {
    "duration": 20,
    "start_time": "2022-11-10T18:40:44.536Z"
   },
   {
    "duration": 15,
    "start_time": "2022-11-10T18:40:44.557Z"
   },
   {
    "duration": 54,
    "start_time": "2022-11-10T18:40:44.573Z"
   },
   {
    "duration": 56,
    "start_time": "2022-11-10T18:40:44.629Z"
   },
   {
    "duration": 163,
    "start_time": "2022-11-10T18:40:44.687Z"
   },
   {
    "duration": 59,
    "start_time": "2022-11-10T18:40:44.852Z"
   },
   {
    "duration": 57,
    "start_time": "2022-11-10T18:40:44.937Z"
   },
   {
    "duration": 83,
    "start_time": "2022-11-10T18:40:44.998Z"
   },
   {
    "duration": 1189,
    "start_time": "2022-11-10T18:40:45.083Z"
   },
   {
    "duration": 5,
    "start_time": "2022-11-10T18:40:46.274Z"
   },
   {
    "duration": 76,
    "start_time": "2022-11-10T18:40:46.281Z"
   },
   {
    "duration": 112,
    "start_time": "2022-11-10T18:40:46.359Z"
   },
   {
    "duration": 117,
    "start_time": "2022-11-10T18:40:46.545Z"
   },
   {
    "duration": 179,
    "start_time": "2022-11-10T18:40:46.664Z"
   },
   {
    "duration": 16,
    "start_time": "2022-11-10T18:40:46.846Z"
   },
   {
    "duration": 6,
    "start_time": "2022-11-10T18:40:46.864Z"
   },
   {
    "duration": 12,
    "start_time": "2022-11-10T18:40:46.873Z"
   },
   {
    "duration": 279,
    "start_time": "2022-11-10T18:40:46.887Z"
   },
   {
    "duration": 0,
    "start_time": "2022-11-10T18:40:47.168Z"
   },
   {
    "duration": 0,
    "start_time": "2022-11-10T18:40:47.169Z"
   },
   {
    "duration": 0,
    "start_time": "2022-11-10T18:40:47.170Z"
   },
   {
    "duration": 0,
    "start_time": "2022-11-10T18:40:47.172Z"
   },
   {
    "duration": 7,
    "start_time": "2022-11-10T18:41:30.847Z"
   },
   {
    "duration": 82,
    "start_time": "2022-11-10T18:41:36.171Z"
   },
   {
    "duration": 104,
    "start_time": "2022-11-10T18:44:28.232Z"
   },
   {
    "duration": 102,
    "start_time": "2022-11-10T18:45:26.042Z"
   },
   {
    "duration": 174,
    "start_time": "2022-11-10T18:46:29.469Z"
   },
   {
    "duration": 187,
    "start_time": "2022-11-10T18:52:55.958Z"
   },
   {
    "duration": 6,
    "start_time": "2022-11-10T18:53:24.751Z"
   },
   {
    "duration": 1428,
    "start_time": "2022-11-10T18:53:32.730Z"
   },
   {
    "duration": 1287,
    "start_time": "2022-11-10T18:53:44.777Z"
   },
   {
    "duration": 1405,
    "start_time": "2022-11-10T18:53:57.852Z"
   },
   {
    "duration": 1320,
    "start_time": "2022-11-10T19:41:59.730Z"
   },
   {
    "duration": 5,
    "start_time": "2022-11-10T19:43:04.405Z"
   },
   {
    "duration": 1244,
    "start_time": "2022-11-10T19:43:09.099Z"
   },
   {
    "duration": 5,
    "start_time": "2022-11-10T19:43:57.459Z"
   },
   {
    "duration": 1277,
    "start_time": "2022-11-10T19:44:12.695Z"
   },
   {
    "duration": 1588,
    "start_time": "2022-11-10T19:44:29.807Z"
   },
   {
    "duration": 460,
    "start_time": "2022-11-10T19:44:31.397Z"
   },
   {
    "duration": 20,
    "start_time": "2022-11-10T19:44:31.859Z"
   },
   {
    "duration": 20,
    "start_time": "2022-11-10T19:44:31.882Z"
   },
   {
    "duration": 49,
    "start_time": "2022-11-10T19:44:31.903Z"
   },
   {
    "duration": 13,
    "start_time": "2022-11-10T19:44:31.954Z"
   },
   {
    "duration": 9,
    "start_time": "2022-11-10T19:44:31.968Z"
   },
   {
    "duration": 10,
    "start_time": "2022-11-10T19:44:31.978Z"
   },
   {
    "duration": 81,
    "start_time": "2022-11-10T19:44:31.990Z"
   },
   {
    "duration": 48,
    "start_time": "2022-11-10T19:44:32.073Z"
   },
   {
    "duration": 57,
    "start_time": "2022-11-10T19:44:32.137Z"
   },
   {
    "duration": 74,
    "start_time": "2022-11-10T19:44:32.196Z"
   },
   {
    "duration": 49,
    "start_time": "2022-11-10T19:44:32.272Z"
   },
   {
    "duration": 69,
    "start_time": "2022-11-10T19:44:32.339Z"
   },
   {
    "duration": 1069,
    "start_time": "2022-11-10T19:44:32.410Z"
   },
   {
    "duration": 5,
    "start_time": "2022-11-10T19:44:33.480Z"
   },
   {
    "duration": 57,
    "start_time": "2022-11-10T19:44:33.487Z"
   },
   {
    "duration": 194,
    "start_time": "2022-11-10T19:44:33.550Z"
   },
   {
    "duration": 115,
    "start_time": "2022-11-10T19:44:33.747Z"
   },
   {
    "duration": 114,
    "start_time": "2022-11-10T19:44:33.938Z"
   },
   {
    "duration": 7,
    "start_time": "2022-11-10T19:44:34.054Z"
   },
   {
    "duration": 6,
    "start_time": "2022-11-10T19:44:34.063Z"
   },
   {
    "duration": 7,
    "start_time": "2022-11-10T19:44:34.071Z"
   },
   {
    "duration": 68,
    "start_time": "2022-11-10T19:44:34.080Z"
   },
   {
    "duration": 195,
    "start_time": "2022-11-10T19:44:34.151Z"
   },
   {
    "duration": 117,
    "start_time": "2022-11-10T19:44:34.349Z"
   },
   {
    "duration": 75,
    "start_time": "2022-11-10T19:44:34.467Z"
   },
   {
    "duration": 1553,
    "start_time": "2022-11-10T19:44:34.552Z"
   },
   {
    "duration": 0,
    "start_time": "2022-11-10T19:44:36.107Z"
   },
   {
    "duration": 0,
    "start_time": "2022-11-10T19:44:36.110Z"
   },
   {
    "duration": 5,
    "start_time": "2022-11-10T19:45:18.518Z"
   },
   {
    "duration": 1281,
    "start_time": "2022-11-10T19:45:19.766Z"
   },
   {
    "duration": 1267,
    "start_time": "2022-11-10T19:46:22.148Z"
   },
   {
    "duration": 1236,
    "start_time": "2022-11-10T19:46:39.494Z"
   },
   {
    "duration": 1336,
    "start_time": "2022-11-10T19:46:46.166Z"
   },
   {
    "duration": 1589,
    "start_time": "2022-11-10T19:47:01.786Z"
   },
   {
    "duration": 451,
    "start_time": "2022-11-10T19:47:03.378Z"
   },
   {
    "duration": 30,
    "start_time": "2022-11-10T19:47:03.832Z"
   },
   {
    "duration": 27,
    "start_time": "2022-11-10T19:47:03.867Z"
   },
   {
    "duration": 21,
    "start_time": "2022-11-10T19:47:03.896Z"
   },
   {
    "duration": 33,
    "start_time": "2022-11-10T19:47:03.919Z"
   },
   {
    "duration": 10,
    "start_time": "2022-11-10T19:47:03.957Z"
   },
   {
    "duration": 12,
    "start_time": "2022-11-10T19:47:03.969Z"
   },
   {
    "duration": 72,
    "start_time": "2022-11-10T19:47:03.983Z"
   },
   {
    "duration": 54,
    "start_time": "2022-11-10T19:47:04.059Z"
   },
   {
    "duration": 69,
    "start_time": "2022-11-10T19:47:04.114Z"
   },
   {
    "duration": 73,
    "start_time": "2022-11-10T19:47:04.185Z"
   },
   {
    "duration": 47,
    "start_time": "2022-11-10T19:47:04.260Z"
   },
   {
    "duration": 72,
    "start_time": "2022-11-10T19:47:04.309Z"
   },
   {
    "duration": 1078,
    "start_time": "2022-11-10T19:47:04.382Z"
   },
   {
    "duration": 5,
    "start_time": "2022-11-10T19:47:05.462Z"
   },
   {
    "duration": 88,
    "start_time": "2022-11-10T19:47:05.469Z"
   },
   {
    "duration": 104,
    "start_time": "2022-11-10T19:47:05.560Z"
   },
   {
    "duration": 278,
    "start_time": "2022-11-10T19:47:05.667Z"
   },
   {
    "duration": 113,
    "start_time": "2022-11-10T19:47:05.947Z"
   },
   {
    "duration": 8,
    "start_time": "2022-11-10T19:47:06.062Z"
   },
   {
    "duration": 5,
    "start_time": "2022-11-10T19:47:06.072Z"
   },
   {
    "duration": 18,
    "start_time": "2022-11-10T19:47:06.079Z"
   },
   {
    "duration": 139,
    "start_time": "2022-11-10T19:47:06.099Z"
   },
   {
    "duration": 111,
    "start_time": "2022-11-10T19:47:06.242Z"
   },
   {
    "duration": 191,
    "start_time": "2022-11-10T19:47:06.356Z"
   },
   {
    "duration": 11,
    "start_time": "2022-11-10T19:47:06.549Z"
   },
   {
    "duration": 1431,
    "start_time": "2022-11-10T19:47:06.564Z"
   },
   {
    "duration": 1379,
    "start_time": "2022-11-10T19:47:07.997Z"
   },
   {
    "duration": 1290,
    "start_time": "2022-11-10T19:47:09.378Z"
   },
   {
    "duration": 1572,
    "start_time": "2022-11-10T19:53:16.157Z"
   },
   {
    "duration": 431,
    "start_time": "2022-11-10T19:53:17.731Z"
   },
   {
    "duration": 17,
    "start_time": "2022-11-10T19:53:18.164Z"
   },
   {
    "duration": 15,
    "start_time": "2022-11-10T19:53:18.183Z"
   },
   {
    "duration": 46,
    "start_time": "2022-11-10T19:53:18.199Z"
   },
   {
    "duration": 15,
    "start_time": "2022-11-10T19:53:18.246Z"
   },
   {
    "duration": 9,
    "start_time": "2022-11-10T19:53:18.264Z"
   },
   {
    "duration": 12,
    "start_time": "2022-11-10T19:53:18.275Z"
   },
   {
    "duration": 100,
    "start_time": "2022-11-10T19:53:18.289Z"
   },
   {
    "duration": 78,
    "start_time": "2022-11-10T19:53:18.392Z"
   },
   {
    "duration": 77,
    "start_time": "2022-11-10T19:53:18.473Z"
   },
   {
    "duration": 56,
    "start_time": "2022-11-10T19:53:18.555Z"
   },
   {
    "duration": 58,
    "start_time": "2022-11-10T19:53:18.614Z"
   },
   {
    "duration": 76,
    "start_time": "2022-11-10T19:53:18.674Z"
   },
   {
    "duration": 1117,
    "start_time": "2022-11-10T19:53:18.755Z"
   },
   {
    "duration": 5,
    "start_time": "2022-11-10T19:53:19.874Z"
   },
   {
    "duration": 81,
    "start_time": "2022-11-10T19:53:19.881Z"
   },
   {
    "duration": 173,
    "start_time": "2022-11-10T19:53:19.966Z"
   },
   {
    "duration": 115,
    "start_time": "2022-11-10T19:53:20.142Z"
   },
   {
    "duration": 85,
    "start_time": "2022-11-10T19:53:20.259Z"
   },
   {
    "duration": 101,
    "start_time": "2022-11-10T19:53:20.347Z"
   },
   {
    "duration": 15,
    "start_time": "2022-11-10T19:53:20.450Z"
   },
   {
    "duration": 7,
    "start_time": "2022-11-10T19:53:20.467Z"
   },
   {
    "duration": 163,
    "start_time": "2022-11-10T19:53:20.476Z"
   },
   {
    "duration": 101,
    "start_time": "2022-11-10T19:53:20.642Z"
   },
   {
    "duration": 207,
    "start_time": "2022-11-10T19:53:20.745Z"
   },
   {
    "duration": 89,
    "start_time": "2022-11-10T19:53:20.954Z"
   },
   {
    "duration": 1295,
    "start_time": "2022-11-10T19:53:21.047Z"
   },
   {
    "duration": 1232,
    "start_time": "2022-11-10T19:53:22.348Z"
   },
   {
    "duration": 1241,
    "start_time": "2022-11-10T19:53:23.582Z"
   },
   {
    "duration": 48,
    "start_time": "2022-11-10T19:57:55.088Z"
   },
   {
    "duration": 1757,
    "start_time": "2022-11-11T07:42:46.060Z"
   },
   {
    "duration": 375,
    "start_time": "2022-11-11T07:42:47.820Z"
   },
   {
    "duration": 23,
    "start_time": "2022-11-11T07:42:48.197Z"
   },
   {
    "duration": 36,
    "start_time": "2022-11-11T07:42:48.222Z"
   },
   {
    "duration": 56,
    "start_time": "2022-11-11T07:42:48.260Z"
   },
   {
    "duration": 40,
    "start_time": "2022-11-11T07:42:48.318Z"
   },
   {
    "duration": 43,
    "start_time": "2022-11-11T07:42:48.360Z"
   },
   {
    "duration": 42,
    "start_time": "2022-11-11T07:42:48.405Z"
   },
   {
    "duration": 82,
    "start_time": "2022-11-11T07:42:48.449Z"
   },
   {
    "duration": 72,
    "start_time": "2022-11-11T07:42:48.535Z"
   },
   {
    "duration": 72,
    "start_time": "2022-11-11T07:42:48.609Z"
   },
   {
    "duration": 81,
    "start_time": "2022-11-11T07:42:48.683Z"
   },
   {
    "duration": 43,
    "start_time": "2022-11-11T07:42:48.766Z"
   },
   {
    "duration": 51,
    "start_time": "2022-11-11T07:42:48.811Z"
   },
   {
    "duration": 946,
    "start_time": "2022-11-11T07:42:48.863Z"
   },
   {
    "duration": 4,
    "start_time": "2022-11-11T07:42:49.810Z"
   },
   {
    "duration": 89,
    "start_time": "2022-11-11T07:42:49.816Z"
   },
   {
    "duration": 113,
    "start_time": "2022-11-11T07:42:49.908Z"
   },
   {
    "duration": 187,
    "start_time": "2022-11-11T07:42:50.023Z"
   },
   {
    "duration": 206,
    "start_time": "2022-11-11T07:42:50.213Z"
   },
   {
    "duration": 17,
    "start_time": "2022-11-11T07:42:50.421Z"
   },
   {
    "duration": 16,
    "start_time": "2022-11-11T07:42:50.439Z"
   },
   {
    "duration": 10,
    "start_time": "2022-11-11T07:42:50.457Z"
   },
   {
    "duration": 44,
    "start_time": "2022-11-11T07:42:50.469Z"
   },
   {
    "duration": 289,
    "start_time": "2022-11-11T07:42:50.515Z"
   },
   {
    "duration": 201,
    "start_time": "2022-11-11T07:42:50.806Z"
   },
   {
    "duration": 4,
    "start_time": "2022-11-11T07:42:51.104Z"
   },
   {
    "duration": 1174,
    "start_time": "2022-11-11T07:42:51.111Z"
   },
   {
    "duration": 1154,
    "start_time": "2022-11-11T07:42:52.287Z"
   },
   {
    "duration": 1121,
    "start_time": "2022-11-11T07:42:53.442Z"
   },
   {
    "duration": 5,
    "start_time": "2022-11-11T07:47:02.187Z"
   },
   {
    "duration": 127,
    "start_time": "2022-11-11T07:48:27.434Z"
   },
   {
    "duration": 9,
    "start_time": "2022-11-11T07:48:44.939Z"
   },
   {
    "duration": 5,
    "start_time": "2022-11-11T07:49:13.913Z"
   },
   {
    "duration": 47,
    "start_time": "2022-11-11T11:12:05.599Z"
   },
   {
    "duration": 1510,
    "start_time": "2022-11-11T11:12:21.913Z"
   },
   {
    "duration": 834,
    "start_time": "2022-11-11T11:12:23.425Z"
   },
   {
    "duration": 16,
    "start_time": "2022-11-11T11:12:24.261Z"
   },
   {
    "duration": 27,
    "start_time": "2022-11-11T11:12:24.280Z"
   },
   {
    "duration": 14,
    "start_time": "2022-11-11T11:12:24.308Z"
   },
   {
    "duration": 11,
    "start_time": "2022-11-11T11:12:24.323Z"
   },
   {
    "duration": 18,
    "start_time": "2022-11-11T11:12:24.335Z"
   },
   {
    "duration": 10,
    "start_time": "2022-11-11T11:12:24.355Z"
   },
   {
    "duration": 46,
    "start_time": "2022-11-11T11:12:24.367Z"
   },
   {
    "duration": 60,
    "start_time": "2022-11-11T11:12:24.416Z"
   },
   {
    "duration": 46,
    "start_time": "2022-11-11T11:12:24.478Z"
   },
   {
    "duration": 61,
    "start_time": "2022-11-11T11:12:24.526Z"
   },
   {
    "duration": 50,
    "start_time": "2022-11-11T11:12:24.588Z"
   },
   {
    "duration": 45,
    "start_time": "2022-11-11T11:12:24.653Z"
   },
   {
    "duration": 1034,
    "start_time": "2022-11-11T11:12:24.699Z"
   },
   {
    "duration": 2,
    "start_time": "2022-11-11T11:12:25.735Z"
   },
   {
    "duration": 15,
    "start_time": "2022-11-11T11:12:25.738Z"
   },
   {
    "duration": 284,
    "start_time": "2022-11-11T11:12:25.755Z"
   },
   {
    "duration": 0,
    "start_time": "2022-11-11T11:12:26.040Z"
   },
   {
    "duration": 0,
    "start_time": "2022-11-11T11:12:26.052Z"
   },
   {
    "duration": 0,
    "start_time": "2022-11-11T11:12:26.053Z"
   },
   {
    "duration": 0,
    "start_time": "2022-11-11T11:12:26.054Z"
   },
   {
    "duration": 0,
    "start_time": "2022-11-11T11:12:26.055Z"
   },
   {
    "duration": 0,
    "start_time": "2022-11-11T11:12:26.057Z"
   },
   {
    "duration": 0,
    "start_time": "2022-11-11T11:12:26.058Z"
   },
   {
    "duration": 0,
    "start_time": "2022-11-11T11:12:26.059Z"
   },
   {
    "duration": 0,
    "start_time": "2022-11-11T11:12:26.060Z"
   },
   {
    "duration": 0,
    "start_time": "2022-11-11T11:12:26.062Z"
   },
   {
    "duration": 0,
    "start_time": "2022-11-11T11:12:26.063Z"
   },
   {
    "duration": 0,
    "start_time": "2022-11-11T11:12:26.064Z"
   },
   {
    "duration": 0,
    "start_time": "2022-11-11T11:12:26.065Z"
   },
   {
    "duration": 0,
    "start_time": "2022-11-11T11:12:26.066Z"
   },
   {
    "duration": 33,
    "start_time": "2022-11-11T11:14:53.631Z"
   },
   {
    "duration": 30,
    "start_time": "2022-11-11T11:15:07.424Z"
   },
   {
    "duration": 3,
    "start_time": "2022-11-11T11:23:08.673Z"
   },
   {
    "duration": 1247,
    "start_time": "2022-11-11T11:23:57.014Z"
   },
   {
    "duration": 332,
    "start_time": "2022-11-11T11:23:58.263Z"
   },
   {
    "duration": 14,
    "start_time": "2022-11-11T11:23:58.597Z"
   },
   {
    "duration": 13,
    "start_time": "2022-11-11T11:23:58.613Z"
   },
   {
    "duration": 27,
    "start_time": "2022-11-11T11:23:58.627Z"
   },
   {
    "duration": 10,
    "start_time": "2022-11-11T11:23:58.656Z"
   },
   {
    "duration": 9,
    "start_time": "2022-11-11T11:23:58.668Z"
   },
   {
    "duration": 10,
    "start_time": "2022-11-11T11:23:58.678Z"
   },
   {
    "duration": 46,
    "start_time": "2022-11-11T11:23:58.689Z"
   },
   {
    "duration": 39,
    "start_time": "2022-11-11T11:23:58.752Z"
   },
   {
    "duration": 60,
    "start_time": "2022-11-11T11:23:58.793Z"
   },
   {
    "duration": 42,
    "start_time": "2022-11-11T11:23:58.854Z"
   },
   {
    "duration": 41,
    "start_time": "2022-11-11T11:23:58.897Z"
   },
   {
    "duration": 53,
    "start_time": "2022-11-11T11:23:58.953Z"
   },
   {
    "duration": 931,
    "start_time": "2022-11-11T11:23:59.007Z"
   },
   {
    "duration": 13,
    "start_time": "2022-11-11T11:23:59.940Z"
   },
   {
    "duration": 8,
    "start_time": "2022-11-11T11:23:59.954Z"
   },
   {
    "duration": 28,
    "start_time": "2022-11-11T11:23:59.964Z"
   },
   {
    "duration": 104,
    "start_time": "2022-11-11T11:24:00.052Z"
   },
   {
    "duration": 214,
    "start_time": "2022-11-11T11:24:00.158Z"
   },
   {
    "duration": 184,
    "start_time": "2022-11-11T11:24:00.376Z"
   },
   {
    "duration": 32,
    "start_time": "2022-11-11T11:24:00.562Z"
   },
   {
    "duration": 19,
    "start_time": "2022-11-11T11:24:00.595Z"
   },
   {
    "duration": 16,
    "start_time": "2022-11-11T11:24:00.615Z"
   },
   {
    "duration": 59,
    "start_time": "2022-11-11T11:24:00.633Z"
   },
   {
    "duration": 261,
    "start_time": "2022-11-11T11:24:00.694Z"
   },
   {
    "duration": 199,
    "start_time": "2022-11-11T11:24:00.956Z"
   },
   {
    "duration": 6,
    "start_time": "2022-11-11T11:24:01.251Z"
   },
   {
    "duration": 1233,
    "start_time": "2022-11-11T11:24:01.259Z"
   },
   {
    "duration": 1167,
    "start_time": "2022-11-11T11:24:02.494Z"
   },
   {
    "duration": 1100,
    "start_time": "2022-11-11T11:24:03.663Z"
   },
   {
    "duration": 7,
    "start_time": "2022-11-11T11:27:47.850Z"
   },
   {
    "duration": 182,
    "start_time": "2022-11-11T11:34:55.919Z"
   },
   {
    "duration": 209,
    "start_time": "2022-11-11T11:35:48.339Z"
   },
   {
    "duration": 146,
    "start_time": "2022-11-11T11:36:40.553Z"
   },
   {
    "duration": 136,
    "start_time": "2022-11-11T11:37:10.816Z"
   },
   {
    "duration": 252,
    "start_time": "2022-11-11T11:39:47.878Z"
   },
   {
    "duration": 137,
    "start_time": "2022-11-11T11:40:59.413Z"
   },
   {
    "duration": 156,
    "start_time": "2022-11-11T11:41:22.809Z"
   },
   {
    "duration": 158,
    "start_time": "2022-11-11T11:41:32.573Z"
   },
   {
    "duration": 169,
    "start_time": "2022-11-11T11:41:39.751Z"
   },
   {
    "duration": 171,
    "start_time": "2022-11-11T11:42:12.187Z"
   },
   {
    "duration": 162,
    "start_time": "2022-11-11T11:48:29.378Z"
   },
   {
    "duration": 316,
    "start_time": "2022-11-11T11:48:42.303Z"
   },
   {
    "duration": 248,
    "start_time": "2022-11-11T11:48:55.511Z"
   },
   {
    "duration": 306,
    "start_time": "2022-11-11T11:49:07.959Z"
   },
   {
    "duration": 289,
    "start_time": "2022-11-11T11:49:17.278Z"
   },
   {
    "duration": 160,
    "start_time": "2022-11-11T11:49:24.806Z"
   },
   {
    "duration": 156,
    "start_time": "2022-11-11T11:50:55.275Z"
   },
   {
    "duration": 171,
    "start_time": "2022-11-11T11:53:04.784Z"
   },
   {
    "duration": 259,
    "start_time": "2022-11-11T11:53:17.064Z"
   },
   {
    "duration": 244,
    "start_time": "2022-11-11T11:55:35.709Z"
   },
   {
    "duration": 242,
    "start_time": "2022-11-11T11:55:49.124Z"
   },
   {
    "duration": 161,
    "start_time": "2022-11-11T12:02:22.942Z"
   },
   {
    "duration": 135,
    "start_time": "2022-11-11T12:02:37.729Z"
   },
   {
    "duration": 93,
    "start_time": "2022-11-11T12:03:01.421Z"
   },
   {
    "duration": 261,
    "start_time": "2022-11-11T12:03:09.895Z"
   },
   {
    "duration": 153,
    "start_time": "2022-11-11T12:03:32.854Z"
   },
   {
    "duration": 152,
    "start_time": "2022-11-11T12:03:56.189Z"
   },
   {
    "duration": 154,
    "start_time": "2022-11-11T12:04:30.155Z"
   },
   {
    "duration": 1348,
    "start_time": "2022-11-11T12:10:14.323Z"
   },
   {
    "duration": 328,
    "start_time": "2022-11-11T12:10:15.672Z"
   },
   {
    "duration": 16,
    "start_time": "2022-11-11T12:10:16.002Z"
   },
   {
    "duration": 12,
    "start_time": "2022-11-11T12:10:16.020Z"
   },
   {
    "duration": 18,
    "start_time": "2022-11-11T12:10:16.034Z"
   },
   {
    "duration": 18,
    "start_time": "2022-11-11T12:10:16.053Z"
   },
   {
    "duration": 11,
    "start_time": "2022-11-11T12:10:16.073Z"
   },
   {
    "duration": 11,
    "start_time": "2022-11-11T12:10:16.085Z"
   },
   {
    "duration": 54,
    "start_time": "2022-11-11T12:10:16.098Z"
   },
   {
    "duration": 39,
    "start_time": "2022-11-11T12:10:16.155Z"
   },
   {
    "duration": 43,
    "start_time": "2022-11-11T12:10:16.196Z"
   },
   {
    "duration": 39,
    "start_time": "2022-11-11T12:10:16.253Z"
   },
   {
    "duration": 37,
    "start_time": "2022-11-11T12:10:16.294Z"
   },
   {
    "duration": 57,
    "start_time": "2022-11-11T12:10:16.332Z"
   },
   {
    "duration": 883,
    "start_time": "2022-11-11T12:10:16.390Z"
   },
   {
    "duration": 2,
    "start_time": "2022-11-11T12:10:17.275Z"
   },
   {
    "duration": 166,
    "start_time": "2022-11-11T12:10:17.278Z"
   },
   {
    "duration": 163,
    "start_time": "2022-11-11T12:10:17.446Z"
   },
   {
    "duration": 238,
    "start_time": "2022-11-11T12:10:17.610Z"
   },
   {
    "duration": 5,
    "start_time": "2022-11-11T12:10:17.851Z"
   },
   {
    "duration": 35,
    "start_time": "2022-11-11T12:10:17.857Z"
   },
   {
    "duration": 174,
    "start_time": "2022-11-11T12:10:17.893Z"
   },
   {
    "duration": 116,
    "start_time": "2022-11-11T12:10:18.154Z"
   },
   {
    "duration": 81,
    "start_time": "2022-11-11T12:10:18.272Z"
   },
   {
    "duration": 95,
    "start_time": "2022-11-11T12:10:18.359Z"
   },
   {
    "duration": 11,
    "start_time": "2022-11-11T12:10:18.456Z"
   },
   {
    "duration": 9,
    "start_time": "2022-11-11T12:10:18.469Z"
   },
   {
    "duration": 75,
    "start_time": "2022-11-11T12:10:18.480Z"
   },
   {
    "duration": 196,
    "start_time": "2022-11-11T12:10:18.557Z"
   },
   {
    "duration": 115,
    "start_time": "2022-11-11T12:10:18.755Z"
   },
   {
    "duration": 7,
    "start_time": "2022-11-11T12:10:18.951Z"
   },
   {
    "duration": 1244,
    "start_time": "2022-11-11T12:10:18.959Z"
   },
   {
    "duration": 1139,
    "start_time": "2022-11-11T12:10:20.205Z"
   },
   {
    "duration": 1198,
    "start_time": "2022-11-11T12:10:21.346Z"
   }
  ],
  "kernelspec": {
   "display_name": "Python 3 (ipykernel)",
   "language": "python",
   "name": "python3"
  },
  "language_info": {
   "codemirror_mode": {
    "name": "ipython",
    "version": 3
   },
   "file_extension": ".py",
   "mimetype": "text/x-python",
   "name": "python",
   "nbconvert_exporter": "python",
   "pygments_lexer": "ipython3",
   "version": "3.9.5"
  },
  "toc": {
   "base_numbering": 1,
   "nav_menu": {},
   "number_sections": true,
   "sideBar": true,
   "skip_h1_title": true,
   "title_cell": "Table of Contents",
   "title_sidebar": "Contents",
   "toc_cell": false,
   "toc_position": {},
   "toc_section_display": true,
   "toc_window_display": false
  }
 },
 "nbformat": 4,
 "nbformat_minor": 2
}
