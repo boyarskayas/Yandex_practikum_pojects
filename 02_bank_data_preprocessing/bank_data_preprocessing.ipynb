{
 "cells": [
  {
   "cell_type": "markdown",
   "id": "a05332d4",
   "metadata": {},
   "source": [
    "# Исследование надежности заемщиков"
   ]
  },
  {
   "cell_type": "markdown",
   "id": "2fcd88ef",
   "metadata": {},
   "source": [
    "Цель: На основе статистики о платёжеспособности клиентов исследовать, влияет ли семейное положение, количество детей клиента, ежемесячный доход и цели получения кредита на факт возврата кредита в срок"
   ]
  },
  {
   "attachments": {},
   "cell_type": "markdown",
   "id": "e1d48e5b",
   "metadata": {},
   "source": [
    "**ОПИСАНИЕ ДАННЫХ**\n",
    "\n",
    "- children — количество детей в семье\n",
    "- days_employed — общий трудовой стаж в днях\n",
    "- dob_years — возраст клиента в годах\n",
    "- education — уровень образования клиента\n",
    "- education_id — идентификатор уровня образования\n",
    "- family_status — семейное положение\n",
    "- family_status_id — идентификатор семейного положения\n",
    "- gender — пол клиента\n",
    "- income_type — тип занятости\n",
    "- debt — имел ли задолженность по возврату кредитов\n",
    "- total_income — ежемесячный доход\n",
    "- purpose — цель получения кредита\n"
   ]
  },
  {
   "cell_type": "markdown",
   "id": "38382c0c",
   "metadata": {},
   "source": [
    "## Импорт библиотек и изучение общей информации о данных"
   ]
  },
  {
   "cell_type": "code",
   "execution_count": 1,
   "id": "ae82bdc3",
   "metadata": {},
   "outputs": [],
   "source": [
    "import pandas as pd"
   ]
  },
  {
   "cell_type": "code",
   "execution_count": 2,
   "id": "47cb9df0",
   "metadata": {},
   "outputs": [],
   "source": [
    "try:\n",
    "    data = pd.read_csv('/datasets/data.csv')\n",
    "except:\n",
    "    data = pd.read_csv('https://code.s3.yandex.net/datasets/data.csv')"
   ]
  },
  {
   "cell_type": "code",
   "execution_count": 3,
   "id": "812706f7",
   "metadata": {},
   "outputs": [
    {
     "data": {
      "text/html": [
       "<div>\n",
       "<style scoped>\n",
       "    .dataframe tbody tr th:only-of-type {\n",
       "        vertical-align: middle;\n",
       "    }\n",
       "\n",
       "    .dataframe tbody tr th {\n",
       "        vertical-align: top;\n",
       "    }\n",
       "\n",
       "    .dataframe thead th {\n",
       "        text-align: right;\n",
       "    }\n",
       "</style>\n",
       "<table border=\"1\" class=\"dataframe\">\n",
       "  <thead>\n",
       "    <tr style=\"text-align: right;\">\n",
       "      <th></th>\n",
       "      <th>children</th>\n",
       "      <th>days_employed</th>\n",
       "      <th>dob_years</th>\n",
       "      <th>education</th>\n",
       "      <th>education_id</th>\n",
       "      <th>family_status</th>\n",
       "      <th>family_status_id</th>\n",
       "      <th>gender</th>\n",
       "      <th>income_type</th>\n",
       "      <th>debt</th>\n",
       "      <th>total_income</th>\n",
       "      <th>purpose</th>\n",
       "    </tr>\n",
       "  </thead>\n",
       "  <tbody>\n",
       "    <tr>\n",
       "      <th>0</th>\n",
       "      <td>1</td>\n",
       "      <td>-8437.673028</td>\n",
       "      <td>42</td>\n",
       "      <td>высшее</td>\n",
       "      <td>0</td>\n",
       "      <td>женат / замужем</td>\n",
       "      <td>0</td>\n",
       "      <td>F</td>\n",
       "      <td>сотрудник</td>\n",
       "      <td>0</td>\n",
       "      <td>253875.639453</td>\n",
       "      <td>покупка жилья</td>\n",
       "    </tr>\n",
       "    <tr>\n",
       "      <th>1</th>\n",
       "      <td>1</td>\n",
       "      <td>-4024.803754</td>\n",
       "      <td>36</td>\n",
       "      <td>среднее</td>\n",
       "      <td>1</td>\n",
       "      <td>женат / замужем</td>\n",
       "      <td>0</td>\n",
       "      <td>F</td>\n",
       "      <td>сотрудник</td>\n",
       "      <td>0</td>\n",
       "      <td>112080.014102</td>\n",
       "      <td>приобретение автомобиля</td>\n",
       "    </tr>\n",
       "    <tr>\n",
       "      <th>2</th>\n",
       "      <td>0</td>\n",
       "      <td>-5623.422610</td>\n",
       "      <td>33</td>\n",
       "      <td>Среднее</td>\n",
       "      <td>1</td>\n",
       "      <td>женат / замужем</td>\n",
       "      <td>0</td>\n",
       "      <td>M</td>\n",
       "      <td>сотрудник</td>\n",
       "      <td>0</td>\n",
       "      <td>145885.952297</td>\n",
       "      <td>покупка жилья</td>\n",
       "    </tr>\n",
       "    <tr>\n",
       "      <th>3</th>\n",
       "      <td>3</td>\n",
       "      <td>-4124.747207</td>\n",
       "      <td>32</td>\n",
       "      <td>среднее</td>\n",
       "      <td>1</td>\n",
       "      <td>женат / замужем</td>\n",
       "      <td>0</td>\n",
       "      <td>M</td>\n",
       "      <td>сотрудник</td>\n",
       "      <td>0</td>\n",
       "      <td>267628.550329</td>\n",
       "      <td>дополнительное образование</td>\n",
       "    </tr>\n",
       "    <tr>\n",
       "      <th>4</th>\n",
       "      <td>0</td>\n",
       "      <td>340266.072047</td>\n",
       "      <td>53</td>\n",
       "      <td>среднее</td>\n",
       "      <td>1</td>\n",
       "      <td>гражданский брак</td>\n",
       "      <td>1</td>\n",
       "      <td>F</td>\n",
       "      <td>пенсионер</td>\n",
       "      <td>0</td>\n",
       "      <td>158616.077870</td>\n",
       "      <td>сыграть свадьбу</td>\n",
       "    </tr>\n",
       "    <tr>\n",
       "      <th>5</th>\n",
       "      <td>0</td>\n",
       "      <td>-926.185831</td>\n",
       "      <td>27</td>\n",
       "      <td>высшее</td>\n",
       "      <td>0</td>\n",
       "      <td>гражданский брак</td>\n",
       "      <td>1</td>\n",
       "      <td>M</td>\n",
       "      <td>компаньон</td>\n",
       "      <td>0</td>\n",
       "      <td>255763.565419</td>\n",
       "      <td>покупка жилья</td>\n",
       "    </tr>\n",
       "    <tr>\n",
       "      <th>6</th>\n",
       "      <td>0</td>\n",
       "      <td>-2879.202052</td>\n",
       "      <td>43</td>\n",
       "      <td>высшее</td>\n",
       "      <td>0</td>\n",
       "      <td>женат / замужем</td>\n",
       "      <td>0</td>\n",
       "      <td>F</td>\n",
       "      <td>компаньон</td>\n",
       "      <td>0</td>\n",
       "      <td>240525.971920</td>\n",
       "      <td>операции с жильем</td>\n",
       "    </tr>\n",
       "    <tr>\n",
       "      <th>7</th>\n",
       "      <td>0</td>\n",
       "      <td>-152.779569</td>\n",
       "      <td>50</td>\n",
       "      <td>СРЕДНЕЕ</td>\n",
       "      <td>1</td>\n",
       "      <td>женат / замужем</td>\n",
       "      <td>0</td>\n",
       "      <td>M</td>\n",
       "      <td>сотрудник</td>\n",
       "      <td>0</td>\n",
       "      <td>135823.934197</td>\n",
       "      <td>образование</td>\n",
       "    </tr>\n",
       "    <tr>\n",
       "      <th>8</th>\n",
       "      <td>2</td>\n",
       "      <td>-6929.865299</td>\n",
       "      <td>35</td>\n",
       "      <td>ВЫСШЕЕ</td>\n",
       "      <td>0</td>\n",
       "      <td>гражданский брак</td>\n",
       "      <td>1</td>\n",
       "      <td>F</td>\n",
       "      <td>сотрудник</td>\n",
       "      <td>0</td>\n",
       "      <td>95856.832424</td>\n",
       "      <td>на проведение свадьбы</td>\n",
       "    </tr>\n",
       "    <tr>\n",
       "      <th>9</th>\n",
       "      <td>0</td>\n",
       "      <td>-2188.756445</td>\n",
       "      <td>41</td>\n",
       "      <td>среднее</td>\n",
       "      <td>1</td>\n",
       "      <td>женат / замужем</td>\n",
       "      <td>0</td>\n",
       "      <td>M</td>\n",
       "      <td>сотрудник</td>\n",
       "      <td>0</td>\n",
       "      <td>144425.938277</td>\n",
       "      <td>покупка жилья для семьи</td>\n",
       "    </tr>\n",
       "    <tr>\n",
       "      <th>10</th>\n",
       "      <td>2</td>\n",
       "      <td>-4171.483647</td>\n",
       "      <td>36</td>\n",
       "      <td>высшее</td>\n",
       "      <td>0</td>\n",
       "      <td>женат / замужем</td>\n",
       "      <td>0</td>\n",
       "      <td>M</td>\n",
       "      <td>компаньон</td>\n",
       "      <td>0</td>\n",
       "      <td>113943.491460</td>\n",
       "      <td>покупка недвижимости</td>\n",
       "    </tr>\n",
       "    <tr>\n",
       "      <th>11</th>\n",
       "      <td>0</td>\n",
       "      <td>-792.701887</td>\n",
       "      <td>40</td>\n",
       "      <td>среднее</td>\n",
       "      <td>1</td>\n",
       "      <td>женат / замужем</td>\n",
       "      <td>0</td>\n",
       "      <td>F</td>\n",
       "      <td>сотрудник</td>\n",
       "      <td>0</td>\n",
       "      <td>77069.234271</td>\n",
       "      <td>покупка коммерческой недвижимости</td>\n",
       "    </tr>\n",
       "    <tr>\n",
       "      <th>12</th>\n",
       "      <td>0</td>\n",
       "      <td>NaN</td>\n",
       "      <td>65</td>\n",
       "      <td>среднее</td>\n",
       "      <td>1</td>\n",
       "      <td>гражданский брак</td>\n",
       "      <td>1</td>\n",
       "      <td>M</td>\n",
       "      <td>пенсионер</td>\n",
       "      <td>0</td>\n",
       "      <td>NaN</td>\n",
       "      <td>сыграть свадьбу</td>\n",
       "    </tr>\n",
       "    <tr>\n",
       "      <th>13</th>\n",
       "      <td>0</td>\n",
       "      <td>-1846.641941</td>\n",
       "      <td>54</td>\n",
       "      <td>неоконченное высшее</td>\n",
       "      <td>2</td>\n",
       "      <td>женат / замужем</td>\n",
       "      <td>0</td>\n",
       "      <td>F</td>\n",
       "      <td>сотрудник</td>\n",
       "      <td>0</td>\n",
       "      <td>130458.228857</td>\n",
       "      <td>приобретение автомобиля</td>\n",
       "    </tr>\n",
       "    <tr>\n",
       "      <th>14</th>\n",
       "      <td>0</td>\n",
       "      <td>-1844.956182</td>\n",
       "      <td>56</td>\n",
       "      <td>высшее</td>\n",
       "      <td>0</td>\n",
       "      <td>гражданский брак</td>\n",
       "      <td>1</td>\n",
       "      <td>F</td>\n",
       "      <td>компаньон</td>\n",
       "      <td>1</td>\n",
       "      <td>165127.911772</td>\n",
       "      <td>покупка жилой недвижимости</td>\n",
       "    </tr>\n",
       "    <tr>\n",
       "      <th>15</th>\n",
       "      <td>1</td>\n",
       "      <td>-972.364419</td>\n",
       "      <td>26</td>\n",
       "      <td>среднее</td>\n",
       "      <td>1</td>\n",
       "      <td>женат / замужем</td>\n",
       "      <td>0</td>\n",
       "      <td>F</td>\n",
       "      <td>сотрудник</td>\n",
       "      <td>0</td>\n",
       "      <td>116820.904450</td>\n",
       "      <td>строительство собственной недвижимости</td>\n",
       "    </tr>\n",
       "    <tr>\n",
       "      <th>16</th>\n",
       "      <td>0</td>\n",
       "      <td>-1719.934226</td>\n",
       "      <td>35</td>\n",
       "      <td>среднее</td>\n",
       "      <td>1</td>\n",
       "      <td>женат / замужем</td>\n",
       "      <td>0</td>\n",
       "      <td>F</td>\n",
       "      <td>сотрудник</td>\n",
       "      <td>0</td>\n",
       "      <td>289202.704229</td>\n",
       "      <td>недвижимость</td>\n",
       "    </tr>\n",
       "    <tr>\n",
       "      <th>17</th>\n",
       "      <td>0</td>\n",
       "      <td>-2369.999720</td>\n",
       "      <td>33</td>\n",
       "      <td>высшее</td>\n",
       "      <td>0</td>\n",
       "      <td>гражданский брак</td>\n",
       "      <td>1</td>\n",
       "      <td>M</td>\n",
       "      <td>сотрудник</td>\n",
       "      <td>0</td>\n",
       "      <td>90410.586745</td>\n",
       "      <td>строительство недвижимости</td>\n",
       "    </tr>\n",
       "    <tr>\n",
       "      <th>18</th>\n",
       "      <td>0</td>\n",
       "      <td>400281.136913</td>\n",
       "      <td>53</td>\n",
       "      <td>среднее</td>\n",
       "      <td>1</td>\n",
       "      <td>вдовец / вдова</td>\n",
       "      <td>2</td>\n",
       "      <td>F</td>\n",
       "      <td>пенсионер</td>\n",
       "      <td>0</td>\n",
       "      <td>56823.777243</td>\n",
       "      <td>на покупку подержанного автомобиля</td>\n",
       "    </tr>\n",
       "    <tr>\n",
       "      <th>19</th>\n",
       "      <td>0</td>\n",
       "      <td>-10038.818549</td>\n",
       "      <td>48</td>\n",
       "      <td>СРЕДНЕЕ</td>\n",
       "      <td>1</td>\n",
       "      <td>в разводе</td>\n",
       "      <td>3</td>\n",
       "      <td>F</td>\n",
       "      <td>сотрудник</td>\n",
       "      <td>0</td>\n",
       "      <td>242831.107982</td>\n",
       "      <td>на покупку своего автомобиля</td>\n",
       "    </tr>\n",
       "  </tbody>\n",
       "</table>\n",
       "</div>"
      ],
      "text/plain": [
       "    children  days_employed  dob_years            education  education_id  \\\n",
       "0          1   -8437.673028         42               высшее             0   \n",
       "1          1   -4024.803754         36              среднее             1   \n",
       "2          0   -5623.422610         33              Среднее             1   \n",
       "3          3   -4124.747207         32              среднее             1   \n",
       "4          0  340266.072047         53              среднее             1   \n",
       "5          0    -926.185831         27               высшее             0   \n",
       "6          0   -2879.202052         43               высшее             0   \n",
       "7          0    -152.779569         50              СРЕДНЕЕ             1   \n",
       "8          2   -6929.865299         35               ВЫСШЕЕ             0   \n",
       "9          0   -2188.756445         41              среднее             1   \n",
       "10         2   -4171.483647         36               высшее             0   \n",
       "11         0    -792.701887         40              среднее             1   \n",
       "12         0            NaN         65              среднее             1   \n",
       "13         0   -1846.641941         54  неоконченное высшее             2   \n",
       "14         0   -1844.956182         56               высшее             0   \n",
       "15         1    -972.364419         26              среднее             1   \n",
       "16         0   -1719.934226         35              среднее             1   \n",
       "17         0   -2369.999720         33               высшее             0   \n",
       "18         0  400281.136913         53              среднее             1   \n",
       "19         0  -10038.818549         48              СРЕДНЕЕ             1   \n",
       "\n",
       "       family_status  family_status_id gender income_type  debt  \\\n",
       "0    женат / замужем                 0      F   сотрудник     0   \n",
       "1    женат / замужем                 0      F   сотрудник     0   \n",
       "2    женат / замужем                 0      M   сотрудник     0   \n",
       "3    женат / замужем                 0      M   сотрудник     0   \n",
       "4   гражданский брак                 1      F   пенсионер     0   \n",
       "5   гражданский брак                 1      M   компаньон     0   \n",
       "6    женат / замужем                 0      F   компаньон     0   \n",
       "7    женат / замужем                 0      M   сотрудник     0   \n",
       "8   гражданский брак                 1      F   сотрудник     0   \n",
       "9    женат / замужем                 0      M   сотрудник     0   \n",
       "10   женат / замужем                 0      M   компаньон     0   \n",
       "11   женат / замужем                 0      F   сотрудник     0   \n",
       "12  гражданский брак                 1      M   пенсионер     0   \n",
       "13   женат / замужем                 0      F   сотрудник     0   \n",
       "14  гражданский брак                 1      F   компаньон     1   \n",
       "15   женат / замужем                 0      F   сотрудник     0   \n",
       "16   женат / замужем                 0      F   сотрудник     0   \n",
       "17  гражданский брак                 1      M   сотрудник     0   \n",
       "18    вдовец / вдова                 2      F   пенсионер     0   \n",
       "19         в разводе                 3      F   сотрудник     0   \n",
       "\n",
       "     total_income                                 purpose  \n",
       "0   253875.639453                           покупка жилья  \n",
       "1   112080.014102                 приобретение автомобиля  \n",
       "2   145885.952297                           покупка жилья  \n",
       "3   267628.550329              дополнительное образование  \n",
       "4   158616.077870                         сыграть свадьбу  \n",
       "5   255763.565419                           покупка жилья  \n",
       "6   240525.971920                       операции с жильем  \n",
       "7   135823.934197                             образование  \n",
       "8    95856.832424                   на проведение свадьбы  \n",
       "9   144425.938277                 покупка жилья для семьи  \n",
       "10  113943.491460                    покупка недвижимости  \n",
       "11   77069.234271       покупка коммерческой недвижимости  \n",
       "12            NaN                         сыграть свадьбу  \n",
       "13  130458.228857                 приобретение автомобиля  \n",
       "14  165127.911772              покупка жилой недвижимости  \n",
       "15  116820.904450  строительство собственной недвижимости  \n",
       "16  289202.704229                            недвижимость  \n",
       "17   90410.586745              строительство недвижимости  \n",
       "18   56823.777243      на покупку подержанного автомобиля  \n",
       "19  242831.107982            на покупку своего автомобиля  "
      ]
     },
     "execution_count": 3,
     "metadata": {},
     "output_type": "execute_result"
    }
   ],
   "source": [
    "data.head(20)"
   ]
  },
  {
   "cell_type": "code",
   "execution_count": 4,
   "id": "aefe6aa8",
   "metadata": {},
   "outputs": [
    {
     "name": "stdout",
     "output_type": "stream",
     "text": [
      "<class 'pandas.core.frame.DataFrame'>\n",
      "RangeIndex: 21525 entries, 0 to 21524\n",
      "Data columns (total 12 columns):\n",
      " #   Column            Non-Null Count  Dtype  \n",
      "---  ------            --------------  -----  \n",
      " 0   children          21525 non-null  int64  \n",
      " 1   days_employed     19351 non-null  float64\n",
      " 2   dob_years         21525 non-null  int64  \n",
      " 3   education         21525 non-null  object \n",
      " 4   education_id      21525 non-null  int64  \n",
      " 5   family_status     21525 non-null  object \n",
      " 6   family_status_id  21525 non-null  int64  \n",
      " 7   gender            21525 non-null  object \n",
      " 8   income_type       21525 non-null  object \n",
      " 9   debt              21525 non-null  int64  \n",
      " 10  total_income      19351 non-null  float64\n",
      " 11  purpose           21525 non-null  object \n",
      "dtypes: float64(2), int64(5), object(5)\n",
      "memory usage: 2.0+ MB\n"
     ]
    }
   ],
   "source": [
    "data.info()"
   ]
  },
  {
   "cell_type": "markdown",
   "id": "022699f9",
   "metadata": {},
   "source": [
    "## Предобработка данных"
   ]
  },
  {
   "cell_type": "markdown",
   "id": "e5940a16",
   "metadata": {},
   "source": [
    "### Удаление пропусков"
   ]
  },
  {
   "cell_type": "markdown",
   "id": "060954d2",
   "metadata": {},
   "source": [
    "Посмотрим количество пропущенных значений для каждого столбца"
   ]
  },
  {
   "cell_type": "code",
   "execution_count": 5,
   "id": "ebf798fb",
   "metadata": {},
   "outputs": [
    {
     "data": {
      "text/plain": [
       "children               0\n",
       "days_employed       2174\n",
       "dob_years              0\n",
       "education              0\n",
       "education_id           0\n",
       "family_status          0\n",
       "family_status_id       0\n",
       "gender                 0\n",
       "income_type            0\n",
       "debt                   0\n",
       "total_income        2174\n",
       "purpose                0\n",
       "dtype: int64"
      ]
     },
     "execution_count": 5,
     "metadata": {},
     "output_type": "execute_result"
    }
   ],
   "source": [
    "data.isna().sum()"
   ]
  },
  {
   "cell_type": "markdown",
   "id": "0bf58fb3",
   "metadata": {},
   "source": [
    "В двух столбцах есть пропущенные значения. В столбце с данными о доходах `total_income` заполним пропуски медианным значением по каждому типу из столбца `income_type`, так как на сумму дохода сильнее всего влияет тип занятости."
   ]
  },
  {
   "cell_type": "code",
   "execution_count": 6,
   "id": "418a25ed",
   "metadata": {},
   "outputs": [],
   "source": [
    "for t in data['income_type'].unique():\n",
    "    data.loc[(data['income_type'] == t) & (data['total_income'].isna()), 'total_income'] = \\\n",
    "    data.loc[(data['income_type'] == t), 'total_income'].median()"
   ]
  },
  {
   "cell_type": "markdown",
   "id": "354dd3a8",
   "metadata": {},
   "source": [
    "Заполним пропуски в столбце days_employed медианными значениями по каждого типа занятости income_type"
   ]
  },
  {
   "cell_type": "code",
   "execution_count": 12,
   "id": "e74fb26a",
   "metadata": {},
   "outputs": [],
   "source": [
    "for t in data['income_type'].unique():\n",
    "    data.loc[(data['income_type'] == t) & (data['days_employed'].isna()), 'days_employed'] = \\\n",
    "    data.loc[(data['income_type'] == t), 'days_employed'].median()"
   ]
  },
  {
   "cell_type": "markdown",
   "id": "7f2822b5",
   "metadata": {},
   "source": [
    "Проверим, что все пропуски заполнены"
   ]
  },
  {
   "cell_type": "code",
   "execution_count": 13,
   "id": "9a31c12c",
   "metadata": {},
   "outputs": [
    {
     "data": {
      "text/plain": [
       "children            0\n",
       "days_employed       0\n",
       "dob_years           0\n",
       "education           0\n",
       "education_id        0\n",
       "family_status       0\n",
       "family_status_id    0\n",
       "gender              0\n",
       "income_type         0\n",
       "debt                0\n",
       "total_income        0\n",
       "purpose             0\n",
       "dtype: int64"
      ]
     },
     "execution_count": 13,
     "metadata": {},
     "output_type": "execute_result"
    }
   ],
   "source": [
    "data.isna().sum()"
   ]
  },
  {
   "cell_type": "markdown",
   "id": "481659bb",
   "metadata": {},
   "source": [
    "### Обработка аномальных значений"
   ]
  },
  {
   "cell_type": "markdown",
   "id": "7ee66135",
   "metadata": {},
   "source": [
    "В столбце `days_employed`, количество дней трудового стажа, есть аномальные отрицательные значения. Заменим их на положительные."
   ]
  },
  {
   "cell_type": "code",
   "execution_count": 7,
   "id": "6da829aa",
   "metadata": {},
   "outputs": [],
   "source": [
    "data['days_employed'] = data['days_employed'].abs()"
   ]
  },
  {
   "cell_type": "markdown",
   "id": "103fc506",
   "metadata": {},
   "source": [
    "Для каждого типа занятости выведем медианное значение трудового стажа days_employed в днях"
   ]
  },
  {
   "cell_type": "code",
   "execution_count": 8,
   "id": "b7cab7d9",
   "metadata": {},
   "outputs": [
    {
     "data": {
      "text/plain": [
       "income_type\n",
       "безработный        366413.652744\n",
       "в декрете            3296.759962\n",
       "госслужащий          2689.368353\n",
       "компаньон            1547.382223\n",
       "пенсионер          365213.306266\n",
       "предприниматель       520.848083\n",
       "сотрудник            1574.202821\n",
       "студент               578.751554\n",
       "Name: days_employed, dtype: float64"
      ]
     },
     "execution_count": 8,
     "metadata": {},
     "output_type": "execute_result"
    }
   ],
   "source": [
    "data.groupby('income_type')['days_employed'].agg('median')"
   ]
  },
  {
   "cell_type": "markdown",
   "id": "afc8d065",
   "metadata": {},
   "source": [
    "В двух типах (безработные и пенсионеры) присутствуют аномально большие значения. Оставим их как есть, так как этот столбец не понадобится для исследования."
   ]
  },
  {
   "cell_type": "markdown",
   "id": "5167f4c3",
   "metadata": {},
   "source": [
    "Выведем перечень уникальных значений столбца `children`"
   ]
  },
  {
   "cell_type": "code",
   "execution_count": 9,
   "id": "945b116c",
   "metadata": {},
   "outputs": [
    {
     "data": {
      "text/plain": [
       "array([ 1,  0,  3,  2, -1,  4, 20,  5])"
      ]
     },
     "execution_count": 9,
     "metadata": {},
     "output_type": "execute_result"
    }
   ],
   "source": [
    "data['children'].unique()"
   ]
  },
  {
   "cell_type": "markdown",
   "id": "c8d6c9ca",
   "metadata": {},
   "source": [
    "Удалим строки с аномальными значениями."
   ]
  },
  {
   "cell_type": "code",
   "execution_count": 10,
   "id": "7c6d8b51",
   "metadata": {},
   "outputs": [],
   "source": [
    "data = data[(data['children'] != -1) & (data['children'] != 20)]"
   ]
  },
  {
   "cell_type": "markdown",
   "id": "893df48c",
   "metadata": {},
   "source": [
    "Проверим результат"
   ]
  },
  {
   "cell_type": "code",
   "execution_count": 11,
   "id": "a9a771f1",
   "metadata": {},
   "outputs": [
    {
     "data": {
      "text/plain": [
       "array([1, 0, 3, 2, 4, 5])"
      ]
     },
     "execution_count": 11,
     "metadata": {},
     "output_type": "execute_result"
    }
   ],
   "source": [
    "data['children'].unique()"
   ]
  },
  {
   "cell_type": "markdown",
   "id": "cb4c14c9",
   "metadata": {},
   "source": [
    "### Изменение типов данных"
   ]
  },
  {
   "cell_type": "markdown",
   "id": "3b4d8588",
   "metadata": {},
   "source": [
    "Заменим вещественный тип данных в столбце total_income на целочисленный"
   ]
  },
  {
   "cell_type": "code",
   "execution_count": 14,
   "id": "823cc7da",
   "metadata": {},
   "outputs": [],
   "source": [
    "data['total_income'] = data['total_income'].astype(int)"
   ]
  },
  {
   "cell_type": "markdown",
   "id": "fa4461c6",
   "metadata": {},
   "source": [
    "### Обработка дубликатов"
   ]
  },
  {
   "cell_type": "markdown",
   "id": "fab5c5ad",
   "metadata": {},
   "source": [
    "В столбце `education` есть одни и те же значения, записанные по-разному. Приведем данные к нижнему регистру."
   ]
  },
  {
   "cell_type": "code",
   "execution_count": 15,
   "id": "73b71dd5",
   "metadata": {},
   "outputs": [],
   "source": [
    "data['education'] = data['education'].str.lower()"
   ]
  },
  {
   "cell_type": "markdown",
   "id": "45e7dd8b",
   "metadata": {},
   "source": [
    "Проверим данные на количество строк-дубликатов. Если такие строки присутствуют, удалим"
   ]
  },
  {
   "cell_type": "code",
   "execution_count": 16,
   "id": "5d4e06a9",
   "metadata": {},
   "outputs": [
    {
     "data": {
      "text/plain": [
       "71"
      ]
     },
     "execution_count": 16,
     "metadata": {},
     "output_type": "execute_result"
    }
   ],
   "source": [
    "data.duplicated().sum()"
   ]
  },
  {
   "cell_type": "code",
   "execution_count": 19,
   "id": "03ba3ad2",
   "metadata": {},
   "outputs": [],
   "source": [
    "data = data.drop_duplicates()"
   ]
  },
  {
   "cell_type": "markdown",
   "id": "bdc4feb1",
   "metadata": {},
   "source": [
    "### Категоризация данных"
   ]
  },
  {
   "cell_type": "markdown",
   "id": "ffa4fb08",
   "metadata": {},
   "source": [
    "На основании диапазонов, указанных ниже, создадим в датафрейме столбец `total_income_category` с категориями:**\n",
    "\n",
    "- 0–30000 — `'E'`;\n",
    "- 30001–50000 — `'D'`;\n",
    "- 50001–200000 — `'C'`;\n",
    "- 200001–1000000 — `'B'`;\n",
    "- 1000001 и выше — `'A'`.\n"
   ]
  },
  {
   "cell_type": "code",
   "execution_count": 20,
   "id": "30060b7f",
   "metadata": {},
   "outputs": [],
   "source": [
    "def categorize_income(income):\n",
    "    try:\n",
    "        if 0 <= income <= 30000:\n",
    "            return 'E'\n",
    "        elif 30001 <= income <= 50000:\n",
    "            return 'D'\n",
    "        elif 50001 <= income <= 200000:\n",
    "            return 'C'\n",
    "        elif 200001 <= income <= 1000000:\n",
    "            return 'B'\n",
    "        elif income >= 1000001:\n",
    "            return 'A'\n",
    "    except:\n",
    "        pass"
   ]
  },
  {
   "cell_type": "code",
   "execution_count": 21,
   "id": "7b0b7bfd",
   "metadata": {},
   "outputs": [],
   "source": [
    "data['total_income_category'] = data['total_income'].apply(categorize_income)"
   ]
  },
  {
   "cell_type": "markdown",
   "id": "b1063497",
   "metadata": {},
   "source": [
    "Посмотрим на перечень уникальных целей взятия кредита из столбца `purpose`"
   ]
  },
  {
   "cell_type": "code",
   "execution_count": 22,
   "id": "27626c7d",
   "metadata": {},
   "outputs": [
    {
     "data": {
      "text/plain": [
       "array(['покупка жилья', 'приобретение автомобиля',\n",
       "       'дополнительное образование', 'сыграть свадьбу',\n",
       "       'операции с жильем', 'образование', 'на проведение свадьбы',\n",
       "       'покупка жилья для семьи', 'покупка недвижимости',\n",
       "       'покупка коммерческой недвижимости', 'покупка жилой недвижимости',\n",
       "       'строительство собственной недвижимости', 'недвижимость',\n",
       "       'строительство недвижимости', 'на покупку подержанного автомобиля',\n",
       "       'на покупку своего автомобиля',\n",
       "       'операции с коммерческой недвижимостью',\n",
       "       'строительство жилой недвижимости', 'жилье',\n",
       "       'операции со своей недвижимостью', 'автомобили',\n",
       "       'заняться образованием', 'сделка с подержанным автомобилем',\n",
       "       'получение образования', 'автомобиль', 'свадьба',\n",
       "       'получение дополнительного образования', 'покупка своего жилья',\n",
       "       'операции с недвижимостью', 'получение высшего образования',\n",
       "       'свой автомобиль', 'сделка с автомобилем',\n",
       "       'профильное образование', 'высшее образование',\n",
       "       'покупка жилья для сдачи', 'на покупку автомобиля', 'ремонт жилью',\n",
       "       'заняться высшим образованием'], dtype=object)"
      ]
     },
     "execution_count": 22,
     "metadata": {},
     "output_type": "execute_result"
    }
   ],
   "source": [
    "data['purpose'].unique()"
   ]
  },
  {
   "cell_type": "markdown",
   "id": "e3e2f77a",
   "metadata": {},
   "source": [
    "Создадим функцию, которая на основании данных из столбца purpose сформирует новый столбец purpose_category, в который войдут следующие категории:\n",
    "\n",
    "- 'операции с автомобилем',\n",
    "- 'операции с недвижимостью',\n",
    "- 'проведение свадьбы',\n",
    "- 'получение образования'."
   ]
  },
  {
   "cell_type": "code",
   "execution_count": 23,
   "id": "d68cdc65",
   "metadata": {},
   "outputs": [],
   "source": [
    "def categorize_purpose(row):\n",
    "    try:\n",
    "        if 'автом' in row:\n",
    "            return 'операции с автомобилем'\n",
    "        elif 'жил' in row or 'недвиж' in row:\n",
    "            return 'операции с недвижимостью'\n",
    "        elif 'свад' in row:\n",
    "            return 'проведение свадьбы'\n",
    "        elif 'образов' in row:\n",
    "            return 'получение образования'\n",
    "    except:\n",
    "        return 'нет категории'"
   ]
  },
  {
   "cell_type": "code",
   "execution_count": 24,
   "id": "938ee120",
   "metadata": {},
   "outputs": [],
   "source": [
    "data['purpose_category'] = data['purpose'].apply(categorize_purpose)"
   ]
  },
  {
   "cell_type": "markdown",
   "id": "b7bdfe04",
   "metadata": {},
   "source": [
    "## Исследование  данных и ответы на поставленные вопросы"
   ]
  },
  {
   "cell_type": "markdown",
   "id": "fd6a1fa2",
   "metadata": {},
   "source": [
    "### Зависимость между количеством детей и возвратом кредита в срок"
   ]
  },
  {
   "cell_type": "code",
   "execution_count": 25,
   "id": "1d6db678",
   "metadata": {},
   "outputs": [
    {
     "data": {
      "text/html": [
       "<div>\n",
       "<style scoped>\n",
       "    .dataframe tbody tr th:only-of-type {\n",
       "        vertical-align: middle;\n",
       "    }\n",
       "\n",
       "    .dataframe tbody tr th {\n",
       "        vertical-align: top;\n",
       "    }\n",
       "\n",
       "    .dataframe thead th {\n",
       "        text-align: right;\n",
       "    }\n",
       "</style>\n",
       "<table border=\"1\" class=\"dataframe\">\n",
       "  <thead>\n",
       "    <tr style=\"text-align: right;\">\n",
       "      <th></th>\n",
       "      <th>count_children</th>\n",
       "      <th>sum_children</th>\n",
       "      <th>result_children</th>\n",
       "    </tr>\n",
       "    <tr>\n",
       "      <th>children</th>\n",
       "      <th></th>\n",
       "      <th></th>\n",
       "      <th></th>\n",
       "    </tr>\n",
       "  </thead>\n",
       "  <tbody>\n",
       "    <tr>\n",
       "      <th>4</th>\n",
       "      <td>41</td>\n",
       "      <td>4</td>\n",
       "      <td>0.097561</td>\n",
       "    </tr>\n",
       "    <tr>\n",
       "      <th>2</th>\n",
       "      <td>2052</td>\n",
       "      <td>194</td>\n",
       "      <td>0.094542</td>\n",
       "    </tr>\n",
       "    <tr>\n",
       "      <th>1</th>\n",
       "      <td>4808</td>\n",
       "      <td>444</td>\n",
       "      <td>0.092346</td>\n",
       "    </tr>\n",
       "    <tr>\n",
       "      <th>3</th>\n",
       "      <td>330</td>\n",
       "      <td>27</td>\n",
       "      <td>0.081818</td>\n",
       "    </tr>\n",
       "    <tr>\n",
       "      <th>0</th>\n",
       "      <td>14091</td>\n",
       "      <td>1063</td>\n",
       "      <td>0.075438</td>\n",
       "    </tr>\n",
       "    <tr>\n",
       "      <th>5</th>\n",
       "      <td>9</td>\n",
       "      <td>0</td>\n",
       "      <td>0.000000</td>\n",
       "    </tr>\n",
       "  </tbody>\n",
       "</table>\n",
       "</div>"
      ],
      "text/plain": [
       "          count_children  sum_children  result_children\n",
       "children                                               \n",
       "4                     41             4         0.097561\n",
       "2                   2052           194         0.094542\n",
       "1                   4808           444         0.092346\n",
       "3                    330            27         0.081818\n",
       "0                  14091          1063         0.075438\n",
       "5                      9             0         0.000000"
      ]
     },
     "execution_count": 25,
     "metadata": {},
     "output_type": "execute_result"
    }
   ],
   "source": [
    "debt_children = pd.DataFrame()\n",
    "\n",
    "debt_children['count_children'] = data.groupby('children')['debt'].count()\n",
    "\n",
    "debt_children['sum_children'] = data.groupby('children')['debt'].sum() \n",
    "\n",
    "debt_children['result_children'] = data.groupby('children')['debt'].mean()  \n",
    "\n",
    "debt_children.sort_values('result_children', ascending = False)\n"
   ]
  },
  {
   "cell_type": "markdown",
   "id": "0803546e",
   "metadata": {},
   "source": [
    "**Вывод:** Полученные данные неоднозначны, возможно, нужна бОльшая выборка. Только 9 человек имеют пятерых детей, этого не достаточно, чтобы делать выводы по данной категории. В имеющейся выборке эта категория не оформляла кредитов. С увеличением количества детей в семье люди реже обращаются за кредитами. Наибольшее количество кредитов берут и имеют меньше просрочек бездетные люди. Просроченные выплаты примерно одинаковы у семей с 1,2 и 4-мя деьтми, хотя данных о семьях с 4-мя детьми также недостаточно. Из семей с детьми наиболее часто осуществляют выплаты в срок семьи с 3-мя детьми."
   ]
  },
  {
   "cell_type": "markdown",
   "id": "7a8f39d5",
   "metadata": {},
   "source": [
    "### Зависимость между семейным положением и возвратом кредита в срок"
   ]
  },
  {
   "cell_type": "code",
   "execution_count": 26,
   "id": "7ccb104f",
   "metadata": {},
   "outputs": [
    {
     "data": {
      "text/html": [
       "<div>\n",
       "<style scoped>\n",
       "    .dataframe tbody tr th:only-of-type {\n",
       "        vertical-align: middle;\n",
       "    }\n",
       "\n",
       "    .dataframe tbody tr th {\n",
       "        vertical-align: top;\n",
       "    }\n",
       "\n",
       "    .dataframe thead th {\n",
       "        text-align: right;\n",
       "    }\n",
       "</style>\n",
       "<table border=\"1\" class=\"dataframe\">\n",
       "  <thead>\n",
       "    <tr style=\"text-align: right;\">\n",
       "      <th></th>\n",
       "      <th>sum_family_status</th>\n",
       "      <th>count_family_status</th>\n",
       "      <th>result_family_status</th>\n",
       "    </tr>\n",
       "    <tr>\n",
       "      <th>family_status</th>\n",
       "      <th></th>\n",
       "      <th></th>\n",
       "      <th></th>\n",
       "    </tr>\n",
       "  </thead>\n",
       "  <tbody>\n",
       "    <tr>\n",
       "      <th>Не женат / не замужем</th>\n",
       "      <td>273</td>\n",
       "      <td>2796</td>\n",
       "      <td>0.097639</td>\n",
       "    </tr>\n",
       "    <tr>\n",
       "      <th>гражданский брак</th>\n",
       "      <td>385</td>\n",
       "      <td>4134</td>\n",
       "      <td>0.093130</td>\n",
       "    </tr>\n",
       "    <tr>\n",
       "      <th>женат / замужем</th>\n",
       "      <td>927</td>\n",
       "      <td>12261</td>\n",
       "      <td>0.075606</td>\n",
       "    </tr>\n",
       "    <tr>\n",
       "      <th>в разводе</th>\n",
       "      <td>84</td>\n",
       "      <td>1189</td>\n",
       "      <td>0.070648</td>\n",
       "    </tr>\n",
       "    <tr>\n",
       "      <th>вдовец / вдова</th>\n",
       "      <td>63</td>\n",
       "      <td>951</td>\n",
       "      <td>0.066246</td>\n",
       "    </tr>\n",
       "  </tbody>\n",
       "</table>\n",
       "</div>"
      ],
      "text/plain": [
       "                       sum_family_status  count_family_status  \\\n",
       "family_status                                                   \n",
       "Не женат / не замужем                273                 2796   \n",
       "гражданский брак                     385                 4134   \n",
       "женат / замужем                      927                12261   \n",
       "в разводе                             84                 1189   \n",
       "вдовец / вдова                        63                  951   \n",
       "\n",
       "                       result_family_status  \n",
       "family_status                                \n",
       "Не женат / не замужем              0.097639  \n",
       "гражданский брак                   0.093130  \n",
       "женат / замужем                    0.075606  \n",
       "в разводе                          0.070648  \n",
       "вдовец / вдова                     0.066246  "
      ]
     },
     "execution_count": 26,
     "metadata": {},
     "output_type": "execute_result"
    }
   ],
   "source": [
    "debt_family_status = pd.DataFrame()\n",
    "\n",
    "debt_family_status['sum_family_status'] = data.groupby('family_status')['debt'].sum() \n",
    "\n",
    "debt_family_status['count_family_status'] = data.groupby('family_status')['debt'].count() \n",
    "\n",
    "debt_family_status['result_family_status'] = data.groupby('family_status')['debt'].mean() \n",
    "\n",
    "debt_family_status.sort_values('result_family_status', ascending = False)\n"
   ]
  },
  {
   "cell_type": "markdown",
   "id": "c715f692",
   "metadata": {},
   "source": [
    "**Вывод:** Наблюдается зависимость платежеспособности от семейного положения. Люди, проживающие в гражданском браке и не бывавшие в браке, имеют бОльшее количество задежек выплат. Холостые/не замужние часто берут кредиты. Наименьшее колчичество просроченных платежей среди овдовевших, однако в данной категории очень малое количество взятых кредитов. Также редко берут кредиты люди в разводе. Люди, состоящие в браке, наиболее часто берут кредиты и чаще осуществляют выплаты кредитов в срок."
   ]
  },
  {
   "cell_type": "markdown",
   "id": "310392e3",
   "metadata": {},
   "source": [
    "### Зависимость между уровнем дохода и возвратом кредита в срок"
   ]
  },
  {
   "cell_type": "code",
   "execution_count": 27,
   "id": "59794fec",
   "metadata": {},
   "outputs": [
    {
     "data": {
      "text/html": [
       "<div>\n",
       "<style scoped>\n",
       "    .dataframe tbody tr th:only-of-type {\n",
       "        vertical-align: middle;\n",
       "    }\n",
       "\n",
       "    .dataframe tbody tr th {\n",
       "        vertical-align: top;\n",
       "    }\n",
       "\n",
       "    .dataframe thead th {\n",
       "        text-align: right;\n",
       "    }\n",
       "</style>\n",
       "<table border=\"1\" class=\"dataframe\">\n",
       "  <thead>\n",
       "    <tr style=\"text-align: right;\">\n",
       "      <th></th>\n",
       "      <th>count_total_income</th>\n",
       "      <th>sum_total_income</th>\n",
       "      <th>result_total_income</th>\n",
       "    </tr>\n",
       "    <tr>\n",
       "      <th>total_income_category</th>\n",
       "      <th></th>\n",
       "      <th></th>\n",
       "      <th></th>\n",
       "    </tr>\n",
       "  </thead>\n",
       "  <tbody>\n",
       "    <tr>\n",
       "      <th>E</th>\n",
       "      <td>22</td>\n",
       "      <td>2</td>\n",
       "      <td>0.090909</td>\n",
       "    </tr>\n",
       "    <tr>\n",
       "      <th>C</th>\n",
       "      <td>15921</td>\n",
       "      <td>1353</td>\n",
       "      <td>0.084982</td>\n",
       "    </tr>\n",
       "    <tr>\n",
       "      <th>A</th>\n",
       "      <td>25</td>\n",
       "      <td>2</td>\n",
       "      <td>0.080000</td>\n",
       "    </tr>\n",
       "    <tr>\n",
       "      <th>B</th>\n",
       "      <td>5014</td>\n",
       "      <td>354</td>\n",
       "      <td>0.070602</td>\n",
       "    </tr>\n",
       "    <tr>\n",
       "      <th>D</th>\n",
       "      <td>349</td>\n",
       "      <td>21</td>\n",
       "      <td>0.060172</td>\n",
       "    </tr>\n",
       "  </tbody>\n",
       "</table>\n",
       "</div>"
      ],
      "text/plain": [
       "                       count_total_income  sum_total_income  \\\n",
       "total_income_category                                         \n",
       "E                                      22                 2   \n",
       "C                                   15921              1353   \n",
       "A                                      25                 2   \n",
       "B                                    5014               354   \n",
       "D                                     349                21   \n",
       "\n",
       "                       result_total_income  \n",
       "total_income_category                       \n",
       "E                                 0.090909  \n",
       "C                                 0.084982  \n",
       "A                                 0.080000  \n",
       "B                                 0.070602  \n",
       "D                                 0.060172  "
      ]
     },
     "execution_count": 27,
     "metadata": {},
     "output_type": "execute_result"
    }
   ],
   "source": [
    "debt_income = pd.DataFrame()\n",
    "\n",
    "debt_income['count_total_income'] = data.groupby('total_income_category')['debt'].count()\n",
    "\n",
    "debt_income['sum_total_income'] = data.groupby('total_income_category')['debt'].sum()\n",
    "\n",
    "debt_income['result_total_income'] = debt_income['sum_total_income'] / debt_income['count_total_income']\n",
    "\n",
    "debt_income.sort_values('result_total_income', ascending = False)\n",
    "                    "
   ]
  },
  {
   "cell_type": "markdown",
   "id": "74dfba84",
   "metadata": {},
   "source": [
    "**Вывод:** Зависимость между уровнем дохода и вовзратом кредитов в срок очень незначительна. Значительно бОльшее количество кредитов оформляют люди с доходом от 50 до 200 000 руб. Также оформляют кредиты люди с доходом от 200 000 до 1 млн и реже - от 50 до 200 000. Люди с очень высоким (более 1 млн) и очень низким (до 50 000) доходом оформляют кредиты крайне мало. Для данных категорий нужна ббОльшая выборка."
   ]
  },
  {
   "cell_type": "markdown",
   "id": "0655300d",
   "metadata": {},
   "source": [
    "### Как разные цели кредита влияют на его возврат в срок"
   ]
  },
  {
   "cell_type": "code",
   "execution_count": 28,
   "id": "3701cc2c",
   "metadata": {},
   "outputs": [
    {
     "data": {
      "text/html": [
       "<div>\n",
       "<style scoped>\n",
       "    .dataframe tbody tr th:only-of-type {\n",
       "        vertical-align: middle;\n",
       "    }\n",
       "\n",
       "    .dataframe tbody tr th {\n",
       "        vertical-align: top;\n",
       "    }\n",
       "\n",
       "    .dataframe thead th {\n",
       "        text-align: right;\n",
       "    }\n",
       "</style>\n",
       "<table border=\"1\" class=\"dataframe\">\n",
       "  <thead>\n",
       "    <tr style=\"text-align: right;\">\n",
       "      <th></th>\n",
       "      <th>sum_purpose_category</th>\n",
       "      <th>count_purpose_category</th>\n",
       "      <th>result_purpose_category</th>\n",
       "    </tr>\n",
       "    <tr>\n",
       "      <th>purpose_category</th>\n",
       "      <th></th>\n",
       "      <th></th>\n",
       "      <th></th>\n",
       "    </tr>\n",
       "  </thead>\n",
       "  <tbody>\n",
       "    <tr>\n",
       "      <th>операции с недвижимостью</th>\n",
       "      <td>780</td>\n",
       "      <td>10751</td>\n",
       "      <td>780</td>\n",
       "    </tr>\n",
       "    <tr>\n",
       "      <th>операции с автомобилем</th>\n",
       "      <td>400</td>\n",
       "      <td>4279</td>\n",
       "      <td>400</td>\n",
       "    </tr>\n",
       "    <tr>\n",
       "      <th>получение образования</th>\n",
       "      <td>369</td>\n",
       "      <td>3988</td>\n",
       "      <td>369</td>\n",
       "    </tr>\n",
       "    <tr>\n",
       "      <th>проведение свадьбы</th>\n",
       "      <td>183</td>\n",
       "      <td>2313</td>\n",
       "      <td>183</td>\n",
       "    </tr>\n",
       "  </tbody>\n",
       "</table>\n",
       "</div>"
      ],
      "text/plain": [
       "                          sum_purpose_category  count_purpose_category  \\\n",
       "purpose_category                                                         \n",
       "операции с недвижимостью                   780                   10751   \n",
       "операции с автомобилем                     400                    4279   \n",
       "получение образования                      369                    3988   \n",
       "проведение свадьбы                         183                    2313   \n",
       "\n",
       "                          result_purpose_category  \n",
       "purpose_category                                   \n",
       "операции с недвижимостью                      780  \n",
       "операции с автомобилем                        400  \n",
       "получение образования                         369  \n",
       "проведение свадьбы                            183  "
      ]
     },
     "execution_count": 28,
     "metadata": {},
     "output_type": "execute_result"
    }
   ],
   "source": [
    "debt_purpose_category = pd.DataFrame()\n",
    "\n",
    "debt_purpose_category['sum_purpose_category'] = data.groupby('purpose_category')['debt'].sum()\n",
    "\n",
    "debt_purpose_category['count_purpose_category'] = data.groupby('purpose_category')['debt'].count()\n",
    "\n",
    "debt_purpose_category['result_purpose_category'] = debt_purpose_category['sum_purpose_category']\n",
    "/ debt_purpose_category['count_purpose_category'] \n",
    "\n",
    "debt_purpose_category.sort_values('result_purpose_category', ascending = False)"
   ]
  },
  {
   "cell_type": "markdown",
   "id": "3b3baf4e",
   "metadata": {},
   "source": [
    "**Вывод:** Значительно больше количество кредитов, примерно в два раза, оформляется на операции с недвижимостью. Меньше всего оформлено кредитов на проведение свадьбы. Чаще всего платят в срок с целью кредита недвижимость и на свадьбу. Большее колчиество просроченных выплат у тех, кому нужен кредит на операции с автомобилем и образование."
   ]
  },
  {
   "cell_type": "markdown",
   "id": "6a9dd7b7",
   "metadata": {},
   "source": [
    "## Общий вывод"
   ]
  },
  {
   "cell_type": "markdown",
   "id": "5cb98ab0",
   "metadata": {},
   "source": [
    "**Выводы:** \n",
    "\n",
    "Проведено исследование влияния семейного положения, количества детей, ежемесячного дохода и цели получения кредита на надежность заемщиков и погашение кредитных обязательств в срок. В качестве вводных данных использована выборка данных кредитного отдела банка по статистике о платежеспособности клиентов.\n",
    "В данных обнаружены пропуски, причинами их повления могут быть технологические проблемы или человеческий фактор (опечатки, нежелание оставлять информацию и т.д.). Также пропуски могут быть связаны с неофициальным трудоустройством респондентов.\n",
    "\n",
    "В результате исследования удалось выявить следующие закономерности:\n",
    "1) Влияние количества детей на сроки погашения кредита. \n",
    "Обнаружены следующие закономерности: наибольшее количество кредитов берут и выплачивают в срок бездетные люди (7,5% просрочек при 1063 оформленных кредитов). На данную категорию приходится почти в три раза больше оформленных кредитов по сравнению с другими категориями.\n",
    "С увеличением количества детей в семье люди реже обращаются за кредитами.\n",
    "Можно говорить , что количество просроченных выплат примерно одинаково у людей с 1 и 2-ми детьми (9,2% и 9,5%). Семьи с 3-мя детьми имеют меньший процент просрочек (8,2%) однако в выборке недостаточно данных по этой категории. Также необходимо больше данных по семьям с 4-мя и 5-тью детьми. \n",
    "В рамках имеющихся данных сделать однозначные выводы нельзя, необходима бОльшая информация по семьям с 3-мя, 4-мя и 5-тью детьми.\n",
    "\n",
    "2) Влияние семейного статуса на сроки погашения кредита.\n",
    "По сравнению с прочими проанализированными показателями на сроки выплат в значительной степени влияет семейный статус. Люди состоящие в браке, наиболее часто оформляют кредиты и чаще осуществляют выплаты вовремя (7,6% просроченных выплат).  \n",
    "Люди, проживающие в гражданском браке и не бывавшие в браке, имеют бОльшее количество задержек выплат (9,3% и 9,8%).\n",
    "Возможно, узаконенные отношения ведут к более ответственному подходу к своим обязательствам.\n",
    "Наименьшее количество просроченных платежей среди овдовевших (6,6%), однако в данной категории очень малое количество взятых кредитов (63). Также редко берут кредиты люди в разводе (84). \n",
    "\n",
    "3) Влияние уровня дохода на сроки погашения кредита.\n",
    "Для оценки данного показателя введена классификация по среднемесячному доходу в рублях:  \n",
    "- 0–30000 — 'E';\n",
    "- 30001–50000  — 'D';\n",
    "- 50001–200000 — 'C';\n",
    "- 200001–1000000 — 'B';\n",
    "- 1000001 и выше — 'A'.  \n",
    "Данный показатель незначительно влияет на сроки погашения кредита. Можно отметить, что люди с доходом от 50 до 200 000 руб. оформляют бОльшее количество кредитов. На долю данной категории приходится 78% оформленных кредитов.\n",
    "Следует учесть, что выборка в категориях с очень низким (до 30 000 руб.) и очень высоким (более 1 млн.руб.)  уровнем дохода крайне мала, что не позволяет сформировать однозначных выводов . \n",
    "Рекомендовано  исследовать этот фактор с наличием бОльших данных по категориям А, D и Е. и учитывать влияние уровня дохода в связи с другими факторами.\n",
    "\n",
    "4) Влияние цели получения на сроки погашения кредита.\n",
    "По категории  «операции с недвижимостью» оформляется наибольшее количество кредитов и выявлено  наименьшее количество просроченных выплат  (7,3%) . Наименьшее количество кредитов оформлено на проведение свадьбы.\n",
    "Большее количество просроченных выплат у тех, кому нужен кредит на операции с автомобилем (9,3%) и образование (9,3%).\n",
    "\n",
    "**Общие рекомендации:** Для построения модели кредитного скоринга возможно использовать данные влияния семейного статуса и цели получения на выполнение кредитных обязательств. Для использования данных о количестве детей и среднемесячном доходе необходимо провести дополнительные исследования по бОльшей выборке данных. Во всех исследованных факторах разница между процентом невыплат в различных категориях не превышает 3%, что не может являться определяющим фактором при принятии решения о кредитоспособности. Также рекомендовано исследование других факторов, присутствующих в исходных данных: возраст, тип занятости."
   ]
  }
 ],
 "metadata": {
  "ExecuteTimeLog": [
   {
    "duration": 710,
    "start_time": "2023-03-27T16:15:17.395Z"
   },
   {
    "duration": 162,
    "start_time": "2023-03-27T16:15:28.544Z"
   },
   {
    "duration": 34,
    "start_time": "2023-03-27T17:58:07.980Z"
   },
   {
    "duration": 20,
    "start_time": "2023-03-27T17:59:03.685Z"
   },
   {
    "duration": 14,
    "start_time": "2023-03-27T18:01:07.549Z"
   },
   {
    "duration": 53,
    "start_time": "2023-03-27T18:05:54.328Z"
   },
   {
    "duration": 5,
    "start_time": "2023-03-27T18:12:10.015Z"
   },
   {
    "duration": 13,
    "start_time": "2023-03-27T18:12:59.442Z"
   },
   {
    "duration": 6,
    "start_time": "2023-03-27T18:14:58.057Z"
   },
   {
    "duration": 9,
    "start_time": "2023-03-27T18:16:21.290Z"
   },
   {
    "duration": 8,
    "start_time": "2023-03-27T18:17:10.190Z"
   },
   {
    "duration": 52,
    "start_time": "2023-03-27T18:18:27.893Z"
   },
   {
    "duration": 16,
    "start_time": "2023-03-27T18:20:53.137Z"
   },
   {
    "duration": 5,
    "start_time": "2023-03-27T18:22:16.197Z"
   },
   {
    "duration": 15,
    "start_time": "2023-03-27T18:24:20.068Z"
   },
   {
    "duration": 32,
    "start_time": "2023-03-27T18:25:40.107Z"
   },
   {
    "duration": 55,
    "start_time": "2023-03-27T18:25:58.423Z"
   },
   {
    "duration": 29,
    "start_time": "2023-03-27T18:26:15.093Z"
   },
   {
    "duration": 26,
    "start_time": "2023-03-27T18:26:36.803Z"
   },
   {
    "duration": 3,
    "start_time": "2023-03-27T19:32:42.201Z"
   },
   {
    "duration": 14,
    "start_time": "2023-03-27T19:33:00.341Z"
   },
   {
    "duration": 9,
    "start_time": "2023-03-27T19:33:52.294Z"
   },
   {
    "duration": 3,
    "start_time": "2023-03-27T19:35:13.801Z"
   },
   {
    "duration": 10,
    "start_time": "2023-03-27T19:35:32.416Z"
   },
   {
    "duration": 19,
    "start_time": "2023-03-27T19:37:44.207Z"
   },
   {
    "duration": 22,
    "start_time": "2023-03-27T19:40:29.895Z"
   },
   {
    "duration": 18,
    "start_time": "2023-03-27T19:43:56.972Z"
   },
   {
    "duration": 18,
    "start_time": "2023-03-27T19:45:02.239Z"
   }
  ],
  "kernelspec": {
   "display_name": "Python 3 (ipykernel)",
   "language": "python",
   "name": "python3"
  },
  "language_info": {
   "codemirror_mode": {
    "name": "ipython",
    "version": 3
   },
   "file_extension": ".py",
   "mimetype": "text/x-python",
   "name": "python",
   "nbconvert_exporter": "python",
   "pygments_lexer": "ipython3",
   "version": "3.9.5"
  },
  "toc": {
   "base_numbering": 1,
   "nav_menu": {},
   "number_sections": true,
   "sideBar": true,
   "skip_h1_title": true,
   "title_cell": "Table of Contents",
   "title_sidebar": "Contents",
   "toc_cell": false,
   "toc_position": {},
   "toc_section_display": true,
   "toc_window_display": true
  }
 },
 "nbformat": 4,
 "nbformat_minor": 5
}
