{
 "cells": [
  {
   "cell_type": "markdown",
   "metadata": {
    "toc": true
   },
   "source": [
    "<h1>Содержание<span class=\"tocSkip\"></span></h1>\n",
    "<div class=\"toc\"><ul class=\"toc-item\"><li><span><a href=\"#Загрузка-данных\" data-toc-modified-id=\"Загрузка-данных-1\"><span class=\"toc-item-num\">1&nbsp;&nbsp;</span>Загрузка данных</a></span><ul class=\"toc-item\"><li><ul class=\"toc-item\"><li><span><a href=\"#Импорт-библиотек\" data-toc-modified-id=\"Импорт-библиотек-1.0.1\"><span class=\"toc-item-num\">1.0.1&nbsp;&nbsp;</span>Импорт библиотек</a></span></li><li><span><a href=\"#Загрузка-и-изучение-данных\" data-toc-modified-id=\"Загрузка-и-изучение-данных-1.0.2\"><span class=\"toc-item-num\">1.0.2&nbsp;&nbsp;</span>Загрузка и изучение данных</a></span></li></ul></li></ul></li><li><span><a href=\"#Умножение-матриц\" data-toc-modified-id=\"Умножение-матриц-2\"><span class=\"toc-item-num\">2&nbsp;&nbsp;</span>Умножение матриц</a></span></li><li><span><a href=\"#Алгоритм-преобразования\" data-toc-modified-id=\"Алгоритм-преобразования-3\"><span class=\"toc-item-num\">3&nbsp;&nbsp;</span>Алгоритм преобразования</a></span></li><li><span><a href=\"#Проверка-алгоритма\" data-toc-modified-id=\"Проверка-алгоритма-4\"><span class=\"toc-item-num\">4&nbsp;&nbsp;</span>Проверка алгоритма</a></span></li></ul></div>"
   ]
  },
  {
   "cell_type": "markdown",
   "metadata": {},
   "source": [
    "# Защита персональных данных клиентов"
   ]
  },
  {
   "cell_type": "markdown",
   "metadata": {},
   "source": [
    "**Цель исследования:** Защитить данные клиентов страховой компании «Хоть потоп». Нужно разработать такой метод преобразования данных, чтобы по ним было сложно восстановить персональную информацию, и обосновать корректность его работы.\n",
    "\n",
    "Нужно защитить данные, чтобы при преобразовании качество моделей машинного обучения не ухудшилось. Подбирать наилучшую модель не требуется."
   ]
  },
  {
   "cell_type": "markdown",
   "metadata": {},
   "source": [
    "## Загрузка данных"
   ]
  },
  {
   "cell_type": "markdown",
   "metadata": {},
   "source": [
    "#### Импорт библиотек"
   ]
  },
  {
   "cell_type": "code",
   "execution_count": 1,
   "metadata": {},
   "outputs": [],
   "source": [
    "import pandas as pd\n",
    "import numpy as np\n",
    "\n",
    "from sklearn.metrics import r2_score\n",
    "from sklearn.model_selection import train_test_split\n",
    "from sklearn.linear_model import LinearRegression\n",
    "\n",
    "import warnings\n",
    "warnings.filterwarnings('ignore')\n",
    "\n",
    "import matplotlib.pyplot as plt\n",
    "import seaborn as sns"
   ]
  },
  {
   "cell_type": "markdown",
   "metadata": {},
   "source": [
    "#### Загрузка и изучение данных"
   ]
  },
  {
   "cell_type": "code",
   "execution_count": 2,
   "metadata": {},
   "outputs": [],
   "source": [
    "df = pd.read_csv('/datasets/insurance.csv')"
   ]
  },
  {
   "cell_type": "code",
   "execution_count": 3,
   "metadata": {},
   "outputs": [
    {
     "data": {
      "text/html": [
       "<div>\n",
       "<style scoped>\n",
       "    .dataframe tbody tr th:only-of-type {\n",
       "        vertical-align: middle;\n",
       "    }\n",
       "\n",
       "    .dataframe tbody tr th {\n",
       "        vertical-align: top;\n",
       "    }\n",
       "\n",
       "    .dataframe thead th {\n",
       "        text-align: right;\n",
       "    }\n",
       "</style>\n",
       "<table border=\"1\" class=\"dataframe\">\n",
       "  <thead>\n",
       "    <tr style=\"text-align: right;\">\n",
       "      <th></th>\n",
       "      <th>Пол</th>\n",
       "      <th>Возраст</th>\n",
       "      <th>Зарплата</th>\n",
       "      <th>Члены семьи</th>\n",
       "      <th>Страховые выплаты</th>\n",
       "    </tr>\n",
       "  </thead>\n",
       "  <tbody>\n",
       "    <tr>\n",
       "      <th>0</th>\n",
       "      <td>1</td>\n",
       "      <td>41.0</td>\n",
       "      <td>49600.0</td>\n",
       "      <td>1</td>\n",
       "      <td>0</td>\n",
       "    </tr>\n",
       "    <tr>\n",
       "      <th>1</th>\n",
       "      <td>0</td>\n",
       "      <td>46.0</td>\n",
       "      <td>38000.0</td>\n",
       "      <td>1</td>\n",
       "      <td>1</td>\n",
       "    </tr>\n",
       "    <tr>\n",
       "      <th>2</th>\n",
       "      <td>0</td>\n",
       "      <td>29.0</td>\n",
       "      <td>21000.0</td>\n",
       "      <td>0</td>\n",
       "      <td>0</td>\n",
       "    </tr>\n",
       "    <tr>\n",
       "      <th>3</th>\n",
       "      <td>0</td>\n",
       "      <td>21.0</td>\n",
       "      <td>41700.0</td>\n",
       "      <td>2</td>\n",
       "      <td>0</td>\n",
       "    </tr>\n",
       "    <tr>\n",
       "      <th>4</th>\n",
       "      <td>1</td>\n",
       "      <td>28.0</td>\n",
       "      <td>26100.0</td>\n",
       "      <td>0</td>\n",
       "      <td>0</td>\n",
       "    </tr>\n",
       "  </tbody>\n",
       "</table>\n",
       "</div>"
      ],
      "text/plain": [
       "   Пол  Возраст  Зарплата  Члены семьи  Страховые выплаты\n",
       "0    1     41.0   49600.0            1                  0\n",
       "1    0     46.0   38000.0            1                  1\n",
       "2    0     29.0   21000.0            0                  0\n",
       "3    0     21.0   41700.0            2                  0\n",
       "4    1     28.0   26100.0            0                  0"
      ]
     },
     "execution_count": 3,
     "metadata": {},
     "output_type": "execute_result"
    }
   ],
   "source": [
    "df.head()"
   ]
  },
  {
   "cell_type": "code",
   "execution_count": 4,
   "metadata": {},
   "outputs": [
    {
     "name": "stdout",
     "output_type": "stream",
     "text": [
      "<class 'pandas.core.frame.DataFrame'>\n",
      "RangeIndex: 5000 entries, 0 to 4999\n",
      "Data columns (total 5 columns):\n",
      " #   Column             Non-Null Count  Dtype  \n",
      "---  ------             --------------  -----  \n",
      " 0   Пол                5000 non-null   int64  \n",
      " 1   Возраст            5000 non-null   float64\n",
      " 2   Зарплата           5000 non-null   float64\n",
      " 3   Члены семьи        5000 non-null   int64  \n",
      " 4   Страховые выплаты  5000 non-null   int64  \n",
      "dtypes: float64(2), int64(3)\n",
      "memory usage: 195.4 KB\n"
     ]
    }
   ],
   "source": [
    "df.info()"
   ]
  },
  {
   "cell_type": "code",
   "execution_count": 5,
   "metadata": {},
   "outputs": [
    {
     "data": {
      "text/html": [
       "<div>\n",
       "<style scoped>\n",
       "    .dataframe tbody tr th:only-of-type {\n",
       "        vertical-align: middle;\n",
       "    }\n",
       "\n",
       "    .dataframe tbody tr th {\n",
       "        vertical-align: top;\n",
       "    }\n",
       "\n",
       "    .dataframe thead th {\n",
       "        text-align: right;\n",
       "    }\n",
       "</style>\n",
       "<table border=\"1\" class=\"dataframe\">\n",
       "  <thead>\n",
       "    <tr style=\"text-align: right;\">\n",
       "      <th></th>\n",
       "      <th>Пол</th>\n",
       "      <th>Возраст</th>\n",
       "      <th>Зарплата</th>\n",
       "      <th>Члены семьи</th>\n",
       "      <th>Страховые выплаты</th>\n",
       "    </tr>\n",
       "  </thead>\n",
       "  <tbody>\n",
       "    <tr>\n",
       "      <th>count</th>\n",
       "      <td>5000.000000</td>\n",
       "      <td>5000.000000</td>\n",
       "      <td>5000.000000</td>\n",
       "      <td>5000.000000</td>\n",
       "      <td>5000.000000</td>\n",
       "    </tr>\n",
       "    <tr>\n",
       "      <th>mean</th>\n",
       "      <td>0.499000</td>\n",
       "      <td>30.952800</td>\n",
       "      <td>39916.360000</td>\n",
       "      <td>1.194200</td>\n",
       "      <td>0.148000</td>\n",
       "    </tr>\n",
       "    <tr>\n",
       "      <th>std</th>\n",
       "      <td>0.500049</td>\n",
       "      <td>8.440807</td>\n",
       "      <td>9900.083569</td>\n",
       "      <td>1.091387</td>\n",
       "      <td>0.463183</td>\n",
       "    </tr>\n",
       "    <tr>\n",
       "      <th>min</th>\n",
       "      <td>0.000000</td>\n",
       "      <td>18.000000</td>\n",
       "      <td>5300.000000</td>\n",
       "      <td>0.000000</td>\n",
       "      <td>0.000000</td>\n",
       "    </tr>\n",
       "    <tr>\n",
       "      <th>25%</th>\n",
       "      <td>0.000000</td>\n",
       "      <td>24.000000</td>\n",
       "      <td>33300.000000</td>\n",
       "      <td>0.000000</td>\n",
       "      <td>0.000000</td>\n",
       "    </tr>\n",
       "    <tr>\n",
       "      <th>50%</th>\n",
       "      <td>0.000000</td>\n",
       "      <td>30.000000</td>\n",
       "      <td>40200.000000</td>\n",
       "      <td>1.000000</td>\n",
       "      <td>0.000000</td>\n",
       "    </tr>\n",
       "    <tr>\n",
       "      <th>75%</th>\n",
       "      <td>1.000000</td>\n",
       "      <td>37.000000</td>\n",
       "      <td>46600.000000</td>\n",
       "      <td>2.000000</td>\n",
       "      <td>0.000000</td>\n",
       "    </tr>\n",
       "    <tr>\n",
       "      <th>max</th>\n",
       "      <td>1.000000</td>\n",
       "      <td>65.000000</td>\n",
       "      <td>79000.000000</td>\n",
       "      <td>6.000000</td>\n",
       "      <td>5.000000</td>\n",
       "    </tr>\n",
       "  </tbody>\n",
       "</table>\n",
       "</div>"
      ],
      "text/plain": [
       "               Пол      Возраст      Зарплата  Члены семьи  Страховые выплаты\n",
       "count  5000.000000  5000.000000   5000.000000  5000.000000        5000.000000\n",
       "mean      0.499000    30.952800  39916.360000     1.194200           0.148000\n",
       "std       0.500049     8.440807   9900.083569     1.091387           0.463183\n",
       "min       0.000000    18.000000   5300.000000     0.000000           0.000000\n",
       "25%       0.000000    24.000000  33300.000000     0.000000           0.000000\n",
       "50%       0.000000    30.000000  40200.000000     1.000000           0.000000\n",
       "75%       1.000000    37.000000  46600.000000     2.000000           0.000000\n",
       "max       1.000000    65.000000  79000.000000     6.000000           5.000000"
      ]
     },
     "execution_count": 5,
     "metadata": {},
     "output_type": "execute_result"
    }
   ],
   "source": [
    "df.describe()"
   ]
  },
  {
   "cell_type": "markdown",
   "metadata": {},
   "source": [
    "Проверим признаки на мультиколлинеарность"
   ]
  },
  {
   "cell_type": "code",
   "execution_count": 6,
   "metadata": {},
   "outputs": [
    {
     "data": {
      "image/png": "[encoded data removed]",
      "text/plain": [
       "<Figure size 978.5x864 with 20 Axes>"
      ]
     },
     "metadata": {
      "needs_background": "light"
     },
     "output_type": "display_data"
    }
   ],
   "source": [
    "sns.pairplot(df, hue='Страховые выплаты', palette=\"deep\", height=3)\n",
    "plt.suptitle(\"Зависимость целевого признака от других признаков\", y=1.02, fontsize=13)\n",
    "plt.show()"
   ]
  },
  {
   "cell_type": "markdown",
   "metadata": {},
   "source": [
    "Из графиков прослеживается, что страховые выплаты в основном производятся людям старше 40 лет"
   ]
  },
  {
   "cell_type": "code",
   "execution_count": 7,
   "metadata": {
    "scrolled": true
   },
   "outputs": [
    {
     "name": "stdout",
     "output_type": "stream",
     "text": [
      "Количество явных дубликатов: 153\n"
     ]
    }
   ],
   "source": [
    "print('Количество явных дубликатов:', df.duplicated().sum()) "
   ]
  },
  {
   "cell_type": "code",
   "execution_count": 8,
   "metadata": {},
   "outputs": [
    {
     "name": "stdout",
     "output_type": "stream",
     "text": [
      "Количество пропусков: Пол                  0\n",
      "Возраст              0\n",
      "Зарплата             0\n",
      "Члены семьи          0\n",
      "Страховые выплаты    0\n",
      "dtype: int64\n"
     ]
    }
   ],
   "source": [
    "print('Количество пропусков:', df.isna().sum()) "
   ]
  },
  {
   "cell_type": "markdown",
   "metadata": {},
   "source": [
    "**ВЫВОДЫ:**. \n",
    "- Исходный датасет состоит из 5 столбцов (без учета столбца индекса) и 5000 строк (не считая строки с наименованием столбцов).\n",
    "\n",
    "- Типы данных в столбцах не требуют замены.\n",
    "\n",
    "- Пропусков в данных нет.\n",
    "\n",
    "- В данных присутствует 153 явных дубликата, это 3% от общего числа данных. Дубликаты удалим, это не повлияет на исследование.\n",
    "\n",
    "- Другой предобработки данных не требуется."
   ]
  },
  {
   "cell_type": "code",
   "execution_count": 9,
   "metadata": {},
   "outputs": [
    {
     "name": "stdout",
     "output_type": "stream",
     "text": [
      "Количество дубликатов: 0\n"
     ]
    }
   ],
   "source": [
    "# Удалим дубликаты\n",
    "df = df.drop_duplicates()\n",
    "print('Количество дубликатов:', df.duplicated().sum())"
   ]
  },
  {
   "cell_type": "code",
   "execution_count": 10,
   "metadata": {},
   "outputs": [
    {
     "data": {
      "image/png": "[encoded data removed]",
      "text/plain": [
       "<Figure size 432x288 with 2 Axes>"
      ]
     },
     "metadata": {
      "needs_background": "light"
     },
     "output_type": "display_data"
    }
   ],
   "source": [
    "corr = df.corr()\n",
    "sns.heatmap(corr) \n",
    "plt.show()"
   ]
  },
  {
   "cell_type": "code",
   "execution_count": 11,
   "metadata": {},
   "outputs": [
    {
     "data": {
      "text/plain": [
       "0.6549641033747968"
      ]
     },
     "execution_count": 11,
     "metadata": {},
     "output_type": "execute_result"
    }
   ],
   "source": [
    "df['Возраст'].corr(df['Страховые выплаты'])"
   ]
  },
  {
   "cell_type": "markdown",
   "metadata": {},
   "source": [
    "Наибольшая корреляция в данных между Возрастом и Страховыми выплатами: 0.6510300979467276"
   ]
  },
  {
   "cell_type": "markdown",
   "metadata": {},
   "source": [
    "## Умножение матриц"
   ]
  },
  {
   "attachments": {},
   "cell_type": "markdown",
   "metadata": {},
   "source": [
    "**Вопрос:**. \n",
    "Признаки умножают на обратимую матрицу. Изменится ли качество линейной регрессии? (Её можно обучить заново.)"
   ]
  },
  {
   "cell_type": "markdown",
   "metadata": {},
   "source": [
    "Обозначения:\n",
    "\n",
    "- $X$ — матрица признаков (нулевой столбец состоит из единиц)\n",
    "\n",
    "- $y$ — вектор целевого признака\n",
    "\n",
    "- $P$ — матрица, на которую умножаются признаки\n",
    "\n",
    "- $w$ — вектор весов линейной регрессии (нулевой элемент равен сдвигу)"
   ]
  },
  {
   "cell_type": "markdown",
   "metadata": {},
   "source": [
    "Предсказания:\n",
    "\n",
    "$$\n",
    "a = Xw\n",
    "$$\n",
    "\n",
    "Задача обучения:\n",
    "\n",
    "$$\n",
    "w = \\arg\\min_w MSE(Xw, y)\n",
    "$$\n",
    "\n",
    "Формула обучения:\n",
    "\n",
    "$$\n",
    "w = (X^T X)^{-1} X^T y\n",
    "$$"
   ]
  },
  {
   "cell_type": "markdown",
   "metadata": {},
   "source": [
    "**Ответ:**  \n",
    "Качество линейной регрессии не изменится, изменится только вектор весов линейной регрессии для новых признаков.\n",
    "\n",
    "\n",
    "\n",
    "**Обоснование:**\n",
    "Представим новую матрицу признаков X1 как произведение старой X на матрицу P (обратимую):  \n",
    "$$ \n",
    "X1 = X * P\n",
    "$$  \n",
    "Тогда формула для расчета весов прмет вид:  \n",
    "$$\n",
    "w1 = (X1^T X1)^{-1} X1^T y  \n",
    "$$\n",
    "Подставим новое значение X1 в формулу w1:  \n",
    "$$\n",
    "w1 = ((XP)^T XP)^{-1} (XP)^T y  =>\n",
    "$$\n",
    "$$\n",
    "w1 = (P^T (X^T X) P)^{-1} (X P)^T y => \n",
    "$$\n",
    "$$\n",
    "w1 = (P^T (X^T X) P)^{-1} P^T X^T y => \n",
    "$$\n",
    "$$\n",
    "w1 = P^{-1} (X^T X)^{-1} (P^T)^{-1} P^T X^T y => \n",
    "$$\n",
    "$$\n",
    "w1 = P^{-1} ((X^T X)^{-1}) E X^T y  \n",
    "$$\n",
    "$$\n",
    "w1 = P^{-1} w  \n",
    "$$\n",
    "\n",
    "То же для формулы предсказаний:  \n",
    "\n",
    "$$\n",
    "a1 = X P P^{-1} w\n",
    "$$\n",
    "$$\n",
    "a1 = X w\n",
    "$$\n",
    "Таким образом, предсказания не изменятся"
   ]
  },
  {
   "cell_type": "markdown",
   "metadata": {},
   "source": [
    "## Алгоритм преобразования"
   ]
  },
  {
   "cell_type": "markdown",
   "metadata": {},
   "source": [
    "**Алгоритм**\n",
    "\n",
    "\n",
    "- Сгенерировать обратимую квадратную матрицу, соответстующую размерностью количеству столбцов признаков.\n",
    "\n",
    "- Умножить матрицу исходных признаков на сгенерированную матрицу.\n",
    "\n",
    "- Посчитать качество модели на полученной матрице и сравнить с качеством модели на матрице исходных данных."
   ]
  },
  {
   "cell_type": "markdown",
   "metadata": {},
   "source": [
    "**Обоснование**  \n",
    "\n",
    "Предсказания модели на измененной и исходной матрице отличаться не должны, следовательно, результаты метрики r2 должны оказаться равными. Тем самым мы докажем, что правильно защитили данные."
   ]
  },
  {
   "cell_type": "markdown",
   "metadata": {},
   "source": [
    "Поделим данные на учебную и целевую части и проверим результат"
   ]
  },
  {
   "cell_type": "code",
   "execution_count": 12,
   "metadata": {},
   "outputs": [],
   "source": [
    "features=df.drop(['Страховые выплаты'],axis=1)\n",
    "target=df['Страховые выплаты']"
   ]
  },
  {
   "cell_type": "code",
   "execution_count": 13,
   "metadata": {},
   "outputs": [
    {
     "data": {
      "text/plain": [
       "((4847, 4), (4847,))"
      ]
     },
     "execution_count": 13,
     "metadata": {},
     "output_type": "execute_result"
    }
   ],
   "source": [
    "features.shape, target.shape"
   ]
  },
  {
   "cell_type": "code",
   "execution_count": 14,
   "metadata": {},
   "outputs": [],
   "source": [
    "train_features, test_features, train_target, test_target = train_test_split(features, target, \n",
    "                                                                             test_size=0.25, random_state=12345)"
   ]
  },
  {
   "cell_type": "code",
   "execution_count": 15,
   "metadata": {},
   "outputs": [
    {
     "name": "stdout",
     "output_type": "stream",
     "text": [
      "0.7499484217041469\n",
      "\n",
      "0.2500515782958531\n"
     ]
    }
   ],
   "source": [
    "print(train_features.shape[0]/features.shape[0])\n",
    "print()\n",
    "print(test_target.shape[0]/target.shape[0])"
   ]
  },
  {
   "cell_type": "markdown",
   "metadata": {},
   "source": [
    "Сгенерируем матрицу размером 4х4 методом random.normal ()"
   ]
  },
  {
   "cell_type": "code",
   "execution_count": 16,
   "metadata": {},
   "outputs": [
    {
     "data": {
      "text/plain": [
       "array([[ 0.09544467, -0.38903218, -0.38063123, -0.70147897],\n",
       "       [-0.42320663,  0.01526455, -1.53513161,  1.97372366],\n",
       "       [-0.51103907,  0.33416738,  0.40425237, -0.91136531],\n",
       "       [ 0.46509656,  0.25109762, -1.25682625, -0.17726776]])"
      ]
     },
     "metadata": {},
     "output_type": "display_data"
    }
   ],
   "source": [
    "matrix_rand = np.random.normal(size=(4, 4))\n",
    "display (matrix_rand)"
   ]
  },
  {
   "cell_type": "markdown",
   "metadata": {},
   "source": [
    "Проверим полученную матрицу на обратимость, для этого сделаем обратную матрицу методом linalg.inv().  \n",
    "Если появится ошибка, то изначально наша сгенерированная матрица не являлась обратимой."
   ]
  },
  {
   "cell_type": "code",
   "execution_count": 17,
   "metadata": {},
   "outputs": [
    {
     "data": {
      "text/plain": [
       "array([[-0.5320077 , -0.61061505, -1.02517883,  0.5772017 ],\n",
       "       [-1.48721846, -0.16146277,  0.62967574,  0.85015434],\n",
       "       [-0.43212759, -0.28060735, -0.19994727, -0.38635307],\n",
       "       [-0.43867346,  0.15872491, -0.38020498, -0.18331059]])"
      ]
     },
     "metadata": {},
     "output_type": "display_data"
    }
   ],
   "source": [
    "matrix_inv = np.linalg.inv(matrix_rand)\n",
    "display (matrix_inv)"
   ]
  },
  {
   "cell_type": "markdown",
   "metadata": {},
   "source": [
    "Создадим матрицу из наших исходных признаков, умножим ее на сгенерированную и обращенную матрицу и составим из полученной новый набор измененных признаков."
   ]
  },
  {
   "cell_type": "code",
   "execution_count": 21,
   "metadata": {},
   "outputs": [],
   "source": [
    "matrix = features.values\n",
    "matrix_new = matrix@matrix_inv\n",
    "features_changed = pd.DataFrame (matrix_new, columns = features.columns)"
   ]
  },
  {
   "cell_type": "code",
   "execution_count": 22,
   "metadata": {},
   "outputs": [
    {
     "data": {
      "text/html": [
       "<div>\n",
       "<style scoped>\n",
       "    .dataframe tbody tr th:only-of-type {\n",
       "        vertical-align: middle;\n",
       "    }\n",
       "\n",
       "    .dataframe tbody tr th {\n",
       "        vertical-align: top;\n",
       "    }\n",
       "\n",
       "    .dataframe thead th {\n",
       "        text-align: right;\n",
       "    }\n",
       "</style>\n",
       "<table border=\"1\" class=\"dataframe\">\n",
       "  <thead>\n",
       "    <tr style=\"text-align: right;\">\n",
       "      <th></th>\n",
       "      <th>Пол</th>\n",
       "      <th>Возраст</th>\n",
       "      <th>Зарплата</th>\n",
       "      <th>Члены семьи</th>\n",
       "    </tr>\n",
       "  </thead>\n",
       "  <tbody>\n",
       "    <tr>\n",
       "      <th>0</th>\n",
       "      <td>-21495.475111</td>\n",
       "      <td>-13925.196480</td>\n",
       "      <td>-9892.973387</td>\n",
       "      <td>-19127.862264</td>\n",
       "    </tr>\n",
       "    <tr>\n",
       "      <th>1</th>\n",
       "      <td>-16489.699150</td>\n",
       "      <td>-10670.347905</td>\n",
       "      <td>-7569.411470</td>\n",
       "      <td>-14642.493032</td>\n",
       "    </tr>\n",
       "    <tr>\n",
       "      <th>2</th>\n",
       "      <td>-9117.808729</td>\n",
       "      <td>-5897.436794</td>\n",
       "      <td>-4180.632123</td>\n",
       "      <td>-8088.760083</td>\n",
       "    </tr>\n",
       "    <tr>\n",
       "      <th>3</th>\n",
       "      <td>-18051.829445</td>\n",
       "      <td>-11704.399810</td>\n",
       "      <td>-8325.338476</td>\n",
       "      <td>-16093.436576</td>\n",
       "    </tr>\n",
       "    <tr>\n",
       "      <th>4</th>\n",
       "      <td>-11320.704228</td>\n",
       "      <td>-7328.983437</td>\n",
       "      <td>-5202.018066</td>\n",
       "      <td>-10059.433715</td>\n",
       "    </tr>\n",
       "    <tr>\n",
       "      <th>...</th>\n",
       "      <td>...</td>\n",
       "      <td>...</td>\n",
       "      <td>...</td>\n",
       "      <td>...</td>\n",
       "    </tr>\n",
       "    <tr>\n",
       "      <th>4842</th>\n",
       "      <td>-15469.474433</td>\n",
       "      <td>-10021.885943</td>\n",
       "      <td>-7121.247112</td>\n",
       "      <td>-13769.367050</td>\n",
       "    </tr>\n",
       "    <tr>\n",
       "      <th>4843</th>\n",
       "      <td>-22694.489827</td>\n",
       "      <td>-14709.156208</td>\n",
       "      <td>-10456.208301</td>\n",
       "      <td>-20216.179154</td>\n",
       "    </tr>\n",
       "    <tr>\n",
       "      <th>4844</th>\n",
       "      <td>-14679.747024</td>\n",
       "      <td>-9515.501009</td>\n",
       "      <td>-6766.379428</td>\n",
       "      <td>-13080.732752</td>\n",
       "    </tr>\n",
       "    <tr>\n",
       "      <th>4845</th>\n",
       "      <td>-14165.139033</td>\n",
       "      <td>-9179.547003</td>\n",
       "      <td>-6526.588733</td>\n",
       "      <td>-12615.014863</td>\n",
       "    </tr>\n",
       "    <tr>\n",
       "      <th>4846</th>\n",
       "      <td>-17586.992960</td>\n",
       "      <td>-11397.631303</td>\n",
       "      <td>-8101.633720</td>\n",
       "      <td>-15661.736602</td>\n",
       "    </tr>\n",
       "  </tbody>\n",
       "</table>\n",
       "<p>4847 rows × 4 columns</p>\n",
       "</div>"
      ],
      "text/plain": [
       "               Пол       Возраст      Зарплата   Члены семьи\n",
       "0    -21495.475111 -13925.196480  -9892.973387 -19127.862264\n",
       "1    -16489.699150 -10670.347905  -7569.411470 -14642.493032\n",
       "2     -9117.808729  -5897.436794  -4180.632123  -8088.760083\n",
       "3    -18051.829445 -11704.399810  -8325.338476 -16093.436576\n",
       "4    -11320.704228  -7328.983437  -5202.018066 -10059.433715\n",
       "...            ...           ...           ...           ...\n",
       "4842 -15469.474433 -10021.885943  -7121.247112 -13769.367050\n",
       "4843 -22694.489827 -14709.156208 -10456.208301 -20216.179154\n",
       "4844 -14679.747024  -9515.501009  -6766.379428 -13080.732752\n",
       "4845 -14165.139033  -9179.547003  -6526.588733 -12615.014863\n",
       "4846 -17586.992960 -11397.631303  -8101.633720 -15661.736602\n",
       "\n",
       "[4847 rows x 4 columns]"
      ]
     },
     "execution_count": 22,
     "metadata": {},
     "output_type": "execute_result"
    }
   ],
   "source": [
    "features_changed"
   ]
  },
  {
   "cell_type": "markdown",
   "metadata": {},
   "source": [
    "## Проверка алгоритма"
   ]
  },
  {
   "cell_type": "markdown",
   "metadata": {},
   "source": [
    "Создадим класс LinearRegression для последующего обучения наших моделей"
   ]
  },
  {
   "cell_type": "code",
   "execution_count": null,
   "metadata": {},
   "outputs": [],
   "source": [
    "class LinearRegression:\n",
    "    def fit(self, train_features, train_target):\n",
    "        X = np.concatenate((np.ones((train_features.shape[0], 1)), train_features), axis=1)\n",
    "        y = train_target\n",
    "        w = np.linalg.inv(X.T@X)@X.T@y\n",
    "        self.w = w[1:]\n",
    "        self.w0 = w[0]\n",
    "\n",
    "    def predict(self, test_features):\n",
    "        return test_features.dot(self.w) + self.w0\n"
   ]
  },
  {
   "cell_type": "markdown",
   "metadata": {},
   "source": [
    "Обучим модель на исходных признаках и выведем на экран метрику качества R2"
   ]
  },
  {
   "cell_type": "code",
   "execution_count": 19,
   "metadata": {},
   "outputs": [
    {
     "name": "stdout",
     "output_type": "stream",
     "text": [
      "r2_score 0.430201\n"
     ]
    }
   ],
   "source": [
    "model = LinearRegression()\n",
    "model.fit(features, target)\n",
    "predictions = model.predict(features)\n",
    "r2 = r2_score(target, predictions)\n",
    "print('r2_score', r2.round(6))"
   ]
  },
  {
   "cell_type": "markdown",
   "metadata": {},
   "source": [
    "Обучим модель на измененных признаках и выведем на экран метрику качества R2"
   ]
  },
  {
   "cell_type": "code",
   "execution_count": 23,
   "metadata": {},
   "outputs": [
    {
     "name": "stdout",
     "output_type": "stream",
     "text": [
      "r2_score 0.430201\n"
     ]
    }
   ],
   "source": [
    "model = LinearRegression()\n",
    "model.fit(features_changed, target)\n",
    "predictions = model.predict(features_changed)\n",
    "r2 = r2_score(target, predictions)\n",
    "print('r2_score', r2.round(6))"
   ]
  },
  {
   "cell_type": "markdown",
   "metadata": {},
   "source": [
    "Метрики качества на изначальных и закодированных данных не отличаются."
   ]
  },
  {
   "cell_type": "markdown",
   "metadata": {},
   "source": [
    "**ВЫВОД**. \n",
    "\n",
    "От нас требовалось защитить данные клиентов страховой компании «Хоть потоп» и разработать такой метод преобразования данных, чтобы по ним было сложно восстановить персональную информацию.\n",
    "\n",
    "Преобразование требовалось произвести таким образом, чтобы по результату работы нашего алгоритма, качество моделей машинного обучения не ухудшилось.\n",
    "\n",
    "В результате нашей работы был разработан алгоритм, где данные были преобразованы методом умножения признаков исходных данных на обратимую матрицу. Результатом такого преобразования стала новая (изменённая) матрица признаков, которая при сравнении качества предсказаний сохранила значение R2 неизменным.\n",
    "\n",
    "Таким образом, данный алгоритм работает и может использоваться для защиты персональной информации клиентов."
   ]
  },
  {
   "cell_type": "code",
   "execution_count": null,
   "metadata": {},
   "outputs": [],
   "source": []
  }
 ],
 "metadata": {
  "ExecuteTimeLog": [
   {
    "duration": 1311,
    "start_time": "2022-12-05T14:19:00.745Z"
   },
   {
    "duration": 570,
    "start_time": "2022-12-05T14:19:12.446Z"
   },
   {
    "duration": 93,
    "start_time": "2022-12-05T14:20:06.301Z"
   },
   {
    "duration": 75,
    "start_time": "2022-12-05T14:20:52.641Z"
   },
   {
    "duration": 71,
    "start_time": "2022-12-05T14:21:01.074Z"
   },
   {
    "duration": 9,
    "start_time": "2022-12-05T14:21:07.140Z"
   },
   {
    "duration": 48,
    "start_time": "2022-12-05T14:21:32.568Z"
   },
   {
    "duration": 103,
    "start_time": "2022-12-05T14:21:52.974Z"
   },
   {
    "duration": 19,
    "start_time": "2022-12-05T14:22:03.895Z"
   },
   {
    "duration": 12,
    "start_time": "2022-12-05T14:22:19.318Z"
   },
   {
    "duration": 13,
    "start_time": "2022-12-05T14:22:44.793Z"
   },
   {
    "duration": 13,
    "start_time": "2022-12-05T14:23:12.420Z"
   },
   {
    "duration": 25,
    "start_time": "2022-12-05T14:23:26.084Z"
   },
   {
    "duration": 13,
    "start_time": "2022-12-05T14:34:48.157Z"
   },
   {
    "duration": 9121,
    "start_time": "2022-12-05T14:35:05.411Z"
   },
   {
    "duration": 7201,
    "start_time": "2022-12-05T14:35:51.593Z"
   },
   {
    "duration": 7541,
    "start_time": "2022-12-05T14:36:25.156Z"
   },
   {
    "duration": 7288,
    "start_time": "2022-12-05T14:36:50.923Z"
   },
   {
    "duration": 9119,
    "start_time": "2022-12-05T14:40:08.207Z"
   },
   {
    "duration": 8991,
    "start_time": "2022-12-05T14:45:29.553Z"
   },
   {
    "duration": 9479,
    "start_time": "2022-12-05T14:46:11.750Z"
   },
   {
    "duration": 9225,
    "start_time": "2022-12-05T14:47:16.148Z"
   },
   {
    "duration": 9231,
    "start_time": "2022-12-05T14:49:16.385Z"
   },
   {
    "duration": 17,
    "start_time": "2022-12-05T14:51:38.731Z"
   },
   {
    "duration": 9036,
    "start_time": "2022-12-05T14:51:46.749Z"
   },
   {
    "duration": 9445,
    "start_time": "2022-12-05T14:52:52.060Z"
   },
   {
    "duration": 9383,
    "start_time": "2022-12-05T14:53:20.014Z"
   },
   {
    "duration": 6,
    "start_time": "2022-12-05T14:56:33.144Z"
   },
   {
    "duration": 9370,
    "start_time": "2022-12-05T15:03:59.818Z"
   },
   {
    "duration": 7,
    "start_time": "2022-12-05T15:11:42.577Z"
   },
   {
    "duration": 9,
    "start_time": "2022-12-05T15:14:44.317Z"
   },
   {
    "duration": 7633,
    "start_time": "2022-12-05T15:19:49.645Z"
   },
   {
    "duration": 6,
    "start_time": "2022-12-05T15:29:25.937Z"
   },
   {
    "duration": 6,
    "start_time": "2022-12-05T15:29:28.669Z"
   },
   {
    "duration": 5,
    "start_time": "2022-12-05T15:31:01.951Z"
   },
   {
    "duration": 6,
    "start_time": "2022-12-05T15:34:10.772Z"
   },
   {
    "duration": 3,
    "start_time": "2022-12-05T16:09:56.295Z"
   },
   {
    "duration": 6,
    "start_time": "2022-12-05T16:12:45.967Z"
   },
   {
    "duration": 4,
    "start_time": "2022-12-05T16:16:57.403Z"
   },
   {
    "duration": 5,
    "start_time": "2022-12-05T16:17:03.382Z"
   },
   {
    "duration": 1457,
    "start_time": "2022-12-05T16:23:25.517Z"
   },
   {
    "duration": 29,
    "start_time": "2022-12-05T16:23:26.976Z"
   },
   {
    "duration": 14,
    "start_time": "2022-12-05T16:23:27.007Z"
   },
   {
    "duration": 13,
    "start_time": "2022-12-05T16:23:27.023Z"
   },
   {
    "duration": 36,
    "start_time": "2022-12-05T16:23:27.037Z"
   },
   {
    "duration": 7366,
    "start_time": "2022-12-05T16:23:27.075Z"
   },
   {
    "duration": 7,
    "start_time": "2022-12-05T16:23:34.442Z"
   },
   {
    "duration": 9,
    "start_time": "2022-12-05T16:23:34.450Z"
   },
   {
    "duration": 5,
    "start_time": "2022-12-05T16:23:34.461Z"
   },
   {
    "duration": 7,
    "start_time": "2022-12-05T16:23:34.468Z"
   },
   {
    "duration": 7,
    "start_time": "2022-12-05T16:23:34.477Z"
   },
   {
    "duration": 8,
    "start_time": "2022-12-05T16:23:34.486Z"
   },
   {
    "duration": 9,
    "start_time": "2022-12-05T18:40:51.940Z"
   },
   {
    "duration": 5,
    "start_time": "2022-12-05T18:40:59.690Z"
   },
   {
    "duration": 112,
    "start_time": "2022-12-05T18:41:55.565Z"
   },
   {
    "duration": 1471,
    "start_time": "2022-12-05T18:42:11.604Z"
   },
   {
    "duration": 28,
    "start_time": "2022-12-05T18:42:13.077Z"
   },
   {
    "duration": 15,
    "start_time": "2022-12-05T18:42:13.107Z"
   },
   {
    "duration": 12,
    "start_time": "2022-12-05T18:42:13.125Z"
   },
   {
    "duration": 38,
    "start_time": "2022-12-05T18:42:13.138Z"
   },
   {
    "duration": 8043,
    "start_time": "2022-12-05T18:42:13.178Z"
   },
   {
    "duration": 7,
    "start_time": "2022-12-05T18:42:21.223Z"
   },
   {
    "duration": 11,
    "start_time": "2022-12-05T18:42:21.232Z"
   },
   {
    "duration": 11,
    "start_time": "2022-12-05T18:42:21.245Z"
   },
   {
    "duration": 5,
    "start_time": "2022-12-05T18:42:21.259Z"
   },
   {
    "duration": 12,
    "start_time": "2022-12-05T18:42:21.266Z"
   },
   {
    "duration": 10,
    "start_time": "2022-12-05T18:42:21.280Z"
   },
   {
    "duration": 6,
    "start_time": "2022-12-05T19:23:38.441Z"
   },
   {
    "duration": 6,
    "start_time": "2022-12-05T19:25:29.549Z"
   },
   {
    "duration": 6,
    "start_time": "2022-12-05T19:31:13.164Z"
   },
   {
    "duration": 6,
    "start_time": "2022-12-05T19:31:16.999Z"
   },
   {
    "duration": 5,
    "start_time": "2022-12-05T19:37:35.261Z"
   },
   {
    "duration": 124,
    "start_time": "2022-12-05T19:38:44.181Z"
   },
   {
    "duration": 11,
    "start_time": "2022-12-05T19:42:35.701Z"
   },
   {
    "duration": 1593,
    "start_time": "2022-12-05T19:42:48.879Z"
   },
   {
    "duration": 30,
    "start_time": "2022-12-05T19:42:50.473Z"
   },
   {
    "duration": 13,
    "start_time": "2022-12-05T19:42:50.504Z"
   },
   {
    "duration": 12,
    "start_time": "2022-12-05T19:42:50.519Z"
   },
   {
    "duration": 34,
    "start_time": "2022-12-05T19:42:50.534Z"
   },
   {
    "duration": 7123,
    "start_time": "2022-12-05T19:42:50.569Z"
   },
   {
    "duration": 7,
    "start_time": "2022-12-05T19:42:57.694Z"
   },
   {
    "duration": 18,
    "start_time": "2022-12-05T19:42:57.704Z"
   },
   {
    "duration": 28,
    "start_time": "2022-12-05T19:42:57.725Z"
   },
   {
    "duration": 21,
    "start_time": "2022-12-05T19:42:57.756Z"
   },
   {
    "duration": 33,
    "start_time": "2022-12-05T19:42:57.778Z"
   },
   {
    "duration": 59,
    "start_time": "2022-12-05T19:42:57.813Z"
   },
   {
    "duration": 18,
    "start_time": "2022-12-05T19:42:57.874Z"
   },
   {
    "duration": 236,
    "start_time": "2022-12-05T19:42:57.894Z"
   },
   {
    "duration": 0,
    "start_time": "2022-12-05T19:42:58.151Z"
   },
   {
    "duration": 0,
    "start_time": "2022-12-05T19:42:58.153Z"
   },
   {
    "duration": 0,
    "start_time": "2022-12-05T19:42:58.154Z"
   },
   {
    "duration": 5,
    "start_time": "2022-12-05T19:44:40.427Z"
   },
   {
    "duration": 7,
    "start_time": "2022-12-05T19:44:56.439Z"
   },
   {
    "duration": 13,
    "start_time": "2022-12-05T20:13:47.412Z"
   },
   {
    "duration": 5,
    "start_time": "2022-12-05T20:16:01.869Z"
   },
   {
    "duration": 6,
    "start_time": "2022-12-05T20:16:05.336Z"
   },
   {
    "duration": 10,
    "start_time": "2022-12-05T20:19:18.905Z"
   },
   {
    "duration": 4,
    "start_time": "2022-12-05T20:19:27.921Z"
   },
   {
    "duration": 10,
    "start_time": "2022-12-05T20:25:05.997Z"
   },
   {
    "duration": 17,
    "start_time": "2022-12-05T20:25:59.324Z"
   },
   {
    "duration": 5,
    "start_time": "2022-12-05T20:26:55.929Z"
   },
   {
    "duration": 17,
    "start_time": "2022-12-05T20:27:04.738Z"
   },
   {
    "duration": 54,
    "start_time": "2022-12-05T20:28:20.198Z"
   },
   {
    "duration": 21,
    "start_time": "2022-12-05T20:31:27.147Z"
   },
   {
    "duration": 11,
    "start_time": "2022-12-05T20:34:17.994Z"
   },
   {
    "duration": 4,
    "start_time": "2022-12-05T20:34:38.304Z"
   },
   {
    "duration": 14,
    "start_time": "2022-12-05T20:49:45.323Z"
   },
   {
    "duration": 1427,
    "start_time": "2022-12-05T20:49:55.379Z"
   },
   {
    "duration": 29,
    "start_time": "2022-12-05T20:49:56.808Z"
   },
   {
    "duration": 16,
    "start_time": "2022-12-05T20:49:56.839Z"
   },
   {
    "duration": 14,
    "start_time": "2022-12-05T20:49:56.857Z"
   },
   {
    "duration": 33,
    "start_time": "2022-12-05T20:49:56.873Z"
   },
   {
    "duration": 7433,
    "start_time": "2022-12-05T20:49:56.908Z"
   },
   {
    "duration": 7,
    "start_time": "2022-12-05T20:50:04.343Z"
   },
   {
    "duration": 7,
    "start_time": "2022-12-05T20:50:04.353Z"
   },
   {
    "duration": 10,
    "start_time": "2022-12-05T20:50:04.362Z"
   },
   {
    "duration": 14,
    "start_time": "2022-12-05T20:50:04.374Z"
   },
   {
    "duration": 8,
    "start_time": "2022-12-05T20:50:04.391Z"
   },
   {
    "duration": 15,
    "start_time": "2022-12-05T20:50:04.401Z"
   },
   {
    "duration": 5,
    "start_time": "2022-12-05T20:50:04.420Z"
   },
   {
    "duration": 26,
    "start_time": "2022-12-05T20:50:04.427Z"
   },
   {
    "duration": 96,
    "start_time": "2022-12-05T20:50:04.455Z"
   },
   {
    "duration": 5,
    "start_time": "2022-12-05T21:01:18.943Z"
   },
   {
    "duration": 6,
    "start_time": "2022-12-05T21:03:32.285Z"
   },
   {
    "duration": 4,
    "start_time": "2022-12-05T21:05:10.584Z"
   },
   {
    "duration": 144,
    "start_time": "2022-12-05T21:06:29.267Z"
   },
   {
    "duration": 1471,
    "start_time": "2022-12-05T21:06:41.771Z"
   },
   {
    "duration": 29,
    "start_time": "2022-12-05T21:06:43.244Z"
   },
   {
    "duration": 14,
    "start_time": "2022-12-05T21:06:43.275Z"
   },
   {
    "duration": 12,
    "start_time": "2022-12-05T21:06:43.292Z"
   },
   {
    "duration": 23,
    "start_time": "2022-12-05T21:06:43.306Z"
   },
   {
    "duration": 7421,
    "start_time": "2022-12-05T21:06:43.331Z"
   },
   {
    "duration": 6,
    "start_time": "2022-12-05T21:06:50.754Z"
   },
   {
    "duration": 9,
    "start_time": "2022-12-05T21:06:50.761Z"
   },
   {
    "duration": 9,
    "start_time": "2022-12-05T21:06:50.772Z"
   },
   {
    "duration": 5,
    "start_time": "2022-12-05T21:06:50.784Z"
   },
   {
    "duration": 9,
    "start_time": "2022-12-05T21:06:50.791Z"
   },
   {
    "duration": 51,
    "start_time": "2022-12-05T21:06:50.802Z"
   },
   {
    "duration": 4,
    "start_time": "2022-12-05T21:06:50.855Z"
   },
   {
    "duration": 11,
    "start_time": "2022-12-05T21:06:50.860Z"
   },
   {
    "duration": 15,
    "start_time": "2022-12-05T21:06:50.873Z"
   },
   {
    "duration": 67,
    "start_time": "2022-12-05T21:06:50.890Z"
   },
   {
    "duration": 95,
    "start_time": "2022-12-05T21:06:50.960Z"
   },
   {
    "duration": 7,
    "start_time": "2022-12-05T21:06:51.057Z"
   },
   {
    "duration": 86,
    "start_time": "2022-12-05T21:06:51.065Z"
   },
   {
    "duration": 10,
    "start_time": "2022-12-05T21:09:33.803Z"
   },
   {
    "duration": 5,
    "start_time": "2022-12-05T21:09:36.666Z"
   },
   {
    "duration": 112,
    "start_time": "2022-12-05T21:10:19.953Z"
   },
   {
    "duration": 7,
    "start_time": "2022-12-05T21:10:48.039Z"
   },
   {
    "duration": 69,
    "start_time": "2022-12-05T21:11:42.683Z"
   },
   {
    "duration": 9,
    "start_time": "2022-12-05T21:11:54.237Z"
   },
   {
    "duration": 1538,
    "start_time": "2022-12-06T11:48:06.987Z"
   },
   {
    "duration": 99,
    "start_time": "2022-12-06T11:48:08.527Z"
   },
   {
    "duration": 14,
    "start_time": "2022-12-06T11:48:08.628Z"
   },
   {
    "duration": 12,
    "start_time": "2022-12-06T11:48:08.644Z"
   },
   {
    "duration": 36,
    "start_time": "2022-12-06T11:48:08.659Z"
   },
   {
    "duration": 7341,
    "start_time": "2022-12-06T11:48:08.697Z"
   },
   {
    "duration": 6,
    "start_time": "2022-12-06T11:48:16.040Z"
   },
   {
    "duration": 7,
    "start_time": "2022-12-06T11:48:16.048Z"
   },
   {
    "duration": 10,
    "start_time": "2022-12-06T11:48:16.056Z"
   },
   {
    "duration": 4,
    "start_time": "2022-12-06T11:48:16.069Z"
   },
   {
    "duration": 9,
    "start_time": "2022-12-06T11:48:16.074Z"
   },
   {
    "duration": 6,
    "start_time": "2022-12-06T11:48:16.085Z"
   },
   {
    "duration": 7,
    "start_time": "2022-12-06T11:48:16.092Z"
   },
   {
    "duration": 40,
    "start_time": "2022-12-06T11:48:16.101Z"
   },
   {
    "duration": 9,
    "start_time": "2022-12-06T11:48:16.143Z"
   },
   {
    "duration": 8,
    "start_time": "2022-12-06T11:48:16.154Z"
   },
   {
    "duration": 84,
    "start_time": "2022-12-06T11:48:16.164Z"
   },
   {
    "duration": 90,
    "start_time": "2022-12-06T11:48:16.251Z"
   },
   {
    "duration": 10,
    "start_time": "2022-12-06T11:48:16.343Z"
   },
   {
    "duration": 189,
    "start_time": "2022-12-06T11:48:16.354Z"
   },
   {
    "duration": 8,
    "start_time": "2022-12-06T11:52:28.201Z"
   },
   {
    "duration": 4,
    "start_time": "2022-12-06T13:03:35.115Z"
   },
   {
    "duration": 4,
    "start_time": "2022-12-06T13:03:48.368Z"
   },
   {
    "duration": 6,
    "start_time": "2022-12-06T13:04:03.757Z"
   },
   {
    "duration": 4,
    "start_time": "2022-12-06T13:04:18.650Z"
   },
   {
    "duration": 1366,
    "start_time": "2022-12-06T13:06:12.486Z"
   },
   {
    "duration": 28,
    "start_time": "2022-12-06T13:06:13.854Z"
   },
   {
    "duration": 16,
    "start_time": "2022-12-06T13:06:13.884Z"
   },
   {
    "duration": 36,
    "start_time": "2022-12-06T13:06:13.902Z"
   },
   {
    "duration": 46,
    "start_time": "2022-12-06T13:06:13.940Z"
   },
   {
    "duration": 7441,
    "start_time": "2022-12-06T13:06:13.989Z"
   },
   {
    "duration": 6,
    "start_time": "2022-12-06T13:06:21.432Z"
   },
   {
    "duration": 7,
    "start_time": "2022-12-06T13:06:21.439Z"
   },
   {
    "duration": 8,
    "start_time": "2022-12-06T13:06:21.447Z"
   },
   {
    "duration": 4,
    "start_time": "2022-12-06T13:06:21.457Z"
   },
   {
    "duration": 6,
    "start_time": "2022-12-06T13:06:21.462Z"
   },
   {
    "duration": 9,
    "start_time": "2022-12-06T13:06:21.470Z"
   },
   {
    "duration": 9,
    "start_time": "2022-12-06T13:06:21.481Z"
   },
   {
    "duration": 12,
    "start_time": "2022-12-06T13:06:21.491Z"
   },
   {
    "duration": 37,
    "start_time": "2022-12-06T13:06:21.505Z"
   },
   {
    "duration": 9,
    "start_time": "2022-12-06T13:06:21.545Z"
   },
   {
    "duration": 97,
    "start_time": "2022-12-06T13:06:21.557Z"
   },
   {
    "duration": 85,
    "start_time": "2022-12-06T13:06:21.657Z"
   },
   {
    "duration": 11,
    "start_time": "2022-12-06T13:06:21.743Z"
   },
   {
    "duration": 189,
    "start_time": "2022-12-06T13:06:21.755Z"
   },
   {
    "duration": 7,
    "start_time": "2022-12-06T13:15:10.332Z"
   },
   {
    "duration": 11,
    "start_time": "2022-12-06T13:16:41.068Z"
   },
   {
    "duration": 15,
    "start_time": "2022-12-06T13:16:50.690Z"
   },
   {
    "duration": 13,
    "start_time": "2022-12-06T13:17:11.877Z"
   },
   {
    "duration": 1219,
    "start_time": "2022-12-06T13:32:07.273Z"
   },
   {
    "duration": 29,
    "start_time": "2022-12-06T13:32:08.495Z"
   },
   {
    "duration": 12,
    "start_time": "2022-12-06T13:32:08.526Z"
   },
   {
    "duration": 12,
    "start_time": "2022-12-06T13:32:08.541Z"
   },
   {
    "duration": 24,
    "start_time": "2022-12-06T13:32:08.555Z"
   },
   {
    "duration": 7036,
    "start_time": "2022-12-06T13:32:08.581Z"
   },
   {
    "duration": 7,
    "start_time": "2022-12-06T13:32:15.618Z"
   },
   {
    "duration": 9,
    "start_time": "2022-12-06T13:32:15.626Z"
   },
   {
    "duration": 8,
    "start_time": "2022-12-06T13:32:15.637Z"
   },
   {
    "duration": 4,
    "start_time": "2022-12-06T13:32:15.647Z"
   },
   {
    "duration": 6,
    "start_time": "2022-12-06T13:32:15.653Z"
   },
   {
    "duration": 42,
    "start_time": "2022-12-06T13:32:15.660Z"
   },
   {
    "duration": 14,
    "start_time": "2022-12-06T13:32:15.704Z"
   },
   {
    "duration": 7,
    "start_time": "2022-12-06T13:32:15.720Z"
   },
   {
    "duration": 11,
    "start_time": "2022-12-06T13:32:15.729Z"
   },
   {
    "duration": 54,
    "start_time": "2022-12-06T13:32:15.742Z"
   },
   {
    "duration": 14,
    "start_time": "2022-12-06T13:32:15.799Z"
   },
   {
    "duration": 86,
    "start_time": "2022-12-06T13:32:15.815Z"
   },
   {
    "duration": 17,
    "start_time": "2022-12-06T13:32:15.902Z"
   },
   {
    "duration": 177,
    "start_time": "2022-12-06T13:32:15.921Z"
   },
   {
    "duration": 57,
    "start_time": "2022-12-08T13:17:39.250Z"
   },
   {
    "duration": 1796,
    "start_time": "2022-12-08T13:17:51.781Z"
   },
   {
    "duration": 111,
    "start_time": "2022-12-08T13:17:53.580Z"
   },
   {
    "duration": 16,
    "start_time": "2022-12-08T13:17:53.692Z"
   },
   {
    "duration": 14,
    "start_time": "2022-12-08T13:17:53.710Z"
   },
   {
    "duration": 35,
    "start_time": "2022-12-08T13:17:53.727Z"
   },
   {
    "duration": 7873,
    "start_time": "2022-12-08T13:17:53.764Z"
   },
   {
    "duration": 6,
    "start_time": "2022-12-08T13:18:01.638Z"
   },
   {
    "duration": 51,
    "start_time": "2022-12-08T13:18:01.646Z"
   },
   {
    "duration": 56,
    "start_time": "2022-12-08T13:18:01.698Z"
   },
   {
    "duration": 453,
    "start_time": "2022-12-08T13:18:01.757Z"
   },
   {
    "duration": 4,
    "start_time": "2022-12-08T13:18:02.212Z"
   },
   {
    "duration": 10,
    "start_time": "2022-12-08T13:18:02.219Z"
   },
   {
    "duration": 22,
    "start_time": "2022-12-08T13:18:02.231Z"
   },
   {
    "duration": 11,
    "start_time": "2022-12-08T13:18:02.255Z"
   },
   {
    "duration": 26,
    "start_time": "2022-12-08T13:18:02.268Z"
   },
   {
    "duration": 11,
    "start_time": "2022-12-08T13:18:02.296Z"
   },
   {
    "duration": 46,
    "start_time": "2022-12-08T13:18:02.309Z"
   },
   {
    "duration": 116,
    "start_time": "2022-12-08T13:18:02.358Z"
   },
   {
    "duration": 28,
    "start_time": "2022-12-08T13:18:02.477Z"
   },
   {
    "duration": 45,
    "start_time": "2022-12-08T13:18:02.508Z"
   },
   {
    "duration": 212,
    "start_time": "2022-12-08T13:18:02.555Z"
   },
   {
    "duration": 345,
    "start_time": "2022-12-08T13:18:33.417Z"
   },
   {
    "duration": 6,
    "start_time": "2022-12-08T13:19:13.251Z"
   },
   {
    "duration": 4,
    "start_time": "2022-12-08T13:28:24.265Z"
   },
   {
    "duration": 4,
    "start_time": "2022-12-08T13:47:11.111Z"
   },
   {
    "duration": 124,
    "start_time": "2022-12-08T13:47:14.198Z"
   },
   {
    "duration": 10,
    "start_time": "2022-12-08T13:49:22.994Z"
   },
   {
    "duration": 4,
    "start_time": "2022-12-08T13:49:35.767Z"
   },
   {
    "duration": 1581,
    "start_time": "2022-12-08T13:49:54.358Z"
   },
   {
    "duration": 41,
    "start_time": "2022-12-08T13:49:55.941Z"
   },
   {
    "duration": 17,
    "start_time": "2022-12-08T13:49:55.984Z"
   },
   {
    "duration": 21,
    "start_time": "2022-12-08T13:49:56.004Z"
   },
   {
    "duration": 34,
    "start_time": "2022-12-08T13:49:56.028Z"
   },
   {
    "duration": 7965,
    "start_time": "2022-12-08T13:49:56.064Z"
   },
   {
    "duration": 7,
    "start_time": "2022-12-08T13:50:04.032Z"
   },
   {
    "duration": 15,
    "start_time": "2022-12-08T13:50:04.042Z"
   },
   {
    "duration": 10,
    "start_time": "2022-12-08T13:50:04.060Z"
   },
   {
    "duration": 322,
    "start_time": "2022-12-08T13:50:04.075Z"
   },
   {
    "duration": 6,
    "start_time": "2022-12-08T13:50:04.399Z"
   },
   {
    "duration": 8,
    "start_time": "2022-12-08T13:50:04.407Z"
   },
   {
    "duration": 8,
    "start_time": "2022-12-08T13:50:04.418Z"
   },
   {
    "duration": 12,
    "start_time": "2022-12-08T13:50:04.450Z"
   },
   {
    "duration": 13,
    "start_time": "2022-12-08T13:50:04.464Z"
   },
   {
    "duration": 14,
    "start_time": "2022-12-08T13:50:04.479Z"
   },
   {
    "duration": 19,
    "start_time": "2022-12-08T13:50:04.495Z"
   },
   {
    "duration": 23,
    "start_time": "2022-12-08T13:50:04.515Z"
   },
   {
    "duration": 184,
    "start_time": "2022-12-08T13:50:04.541Z"
   },
   {
    "duration": 0,
    "start_time": "2022-12-08T13:50:04.727Z"
   },
   {
    "duration": 0,
    "start_time": "2022-12-08T13:50:04.730Z"
   },
   {
    "duration": 0,
    "start_time": "2022-12-08T13:50:04.732Z"
   },
   {
    "duration": 0,
    "start_time": "2022-12-08T13:50:04.734Z"
   },
   {
    "duration": 155,
    "start_time": "2022-12-08T13:50:34.097Z"
   },
   {
    "duration": 14,
    "start_time": "2022-12-08T13:50:37.770Z"
   },
   {
    "duration": 5,
    "start_time": "2022-12-08T13:52:31.711Z"
   },
   {
    "duration": 6,
    "start_time": "2022-12-08T13:52:37.837Z"
   },
   {
    "duration": 11,
    "start_time": "2022-12-08T13:54:03.238Z"
   },
   {
    "duration": 11,
    "start_time": "2022-12-08T13:54:09.817Z"
   },
   {
    "duration": 1548,
    "start_time": "2022-12-08T13:54:24.065Z"
   },
   {
    "duration": 30,
    "start_time": "2022-12-08T13:54:25.615Z"
   },
   {
    "duration": 21,
    "start_time": "2022-12-08T13:54:25.647Z"
   },
   {
    "duration": 23,
    "start_time": "2022-12-08T13:54:25.670Z"
   },
   {
    "duration": 25,
    "start_time": "2022-12-08T13:54:25.695Z"
   },
   {
    "duration": 7988,
    "start_time": "2022-12-08T13:54:25.721Z"
   },
   {
    "duration": 7,
    "start_time": "2022-12-08T13:54:33.711Z"
   },
   {
    "duration": 9,
    "start_time": "2022-12-08T13:54:33.720Z"
   },
   {
    "duration": 19,
    "start_time": "2022-12-08T13:54:33.731Z"
   },
   {
    "duration": 320,
    "start_time": "2022-12-08T13:54:33.754Z"
   },
   {
    "duration": 5,
    "start_time": "2022-12-08T13:54:34.076Z"
   },
   {
    "duration": 11,
    "start_time": "2022-12-08T13:54:34.083Z"
   },
   {
    "duration": 8,
    "start_time": "2022-12-08T13:54:34.095Z"
   },
   {
    "duration": 11,
    "start_time": "2022-12-08T13:54:34.104Z"
   },
   {
    "duration": 4,
    "start_time": "2022-12-08T13:54:34.116Z"
   },
   {
    "duration": 6,
    "start_time": "2022-12-08T13:54:34.122Z"
   },
   {
    "duration": 24,
    "start_time": "2022-12-08T13:54:34.129Z"
   },
   {
    "duration": 263,
    "start_time": "2022-12-08T13:54:34.155Z"
   },
   {
    "duration": 0,
    "start_time": "2022-12-08T13:54:34.420Z"
   },
   {
    "duration": 0,
    "start_time": "2022-12-08T13:54:34.421Z"
   },
   {
    "duration": 0,
    "start_time": "2022-12-08T13:54:34.424Z"
   },
   {
    "duration": 0,
    "start_time": "2022-12-08T13:54:34.425Z"
   },
   {
    "duration": 13,
    "start_time": "2022-12-08T13:54:46.811Z"
   },
   {
    "duration": 20,
    "start_time": "2022-12-08T13:54:50.650Z"
   },
   {
    "duration": 4,
    "start_time": "2022-12-08T13:55:14.529Z"
   },
   {
    "duration": 14,
    "start_time": "2022-12-08T13:55:19.624Z"
   },
   {
    "duration": 13,
    "start_time": "2022-12-08T13:55:26.637Z"
   }
  ],
  "kernelspec": {
   "display_name": "Python 3 (ipykernel)",
   "language": "python",
   "name": "python3"
  },
  "language_info": {
   "codemirror_mode": {
    "name": "ipython",
    "version": 3
   },
   "file_extension": ".py",
   "mimetype": "text/x-python",
   "name": "python",
   "nbconvert_exporter": "python",
   "pygments_lexer": "ipython3",
   "version": "3.9.5"
  },
  "toc": {
   "base_numbering": 1,
   "nav_menu": {},
   "number_sections": true,
   "sideBar": true,
   "skip_h1_title": true,
   "title_cell": "Содержание",
   "title_sidebar": "Contents",
   "toc_cell": true,
   "toc_position": {},
   "toc_section_display": true,
   "toc_window_display": false
  }
 },
 "nbformat": 4,
 "nbformat_minor": 2
}
